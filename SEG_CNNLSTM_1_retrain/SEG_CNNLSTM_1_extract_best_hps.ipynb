{
 "metadata": {
  "language_info": {
   "codemirror_mode": {
    "name": "ipython",
    "version": 3
   },
   "file_extension": ".py",
   "mimetype": "text/x-python",
   "name": "python",
   "nbconvert_exporter": "python",
   "pygments_lexer": "ipython3",
   "version": "3.7.6-final"
  },
  "orig_nbformat": 2,
  "kernelspec": {
   "name": "python3",
   "display_name": "Python 3"
  }
 },
 "nbformat": 4,
 "nbformat_minor": 2,
 "cells": [
  {
   "cell_type": "code",
   "execution_count": 42,
   "metadata": {},
   "outputs": [],
   "source": [
    "import json\n",
    "import glob"
   ]
  },
  {
   "cell_type": "code",
   "execution_count": null,
   "metadata": {},
   "outputs": [],
   "source": [
    "hyper_tuning_version = \"ht_1\""
   ]
  },
  {
   "cell_type": "code",
   "execution_count": 43,
   "metadata": {},
   "outputs": [],
   "source": [
    "hp_scores = dict()\n",
    "hp_values = dict()\n",
    "\n",
    "for hp_path in glob.glob(\"hps/{}/*.json\".format(hyper_tuning_version)):\n",
    "    with open(hp_path, \"r\") as j:\n",
    "        hp = json.load(j)\n",
    "        if hp[\"score\"] != None:\n",
    "            hp_scores.update({hp[\"score\"]: hp_path})\n",
    "            hp_values.update({hp_path: hp[\"hyperparameters\"][\"values\"]})"
   ]
  },
  {
   "cell_type": "code",
   "execution_count": 44,
   "metadata": {},
   "outputs": [],
   "source": [
    "hp_scores = sorted(hp_scores.items())\n",
    "\n",
    "for i in range(10):\n",
    "    with open(\"best_hps/{}/best_hp_{}.json\".format(hyper_tuning_version, i), \"w\") as j:\n",
    "        json.dump(hp_values[hp_scores[i][1]], j, indent=4)"
   ]
  },
  {
   "cell_type": "code",
   "execution_count": null,
   "metadata": {},
   "outputs": [],
   "source": []
  }
 ]
}