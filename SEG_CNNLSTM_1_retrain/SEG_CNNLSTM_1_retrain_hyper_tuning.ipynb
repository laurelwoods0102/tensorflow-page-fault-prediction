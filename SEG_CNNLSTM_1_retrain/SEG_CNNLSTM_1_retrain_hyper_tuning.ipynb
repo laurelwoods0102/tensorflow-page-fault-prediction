{
 "metadata": {
  "language_info": {
   "codemirror_mode": {
    "name": "ipython",
    "version": 3
   },
   "file_extension": ".py",
   "mimetype": "text/x-python",
   "name": "python",
   "nbconvert_exporter": "python",
   "pygments_lexer": "ipython3",
   "version": "3.7.6-final"
  },
  "orig_nbformat": 2,
  "kernelspec": {
   "name": "python3",
   "display_name": "Python 3"
  }
 },
 "nbformat": 4,
 "nbformat_minor": 2,
 "cells": [
  {
   "cell_type": "code",
   "execution_count": 1,
   "metadata": {},
   "outputs": [],
   "source": [
    "import tensorflow as tf\n",
    "from tensorflow import keras\n",
    "import kerastuner\n",
    "import numpy as np\n",
    "import pandas as pd\n",
    "import dill"
   ]
  },
  {
   "cell_type": "code",
   "execution_count": 2,
   "metadata": {},
   "outputs": [],
   "source": [
    "physical_devices = tf.config.list_physical_devices('GPU')\n",
    "tf.config.experimental.set_memory_growth(physical_devices[0], enable=True)"
   ]
  },
  {
   "cell_type": "code",
   "execution_count": 3,
   "metadata": {},
   "outputs": [],
   "source": [
    "dataset_name = \"SEG_CNNLSTM_1_retrain\""
   ]
  },
  {
   "cell_type": "code",
   "execution_count": 4,
   "metadata": {},
   "outputs": [],
   "source": [
    "hyper_tuning_version = \"ht_1\""
   ]
  },
  {
   "cell_type": "code",
   "execution_count": 5,
   "metadata": {},
   "outputs": [],
   "source": [
    "param_list = dict()\n",
    "\n",
    "param_list[\"PAST_HISTORY\"] = 64     # Hparam\n",
    "param_list[\"FUTURE_TARGET\"] = 8\n",
    "param_list[\"BATCH_SIZE\"] = 128\n",
    "param_list[\"EPOCHS\"] = 1000\n",
    "param_list[\"BUFFER_SIZE\"] = 200000\n",
    "param_list[\"VOCAB_SIZE\"] = 16293    #vocab_size"
   ]
  },
  {
   "cell_type": "code",
   "execution_count": 6,
   "metadata": {},
   "outputs": [],
   "source": [
    "train_set = np.genfromtxt(\"data/{}_train_set.csv\".format(dataset_name), delimiter=\"\\n\", dtype=np.int64)"
   ]
  },
  {
   "cell_type": "code",
   "execution_count": 7,
   "metadata": {},
   "outputs": [],
   "source": [
    "x_train = tf.data.Dataset.from_tensor_slices(train_set[:-param_list[\"FUTURE_TARGET\"]]).window(param_list[\"PAST_HISTORY\"], 1, 1, True)\n",
    "# As dataset.window() returns \"dataset\", not \"tensor\", need to flat_map() it with sequence length\n",
    "x_train = x_train.flat_map(lambda x: x.batch(param_list[\"PAST_HISTORY\"])) \n",
    "x_train = x_train.map(lambda x: tf.one_hot(x, param_list[\"VOCAB_SIZE\"], axis=-1))\n",
    "x_train = x_train.batch(param_list[\"BATCH_SIZE\"])"
   ]
  },
  {
   "cell_type": "code",
   "execution_count": 8,
   "metadata": {},
   "outputs": [],
   "source": [
    "y_train = tf.data.Dataset.from_tensor_slices(train_set[param_list[\"PAST_HISTORY\"]:]).window(param_list[\"FUTURE_TARGET\"], 1, 1, True)\n",
    "y_train = y_train.flat_map(lambda y: y.batch(param_list[\"FUTURE_TARGET\"]))\n",
    "y_train = y_train.map(lambda y: tf.one_hot(y, param_list[\"VOCAB_SIZE\"], axis=-1))\n",
    "y_train = y_train.batch(param_list[\"BATCH_SIZE\"])"
   ]
  },
  {
   "cell_type": "code",
   "execution_count": 9,
   "metadata": {},
   "outputs": [],
   "source": [
    "train_data = tf.data.Dataset.zip((x_train, y_train))"
   ]
  },
  {
   "cell_type": "code",
   "execution_count": 10,
   "metadata": {},
   "outputs": [],
   "source": [
    "val_set = np.genfromtxt(\"data/{}_val_set.csv\".format(dataset_name), delimiter=\"\\n\", dtype=np.int64)"
   ]
  },
  {
   "cell_type": "code",
   "execution_count": 11,
   "metadata": {},
   "outputs": [],
   "source": [
    "x_val = tf.data.Dataset.from_tensor_slices(val_set[:-param_list[\"FUTURE_TARGET\"]]).window(param_list[\"PAST_HISTORY\"], 1, 1, True)\n",
    "x_val = x_val.flat_map(lambda x: x.batch(param_list[\"PAST_HISTORY\"]))\n",
    "x_val = x_val.map(lambda x: tf.one_hot(x, param_list[\"VOCAB_SIZE\"], axis=-1))\n",
    "x_val = x_val.batch(param_list[\"BATCH_SIZE\"])"
   ]
  },
  {
   "cell_type": "code",
   "execution_count": 12,
   "metadata": {},
   "outputs": [],
   "source": [
    "y_val = tf.data.Dataset.from_tensor_slices(val_set[param_list[\"PAST_HISTORY\"]:]).window(param_list[\"FUTURE_TARGET\"], 1, 1, True)\n",
    "y_val = y_val.flat_map(lambda y: y.batch(param_list[\"FUTURE_TARGET\"]))\n",
    "y_val = y_val.map(lambda y: tf.one_hot(y, param_list[\"VOCAB_SIZE\"], axis=-1))\n",
    "y_val = y_val.batch(param_list[\"BATCH_SIZE\"])"
   ]
  },
  {
   "cell_type": "code",
   "execution_count": 13,
   "metadata": {},
   "outputs": [],
   "source": [
    "val_data = tf.data.Dataset.zip((x_val, y_val))"
   ]
  },
  {
   "cell_type": "code",
   "execution_count": 14,
   "metadata": {},
   "outputs": [],
   "source": [
    "def build_model(hp):\n",
    "    model = keras.models.Sequential()\n",
    "    model.add(keras.layers.Conv1D(\n",
    "        filters=hp.Int(\"FILTERS\", min_value=8, max_value=256, step=8), \n",
    "        kernel_size=hp.Int(\"KERNEL_SIZE\", min_value=8, max_value=param_list[\"PAST_HISTORY\"], step=8),\n",
    "        padding=\"causal\", activation='relu'))\n",
    "    model.add(keras.layers.MaxPooling1D(\n",
    "        pool_size=hp.Int(\"POOL_SIZE\", min_value=2, max_value=8, step=2)\n",
    "        ))\n",
    "    model.add(keras.layers.Bidirectional(keras.layers.LSTM(\n",
    "        hp.Int(\"NUM_1_NEURONS\", min_value=32, max_value=256, step=8)\n",
    "        )))\n",
    "    model.add(keras.layers.Dropout(\n",
    "        hp.Float(\"DROPOUT_1\", min_value=0.1, max_value=0.5, step=0.05)\n",
    "        ))\n",
    "    model.add(keras.layers.RepeatVector(param_list[\"FUTURE_TARGET\"]))\n",
    "    model.add(keras.layers.Bidirectional(keras.layers.LSTM(\n",
    "        hp.Int(\"NUM_2_NEURONS\", min_value=32, max_value=256, step=8),\n",
    "        return_sequences=True)))\n",
    "    model.add(keras.layers.Dropout(\n",
    "        hp.Float(\"DROPOUT_2\", min_value=0.1, max_value=0.5, step=0.05)\n",
    "        ))\n",
    "    model.add(keras.layers.TimeDistributed(keras.layers.Dense(param_list[\"VOCAB_SIZE\"], activation='softmax')))\n",
    "\n",
    "    model.compile(optimizer=keras.optimizers.Nadam(\n",
    "        hp.Choice(\"LEARNING_RATE\", [1e-2, 1e-3, 1e-4])),\n",
    "        loss='categorical_crossentropy', metrics=['accuracy'])\n",
    "\n",
    "    return model"
   ]
  },
  {
   "cell_type": "code",
   "execution_count": 15,
   "metadata": {},
   "outputs": [],
   "source": [
    "tuner = kerastuner.Hyperband(\n",
    "    build_model,\n",
    "    \"val_loss\",\n",
    "    max_epochs=10,\n",
    "    factor=3,\n",
    "    hyperband_iterations=3,\n",
    "    #distribution_strategy=tf.distribute.MirroredStrategy(),\n",
    "    #directory=\"tuner_results\",\n",
    "    project_name=hyper_tuning_version\n",
    ")"
   ]
  },
  {
   "cell_type": "code",
   "execution_count": 16,
   "metadata": {},
   "outputs": [],
   "source": [
    "from IPython.display import clear_output\n",
    "\n",
    "class ClearTrainingOutput(tf.keras.callbacks.Callback):\n",
    "  def on_train_end(*args, **kwargs):\n",
    "    clear_output(wait = True)"
   ]
  },
  {
   "cell_type": "code",
   "execution_count": 17,
   "metadata": {},
   "outputs": [
    {
     "output_type": "stream",
     "name": "stdout",
     "text": [
      "Epoch 1/2\n"
     ]
    }
   ],
   "source": [
    "tuner.search(train_data, epochs=10, validation_data=val_data, callbacks=[\n",
    "    ClearTrainingOutput(), keras.callbacks.EarlyStopping(monitor=\"val_loss\", patience=5)])"
   ]
  },
  {
   "cell_type": "code",
   "execution_count": null,
   "metadata": {},
   "outputs": [],
   "source": [
    "for i, hp in enumerate(tuner.get_best_hyperparameters(num_trials=10)):\n",
    "    with open(\"{}_best_hp_{}.pkl\".format(hyper_tuning_version, i), \"wb\") as f:\n",
    "        dill.dump(hp, f)"
   ]
  }
 ]
}