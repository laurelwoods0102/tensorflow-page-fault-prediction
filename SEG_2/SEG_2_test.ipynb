{
 "metadata": {
  "language_info": {
   "codemirror_mode": {
    "name": "ipython",
    "version": 3
   },
   "file_extension": ".py",
   "mimetype": "text/x-python",
   "name": "python",
   "nbconvert_exporter": "python",
   "pygments_lexer": "ipython3",
   "version": "3.7.6-final"
  },
  "orig_nbformat": 2,
  "kernelspec": {
   "name": "python_defaultSpec_1598429613177",
   "display_name": "Python 3.7.6 64-bit ('ProgramData': virtualenv)"
  }
 },
 "nbformat": 4,
 "nbformat_minor": 2,
 "cells": [
  {
   "cell_type": "code",
   "execution_count": 53,
   "metadata": {},
   "outputs": [],
   "source": [
    "import tensorflow as tf\n",
    "from tensorflow import keras\n",
    "import numpy as np\n",
    "import pandas as pd\n",
    "import matplotlib\n",
    "import matplotlib.pyplot as plt\n",
    "import os\n",
    "import json\n",
    "import datetime\n",
    "\n",
    "plt.rcParams[\"figure.figsize\"] = (20, 5)\n",
    "\n",
    "physical_devices = tf.config.list_physical_devices('GPU')\n",
    "tf.config.experimental.set_memory_growth(physical_devices[0], enable=True)"
   ]
  },
  {
   "cell_type": "code",
   "execution_count": 54,
   "metadata": {},
   "outputs": [
    {
     "output_type": "execute_result",
     "data": {
      "text/plain": "'20200826-201949'"
     },
     "metadata": {},
     "execution_count": 54
    }
   ],
   "source": [
    "timestamp = \"20200826-201949\"\n",
    "timestamp"
   ]
  },
  {
   "cell_type": "code",
   "execution_count": 55,
   "metadata": {},
   "outputs": [],
   "source": [
    "dataset_name = \"SEG_2\""
   ]
  },
  {
   "cell_type": "code",
   "execution_count": 56,
   "metadata": {},
   "outputs": [
    {
     "output_type": "execute_result",
     "data": {
      "text/plain": "array([93617988376, 93536062752, 93747035368, ..., 92658792872,\n       92658792864, 92654987192], dtype=int64)"
     },
     "metadata": {},
     "execution_count": 56
    }
   ],
   "source": [
    "data = np.genfromtxt(\"data/{}_test_set.csv\".format(dataset_name), delimiter=\"\\n\", dtype=np.int64)\n",
    "data"
   ]
  },
  {
   "cell_type": "code",
   "execution_count": 57,
   "metadata": {},
   "outputs": [
    {
     "output_type": "execute_result",
     "data": {
      "text/plain": "(array([ -81925624,  210972616, -189258952, ...,   36097352,         -8,\n          -3805672], dtype=int64),\n 59298)"
     },
     "metadata": {},
     "execution_count": 57
    }
   ],
   "source": [
    "dataset = np.array([data[i+1] - data[i] for i in range(int(len(data))-1)])\n",
    "dataset, len(dataset)"
   ]
  },
  {
   "cell_type": "code",
   "execution_count": 58,
   "metadata": {},
   "outputs": [
    {
     "output_type": "execute_result",
     "data": {
      "text/plain": "14882"
     },
     "metadata": {},
     "execution_count": 58
    }
   ],
   "source": [
    "word_index = np.genfromtxt(\"data/word_index.csv\", delimiter=\"\\n\", dtype=np.int64)\n",
    "vocab_size = len(word_index)\n",
    "vocab_size"
   ]
  },
  {
   "cell_type": "code",
   "execution_count": 59,
   "metadata": {},
   "outputs": [
    {
     "output_type": "execute_result",
     "data": {
      "text/plain": "{-1: 0,\n 0: 1,\n 4096: 2,\n 909517620: 3,\n -909517620: 4,\n 8192: 5,\n -8: 6,\n -4096: 7,\n 8: 8,\n 12288: 9}"
     },
     "metadata": {},
     "execution_count": 59
    }
   ],
   "source": [
    "vocabulary = {word_index[i]:i for i in range(vocab_size)}\n",
    "dict(list(vocabulary.items())[0:10])"
   ]
  },
  {
   "cell_type": "code",
   "execution_count": 60,
   "metadata": {},
   "outputs": [
    {
     "output_type": "execute_result",
     "data": {
      "text/plain": "array([       -1,         0,      4096, ...,  -7445040,  12889736,\n       619958144], dtype=int64)"
     },
     "metadata": {},
     "execution_count": 60
    }
   ],
   "source": [
    "word_index"
   ]
  },
  {
   "cell_type": "code",
   "execution_count": 61,
   "metadata": {},
   "outputs": [],
   "source": [
    "unseen_category = []\n",
    "in_word_index = np.where(np.isin(dataset, word_index))[0]\n",
    "for i in range(len(dataset)):\n",
    "    if i in in_word_index:\n",
    "        continue\n",
    "    unseen_category.append(i)"
   ]
  },
  {
   "cell_type": "code",
   "execution_count": 62,
   "metadata": {},
   "outputs": [],
   "source": [
    "dataset[unseen_category] = -1"
   ]
  },
  {
   "cell_type": "code",
   "execution_count": 63,
   "metadata": {},
   "outputs": [
    {
     "output_type": "execute_result",
     "data": {
      "text/plain": "array([ 3281., 10140., 10181.,  8177.,  9834., 14409.,  8531.,  8166.,\n        6807.,  4700.], dtype=float32)"
     },
     "metadata": {},
     "execution_count": 63
    }
   ],
   "source": [
    "test_set = [vocabulary[dataset[i]] for i in range(len(dataset))]\n",
    "test_set = np.array(test_set).astype(np.float32)\n",
    "test_set[:10]"
   ]
  },
  {
   "cell_type": "code",
   "execution_count": 64,
   "metadata": {},
   "outputs": [],
   "source": [
    "def generate_timeseries(dataset, start_index, end_index, history_size, target_size):\n",
    "    data = []\n",
    "    labels = []\n",
    "\n",
    "    start_index = start_index + history_size\n",
    "    if end_index is None:\n",
    "        end_index = len(dataset) - target_size\n",
    "\n",
    "    for i in range(start_index, end_index):\n",
    "        indices = range(i-history_size, i)\n",
    "        # Reshape data from (history_size,) to (history_size, n_feature)\n",
    "        data.append(np.reshape(dataset[indices], (history_size, 1)))\n",
    "        #data.append(dataset[indices])\n",
    "        labels.append(np.reshape(dataset[i:i+target_size], (target_size, 1)))\n",
    "        #labels.append(dataset[i:i+target_size])\n",
    "    return np.array(data), np.array(labels)"
   ]
  },
  {
   "cell_type": "code",
   "execution_count": 65,
   "metadata": {},
   "outputs": [
    {
     "output_type": "execute_result",
     "data": {
      "text/plain": "((59274, 16, 1), (59274, 8, 1))"
     },
     "metadata": {},
     "execution_count": 65
    }
   ],
   "source": [
    "x_test, y_test = generate_timeseries(test_set, 0, None, 16, 8)\n",
    "x_test.shape, y_test.shape"
   ]
  },
  {
   "cell_type": "code",
   "execution_count": 66,
   "metadata": {},
   "outputs": [
    {
     "output_type": "execute_result",
     "data": {
      "text/plain": "(array([[ 3281.],\n        [10140.],\n        [10181.],\n        [ 8177.],\n        [ 9834.],\n        [14409.],\n        [ 8531.],\n        [ 8166.],\n        [ 6807.],\n        [ 4700.],\n        [ 4453.],\n        [ 3203.],\n        [ 5888.],\n        [11018.],\n        [11563.],\n        [    0.]], dtype=float32),\n array([[1.000e+00],\n        [0.000e+00],\n        [1.291e+04],\n        [0.000e+00],\n        [6.358e+03],\n        [2.888e+03],\n        [1.700e+02],\n        [6.866e+03]], dtype=float32))"
     },
     "metadata": {},
     "execution_count": 66
    }
   ],
   "source": [
    "x_test[0], y_test[0]"
   ]
  },
  {
   "cell_type": "code",
   "execution_count": 67,
   "metadata": {
    "tags": []
   },
   "outputs": [
    {
     "output_type": "stream",
     "name": "stdout",
     "text": "Model: \"sequential_3\"\n_________________________________________________________________\nLayer (type)                 Output Shape              Param #   \n=================================================================\nbidirectional_6 (Bidirection multiple                  253464    \n_________________________________________________________________\ndropout_2 (Dropout)          multiple                  0         \n_________________________________________________________________\nrepeat_vector_3 (RepeatVecto multiple                  0         \n_________________________________________________________________\nbidirectional_7 (Bidirection multiple                  753312    \n_________________________________________________________________\ndropout_3 (Dropout)          multiple                  0         \n_________________________________________________________________\ntime_distributed_3 (TimeDist multiple                  5283110   \n=================================================================\nTotal params: 6,289,886\nTrainable params: 6,289,886\nNon-trainable params: 0\n_________________________________________________________________\n"
    }
   ],
   "source": [
    "model = keras.models.load_model(\"version/{}/model.h5\".format(timestamp))\n",
    "model.summary()"
   ]
  },
  {
   "cell_type": "code",
   "execution_count": 68,
   "metadata": {
    "tags": []
   },
   "outputs": [
    {
     "output_type": "stream",
     "name": "stdout",
     "text": "1853/1853 [==============================] - 11s 6ms/step - loss: 11.5888 - accuracy: 0.2002\n"
    },
    {
     "output_type": "execute_result",
     "data": {
      "text/plain": "[11.58884048461914, 0.2002016007900238]"
     },
     "metadata": {},
     "execution_count": 68
    }
   ],
   "source": [
    "result = model.evaluate(x_test, y_test)\n",
    "result"
   ]
  },
  {
   "cell_type": "code",
   "execution_count": 69,
   "metadata": {},
   "outputs": [],
   "source": [
    "with open(\"version/{}/evaluate.txt\".format(timestamp), 'w') as e:\n",
    "    e.write(\"loss, accuracy\\n\")\n",
    "    e.write(\"{}, {}\".format(result[0], result[1]))"
   ]
  },
  {
   "cell_type": "code",
   "execution_count": null,
   "metadata": {},
   "outputs": [],
   "source": []
  }
 ]
}