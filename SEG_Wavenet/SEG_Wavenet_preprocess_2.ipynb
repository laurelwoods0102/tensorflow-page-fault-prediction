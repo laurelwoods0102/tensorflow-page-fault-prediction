{
 "metadata": {
  "language_info": {
   "codemirror_mode": {
    "name": "ipython",
    "version": 3
   },
   "file_extension": ".py",
   "mimetype": "text/x-python",
   "name": "python",
   "nbconvert_exporter": "python",
   "pygments_lexer": "ipython3",
   "version": "3.7.6-final"
  },
  "orig_nbformat": 2,
  "kernelspec": {
   "name": "python3",
   "display_name": "Python 3"
  }
 },
 "nbformat": 4,
 "nbformat_minor": 2,
 "cells": [
  {
   "cell_type": "code",
   "execution_count": 2,
   "metadata": {},
   "outputs": [],
   "source": [
    "import tensorflow as tf\n",
    "from tensorflow import keras\n",
    "import kerastuner\n",
    "import numpy as np\n",
    "import pandas as pd\n",
    "import matplotlib\n",
    "import matplotlib.pyplot as plt\n",
    "import os\n",
    "import json\n",
    "import datetime\n",
    "import dill\n",
    "import tqdm\n",
    "from sklearn.base import BaseEstimator, TransformerMixin\n",
    "from sklearn.pipeline import Pipeline\n",
    "from sklearn.model_selection import train_test_split\n",
    "\n",
    "plt.rcParams[\"figure.figsize\"] = (20, 5)\n",
    "\n",
    "physical_devices = tf.config.list_physical_devices('GPU')\n",
    "tf.config.experimental.set_memory_growth(physical_devices[0], enable=True)"
   ]
  },
  {
   "cell_type": "code",
   "execution_count": 3,
   "metadata": {},
   "outputs": [],
   "source": [
    "dataset_name = \"SEG_Wavenet\""
   ]
  },
  {
   "cell_type": "code",
   "execution_count": 4,
   "metadata": {},
   "outputs": [],
   "source": [
    "train_original = np.genfromtxt(\"data/{}_train_set_original.csv\".format(dataset_name), delimiter=\"\\n\", dtype=np.int64) #np.float32\n",
    "test_original = np.genfromtxt(\"data/{}_test_set_original.csv\".format(dataset_name), delimiter=\"\\n\", dtype=np.int64) #np.float32\n",
    "val_original = np.genfromtxt(\"data/{}_val_set_original.csv\".format(dataset_name), delimiter=\"\\n\", dtype=np.int64) #np.float32"
   ]
  },
  {
   "cell_type": "code",
   "execution_count": 5,
   "metadata": {},
   "outputs": [],
   "source": [
    "train_val_original = np.r_[train_original, val_original]"
   ]
  },
  {
   "cell_type": "code",
   "execution_count": 6,
   "metadata": {},
   "outputs": [],
   "source": [
    "class CalculateDelta(TransformerMixin):\n",
    "    def __init__(self):\n",
    "        pass\n",
    "\n",
    "    def fit(self, X, y=None):\n",
    "        return self\n",
    "        \n",
    "    def transform(self, X, y=None):\n",
    "        return X[:-1] - X[1:]"
   ]
  },
  {
   "cell_type": "code",
   "execution_count": 7,
   "metadata": {},
   "outputs": [],
   "source": [
    "class SimpleSparseCategoryEncoder(TransformerMixin):\n",
    "    def __init__(self, vocabulary_list):\n",
    "        self.vocabulary_list = vocabulary_list\n",
    "\n",
    "    def fit(self, X, y=None):\n",
    "        return self\n",
    "    \n",
    "    def transform(self, X, y=None):\n",
    "        vocabulary = {v:i for i, v in enumerate(self.vocabulary_list)}\n",
    "\n",
    "        X_transformed = []\n",
    "        for i in tqdm.trange(len(X)):\n",
    "            if X[i] in self.vocabulary_list:\n",
    "                X_transformed.append(vocabulary[X[i]])\n",
    "            else:\n",
    "                X_transformed.append(0)        # (vocabulary_list[0] for oov)\n",
    "\n",
    "        return np.array(X_transformed)\n",
    "\n",
    "    def inverse_transform(self, X, y=None):\n",
    "        return np.array([self.vocabulary_list[x] for x in X])"
   ]
  },
  {
   "cell_type": "code",
   "execution_count": 8,
   "metadata": {},
   "outputs": [
    {
     "output_type": "execute_result",
     "data": {
      "text/plain": [
       "[-1, 0, -4096, -909517620, 909517620, -8192, 8, 4096, -8, -12288]"
      ]
     },
     "metadata": {},
     "execution_count": 8
    }
   ],
   "source": [
    "train_val_delta = train_val_original[:-1] - train_val_original[1:]\n",
    "train_val_vocabulary = pd.Series(train_val_delta).value_counts().index.to_numpy()\n",
    "train_val_vocabulary = list(np.r_[[-1], train_val_vocabulary])\n",
    "train_val_vocabulary[:10]"
   ]
  },
  {
   "cell_type": "code",
   "execution_count": 9,
   "metadata": {},
   "outputs": [],
   "source": [
    "SEG_Wavenet_pipeline = Pipeline([\n",
    "    ('calculate_delta', CalculateDelta()),\n",
    "    ('sparse_category_encoder', SimpleSparseCategoryEncoder(train_val_vocabulary))\n",
    "])"
   ]
  },
  {
   "cell_type": "code",
   "execution_count": 10,
   "metadata": {},
   "outputs": [
    {
     "output_type": "stream",
     "name": "stderr",
     "text": [
      "100%|██████████| 161291/161291 [00:19<00:00, 8207.89it/s]\n",
      "100%|██████████| 40323/40323 [00:04<00:00, 8743.01it/s]\n",
      "100%|██████████| 35579/35579 [00:05<00:00, 6423.95it/s]\n"
     ]
    }
   ],
   "source": [
    "train_set = SEG_Wavenet_pipeline.transform(train_original)\n",
    "val_set = SEG_Wavenet_pipeline.transform(val_original)\n",
    "test_set = SEG_Wavenet_pipeline.transform(test_original)"
   ]
  },
  {
   "source": [
    "np.savetxt(\"data/{}_train_set_2.csv\".format(dataset_name), train_set, fmt=\"%d\", delimiter=\"\\n\")\n",
    "np.savetxt(\"data/{}_val_set_2.csv\".format(dataset_name), val_set, fmt=\"%d\", delimiter=\"\\n\")\n",
    "np.savetxt(\"data/{}_test_set_2.csv\".format(dataset_name), test_set, fmt=\"%d\", delimiter=\"\\n\")"
   ],
   "cell_type": "code",
   "metadata": {},
   "execution_count": 17,
   "outputs": []
  },
  {
   "cell_type": "code",
   "execution_count": 18,
   "metadata": {},
   "outputs": [],
   "source": [
    "np.savetxt(\"data/vocabulary_2.csv\", np.array(train_val_vocabulary), fmt=\"%d\", delimiter=\"\\n\")"
   ]
  },
  {
   "cell_type": "code",
   "execution_count": null,
   "metadata": {},
   "outputs": [],
   "source": []
  }
 ]
}