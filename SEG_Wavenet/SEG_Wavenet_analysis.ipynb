{
 "metadata": {
  "language_info": {
   "codemirror_mode": {
    "name": "ipython",
    "version": 3
   },
   "file_extension": ".py",
   "mimetype": "text/x-python",
   "name": "python",
   "nbconvert_exporter": "python",
   "pygments_lexer": "ipython3",
   "version": "3.7.6-final"
  },
  "orig_nbformat": 2,
  "kernelspec": {
   "name": "python3",
   "display_name": "Python 3"
  }
 },
 "nbformat": 4,
 "nbformat_minor": 2,
 "cells": [
  {
   "cell_type": "code",
   "execution_count": 1,
   "metadata": {},
   "outputs": [],
   "source": [
    "import tensorflow as tf\n",
    "from tensorflow import keras\n",
    "import kerastuner\n",
    "import numpy as np\n",
    "import pandas as pd\n",
    "import matplotlib\n",
    "import matplotlib.pyplot as plt\n",
    "import os\n",
    "import json\n",
    "import datetime\n",
    "import dill\n",
    "import tqdm\n",
    "from queue import PriorityQueue\n",
    "\n",
    "plt.rcParams[\"figure.figsize\"] = (20, 5)\n",
    "\n",
    "physical_devices = tf.config.list_physical_devices('GPU')\n",
    "tf.config.experimental.set_memory_growth(physical_devices[0], enable=True)"
   ]
  },
  {
   "cell_type": "code",
   "execution_count": 2,
   "metadata": {},
   "outputs": [],
   "source": [
    "def create_random_tree(output_dim):\n",
    "    outputs = list(range(output_dim))\n",
    "    #shuffle(outputs)\n",
    "\n",
    "    while len(outputs) > 2:\n",
    "        temp_outputs = []\n",
    "        for i in range(0, len(outputs), 2):\n",
    "            if len(outputs) - (i+1) > 0:\n",
    "                temp_outputs.append([outputs[i], outputs[i+1]])\n",
    "            else:\n",
    "                temp_outputs.append(outputs[i])\n",
    "        outputs = temp_outputs\n",
    "    return outputs"
   ]
  },
  {
   "cell_type": "code",
   "execution_count": 3,
   "metadata": {},
   "outputs": [
    {
     "output_type": "execute_result",
     "data": {
      "text/plain": [
       "[[[[0, 1], [2, 3]], [[4, 5], [6, 7]]], [8, 9]]"
      ]
     },
     "metadata": {},
     "execution_count": 3
    }
   ],
   "source": [
    "create_random_tree(10)"
   ]
  },
  {
   "cell_type": "code",
   "execution_count": 4,
   "metadata": {},
   "outputs": [],
   "source": [
    "from random import shuffle\n",
    "from copy import copy\n",
    "\n",
    "class TreeTools:\n",
    "    def __init__(self):\n",
    "        #memoization for _count_nodes functions\n",
    "        self._count_nodes_dict = {}\n",
    "                \n",
    "    def _get_subtrees(self, tree):\n",
    "        yield tree\n",
    "        for subtree in tree:\n",
    "            if type(subtree) == list:\n",
    "                for x in self._get_subtrees(subtree):\n",
    "                    yield x\n",
    "\n",
    "    # Returns pairs of paths and leaves of a tree\n",
    "    def _get_leaves_paths(self, tree):\n",
    "        for i, subtree in enumerate(tree):\n",
    "            if type(subtree) == list:\n",
    "                for path, value in self._get_leaves_paths(subtree):\n",
    "                    yield [i] + path, value\n",
    "            else:\n",
    "                yield [i], subtree\n",
    "    \n",
    "    # Returns the number of nodes in a tree (not including root)\n",
    "    def _count_nodes(self, tree):\n",
    "        if id(tree) in self._count_nodes_dict:\n",
    "            return self._count_nodes_dict[id(tree)]\n",
    "        size = 0\n",
    "        for node in tree:\n",
    "            if type(node) == list:\n",
    "                size += 1 + self._count_nodes(node)\n",
    "        self._count_nodes_dict[id(self._count_nodes_dict)] = size\n",
    "        return size\n",
    "\n",
    "\n",
    "    # Returns all the nodes in a path\n",
    "    def _get_nodes(self, tree, path):\n",
    "        next_node = 0\n",
    "        nodes = []\n",
    "        for decision in path:\n",
    "            nodes.append(next_node)\n",
    "            next_node += 1 + self._count_nodes(tree[:decision])\n",
    "            tree = tree[decision]\n",
    "        return nodes\n",
    "\n",
    "\n",
    "# turns a list to a binary tree\n",
    "def random_binary_full_tree(outputs):\n",
    "    outputs = copy(outputs)\n",
    "    shuffle(outputs)\n",
    "\n",
    "    while len(outputs) > 2:\n",
    "        temp_outputs = []\n",
    "        for i in range(0, len(outputs), 2):\n",
    "            if len(outputs) - (i+1) > 0:\n",
    "                temp_outputs.append([outputs[i], outputs[i+1]])\n",
    "            else:\n",
    "                temp_outputs.append(outputs[i])\n",
    "        outputs = temp_outputs\n",
    "    return outputs"
   ]
  },
  {
   "cell_type": "code",
   "execution_count": 5,
   "metadata": {},
   "outputs": [
    {
     "output_type": "stream",
     "name": "stdout",
     "text": [
      "Our tree: [[[[9, 3], [4, 1]], [[8, 0], [6, 2]]], [5, 7]]\n",
      "All subtrees:\n",
      "\t [[[[9, 3], [4, 1]], [[8, 0], [6, 2]]], [5, 7]] (Len : 2)\n",
      "\t [[[9, 3], [4, 1]], [[8, 0], [6, 2]]] (Len : 2)\n",
      "\t [[9, 3], [4, 1]] (Len : 2)\n",
      "\t [9, 3] (Len : 2)\n",
      "\t [4, 1] (Len : 2)\n",
      "\t [[8, 0], [6, 2]] (Len : 2)\n",
      "\t [8, 0] (Len : 2)\n",
      "\t [6, 2] (Len : 2)\n",
      "\t [5, 7] (Len : 2)\n",
      "All paths and leaves:\n",
      "\t ([0, 0, 0, 0], 9)\n",
      "\t ([0, 0, 0, 1], 3)\n",
      "\t ([0, 0, 1, 0], 4)\n",
      "\t ([0, 0, 1, 1], 1)\n",
      "\t ([0, 1, 0, 0], 8)\n",
      "\t ([0, 1, 0, 1], 0)\n",
      "\t ([0, 1, 1, 0], 6)\n",
      "\t ([0, 1, 1, 1], 2)\n",
      "\t ([1, 0], 5)\n",
      "\t ([1, 1], 7)\n",
      "Number of nodes in the tree: 8\n",
      "all nodes in path [0, 0, 0, 0]:\n",
      "\t 0\n",
      "\t 1\n",
      "\t 2\n",
      "\t 3\n",
      "all nodes in path [1, 0]:\n",
      "\t 0\n",
      "\t 8\n"
     ]
    }
   ],
   "source": [
    "tree = random_binary_full_tree(list(range(10)))\n",
    "print('Our tree:',tree)\n",
    "\n",
    "tree_tools = TreeTools()    \n",
    "\n",
    "print('All subtrees:')\n",
    "for subtree in tree_tools._get_subtrees(tree):\n",
    "    print('\\t {} (Len : {})'.format(subtree, len(subtree)))\n",
    "\n",
    "print('All paths and leaves:')\n",
    "for subtree in tree_tools._get_leaves_paths(tree):\n",
    "    print('\\t',subtree)\n",
    "    \n",
    "print('Number of nodes in the tree:',tree_tools._count_nodes(tree))\n",
    "\n",
    "print('all nodes in path [0, 0, 0, 0]:')\n",
    "for nodes in tree_tools._get_nodes(tree, [0, 0, 0, 0]):\n",
    "    print('\\t',nodes)\n",
    "\n",
    "print('all nodes in path [1, 0]:')\n",
    "for nodes in tree_tools._get_nodes(tree, [1, 0]):\n",
    "    print('\\t',nodes)"
   ]
  },
  {
   "cell_type": "code",
   "execution_count": 6,
   "metadata": {},
   "outputs": [],
   "source": [
    "class hier_softmax:\n",
    "    def __init__(self, tree, contex_size, model):\n",
    "        self._tree_tools = TreeTools()\n",
    "        self.str2weight = {}\n",
    "        #create a weight matrix and bias vector for each node in the tree\n",
    "        for i, subtree in enumerate(self._tree_tools._get_subtrees(tree)):\n",
    "            self.str2weight[\"softmax_node_\"+str(i)+\"_w\"] = model.add_parameters((len(subtree), contex_size))\n",
    "            self.str2weight[\"softmax_node_\" + str(i) + \"_b\"] = model.add_parameters(len(subtree))\n",
    "        \n",
    "        #create a dictionary from each value to its path\n",
    "        value_to_path_and_nodes_dict = {}\n",
    "        for path, value in self._tree_tools._get_leaves_paths(tree):\n",
    "            nodes = self._tree_tools._get_nodes(tree, path)\n",
    "            value_to_path_and_nodes_dict[data.char2int[value]] = path, nodes\n",
    "        self.value_to_path_and_nodes_dict = value_to_path_and_nodes_dict\n",
    "        self.model = model\n",
    "        self.tree = tree\n",
    "    \n",
    "    #get the loss on a given value (for training)\n",
    "    def get_loss(self, context, value):\n",
    "        loss = []\n",
    "        path, nodes = self.value_to_path_and_nodes_dict[value]\n",
    "        for p, n in zip(path, nodes):\n",
    "            w = dy.parameter(self.str2weight[\"softmax_node_\"+str(n)+\"_w\"])\n",
    "            b = dy.parameter(self.str2weight[\"softmax_node_\" + str(n) + \"_b\"])\n",
    "            probs = tf.nn.softmax(w*context+b)\n",
    "            #loss.append(-tf.math.log(dy.pick(probs, p)))\n",
    "            print(probs)\n",
    "            print(p)\n",
    "        #return dy.esum(loss)\n",
    "\n",
    "    #get the most likely\n",
    "    def generate(self, context):\n",
    "        best_value = None\n",
    "        best_loss = float(100000)\n",
    "        for value in self.value_to_path_and_nodes_dict:\n",
    "            loss = self.get_loss(context, value)\n",
    "            if loss < best_loss:\n",
    "                best_loss = loss\n",
    "                best_value = value\n",
    "        return best_value"
   ]
  },
  {
   "cell_type": "code",
   "execution_count": 7,
   "metadata": {},
   "outputs": [],
   "source": [
    "a = [1, 1, 2, 2, 2, 3, 4, 4, 4, 4, 5, 5, 5, 6, 6, 6]\n",
    "#freq = pd.Series(a).value_counts(ascending=True).to_dict()\n",
    "freq = {\n",
    "    \"A\": 6,\n",
    "    \"B\": 4,\n",
    "    \"C\": 4,\n",
    "    \"D\": 3,\n",
    "    \"E\": 2,\n",
    "    \"F\": 1\n",
    "}\n",
    "b = list(freq.keys())"
   ]
  },
  {
   "cell_type": "code",
   "execution_count": 8,
   "metadata": {},
   "outputs": [
    {
     "output_type": "execute_result",
     "data": {
      "text/plain": [
       "(['A', 'B', 'C', 'D', 'E', 'F'],\n",
       " {'A': 6, 'B': 4, 'C': 4, 'D': 3, 'E': 2, 'F': 1})"
      ]
     },
     "metadata": {},
     "execution_count": 8
    }
   ],
   "source": [
    "b, freq"
   ]
  },
  {
   "source": [
    "Huffman Encoding \n",
    "\n",
    "# Main function implementing huffman coding\n",
    "def huffman_code_tree(node, path, left=True):\n",
    "    if type(node) is not Node:\n",
    "        return {node: path}\n",
    "    (l, r) = node.children()\n",
    "    d = dict()\n",
    "\n",
    "    l_path = copy(path)\n",
    "    l_path.append(0)\n",
    "    r_path = copy(path)\n",
    "    r_path.append(1)\n",
    "\n",
    "    d.update(huffman_code_tree(l, l_path, True))\n",
    "    d.update(huffman_code_tree(r, r_path, False))\n",
    "    return d\n",
    "\n",
    "nodes = list(freq.items())\n",
    "\n",
    "while len(nodes) > 1:\n",
    "    (key1, c1) = nodes[-1]\n",
    "    (key2, c2) = nodes[-2]\n",
    "    nodes = nodes[:-2]\n",
    "    node = Node(key1, key2)\n",
    "    nodes.append((node, c1 + c2))\n",
    "\n",
    "    nodes = sorted(nodes, key=lambda x: x[1], reverse=True)\n",
    "\n",
    "huffmanCode = huffman_code_tree(nodes[0][0], [])\n",
    "huffmanCode"
   ],
   "cell_type": "markdown",
   "metadata": {}
  },
  {
   "source": [
    "Huffman Binary Tree as Node (not as list)\n",
    "\n",
    "class Node(object):\n",
    "    node_id = 0\n",
    "    def __init__(self, symbol, freq, left=None, right=None):\n",
    "        self.left = left\n",
    "        self.right = right\n",
    "        self.symbol = symbol\n",
    "        self.freq = freq\n",
    "\n",
    "        if self.symbol == None:\n",
    "            self.node_id = Node.node_id\n",
    "            Node.node_id += 1\n",
    "\n",
    "    def children(self):\n",
    "        return (self.left, self.right)\n",
    "\n",
    "    def __lt__(self, target):\n",
    "        if type(target) == Node:\n",
    "            return self.freq < target.freq\n",
    "        else:\n",
    "            return self.freq < target\n",
    "    \n",
    "    def __gt__(self, target):\n",
    "        return not self.__lt__(target)\n",
    "\n",
    "nodes = list(freq.items())\n",
    "q = PriorityQueue()\n",
    "\n",
    "for node in nodes:\n",
    "    q.put(Node(node[0], node[1]))\n",
    "\n",
    "while q.qsize() > 1:\n",
    "    node_1 = q.get()\n",
    "    node_2 = q.get()\n",
    "    print(node_1.symbol, node_1.freq)\n",
    "    print(node_2.symbol, node_2.freq)\n",
    "    node = Node(None, node_1.freq + node_2.freq, node_1, node_2)\n",
    "    q.put(node)\n",
    "\n",
    "def traverse(tree):\n",
    "    l, r = tree.children()\n",
    "    if l == None or r == None:\n",
    "        print(tree.symbol)\n",
    "        return\n",
    "    #print(tree.freq)    \n",
    "    \n",
    "    traverse(l)\n",
    "    traverse(r)\n",
    "\n",
    "traverse(tree)"
   ],
   "cell_type": "markdown",
   "metadata": {}
  },
  {
   "cell_type": "code",
   "execution_count": 9,
   "metadata": {},
   "outputs": [],
   "source": [
    "class Node(object):\n",
    "    def __init__(self, symbol, freq, symbol_2=None):\n",
    "        if symbol_2:\n",
    "            self.symbol = [symbol, symbol_2]\n",
    "        else:\n",
    "            self.symbol = symbol\n",
    "        self.freq = freq\n",
    "\n",
    "    def __lt__(self, target):\n",
    "        if type(target) == Node:\n",
    "            return self.freq < target.freq\n",
    "        else:\n",
    "            return self.freq < target\n",
    "    \n",
    "    def __gt__(self, target):\n",
    "        return not self.__lt__(target)"
   ]
  },
  {
   "cell_type": "code",
   "execution_count": 10,
   "metadata": {},
   "outputs": [],
   "source": [
    "q = PriorityQueue()\n",
    "nodes = list(freq.items())\n",
    "\n",
    "for node in nodes:\n",
    "    q.put((node[1], [node[0]]))"
   ]
  },
  {
   "source": [
    "nodes = list(freq.items())\n",
    "q = PriorityQueue()\n",
    "\n",
    "for node in nodes:\n",
    "    q.put(Node(node[0], node[1]))\n",
    "\n",
    "while q.qsize() > 1:\n",
    "    node_1 = q.get()\n",
    "    node_2 = q.get()\n",
    "    print(node_1.symbol, node_1.freq)\n",
    "    print(node_2.symbol, node_2.freq)\n",
    "    node = Node(node_1.symbol, node_1.freq + node_2.freq, node_2.symbol)\n",
    "    q.put(node)"
   ],
   "cell_type": "code",
   "metadata": {},
   "execution_count": 11,
   "outputs": [
    {
     "output_type": "stream",
     "name": "stdout",
     "text": [
      "F 1\n",
      "E 2\n",
      "D 3\n",
      "['F', 'E'] 3\n",
      "C 4\n",
      "B 4\n",
      "['D', ['F', 'E']] 6\n",
      "A 6\n",
      "['C', 'B'] 8\n",
      "[['D', ['F', 'E']], 'A'] 12\n"
     ]
    }
   ]
  },
  {
   "cell_type": "code",
   "execution_count": 13,
   "metadata": {},
   "outputs": [
    {
     "output_type": "execute_result",
     "data": {
      "text/plain": [
       "[['C', 'B'], [['D', ['F', 'E']], 'A']]"
      ]
     },
     "metadata": {},
     "execution_count": 13
    }
   ],
   "source": [
    "tree = q.get().symbol\n",
    "tree"
   ]
  },
  {
   "cell_type": "code",
   "execution_count": 37,
   "metadata": {},
   "outputs": [
    {
     "output_type": "stream",
     "name": "stdout",
     "text": [
      "All subtrees:\n",
      "\t [['C', 'B'], ['A', [['F', 'E'], 'D']]] (Len : 2)\n",
      "\t ['C', 'B'] (Len : 2)\n",
      "\t ['A', [['F', 'E'], 'D']] (Len : 2)\n",
      "\t [['F', 'E'], 'D'] (Len : 2)\n",
      "\t ['F', 'E'] (Len : 2)\n",
      "All paths and leaves:\n",
      "\t ([0, 0], 'C')\n",
      "\t ([0, 1], 'B')\n",
      "\t ([1, 0], 'A')\n",
      "\t ([1, 1, 0, 0], 'F')\n",
      "\t ([1, 1, 0, 1], 'E')\n",
      "\t ([1, 1, 1], 'D')\n",
      "Number of nodes in the tree: 4\n",
      "all nodes in path [0, 0, 0, 0]:\n",
      "\t 0\n",
      "\t 2\n",
      "\t 3\n",
      "\t 4\n",
      "all nodes in path [1, 0]:\n",
      "\t 0\n",
      "\t 2\n"
     ]
    }
   ],
   "source": [
    "tree_tools = TreeTools()    \n",
    "\n",
    "print('All subtrees:')\n",
    "for subtree in tree_tools._get_subtrees(tree):\n",
    "    print('\\t {} (Len : {})'.format(subtree, len(subtree)))\n",
    "\n",
    "print('All paths and leaves:')\n",
    "for subtree in tree_tools._get_leaves_paths(tree):\n",
    "    print('\\t',subtree)\n",
    "    \n",
    "print('Number of nodes in the tree:',tree_tools._count_nodes(tree))\n",
    "\n",
    "print('all nodes in path [0, 0, 0, 0]:')\n",
    "for nodes in tree_tools._get_nodes(tree, [1, 1, 0, 0]):\n",
    "    print('\\t',nodes)\n",
    "\n",
    "print('all nodes in path [1, 0]:')\n",
    "for nodes in tree_tools._get_nodes(tree, [1, 0]):\n",
    "    print('\\t',nodes)"
   ]
  },
  {
   "cell_type": "code",
   "execution_count": null,
   "metadata": {},
   "outputs": [],
   "source": []
  }
 ]
}