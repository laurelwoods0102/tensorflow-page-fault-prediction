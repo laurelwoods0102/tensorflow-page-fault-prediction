{
 "metadata": {
  "language_info": {
   "codemirror_mode": {
    "name": "ipython",
    "version": 3
   },
   "file_extension": ".py",
   "mimetype": "text/x-python",
   "name": "python",
   "nbconvert_exporter": "python",
   "pygments_lexer": "ipython3",
   "version": "3.7.6-final"
  },
  "orig_nbformat": 2,
  "kernelspec": {
   "name": "python3",
   "display_name": "Python 3"
  }
 },
 "nbformat": 4,
 "nbformat_minor": 2,
 "cells": [
  {
   "cell_type": "code",
   "execution_count": 1,
   "metadata": {},
   "outputs": [],
   "source": [
    "import tensorflow as tf\n",
    "from tensorflow import keras\n",
    "import numpy as np\n",
    "import pandas as pd\n",
    "import tqdm     # loop progress bar"
   ]
  },
  {
   "cell_type": "code",
   "execution_count": 2,
   "metadata": {},
   "outputs": [],
   "source": [
    "physical_devices = tf.config.list_physical_devices('GPU')\n",
    "tf.config.experimental.set_memory_growth(physical_devices[0], enable=True)"
   ]
  },
  {
   "cell_type": "code",
   "execution_count": 3,
   "metadata": {},
   "outputs": [],
   "source": [
    "dataset_name = \"SEG_wavenet\""
   ]
  },
  {
   "cell_type": "code",
   "execution_count": 4,
   "metadata": {},
   "outputs": [],
   "source": [
    "# Not Scalar Input\n",
    "receptive_field = 257\n",
    "\n",
    "vocab_size = 16293"
   ]
  },
  {
   "source": [
    "## Train Set"
   ],
   "cell_type": "markdown",
   "metadata": {}
  },
  {
   "cell_type": "code",
   "execution_count": 5,
   "metadata": {},
   "outputs": [],
   "source": [
    "train_set_original = np.genfromtxt(\"data/{}_train_set.csv\".format(dataset_name), delimiter=\"\\n\", dtype=np.int64)"
   ]
  },
  {
   "source": [
    "### Y"
   ],
   "cell_type": "markdown",
   "metadata": {}
  },
  {
   "cell_type": "code",
   "execution_count": 6,
   "metadata": {},
   "outputs": [],
   "source": [
    "train_y_set_original = train_set_original.copy()\n",
    "train_y_set_original = train_y_set_original[receptive_field:]"
   ]
  },
  {
   "cell_type": "code",
   "execution_count": 7,
   "metadata": {},
   "outputs": [
    {
     "output_type": "execute_result",
     "data": {
      "text/plain": [
       "[[0, 1],\n",
       " [1, 1],\n",
       " [2, 1],\n",
       " [3, 1],\n",
       " [4, 1],\n",
       " [5, 1],\n",
       " [6, 1],\n",
       " [7, 1],\n",
       " [8, 1],\n",
       " [9, 1]]"
      ]
     },
     "metadata": {},
     "execution_count": 7
    }
   ],
   "source": [
    "train_y_set_indices = [[i, y] for i, y in enumerate(train_y_set_original)]\n",
    "train_y_set_indices[:10]"
   ]
  },
  {
   "cell_type": "code",
   "execution_count": 8,
   "metadata": {},
   "outputs": [],
   "source": [
    "train_y = tf.data.Dataset.from_tensor_slices(tf.SparseTensor(indices=train_y_set_indices, values=[1]*len(train_y_set_indices), dense_shape=[len(train_y_set_indices), vocab_size]))"
   ]
  },
  {
   "cell_type": "code",
   "execution_count": 9,
   "metadata": {},
   "outputs": [
    {
     "output_type": "execute_result",
     "data": {
      "text/plain": [
       "<tf.Tensor: shape=(), dtype=int64, numpy=161034>"
      ]
     },
     "metadata": {},
     "execution_count": 9
    }
   ],
   "source": [
    "# Size of dataset\n",
    "train_y.cardinality()"
   ]
  },
  {
   "cell_type": "code",
   "execution_count": 10,
   "metadata": {},
   "outputs": [
    {
     "output_type": "execute_result",
     "data": {
      "text/plain": [
       "<tf.Tensor: shape=(10, 16293), dtype=int32, numpy=\n",
       "array([[0, 1, 0, ..., 0, 0, 0],\n",
       "       [0, 1, 0, ..., 0, 0, 0],\n",
       "       [0, 1, 0, ..., 0, 0, 0],\n",
       "       ...,\n",
       "       [0, 1, 0, ..., 0, 0, 0],\n",
       "       [0, 1, 0, ..., 0, 0, 0],\n",
       "       [0, 1, 0, ..., 0, 0, 0]])>"
      ]
     },
     "metadata": {},
     "execution_count": 10
    }
   ],
   "source": [
    "# Example\n",
    "ex = train_y_set_indices[:10]\n",
    "tf.sparse.to_dense(tf.SparseTensor(indices=ex, values=[1]*len(ex), dense_shape=[len(ex), vocab_size]))"
   ]
  },
  {
   "source": [
    "### X as Onehot"
   ],
   "cell_type": "markdown",
   "metadata": {}
  },
  {
   "cell_type": "code",
   "execution_count": 11,
   "metadata": {},
   "outputs": [],
   "source": [
    "train_x_set_original = train_set_original.copy()\n",
    "train_x_set_original = train_x_set_original[:-1]"
   ]
  },
  {
   "cell_type": "code",
   "execution_count": 12,
   "metadata": {},
   "outputs": [
    {
     "output_type": "stream",
     "name": "stderr",
     "text": [
      "100%|██████████| 161034/161034 [05:01<00:00, 534.27it/s]\n"
     ]
    }
   ],
   "source": [
    "train_x_set = []\n",
    "\n",
    "for i in tqdm.trange(len(train_x_set_original) - receptive_field + 1):\n",
    "    seq = train_x_set_original[i:i+receptive_field]\n",
    "    indices = [[i, x] for i, x in enumerate(seq)]\n",
    "    sparse = tf.SparseTensor(indices=indices, values=[1]*receptive_field, dense_shape=[receptive_field, vocab_size])\n",
    "    sparse = tf.cast(tf.sparse.expand_dims(sparse, axis=0), tf.float32)\n",
    "    train_x_set.append(sparse)"
   ]
  },
  {
   "cell_type": "code",
   "execution_count": 13,
   "metadata": {},
   "outputs": [],
   "source": [
    "train_x_set = tf.sparse.concat(0, train_x_set)"
   ]
  },
  {
   "cell_type": "code",
   "execution_count": 14,
   "metadata": {},
   "outputs": [],
   "source": [
    "train_x = tf.data.Dataset.from_tensor_slices(train_x_set)"
   ]
  },
  {
   "cell_type": "code",
   "execution_count": 15,
   "metadata": {},
   "outputs": [],
   "source": [
    "train_set = tf.data.Dataset.zip((train_x, train_y))"
   ]
  },
  {
   "cell_type": "code",
   "execution_count": 16,
   "metadata": {},
   "outputs": [],
   "source": [
    "tf.data.experimental.save(train_set, \"data/dataset\")"
   ]
  },
  {
   "cell_type": "code",
   "execution_count": 17,
   "metadata": {},
   "outputs": [],
   "source": [
    "load_data = tf.data.experimental.load(\"data/dataset\", train_set.element_spec)"
   ]
  },
  {
   "cell_type": "code",
   "execution_count": 18,
   "metadata": {},
   "outputs": [
    {
     "output_type": "execute_result",
     "data": {
      "text/plain": [
       "(SparseTensorSpec(TensorShape([257, 16293]), tf.float32),\n",
       " SparseTensorSpec(TensorShape([16293]), tf.int32))"
      ]
     },
     "metadata": {},
     "execution_count": 18
    }
   ],
   "source": [
    "train_set.element_spec"
   ]
  },
  {
   "cell_type": "code",
   "execution_count": 19,
   "metadata": {},
   "outputs": [
    {
     "output_type": "stream",
     "name": "stdout",
     "text": [
      "tf.Tensor(\n[[1. 0. 0. ... 0. 0. 0.]\n [1. 0. 0. ... 0. 0. 0.]\n [1. 0. 0. ... 0. 0. 0.]\n ...\n [0. 1. 0. ... 0. 0. 0.]\n [0. 1. 0. ... 0. 0. 0.]\n [0. 1. 0. ... 0. 0. 0.]], shape=(257, 16293), dtype=float32)\ntf.Tensor([0 1 0 ... 0 0 0], shape=(16293,), dtype=int32)\n"
     ]
    }
   ],
   "source": [
    "for e in load_data:\n",
    "    print(tf.sparse.to_dense(e[0]))\n",
    "    print(tf.sparse.to_dense(e[1]))\n",
    "    break"
   ]
  },
  {
   "cell_type": "code",
   "execution_count": 27,
   "metadata": {},
   "outputs": [
    {
     "output_type": "execute_result",
     "data": {
      "text/plain": [
       "True"
      ]
     },
     "metadata": {},
     "execution_count": 27
    }
   ],
   "source": [
    "train_set.element_spec == (tf.SparseTensorSpec(tf.TensorShape([257, 16293]), tf.dtypes.float32), tf.SparseTensorSpec(tf.TensorShape([16293]), tf.dtypes.int32))"
   ]
  },
  {
   "cell_type": "code",
   "execution_count": 28,
   "metadata": {},
   "outputs": [],
   "source": [
    "t = tf.data.experimental.load(\"data/dataset\", (tf.SparseTensorSpec(tf.TensorShape([257, 16293]), tf.dtypes.float32), tf.SparseTensorSpec(tf.TensorShape([16293]), tf.dtypes.int32)))"
   ]
  },
  {
   "cell_type": "code",
   "execution_count": 29,
   "metadata": {},
   "outputs": [
    {
     "output_type": "stream",
     "name": "stdout",
     "text": [
      "tf.Tensor(\n[[1. 0. 0. ... 0. 0. 0.]\n [1. 0. 0. ... 0. 0. 0.]\n [1. 0. 0. ... 0. 0. 0.]\n ...\n [0. 1. 0. ... 0. 0. 0.]\n [0. 1. 0. ... 0. 0. 0.]\n [0. 1. 0. ... 0. 0. 0.]], shape=(257, 16293), dtype=float32)\ntf.Tensor([0 1 0 ... 0 0 0], shape=(16293,), dtype=int32)\n"
     ]
    }
   ],
   "source": [
    "for e in t:\n",
    "    print(tf.sparse.to_dense(e[0]))\n",
    "    print(tf.sparse.to_dense(e[1]))\n",
    "    break"
   ]
  },
  {
   "cell_type": "code",
   "execution_count": 30,
   "metadata": {},
   "outputs": [
    {
     "output_type": "stream",
     "name": "stdout",
     "text": [
      "SparseTensor(indices=tf.Tensor(\n[[    0     0]\n [    1     0]\n [    2     0]\n [    3     0]\n [    4     0]\n [    5     0]\n [    6     0]\n [    7     0]\n [    8     0]\n [    9     0]\n [   10     0]\n [   11     0]\n [   12     0]\n [   13     0]\n [   14     0]\n [   15     0]\n [   16     0]\n [   17     0]\n [   18     0]\n [   19     0]\n [   20     0]\n [   21   926]\n [   22     0]\n [   23     0]\n [   24     0]\n [   25     0]\n [   26     0]\n [   27     0]\n [   28    49]\n [   29     0]\n [   30     0]\n [   31     0]\n [   32     0]\n [   33     0]\n [   34 14061]\n [   35     0]\n [   36     0]\n [   37     0]\n [   38     0]\n [   39     0]\n [   40     0]\n [   41     0]\n [   42     0]\n [   43     0]\n [   44     0]\n [   45     2]\n [   46     2]\n [   47     2]\n [   48     0]\n [   49     0]\n [   50     0]\n [   51     0]\n [   52     0]\n [   53     0]\n [   54     0]\n [   55     0]\n [   56     2]\n [   57     2]\n [   58     2]\n [   59     2]\n [   60     2]\n [   61     2]\n [   62     2]\n [   63     2]\n [   64     2]\n [   65     2]\n [   66     2]\n [   67     2]\n [   68     0]\n [   69     0]\n [   70     0]\n [   71     1]\n [   72     0]\n [   73     1]\n [   74     1]\n [   75     0]\n [   76     0]\n [   77     1]\n [   78 10860]\n [   79     1]\n [   80     0]\n [   81     1]\n [   82     1]\n [   83     1]\n [   84     0]\n [   85     1]\n [   86   696]\n [   87  9991]\n [   88     0]\n [   89     0]\n [   90     1]\n [   91     1]\n [   92     1]\n [   93     1]\n [   94     1]\n [   95     0]\n [   96     1]\n [   97 10410]\n [   98     1]\n [   99     0]\n [  100     0]\n [  101     0]\n [  102     1]\n [  103     1]\n [  104     0]\n [  105     1]\n [  106     0]\n [  107 10289]\n [  108     1]\n [  109     1]\n [  110     1]\n [  111     0]\n [  112     1]\n [  113     0]\n [  114     1]\n [  115     0]\n [  116     1]\n [  117     1]\n [  118     1]\n [  119     1]\n [  120     0]\n [  121     1]\n [  122     1]\n [  123     1]\n [  124     1]\n [  125     1]\n [  126     1]\n [  127     0]\n [  128     1]\n [  129     1]\n [  130     1]\n [  131    17]\n [  132     0]\n [  133     1]\n [  134     0]\n [  135     1]\n [  136     1]\n [  137     1]\n [  138     1]\n [  139     1]\n [  140     1]\n [  141     1]\n [  142     1]\n [  143    16]\n [  144     1]\n [  145     1]\n [  146     0]\n [  147     1]\n [  148     0]\n [  149     1]\n [  150     6]\n [  151     1]\n [  152     0]\n [  153     0]\n [  154     1]\n [  155    17]\n [  156     0]\n [  157     0]\n [  158     0]\n [  159     0]\n [  160     1]\n [  161     1]\n [  162     0]\n [  163     0]\n [  164     1]\n [  165     1]\n [  166     1]\n [  167     1]\n [  168     1]\n [  169     1]\n [  170     1]\n [  171     1]\n [  172     1]\n [  173     1]\n [  174     1]\n [  175     1]\n [  176     1]\n [  177     1]\n [  178     1]\n [  179     1]\n [  180     1]\n [  181     1]\n [  182     1]\n [  183     1]\n [  184     1]\n [  185     1]\n [  186     1]\n [  187     1]\n [  188     1]\n [  189     1]\n [  190     1]\n [  191     1]\n [  192     1]\n [  193     1]\n [  194     1]\n [  195     1]\n [  196     1]\n [  197     1]\n [  198     1]\n [  199     1]\n [  200     1]\n [  201     1]\n [  202     1]\n [  203     1]\n [  204     1]\n [  205     1]\n [  206     1]\n [  207     1]\n [  208     1]\n [  209     1]\n [  210     1]\n [  211     1]\n [  212     1]\n [  213     1]\n [  214     1]\n [  215     1]\n [  216     1]\n [  217     1]\n [  218     1]\n [  219     1]\n [  220     1]\n [  221     1]\n [  222     1]\n [  223     1]\n [  224     1]\n [  225     1]\n [  226     1]\n [  227     1]\n [  228     1]\n [  229     1]\n [  230     1]\n [  231     1]\n [  232     1]\n [  233     1]\n [  234     1]\n [  235     1]\n [  236     1]\n [  237     1]\n [  238     1]\n [  239     1]\n [  240     1]\n [  241     1]\n [  242     1]\n [  243     1]\n [  244     1]\n [  245     1]\n [  246     1]\n [  247     1]\n [  248     1]\n [  249     1]\n [  250     1]\n [  251     1]\n [  252     1]\n [  253     1]\n [  254     1]\n [  255     1]\n [  256     1]], shape=(257, 2), dtype=int64), values=tf.Tensor(\n[1. 1. 1. 1. 1. 1. 1. 1. 1. 1. 1. 1. 1. 1. 1. 1. 1. 1. 1. 1. 1. 1. 1. 1.\n 1. 1. 1. 1. 1. 1. 1. 1. 1. 1. 1. 1. 1. 1. 1. 1. 1. 1. 1. 1. 1. 1. 1. 1.\n 1. 1. 1. 1. 1. 1. 1. 1. 1. 1. 1. 1. 1. 1. 1. 1. 1. 1. 1. 1. 1. 1. 1. 1.\n 1. 1. 1. 1. 1. 1. 1. 1. 1. 1. 1. 1. 1. 1. 1. 1. 1. 1. 1. 1. 1. 1. 1. 1.\n 1. 1. 1. 1. 1. 1. 1. 1. 1. 1. 1. 1. 1. 1. 1. 1. 1. 1. 1. 1. 1. 1. 1. 1.\n 1. 1. 1. 1. 1. 1. 1. 1. 1. 1. 1. 1. 1. 1. 1. 1. 1. 1. 1. 1. 1. 1. 1. 1.\n 1. 1. 1. 1. 1. 1. 1. 1. 1. 1. 1. 1. 1. 1. 1. 1. 1. 1. 1. 1. 1. 1. 1. 1.\n 1. 1. 1. 1. 1. 1. 1. 1. 1. 1. 1. 1. 1. 1. 1. 1. 1. 1. 1. 1. 1. 1. 1. 1.\n 1. 1. 1. 1. 1. 1. 1. 1. 1. 1. 1. 1. 1. 1. 1. 1. 1. 1. 1. 1. 1. 1. 1. 1.\n 1. 1. 1. 1. 1. 1. 1. 1. 1. 1. 1. 1. 1. 1. 1. 1. 1. 1. 1. 1. 1. 1. 1. 1.\n 1. 1. 1. 1. 1. 1. 1. 1. 1. 1. 1. 1. 1. 1. 1. 1. 1.], shape=(257,), dtype=float32), dense_shape=tf.Tensor([  257 16293], shape=(2,), dtype=int64))\nSparseTensor(indices=tf.Tensor([[1]], shape=(1, 1), dtype=int64), values=tf.Tensor([1], shape=(1,), dtype=int32), dense_shape=tf.Tensor([16293], shape=(1,), dtype=int64))\n"
     ]
    }
   ],
   "source": [
    "for e in t:\n",
    "    print(e[0])\n",
    "    print(e[1])\n",
    "    break"
   ]
  },
  {
   "source": [
    "## Test Set"
   ],
   "cell_type": "markdown",
   "metadata": {}
  },
  {
   "source": [
    "### Y"
   ],
   "cell_type": "markdown",
   "metadata": {}
  },
  {
   "cell_type": "code",
   "execution_count": 5,
   "metadata": {},
   "outputs": [],
   "source": [
    "test_set_original = np.genfromtxt(\"data/{}_test_set.csv\".format(dataset_name), delimiter=\"\\n\", dtype=np.int64)"
   ]
  },
  {
   "cell_type": "code",
   "execution_count": 6,
   "metadata": {},
   "outputs": [],
   "source": [
    "test_y_set_original = test_set_original.copy()\n",
    "test_y_set_original = test_y_set_original[receptive_field:]"
   ]
  },
  {
   "cell_type": "code",
   "execution_count": 7,
   "metadata": {},
   "outputs": [
    {
     "output_type": "execute_result",
     "data": {
      "text/plain": [
       "[[0, 0],\n",
       " [1, 0],\n",
       " [2, 0],\n",
       " [3, 0],\n",
       " [4, 0],\n",
       " [5, 250],\n",
       " [6, 127],\n",
       " [7, 0],\n",
       " [8, 338],\n",
       " [9, 185]]"
      ]
     },
     "metadata": {},
     "execution_count": 7
    }
   ],
   "source": [
    "test_y_set_indices = [[i, y] for i, y in enumerate(test_y_set_original)]\n",
    "test_y_set_indices[:10]"
   ]
  },
  {
   "cell_type": "code",
   "execution_count": 8,
   "metadata": {},
   "outputs": [],
   "source": [
    "test_y = tf.data.Dataset.from_tensor_slices(tf.SparseTensor(indices=test_y_set_indices, values=[1]*len(test_y_set_indices), dense_shape=[len(test_y_set_indices), vocab_size]))"
   ]
  },
  {
   "cell_type": "code",
   "execution_count": 9,
   "metadata": {},
   "outputs": [
    {
     "output_type": "execute_result",
     "data": {
      "text/plain": [
       "<tf.Tensor: shape=(), dtype=int64, numpy=35322>"
      ]
     },
     "metadata": {},
     "execution_count": 9
    }
   ],
   "source": [
    "# Size of dataset\n",
    "test_y.cardinality()"
   ]
  },
  {
   "source": [
    "### X"
   ],
   "cell_type": "markdown",
   "metadata": {}
  },
  {
   "cell_type": "code",
   "execution_count": 10,
   "metadata": {},
   "outputs": [],
   "source": [
    "test_x_set_original = test_set_original.copy()\n",
    "test_x_set_original = test_x_set_original[:-1]"
   ]
  },
  {
   "cell_type": "code",
   "execution_count": 11,
   "metadata": {},
   "outputs": [
    {
     "output_type": "stream",
     "name": "stderr",
     "text": [
      "100%|██████████| 35322/35322 [01:12<00:00, 488.42it/s]\n"
     ]
    }
   ],
   "source": [
    "test_x_set = []\n",
    "\n",
    "for i in tqdm.trange(len(test_x_set_original) - receptive_field + 1):\n",
    "    seq = test_x_set_original[i:i+receptive_field]\n",
    "    indices = [[i, x] for i, x in enumerate(seq)]\n",
    "    sparse = tf.SparseTensor(indices=indices, values=[1]*receptive_field, dense_shape=[receptive_field, vocab_size])\n",
    "    sparse = tf.cast(tf.sparse.expand_dims(sparse, axis=0), tf.float32)\n",
    "    test_x_set.append(sparse)"
   ]
  },
  {
   "cell_type": "code",
   "execution_count": 12,
   "metadata": {},
   "outputs": [],
   "source": [
    "test_x_set = tf.sparse.concat(0, test_x_set)"
   ]
  },
  {
   "cell_type": "code",
   "execution_count": 13,
   "metadata": {},
   "outputs": [],
   "source": [
    "test_x = tf.data.Dataset.from_tensor_slices(test_x_set)"
   ]
  },
  {
   "source": [
    "test_set = tf.data.Dataset.zip((test_x, test_y))"
   ],
   "cell_type": "markdown",
   "metadata": {}
  },
  {
   "cell_type": "code",
   "execution_count": 16,
   "metadata": {},
   "outputs": [],
   "source": [
    "tf.data.experimental.save(test_x, \"data/test_dataset_x\")"
   ]
  },
  {
   "cell_type": "code",
   "execution_count": 17,
   "metadata": {},
   "outputs": [],
   "source": [
    "tf.data.experimental.save(test_y, \"data/test_dataset_y\")"
   ]
  },
  {
   "cell_type": "code",
   "execution_count": null,
   "metadata": {},
   "outputs": [],
   "source": []
  }
 ]
}