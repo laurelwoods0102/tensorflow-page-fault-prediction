{
 "metadata": {
  "language_info": {
   "codemirror_mode": {
    "name": "ipython",
    "version": 3
   },
   "file_extension": ".py",
   "mimetype": "text/x-python",
   "name": "python",
   "nbconvert_exporter": "python",
   "pygments_lexer": "ipython3",
   "version": "3.7.6-final"
  },
  "orig_nbformat": 2,
  "kernelspec": {
   "name": "python3",
   "display_name": "Python 3"
  }
 },
 "nbformat": 4,
 "nbformat_minor": 2,
 "cells": [
  {
   "cell_type": "code",
   "execution_count": 1,
   "metadata": {},
   "outputs": [],
   "source": [
    "import tensorflow as tf\n",
    "from tensorflow import keras\n",
    "import numpy as np"
   ]
  },
  {
   "cell_type": "code",
   "execution_count": 2,
   "metadata": {},
   "outputs": [],
   "source": [
    "physical_devices = tf.config.list_physical_devices('GPU')\n",
    "tf.config.experimental.set_memory_growth(physical_devices[0], enable=True)"
   ]
  },
  {
   "cell_type": "code",
   "execution_count": 3,
   "metadata": {},
   "outputs": [],
   "source": [
    "dataset_name = \"SEG_wavenet\"\n",
    "\n",
    "receptive_field = 257\n",
    "quantization_channels = 16293"
   ]
  },
  {
   "cell_type": "code",
   "execution_count": 4,
   "metadata": {},
   "outputs": [],
   "source": [
    "model = keras.models.load_model(\"model/model_1\")"
   ]
  },
  {
   "cell_type": "code",
   "execution_count": 5,
   "metadata": {},
   "outputs": [],
   "source": [
    "test_set_original = np.genfromtxt(\"data/{}_test_set.csv\".format(dataset_name), delimiter=\"\\n\", dtype=np.int64)"
   ]
  },
  {
   "cell_type": "code",
   "execution_count": 6,
   "metadata": {},
   "outputs": [],
   "source": [
    "test_y_set_original = test_set_original.copy()\n",
    "test_y_set_original = test_y_set_original[receptive_field:]"
   ]
  },
  {
   "cell_type": "code",
   "execution_count": 7,
   "metadata": {},
   "outputs": [],
   "source": [
    "test_y = test_y_set_original.reshape(-1, 1, 1)"
   ]
  },
  {
   "cell_type": "code",
   "execution_count": 8,
   "metadata": {},
   "outputs": [],
   "source": [
    "#test_y = tf.one_hot(test_y, quantization_channels, axis=-1)\n",
    "test_y = np.eye(quantization_channels)[test_y]\n",
    "test_y = np.squeeze(test_y, axis=1)"
   ]
  },
  {
   "cell_type": "code",
   "execution_count": 9,
   "metadata": {},
   "outputs": [],
   "source": [
    "test_x_set_original = test_set_original.copy()\n",
    "test_x_set_original = test_x_set_original[:-1]"
   ]
  },
  {
   "cell_type": "code",
   "execution_count": 10,
   "metadata": {},
   "outputs": [],
   "source": [
    "test_x = []\n",
    "\n",
    "for i in range(len(test_x_set_original) - receptive_field + 1):\n",
    "    test_x.append(test_x_set_original[i:i+receptive_field])"
   ]
  },
  {
   "cell_type": "code",
   "execution_count": 11,
   "metadata": {},
   "outputs": [],
   "source": [
    "test_x = np.array(test_x)"
   ]
  },
  {
   "cell_type": "code",
   "execution_count": 12,
   "metadata": {},
   "outputs": [
    {
     "output_type": "execute_result",
     "data": {
      "text/plain": [
       "((35322, 257), (35322, 1, 16293))"
      ]
     },
     "metadata": {},
     "execution_count": 12
    }
   ],
   "source": [
    "test_x.shape, test_y.shape"
   ]
  },
  {
   "cell_type": "code",
   "execution_count": 54,
   "metadata": {},
   "outputs": [
    {
     "output_type": "stream",
     "name": "stdout",
     "text": [
      "1104/1104 [==============================] - 19s 17ms/step - loss: 9.0165\n"
     ]
    },
    {
     "output_type": "execute_result",
     "data": {
      "text/plain": [
       "9.016510963439941"
      ]
     },
     "metadata": {},
     "execution_count": 54
    }
   ],
   "source": [
    "model.evaluate(test_x, test_y)"
   ]
  },
  {
   "cell_type": "code",
   "execution_count": 14,
   "metadata": {},
   "outputs": [],
   "source": [
    "result = model.predict_on_batch(test_x[:128])"
   ]
  },
  {
   "cell_type": "code",
   "execution_count": 17,
   "metadata": {},
   "outputs": [
    {
     "output_type": "execute_result",
     "data": {
      "text/plain": [
       "<tf.Tensor: shape=(1, 128), dtype=int64, numpy=\n",
       "array([[ 4927,     0,   171,     0,     0,  8384,     0,    64,     0,\n",
       "            0,     0,   515,  3959,  2611,     0,  7268,    92, 12640,\n",
       "         4126, 14557,  5349,     0,     0, 16266,  7997,     0,  6720,\n",
       "         3025,     0,     0,  8358,  2264,  4722,    20,   106,    23,\n",
       "           10,     0,   271,   324,   551,  2755,     0,  6338,     0,\n",
       "            0,   368,  6883,     0,  4143,     1,     0, 12452,   421,\n",
       "            0, 10486,     0,     0,   634,  4589,     1,     0,     0,\n",
       "            0,     0,  3183,     0,  9936,     0,   312,     0,     0,\n",
       "            0,     0, 15726,  7453,     0,     0,     0,     0, 13701,\n",
       "            0,     0,     0,     0,   348,     0,  1159,   324,   235,\n",
       "          324,   352,  2744,  4837,     0,     0,     0,     1,     0,\n",
       "            0,    28,     0,     0,     0,     0,     0,     0,     0,\n",
       "            0,     0,     0, 12422,  1280, 14399,     0,     0,     0,\n",
       "            0,  7528,     0,     0,     0,     0,     0,     0,     0,\n",
       "            0,     0]], dtype=int64)>"
      ]
     },
     "metadata": {},
     "execution_count": 17
    }
   ],
   "source": [
    "tf.argmax(result, axis=-1)"
   ]
  },
  {
   "cell_type": "code",
   "execution_count": 18,
   "metadata": {},
   "outputs": [
    {
     "output_type": "execute_result",
     "data": {
      "text/plain": [
       "array([   0,    0,    0,    0,    0,  250,  127,    0,  338,  185,  581,\n",
       "        515,    0,    0,  205,    0,    0,  313,    0,    0,    0,    0,\n",
       "         32,  421,  478,    0,    0,    0,    0,  464,  424, 4670,    0,\n",
       "         20,    0,    0,    0,  192,  465,    0,  479,    0,  210,    0,\n",
       "        249,  421,    0,  219,  436,    0,    0,  189,    0,    0,  201,\n",
       "        192,    0,    0,  200,    0,  182,  378,  245,    0,    0,    0,\n",
       "        334,  350,    0,    0,    0,    0,    0,    0,    0,    0,    0,\n",
       "          0,    0,  216,    0,    0,    0,    0,  479,    0,  465,  109,\n",
       "        402,  202,  324,  352,  219,    0,    0,    0,    0,    0, 2087,\n",
       "        190,    0,    0,    0,    0,    0,    0,    0,    0,    0,    0,\n",
       "        433,    0,    0,    0,    0,    0,    0,    0,    0,    0,    0,\n",
       "          0,    0,    0,    0,    0,    0,    0], dtype=int64)"
      ]
     },
     "metadata": {},
     "execution_count": 18
    }
   ],
   "source": [
    "test_y_set_original[:128]"
   ]
  },
  {
   "cell_type": "code",
   "execution_count": null,
   "metadata": {},
   "outputs": [],
   "source": []
  }
 ]
}