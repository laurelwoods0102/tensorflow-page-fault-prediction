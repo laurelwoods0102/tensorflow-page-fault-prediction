{
 "metadata": {
  "language_info": {
   "codemirror_mode": {
    "name": "ipython",
    "version": 3
   },
   "file_extension": ".py",
   "mimetype": "text/x-python",
   "name": "python",
   "nbconvert_exporter": "python",
   "pygments_lexer": "ipython3",
   "version": "3.7.6-final"
  },
  "orig_nbformat": 2,
  "kernelspec": {
   "name": "Python 3.7.6 64-bit ('base': conda)",
   "display_name": "Python 3.7.6 64-bit ('base': conda)",
   "metadata": {
    "interpreter": {
     "hash": "b3ba2566441a7c06988d0923437866b63cedc61552a5af99d1f4fb67d367b25f"
    }
   }
  }
 },
 "nbformat": 4,
 "nbformat_minor": 2,
 "cells": [
  {
   "cell_type": "code",
   "execution_count": 1,
   "metadata": {},
   "outputs": [],
   "source": [
    "import tensorflow as tf\n",
    "from tensorflow import keras\n",
    "from tensorboard.plugins.hparams import api as hp_api\n",
    "import kerastuner\n",
    "import numpy as np\n",
    "import pandas as pd\n",
    "import os\n",
    "import json\n",
    "import datetime\n",
    "import dill"
   ]
  },
  {
   "cell_type": "code",
   "execution_count": 2,
   "metadata": {},
   "outputs": [],
   "source": [
    "from tensorflow.keras.layers import (\n",
    "    Dense, \n",
    "    Dropout,\n",
    "    LSTMCell,\n",
    "    RNN\n",
    ")"
   ]
  },
  {
   "cell_type": "code",
   "execution_count": 3,
   "metadata": {},
   "outputs": [],
   "source": [
    "physical_devices = tf.config.list_physical_devices('GPU')\n",
    "tf.config.experimental.set_memory_growth(physical_devices[0], enable=True)"
   ]
  },
  {
   "cell_type": "code",
   "execution_count": 4,
   "metadata": {},
   "outputs": [
    {
     "output_type": "execute_result",
     "data": {
      "text/plain": [
       "'20200918-103631'"
      ]
     },
     "metadata": {},
     "execution_count": 4
    }
   ],
   "source": [
    "timestamp = \"20200918-103631\"\n",
    "timestamp"
   ]
  },
  {
   "cell_type": "code",
   "execution_count": 5,
   "metadata": {},
   "outputs": [],
   "source": [
    "dataset_name = \"SEG_AR\""
   ]
  },
  {
   "cell_type": "code",
   "execution_count": 6,
   "metadata": {},
   "outputs": [],
   "source": [
    "static_params = {\n",
    "    'PAST_HISTORY': 16,\n",
    "    'FUTURE_TARGET': 8,\n",
    "    'BATCH_SIZE': 512,\n",
    "    'BUFFER_SIZE': 200000,\n",
    "    'EPOCHS': 500,\n",
    "    'VOCAB_SIZE': 16293\n",
    " }"
   ]
  },
  {
   "cell_type": "code",
   "execution_count": 7,
   "metadata": {},
   "outputs": [],
   "source": [
    "def generate_timeseries(dataset, start_index, end_index, history_size, target_size):\n",
    "    data = []\n",
    "    labels = []\n",
    "\n",
    "    start_index = start_index + history_size\n",
    "    if end_index is None:\n",
    "        end_index = len(dataset) - target_size\n",
    "\n",
    "    for i in range(start_index, end_index):\n",
    "        indices = range(i-history_size, i)\n",
    "        # Reshape data from (history_size,) to (history_size, n_feature)\n",
    "        data.append(np.reshape(dataset[indices], (history_size, 1)))\n",
    "        #data.append(dataset[indices])\n",
    "        labels.append(np.reshape(dataset[i:i+target_size], (target_size, 1)))\n",
    "        #labels.append(dataset[i:i+target_size])\n",
    "    return np.array(data), np.array(labels)"
   ]
  },
  {
   "cell_type": "code",
   "execution_count": 8,
   "metadata": {},
   "outputs": [],
   "source": [
    "with open(\"static/test_pipeline.pkl\", \"rb\") as p:\n",
    "    test_pipeline = dill.load(p)"
   ]
  },
  {
   "cell_type": "code",
   "execution_count": 9,
   "metadata": {},
   "outputs": [],
   "source": [
    "test_set = np.genfromtxt(\"data/SEG_test_set_original.csv\", delimiter=\"\\n\", dtype=np.int64)\n",
    "processed_test_set = test_pipeline.transform(test_set.copy())\n",
    "x_test, y_test = generate_timeseries(processed_test_set, 0, None, static_params[\"PAST_HISTORY\"], static_params[\"FUTURE_TARGET\"])"
   ]
  },
  {
   "cell_type": "code",
   "execution_count": 10,
   "metadata": {},
   "outputs": [],
   "source": [
    "model = tf.saved_model.load(\"version/\" + timestamp)"
   ]
  },
  {
   "cell_type": "code",
   "execution_count": 11,
   "metadata": {},
   "outputs": [
    {
     "output_type": "execute_result",
     "data": {
      "text/plain": [
       "ItemsView(_SignatureMap({'serving_default': <ConcreteFunction signature_wrapper(call) at 0x151984ADFC8>}))"
      ]
     },
     "metadata": {},
     "execution_count": 11
    }
   ],
   "source": [
    "model.signatures.items()"
   ]
  },
  {
   "cell_type": "code",
   "execution_count": 12,
   "metadata": {},
   "outputs": [],
   "source": [
    "inference = model.signatures[\"serving_default\"]"
   ]
  },
  {
   "cell_type": "code",
   "execution_count": 13,
   "metadata": {},
   "outputs": [
    {
     "output_type": "execute_result",
     "data": {
      "text/plain": [
       "{'output_0': <tf.Tensor: shape=(16, 8, 16293), dtype=float32, numpy=\n",
       " array([[[1.50097057e-05, 5.48189291e-07, 3.89038703e-08, ...,\n",
       "          2.30102135e-11, 3.40366602e-12, 1.55406863e-14],\n",
       "         [1.06637381e-05, 4.69579561e-07, 2.40659492e-08, ...,\n",
       "          2.27535317e-11, 1.81268531e-12, 7.57247624e-15],\n",
       "         [1.73060835e-05, 6.67029838e-07, 1.95133971e-08, ...,\n",
       "          1.75098033e-10, 8.74910127e-12, 7.91185016e-15],\n",
       "         ...,\n",
       "         [3.41588078e-04, 1.06824780e-06, 3.29334360e-09, ...,\n",
       "          6.09716766e-09, 3.74622555e-12, 1.84857339e-15],\n",
       "         [2.76026898e-04, 6.17002684e-07, 3.78019216e-09, ...,\n",
       "          8.04716294e-09, 8.52313391e-13, 1.01211279e-15],\n",
       "         [1.85614743e-03, 1.16095034e-05, 3.80971947e-08, ...,\n",
       "          3.88608790e-09, 5.19941815e-12, 2.05931412e-15]],\n",
       " \n",
       "        [[1.15620796e-05, 6.05554874e-07, 2.96360199e-08, ...,\n",
       "          2.00855842e-11, 1.79739177e-12, 1.08461578e-14],\n",
       "         [2.88992978e-05, 1.21338599e-06, 3.88748482e-08, ...,\n",
       "          1.29644309e-10, 6.54016858e-12, 1.51359231e-14],\n",
       "         [9.14297925e-05, 1.86903492e-06, 2.21745804e-08, ...,\n",
       "          3.65149466e-09, 6.30578159e-11, 1.79906207e-14],\n",
       "         ...,\n",
       "         [4.41712007e-04, 1.16726892e-06, 5.30393862e-09, ...,\n",
       "          6.44126308e-09, 1.38423333e-12, 1.71122509e-15],\n",
       "         [2.36669881e-03, 1.67458584e-05, 4.86424057e-08, ...,\n",
       "          3.36892203e-09, 7.48314171e-12, 3.04762454e-15],\n",
       "         [2.71239225e-03, 4.32184206e-05, 6.08340045e-08, ...,\n",
       "          2.46973719e-10, 2.90967576e-12, 2.00975444e-15]],\n",
       " \n",
       "        [[2.92201130e-05, 1.14471209e-06, 4.33423217e-08, ...,\n",
       "          1.21450683e-10, 6.04667314e-12, 1.75735281e-14],\n",
       "         [7.07616127e-05, 1.49679363e-06, 2.48106460e-08, ...,\n",
       "          2.68372835e-09, 4.90598846e-11, 1.77707580e-14],\n",
       "         [5.20238827e-04, 3.38909263e-06, 8.63056826e-09, ...,\n",
       "          1.19964891e-08, 5.29276831e-11, 9.04873354e-15],\n",
       "         ...,\n",
       "         [2.19079433e-03, 1.56080732e-05, 4.48872903e-08, ...,\n",
       "          2.88134006e-09, 6.71892359e-12, 2.68326909e-15],\n",
       "         [2.17826455e-03, 3.32683339e-05, 4.55253328e-08, ...,\n",
       "          1.70891842e-10, 2.23429998e-12, 1.55102088e-15],\n",
       "         [3.62663111e-03, 7.87092722e-05, 4.33282210e-08, ...,\n",
       "          9.02113020e-12, 1.93521550e-13, 1.18186274e-15]],\n",
       " \n",
       "        ...,\n",
       " \n",
       "        [[1.17007981e-03, 2.36182882e-06, 5.22749788e-10, ...,\n",
       "          8.49613348e-12, 8.75048664e-14, 2.61565231e-14],\n",
       "         [1.04968913e-03, 6.13329291e-07, 2.92871005e-10, ...,\n",
       "          2.20257688e-12, 6.77467048e-14, 6.93845006e-14],\n",
       "         [1.22348720e-04, 1.77110778e-07, 1.02160813e-09, ...,\n",
       "          5.68841849e-13, 3.44823318e-13, 7.34498996e-14],\n",
       "         ...,\n",
       "         [1.74881018e-06, 6.19961471e-10, 5.61200153e-08, ...,\n",
       "          1.28688466e-12, 4.34456013e-11, 8.86553955e-11],\n",
       "         [9.59282843e-05, 8.96685126e-09, 1.25447571e-07, ...,\n",
       "          4.33067997e-13, 2.44172599e-10, 1.44677131e-10],\n",
       "         [5.20458343e-05, 2.71269868e-10, 2.02584076e-07, ...,\n",
       "          1.36091266e-13, 4.26829665e-12, 3.13343573e-10]],\n",
       " \n",
       "        [[9.14320932e-04, 8.48168384e-07, 1.11075882e-09, ...,\n",
       "          3.55035727e-12, 4.60534551e-13, 2.00755658e-13],\n",
       "         [1.50953754e-04, 1.53284361e-07, 1.23367982e-09, ...,\n",
       "          8.12311373e-13, 3.30906309e-13, 8.73094593e-14],\n",
       "         [2.50743301e-06, 1.60355302e-08, 5.15808685e-09, ...,\n",
       "          3.40563434e-13, 1.39778488e-12, 4.06372798e-14],\n",
       "         ...,\n",
       "         [1.68311526e-04, 9.35220790e-09, 1.09108875e-07, ...,\n",
       "          2.27004342e-13, 1.04679147e-10, 5.99462702e-11],\n",
       "         [5.69448857e-05, 2.49698984e-10, 2.64848865e-07, ...,\n",
       "          6.74176833e-14, 1.51503376e-12, 1.46376938e-10],\n",
       "         [9.62680951e-03, 1.38544237e-06, 6.14707460e-06, ...,\n",
       "          1.49448845e-12, 3.88504819e-11, 3.50991214e-09]],\n",
       " \n",
       "        [[1.35831040e-04, 1.92975776e-07, 1.93575356e-09, ...,\n",
       "          9.47907876e-13, 5.52549217e-13, 1.05550049e-13],\n",
       "         [3.15101624e-06, 2.31653274e-08, 6.78292267e-09, ...,\n",
       "          2.51431200e-13, 1.38628106e-12, 3.98100471e-14],\n",
       "         [1.09044549e-06, 4.45113502e-09, 7.60814522e-09, ...,\n",
       "          1.99766879e-13, 3.88005513e-12, 4.41743864e-13],\n",
       "         ...,\n",
       "         [7.21451361e-05, 3.08321729e-10, 2.95153541e-07, ...,\n",
       "          5.30544914e-14, 1.21485396e-12, 1.23952279e-10],\n",
       "         [8.98841210e-03, 1.13947863e-06, 6.06881849e-06, ...,\n",
       "          6.39804832e-13, 2.13510338e-11, 1.95256433e-09],\n",
       "         [6.23055268e-04, 2.41536924e-08, 3.63342792e-06, ...,\n",
       "          4.04509901e-15, 9.28692073e-14, 6.71972894e-11]]], dtype=float32)>}"
      ]
     },
     "metadata": {},
     "execution_count": 13
    }
   ],
   "source": [
    "result = inference(tf.constant(x_test[:16].reshape(16, -1, 1)))\n",
    "result"
   ]
  },
  {
   "cell_type": "code",
   "execution_count": 14,
   "metadata": {},
   "outputs": [
    {
     "output_type": "execute_result",
     "data": {
      "text/plain": [
       "array([[  32,   32,   32, 4584,  210,  189,  306,  331],\n",
       "       [  32,   32, 4584,  210,  189,  306,  331, 4426],\n",
       "       [  32, 4584,  210,  189,  306,  331, 4426, 6272],\n",
       "       [4584,  210,  189,  306,  331, 4426, 6272,  566],\n",
       "       [ 210,  189,  306,  331, 4426, 6272,  566,  193],\n",
       "       [ 189,  306,  331, 4426, 6272,  566,  193, 5039],\n",
       "       [ 306,  331, 4426, 6272,  566,  193, 5039,  439],\n",
       "       [ 331, 4426, 6272,  566,  193, 5039,  439, 5525],\n",
       "       [4426, 6272,  566,  193, 5039,  439, 5525, 5680],\n",
       "       [6272,  566,  193, 5039,  439, 5525, 5680, 5096],\n",
       "       [ 566,  193, 5039,  439, 5525, 5680, 5096, 4239],\n",
       "       [ 193, 5039,  439, 5525, 5680, 5096, 4239, 4645],\n",
       "       [5039,  439, 5525, 5680, 5096, 4239, 4645,  967],\n",
       "       [ 439, 5525, 5680, 5096, 4239, 4645,  967,  298],\n",
       "       [5525, 5680, 5096, 4239, 4645,  967,  298,  195],\n",
       "       [5680, 5096, 4239, 4645,  967,  298,  195, 3408]], dtype=int64)"
      ]
     },
     "metadata": {},
     "execution_count": 14
    }
   ],
   "source": [
    "result_argmax = tf.argmax(result[\"output_0\"], axis=-1).numpy()\n",
    "result_argmax"
   ]
  },
  {
   "cell_type": "code",
   "execution_count": 15,
   "metadata": {},
   "outputs": [
    {
     "output_type": "execute_result",
     "data": {
      "text/plain": [
       "array([[  20,   32,   32, 4584,  210,  189,  306,  331],\n",
       "       [  32,   32, 4584,  210,  189,  306,  331, 4426],\n",
       "       [  32, 4584,  210,  189,  306,  331, 4426, 6272],\n",
       "       [4584,  210,  189,  306,  331, 4426, 6272,  566],\n",
       "       [ 210,  189,  306,  331, 4426, 6272,  566,  193],\n",
       "       [ 189,  306,  331, 4426, 6272,  566,  193, 5039],\n",
       "       [ 306,  331, 4426, 6272,  566,  193, 5039,  439],\n",
       "       [ 331, 4426, 6272,  566,  193, 5039,  439, 5525],\n",
       "       [4426, 6272,  566,  193, 5039,  439, 5525, 5680],\n",
       "       [6272,  566,  193, 5039,  439, 5525, 5680, 5096],\n",
       "       [ 566,  193, 5039,  439, 5525, 5680, 5096, 4239],\n",
       "       [ 193, 5039,  439, 5525, 5680, 5096, 4239, 4645],\n",
       "       [5039,  439, 5525, 5680, 5096, 4239, 4645,  967],\n",
       "       [ 439, 5525, 5680, 5096, 4239, 4645,  967,  298],\n",
       "       [5525, 5680, 5096, 4239, 4645,  967,  298,  195],\n",
       "       [5680, 5096, 4239, 4645,  967,  298,  195, 3408]])"
      ]
     },
     "metadata": {},
     "execution_count": 15
    }
   ],
   "source": [
    "np.squeeze(y_test[:16], axis=-1)"
   ]
  },
  {
   "cell_type": "code",
   "execution_count": 17,
   "metadata": {
    "tags": []
   },
   "outputs": [
    {
     "output_type": "stream",
     "name": "stdout",
     "text": [
      "              precision    recall  f1-score   support\n",
      "\n",
      "          20       0.00      0.00      0.00         1\n",
      "          32       0.83      1.00      0.91         5\n",
      "         189       1.00      1.00      1.00         6\n",
      "         193       1.00      1.00      1.00         8\n",
      "         195       1.00      1.00      1.00         2\n",
      "         210       1.00      1.00      1.00         5\n",
      "         298       1.00      1.00      1.00         3\n",
      "         306       1.00      1.00      1.00         7\n",
      "         331       1.00      1.00      1.00         8\n",
      "         439       1.00      1.00      1.00         8\n",
      "         566       1.00      1.00      1.00         8\n",
      "         967       1.00      1.00      1.00         4\n",
      "        3408       1.00      1.00      1.00         1\n",
      "        4239       1.00      1.00      1.00         6\n",
      "        4426       1.00      1.00      1.00         8\n",
      "        4584       1.00      1.00      1.00         4\n",
      "        4645       1.00      1.00      1.00         5\n",
      "        5039       1.00      1.00      1.00         8\n",
      "        5096       1.00      1.00      1.00         7\n",
      "        5525       1.00      1.00      1.00         8\n",
      "        5680       1.00      1.00      1.00         8\n",
      "        6272       1.00      1.00      1.00         8\n",
      "\n",
      "    accuracy                           0.99       128\n",
      "   macro avg       0.95      0.95      0.95       128\n",
      "weighted avg       0.99      0.99      0.99       128\n",
      "\n"
     ]
    }
   ],
   "source": [
    "from sklearn.metrics import accuracy_score, classification_report\n",
    "\n",
    "print(classification_report(np.squeeze(y_test[:16], axis=-1).reshape(1, -1)[0], tf.argmax(result[\"output_0\"], axis=-1).numpy().reshape(1, -1)[0]))"
   ]
  },
  {
   "cell_type": "code",
   "execution_count": 18,
   "metadata": {},
   "outputs": [
    {
     "output_type": "error",
     "ename": "ValueError",
     "evalue": "multiclass-multioutput is not supported",
     "traceback": [
      "\u001b[1;31m---------------------------------------------------------------------------\u001b[0m",
      "\u001b[1;31mValueError\u001b[0m                                Traceback (most recent call last)",
      "\u001b[1;32m<ipython-input-18-d92654909d3a>\u001b[0m in \u001b[0;36m<module>\u001b[1;34m\u001b[0m\n\u001b[1;32m----> 1\u001b[1;33m \u001b[0maccuracy_score\u001b[0m\u001b[1;33m(\u001b[0m\u001b[0mnp\u001b[0m\u001b[1;33m.\u001b[0m\u001b[0msqueeze\u001b[0m\u001b[1;33m(\u001b[0m\u001b[0my_test\u001b[0m\u001b[1;33m[\u001b[0m\u001b[1;33m:\u001b[0m\u001b[1;36m16\u001b[0m\u001b[1;33m]\u001b[0m\u001b[1;33m,\u001b[0m \u001b[0maxis\u001b[0m\u001b[1;33m=\u001b[0m\u001b[1;33m-\u001b[0m\u001b[1;36m1\u001b[0m\u001b[1;33m)\u001b[0m\u001b[1;33m,\u001b[0m \u001b[0mresult_argmax\u001b[0m\u001b[1;33m)\u001b[0m\u001b[1;33m\u001b[0m\u001b[1;33m\u001b[0m\u001b[0m\n\u001b[0m",
      "\u001b[1;32mC:\\ProgramData\\Anaconda3\\lib\\site-packages\\sklearn\\metrics\\_classification.py\u001b[0m in \u001b[0;36maccuracy_score\u001b[1;34m(y_true, y_pred, normalize, sample_weight)\u001b[0m\n\u001b[0;32m    183\u001b[0m \u001b[1;33m\u001b[0m\u001b[0m\n\u001b[0;32m    184\u001b[0m     \u001b[1;31m# Compute accuracy for each possible representation\u001b[0m\u001b[1;33m\u001b[0m\u001b[1;33m\u001b[0m\u001b[1;33m\u001b[0m\u001b[0m\n\u001b[1;32m--> 185\u001b[1;33m     \u001b[0my_type\u001b[0m\u001b[1;33m,\u001b[0m \u001b[0my_true\u001b[0m\u001b[1;33m,\u001b[0m \u001b[0my_pred\u001b[0m \u001b[1;33m=\u001b[0m \u001b[0m_check_targets\u001b[0m\u001b[1;33m(\u001b[0m\u001b[0my_true\u001b[0m\u001b[1;33m,\u001b[0m \u001b[0my_pred\u001b[0m\u001b[1;33m)\u001b[0m\u001b[1;33m\u001b[0m\u001b[1;33m\u001b[0m\u001b[0m\n\u001b[0m\u001b[0;32m    186\u001b[0m     \u001b[0mcheck_consistent_length\u001b[0m\u001b[1;33m(\u001b[0m\u001b[0my_true\u001b[0m\u001b[1;33m,\u001b[0m \u001b[0my_pred\u001b[0m\u001b[1;33m,\u001b[0m \u001b[0msample_weight\u001b[0m\u001b[1;33m)\u001b[0m\u001b[1;33m\u001b[0m\u001b[1;33m\u001b[0m\u001b[0m\n\u001b[0;32m    187\u001b[0m     \u001b[1;32mif\u001b[0m \u001b[0my_type\u001b[0m\u001b[1;33m.\u001b[0m\u001b[0mstartswith\u001b[0m\u001b[1;33m(\u001b[0m\u001b[1;34m'multilabel'\u001b[0m\u001b[1;33m)\u001b[0m\u001b[1;33m:\u001b[0m\u001b[1;33m\u001b[0m\u001b[1;33m\u001b[0m\u001b[0m\n",
      "\u001b[1;32mC:\\ProgramData\\Anaconda3\\lib\\site-packages\\sklearn\\metrics\\_classification.py\u001b[0m in \u001b[0;36m_check_targets\u001b[1;34m(y_true, y_pred)\u001b[0m\n\u001b[0;32m     95\u001b[0m     \u001b[1;31m# No metrics support \"multiclass-multioutput\" format\u001b[0m\u001b[1;33m\u001b[0m\u001b[1;33m\u001b[0m\u001b[1;33m\u001b[0m\u001b[0m\n\u001b[0;32m     96\u001b[0m     \u001b[1;32mif\u001b[0m \u001b[1;33m(\u001b[0m\u001b[0my_type\u001b[0m \u001b[1;32mnot\u001b[0m \u001b[1;32min\u001b[0m \u001b[1;33m[\u001b[0m\u001b[1;34m\"binary\"\u001b[0m\u001b[1;33m,\u001b[0m \u001b[1;34m\"multiclass\"\u001b[0m\u001b[1;33m,\u001b[0m \u001b[1;34m\"multilabel-indicator\"\u001b[0m\u001b[1;33m]\u001b[0m\u001b[1;33m)\u001b[0m\u001b[1;33m:\u001b[0m\u001b[1;33m\u001b[0m\u001b[1;33m\u001b[0m\u001b[0m\n\u001b[1;32m---> 97\u001b[1;33m         \u001b[1;32mraise\u001b[0m \u001b[0mValueError\u001b[0m\u001b[1;33m(\u001b[0m\u001b[1;34m\"{0} is not supported\"\u001b[0m\u001b[1;33m.\u001b[0m\u001b[0mformat\u001b[0m\u001b[1;33m(\u001b[0m\u001b[0my_type\u001b[0m\u001b[1;33m)\u001b[0m\u001b[1;33m)\u001b[0m\u001b[1;33m\u001b[0m\u001b[1;33m\u001b[0m\u001b[0m\n\u001b[0m\u001b[0;32m     98\u001b[0m \u001b[1;33m\u001b[0m\u001b[0m\n\u001b[0;32m     99\u001b[0m     \u001b[1;32mif\u001b[0m \u001b[0my_type\u001b[0m \u001b[1;32min\u001b[0m \u001b[1;33m[\u001b[0m\u001b[1;34m\"binary\"\u001b[0m\u001b[1;33m,\u001b[0m \u001b[1;34m\"multiclass\"\u001b[0m\u001b[1;33m]\u001b[0m\u001b[1;33m:\u001b[0m\u001b[1;33m\u001b[0m\u001b[1;33m\u001b[0m\u001b[0m\n",
      "\u001b[1;31mValueError\u001b[0m: multiclass-multioutput is not supported"
     ]
    }
   ],
   "source": [
    "accuracy_score(np.squeeze(y_test[:16], axis=-1), result_argmax)"
   ]
  },
  {
   "source": [
    "from sklearn.metrics import classification_report\n",
    "\n",
    "report = pd.DataFrame(classification_report(y_true, y_pred, output_dict=True)).transpose()\n",
    "report.to_csv(\"version/{}/report_2G1P.csv\".format(timestamp))\n",
    "print(report)"
   ],
   "cell_type": "markdown",
   "metadata": {}
  },
  {
   "cell_type": "code",
   "execution_count": 37,
   "metadata": {},
   "outputs": [
    {
     "output_type": "execute_result",
     "data": {
      "text/plain": [
       "array([93238620160, 93238624428, 93238645112, 93238649036, 93238653032,\n",
       "       93238658844, 93236211716, 93238665264, 93238670056, 93238685276,\n",
       "       93238686004, 93238825024, 93238829092, 93236215808, 93236219912,\n",
       "       93236224004, 93236228096], dtype=int64)"
      ]
     },
     "metadata": {},
     "execution_count": 37
    }
   ],
   "source": [
    "# x_true\n",
    "test_set[:17]"
   ]
  },
  {
   "cell_type": "code",
   "execution_count": 32,
   "metadata": {},
   "outputs": [
    {
     "output_type": "execute_result",
     "data": {
      "text/plain": [
       "array([    4268,    20684,     3924,     3996,     5812, -2447128,\n",
       "        2453548,     4792,    15220,      728,   139020,     4068,\n",
       "       -2613284,     4104], dtype=int64)"
      ]
     },
     "metadata": {},
     "execution_count": 32
    }
   ],
   "source": [
    "# x_delta\n",
    "test_pipeline[\"calculate_delta\"].transform(test_set[:15].copy())"
   ]
  },
  {
   "cell_type": "code",
   "execution_count": 33,
   "metadata": {},
   "outputs": [
    {
     "output_type": "execute_result",
     "data": {
      "text/plain": [
       "array([[ 185, 2340,  338,  190, 3235, 3004, 6040,  352, 3072,  416, 3421,\n",
       "        1558, 4131,   20,   32,   32]])"
      ]
     },
     "metadata": {},
     "execution_count": 33
    }
   ],
   "source": [
    "# x\n",
    "x_test[0].copy().reshape(1, -1)"
   ]
  },
  {
   "cell_type": "code",
   "execution_count": 25,
   "metadata": {},
   "outputs": [
    {
     "output_type": "execute_result",
     "data": {
      "text/plain": [
       "{'output_0': <tf.Tensor: shape=(1, 8, 16293), dtype=float32, numpy=\n",
       " array([[[1.5009706e-05, 5.4818929e-07, 3.8903945e-08, ...,\n",
       "          2.3010214e-11, 3.4036660e-12, 1.5540686e-14],\n",
       "         [1.0663727e-05, 4.6957956e-07, 2.4065949e-08, ...,\n",
       "          2.2753532e-11, 1.8126853e-12, 7.5724762e-15],\n",
       "         [1.7306060e-05, 6.6702898e-07, 1.9513333e-08, ...,\n",
       "          1.7509778e-10, 8.7490891e-12, 7.9118544e-15],\n",
       "         ...,\n",
       "         [3.4158808e-04, 1.0682478e-06, 3.2933436e-09, ...,\n",
       "          6.0971792e-09, 3.7462256e-12, 1.8485734e-15],\n",
       "         [2.7602725e-04, 6.1700348e-07, 3.7801970e-09, ...,\n",
       "          8.0471878e-09, 8.5231610e-13, 1.0121160e-15],\n",
       "         [1.8561472e-03, 1.1609491e-05, 3.8097262e-08, ...,\n",
       "          3.8860950e-09, 5.1994177e-12, 2.0593139e-15]]], dtype=float32)>}"
      ]
     },
     "metadata": {},
     "execution_count": 25
    }
   ],
   "source": [
    "result_1 = inference(tf.constant(x_test[0].reshape(1, -1, 1)))\n",
    "result_1"
   ]
  },
  {
   "cell_type": "code",
   "execution_count": 26,
   "metadata": {},
   "outputs": [
    {
     "output_type": "execute_result",
     "data": {
      "text/plain": [
       "array([[  32,   32,   32, 4584,  210,  189,  306,  331]], dtype=int64)"
      ]
     },
     "metadata": {},
     "execution_count": 26
    }
   ],
   "source": [
    "result_1_argmax = tf.argmax(result_1[\"output_0\"], axis=-1).numpy()\n",
    "result_1_argmax"
   ]
  },
  {
   "cell_type": "code",
   "execution_count": 27,
   "metadata": {},
   "outputs": [
    {
     "output_type": "execute_result",
     "data": {
      "text/plain": [
       "array([[   4092,    4092,    4092, 2470348,    4016,    4056,    4060,\n",
       "           4316]], dtype=int64)"
      ]
     },
     "metadata": {},
     "execution_count": 27
    }
   ],
   "source": [
    "test_pipeline[\"sparse_category_encoder\"].inverse_transform(result_1_argmax)"
   ]
  },
  {
   "cell_type": "code",
   "execution_count": 34,
   "metadata": {},
   "outputs": [
    {
     "output_type": "execute_result",
     "data": {
      "text/plain": [
       "array([93236228096, 93236232200, 93236236292, 93236240384, 93238710732,\n",
       "       93238714748, 93238718804, 93238722864], dtype=int64)"
      ]
     },
     "metadata": {},
     "execution_count": 34
    }
   ],
   "source": [
    "test_set[16:24]"
   ]
  },
  {
   "cell_type": "code",
   "execution_count": 36,
   "metadata": {},
   "outputs": [
    {
     "output_type": "execute_result",
     "data": {
      "text/plain": [
       "array([   4104,    4092,    4092, 2470348,    4016,    4056,    4060,\n",
       "          4316], dtype=int64)"
      ]
     },
     "metadata": {},
     "execution_count": 36
    }
   ],
   "source": [
    "test_pipeline[\"calculate_delta\"].transform(test_set[16:25].copy())"
   ]
  },
  {
   "cell_type": "code",
   "execution_count": 39,
   "metadata": {},
   "outputs": [
    {
     "output_type": "execute_result",
     "data": {
      "text/plain": [
       "(35555, 16, 1)"
      ]
     },
     "metadata": {},
     "execution_count": 39
    }
   ],
   "source": [
    "x_test.shape"
   ]
  },
  {
   "cell_type": "code",
   "execution_count": 46,
   "metadata": {},
   "outputs": [
    {
     "output_type": "execute_result",
     "data": {
      "text/plain": [
       "0        7740\n",
       "2        1556\n",
       "1        1036\n",
       "5         274\n",
       "7         266\n",
       "         ... \n",
       "16072       1\n",
       "1711        1\n",
       "4152        1\n",
       "5805        1\n",
       "14400       1\n",
       "Length: 12695, dtype: int64"
      ]
     },
     "metadata": {},
     "execution_count": 46
    }
   ],
   "source": [
    "pd.Series(processed_test_set).value_counts()#.to_csv(\"frequency_table.csv\")"
   ]
  },
  {
   "cell_type": "code",
   "execution_count": null,
   "metadata": {},
   "outputs": [],
   "source": []
  }
 ]
}