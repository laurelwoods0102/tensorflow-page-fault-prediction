{
 "metadata": {
  "language_info": {
   "codemirror_mode": {
    "name": "ipython",
    "version": 3
   },
   "file_extension": ".py",
   "mimetype": "text/x-python",
   "name": "python",
   "nbconvert_exporter": "python",
   "pygments_lexer": "ipython3",
   "version": "3.7.6-final"
  },
  "orig_nbformat": 2,
  "kernelspec": {
   "name": "python3",
   "display_name": "Python 3.7.6 64-bit (conda)",
   "metadata": {
    "interpreter": {
     "hash": "b3ba2566441a7c06988d0923437866b63cedc61552a5af99d1f4fb67d367b25f"
    }
   }
  }
 },
 "nbformat": 4,
 "nbformat_minor": 2,
 "cells": [
  {
   "cell_type": "code",
   "execution_count": 1,
   "metadata": {},
   "outputs": [],
   "source": [
    "import tensorflow as tf\n",
    "from tensorflow import keras\n",
    "from tensorboard.plugins.hparams import api as hp_api\n",
    "import kerastuner\n",
    "import numpy as np\n",
    "import pandas as pd\n",
    "import os\n",
    "import json\n",
    "import datetime\n",
    "import dill"
   ]
  },
  {
   "cell_type": "code",
   "execution_count": 2,
   "metadata": {},
   "outputs": [],
   "source": [
    "from tensorflow.keras.layers import (\n",
    "    Dense, \n",
    "    Dropout,\n",
    "    LSTMCell,\n",
    "    RNN\n",
    ")"
   ]
  },
  {
   "cell_type": "code",
   "execution_count": 3,
   "metadata": {},
   "outputs": [],
   "source": [
    "physical_devices = tf.config.list_physical_devices('GPU')\n",
    "tf.config.experimental.set_memory_growth(physical_devices[0], enable=True)"
   ]
  },
  {
   "cell_type": "code",
   "execution_count": 4,
   "metadata": {},
   "outputs": [
    {
     "output_type": "execute_result",
     "data": {
      "text/plain": [
       "'20200918-103631'"
      ]
     },
     "metadata": {},
     "execution_count": 4
    }
   ],
   "source": [
    "timestamp = \"20200918-103631\"\n",
    "timestamp"
   ]
  },
  {
   "cell_type": "code",
   "execution_count": 5,
   "metadata": {},
   "outputs": [],
   "source": [
    "dataset_name = \"SEG_AR\""
   ]
  },
  {
   "cell_type": "code",
   "execution_count": 6,
   "metadata": {},
   "outputs": [],
   "source": [
    "static_params = {\n",
    "    'PAST_HISTORY': 16,\n",
    "    'FUTURE_TARGET': 8,\n",
    "    'BATCH_SIZE': 512,\n",
    "    'BUFFER_SIZE': 200000,\n",
    "    'EPOCHS': 500,\n",
    "    'VOCAB_SIZE': 16293\n",
    " }"
   ]
  },
  {
   "cell_type": "code",
   "execution_count": 7,
   "metadata": {},
   "outputs": [],
   "source": [
    "with open(\"static/test_pipeline.pkl\", \"rb\") as p:\n",
    "    test_pipeline = dill.load(p)"
   ]
  },
  {
   "cell_type": "code",
   "execution_count": 8,
   "metadata": {},
   "outputs": [],
   "source": [
    "test_set = np.genfromtxt(\"data/SEG_test_set_original.csv\", delimiter=\"\\n\", dtype=np.int64)\n",
    "processed_test_set = test_pipeline.transform(test_set.copy())\n",
    "#x_test, y_test = generate_timeseries(processed_test_set, 0, None, static_params[\"PAST_HISTORY\"], static_params[\"FUTURE_TARGET\"])"
   ]
  },
  {
   "cell_type": "code",
   "execution_count": 9,
   "metadata": {},
   "outputs": [
    {
     "output_type": "execute_result",
     "data": {
      "text/plain": [
       "(2223, 35568)"
      ]
     },
     "metadata": {},
     "execution_count": 9
    }
   ],
   "source": [
    "test_set_size = len(processed_test_set)//(static_params[\"PAST_HISTORY\"])\n",
    "chunk_size = test_set_size * static_params[\"PAST_HISTORY\"]      # Test Set Size\n",
    "test_set_size, chunk_size"
   ]
  },
  {
   "cell_type": "code",
   "execution_count": 12,
   "metadata": {},
   "outputs": [],
   "source": [
    "processed_test_set_chunk = processed_test_set.copy()[:chunk_size]"
   ]
  },
  {
   "cell_type": "code",
   "execution_count": 13,
   "metadata": {},
   "outputs": [],
   "source": [
    "x_test = processed_test_set_chunk.reshape(-1, static_params[\"PAST_HISTORY\"])\n",
    "x_test = x_test[:-1]    # remove last x to match size with y"
   ]
  },
  {
   "cell_type": "code",
   "execution_count": 14,
   "metadata": {},
   "outputs": [
    {
     "output_type": "execute_result",
     "data": {
      "text/plain": [
       "(2222, 16)"
      ]
     },
     "metadata": {},
     "execution_count": 14
    }
   ],
   "source": [
    "x_test.shape"
   ]
  },
  {
   "cell_type": "code",
   "execution_count": 15,
   "metadata": {},
   "outputs": [],
   "source": [
    "y_test = []\n",
    "for i in range(test_set_size - 1):\n",
    "    y_test.append(processed_test_set_chunk[static_params[\"PAST_HISTORY\"]*(i+1):static_params[\"PAST_HISTORY\"]*(i+1)+static_params[\"FUTURE_TARGET\"]])\n",
    "y_test = np.array(y_test)"
   ]
  },
  {
   "cell_type": "code",
   "execution_count": 16,
   "metadata": {},
   "outputs": [
    {
     "output_type": "execute_result",
     "data": {
      "text/plain": [
       "array([  20,   32,   32, 4584,  210,  189,  306,  331])"
      ]
     },
     "metadata": {},
     "execution_count": 16
    }
   ],
   "source": [
    "y_test[0]"
   ]
  },
  {
   "cell_type": "code",
   "execution_count": 17,
   "metadata": {},
   "outputs": [
    {
     "output_type": "execute_result",
     "data": {
      "text/plain": [
       "((2222, 16), (2222, 8))"
      ]
     },
     "metadata": {},
     "execution_count": 17
    }
   ],
   "source": [
    "x_test.shape, y_test.shape"
   ]
  },
  {
   "cell_type": "code",
   "execution_count": 197,
   "metadata": {},
   "outputs": [],
   "source": [
    "model = tf.saved_model.load(\"version/\" + timestamp)"
   ]
  },
  {
   "cell_type": "code",
   "execution_count": 198,
   "metadata": {},
   "outputs": [
    {
     "output_type": "execute_result",
     "data": {
      "text/plain": [
       "ItemsView(_SignatureMap({'serving_default': <ConcreteFunction signature_wrapper(call) at 0x1F0244C2C08>}))"
      ]
     },
     "metadata": {},
     "execution_count": 198
    }
   ],
   "source": [
    "model.signatures.items()"
   ]
  },
  {
   "cell_type": "code",
   "execution_count": 199,
   "metadata": {},
   "outputs": [],
   "source": [
    "inference = model.signatures[\"serving_default\"]"
   ]
  },
  {
   "cell_type": "code",
   "execution_count": 200,
   "metadata": {},
   "outputs": [
    {
     "output_type": "execute_result",
     "data": {
      "text/plain": [
       "TensorShape([16, 8, 16293])"
      ]
     },
     "metadata": {},
     "execution_count": 200
    }
   ],
   "source": [
    "result = inference(tf.constant(x_test[:16].reshape(16, -1, 1)))\n",
    "result[\"output_0\"].shape"
   ]
  },
  {
   "cell_type": "code",
   "execution_count": 201,
   "metadata": {},
   "outputs": [
    {
     "output_type": "execute_result",
     "data": {
      "text/plain": [
       "array([[  32,   32,   32, 4584,  210,  189,  306,  331],\n",
       "       [5096, 4239, 4645,  967,  298,  195, 3408, 4665],\n",
       "       [3308, 1234, 3964, 1365,    2,  811,  607, 4042],\n",
       "       [ 410,  339,   37, 5643, 4618, 4724,  190,  127],\n",
       "       [4857,  170,  478, 6281,  457, 4975,  244, 5231],\n",
       "       [ 874, 5487, 5487, 3413,  448,  893,  316, 5251],\n",
       "       [4034,  101,  258, 1442, 5248, 4302, 1169, 3859],\n",
       "       [ 205, 4237,  406, 4881, 3657,  433, 2609, 5183],\n",
       "       [5015,  170,  507, 5007,  472, 3310,  428,  205],\n",
       "       [5383, 3729, 4746, 4232, 3506, 5785, 3752, 3467],\n",
       "       [4571, 3648, 5093,  457, 5610,  109,   37,   37],\n",
       "       [4466, 3850,  435,  435, 3529, 3529,  184,  189],\n",
       "       [5321, 3667, 4631, 5240, 5752,  341, 1487, 3561],\n",
       "       [ 194, 3796,  109,   54, 2531, 1792, 6113, 6113],\n",
       "       [ 206, 3060, 4158,  202, 4587, 3703, 4904, 5803],\n",
       "       [4927, 3540, 3870, 7934, 4009, 3531,  250,  127]], dtype=int64)"
      ]
     },
     "metadata": {},
     "execution_count": 201
    }
   ],
   "source": [
    "result_argmax = tf.argmax(result[\"output_0\"], axis=-1).numpy()\n",
    "result_argmax"
   ]
  },
  {
   "cell_type": "code",
   "execution_count": 202,
   "metadata": {},
   "outputs": [
    {
     "output_type": "execute_result",
     "data": {
      "text/plain": [
       "array([  32,   32,   32, 4584,  210,  189,  306,  331, 5096, 4239, 4645,\n",
       "        967,  298,  195, 3408, 4665, 3308, 1234, 3964, 1365,    2,  811,\n",
       "        607, 4042,  410,  339,   37, 5643, 4618, 4724,  190,  127, 4857,\n",
       "        170,  478, 6281,  457, 4975,  244, 5231,  874, 5487, 5487, 3413,\n",
       "        448,  893,  316, 5251, 4034,  101,  258, 1442, 5248, 4302, 1169,\n",
       "       3859,  205, 4237,  406, 4881, 3657,  433, 2609, 5183, 5015,  170,\n",
       "        507, 5007,  472, 3310,  428,  205, 5383, 3729, 4746, 4232, 3506,\n",
       "       5785, 3752, 3467, 4571, 3648, 5093,  457, 5610,  109,   37,   37,\n",
       "       4466, 3850,  435,  435, 3529, 3529,  184,  189, 5321, 3667, 4631,\n",
       "       5240, 5752,  341, 1487, 3561,  194, 3796,  109,   54, 2531, 1792,\n",
       "       6113, 6113,  206, 3060, 4158,  202, 4587, 3703, 4904, 5803, 4927,\n",
       "       3540, 3870, 7934, 4009, 3531,  250,  127], dtype=int64)"
      ]
     },
     "metadata": {},
     "execution_count": 202
    }
   ],
   "source": [
    "np.ravel(result_argmax)"
   ]
  },
  {
   "cell_type": "code",
   "execution_count": 203,
   "metadata": {},
   "outputs": [
    {
     "output_type": "execute_result",
     "data": {
      "text/plain": [
       "array([  20,   32,   32, 4584,  210,  189,  306,  331, 5096, 4239, 4645,\n",
       "        967,  298,  195, 3408, 4665, 3308, 1234, 3964, 1365,    2,  811,\n",
       "        607, 4042,  410,  339,   37, 5643, 4618, 4724,  190,  127, 4857,\n",
       "        170,  478, 6281,  457, 4975,  244, 5231,  874,  228, 5487, 3413,\n",
       "        448,  893,  316, 5251, 4034,  101,  258, 1442, 5248, 4302, 1169,\n",
       "       3859,  205, 4237,  406, 4881, 3657,  433, 2609, 5183, 5015,  170,\n",
       "        507, 5007,  472, 3310,  428,  205, 5383, 3729, 4746, 4232, 3506,\n",
       "       5785, 3752, 3467, 4571, 3648, 5093,  457, 5610,  109,   37,   33,\n",
       "       4466, 3850, 5246,  435,  291, 3529,  184,  182, 5321, 3667, 4631,\n",
       "       5240, 5752,  341, 1487, 3561,  194, 3796,  109,   54, 2531, 1792,\n",
       "       6113,  251,  206, 3060, 4158,  202, 4587, 3703, 4904, 5803, 4927,\n",
       "       3540, 3870, 7934, 4009, 3531,  250,  127])"
      ]
     },
     "metadata": {},
     "execution_count": 203
    }
   ],
   "source": [
    "np.ravel(y_test[:16])"
   ]
  },
  {
   "cell_type": "code",
   "execution_count": 204,
   "metadata": {
    "tags": []
   },
   "outputs": [
    {
     "output_type": "stream",
     "name": "stdout",
     "text": [
      "              precision    recall  f1-score   support\n",
      "\n",
      "           2       1.00      1.00      1.00         1\n",
      "          20       0.00      0.00      0.00         1\n",
      "          32       0.67      1.00      0.80         2\n",
      "          33       0.00      0.00      0.00         1\n",
      "          37       0.67      1.00      0.80         2\n",
      "          54       1.00      1.00      1.00         1\n",
      "         101       1.00      1.00      1.00         1\n",
      "         109       1.00      1.00      1.00         2\n",
      "         127       1.00      1.00      1.00         2\n",
      "         170       1.00      1.00      1.00         2\n",
      "         182       0.00      0.00      0.00         1\n",
      "         184       1.00      1.00      1.00         1\n",
      "         189       0.50      1.00      0.67         1\n",
      "         190       1.00      1.00      1.00         1\n",
      "         194       1.00      1.00      1.00         1\n",
      "         195       1.00      1.00      1.00         1\n",
      "         202       1.00      1.00      1.00         1\n",
      "         205       1.00      1.00      1.00         2\n",
      "         206       1.00      1.00      1.00         1\n",
      "         210       1.00      1.00      1.00         1\n",
      "         228       0.00      0.00      0.00         1\n",
      "         244       1.00      1.00      1.00         1\n",
      "         250       1.00      1.00      1.00         1\n",
      "         251       0.00      0.00      0.00         1\n",
      "         258       1.00      1.00      1.00         1\n",
      "         291       0.00      0.00      0.00         1\n",
      "         298       1.00      1.00      1.00         1\n",
      "         306       1.00      1.00      1.00         1\n",
      "         316       1.00      1.00      1.00         1\n",
      "         331       1.00      1.00      1.00         1\n",
      "         339       1.00      1.00      1.00         1\n",
      "         341       1.00      1.00      1.00         1\n",
      "         406       1.00      1.00      1.00         1\n",
      "         410       1.00      1.00      1.00         1\n",
      "         428       1.00      1.00      1.00         1\n",
      "         433       1.00      1.00      1.00         1\n",
      "         435       0.50      1.00      0.67         1\n",
      "         448       1.00      1.00      1.00         1\n",
      "         457       1.00      1.00      1.00         2\n",
      "         472       1.00      1.00      1.00         1\n",
      "         478       1.00      1.00      1.00         1\n",
      "         507       1.00      1.00      1.00         1\n",
      "         607       1.00      1.00      1.00         1\n",
      "         811       1.00      1.00      1.00         1\n",
      "         874       1.00      1.00      1.00         1\n",
      "         893       1.00      1.00      1.00         1\n",
      "         967       1.00      1.00      1.00         1\n",
      "        1169       1.00      1.00      1.00         1\n",
      "        1234       1.00      1.00      1.00         1\n",
      "        1365       1.00      1.00      1.00         1\n",
      "        1442       1.00      1.00      1.00         1\n",
      "        1487       1.00      1.00      1.00         1\n",
      "        1792       1.00      1.00      1.00         1\n",
      "        2531       1.00      1.00      1.00         1\n",
      "        2609       1.00      1.00      1.00         1\n",
      "        3060       1.00      1.00      1.00         1\n",
      "        3308       1.00      1.00      1.00         1\n",
      "        3310       1.00      1.00      1.00         1\n",
      "        3408       1.00      1.00      1.00         1\n",
      "        3413       1.00      1.00      1.00         1\n",
      "        3467       1.00      1.00      1.00         1\n",
      "        3506       1.00      1.00      1.00         1\n",
      "        3529       0.50      1.00      0.67         1\n",
      "        3531       1.00      1.00      1.00         1\n",
      "        3540       1.00      1.00      1.00         1\n",
      "        3561       1.00      1.00      1.00         1\n",
      "        3648       1.00      1.00      1.00         1\n",
      "        3657       1.00      1.00      1.00         1\n",
      "        3667       1.00      1.00      1.00         1\n",
      "        3703       1.00      1.00      1.00         1\n",
      "        3729       1.00      1.00      1.00         1\n",
      "        3752       1.00      1.00      1.00         1\n",
      "        3796       1.00      1.00      1.00         1\n",
      "        3850       1.00      1.00      1.00         1\n",
      "        3859       1.00      1.00      1.00         1\n",
      "        3870       1.00      1.00      1.00         1\n",
      "        3964       1.00      1.00      1.00         1\n",
      "        4009       1.00      1.00      1.00         1\n",
      "        4034       1.00      1.00      1.00         1\n",
      "        4042       1.00      1.00      1.00         1\n",
      "        4158       1.00      1.00      1.00         1\n",
      "        4232       1.00      1.00      1.00         1\n",
      "        4237       1.00      1.00      1.00         1\n",
      "        4239       1.00      1.00      1.00         1\n",
      "        4302       1.00      1.00      1.00         1\n",
      "        4466       1.00      1.00      1.00         1\n",
      "        4571       1.00      1.00      1.00         1\n",
      "        4584       1.00      1.00      1.00         1\n",
      "        4587       1.00      1.00      1.00         1\n",
      "        4618       1.00      1.00      1.00         1\n",
      "        4631       1.00      1.00      1.00         1\n",
      "        4645       1.00      1.00      1.00         1\n",
      "        4665       1.00      1.00      1.00         1\n",
      "        4724       1.00      1.00      1.00         1\n",
      "        4746       1.00      1.00      1.00         1\n",
      "        4857       1.00      1.00      1.00         1\n",
      "        4881       1.00      1.00      1.00         1\n",
      "        4904       1.00      1.00      1.00         1\n",
      "        4927       1.00      1.00      1.00         1\n",
      "        4975       1.00      1.00      1.00         1\n",
      "        5007       1.00      1.00      1.00         1\n",
      "        5015       1.00      1.00      1.00         1\n",
      "        5093       1.00      1.00      1.00         1\n",
      "        5096       1.00      1.00      1.00         1\n",
      "        5183       1.00      1.00      1.00         1\n",
      "        5231       1.00      1.00      1.00         1\n",
      "        5240       1.00      1.00      1.00         1\n",
      "        5246       0.00      0.00      0.00         1\n",
      "        5248       1.00      1.00      1.00         1\n",
      "        5251       1.00      1.00      1.00         1\n",
      "        5321       1.00      1.00      1.00         1\n",
      "        5383       1.00      1.00      1.00         1\n",
      "        5487       0.50      1.00      0.67         1\n",
      "        5610       1.00      1.00      1.00         1\n",
      "        5643       1.00      1.00      1.00         1\n",
      "        5752       1.00      1.00      1.00         1\n",
      "        5785       1.00      1.00      1.00         1\n",
      "        5803       1.00      1.00      1.00         1\n",
      "        6113       0.50      1.00      0.67         1\n",
      "        6281       1.00      1.00      1.00         1\n",
      "        7934       1.00      1.00      1.00         1\n",
      "\n",
      "    accuracy                           0.95       128\n",
      "   macro avg       0.92      0.94      0.93       128\n",
      "weighted avg       0.92      0.95      0.93       128\n",
      "\n"
     ]
    }
   ],
   "source": [
    "from sklearn.metrics import accuracy_score, classification_report\n",
    "\n",
    "print(classification_report(np.ravel(y_test[:16]), np.ravel(result_argmax)))"
   ]
  },
  {
   "cell_type": "code",
   "execution_count": 205,
   "metadata": {},
   "outputs": [
    {
     "output_type": "execute_result",
     "data": {
      "text/plain": [
       "0.9453125"
      ]
     },
     "metadata": {},
     "execution_count": 205
    }
   ],
   "source": [
    "accuracy_score(np.ravel(y_test[:16]), np.ravel(result_argmax))"
   ]
  },
  {
   "cell_type": "code",
   "execution_count": 18,
   "metadata": {},
   "outputs": [],
   "source": [
    "batch_size = 16\n",
    "batch_chunk = (x_test.shape[0]//batch_size)*batch_size\n",
    "x_test_batch = x_test[:batch_chunk].reshape(-1, batch_size, static_params[\"PAST_HISTORY\"])\n",
    "y_test_batch = y_test[:batch_chunk].reshape(-1, batch_size, static_params[\"FUTURE_TARGET\"])\n",
    "x_test_remainder = x_test[batch_chunk:]\n",
    "y_test_remainder = y_test[batch_chunk:]"
   ]
  },
  {
   "cell_type": "code",
   "execution_count": 269,
   "metadata": {},
   "outputs": [],
   "source": [
    "result = []\n",
    "for x in x_test_batch:\n",
    "    y_pred_batch = tf.argmax(inference(tf.constant(x.reshape(batch_size, -1, 1)))[\"output_0\"], axis=-1).numpy()\n",
    "    #y_pred_batch = y_pred_batch.reshape(-1, 8)\n",
    "    result.append(y_pred_batch)"
   ]
  },
  {
   "cell_type": "code",
   "execution_count": 270,
   "metadata": {},
   "outputs": [
    {
     "output_type": "execute_result",
     "data": {
      "text/plain": [
       "(138, 16, 8)"
      ]
     },
     "metadata": {},
     "execution_count": 270
    }
   ],
   "source": [
    "result = np.array(result)\n",
    "result.shape"
   ]
  },
  {
   "cell_type": "code",
   "execution_count": 271,
   "metadata": {},
   "outputs": [
    {
     "output_type": "execute_result",
     "data": {
      "text/plain": [
       "(17664,)"
      ]
     },
     "metadata": {},
     "execution_count": 271
    }
   ],
   "source": [
    "result = np.ravel(result)\n",
    "result.shape"
   ]
  },
  {
   "cell_type": "code",
   "execution_count": 272,
   "metadata": {},
   "outputs": [
    {
     "output_type": "execute_result",
     "data": {
      "text/plain": [
       "(17776,)"
      ]
     },
     "metadata": {},
     "execution_count": 272
    }
   ],
   "source": [
    "result = np.r_[result, np.ravel(tf.argmax(inference(tf.constant(x_test_remainder.reshape(x_test_remainder.shape[0], -1, 1)))[\"output_0\"], axis=-1).numpy())]\n",
    "result.shape"
   ]
  },
  {
   "cell_type": "code",
   "execution_count": 275,
   "metadata": {
    "tags": []
   },
   "outputs": [],
   "source": [
    "report = classification_report(np.ravel(y_test), result, output_dict=True)"
   ]
  },
  {
   "cell_type": "code",
   "execution_count": 276,
   "metadata": {},
   "outputs": [],
   "source": [
    "with open(\"report.json\", \"w\") as j:\n",
    "    json.dump(report, j, indent=4)"
   ]
  },
  {
   "cell_type": "code",
   "execution_count": 288,
   "metadata": {},
   "outputs": [],
   "source": [
    "from sklearn.metrics import precision_score, recall_score, f1_score\n",
    "\n",
    "p, r, f = [], [], []\n",
    "average_method = [\"micro\", \"macro\", \"weighted\"]\n",
    "\n",
    "for method in average_method:\n",
    "    precision = precision_score(np.ravel(y_test), result, average=method)\n",
    "    recall = recall_score(np.ravel(y_test), result, average=method)\n",
    "    f1 = f1_score(np.ravel(y_test), result, average=method)\n",
    "     \n",
    "    p.append(precision)\n",
    "    r.append(recall)\n",
    "    f.append(f1)"
   ]
  },
  {
   "cell_type": "code",
   "execution_count": 303,
   "metadata": {},
   "outputs": [],
   "source": [
    "with open(\"precision.csv\", \"w\") as c:\n",
    "    c.write(\", \".join(average_method))\n",
    "    c.write(\"\\n\")\n",
    "    for score in p:\n",
    "        c.write(str(score))\n",
    "        c.write(\",\")"
   ]
  },
  {
   "cell_type": "code",
   "execution_count": 304,
   "metadata": {},
   "outputs": [],
   "source": [
    "with open(\"recall.csv\", \"w\") as c:\n",
    "    c.write(\", \".join(average_method))\n",
    "    c.write(\"\\n\")\n",
    "    for score in r:\n",
    "        c.write(str(score))\n",
    "        c.write(\",\")"
   ]
  },
  {
   "cell_type": "code",
   "execution_count": 305,
   "metadata": {},
   "outputs": [],
   "source": [
    "with open(\"f1.csv\", \"w\") as c:\n",
    "    c.write(\", \".join(average_method))\n",
    "    c.write(\"\\n\")\n",
    "    for score in f:\n",
    "        c.write(str(score))\n",
    "        c.write(\",\")"
   ]
  },
  {
   "cell_type": "code",
   "execution_count": null,
   "metadata": {},
   "outputs": [],
   "source": []
  }
 ]
}