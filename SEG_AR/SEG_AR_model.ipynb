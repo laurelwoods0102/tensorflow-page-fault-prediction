{
 "metadata": {
  "language_info": {
   "codemirror_mode": {
    "name": "ipython",
    "version": 3
   },
   "file_extension": ".py",
   "mimetype": "text/x-python",
   "name": "python",
   "nbconvert_exporter": "python",
   "pygments_lexer": "ipython3",
   "version": "3.7.6-final"
  },
  "orig_nbformat": 2,
  "kernelspec": {
   "name": "python_defaultSpec_1600249754820",
   "display_name": "Python 3.7.6 64-bit ('base': conda)"
  }
 },
 "nbformat": 4,
 "nbformat_minor": 2,
 "cells": [
  {
   "cell_type": "code",
   "execution_count": 1,
   "metadata": {},
   "outputs": [],
   "source": [
    "import tensorflow as tf\n",
    "from tensorflow import keras\n",
    "from tensorboard.plugins.hparams import api as hp_api\n",
    "import kerastuner\n",
    "import numpy as np\n",
    "import pandas as pd\n",
    "import os\n",
    "import json\n",
    "import datetime\n",
    "import dill"
   ]
  },
  {
   "cell_type": "code",
   "execution_count": 2,
   "metadata": {},
   "outputs": [],
   "source": [
    "from tensorflow.keras.layers import (\n",
    "    TimeDistributed, \n",
    "    Dense, \n",
    "    Conv1D, \n",
    "    MaxPooling1D, \n",
    "    Bidirectional, \n",
    "    LSTM, \n",
    "    Dropout\n",
    ")"
   ]
  },
  {
   "cell_type": "code",
   "execution_count": 3,
   "metadata": {},
   "outputs": [],
   "source": [
    "physical_devices = tf.config.list_physical_devices('GPU')\n",
    "tf.config.experimental.set_memory_growth(physical_devices[0], enable=True)"
   ]
  },
  {
   "cell_type": "code",
   "execution_count": 4,
   "metadata": {},
   "outputs": [
    {
     "output_type": "execute_result",
     "data": {
      "text/plain": "'20200916-184946'"
     },
     "metadata": {},
     "execution_count": 4
    }
   ],
   "source": [
    "timestamp = datetime.datetime.now().strftime(\"%Y%m%d-%H%M%S\")\n",
    "log_dir = \"logs/\" + timestamp\n",
    "version_dir = \"version/\" + timestamp \n",
    "\n",
    "os.makedirs(log_dir)\n",
    "os.makedirs(version_dir)\n",
    "timestamp"
   ]
  },
  {
   "cell_type": "code",
   "execution_count": 5,
   "metadata": {},
   "outputs": [],
   "source": [
    "dataset_name = \"SEG_AR\""
   ]
  },
  {
   "cell_type": "code",
   "execution_count": 7,
   "metadata": {},
   "outputs": [
    {
     "output_type": "execute_result",
     "data": {
      "text/plain": "{'PAST_HISTORY': 16,\n 'FUTURE_TARGET': 8,\n 'BATCH_SIZE': 1024,\n 'BUFFER_SIZE': 200000,\n 'EPOCHS': 500}"
     },
     "metadata": {},
     "execution_count": 7
    }
   ],
   "source": [
    "with open(\"static/static_params.json\", 'r') as j:\n",
    "    static_params = json.load(j)\n",
    "static_params"
   ]
  },
  {
   "cell_type": "code",
   "execution_count": 7,
   "metadata": {},
   "outputs": [],
   "source": [
    "hparams = {\n",
    "    \"HP_BATCH_SIZE\" : 1024,\n",
    "    \"HP_CONV1D_FILTERS\" : 80,\n",
    "    \"HP_CONV1D_KERNEL_SIZE\" : 3,\n",
    "    \"HP_CONV1D_DROPOUT\" : 0.3,\n",
    "    \"HP_LSTM_1_UNITS\" : 40,\n",
    "    \"HP_LSTM_2_UNITS\" : 168,\n",
    "    \"HP_LSTM_1_DROPOUT\" : 0.3,\n",
    "    \"HP_LSTM_2_DROPOUT\" : 0.2,\n",
    "    \"HP_LEARNING_RATE\" : 1e-3\n",
    "}"
   ]
  },
  {
   "cell_type": "code",
   "execution_count": 8,
   "metadata": {},
   "outputs": [],
   "source": [
    "def generate_timeseries(dataset, start_index, end_index, history_size, target_size):\n",
    "    data = []\n",
    "    labels = []\n",
    "\n",
    "    start_index = start_index + history_size\n",
    "    if end_index is None:\n",
    "        end_index = len(dataset) - target_size\n",
    "\n",
    "    for i in range(start_index, end_index):\n",
    "        indices = range(i-history_size, i)\n",
    "        # Reshape data from (history_size,) to (history_size, n_feature)\n",
    "        data.append(np.reshape(dataset[indices], (history_size, 1)))\n",
    "        #data.append(dataset[indices])\n",
    "        labels.append(np.reshape(dataset[i:i+target_size], (target_size, 1)))\n",
    "        #labels.append(dataset[i:i+target_size])\n",
    "    return np.array(data), np.array(labels)"
   ]
  },
  {
   "cell_type": "code",
   "execution_count": 9,
   "metadata": {},
   "outputs": [],
   "source": [
    "train_set = np.genfromtxt(\"data/SEG_train_set.csv\", delimiter=\"\\n\", dtype=np.float32)\n",
    "x_train, y_train = generate_timeseries(train_set, 0, None, static_params[\"PAST_HISTORY\"], static_params[\"FUTURE_TARGET\"])\n",
    "train_data = tf.data.Dataset.from_tensor_slices((x_train, y_train))\n",
    "train_data = train_data.cache().batch(static_params[\"BATCH_SIZE\"]).shuffle(static_params[\"BUFFER_SIZE\"])"
   ]
  },
  {
   "cell_type": "code",
   "execution_count": 10,
   "metadata": {},
   "outputs": [],
   "source": [
    "val_set = np.genfromtxt(\"data/SEG_val_set.csv\", delimiter=\"\\n\", dtype=np.float32)\n",
    "x_val, y_val = generate_timeseries(val_set, 0, None, static_params[\"PAST_HISTORY\"], static_params[\"FUTURE_TARGET\"])\n",
    "val_data = tf.data.Dataset.from_tensor_slices((x_val, y_val))\n",
    "val_data = val_data.cache().batch(static_params[\"BATCH_SIZE\"])"
   ]
  },
  {
   "cell_type": "code",
   "execution_count": 12,
   "metadata": {},
   "outputs": [],
   "source": [
    "model = keras.Sequential()\n",
    "model.add(Conv1D(filters=hparams[\"HP_CONV1D_FILTERS\"], kernel_size=hparams[\"HP_CONV1D_KERNEL_SIZE\"], padding='causal', activation='relu'))\n",
    "model.add(MaxPooling1D(pool_size=2))\n",
    "model.add(Dropout(hparams[\"HP_CONV1D_DROPOUT\"]))\n",
    "model.add(Bidirectional(LSTM(hparams[\"HP_LSTM_1_UNITS\"], return_sequences=True)))\n",
    "model.add(Dropout(hparams[\"HP_LSTM_1_DROPOUT\"]))\n",
    "model.add(Bidirectional(LSTM(hparams[\"HP_LSTM_2_UNITS\"], return_sequences=True)))\n",
    "model.add(Dropout(hparams[\"HP_LSTM_2_DROPOUT\"]))\n",
    "model.add(TimeDistributed(Dense(static_params[\"VOCAB_SIZE\"], activation=\"softmax\")))\n",
    "\n",
    "model.compile(\n",
    "    optimizer=keras.optimizers.Nadam(hparams[\"HP_LEARNING_RATE\"]),\n",
    "    loss=\"sparse_categorical_crossentropy\",\n",
    "    metrics=['accuracy']\n",
    ")"
   ]
  },
  {
   "cell_type": "code",
   "execution_count": 20,
   "metadata": {
    "tags": []
   },
   "outputs": [
    {
     "output_type": "stream",
     "name": "stdout",
     "text": "1/158 [..............................] - ETA: 0s - loss: 6.4824 - accuracy: 0.21  2/158 [..............................] - ETA: 14s - loss: 7.2826 - accuracy: 0.220  3/158 [..............................] - ETA: 17s - loss: 4.9177 - accuracy: 0.480  4/158 [..............................] - ETA: 19s - loss: 3.9517 - accuracy: 0.589  5/158 [..............................] - ETA: 20s - loss: 4.3045 - accuracy: 0.551  6/158 [>.............................] - ETA: 21s - loss: 4.8560 - accuracy: 0.487  7/158 [>.............................] - ETA: 21s - loss: 4.9816 - accuracy: 0.485  8/158 [>.............................] - ETA: 21s - loss: 5.1722 - accuracy: 0.472  9/158 [>.............................] - ETA: 21s - loss: 5.1585 - accuracy: 0.470 10/158 [>.............................] - ETA: 22s - loss: 5.5602 - accuracy: 0.428 11/158 [=>............................] - ETA: 22s - loss: 5.7938 - accuracy: 0.401 12/158 [=>............................] - ETA: 22s - loss: 5.3332 - accuracy: 0.449 13/158 [=>............................] - ETA: 22s - loss: 5.6367 - accuracy: 0.420 14/158 [=>............................] - ETA: 22s - loss: 5.7565 - accuracy: 0.409 15/158 [=>............................] - ETA: 21s - loss: 5.5112 - accuracy: 0.411 16/158 [==>...........................] - ETA: 21s - loss: 5.5704 - accuracy: 0.410 17/158 [==>...........................] - ETA: 21s - loss: 5.5735 - accuracy: 0.407 18/158 [==>...........................] - ETA: 21s - loss: 5.6854 - accuracy: 0.395 19/158 [==>...........................] - ETA: 21s - loss: 5.6318 - accuracy: 0.397 20/158 [==>...........................] - ETA: 21s - loss: 5.6888 - accuracy: 0.390 21/158 [==>...........................] - ETA: 21s - loss: 5.5870 - accuracy: 0.403 22/158 [===>..........................] - ETA: 21s - loss: 5.4830 - accuracy: 0.407 23/158 [===>..........................] - ETA: 21s - loss: 5.5629 - accuracy: 0.396 24/158 [===>..........................] - ETA: 21s - loss: 5.6748 - accuracy: 0.386 25/158 [===>..........................] - ETA: 20s - loss: 5.7459 - accuracy: 0.373 26/158 [===>..........................] - ETA: 20s - loss: 5.7838 - accuracy: 0.370 27/158 [====>.........................] - ETA: 20s - loss: 5.7051 - accuracy: 0.381 28/158 [====>.........................] - ETA: 20s - loss: 5.8402 - accuracy: 0.368 29/158 [====>.........................] - ETA: 20s - loss: 5.6461 - accuracy: 0.390 30/158 [====>.........................] - ETA: 20s - loss: 5.4768 - accuracy: 0.407 31/158 [====>.........................] - ETA: 20s - loss: 5.3561 - accuracy: 0.422 32/158 [=====>........................] - ETA: 19s - loss: 5.4081 - accuracy: 0.417 33/158 [=====>........................] - ETA: 19s - loss: 5.4930 - accuracy: 0.410 34/158 [=====>........................] - ETA: 19s - loss: 5.5792 - accuracy: 0.400 35/158 [=====>........................] - ETA: 19s - loss: 5.6369 - accuracy: 0.392 36/158 [=====>........................] - ETA: 19s - loss: 5.6748 - accuracy: 0.388 37/158 [======>.......................] - ETA: 19s - loss: 5.7172 - accuracy: 0.380 38/158 [======>.......................] - ETA: 19s - loss: 5.7565 - accuracy: 0.375 39/158 [======>.......................] - ETA: 18s - loss: 5.6542 - accuracy: 0.377 40/158 [======>.......................] - ETA: 18s - loss: 5.5554 - accuracy: 0.388 41/158 [======>.......................] - ETA: 18s - loss: 5.5927 - accuracy: 0.387 42/158 [======>.......................] - ETA: 18s - loss: 5.6422 - accuracy: 0.384 43/158 [=======>......................] - ETA: 18s - loss: 5.5167 - accuracy: 0.399 44/158 [=======>......................] - ETA: 17s - loss: 5.5911 - accuracy: 0.393 45/158 [=======>......................] - ETA: 17s - loss: 5.6359 - accuracy: 0.387 46/158 [=======>......................] - ETA: 17s - loss: 5.7077 - accuracy: 0.379 47/158 [=======>......................] - ETA: 17s - loss: 5.7227 - accuracy: 0.379 48/158 [========>.....................] - ETA: 17s - loss: 5.7733 - accuracy: 0.373 49/158 [========>.....................] - ETA: 17s - loss: 5.7566 - accuracy: 0.371 50/158 [========>.....................] - ETA: 16s - loss: 5.7912 - accuracy: 0.369 51/158 [========>.....................] - ETA: 16s - loss: 5.8329 - accuracy: 0.362 52/158 [========>.....................] - ETA: 16s - loss: 5.8735 - accuracy: 0.358 53/158 [=========>....................] - ETA: 16s - loss: 5.8017 - accuracy: 0.366 54/158 [=========>....................] - ETA: 16s - loss: 5.8199 - accuracy: 0.364 55/158 [=========>....................] - ETA: 16s - loss: 5.7691 - accuracy: 0.366 56/158 [=========>....................] - ETA: 15s - loss: 5.8130 - accuracy: 0.363 57/158 [=========>....................] - ETA: 15s - loss: 5.7885 - accuracy: 0.367 58/158 [==========>...................] - ETA: 15s - loss: 5.6922 - accuracy: 0.378 59/158 [==========>...................] - ETA: 15s - loss: 5.6257 - accuracy: 0.386 60/158 [==========>...................] - ETA: 15s - loss: 5.6767 - accuracy: 0.380 61/158 [==========>...................] - ETA: 15s - loss: 5.6952 - accuracy: 0.378 62/158 [==========>...................] - ETA: 14s - loss: 5.6724 - accuracy: 0.382 63/158 [==========>...................] - ETA: 14s - loss: 5.6124 - accuracy: 0.383 64/158 [===========>..................] - ETA: 14s - loss: 5.6351 - accuracy: 0.381 65/158 [===========>..................] - ETA: 14s - loss: 5.6292 - accuracy: 0.383 66/158 [===========>..................] - ETA: 14s - loss: 5.6574 - accuracy: 0.380 67/158 [===========>..................] - ETA: 14s - loss: 5.7029 - accuracy: 0.377 68/158 [===========>..................] - ETA: 13s - loss: 5.6590 - accuracy: 0.381 69/158 [============>.................] - ETA: 13s - loss: 5.6867 - accuracy: 0.379 70/158 [============>.................] - ETA: 13s - loss: 5.7290 - accuracy: 0.375 71/158 [============>.................] - ETA: 13s - loss: 5.7818 - accuracy: 0.370 72/158 [============>.................] - ETA: 13s - loss: 5.7992 - accuracy: 0.367 73/158 [============>.................] - ETA: 13s - loss: 5.7762 - accuracy: 0.370 74/158 [=============>................] - ETA: 13s - loss: 5.8098 - accuracy: 0.368 75/158 [=============>................] - ETA: 12s - loss: 5.8141 - accuracy: 0.365 76/158 [=============>................] - ETA: 12s - loss: 5.8387 - accuracy: 0.364 77/158 [=============>................] - ETA: 12s - loss: 5.8403 - accuracy: 0.364 78/158 [=============>................] - ETA: 12s - loss: 5.7977 - accuracy: 0.368 79/158 [==============>...............] - ETA: 12s - loss: 5.7341 - accuracy: 0.375 80/158 [==============>...............] - ETA: 12s - loss: 5.7271 - accuracy: 0.377 81/158 [==============>...............] - ETA: 11s - loss: 5.6767 - accuracy: 0.377 82/158 [==============>...............] - ETA: 11s - loss: 5.6445 - accuracy: 0.377 83/158 [==============>...............] - ETA: 11s - loss: 5.6777 - accuracy: 0.374 84/158 [==============>...............] - ETA: 11s - loss: 5.7147 - accuracy: 0.371 85/158 [===============>..............] - ETA: 11s - loss: 5.7255 - accuracy: 0.368 86/158 [===============>..............] - ETA: 11s - loss: 5.7339 - accuracy: 0.367 87/158 [===============>..............] - ETA: 11s - loss: 5.7046 - accuracy: 0.371 88/158 [===============>..............] - ETA: 10s - loss: 5.6425 - accuracy: 0.378 89/158 [===============>..............] - ETA: 10s - loss: 5.6766 - accuracy: 0.374 90/158 [================>.............] - ETA: 10s - loss: 5.6991 - accuracy: 0.372 91/158 [================>.............] - ETA: 10s - loss: 5.7381 - accuracy: 0.368 92/158 [================>.............] - ETA: 10s - loss: 5.7488 - accuracy: 0.368 93/158 [================>.............] - ETA: 10s - loss: 5.7531 - accuracy: 0.367 94/158 [================>.............] - ETA: 9s - loss: 5.7807 - accuracy: 0.36 95/158 [=================>............] - ETA: 9s - loss: 5.8180 - accuracy: 0.36 96/158 [=================>............] - ETA: 9s - loss: 5.8269 - accuracy: 0.36 97/158 [=================>............] - ETA: 9s - loss: 5.8228 - accuracy: 0.36 98/158 [=================>............] - ETA: 9s - loss: 5.8264 - accuracy: 0.36 99/158 [=================>............] - ETA: 9s - loss: 5.7764 - accuracy: 0.36100/158 [=================>............] - ETA: 8s - loss: 5.7352 - accuracy: 0.37101/158 [==================>...........] - ETA: 8s - loss: 5.7548 - accuracy: 0.37102/158 [==================>...........] - ETA: 8s - loss: 5.7783 - accuracy: 0.36103/158 [==================>...........] - ETA: 8s - loss: 5.8073 - accuracy: 0.36104/158 [==================>...........] - ETA: 8s - loss: 5.7996 - accuracy: 0.36105/158 [==================>...........] - ETA: 8s - loss: 5.8013 - accuracy: 0.36106/158 [===================>..........] - ETA: 8s - loss: 5.8191 - accuracy: 0.36107/158 [===================>..........] - ETA: 7s - loss: 5.8209 - accuracy: 0.36108/158 [===================>..........] - ETA: 7s - loss: 5.8216 - accuracy: 0.36109/158 [===================>..........] - ETA: 7s - loss: 5.8391 - accuracy: 0.36110/158 [===================>..........] - ETA: 7s - loss: 5.8489 - accuracy: 0.35111/158 [====================>.........] - ETA: 7s - loss: 5.8254 - accuracy: 0.36112/158 [====================>.........] - ETA: 7s - loss: 5.8009 - accuracy: 0.36113/158 [====================>.........] - ETA: 6s - loss: 5.8040 - accuracy: 0.36114/158 [====================>.........] - ETA: 6s - loss: 5.8332 - accuracy: 0.36115/158 [====================>.........] - ETA: 6s - loss: 5.8463 - accuracy: 0.36116/158 [=====================>........] - ETA: 6s - loss: 5.8640 - accuracy: 0.35117/158 [=====================>........] - ETA: 6s - loss: 5.8817 - accuracy: 0.35118/158 [=====================>........] - ETA: 6s - loss: 5.8794 - accuracy: 0.35119/158 [=====================>........] - ETA: 6s - loss: 5.8891 - accuracy: 0.35120/158 [=====================>........] - ETA: 5s - loss: 5.8880 - accuracy: 0.35121/158 [=====================>........] - ETA: 5s - loss: 5.9146 - accuracy: 0.35122/158 [======================>.......] - ETA: 5s - loss: 5.9115 - accuracy: 0.35123/158 [======================>.......] - ETA: 5s - loss: 5.8808 - accuracy: 0.35124/158 [======================>.......] - ETA: 5s - loss: 5.8865 - accuracy: 0.35125/158 [======================>.......] - ETA: 5s - loss: 5.8756 - accuracy: 0.35126/158 [======================>.......] - ETA: 4s - loss: 5.8981 - accuracy: 0.35127/158 [=======================>......] - ETA: 4s - loss: 5.9132 - accuracy: 0.35128/158 [=======================>......] - ETA: 4s - loss: 5.9301 - accuracy: 0.35129/158 [=======================>......] - ETA: 4s - loss: 5.9419 - accuracy: 0.35130/158 [=======================>......] - ETA: 4s - loss: 5.8983 - accuracy: 0.35131/158 [=======================>......] - ETA: 4s - loss: 5.9058 - accuracy: 0.35132/158 [========================>.....] - ETA: 4s - loss: 5.9157 - accuracy: 0.35133/158 [========================>.....] - ETA: 3s - loss: 5.8815 - accuracy: 0.35134/158 [========================>.....] - ETA: 3s - loss: 5.8463 - accuracy: 0.35135/158 [========================>.....] - ETA: 3s - loss: 5.8667 - accuracy: 0.35136/158 [========================>.....] - ETA: 3s - loss: 5.8401 - accuracy: 0.35137/158 [=========================>....] - ETA: 3s - loss: 5.8475 - accuracy: 0.35138/158 [=========================>....] - ETA: 3s - loss: 5.8124 - accuracy: 0.35139/158 [=========================>....] - ETA: 2s - loss: 5.8137 - accuracy: 0.36140/158 [=========================>....] - ETA: 2s - loss: 5.8250 - accuracy: 0.35141/158 [=========================>....] - ETA: 2s - loss: 5.8329 - accuracy: 0.35142/158 [=========================>....] - ETA: 2s - loss: 5.8503 - accuracy: 0.35143/158 [==========================>...] - ETA: 2s - loss: 5.8434 - accuracy: 0.35144/158 [==========================>...] - ETA: 2s - loss: 5.8601 - accuracy: 0.35145/158 [==========================>...] - ETA: 2s - loss: 5.8231 - accuracy: 0.35146/158 [==========================>...] - ETA: 1s - loss: 5.7840 - accuracy: 0.36147/158 [==========================>...] - ETA: 1s - loss: 5.7968 - accuracy: 0.36148/158 [===========================>..] - ETA: 1s - loss: 5.8085 - accuracy: 0.36149/158 [===========================>..] - ETA: 1s - loss: 5.7919 - accuracy: 0.36150/158 [===========================>..] - ETA: 1s - loss: 5.8106 - accuracy: 0.36151/158 [===========================>..] - ETA: 1s - loss: 5.8206 - accuracy: 0.36152/158 [===========================>..] - ETA: 0s - loss: 5.8279 - accuracy: 0.35153/158 [============================>.] - ETA: 0s - loss: 5.8281 - accuracy: 0.35154/158 [============================>.] - ETA: 0s - loss: 5.7910 - accuracy: 0.36155/158 [============================>.] - ETA: 0s - loss: 5.8135 - accuracy: 0.36156/158 [============================>.] - ETA: 0s - loss: 5.8107 - accuracy: 0.35157/158 [============================>.] - ETA: 0s - loss: 5.7744 - accuracy: 0.36158/158 [==============================] - ETA: 0s - loss: 5.7958 - accuracy: 0.36158/158 [==============================] - 27s 171ms/step - loss: 5.7958 - accuracy: 0.3615 - val_loss: 7.2909 - val_accuracy: 0.1944\n"
    }
   ],
   "source": [
    "with tf.summary.create_file_writer(log_dir).as_default():\n",
    "    hp_api.hparams(hparams)\n",
    "    history = model.fit(train_data, validation_data=val_data, epochs=1, callbacks=[\n",
    "        keras.callbacks.EarlyStopping('val_accuracy', patience=3),\n",
    "        keras.callbacks.TensorBoard(log_dir)\n",
    "        ])\n",
    "    #tf.summary.scalar('accuracy', accuracy, step=1)"
   ]
  },
  {
   "cell_type": "code",
   "execution_count": 61,
   "metadata": {},
   "outputs": [],
   "source": [
    "model.save(version_dir + \"/model.h5\") "
   ]
  },
  {
   "cell_type": "code",
   "execution_count": null,
   "metadata": {},
   "outputs": [],
   "source": []
  }
 ]
}