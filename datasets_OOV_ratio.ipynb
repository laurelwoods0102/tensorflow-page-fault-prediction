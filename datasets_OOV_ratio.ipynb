{
 "metadata": {
  "language_info": {
   "codemirror_mode": {
    "name": "ipython",
    "version": 3
   },
   "file_extension": ".py",
   "mimetype": "text/x-python",
   "name": "python",
   "nbconvert_exporter": "python",
   "pygments_lexer": "ipython3",
   "version": "3.7.6"
  },
  "orig_nbformat": 2,
  "kernelspec": {
   "name": "python376jvsc74a57bd0b3ba2566441a7c06988d0923437866b63cedc61552a5af99d1f4fb67d367b25f",
   "display_name": "Python 3.7.6 64-bit (conda)"
  }
 },
 "nbformat": 4,
 "nbformat_minor": 2,
 "cells": [
  {
   "cell_type": "code",
   "execution_count": 1,
   "metadata": {},
   "outputs": [],
   "source": [
    "import numpy as np\n",
    "import pandas as pd\n",
    "import matplotlib\n",
    "import matplotlib.pyplot as plt\n",
    "import os\n",
    "import json\n",
    "import datetime"
   ]
  },
  {
   "cell_type": "code",
   "execution_count": 2,
   "metadata": {},
   "outputs": [],
   "source": [
    "gpa_only_datasets = \"SEG_preprocess_pipeline_retrain\""
   ]
  },
  {
   "cell_type": "code",
   "execution_count": 3,
   "metadata": {},
   "outputs": [],
   "source": [
    "gpa_rip_datasets = [    \n",
    "    'STREAM',\n",
    "    'GEMM_STREAM'\n",
    "]"
   ]
  },
  {
   "cell_type": "code",
   "execution_count": 4,
   "metadata": {},
   "outputs": [],
   "source": [
    "dataset_types = [\"train\", \"val\", \"test\"]"
   ]
  },
  {
   "cell_type": "code",
   "execution_count": 5,
   "metadata": {},
   "outputs": [],
   "source": [
    "result = []\n",
    "result_header = []\n",
    "for dataset_type in dataset_types:\n",
    "    result_header.extend([\n",
    "        f\"{dataset_type}_set_num_oov_gpa\", \n",
    "        f\"{dataset_type}_oov_ratio_gpa\", \n",
    "        f\"{dataset_type}_num_oov_rip\", \n",
    "        f\"{dataset_type}_oov_ratio_rip\"\n",
    "        ])"
   ]
  },
  {
   "cell_type": "code",
   "execution_count": 6,
   "metadata": {},
   "outputs": [],
   "source": [
    "vocab = np.genfromtxt(\"{}/static/vocabulary.csv\".format(gpa_only_datasets), delimiter=\"\\n\", dtype=np.int64)\n",
    "\n",
    "tmp = []\n",
    "for dataset_type in dataset_types:\n",
    "    dataset = np.genfromtxt(f\"{gpa_only_datasets}/data/SEG_retrain_{dataset_type}_set.csv\", delimiter=\"\\n\", dtype=np.int64)\n",
    "\n",
    "    num_oov = pd.Series(dataset).value_counts()[np.where(vocab == -1)[0][0]]\n",
    "    oov_ratio = num_oov / dataset.size\n",
    "\n",
    "    tmp.extend([num_oov, oov_ratio, None, None])\n",
    "\n",
    "result.append(tmp)"
   ]
  },
  {
   "cell_type": "code",
   "execution_count": 7,
   "metadata": {},
   "outputs": [
    {
     "output_type": "execute_result",
     "data": {
      "text/plain": [
       "[[37973,\n",
       "  0.23543161118723302,\n",
       "  None,\n",
       "  None,\n",
       "  7825,\n",
       "  0.1940579817969893,\n",
       "  None,\n",
       "  None,\n",
       "  7743,\n",
       "  0.2176283762893842,\n",
       "  None,\n",
       "  None]]"
      ]
     },
     "metadata": {},
     "execution_count": 7
    }
   ],
   "source": [
    "result"
   ]
  },
  {
   "cell_type": "code",
   "execution_count": 8,
   "metadata": {},
   "outputs": [],
   "source": [
    "for model_name in gpa_rip_datasets:\n",
    "    vocabulary_gpa = np.genfromtxt(f\"{model_name}/static/vocabulary_gpa.csv\", delimiter=\"\\n\", dtype=np.int64)\n",
    "    vocabulary_rip = np.genfromtxt(f\"{model_name}/static/vocabulary_rip.csv\", delimiter=\"\\n\", dtype=np.uint64)\n",
    "    \n",
    "    tmp = []\n",
    "    for dataset_type in dataset_types:\n",
    "        dataset = pd.read_csv(f\"{model_name}/data/{model_name}_{dataset_type}_set.csv\")        \n",
    "\n",
    "        num_oov_gpa = pd.Series(dataset[\"gpa\"]).value_counts()[np.where(vocabulary_gpa == -1)[0][0]]\n",
    "        num_oov_rip = pd.Series(dataset[\"rip\"]).value_counts()[np.where(vocabulary_rip == 0)[0][0]]\n",
    "\n",
    "        oov_ratio_gpa = num_oov_gpa / dataset.size\n",
    "        oov_ratio_rip = num_oov_rip / dataset.size\n",
    "\n",
    "        tmp.extend([num_oov_gpa, oov_ratio_gpa, num_oov_rip, oov_ratio_rip])\n",
    "    result.append(tmp)"
   ]
  },
  {
   "cell_type": "code",
   "execution_count": 9,
   "metadata": {},
   "outputs": [
    {
     "output_type": "execute_result",
     "data": {
      "text/plain": [
       "[[37973,\n",
       "  0.23543161118723302,\n",
       "  None,\n",
       "  None,\n",
       "  7825,\n",
       "  0.1940579817969893,\n",
       "  None,\n",
       "  None,\n",
       "  7743,\n",
       "  0.2176283762893842,\n",
       "  None,\n",
       "  None],\n",
       " [1417701,\n",
       "  0.25076518970549216,\n",
       "  2030041,\n",
       "  0.359076855045547,\n",
       "  273517,\n",
       "  0.1935203371218982,\n",
       "  561748,\n",
       "  0.39745120902010506,\n",
       "  268756,\n",
       "  0.21550546228999212,\n",
       "  452780,\n",
       "  0.36306747836573927],\n",
       " [1589345,\n",
       "  0.1279771375675418,\n",
       "  4299960,\n",
       "  0.3462411071573051,\n",
       "  510516,\n",
       "  0.16443084232977512,\n",
       "  1124786,\n",
       "  0.36227955523575844,\n",
       "  361264,\n",
       "  0.13187320221355878,\n",
       "  671602,\n",
       "  0.2451567450757078]]"
      ]
     },
     "metadata": {},
     "execution_count": 9
    }
   ],
   "source": [
    "result"
   ]
  },
  {
   "cell_type": "code",
   "execution_count": 15,
   "metadata": {},
   "outputs": [
    {
     "output_type": "execute_result",
     "data": {
      "text/plain": [
       "             train_set_num_oov_gpa  train_oov_ratio_gpa  train_num_oov_rip  \\\n",
       "SEG                          37973             0.235432                NaN   \n",
       "STREAM                     1417701             0.250765          2030041.0   \n",
       "GEMM_STREAM                1589345             0.127977          4299960.0   \n",
       "\n",
       "             train_oov_ratio_rip  val_set_num_oov_gpa  val_oov_ratio_gpa  \\\n",
       "SEG                          NaN                 7825           0.194058   \n",
       "STREAM                  0.359077               273517           0.193520   \n",
       "GEMM_STREAM             0.346241               510516           0.164431   \n",
       "\n",
       "             val_num_oov_rip  val_oov_ratio_rip  test_set_num_oov_gpa  \\\n",
       "SEG                      NaN                NaN                  7743   \n",
       "STREAM              561748.0           0.397451                268756   \n",
       "GEMM_STREAM        1124786.0           0.362280                361264   \n",
       "\n",
       "             test_oov_ratio_gpa  test_num_oov_rip  test_oov_ratio_rip  \n",
       "SEG                    0.217628               NaN                 NaN  \n",
       "STREAM                 0.215505          452780.0            0.363067  \n",
       "GEMM_STREAM            0.131873          671602.0            0.245157  "
      ],
      "text/html": "<div>\n<style scoped>\n    .dataframe tbody tr th:only-of-type {\n        vertical-align: middle;\n    }\n\n    .dataframe tbody tr th {\n        vertical-align: top;\n    }\n\n    .dataframe thead th {\n        text-align: right;\n    }\n</style>\n<table border=\"1\" class=\"dataframe\">\n  <thead>\n    <tr style=\"text-align: right;\">\n      <th></th>\n      <th>train_set_num_oov_gpa</th>\n      <th>train_oov_ratio_gpa</th>\n      <th>train_num_oov_rip</th>\n      <th>train_oov_ratio_rip</th>\n      <th>val_set_num_oov_gpa</th>\n      <th>val_oov_ratio_gpa</th>\n      <th>val_num_oov_rip</th>\n      <th>val_oov_ratio_rip</th>\n      <th>test_set_num_oov_gpa</th>\n      <th>test_oov_ratio_gpa</th>\n      <th>test_num_oov_rip</th>\n      <th>test_oov_ratio_rip</th>\n    </tr>\n  </thead>\n  <tbody>\n    <tr>\n      <th>SEG</th>\n      <td>37973</td>\n      <td>0.235432</td>\n      <td>NaN</td>\n      <td>NaN</td>\n      <td>7825</td>\n      <td>0.194058</td>\n      <td>NaN</td>\n      <td>NaN</td>\n      <td>7743</td>\n      <td>0.217628</td>\n      <td>NaN</td>\n      <td>NaN</td>\n    </tr>\n    <tr>\n      <th>STREAM</th>\n      <td>1417701</td>\n      <td>0.250765</td>\n      <td>2030041.0</td>\n      <td>0.359077</td>\n      <td>273517</td>\n      <td>0.193520</td>\n      <td>561748.0</td>\n      <td>0.397451</td>\n      <td>268756</td>\n      <td>0.215505</td>\n      <td>452780.0</td>\n      <td>0.363067</td>\n    </tr>\n    <tr>\n      <th>GEMM_STREAM</th>\n      <td>1589345</td>\n      <td>0.127977</td>\n      <td>4299960.0</td>\n      <td>0.346241</td>\n      <td>510516</td>\n      <td>0.164431</td>\n      <td>1124786.0</td>\n      <td>0.362280</td>\n      <td>361264</td>\n      <td>0.131873</td>\n      <td>671602.0</td>\n      <td>0.245157</td>\n    </tr>\n  </tbody>\n</table>\n</div>"
     },
     "metadata": {},
     "execution_count": 15
    }
   ],
   "source": [
    "df_oov_ratio = pd.DataFrame(result, columns=result_header, index=[\"SEG\", 'STREAM', 'GEMM_STREAM'])\n",
    "df_oov_ratio"
   ]
  },
  {
   "cell_type": "code",
   "execution_count": 16,
   "metadata": {},
   "outputs": [],
   "source": [
    "df_oov_ratio.to_csv(\"oov_ratio.csv\")"
   ]
  },
  {
   "cell_type": "code",
   "execution_count": null,
   "metadata": {},
   "outputs": [],
   "source": []
  }
 ]
}