{
 "metadata": {
  "language_info": {
   "codemirror_mode": {
    "name": "ipython",
    "version": 3
   },
   "file_extension": ".py",
   "mimetype": "text/x-python",
   "name": "python",
   "nbconvert_exporter": "python",
   "pygments_lexer": "ipython3",
   "version": "3.7.6"
  },
  "orig_nbformat": 2,
  "kernelspec": {
   "name": "python376jvsc74a57bd0b3ba2566441a7c06988d0923437866b63cedc61552a5af99d1f4fb67d367b25f",
   "display_name": "Python 3.7.6 64-bit (conda)"
  }
 },
 "nbformat": 4,
 "nbformat_minor": 2,
 "cells": [
  {
   "cell_type": "code",
   "execution_count": 1,
   "metadata": {},
   "outputs": [],
   "source": [
    "import numpy as np\n",
    "import pandas as pd\n",
    "import json\n",
    "import dill         # 0.3.2\n",
    "from sklearn.base import BaseEstimator, TransformerMixin\n",
    "from sklearn.pipeline import Pipeline\n",
    "from sklearn.model_selection import train_test_split"
   ]
  },
  {
   "cell_type": "markdown",
   "metadata": {},
   "source": [
    "## Set Global/Environment Variables"
   ]
  },
  {
   "cell_type": "code",
   "execution_count": 2,
   "metadata": {},
   "outputs": [],
   "source": [
    "model_name = \"STREAM+GEMM\""
   ]
  },
  {
   "cell_type": "markdown",
   "metadata": {},
   "source": [
    "## Load Dataset/Static Param List"
   ]
  },
  {
   "cell_type": "code",
   "execution_count": 3,
   "metadata": {},
   "outputs": [
    {
     "output_type": "execute_result",
     "data": {
      "text/plain": [
       "                   extra             time address_type         gpa  \\\n",
       "0       [336633.698810]   04:01:00:854206           PF   251797631   \n",
       "1       [336633.739463]   04:01:00:894857           PF  1007005696   \n",
       "2       [336633.867033]   04:01:01:022428           PF   906555392   \n",
       "3       [336633.901503]   04:01:01:056898           PF  1914261504   \n",
       "4       [336633.904886]   04:01:01:060282           PF   259330048   \n",
       "...                  ...              ...          ...         ...   \n",
       "180309   [ 1806.225725]   07:00:33:381360           PF   602140104   \n",
       "180310   [ 1806.225827]   07:00:33:381465           PF   597469140   \n",
       "180311   [ 1806.240176]   07:00:33:395810           PF   596315344   \n",
       "180312   [ 1806.240198]   07:00:33:395836           PF   597544452   \n",
       "180313   [ 1806.401068]   07:00:33:556702           PF   603197568   \n",
       "\n",
       "                         rip  vmid  \n",
       "0       18446744072449302655  4034  \n",
       "1       18446744072452043863  4034  \n",
       "2       18446744072452043863  4034  \n",
       "3       18446744072452043863  4034  \n",
       "4       18446744072452043863  4034  \n",
       "...                      ...   ...  \n",
       "180309       139790387006578  4034  \n",
       "180310  18446744072443263295  4034  \n",
       "180311  18446744072442219334  4034  \n",
       "180312  18446744072441579461  4034  \n",
       "180313       139675253067982  4034  \n",
       "\n",
       "[4157042 rows x 6 columns]"
      ],
      "text/html": "<div>\n<style scoped>\n    .dataframe tbody tr th:only-of-type {\n        vertical-align: middle;\n    }\n\n    .dataframe tbody tr th {\n        vertical-align: top;\n    }\n\n    .dataframe thead th {\n        text-align: right;\n    }\n</style>\n<table border=\"1\" class=\"dataframe\">\n  <thead>\n    <tr style=\"text-align: right;\">\n      <th></th>\n      <th>extra</th>\n      <th>time</th>\n      <th>address_type</th>\n      <th>gpa</th>\n      <th>rip</th>\n      <th>vmid</th>\n    </tr>\n  </thead>\n  <tbody>\n    <tr>\n      <th>0</th>\n      <td>[336633.698810]</td>\n      <td>04:01:00:854206</td>\n      <td>PF</td>\n      <td>251797631</td>\n      <td>18446744072449302655</td>\n      <td>4034</td>\n    </tr>\n    <tr>\n      <th>1</th>\n      <td>[336633.739463]</td>\n      <td>04:01:00:894857</td>\n      <td>PF</td>\n      <td>1007005696</td>\n      <td>18446744072452043863</td>\n      <td>4034</td>\n    </tr>\n    <tr>\n      <th>2</th>\n      <td>[336633.867033]</td>\n      <td>04:01:01:022428</td>\n      <td>PF</td>\n      <td>906555392</td>\n      <td>18446744072452043863</td>\n      <td>4034</td>\n    </tr>\n    <tr>\n      <th>3</th>\n      <td>[336633.901503]</td>\n      <td>04:01:01:056898</td>\n      <td>PF</td>\n      <td>1914261504</td>\n      <td>18446744072452043863</td>\n      <td>4034</td>\n    </tr>\n    <tr>\n      <th>4</th>\n      <td>[336633.904886]</td>\n      <td>04:01:01:060282</td>\n      <td>PF</td>\n      <td>259330048</td>\n      <td>18446744072452043863</td>\n      <td>4034</td>\n    </tr>\n    <tr>\n      <th>...</th>\n      <td>...</td>\n      <td>...</td>\n      <td>...</td>\n      <td>...</td>\n      <td>...</td>\n      <td>...</td>\n    </tr>\n    <tr>\n      <th>180309</th>\n      <td>[ 1806.225725]</td>\n      <td>07:00:33:381360</td>\n      <td>PF</td>\n      <td>602140104</td>\n      <td>139790387006578</td>\n      <td>4034</td>\n    </tr>\n    <tr>\n      <th>180310</th>\n      <td>[ 1806.225827]</td>\n      <td>07:00:33:381465</td>\n      <td>PF</td>\n      <td>597469140</td>\n      <td>18446744072443263295</td>\n      <td>4034</td>\n    </tr>\n    <tr>\n      <th>180311</th>\n      <td>[ 1806.240176]</td>\n      <td>07:00:33:395810</td>\n      <td>PF</td>\n      <td>596315344</td>\n      <td>18446744072442219334</td>\n      <td>4034</td>\n    </tr>\n    <tr>\n      <th>180312</th>\n      <td>[ 1806.240198]</td>\n      <td>07:00:33:395836</td>\n      <td>PF</td>\n      <td>597544452</td>\n      <td>18446744072441579461</td>\n      <td>4034</td>\n    </tr>\n    <tr>\n      <th>180313</th>\n      <td>[ 1806.401068]</td>\n      <td>07:00:33:556702</td>\n      <td>PF</td>\n      <td>603197568</td>\n      <td>139675253067982</td>\n      <td>4034</td>\n    </tr>\n  </tbody>\n</table>\n<p>4157042 rows × 6 columns</p>\n</div>"
     },
     "metadata": {},
     "execution_count": 3
    }
   ],
   "source": [
    "STREAM_dataset = pd.concat([pd.read_csv(\"../로그 데이터/STREAM/STREAM/stream_4034_generic2_{}.csv\".format(i), dtype=np.object) for i in reversed(range(1, 11))], axis=0)\n",
    "STREAM_dataset"
   ]
  },
  {
   "cell_type": "code",
   "execution_count": 4,
   "metadata": {},
   "outputs": [
    {
     "output_type": "execute_result",
     "data": {
      "text/plain": [
       "               gpa                   rip\n",
       "0        251797631  18446744072449302655\n",
       "1       1007005696  18446744072452043863\n",
       "2        906555392  18446744072452043863\n",
       "3       1914261504  18446744072452043863\n",
       "4        259330048  18446744072452043863\n",
       "...            ...                   ...\n",
       "180309   602140104       139790387006578\n",
       "180310   597469140  18446744072443263295\n",
       "180311   596315344  18446744072442219334\n",
       "180312   597544452  18446744072441579461\n",
       "180313   603197568       139675253067982\n",
       "\n",
       "[4156988 rows x 2 columns]"
      ],
      "text/html": "<div>\n<style scoped>\n    .dataframe tbody tr th:only-of-type {\n        vertical-align: middle;\n    }\n\n    .dataframe tbody tr th {\n        vertical-align: top;\n    }\n\n    .dataframe thead th {\n        text-align: right;\n    }\n</style>\n<table border=\"1\" class=\"dataframe\">\n  <thead>\n    <tr style=\"text-align: right;\">\n      <th></th>\n      <th>gpa</th>\n      <th>rip</th>\n    </tr>\n  </thead>\n  <tbody>\n    <tr>\n      <th>0</th>\n      <td>251797631</td>\n      <td>18446744072449302655</td>\n    </tr>\n    <tr>\n      <th>1</th>\n      <td>1007005696</td>\n      <td>18446744072452043863</td>\n    </tr>\n    <tr>\n      <th>2</th>\n      <td>906555392</td>\n      <td>18446744072452043863</td>\n    </tr>\n    <tr>\n      <th>3</th>\n      <td>1914261504</td>\n      <td>18446744072452043863</td>\n    </tr>\n    <tr>\n      <th>4</th>\n      <td>259330048</td>\n      <td>18446744072452043863</td>\n    </tr>\n    <tr>\n      <th>...</th>\n      <td>...</td>\n      <td>...</td>\n    </tr>\n    <tr>\n      <th>180309</th>\n      <td>602140104</td>\n      <td>139790387006578</td>\n    </tr>\n    <tr>\n      <th>180310</th>\n      <td>597469140</td>\n      <td>18446744072443263295</td>\n    </tr>\n    <tr>\n      <th>180311</th>\n      <td>596315344</td>\n      <td>18446744072442219334</td>\n    </tr>\n    <tr>\n      <th>180312</th>\n      <td>597544452</td>\n      <td>18446744072441579461</td>\n    </tr>\n    <tr>\n      <th>180313</th>\n      <td>603197568</td>\n      <td>139675253067982</td>\n    </tr>\n  </tbody>\n</table>\n<p>4156988 rows × 2 columns</p>\n</div>"
     },
     "metadata": {},
     "execution_count": 4
    }
   ],
   "source": [
    "STREAM_dataset = STREAM_dataset[[\"gpa\", \"rip\"]].dropna()       # rip for PCs\n",
    "STREAM_dataset"
   ]
  },
  {
   "cell_type": "code",
   "execution_count": 5,
   "metadata": {},
   "outputs": [
    {
     "output_type": "execute_result",
     "data": {
      "text/plain": [
       "                   extra             time address_type          gpa  \\\n",
       "0       [601757.292075]   06:00:51:525554           PF  14190604288   \n",
       "1       [601757.297013]   06:00:51:530492           PF  14352732392   \n",
       "2       [601757.337978]   06:00:51:571456           PF  14121463808   \n",
       "3       [601757.368684]   06:00:51:602162           PF  14120734720   \n",
       "4       [601757.376568]   06:00:51:610048           PF  14120828928   \n",
       "...                  ...              ...          ...          ...   \n",
       "400591   [ 1946.373117]   07:24:00:468967          GPA   8620549134   \n",
       "400592   [ 1946.373123]   07:24:00:468972          GPA  22541025656   \n",
       "400593   [ 1946.373157]   07:24:00:469006          GPA   8620549134   \n",
       "400594   [ 1946.373422]   07:24:00:469266          GPA   8620548801   \n",
       "400595   [ 1946.373454]   07:24:00:469301          GPA  22638145536   \n",
       "\n",
       "                         rip  vmid  \n",
       "0                   15410752  3214  \n",
       "1            140316942991300  3214  \n",
       "2                   15410776  3214  \n",
       "3                   15410764  3214  \n",
       "4                   15410764  3214  \n",
       "...                      ...   ...  \n",
       "400591  18446744071888380942  3214  \n",
       "400592  18446744071888380942  3214  \n",
       "400593  18446744071888380942  3214  \n",
       "400594  18446744071888380609  3214  \n",
       "400595  18446744071888380609  3214  \n",
       "\n",
       "[2332979 rows x 6 columns]"
      ],
      "text/html": "<div>\n<style scoped>\n    .dataframe tbody tr th:only-of-type {\n        vertical-align: middle;\n    }\n\n    .dataframe tbody tr th {\n        vertical-align: top;\n    }\n\n    .dataframe thead th {\n        text-align: right;\n    }\n</style>\n<table border=\"1\" class=\"dataframe\">\n  <thead>\n    <tr style=\"text-align: right;\">\n      <th></th>\n      <th>extra</th>\n      <th>time</th>\n      <th>address_type</th>\n      <th>gpa</th>\n      <th>rip</th>\n      <th>vmid</th>\n    </tr>\n  </thead>\n  <tbody>\n    <tr>\n      <th>0</th>\n      <td>[601757.292075]</td>\n      <td>06:00:51:525554</td>\n      <td>PF</td>\n      <td>14190604288</td>\n      <td>15410752</td>\n      <td>3214</td>\n    </tr>\n    <tr>\n      <th>1</th>\n      <td>[601757.297013]</td>\n      <td>06:00:51:530492</td>\n      <td>PF</td>\n      <td>14352732392</td>\n      <td>140316942991300</td>\n      <td>3214</td>\n    </tr>\n    <tr>\n      <th>2</th>\n      <td>[601757.337978]</td>\n      <td>06:00:51:571456</td>\n      <td>PF</td>\n      <td>14121463808</td>\n      <td>15410776</td>\n      <td>3214</td>\n    </tr>\n    <tr>\n      <th>3</th>\n      <td>[601757.368684]</td>\n      <td>06:00:51:602162</td>\n      <td>PF</td>\n      <td>14120734720</td>\n      <td>15410764</td>\n      <td>3214</td>\n    </tr>\n    <tr>\n      <th>4</th>\n      <td>[601757.376568]</td>\n      <td>06:00:51:610048</td>\n      <td>PF</td>\n      <td>14120828928</td>\n      <td>15410764</td>\n      <td>3214</td>\n    </tr>\n    <tr>\n      <th>...</th>\n      <td>...</td>\n      <td>...</td>\n      <td>...</td>\n      <td>...</td>\n      <td>...</td>\n      <td>...</td>\n    </tr>\n    <tr>\n      <th>400591</th>\n      <td>[ 1946.373117]</td>\n      <td>07:24:00:468967</td>\n      <td>GPA</td>\n      <td>8620549134</td>\n      <td>18446744071888380942</td>\n      <td>3214</td>\n    </tr>\n    <tr>\n      <th>400592</th>\n      <td>[ 1946.373123]</td>\n      <td>07:24:00:468972</td>\n      <td>GPA</td>\n      <td>22541025656</td>\n      <td>18446744071888380942</td>\n      <td>3214</td>\n    </tr>\n    <tr>\n      <th>400593</th>\n      <td>[ 1946.373157]</td>\n      <td>07:24:00:469006</td>\n      <td>GPA</td>\n      <td>8620549134</td>\n      <td>18446744071888380942</td>\n      <td>3214</td>\n    </tr>\n    <tr>\n      <th>400594</th>\n      <td>[ 1946.373422]</td>\n      <td>07:24:00:469266</td>\n      <td>GPA</td>\n      <td>8620548801</td>\n      <td>18446744071888380609</td>\n      <td>3214</td>\n    </tr>\n    <tr>\n      <th>400595</th>\n      <td>[ 1946.373454]</td>\n      <td>07:24:00:469301</td>\n      <td>GPA</td>\n      <td>22638145536</td>\n      <td>18446744071888380609</td>\n      <td>3214</td>\n    </tr>\n  </tbody>\n</table>\n<p>2332979 rows × 6 columns</p>\n</div>"
     },
     "metadata": {},
     "execution_count": 5
    }
   ],
   "source": [
    "GEMM_dataset = pd.concat([pd.read_csv(\"../로그 데이터/GEMM/gem_3214_generic_{}.csv\".format(i), dtype=np.object) for i in reversed(range(1, 11))], axis=0)\n",
    "GEMM_dataset"
   ]
  },
  {
   "cell_type": "code",
   "execution_count": 6,
   "metadata": {},
   "outputs": [
    {
     "output_type": "execute_result",
     "data": {
      "text/plain": [
       "                gpa                   rip\n",
       "0       14190604288              15410752\n",
       "1       14352732392       140316942991300\n",
       "2       14121463808              15410776\n",
       "3       14120734720              15410764\n",
       "4       14120828928              15410764\n",
       "...             ...                   ...\n",
       "400591   8620549134  18446744071888380942\n",
       "400592  22541025656  18446744071888380942\n",
       "400593   8620549134  18446744071888380942\n",
       "400594   8620548801  18446744071888380609\n",
       "400595  22638145536  18446744071888380609\n",
       "\n",
       "[2332869 rows x 2 columns]"
      ],
      "text/html": "<div>\n<style scoped>\n    .dataframe tbody tr th:only-of-type {\n        vertical-align: middle;\n    }\n\n    .dataframe tbody tr th {\n        vertical-align: top;\n    }\n\n    .dataframe thead th {\n        text-align: right;\n    }\n</style>\n<table border=\"1\" class=\"dataframe\">\n  <thead>\n    <tr style=\"text-align: right;\">\n      <th></th>\n      <th>gpa</th>\n      <th>rip</th>\n    </tr>\n  </thead>\n  <tbody>\n    <tr>\n      <th>0</th>\n      <td>14190604288</td>\n      <td>15410752</td>\n    </tr>\n    <tr>\n      <th>1</th>\n      <td>14352732392</td>\n      <td>140316942991300</td>\n    </tr>\n    <tr>\n      <th>2</th>\n      <td>14121463808</td>\n      <td>15410776</td>\n    </tr>\n    <tr>\n      <th>3</th>\n      <td>14120734720</td>\n      <td>15410764</td>\n    </tr>\n    <tr>\n      <th>4</th>\n      <td>14120828928</td>\n      <td>15410764</td>\n    </tr>\n    <tr>\n      <th>...</th>\n      <td>...</td>\n      <td>...</td>\n    </tr>\n    <tr>\n      <th>400591</th>\n      <td>8620549134</td>\n      <td>18446744071888380942</td>\n    </tr>\n    <tr>\n      <th>400592</th>\n      <td>22541025656</td>\n      <td>18446744071888380942</td>\n    </tr>\n    <tr>\n      <th>400593</th>\n      <td>8620549134</td>\n      <td>18446744071888380942</td>\n    </tr>\n    <tr>\n      <th>400594</th>\n      <td>8620548801</td>\n      <td>18446744071888380609</td>\n    </tr>\n    <tr>\n      <th>400595</th>\n      <td>22638145536</td>\n      <td>18446744071888380609</td>\n    </tr>\n  </tbody>\n</table>\n<p>2332869 rows × 2 columns</p>\n</div>"
     },
     "metadata": {},
     "execution_count": 6
    }
   ],
   "source": [
    "GEMM_dataset = GEMM_dataset[[\"gpa\", \"rip\"]].dropna()       # rip for PCs\n",
    "GEMM_dataset"
   ]
  },
  {
   "cell_type": "code",
   "execution_count": 7,
   "metadata": {},
   "outputs": [
    {
     "output_type": "execute_result",
     "data": {
      "text/plain": [
       "                 gpa                   rip\n",
       "0          251797631  18446744072449302655\n",
       "1         1007005696  18446744072452043863\n",
       "2          906555392  18446744072452043863\n",
       "3         1914261504  18446744072452043863\n",
       "4          259330048  18446744072452043863\n",
       "...              ...                   ...\n",
       "6489852   8620549134  18446744071888380942\n",
       "6489853  22541025656  18446744071888380942\n",
       "6489854   8620549134  18446744071888380942\n",
       "6489855   8620548801  18446744071888380609\n",
       "6489856  22638145536  18446744071888380609\n",
       "\n",
       "[6489857 rows x 2 columns]"
      ],
      "text/html": "<div>\n<style scoped>\n    .dataframe tbody tr th:only-of-type {\n        vertical-align: middle;\n    }\n\n    .dataframe tbody tr th {\n        vertical-align: top;\n    }\n\n    .dataframe thead th {\n        text-align: right;\n    }\n</style>\n<table border=\"1\" class=\"dataframe\">\n  <thead>\n    <tr style=\"text-align: right;\">\n      <th></th>\n      <th>gpa</th>\n      <th>rip</th>\n    </tr>\n  </thead>\n  <tbody>\n    <tr>\n      <th>0</th>\n      <td>251797631</td>\n      <td>18446744072449302655</td>\n    </tr>\n    <tr>\n      <th>1</th>\n      <td>1007005696</td>\n      <td>18446744072452043863</td>\n    </tr>\n    <tr>\n      <th>2</th>\n      <td>906555392</td>\n      <td>18446744072452043863</td>\n    </tr>\n    <tr>\n      <th>3</th>\n      <td>1914261504</td>\n      <td>18446744072452043863</td>\n    </tr>\n    <tr>\n      <th>4</th>\n      <td>259330048</td>\n      <td>18446744072452043863</td>\n    </tr>\n    <tr>\n      <th>...</th>\n      <td>...</td>\n      <td>...</td>\n    </tr>\n    <tr>\n      <th>6489852</th>\n      <td>8620549134</td>\n      <td>18446744071888380942</td>\n    </tr>\n    <tr>\n      <th>6489853</th>\n      <td>22541025656</td>\n      <td>18446744071888380942</td>\n    </tr>\n    <tr>\n      <th>6489854</th>\n      <td>8620549134</td>\n      <td>18446744071888380942</td>\n    </tr>\n    <tr>\n      <th>6489855</th>\n      <td>8620548801</td>\n      <td>18446744071888380609</td>\n    </tr>\n    <tr>\n      <th>6489856</th>\n      <td>22638145536</td>\n      <td>18446744071888380609</td>\n    </tr>\n  </tbody>\n</table>\n<p>6489857 rows × 2 columns</p>\n</div>"
     },
     "metadata": {},
     "execution_count": 7
    }
   ],
   "source": [
    "original_dataset = pd.concat([STREAM_dataset, GEMM_dataset], ignore_index=True)\n",
    "original_dataset"
   ]
  },
  {
   "cell_type": "markdown",
   "metadata": {},
   "source": [
    "## Dataset Processing Functions"
   ]
  },
  {
   "cell_type": "code",
   "execution_count": 8,
   "metadata": {},
   "outputs": [],
   "source": [
    "class CalculateDelta(TransformerMixin):\n",
    "    def __init__(self):\n",
    "        pass\n",
    "\n",
    "    def fit(self, X, y=None):\n",
    "        return self\n",
    "        \n",
    "    def transform(self, X, y=None):\n",
    "        X_transformed = X[:-1] - X[1:]\n",
    "        # In case of unsigned types, change its type to string type\n",
    "        if X_transformed.dtype in [np.uint8, np.uint16, np.uint32, np.uint64]:\n",
    "            X_transformed = X_transformed.astype(np.string_)\n",
    "        return X_transformed\n",
    "\n",
    "    def inverse_transform(self, X, y=None):     # Just for test_pipeline.inverse_transform()\n",
    "        return X"
   ]
  },
  {
   "cell_type": "markdown",
   "metadata": {},
   "source": [
    "## Process Train/Validation Dataset"
   ]
  },
  {
   "cell_type": "code",
   "execution_count": 9,
   "metadata": {},
   "outputs": [],
   "source": [
    "# Train / Val / Test Ratio : 70% / 15% / 15%\n",
    "train_val_set, test_set = train_test_split(original_dataset, test_size=0.15, shuffle=False)\n",
    "#train_set, val_set = train_test_split(train_val_set, test_size=0.2, shuffle=False)"
   ]
  },
  {
   "cell_type": "code",
   "execution_count": 10,
   "metadata": {},
   "outputs": [],
   "source": [
    "train_val_gpa = train_val_set[\"gpa\"].values.astype(np.int64)\n",
    "train_val_rip = train_val_set[\"rip\"].values.astype(np.uint64)      # As uint64 not exists in pandas\n",
    "\n",
    "test_gpa = test_set[\"gpa\"].values.astype(np.int64)\n",
    "test_rip = test_set[\"rip\"].values.astype(np.uint64)      # As uint64 not exists in pandas"
   ]
  },
  {
   "cell_type": "code",
   "execution_count": 11,
   "metadata": {},
   "outputs": [],
   "source": [
    "calculate_delta = CalculateDelta()"
   ]
  },
  {
   "source": [
    "processed_train_val_gpa = calculate_delta.fit_transform(train_val_gpa.copy())\n",
    "processed_train_val_gpa"
   ],
   "cell_type": "code",
   "metadata": {},
   "execution_count": 12,
   "outputs": [
    {
     "output_type": "execute_result",
     "data": {
      "text/plain": [
       "array([ -755208065,   100450304, -1007706112, ...,       -4096,\n",
       "             -4096,       -4096], dtype=int64)"
      ]
     },
     "metadata": {},
     "execution_count": 12
    }
   ]
  },
  {
   "cell_type": "code",
   "execution_count": 13,
   "metadata": {
    "tags": []
   },
   "outputs": [
    {
     "output_type": "execute_result",
     "data": {
      "text/plain": [
       "array([b'18446744073706810408', b'0', b'0', ..., b'0', b'0', b'0'],\n",
       "      dtype='|S20')"
      ]
     },
     "metadata": {},
     "execution_count": 13
    }
   ],
   "source": [
    "processed_train_val_rip = calculate_delta.transform(train_val_rip)\n",
    "processed_train_val_rip"
   ]
  },
  {
   "cell_type": "code",
   "execution_count": 14,
   "metadata": {},
   "outputs": [
    {
     "output_type": "execute_result",
     "data": {
      "text/plain": [
       "(-4096          1184303\n",
       "  0              602811\n",
       " -1638400         67622\n",
       " -12288           51913\n",
       " -1896448         30291\n",
       "                 ...   \n",
       "  4841376             1\n",
       "  113967044           1\n",
       " -1568910655          1\n",
       "  676028400           1\n",
       " -7845624             1\n",
       " Length: 849143, dtype: int64,\n",
       " b'0'                       3829673\n",
       " b'18446744073709551604'      67421\n",
       " b'18446744073709551579'      42191\n",
       " b'18446744073709551605'      38328\n",
       " b'37'                        37913\n",
       "                             ...   \n",
       " b'18446744073581718413'          1\n",
       " b'18446604282104620087'          1\n",
       " b'254177968'                     1\n",
       " b'18446744073708949064'          1\n",
       " b'18446744073573825528'          1\n",
       " Length: 67054, dtype: int64)"
      ]
     },
     "metadata": {},
     "execution_count": 14
    }
   ],
   "source": [
    "pd.Series(processed_train_val_gpa).value_counts(), pd.Series(processed_train_val_rip).value_counts()"
   ]
  },
  {
   "cell_type": "code",
   "execution_count": 15,
   "metadata": {},
   "outputs": [
    {
     "output_type": "execute_result",
     "data": {
      "text/plain": [
       "(1       487890\n",
       " 2       146278\n",
       " 3        75690\n",
       " 4        39983\n",
       " 5        21499\n",
       "          ...  \n",
       " 2349         1\n",
       " 1326         1\n",
       " 304          1\n",
       " 306          1\n",
       " 2048         1\n",
       " Length: 615, dtype: int64,\n",
       " 1       51034\n",
       " 2        6241\n",
       " 3        2358\n",
       " 4        1389\n",
       " 5         881\n",
       "         ...  \n",
       " 614         1\n",
       " 742         1\n",
       " 7973        1\n",
       " 1830        1\n",
       " 607         1\n",
       " Length: 666, dtype: int64)"
      ]
     },
     "metadata": {},
     "execution_count": 15
    }
   ],
   "source": [
    "# Index = Occurence | Column = Number of included categories\n",
    "pd.Series(processed_train_val_gpa).value_counts().value_counts(), pd.Series(processed_train_val_rip).value_counts().value_counts()"
   ]
  },
  {
   "source": [
    "## gpa : N / P ratio"
   ],
   "cell_type": "markdown",
   "metadata": {}
  },
  {
   "cell_type": "code",
   "execution_count": 16,
   "metadata": {},
   "outputs": [],
   "source": [
    "gpa_data = []\n",
    "for gpa_threshold in range(50):\n",
    "    row = []\n",
    "    \n",
    "    row.append(gpa_threshold)\n",
    "    if gpa_threshold == 0:\n",
    "        gpa_p = len(pd.Series(processed_train_val_gpa).value_counts())\n",
    "        previous_gpa_p = gpa_p\n",
    "        previous_accuracy = 0\n",
    "        previous_ratio = 0\n",
    "    else:\n",
    "        gpa_p = len(pd.Series(processed_train_val_gpa).value_counts()) - sum(pd.Series(processed_train_val_gpa).value_counts().value_counts().loc[list(range(1, gpa_threshold+1))].values) + 1\n",
    "    row.append(gpa_p)\n",
    "    row.append(previous_gpa_p - gpa_p)\n",
    "    previous_gpa_p = gpa_p\n",
    "    ratio = processed_train_val_gpa.shape[0] / gpa_p\n",
    "    row.append(ratio)\n",
    "    row.append(ratio - previous_ratio)\n",
    "    previous_ratio = ratio\n",
    "    accuracy = sum(pd.Series(processed_train_val_gpa).value_counts().value_counts().loc[list(range(1, gpa_threshold+1))].values * pd.Series(processed_train_val_gpa).value_counts().value_counts().loc[list(range(1, gpa_threshold+1))].index) / (processed_train_val_gpa.shape[0])\n",
    "    row.append(accuracy)\n",
    "    row.append(accuracy - previous_accuracy)\n",
    "    previous_accuracy = accuracy\n",
    "\n",
    "    gpa_data.append(row)\n",
    "\n",
    "df_gpa_threshold = pd.DataFrame(data=gpa_data, columns=[\"threshold\", \"p\", \"p'\", \"n/p ratio\", \"ratio'\", \"upper limit for train/val accuracy\", \"accuracy'\"])"
   ]
  },
  {
   "cell_type": "code",
   "execution_count": 17,
   "metadata": {},
   "outputs": [
    {
     "output_type": "execute_result",
     "data": {
      "text/plain": [
       "    threshold       p      p'   n/p ratio     ratio'  \\\n",
       "0           0  849143       0    6.496405   6.496405   \n",
       "1           1  361254  487889   15.270079   8.773673   \n",
       "2           2  214976  146278   25.660432  10.390353   \n",
       "3           3  139286   75690   39.604677  13.944245   \n",
       "4           4   99303   39983   55.550960  15.946283   \n",
       "5           5   77804   21499   70.900943  15.349983   \n",
       "6           6   65202   12602   84.604414  13.703471   \n",
       "7           7   57228    7974   96.392972  11.788558   \n",
       "8           8   51686    5542  106.728650  10.335678   \n",
       "9           9   47468    4218  116.212543   9.483893   \n",
       "10         10   44043    3425  125.249801   9.037258   \n",
       "11         11   41100    2943  134.218418   8.968617   \n",
       "12         12   38548    2552  143.104104   8.885685   \n",
       "13         13   36302    2246  151.957936   8.853832   \n",
       "14         14   34265    2037  160.991595   9.033659   \n",
       "15         15   32436    1829  170.069583   9.077988   \n",
       "16         16   30748    1688  179.406043   9.336459   \n",
       "17         17   29275    1473  188.433032   9.026989   \n",
       "18         18   27793    1482  198.480805  10.047773   \n",
       "19         19   26444    1349  208.605998  10.125193   \n",
       "20         20   25215    1229  218.773627  10.167629   \n",
       "21         21   24079    1136  229.094937  10.321311   \n",
       "22         22   22995    1084  239.894629  10.799692   \n",
       "23         23   21941    1054  251.418668  11.524039   \n",
       "24         24   21029     912  262.322364  10.903696   \n",
       "25         25   20145     884  273.833557  11.511192   \n",
       "26         26   19332     813  285.349524  11.515967   \n",
       "27         27   18533     799  297.651594  12.302070   \n",
       "28         28   17818     715  309.595746  11.944151   \n",
       "29         29   17116     702  322.293585  12.697839   \n",
       "30         30   16462     654  335.097619  12.804034   \n",
       "31         31   15861     601  347.795032  12.697413   \n",
       "32         32   15262     599  361.445223  13.650192   \n",
       "33         33   14734     528  374.397787  12.952564   \n",
       "34         34   14162     572  389.519630  15.121843   \n",
       "35         35   13660     502  403.834334  14.314704   \n",
       "36         36   13183     477  418.446257  14.611923   \n",
       "37         37   12732     451  433.268693  14.822437   \n",
       "38         38   12295     437  448.668320  15.399627   \n",
       "39         39   11833     462  466.185836  17.517516   \n",
       "40         40   11401     432  483.850276  17.664440   \n",
       "41         41   11020     381  500.578675  16.728399   \n",
       "42         42   10609     411  519.971439  19.392764   \n",
       "43         43   10241     368  538.656088  18.684649   \n",
       "44         44    9886     355  557.998887  19.342799   \n",
       "45         45    9539     347  578.297201  20.298314   \n",
       "46         46    9241     298  596.945893  18.648692   \n",
       "47         47    8936     305  617.320613  20.374720   \n",
       "48         48    8657     279  637.215779  19.895166   \n",
       "49         49    8398     259  656.867945  19.652166   \n",
       "\n",
       "    upper limit for train/val accuracy  accuracy'  \n",
       "0                             0.000000   0.000000  \n",
       "1                             0.088444   0.088444  \n",
       "2                             0.141478   0.053034  \n",
       "3                             0.182641   0.041163  \n",
       "4                             0.211633   0.028992  \n",
       "5                             0.231120   0.019487  \n",
       "6                             0.244826   0.013707  \n",
       "7                             0.254945   0.010119  \n",
       "8                             0.262982   0.008037  \n",
       "9                             0.269864   0.006882  \n",
       "10                            0.276073   0.006209  \n",
       "11                            0.281941   0.005869  \n",
       "12                            0.287493   0.005551  \n",
       "13                            0.292786   0.005293  \n",
       "14                            0.297955   0.005170  \n",
       "15                            0.302929   0.004973  \n",
       "16                            0.307825   0.004896  \n",
       "17                            0.312364   0.004539  \n",
       "18                            0.317200   0.004836  \n",
       "19                            0.321846   0.004646  \n",
       "20                            0.326302   0.004456  \n",
       "21                            0.330627   0.004325  \n",
       "22                            0.334950   0.004323  \n",
       "23                            0.339344   0.004395  \n",
       "24                            0.343312   0.003968  \n",
       "25                            0.347318   0.004006  \n",
       "26                            0.351150   0.003832  \n",
       "27                            0.355061   0.003911  \n",
       "28                            0.358690   0.003629  \n",
       "29                            0.362381   0.003690  \n",
       "30                            0.365937   0.003557  \n",
       "31                            0.369315   0.003377  \n",
       "32                            0.372789   0.003475  \n",
       "33                            0.375948   0.003159  \n",
       "34                            0.379474   0.003526  \n",
       "35                            0.382659   0.003185  \n",
       "36                            0.385771   0.003113  \n",
       "37                            0.388796   0.003025  \n",
       "38                            0.391807   0.003010  \n",
       "39                            0.395073   0.003266  \n",
       "40                            0.398206   0.003132  \n",
       "41                            0.401037   0.002832  \n",
       "42                            0.404167   0.003129  \n",
       "43                            0.407035   0.002869  \n",
       "44                            0.409867   0.002832  \n",
       "45                            0.412697   0.002831  \n",
       "46                            0.415182   0.002485  \n",
       "47                            0.417781   0.002599  \n",
       "48                            0.420209   0.002428  \n",
       "49                            0.422509   0.002301  "
      ],
      "text/html": "<div>\n<style scoped>\n    .dataframe tbody tr th:only-of-type {\n        vertical-align: middle;\n    }\n\n    .dataframe tbody tr th {\n        vertical-align: top;\n    }\n\n    .dataframe thead th {\n        text-align: right;\n    }\n</style>\n<table border=\"1\" class=\"dataframe\">\n  <thead>\n    <tr style=\"text-align: right;\">\n      <th></th>\n      <th>threshold</th>\n      <th>p</th>\n      <th>p'</th>\n      <th>n/p ratio</th>\n      <th>ratio'</th>\n      <th>upper limit for train/val accuracy</th>\n      <th>accuracy'</th>\n    </tr>\n  </thead>\n  <tbody>\n    <tr>\n      <th>0</th>\n      <td>0</td>\n      <td>849143</td>\n      <td>0</td>\n      <td>6.496405</td>\n      <td>6.496405</td>\n      <td>0.000000</td>\n      <td>0.000000</td>\n    </tr>\n    <tr>\n      <th>1</th>\n      <td>1</td>\n      <td>361254</td>\n      <td>487889</td>\n      <td>15.270079</td>\n      <td>8.773673</td>\n      <td>0.088444</td>\n      <td>0.088444</td>\n    </tr>\n    <tr>\n      <th>2</th>\n      <td>2</td>\n      <td>214976</td>\n      <td>146278</td>\n      <td>25.660432</td>\n      <td>10.390353</td>\n      <td>0.141478</td>\n      <td>0.053034</td>\n    </tr>\n    <tr>\n      <th>3</th>\n      <td>3</td>\n      <td>139286</td>\n      <td>75690</td>\n      <td>39.604677</td>\n      <td>13.944245</td>\n      <td>0.182641</td>\n      <td>0.041163</td>\n    </tr>\n    <tr>\n      <th>4</th>\n      <td>4</td>\n      <td>99303</td>\n      <td>39983</td>\n      <td>55.550960</td>\n      <td>15.946283</td>\n      <td>0.211633</td>\n      <td>0.028992</td>\n    </tr>\n    <tr>\n      <th>5</th>\n      <td>5</td>\n      <td>77804</td>\n      <td>21499</td>\n      <td>70.900943</td>\n      <td>15.349983</td>\n      <td>0.231120</td>\n      <td>0.019487</td>\n    </tr>\n    <tr>\n      <th>6</th>\n      <td>6</td>\n      <td>65202</td>\n      <td>12602</td>\n      <td>84.604414</td>\n      <td>13.703471</td>\n      <td>0.244826</td>\n      <td>0.013707</td>\n    </tr>\n    <tr>\n      <th>7</th>\n      <td>7</td>\n      <td>57228</td>\n      <td>7974</td>\n      <td>96.392972</td>\n      <td>11.788558</td>\n      <td>0.254945</td>\n      <td>0.010119</td>\n    </tr>\n    <tr>\n      <th>8</th>\n      <td>8</td>\n      <td>51686</td>\n      <td>5542</td>\n      <td>106.728650</td>\n      <td>10.335678</td>\n      <td>0.262982</td>\n      <td>0.008037</td>\n    </tr>\n    <tr>\n      <th>9</th>\n      <td>9</td>\n      <td>47468</td>\n      <td>4218</td>\n      <td>116.212543</td>\n      <td>9.483893</td>\n      <td>0.269864</td>\n      <td>0.006882</td>\n    </tr>\n    <tr>\n      <th>10</th>\n      <td>10</td>\n      <td>44043</td>\n      <td>3425</td>\n      <td>125.249801</td>\n      <td>9.037258</td>\n      <td>0.276073</td>\n      <td>0.006209</td>\n    </tr>\n    <tr>\n      <th>11</th>\n      <td>11</td>\n      <td>41100</td>\n      <td>2943</td>\n      <td>134.218418</td>\n      <td>8.968617</td>\n      <td>0.281941</td>\n      <td>0.005869</td>\n    </tr>\n    <tr>\n      <th>12</th>\n      <td>12</td>\n      <td>38548</td>\n      <td>2552</td>\n      <td>143.104104</td>\n      <td>8.885685</td>\n      <td>0.287493</td>\n      <td>0.005551</td>\n    </tr>\n    <tr>\n      <th>13</th>\n      <td>13</td>\n      <td>36302</td>\n      <td>2246</td>\n      <td>151.957936</td>\n      <td>8.853832</td>\n      <td>0.292786</td>\n      <td>0.005293</td>\n    </tr>\n    <tr>\n      <th>14</th>\n      <td>14</td>\n      <td>34265</td>\n      <td>2037</td>\n      <td>160.991595</td>\n      <td>9.033659</td>\n      <td>0.297955</td>\n      <td>0.005170</td>\n    </tr>\n    <tr>\n      <th>15</th>\n      <td>15</td>\n      <td>32436</td>\n      <td>1829</td>\n      <td>170.069583</td>\n      <td>9.077988</td>\n      <td>0.302929</td>\n      <td>0.004973</td>\n    </tr>\n    <tr>\n      <th>16</th>\n      <td>16</td>\n      <td>30748</td>\n      <td>1688</td>\n      <td>179.406043</td>\n      <td>9.336459</td>\n      <td>0.307825</td>\n      <td>0.004896</td>\n    </tr>\n    <tr>\n      <th>17</th>\n      <td>17</td>\n      <td>29275</td>\n      <td>1473</td>\n      <td>188.433032</td>\n      <td>9.026989</td>\n      <td>0.312364</td>\n      <td>0.004539</td>\n    </tr>\n    <tr>\n      <th>18</th>\n      <td>18</td>\n      <td>27793</td>\n      <td>1482</td>\n      <td>198.480805</td>\n      <td>10.047773</td>\n      <td>0.317200</td>\n      <td>0.004836</td>\n    </tr>\n    <tr>\n      <th>19</th>\n      <td>19</td>\n      <td>26444</td>\n      <td>1349</td>\n      <td>208.605998</td>\n      <td>10.125193</td>\n      <td>0.321846</td>\n      <td>0.004646</td>\n    </tr>\n    <tr>\n      <th>20</th>\n      <td>20</td>\n      <td>25215</td>\n      <td>1229</td>\n      <td>218.773627</td>\n      <td>10.167629</td>\n      <td>0.326302</td>\n      <td>0.004456</td>\n    </tr>\n    <tr>\n      <th>21</th>\n      <td>21</td>\n      <td>24079</td>\n      <td>1136</td>\n      <td>229.094937</td>\n      <td>10.321311</td>\n      <td>0.330627</td>\n      <td>0.004325</td>\n    </tr>\n    <tr>\n      <th>22</th>\n      <td>22</td>\n      <td>22995</td>\n      <td>1084</td>\n      <td>239.894629</td>\n      <td>10.799692</td>\n      <td>0.334950</td>\n      <td>0.004323</td>\n    </tr>\n    <tr>\n      <th>23</th>\n      <td>23</td>\n      <td>21941</td>\n      <td>1054</td>\n      <td>251.418668</td>\n      <td>11.524039</td>\n      <td>0.339344</td>\n      <td>0.004395</td>\n    </tr>\n    <tr>\n      <th>24</th>\n      <td>24</td>\n      <td>21029</td>\n      <td>912</td>\n      <td>262.322364</td>\n      <td>10.903696</td>\n      <td>0.343312</td>\n      <td>0.003968</td>\n    </tr>\n    <tr>\n      <th>25</th>\n      <td>25</td>\n      <td>20145</td>\n      <td>884</td>\n      <td>273.833557</td>\n      <td>11.511192</td>\n      <td>0.347318</td>\n      <td>0.004006</td>\n    </tr>\n    <tr>\n      <th>26</th>\n      <td>26</td>\n      <td>19332</td>\n      <td>813</td>\n      <td>285.349524</td>\n      <td>11.515967</td>\n      <td>0.351150</td>\n      <td>0.003832</td>\n    </tr>\n    <tr>\n      <th>27</th>\n      <td>27</td>\n      <td>18533</td>\n      <td>799</td>\n      <td>297.651594</td>\n      <td>12.302070</td>\n      <td>0.355061</td>\n      <td>0.003911</td>\n    </tr>\n    <tr>\n      <th>28</th>\n      <td>28</td>\n      <td>17818</td>\n      <td>715</td>\n      <td>309.595746</td>\n      <td>11.944151</td>\n      <td>0.358690</td>\n      <td>0.003629</td>\n    </tr>\n    <tr>\n      <th>29</th>\n      <td>29</td>\n      <td>17116</td>\n      <td>702</td>\n      <td>322.293585</td>\n      <td>12.697839</td>\n      <td>0.362381</td>\n      <td>0.003690</td>\n    </tr>\n    <tr>\n      <th>30</th>\n      <td>30</td>\n      <td>16462</td>\n      <td>654</td>\n      <td>335.097619</td>\n      <td>12.804034</td>\n      <td>0.365937</td>\n      <td>0.003557</td>\n    </tr>\n    <tr>\n      <th>31</th>\n      <td>31</td>\n      <td>15861</td>\n      <td>601</td>\n      <td>347.795032</td>\n      <td>12.697413</td>\n      <td>0.369315</td>\n      <td>0.003377</td>\n    </tr>\n    <tr>\n      <th>32</th>\n      <td>32</td>\n      <td>15262</td>\n      <td>599</td>\n      <td>361.445223</td>\n      <td>13.650192</td>\n      <td>0.372789</td>\n      <td>0.003475</td>\n    </tr>\n    <tr>\n      <th>33</th>\n      <td>33</td>\n      <td>14734</td>\n      <td>528</td>\n      <td>374.397787</td>\n      <td>12.952564</td>\n      <td>0.375948</td>\n      <td>0.003159</td>\n    </tr>\n    <tr>\n      <th>34</th>\n      <td>34</td>\n      <td>14162</td>\n      <td>572</td>\n      <td>389.519630</td>\n      <td>15.121843</td>\n      <td>0.379474</td>\n      <td>0.003526</td>\n    </tr>\n    <tr>\n      <th>35</th>\n      <td>35</td>\n      <td>13660</td>\n      <td>502</td>\n      <td>403.834334</td>\n      <td>14.314704</td>\n      <td>0.382659</td>\n      <td>0.003185</td>\n    </tr>\n    <tr>\n      <th>36</th>\n      <td>36</td>\n      <td>13183</td>\n      <td>477</td>\n      <td>418.446257</td>\n      <td>14.611923</td>\n      <td>0.385771</td>\n      <td>0.003113</td>\n    </tr>\n    <tr>\n      <th>37</th>\n      <td>37</td>\n      <td>12732</td>\n      <td>451</td>\n      <td>433.268693</td>\n      <td>14.822437</td>\n      <td>0.388796</td>\n      <td>0.003025</td>\n    </tr>\n    <tr>\n      <th>38</th>\n      <td>38</td>\n      <td>12295</td>\n      <td>437</td>\n      <td>448.668320</td>\n      <td>15.399627</td>\n      <td>0.391807</td>\n      <td>0.003010</td>\n    </tr>\n    <tr>\n      <th>39</th>\n      <td>39</td>\n      <td>11833</td>\n      <td>462</td>\n      <td>466.185836</td>\n      <td>17.517516</td>\n      <td>0.395073</td>\n      <td>0.003266</td>\n    </tr>\n    <tr>\n      <th>40</th>\n      <td>40</td>\n      <td>11401</td>\n      <td>432</td>\n      <td>483.850276</td>\n      <td>17.664440</td>\n      <td>0.398206</td>\n      <td>0.003132</td>\n    </tr>\n    <tr>\n      <th>41</th>\n      <td>41</td>\n      <td>11020</td>\n      <td>381</td>\n      <td>500.578675</td>\n      <td>16.728399</td>\n      <td>0.401037</td>\n      <td>0.002832</td>\n    </tr>\n    <tr>\n      <th>42</th>\n      <td>42</td>\n      <td>10609</td>\n      <td>411</td>\n      <td>519.971439</td>\n      <td>19.392764</td>\n      <td>0.404167</td>\n      <td>0.003129</td>\n    </tr>\n    <tr>\n      <th>43</th>\n      <td>43</td>\n      <td>10241</td>\n      <td>368</td>\n      <td>538.656088</td>\n      <td>18.684649</td>\n      <td>0.407035</td>\n      <td>0.002869</td>\n    </tr>\n    <tr>\n      <th>44</th>\n      <td>44</td>\n      <td>9886</td>\n      <td>355</td>\n      <td>557.998887</td>\n      <td>19.342799</td>\n      <td>0.409867</td>\n      <td>0.002832</td>\n    </tr>\n    <tr>\n      <th>45</th>\n      <td>45</td>\n      <td>9539</td>\n      <td>347</td>\n      <td>578.297201</td>\n      <td>20.298314</td>\n      <td>0.412697</td>\n      <td>0.002831</td>\n    </tr>\n    <tr>\n      <th>46</th>\n      <td>46</td>\n      <td>9241</td>\n      <td>298</td>\n      <td>596.945893</td>\n      <td>18.648692</td>\n      <td>0.415182</td>\n      <td>0.002485</td>\n    </tr>\n    <tr>\n      <th>47</th>\n      <td>47</td>\n      <td>8936</td>\n      <td>305</td>\n      <td>617.320613</td>\n      <td>20.374720</td>\n      <td>0.417781</td>\n      <td>0.002599</td>\n    </tr>\n    <tr>\n      <th>48</th>\n      <td>48</td>\n      <td>8657</td>\n      <td>279</td>\n      <td>637.215779</td>\n      <td>19.895166</td>\n      <td>0.420209</td>\n      <td>0.002428</td>\n    </tr>\n    <tr>\n      <th>49</th>\n      <td>49</td>\n      <td>8398</td>\n      <td>259</td>\n      <td>656.867945</td>\n      <td>19.652166</td>\n      <td>0.422509</td>\n      <td>0.002301</td>\n    </tr>\n  </tbody>\n</table>\n</div>"
     },
     "metadata": {},
     "execution_count": 17
    }
   ],
   "source": [
    "df_gpa_threshold"
   ]
  },
  {
   "source": [
    "## rip : N / P ratio"
   ],
   "cell_type": "markdown",
   "metadata": {}
  },
  {
   "cell_type": "code",
   "execution_count": 18,
   "metadata": {},
   "outputs": [],
   "source": [
    "rip_data = []\n",
    "for rip_threshold in range(50):\n",
    "    row = []\n",
    "    \n",
    "    row.append(rip_threshold)\n",
    "    if rip_threshold == 0:\n",
    "        rip_p = len(pd.Series(processed_train_val_rip).value_counts())\n",
    "        previous_rip_p = rip_p\n",
    "        previous_accuracy = 0\n",
    "        previous_ratio = 0\n",
    "    else:\n",
    "        rip_p = len(pd.Series(processed_train_val_rip).value_counts()) - sum(pd.Series(processed_train_val_rip).value_counts().value_counts().loc[list(range(1, rip_threshold+1))].values) + 1\n",
    "    row.append(rip_p)\n",
    "    row.append(previous_rip_p - rip_p)\n",
    "    previous_rip_p = rip_p\n",
    "    ratio = processed_train_val_rip.shape[0] / rip_p\n",
    "    row.append(ratio)\n",
    "    row.append(ratio - previous_ratio)\n",
    "    previous_ratio = ratio\n",
    "    accuracy = sum(pd.Series(processed_train_val_rip).value_counts().value_counts().loc[list(range(1, rip_threshold+1))].values * pd.Series(processed_train_val_rip).value_counts().value_counts().loc[list(range(1, rip_threshold+1))].index) / (processed_train_val_rip.shape[0])\n",
    "    row.append(accuracy)\n",
    "    row.append(accuracy - previous_accuracy)\n",
    "    previous_accuracy = accuracy\n",
    "\n",
    "    rip_data.append(row)\n",
    "\n",
    "df_rip_threshold = pd.DataFrame(data=rip_data, columns=[\"threshold\", \"p\", \"p'\", \"n/p ratio\", \"ratio'\", \"upper limit for train/val accuracy\", \"accuracy'\"])"
   ]
  },
  {
   "cell_type": "code",
   "execution_count": 19,
   "metadata": {},
   "outputs": [
    {
     "output_type": "execute_result",
     "data": {
      "text/plain": [
       "    threshold      p     p'    n/p ratio      ratio'  \\\n",
       "0           0  67054      0    82.267680   82.267680   \n",
       "1           1  16021  51033   344.321640  262.053961   \n",
       "2           2   9780   6241   564.046728  219.725088   \n",
       "3           3   7422   2358   743.246699  179.199971   \n",
       "4           4   6033   1389   914.367147  171.120448   \n",
       "5           5   5152    881  1070.725349  156.358202   \n",
       "6           6   4500    652  1225.861556  155.136206   \n",
       "7           7   3956    544  1394.433013  168.571458   \n",
       "8           8   3515    441  1569.381792  174.948779   \n",
       "9           9   3190    325  1729.271787  159.889995   \n",
       "10         10   2923    267  1887.231269  157.959482   \n",
       "11         11   2690    233  2050.697770  163.466500   \n",
       "12         12   2489    201  2216.302531  165.604762   \n",
       "13         13   2314    175  2383.914002  167.611471   \n",
       "14         14   2178    136  2532.771809  148.857807   \n",
       "15         15   2070    108  2664.916425  132.144616   \n",
       "16         16   1971     99  2798.770675  133.854250   \n",
       "17         17   1894     77  2912.553854  113.783179   \n",
       "18         18   1828     66  3017.711707  105.157853   \n",
       "19         19   1754     74  3145.026796  127.315089   \n",
       "20         20   1685     69  3273.814243  128.787447   \n",
       "21         21   1636     49  3371.868582   98.054339   \n",
       "22         22   1586     50  3478.169609  106.301027   \n",
       "23         23   1533     53  3598.419439  120.249830   \n",
       "24         24   1492     41  3697.303619   98.884180   \n",
       "25         25   1465     27  3765.445051   68.141432   \n",
       "26         26   1440     25  3830.817361   65.372310   \n",
       "27         27   1409     31  3915.100781   84.283420   \n",
       "28         28   1373     36  4017.754552  102.653771   \n",
       "29         29   1347     26  4095.305865   77.551313   \n",
       "30         30   1326     21  4160.163650   64.857785   \n",
       "31         31   1297     29  4253.181958   93.018308   \n",
       "32         32   1277     20  4319.794049   66.612090   \n",
       "33         33   1252     25  4406.051917   86.257868   \n",
       "34         34   1232     20  4477.578734   71.526817   \n",
       "35         35   1213     19  4547.713932   70.135199   \n",
       "36         36   1193     20  4623.953898   76.239965   \n",
       "37         37   1180     13  4674.895763   50.941865   \n",
       "38         38   1161     19  4751.401378   76.505615   \n",
       "39         39   1142     19  4830.452715   79.051336   \n",
       "40         40   1127     15  4894.744454   64.291740   \n",
       "41         41   1113     14  4956.313567   61.569113   \n",
       "42         42   1104      9  4996.718297   40.404730   \n",
       "43         43   1091     13  5056.257562   59.539265   \n",
       "44         44   1083      8  5093.607572   37.350010   \n",
       "45         45   1072     11  5145.874067   52.266496   \n",
       "46         46   1061     11  5199.224317   53.350250   \n",
       "47         47   1051     10  5248.693625   49.469308   \n",
       "48         48   1045      6  5278.829665   30.136040   \n",
       "49         49   1034     11  5334.987427   56.157762   \n",
       "\n",
       "    upper limit for train/val accuracy  accuracy'  \n",
       "0                             0.000000   0.000000  \n",
       "1                             0.009251   0.009251  \n",
       "2                             0.011514   0.002263  \n",
       "3                             0.012796   0.001282  \n",
       "4                             0.013804   0.001007  \n",
       "5                             0.014602   0.000799  \n",
       "6                             0.015311   0.000709  \n",
       "7                             0.016002   0.000690  \n",
       "8                             0.016641   0.000640  \n",
       "9                             0.017171   0.000530  \n",
       "10                            0.017655   0.000484  \n",
       "11                            0.018120   0.000465  \n",
       "12                            0.018557   0.000437  \n",
       "13                            0.018970   0.000412  \n",
       "14                            0.019315   0.000345  \n",
       "15                            0.019609   0.000294  \n",
       "16                            0.019896   0.000287  \n",
       "17                            0.020133   0.000237  \n",
       "18                            0.020348   0.000215  \n",
       "19                            0.020603   0.000255  \n",
       "20                            0.020853   0.000250  \n",
       "21                            0.021040   0.000187  \n",
       "22                            0.021239   0.000199  \n",
       "23                            0.021460   0.000221  \n",
       "24                            0.021639   0.000178  \n",
       "25                            0.021761   0.000122  \n",
       "26                            0.021879   0.000118  \n",
       "27                            0.022031   0.000152  \n",
       "28                            0.022213   0.000183  \n",
       "29                            0.022350   0.000137  \n",
       "30                            0.022464   0.000114  \n",
       "31                            0.022627   0.000163  \n",
       "32                            0.022743   0.000116  \n",
       "33                            0.022893   0.000150  \n",
       "34                            0.023016   0.000123  \n",
       "35                            0.023137   0.000121  \n",
       "36                            0.023267   0.000131  \n",
       "37                            0.023354   0.000087  \n",
       "38                            0.023485   0.000131  \n",
       "39                            0.023619   0.000134  \n",
       "40                            0.023728   0.000109  \n",
       "41                            0.023832   0.000104  \n",
       "42                            0.023901   0.000069  \n",
       "43                            0.024002   0.000101  \n",
       "44                            0.024066   0.000064  \n",
       "45                            0.024156   0.000090  \n",
       "46                            0.024247   0.000092  \n",
       "47                            0.024333   0.000085  \n",
       "48                            0.024385   0.000052  \n",
       "49                            0.024483   0.000098  "
      ],
      "text/html": "<div>\n<style scoped>\n    .dataframe tbody tr th:only-of-type {\n        vertical-align: middle;\n    }\n\n    .dataframe tbody tr th {\n        vertical-align: top;\n    }\n\n    .dataframe thead th {\n        text-align: right;\n    }\n</style>\n<table border=\"1\" class=\"dataframe\">\n  <thead>\n    <tr style=\"text-align: right;\">\n      <th></th>\n      <th>threshold</th>\n      <th>p</th>\n      <th>p'</th>\n      <th>n/p ratio</th>\n      <th>ratio'</th>\n      <th>upper limit for train/val accuracy</th>\n      <th>accuracy'</th>\n    </tr>\n  </thead>\n  <tbody>\n    <tr>\n      <th>0</th>\n      <td>0</td>\n      <td>67054</td>\n      <td>0</td>\n      <td>82.267680</td>\n      <td>82.267680</td>\n      <td>0.000000</td>\n      <td>0.000000</td>\n    </tr>\n    <tr>\n      <th>1</th>\n      <td>1</td>\n      <td>16021</td>\n      <td>51033</td>\n      <td>344.321640</td>\n      <td>262.053961</td>\n      <td>0.009251</td>\n      <td>0.009251</td>\n    </tr>\n    <tr>\n      <th>2</th>\n      <td>2</td>\n      <td>9780</td>\n      <td>6241</td>\n      <td>564.046728</td>\n      <td>219.725088</td>\n      <td>0.011514</td>\n      <td>0.002263</td>\n    </tr>\n    <tr>\n      <th>3</th>\n      <td>3</td>\n      <td>7422</td>\n      <td>2358</td>\n      <td>743.246699</td>\n      <td>179.199971</td>\n      <td>0.012796</td>\n      <td>0.001282</td>\n    </tr>\n    <tr>\n      <th>4</th>\n      <td>4</td>\n      <td>6033</td>\n      <td>1389</td>\n      <td>914.367147</td>\n      <td>171.120448</td>\n      <td>0.013804</td>\n      <td>0.001007</td>\n    </tr>\n    <tr>\n      <th>5</th>\n      <td>5</td>\n      <td>5152</td>\n      <td>881</td>\n      <td>1070.725349</td>\n      <td>156.358202</td>\n      <td>0.014602</td>\n      <td>0.000799</td>\n    </tr>\n    <tr>\n      <th>6</th>\n      <td>6</td>\n      <td>4500</td>\n      <td>652</td>\n      <td>1225.861556</td>\n      <td>155.136206</td>\n      <td>0.015311</td>\n      <td>0.000709</td>\n    </tr>\n    <tr>\n      <th>7</th>\n      <td>7</td>\n      <td>3956</td>\n      <td>544</td>\n      <td>1394.433013</td>\n      <td>168.571458</td>\n      <td>0.016002</td>\n      <td>0.000690</td>\n    </tr>\n    <tr>\n      <th>8</th>\n      <td>8</td>\n      <td>3515</td>\n      <td>441</td>\n      <td>1569.381792</td>\n      <td>174.948779</td>\n      <td>0.016641</td>\n      <td>0.000640</td>\n    </tr>\n    <tr>\n      <th>9</th>\n      <td>9</td>\n      <td>3190</td>\n      <td>325</td>\n      <td>1729.271787</td>\n      <td>159.889995</td>\n      <td>0.017171</td>\n      <td>0.000530</td>\n    </tr>\n    <tr>\n      <th>10</th>\n      <td>10</td>\n      <td>2923</td>\n      <td>267</td>\n      <td>1887.231269</td>\n      <td>157.959482</td>\n      <td>0.017655</td>\n      <td>0.000484</td>\n    </tr>\n    <tr>\n      <th>11</th>\n      <td>11</td>\n      <td>2690</td>\n      <td>233</td>\n      <td>2050.697770</td>\n      <td>163.466500</td>\n      <td>0.018120</td>\n      <td>0.000465</td>\n    </tr>\n    <tr>\n      <th>12</th>\n      <td>12</td>\n      <td>2489</td>\n      <td>201</td>\n      <td>2216.302531</td>\n      <td>165.604762</td>\n      <td>0.018557</td>\n      <td>0.000437</td>\n    </tr>\n    <tr>\n      <th>13</th>\n      <td>13</td>\n      <td>2314</td>\n      <td>175</td>\n      <td>2383.914002</td>\n      <td>167.611471</td>\n      <td>0.018970</td>\n      <td>0.000412</td>\n    </tr>\n    <tr>\n      <th>14</th>\n      <td>14</td>\n      <td>2178</td>\n      <td>136</td>\n      <td>2532.771809</td>\n      <td>148.857807</td>\n      <td>0.019315</td>\n      <td>0.000345</td>\n    </tr>\n    <tr>\n      <th>15</th>\n      <td>15</td>\n      <td>2070</td>\n      <td>108</td>\n      <td>2664.916425</td>\n      <td>132.144616</td>\n      <td>0.019609</td>\n      <td>0.000294</td>\n    </tr>\n    <tr>\n      <th>16</th>\n      <td>16</td>\n      <td>1971</td>\n      <td>99</td>\n      <td>2798.770675</td>\n      <td>133.854250</td>\n      <td>0.019896</td>\n      <td>0.000287</td>\n    </tr>\n    <tr>\n      <th>17</th>\n      <td>17</td>\n      <td>1894</td>\n      <td>77</td>\n      <td>2912.553854</td>\n      <td>113.783179</td>\n      <td>0.020133</td>\n      <td>0.000237</td>\n    </tr>\n    <tr>\n      <th>18</th>\n      <td>18</td>\n      <td>1828</td>\n      <td>66</td>\n      <td>3017.711707</td>\n      <td>105.157853</td>\n      <td>0.020348</td>\n      <td>0.000215</td>\n    </tr>\n    <tr>\n      <th>19</th>\n      <td>19</td>\n      <td>1754</td>\n      <td>74</td>\n      <td>3145.026796</td>\n      <td>127.315089</td>\n      <td>0.020603</td>\n      <td>0.000255</td>\n    </tr>\n    <tr>\n      <th>20</th>\n      <td>20</td>\n      <td>1685</td>\n      <td>69</td>\n      <td>3273.814243</td>\n      <td>128.787447</td>\n      <td>0.020853</td>\n      <td>0.000250</td>\n    </tr>\n    <tr>\n      <th>21</th>\n      <td>21</td>\n      <td>1636</td>\n      <td>49</td>\n      <td>3371.868582</td>\n      <td>98.054339</td>\n      <td>0.021040</td>\n      <td>0.000187</td>\n    </tr>\n    <tr>\n      <th>22</th>\n      <td>22</td>\n      <td>1586</td>\n      <td>50</td>\n      <td>3478.169609</td>\n      <td>106.301027</td>\n      <td>0.021239</td>\n      <td>0.000199</td>\n    </tr>\n    <tr>\n      <th>23</th>\n      <td>23</td>\n      <td>1533</td>\n      <td>53</td>\n      <td>3598.419439</td>\n      <td>120.249830</td>\n      <td>0.021460</td>\n      <td>0.000221</td>\n    </tr>\n    <tr>\n      <th>24</th>\n      <td>24</td>\n      <td>1492</td>\n      <td>41</td>\n      <td>3697.303619</td>\n      <td>98.884180</td>\n      <td>0.021639</td>\n      <td>0.000178</td>\n    </tr>\n    <tr>\n      <th>25</th>\n      <td>25</td>\n      <td>1465</td>\n      <td>27</td>\n      <td>3765.445051</td>\n      <td>68.141432</td>\n      <td>0.021761</td>\n      <td>0.000122</td>\n    </tr>\n    <tr>\n      <th>26</th>\n      <td>26</td>\n      <td>1440</td>\n      <td>25</td>\n      <td>3830.817361</td>\n      <td>65.372310</td>\n      <td>0.021879</td>\n      <td>0.000118</td>\n    </tr>\n    <tr>\n      <th>27</th>\n      <td>27</td>\n      <td>1409</td>\n      <td>31</td>\n      <td>3915.100781</td>\n      <td>84.283420</td>\n      <td>0.022031</td>\n      <td>0.000152</td>\n    </tr>\n    <tr>\n      <th>28</th>\n      <td>28</td>\n      <td>1373</td>\n      <td>36</td>\n      <td>4017.754552</td>\n      <td>102.653771</td>\n      <td>0.022213</td>\n      <td>0.000183</td>\n    </tr>\n    <tr>\n      <th>29</th>\n      <td>29</td>\n      <td>1347</td>\n      <td>26</td>\n      <td>4095.305865</td>\n      <td>77.551313</td>\n      <td>0.022350</td>\n      <td>0.000137</td>\n    </tr>\n    <tr>\n      <th>30</th>\n      <td>30</td>\n      <td>1326</td>\n      <td>21</td>\n      <td>4160.163650</td>\n      <td>64.857785</td>\n      <td>0.022464</td>\n      <td>0.000114</td>\n    </tr>\n    <tr>\n      <th>31</th>\n      <td>31</td>\n      <td>1297</td>\n      <td>29</td>\n      <td>4253.181958</td>\n      <td>93.018308</td>\n      <td>0.022627</td>\n      <td>0.000163</td>\n    </tr>\n    <tr>\n      <th>32</th>\n      <td>32</td>\n      <td>1277</td>\n      <td>20</td>\n      <td>4319.794049</td>\n      <td>66.612090</td>\n      <td>0.022743</td>\n      <td>0.000116</td>\n    </tr>\n    <tr>\n      <th>33</th>\n      <td>33</td>\n      <td>1252</td>\n      <td>25</td>\n      <td>4406.051917</td>\n      <td>86.257868</td>\n      <td>0.022893</td>\n      <td>0.000150</td>\n    </tr>\n    <tr>\n      <th>34</th>\n      <td>34</td>\n      <td>1232</td>\n      <td>20</td>\n      <td>4477.578734</td>\n      <td>71.526817</td>\n      <td>0.023016</td>\n      <td>0.000123</td>\n    </tr>\n    <tr>\n      <th>35</th>\n      <td>35</td>\n      <td>1213</td>\n      <td>19</td>\n      <td>4547.713932</td>\n      <td>70.135199</td>\n      <td>0.023137</td>\n      <td>0.000121</td>\n    </tr>\n    <tr>\n      <th>36</th>\n      <td>36</td>\n      <td>1193</td>\n      <td>20</td>\n      <td>4623.953898</td>\n      <td>76.239965</td>\n      <td>0.023267</td>\n      <td>0.000131</td>\n    </tr>\n    <tr>\n      <th>37</th>\n      <td>37</td>\n      <td>1180</td>\n      <td>13</td>\n      <td>4674.895763</td>\n      <td>50.941865</td>\n      <td>0.023354</td>\n      <td>0.000087</td>\n    </tr>\n    <tr>\n      <th>38</th>\n      <td>38</td>\n      <td>1161</td>\n      <td>19</td>\n      <td>4751.401378</td>\n      <td>76.505615</td>\n      <td>0.023485</td>\n      <td>0.000131</td>\n    </tr>\n    <tr>\n      <th>39</th>\n      <td>39</td>\n      <td>1142</td>\n      <td>19</td>\n      <td>4830.452715</td>\n      <td>79.051336</td>\n      <td>0.023619</td>\n      <td>0.000134</td>\n    </tr>\n    <tr>\n      <th>40</th>\n      <td>40</td>\n      <td>1127</td>\n      <td>15</td>\n      <td>4894.744454</td>\n      <td>64.291740</td>\n      <td>0.023728</td>\n      <td>0.000109</td>\n    </tr>\n    <tr>\n      <th>41</th>\n      <td>41</td>\n      <td>1113</td>\n      <td>14</td>\n      <td>4956.313567</td>\n      <td>61.569113</td>\n      <td>0.023832</td>\n      <td>0.000104</td>\n    </tr>\n    <tr>\n      <th>42</th>\n      <td>42</td>\n      <td>1104</td>\n      <td>9</td>\n      <td>4996.718297</td>\n      <td>40.404730</td>\n      <td>0.023901</td>\n      <td>0.000069</td>\n    </tr>\n    <tr>\n      <th>43</th>\n      <td>43</td>\n      <td>1091</td>\n      <td>13</td>\n      <td>5056.257562</td>\n      <td>59.539265</td>\n      <td>0.024002</td>\n      <td>0.000101</td>\n    </tr>\n    <tr>\n      <th>44</th>\n      <td>44</td>\n      <td>1083</td>\n      <td>8</td>\n      <td>5093.607572</td>\n      <td>37.350010</td>\n      <td>0.024066</td>\n      <td>0.000064</td>\n    </tr>\n    <tr>\n      <th>45</th>\n      <td>45</td>\n      <td>1072</td>\n      <td>11</td>\n      <td>5145.874067</td>\n      <td>52.266496</td>\n      <td>0.024156</td>\n      <td>0.000090</td>\n    </tr>\n    <tr>\n      <th>46</th>\n      <td>46</td>\n      <td>1061</td>\n      <td>11</td>\n      <td>5199.224317</td>\n      <td>53.350250</td>\n      <td>0.024247</td>\n      <td>0.000092</td>\n    </tr>\n    <tr>\n      <th>47</th>\n      <td>47</td>\n      <td>1051</td>\n      <td>10</td>\n      <td>5248.693625</td>\n      <td>49.469308</td>\n      <td>0.024333</td>\n      <td>0.000085</td>\n    </tr>\n    <tr>\n      <th>48</th>\n      <td>48</td>\n      <td>1045</td>\n      <td>6</td>\n      <td>5278.829665</td>\n      <td>30.136040</td>\n      <td>0.024385</td>\n      <td>0.000052</td>\n    </tr>\n    <tr>\n      <th>49</th>\n      <td>49</td>\n      <td>1034</td>\n      <td>11</td>\n      <td>5334.987427</td>\n      <td>56.157762</td>\n      <td>0.024483</td>\n      <td>0.000098</td>\n    </tr>\n  </tbody>\n</table>\n</div>"
     },
     "metadata": {},
     "execution_count": 19
    }
   ],
   "source": [
    "df_rip_threshold"
   ]
  },
  {
   "source": [
    "## Save Analysis "
   ],
   "cell_type": "markdown",
   "metadata": {}
  },
  {
   "cell_type": "code",
   "execution_count": 20,
   "metadata": {},
   "outputs": [],
   "source": [
    "df_gpa_threshold.to_csv(\"analysis/{}_gpa_analysis.csv\".format(model_name), index=False)\n",
    "df_rip_threshold.to_csv(\"analysis/{}_rip_analysis.csv\".format(model_name), index=False)"
   ]
  },
  {
   "cell_type": "code",
   "execution_count": null,
   "metadata": {},
   "outputs": [],
   "source": []
  }
 ]
}