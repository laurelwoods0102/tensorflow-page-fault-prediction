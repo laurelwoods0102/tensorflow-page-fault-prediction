{
 "metadata": {
  "language_info": {
   "codemirror_mode": {
    "name": "ipython",
    "version": 3
   },
   "file_extension": ".py",
   "mimetype": "text/x-python",
   "name": "python",
   "nbconvert_exporter": "python",
   "pygments_lexer": "ipython3",
   "version": "3.7.6"
  },
  "orig_nbformat": 2,
  "kernelspec": {
   "name": "python376jvsc74a57bd0b3ba2566441a7c06988d0923437866b63cedc61552a5af99d1f4fb67d367b25f",
   "display_name": "Python 3.7.6 64-bit (conda)"
  }
 },
 "nbformat": 4,
 "nbformat_minor": 2,
 "cells": [
  {
   "cell_type": "code",
   "execution_count": 1,
   "metadata": {},
   "outputs": [],
   "source": [
    "import numpy as np\n",
    "import pandas as pd\n",
    "import json\n",
    "import dill         # 0.3.2\n",
    "from sklearn.base import BaseEstimator, TransformerMixin\n",
    "from sklearn.pipeline import Pipeline\n",
    "from sklearn.model_selection import train_test_split"
   ]
  },
  {
   "cell_type": "markdown",
   "metadata": {},
   "source": [
    "## Set Global/Environment Variables"
   ]
  },
  {
   "cell_type": "code",
   "execution_count": 2,
   "metadata": {},
   "outputs": [],
   "source": [
    "model_name = \"STREAM+GEMM\""
   ]
  },
  {
   "cell_type": "markdown",
   "metadata": {},
   "source": [
    "## Load Dataset/Static Param List"
   ]
  },
  {
   "cell_type": "code",
   "execution_count": 3,
   "metadata": {},
   "outputs": [
    {
     "output_type": "execute_result",
     "data": {
      "text/plain": [
       "                   extra             time address_type         gpa  \\\n",
       "0       [336633.698810]   04:01:00:854206           PF   251797631   \n",
       "1       [336633.739463]   04:01:00:894857           PF  1007005696   \n",
       "2       [336633.867033]   04:01:01:022428           PF   906555392   \n",
       "3       [336633.901503]   04:01:01:056898           PF  1914261504   \n",
       "4       [336633.904886]   04:01:01:060282           PF   259330048   \n",
       "...                  ...              ...          ...         ...   \n",
       "180309   [ 1806.225725]   07:00:33:381360           PF   602140104   \n",
       "180310   [ 1806.225827]   07:00:33:381465           PF   597469140   \n",
       "180311   [ 1806.240176]   07:00:33:395810           PF   596315344   \n",
       "180312   [ 1806.240198]   07:00:33:395836           PF   597544452   \n",
       "180313   [ 1806.401068]   07:00:33:556702           PF   603197568   \n",
       "\n",
       "                         rip  vmid  \n",
       "0       18446744072449302655  4034  \n",
       "1       18446744072452043863  4034  \n",
       "2       18446744072452043863  4034  \n",
       "3       18446744072452043863  4034  \n",
       "4       18446744072452043863  4034  \n",
       "...                      ...   ...  \n",
       "180309       139790387006578  4034  \n",
       "180310  18446744072443263295  4034  \n",
       "180311  18446744072442219334  4034  \n",
       "180312  18446744072441579461  4034  \n",
       "180313       139675253067982  4034  \n",
       "\n",
       "[4157042 rows x 6 columns]"
      ],
      "text/html": "<div>\n<style scoped>\n    .dataframe tbody tr th:only-of-type {\n        vertical-align: middle;\n    }\n\n    .dataframe tbody tr th {\n        vertical-align: top;\n    }\n\n    .dataframe thead th {\n        text-align: right;\n    }\n</style>\n<table border=\"1\" class=\"dataframe\">\n  <thead>\n    <tr style=\"text-align: right;\">\n      <th></th>\n      <th>extra</th>\n      <th>time</th>\n      <th>address_type</th>\n      <th>gpa</th>\n      <th>rip</th>\n      <th>vmid</th>\n    </tr>\n  </thead>\n  <tbody>\n    <tr>\n      <th>0</th>\n      <td>[336633.698810]</td>\n      <td>04:01:00:854206</td>\n      <td>PF</td>\n      <td>251797631</td>\n      <td>18446744072449302655</td>\n      <td>4034</td>\n    </tr>\n    <tr>\n      <th>1</th>\n      <td>[336633.739463]</td>\n      <td>04:01:00:894857</td>\n      <td>PF</td>\n      <td>1007005696</td>\n      <td>18446744072452043863</td>\n      <td>4034</td>\n    </tr>\n    <tr>\n      <th>2</th>\n      <td>[336633.867033]</td>\n      <td>04:01:01:022428</td>\n      <td>PF</td>\n      <td>906555392</td>\n      <td>18446744072452043863</td>\n      <td>4034</td>\n    </tr>\n    <tr>\n      <th>3</th>\n      <td>[336633.901503]</td>\n      <td>04:01:01:056898</td>\n      <td>PF</td>\n      <td>1914261504</td>\n      <td>18446744072452043863</td>\n      <td>4034</td>\n    </tr>\n    <tr>\n      <th>4</th>\n      <td>[336633.904886]</td>\n      <td>04:01:01:060282</td>\n      <td>PF</td>\n      <td>259330048</td>\n      <td>18446744072452043863</td>\n      <td>4034</td>\n    </tr>\n    <tr>\n      <th>...</th>\n      <td>...</td>\n      <td>...</td>\n      <td>...</td>\n      <td>...</td>\n      <td>...</td>\n      <td>...</td>\n    </tr>\n    <tr>\n      <th>180309</th>\n      <td>[ 1806.225725]</td>\n      <td>07:00:33:381360</td>\n      <td>PF</td>\n      <td>602140104</td>\n      <td>139790387006578</td>\n      <td>4034</td>\n    </tr>\n    <tr>\n      <th>180310</th>\n      <td>[ 1806.225827]</td>\n      <td>07:00:33:381465</td>\n      <td>PF</td>\n      <td>597469140</td>\n      <td>18446744072443263295</td>\n      <td>4034</td>\n    </tr>\n    <tr>\n      <th>180311</th>\n      <td>[ 1806.240176]</td>\n      <td>07:00:33:395810</td>\n      <td>PF</td>\n      <td>596315344</td>\n      <td>18446744072442219334</td>\n      <td>4034</td>\n    </tr>\n    <tr>\n      <th>180312</th>\n      <td>[ 1806.240198]</td>\n      <td>07:00:33:395836</td>\n      <td>PF</td>\n      <td>597544452</td>\n      <td>18446744072441579461</td>\n      <td>4034</td>\n    </tr>\n    <tr>\n      <th>180313</th>\n      <td>[ 1806.401068]</td>\n      <td>07:00:33:556702</td>\n      <td>PF</td>\n      <td>603197568</td>\n      <td>139675253067982</td>\n      <td>4034</td>\n    </tr>\n  </tbody>\n</table>\n<p>4157042 rows × 6 columns</p>\n</div>"
     },
     "metadata": {},
     "execution_count": 3
    }
   ],
   "source": [
    "STREAM_dataset = pd.concat([pd.read_csv(\"../로그 데이터/STREAM/STREAM/stream_4034_generic2_{}.csv\".format(i), dtype=np.object) for i in reversed(range(1, 11))], axis=0)\n",
    "STREAM_dataset"
   ]
  },
  {
   "cell_type": "code",
   "execution_count": 4,
   "metadata": {},
   "outputs": [
    {
     "output_type": "execute_result",
     "data": {
      "text/plain": [
       "               gpa                   rip\n",
       "0        251797631  18446744072449302655\n",
       "1       1007005696  18446744072452043863\n",
       "2        906555392  18446744072452043863\n",
       "3       1914261504  18446744072452043863\n",
       "4        259330048  18446744072452043863\n",
       "...            ...                   ...\n",
       "180309   602140104       139790387006578\n",
       "180310   597469140  18446744072443263295\n",
       "180311   596315344  18446744072442219334\n",
       "180312   597544452  18446744072441579461\n",
       "180313   603197568       139675253067982\n",
       "\n",
       "[4156988 rows x 2 columns]"
      ],
      "text/html": "<div>\n<style scoped>\n    .dataframe tbody tr th:only-of-type {\n        vertical-align: middle;\n    }\n\n    .dataframe tbody tr th {\n        vertical-align: top;\n    }\n\n    .dataframe thead th {\n        text-align: right;\n    }\n</style>\n<table border=\"1\" class=\"dataframe\">\n  <thead>\n    <tr style=\"text-align: right;\">\n      <th></th>\n      <th>gpa</th>\n      <th>rip</th>\n    </tr>\n  </thead>\n  <tbody>\n    <tr>\n      <th>0</th>\n      <td>251797631</td>\n      <td>18446744072449302655</td>\n    </tr>\n    <tr>\n      <th>1</th>\n      <td>1007005696</td>\n      <td>18446744072452043863</td>\n    </tr>\n    <tr>\n      <th>2</th>\n      <td>906555392</td>\n      <td>18446744072452043863</td>\n    </tr>\n    <tr>\n      <th>3</th>\n      <td>1914261504</td>\n      <td>18446744072452043863</td>\n    </tr>\n    <tr>\n      <th>4</th>\n      <td>259330048</td>\n      <td>18446744072452043863</td>\n    </tr>\n    <tr>\n      <th>...</th>\n      <td>...</td>\n      <td>...</td>\n    </tr>\n    <tr>\n      <th>180309</th>\n      <td>602140104</td>\n      <td>139790387006578</td>\n    </tr>\n    <tr>\n      <th>180310</th>\n      <td>597469140</td>\n      <td>18446744072443263295</td>\n    </tr>\n    <tr>\n      <th>180311</th>\n      <td>596315344</td>\n      <td>18446744072442219334</td>\n    </tr>\n    <tr>\n      <th>180312</th>\n      <td>597544452</td>\n      <td>18446744072441579461</td>\n    </tr>\n    <tr>\n      <th>180313</th>\n      <td>603197568</td>\n      <td>139675253067982</td>\n    </tr>\n  </tbody>\n</table>\n<p>4156988 rows × 2 columns</p>\n</div>"
     },
     "metadata": {},
     "execution_count": 4
    }
   ],
   "source": [
    "STREAM_dataset = STREAM_dataset[[\"gpa\", \"rip\"]].dropna()       # rip for PCs\n",
    "STREAM_dataset"
   ]
  },
  {
   "cell_type": "code",
   "execution_count": 5,
   "metadata": {},
   "outputs": [
    {
     "output_type": "execute_result",
     "data": {
      "text/plain": [
       "                   extra             time address_type          gpa  \\\n",
       "0       [601757.292075]   06:00:51:525554           PF  14190604288   \n",
       "1       [601757.297013]   06:00:51:530492           PF  14352732392   \n",
       "2       [601757.337978]   06:00:51:571456           PF  14121463808   \n",
       "3       [601757.368684]   06:00:51:602162           PF  14120734720   \n",
       "4       [601757.376568]   06:00:51:610048           PF  14120828928   \n",
       "...                  ...              ...          ...          ...   \n",
       "400591   [ 1946.373117]   07:24:00:468967          GPA   8620549134   \n",
       "400592   [ 1946.373123]   07:24:00:468972          GPA  22541025656   \n",
       "400593   [ 1946.373157]   07:24:00:469006          GPA   8620549134   \n",
       "400594   [ 1946.373422]   07:24:00:469266          GPA   8620548801   \n",
       "400595   [ 1946.373454]   07:24:00:469301          GPA  22638145536   \n",
       "\n",
       "                         rip  vmid  \n",
       "0                   15410752  3214  \n",
       "1            140316942991300  3214  \n",
       "2                   15410776  3214  \n",
       "3                   15410764  3214  \n",
       "4                   15410764  3214  \n",
       "...                      ...   ...  \n",
       "400591  18446744071888380942  3214  \n",
       "400592  18446744071888380942  3214  \n",
       "400593  18446744071888380942  3214  \n",
       "400594  18446744071888380609  3214  \n",
       "400595  18446744071888380609  3214  \n",
       "\n",
       "[2332979 rows x 6 columns]"
      ],
      "text/html": "<div>\n<style scoped>\n    .dataframe tbody tr th:only-of-type {\n        vertical-align: middle;\n    }\n\n    .dataframe tbody tr th {\n        vertical-align: top;\n    }\n\n    .dataframe thead th {\n        text-align: right;\n    }\n</style>\n<table border=\"1\" class=\"dataframe\">\n  <thead>\n    <tr style=\"text-align: right;\">\n      <th></th>\n      <th>extra</th>\n      <th>time</th>\n      <th>address_type</th>\n      <th>gpa</th>\n      <th>rip</th>\n      <th>vmid</th>\n    </tr>\n  </thead>\n  <tbody>\n    <tr>\n      <th>0</th>\n      <td>[601757.292075]</td>\n      <td>06:00:51:525554</td>\n      <td>PF</td>\n      <td>14190604288</td>\n      <td>15410752</td>\n      <td>3214</td>\n    </tr>\n    <tr>\n      <th>1</th>\n      <td>[601757.297013]</td>\n      <td>06:00:51:530492</td>\n      <td>PF</td>\n      <td>14352732392</td>\n      <td>140316942991300</td>\n      <td>3214</td>\n    </tr>\n    <tr>\n      <th>2</th>\n      <td>[601757.337978]</td>\n      <td>06:00:51:571456</td>\n      <td>PF</td>\n      <td>14121463808</td>\n      <td>15410776</td>\n      <td>3214</td>\n    </tr>\n    <tr>\n      <th>3</th>\n      <td>[601757.368684]</td>\n      <td>06:00:51:602162</td>\n      <td>PF</td>\n      <td>14120734720</td>\n      <td>15410764</td>\n      <td>3214</td>\n    </tr>\n    <tr>\n      <th>4</th>\n      <td>[601757.376568]</td>\n      <td>06:00:51:610048</td>\n      <td>PF</td>\n      <td>14120828928</td>\n      <td>15410764</td>\n      <td>3214</td>\n    </tr>\n    <tr>\n      <th>...</th>\n      <td>...</td>\n      <td>...</td>\n      <td>...</td>\n      <td>...</td>\n      <td>...</td>\n      <td>...</td>\n    </tr>\n    <tr>\n      <th>400591</th>\n      <td>[ 1946.373117]</td>\n      <td>07:24:00:468967</td>\n      <td>GPA</td>\n      <td>8620549134</td>\n      <td>18446744071888380942</td>\n      <td>3214</td>\n    </tr>\n    <tr>\n      <th>400592</th>\n      <td>[ 1946.373123]</td>\n      <td>07:24:00:468972</td>\n      <td>GPA</td>\n      <td>22541025656</td>\n      <td>18446744071888380942</td>\n      <td>3214</td>\n    </tr>\n    <tr>\n      <th>400593</th>\n      <td>[ 1946.373157]</td>\n      <td>07:24:00:469006</td>\n      <td>GPA</td>\n      <td>8620549134</td>\n      <td>18446744071888380942</td>\n      <td>3214</td>\n    </tr>\n    <tr>\n      <th>400594</th>\n      <td>[ 1946.373422]</td>\n      <td>07:24:00:469266</td>\n      <td>GPA</td>\n      <td>8620548801</td>\n      <td>18446744071888380609</td>\n      <td>3214</td>\n    </tr>\n    <tr>\n      <th>400595</th>\n      <td>[ 1946.373454]</td>\n      <td>07:24:00:469301</td>\n      <td>GPA</td>\n      <td>22638145536</td>\n      <td>18446744071888380609</td>\n      <td>3214</td>\n    </tr>\n  </tbody>\n</table>\n<p>2332979 rows × 6 columns</p>\n</div>"
     },
     "metadata": {},
     "execution_count": 5
    }
   ],
   "source": [
    "GEMM_dataset = pd.concat([pd.read_csv(\"../로그 데이터/GEMM/gem_3214_generic_{}.csv\".format(i), dtype=np.object) for i in reversed(range(1, 11))], axis=0)\n",
    "GEMM_dataset"
   ]
  },
  {
   "cell_type": "code",
   "execution_count": 6,
   "metadata": {},
   "outputs": [
    {
     "output_type": "execute_result",
     "data": {
      "text/plain": [
       "                gpa                   rip\n",
       "0       14190604288              15410752\n",
       "1       14352732392       140316942991300\n",
       "2       14121463808              15410776\n",
       "3       14120734720              15410764\n",
       "4       14120828928              15410764\n",
       "...             ...                   ...\n",
       "400591   8620549134  18446744071888380942\n",
       "400592  22541025656  18446744071888380942\n",
       "400593   8620549134  18446744071888380942\n",
       "400594   8620548801  18446744071888380609\n",
       "400595  22638145536  18446744071888380609\n",
       "\n",
       "[2332869 rows x 2 columns]"
      ],
      "text/html": "<div>\n<style scoped>\n    .dataframe tbody tr th:only-of-type {\n        vertical-align: middle;\n    }\n\n    .dataframe tbody tr th {\n        vertical-align: top;\n    }\n\n    .dataframe thead th {\n        text-align: right;\n    }\n</style>\n<table border=\"1\" class=\"dataframe\">\n  <thead>\n    <tr style=\"text-align: right;\">\n      <th></th>\n      <th>gpa</th>\n      <th>rip</th>\n    </tr>\n  </thead>\n  <tbody>\n    <tr>\n      <th>0</th>\n      <td>14190604288</td>\n      <td>15410752</td>\n    </tr>\n    <tr>\n      <th>1</th>\n      <td>14352732392</td>\n      <td>140316942991300</td>\n    </tr>\n    <tr>\n      <th>2</th>\n      <td>14121463808</td>\n      <td>15410776</td>\n    </tr>\n    <tr>\n      <th>3</th>\n      <td>14120734720</td>\n      <td>15410764</td>\n    </tr>\n    <tr>\n      <th>4</th>\n      <td>14120828928</td>\n      <td>15410764</td>\n    </tr>\n    <tr>\n      <th>...</th>\n      <td>...</td>\n      <td>...</td>\n    </tr>\n    <tr>\n      <th>400591</th>\n      <td>8620549134</td>\n      <td>18446744071888380942</td>\n    </tr>\n    <tr>\n      <th>400592</th>\n      <td>22541025656</td>\n      <td>18446744071888380942</td>\n    </tr>\n    <tr>\n      <th>400593</th>\n      <td>8620549134</td>\n      <td>18446744071888380942</td>\n    </tr>\n    <tr>\n      <th>400594</th>\n      <td>8620548801</td>\n      <td>18446744071888380609</td>\n    </tr>\n    <tr>\n      <th>400595</th>\n      <td>22638145536</td>\n      <td>18446744071888380609</td>\n    </tr>\n  </tbody>\n</table>\n<p>2332869 rows × 2 columns</p>\n</div>"
     },
     "metadata": {},
     "execution_count": 6
    }
   ],
   "source": [
    "GEMM_dataset = GEMM_dataset[[\"gpa\", \"rip\"]].dropna()       # rip for PCs\n",
    "GEMM_dataset"
   ]
  },
  {
   "cell_type": "code",
   "execution_count": 7,
   "metadata": {},
   "outputs": [
    {
     "output_type": "execute_result",
     "data": {
      "text/plain": [
       "                 gpa                   rip\n",
       "0          251797631  18446744072449302655\n",
       "1         1007005696  18446744072452043863\n",
       "2          906555392  18446744072452043863\n",
       "3         1914261504  18446744072452043863\n",
       "4          259330048  18446744072452043863\n",
       "...              ...                   ...\n",
       "6489852   8620549134  18446744071888380942\n",
       "6489853  22541025656  18446744071888380942\n",
       "6489854   8620549134  18446744071888380942\n",
       "6489855   8620548801  18446744071888380609\n",
       "6489856  22638145536  18446744071888380609\n",
       "\n",
       "[6489857 rows x 2 columns]"
      ],
      "text/html": "<div>\n<style scoped>\n    .dataframe tbody tr th:only-of-type {\n        vertical-align: middle;\n    }\n\n    .dataframe tbody tr th {\n        vertical-align: top;\n    }\n\n    .dataframe thead th {\n        text-align: right;\n    }\n</style>\n<table border=\"1\" class=\"dataframe\">\n  <thead>\n    <tr style=\"text-align: right;\">\n      <th></th>\n      <th>gpa</th>\n      <th>rip</th>\n    </tr>\n  </thead>\n  <tbody>\n    <tr>\n      <th>0</th>\n      <td>251797631</td>\n      <td>18446744072449302655</td>\n    </tr>\n    <tr>\n      <th>1</th>\n      <td>1007005696</td>\n      <td>18446744072452043863</td>\n    </tr>\n    <tr>\n      <th>2</th>\n      <td>906555392</td>\n      <td>18446744072452043863</td>\n    </tr>\n    <tr>\n      <th>3</th>\n      <td>1914261504</td>\n      <td>18446744072452043863</td>\n    </tr>\n    <tr>\n      <th>4</th>\n      <td>259330048</td>\n      <td>18446744072452043863</td>\n    </tr>\n    <tr>\n      <th>...</th>\n      <td>...</td>\n      <td>...</td>\n    </tr>\n    <tr>\n      <th>6489852</th>\n      <td>8620549134</td>\n      <td>18446744071888380942</td>\n    </tr>\n    <tr>\n      <th>6489853</th>\n      <td>22541025656</td>\n      <td>18446744071888380942</td>\n    </tr>\n    <tr>\n      <th>6489854</th>\n      <td>8620549134</td>\n      <td>18446744071888380942</td>\n    </tr>\n    <tr>\n      <th>6489855</th>\n      <td>8620548801</td>\n      <td>18446744071888380609</td>\n    </tr>\n    <tr>\n      <th>6489856</th>\n      <td>22638145536</td>\n      <td>18446744071888380609</td>\n    </tr>\n  </tbody>\n</table>\n<p>6489857 rows × 2 columns</p>\n</div>"
     },
     "metadata": {},
     "execution_count": 7
    }
   ],
   "source": [
    "original_dataset = pd.concat([STREAM_dataset, GEMM_dataset], ignore_index=True)\n",
    "original_dataset"
   ]
  },
  {
   "cell_type": "markdown",
   "metadata": {},
   "source": [
    "## Dataset Processing Functions"
   ]
  },
  {
   "cell_type": "code",
   "execution_count": 8,
   "metadata": {},
   "outputs": [],
   "source": [
    "class CalculateDelta(TransformerMixin):\n",
    "    def __init__(self):\n",
    "        pass\n",
    "\n",
    "    def fit(self, X, y=None):\n",
    "        return self\n",
    "        \n",
    "    def transform(self, X, y=None):\n",
    "        X_transformed = X[:-1] - X[1:]\n",
    "        # In case of unsigned types, change its type to string type\n",
    "        if X_transformed.dtype in [np.uint8, np.uint16, np.uint32, np.uint64]:\n",
    "            X_transformed = X_transformed.astype(np.string_)\n",
    "        return X_transformed\n",
    "\n",
    "    def inverse_transform(self, X, y=None):     # Just for test_pipeline.inverse_transform()\n",
    "        return X"
   ]
  },
  {
   "cell_type": "markdown",
   "metadata": {},
   "source": [
    "## Process Train/Validation Dataset"
   ]
  },
  {
   "cell_type": "code",
   "execution_count": 9,
   "metadata": {},
   "outputs": [],
   "source": [
    "# Train / Val / Test Ratio : 70% / 15% / 15%\n",
    "train_val_set, test_set = train_test_split(original_dataset, test_size=0.15, shuffle=False)\n",
    "#train_set, val_set = train_test_split(train_val_set, test_size=0.2, shuffle=False)"
   ]
  },
  {
   "cell_type": "code",
   "execution_count": 10,
   "metadata": {},
   "outputs": [],
   "source": [
    "train_val_gpa = train_val_set[\"gpa\"].values.astype(np.int64)\n",
    "train_val_rip = train_val_set[\"rip\"].values.astype(np.uint64)      # As uint64 not exists in pandas\n",
    "\n",
    "test_gpa = test_set[\"gpa\"].values.astype(np.int64)\n",
    "test_rip = test_set[\"rip\"].values.astype(np.uint64)      # As uint64 not exists in pandas"
   ]
  },
  {
   "cell_type": "code",
   "execution_count": 11,
   "metadata": {},
   "outputs": [],
   "source": [
    "calculate_delta = CalculateDelta()"
   ]
  },
  {
   "source": [
    "processed_train_val_gpa = calculate_delta.fit_transform(train_val_gpa.copy())\n",
    "processed_train_val_gpa"
   ],
   "cell_type": "code",
   "metadata": {},
   "execution_count": 12,
   "outputs": [
    {
     "output_type": "execute_result",
     "data": {
      "text/plain": [
       "array([ -755208065,   100450304, -1007706112, ...,       -4096,\n",
       "             -4096,       -4096], dtype=int64)"
      ]
     },
     "metadata": {},
     "execution_count": 12
    }
   ]
  },
  {
   "cell_type": "code",
   "execution_count": 13,
   "metadata": {
    "tags": []
   },
   "outputs": [
    {
     "output_type": "execute_result",
     "data": {
      "text/plain": [
       "array([b'18446744073706810408', b'0', b'0', ..., b'0', b'0', b'0'],\n",
       "      dtype='|S20')"
      ]
     },
     "metadata": {},
     "execution_count": 13
    }
   ],
   "source": [
    "processed_train_val_rip = calculate_delta.transform(train_val_rip)\n",
    "processed_train_val_rip"
   ]
  },
  {
   "cell_type": "code",
   "execution_count": 14,
   "metadata": {},
   "outputs": [
    {
     "output_type": "execute_result",
     "data": {
      "text/plain": [
       "(-4096          1184303\n",
       "  0              602811\n",
       " -1638400         67622\n",
       " -12288           51913\n",
       " -1896448         30291\n",
       "                 ...   \n",
       "  4841376             1\n",
       "  113967044           1\n",
       " -1568910655          1\n",
       "  676028400           1\n",
       " -7845624             1\n",
       " Length: 849143, dtype: int64,\n",
       " b'0'                       3829673\n",
       " b'18446744073709551604'      67421\n",
       " b'18446744073709551579'      42191\n",
       " b'18446744073709551605'      38328\n",
       " b'37'                        37913\n",
       "                             ...   \n",
       " b'74469492552'                   1\n",
       " b'18446649989132988124'          1\n",
       " b'34746222'                      1\n",
       " b'18446743924312887999'          1\n",
       " b'93973016140542'                1\n",
       " Length: 67054, dtype: int64)"
      ]
     },
     "metadata": {},
     "execution_count": 14
    }
   ],
   "source": [
    "pd.Series(processed_train_val_gpa).value_counts(), pd.Series(processed_train_val_rip).value_counts()"
   ]
  },
  {
   "cell_type": "code",
   "execution_count": 15,
   "metadata": {},
   "outputs": [
    {
     "output_type": "execute_result",
     "data": {
      "text/plain": [
       "(1       487890\n",
       " 2       146278\n",
       " 3        75690\n",
       " 4        39983\n",
       " 5        21499\n",
       "          ...  \n",
       " 2349         1\n",
       " 1326         1\n",
       " 304          1\n",
       " 306          1\n",
       " 2048         1\n",
       " Length: 615, dtype: int64,\n",
       " 1       51034\n",
       " 2        6241\n",
       " 3        2358\n",
       " 4        1389\n",
       " 5         881\n",
       "         ...  \n",
       " 614         1\n",
       " 742         1\n",
       " 7973        1\n",
       " 1830        1\n",
       " 607         1\n",
       " Length: 666, dtype: int64)"
      ]
     },
     "metadata": {},
     "execution_count": 15
    }
   ],
   "source": [
    "# Index = Occurence | Column = Number of included categories\n",
    "pd.Series(processed_train_val_gpa).value_counts().value_counts(), pd.Series(processed_train_val_rip).value_counts().value_counts()"
   ]
  },
  {
   "source": [
    "## gpa : N / P ratio"
   ],
   "cell_type": "markdown",
   "metadata": {}
  },
  {
   "cell_type": "code",
   "execution_count": 16,
   "metadata": {},
   "outputs": [],
   "source": [
    "gpa_data = []\n",
    "for gpa_threshold in range(50):\n",
    "    row = []\n",
    "    \n",
    "    row.append(gpa_threshold)\n",
    "    if gpa_threshold == 0:\n",
    "        gpa_p = len(pd.Series(processed_train_val_gpa).value_counts())\n",
    "        previous_gpa_p = gpa_p\n",
    "        previous_accuracy = 0\n",
    "    else:\n",
    "        gpa_p = len(pd.Series(processed_train_val_gpa).value_counts()) - sum(pd.Series(processed_train_val_gpa).value_counts().value_counts().loc[list(range(1, gpa_threshold+1))].values) + 1\n",
    "    row.append(gpa_p)\n",
    "    row.append(previous_gpa_p - gpa_p)\n",
    "    previous_gpa_p = gpa_p\n",
    "    row.append(processed_train_val_gpa.shape[0] / gpa_p)\n",
    "    accuracy = sum(pd.Series(processed_train_val_gpa).value_counts().value_counts().loc[list(range(1, gpa_threshold+1))].values * pd.Series(processed_train_val_gpa).value_counts().value_counts().loc[list(range(1, gpa_threshold+1))].index) / (processed_train_val_gpa.shape[0])\n",
    "    row.append(accuracy)\n",
    "    row.append(accuracy - previous_accuracy)\n",
    "    previous_accuracy = accuracy\n",
    "\n",
    "    gpa_data.append(row)\n",
    "\n",
    "df_gpa_threshold = pd.DataFrame(data=gpa_data, columns=[\"threshold\", \"p\", \"p'\", \"n/p ratio\", \"upper limit for train/val accuracy\", \"accuracy'\"])"
   ]
  },
  {
   "cell_type": "code",
   "execution_count": 17,
   "metadata": {},
   "outputs": [
    {
     "output_type": "execute_result",
     "data": {
      "text/plain": [
       "    threshold       p      p'   n/p ratio  upper limit for train/val accuracy  \\\n",
       "0           0  849143       0    6.496405                            0.000000   \n",
       "1           1  361254  487889   15.270079                            0.088444   \n",
       "2           2  214976  146278   25.660432                            0.141478   \n",
       "3           3  139286   75690   39.604677                            0.182641   \n",
       "4           4   99303   39983   55.550960                            0.211633   \n",
       "5           5   77804   21499   70.900943                            0.231120   \n",
       "6           6   65202   12602   84.604414                            0.244826   \n",
       "7           7   57228    7974   96.392972                            0.254945   \n",
       "8           8   51686    5542  106.728650                            0.262982   \n",
       "9           9   47468    4218  116.212543                            0.269864   \n",
       "10         10   44043    3425  125.249801                            0.276073   \n",
       "11         11   41100    2943  134.218418                            0.281941   \n",
       "12         12   38548    2552  143.104104                            0.287493   \n",
       "13         13   36302    2246  151.957936                            0.292786   \n",
       "14         14   34265    2037  160.991595                            0.297955   \n",
       "15         15   32436    1829  170.069583                            0.302929   \n",
       "16         16   30748    1688  179.406043                            0.307825   \n",
       "17         17   29275    1473  188.433032                            0.312364   \n",
       "18         18   27793    1482  198.480805                            0.317200   \n",
       "19         19   26444    1349  208.605998                            0.321846   \n",
       "20         20   25215    1229  218.773627                            0.326302   \n",
       "21         21   24079    1136  229.094937                            0.330627   \n",
       "22         22   22995    1084  239.894629                            0.334950   \n",
       "23         23   21941    1054  251.418668                            0.339344   \n",
       "24         24   21029     912  262.322364                            0.343312   \n",
       "25         25   20145     884  273.833557                            0.347318   \n",
       "26         26   19332     813  285.349524                            0.351150   \n",
       "27         27   18533     799  297.651594                            0.355061   \n",
       "28         28   17818     715  309.595746                            0.358690   \n",
       "29         29   17116     702  322.293585                            0.362381   \n",
       "30         30   16462     654  335.097619                            0.365937   \n",
       "31         31   15861     601  347.795032                            0.369315   \n",
       "32         32   15262     599  361.445223                            0.372789   \n",
       "33         33   14734     528  374.397787                            0.375948   \n",
       "34         34   14162     572  389.519630                            0.379474   \n",
       "35         35   13660     502  403.834334                            0.382659   \n",
       "36         36   13183     477  418.446257                            0.385771   \n",
       "37         37   12732     451  433.268693                            0.388796   \n",
       "38         38   12295     437  448.668320                            0.391807   \n",
       "39         39   11833     462  466.185836                            0.395073   \n",
       "40         40   11401     432  483.850276                            0.398206   \n",
       "41         41   11020     381  500.578675                            0.401037   \n",
       "42         42   10609     411  519.971439                            0.404167   \n",
       "43         43   10241     368  538.656088                            0.407035   \n",
       "44         44    9886     355  557.998887                            0.409867   \n",
       "45         45    9539     347  578.297201                            0.412697   \n",
       "46         46    9241     298  596.945893                            0.415182   \n",
       "47         47    8936     305  617.320613                            0.417781   \n",
       "48         48    8657     279  637.215779                            0.420209   \n",
       "49         49    8398     259  656.867945                            0.422509   \n",
       "\n",
       "    accuracy'  \n",
       "0    0.000000  \n",
       "1    0.088444  \n",
       "2    0.053034  \n",
       "3    0.041163  \n",
       "4    0.028992  \n",
       "5    0.019487  \n",
       "6    0.013707  \n",
       "7    0.010119  \n",
       "8    0.008037  \n",
       "9    0.006882  \n",
       "10   0.006209  \n",
       "11   0.005869  \n",
       "12   0.005551  \n",
       "13   0.005293  \n",
       "14   0.005170  \n",
       "15   0.004973  \n",
       "16   0.004896  \n",
       "17   0.004539  \n",
       "18   0.004836  \n",
       "19   0.004646  \n",
       "20   0.004456  \n",
       "21   0.004325  \n",
       "22   0.004323  \n",
       "23   0.004395  \n",
       "24   0.003968  \n",
       "25   0.004006  \n",
       "26   0.003832  \n",
       "27   0.003911  \n",
       "28   0.003629  \n",
       "29   0.003690  \n",
       "30   0.003557  \n",
       "31   0.003377  \n",
       "32   0.003475  \n",
       "33   0.003159  \n",
       "34   0.003526  \n",
       "35   0.003185  \n",
       "36   0.003113  \n",
       "37   0.003025  \n",
       "38   0.003010  \n",
       "39   0.003266  \n",
       "40   0.003132  \n",
       "41   0.002832  \n",
       "42   0.003129  \n",
       "43   0.002869  \n",
       "44   0.002832  \n",
       "45   0.002831  \n",
       "46   0.002485  \n",
       "47   0.002599  \n",
       "48   0.002428  \n",
       "49   0.002301  "
      ],
      "text/html": "<div>\n<style scoped>\n    .dataframe tbody tr th:only-of-type {\n        vertical-align: middle;\n    }\n\n    .dataframe tbody tr th {\n        vertical-align: top;\n    }\n\n    .dataframe thead th {\n        text-align: right;\n    }\n</style>\n<table border=\"1\" class=\"dataframe\">\n  <thead>\n    <tr style=\"text-align: right;\">\n      <th></th>\n      <th>threshold</th>\n      <th>p</th>\n      <th>p'</th>\n      <th>n/p ratio</th>\n      <th>upper limit for train/val accuracy</th>\n      <th>accuracy'</th>\n    </tr>\n  </thead>\n  <tbody>\n    <tr>\n      <th>0</th>\n      <td>0</td>\n      <td>849143</td>\n      <td>0</td>\n      <td>6.496405</td>\n      <td>0.000000</td>\n      <td>0.000000</td>\n    </tr>\n    <tr>\n      <th>1</th>\n      <td>1</td>\n      <td>361254</td>\n      <td>487889</td>\n      <td>15.270079</td>\n      <td>0.088444</td>\n      <td>0.088444</td>\n    </tr>\n    <tr>\n      <th>2</th>\n      <td>2</td>\n      <td>214976</td>\n      <td>146278</td>\n      <td>25.660432</td>\n      <td>0.141478</td>\n      <td>0.053034</td>\n    </tr>\n    <tr>\n      <th>3</th>\n      <td>3</td>\n      <td>139286</td>\n      <td>75690</td>\n      <td>39.604677</td>\n      <td>0.182641</td>\n      <td>0.041163</td>\n    </tr>\n    <tr>\n      <th>4</th>\n      <td>4</td>\n      <td>99303</td>\n      <td>39983</td>\n      <td>55.550960</td>\n      <td>0.211633</td>\n      <td>0.028992</td>\n    </tr>\n    <tr>\n      <th>5</th>\n      <td>5</td>\n      <td>77804</td>\n      <td>21499</td>\n      <td>70.900943</td>\n      <td>0.231120</td>\n      <td>0.019487</td>\n    </tr>\n    <tr>\n      <th>6</th>\n      <td>6</td>\n      <td>65202</td>\n      <td>12602</td>\n      <td>84.604414</td>\n      <td>0.244826</td>\n      <td>0.013707</td>\n    </tr>\n    <tr>\n      <th>7</th>\n      <td>7</td>\n      <td>57228</td>\n      <td>7974</td>\n      <td>96.392972</td>\n      <td>0.254945</td>\n      <td>0.010119</td>\n    </tr>\n    <tr>\n      <th>8</th>\n      <td>8</td>\n      <td>51686</td>\n      <td>5542</td>\n      <td>106.728650</td>\n      <td>0.262982</td>\n      <td>0.008037</td>\n    </tr>\n    <tr>\n      <th>9</th>\n      <td>9</td>\n      <td>47468</td>\n      <td>4218</td>\n      <td>116.212543</td>\n      <td>0.269864</td>\n      <td>0.006882</td>\n    </tr>\n    <tr>\n      <th>10</th>\n      <td>10</td>\n      <td>44043</td>\n      <td>3425</td>\n      <td>125.249801</td>\n      <td>0.276073</td>\n      <td>0.006209</td>\n    </tr>\n    <tr>\n      <th>11</th>\n      <td>11</td>\n      <td>41100</td>\n      <td>2943</td>\n      <td>134.218418</td>\n      <td>0.281941</td>\n      <td>0.005869</td>\n    </tr>\n    <tr>\n      <th>12</th>\n      <td>12</td>\n      <td>38548</td>\n      <td>2552</td>\n      <td>143.104104</td>\n      <td>0.287493</td>\n      <td>0.005551</td>\n    </tr>\n    <tr>\n      <th>13</th>\n      <td>13</td>\n      <td>36302</td>\n      <td>2246</td>\n      <td>151.957936</td>\n      <td>0.292786</td>\n      <td>0.005293</td>\n    </tr>\n    <tr>\n      <th>14</th>\n      <td>14</td>\n      <td>34265</td>\n      <td>2037</td>\n      <td>160.991595</td>\n      <td>0.297955</td>\n      <td>0.005170</td>\n    </tr>\n    <tr>\n      <th>15</th>\n      <td>15</td>\n      <td>32436</td>\n      <td>1829</td>\n      <td>170.069583</td>\n      <td>0.302929</td>\n      <td>0.004973</td>\n    </tr>\n    <tr>\n      <th>16</th>\n      <td>16</td>\n      <td>30748</td>\n      <td>1688</td>\n      <td>179.406043</td>\n      <td>0.307825</td>\n      <td>0.004896</td>\n    </tr>\n    <tr>\n      <th>17</th>\n      <td>17</td>\n      <td>29275</td>\n      <td>1473</td>\n      <td>188.433032</td>\n      <td>0.312364</td>\n      <td>0.004539</td>\n    </tr>\n    <tr>\n      <th>18</th>\n      <td>18</td>\n      <td>27793</td>\n      <td>1482</td>\n      <td>198.480805</td>\n      <td>0.317200</td>\n      <td>0.004836</td>\n    </tr>\n    <tr>\n      <th>19</th>\n      <td>19</td>\n      <td>26444</td>\n      <td>1349</td>\n      <td>208.605998</td>\n      <td>0.321846</td>\n      <td>0.004646</td>\n    </tr>\n    <tr>\n      <th>20</th>\n      <td>20</td>\n      <td>25215</td>\n      <td>1229</td>\n      <td>218.773627</td>\n      <td>0.326302</td>\n      <td>0.004456</td>\n    </tr>\n    <tr>\n      <th>21</th>\n      <td>21</td>\n      <td>24079</td>\n      <td>1136</td>\n      <td>229.094937</td>\n      <td>0.330627</td>\n      <td>0.004325</td>\n    </tr>\n    <tr>\n      <th>22</th>\n      <td>22</td>\n      <td>22995</td>\n      <td>1084</td>\n      <td>239.894629</td>\n      <td>0.334950</td>\n      <td>0.004323</td>\n    </tr>\n    <tr>\n      <th>23</th>\n      <td>23</td>\n      <td>21941</td>\n      <td>1054</td>\n      <td>251.418668</td>\n      <td>0.339344</td>\n      <td>0.004395</td>\n    </tr>\n    <tr>\n      <th>24</th>\n      <td>24</td>\n      <td>21029</td>\n      <td>912</td>\n      <td>262.322364</td>\n      <td>0.343312</td>\n      <td>0.003968</td>\n    </tr>\n    <tr>\n      <th>25</th>\n      <td>25</td>\n      <td>20145</td>\n      <td>884</td>\n      <td>273.833557</td>\n      <td>0.347318</td>\n      <td>0.004006</td>\n    </tr>\n    <tr>\n      <th>26</th>\n      <td>26</td>\n      <td>19332</td>\n      <td>813</td>\n      <td>285.349524</td>\n      <td>0.351150</td>\n      <td>0.003832</td>\n    </tr>\n    <tr>\n      <th>27</th>\n      <td>27</td>\n      <td>18533</td>\n      <td>799</td>\n      <td>297.651594</td>\n      <td>0.355061</td>\n      <td>0.003911</td>\n    </tr>\n    <tr>\n      <th>28</th>\n      <td>28</td>\n      <td>17818</td>\n      <td>715</td>\n      <td>309.595746</td>\n      <td>0.358690</td>\n      <td>0.003629</td>\n    </tr>\n    <tr>\n      <th>29</th>\n      <td>29</td>\n      <td>17116</td>\n      <td>702</td>\n      <td>322.293585</td>\n      <td>0.362381</td>\n      <td>0.003690</td>\n    </tr>\n    <tr>\n      <th>30</th>\n      <td>30</td>\n      <td>16462</td>\n      <td>654</td>\n      <td>335.097619</td>\n      <td>0.365937</td>\n      <td>0.003557</td>\n    </tr>\n    <tr>\n      <th>31</th>\n      <td>31</td>\n      <td>15861</td>\n      <td>601</td>\n      <td>347.795032</td>\n      <td>0.369315</td>\n      <td>0.003377</td>\n    </tr>\n    <tr>\n      <th>32</th>\n      <td>32</td>\n      <td>15262</td>\n      <td>599</td>\n      <td>361.445223</td>\n      <td>0.372789</td>\n      <td>0.003475</td>\n    </tr>\n    <tr>\n      <th>33</th>\n      <td>33</td>\n      <td>14734</td>\n      <td>528</td>\n      <td>374.397787</td>\n      <td>0.375948</td>\n      <td>0.003159</td>\n    </tr>\n    <tr>\n      <th>34</th>\n      <td>34</td>\n      <td>14162</td>\n      <td>572</td>\n      <td>389.519630</td>\n      <td>0.379474</td>\n      <td>0.003526</td>\n    </tr>\n    <tr>\n      <th>35</th>\n      <td>35</td>\n      <td>13660</td>\n      <td>502</td>\n      <td>403.834334</td>\n      <td>0.382659</td>\n      <td>0.003185</td>\n    </tr>\n    <tr>\n      <th>36</th>\n      <td>36</td>\n      <td>13183</td>\n      <td>477</td>\n      <td>418.446257</td>\n      <td>0.385771</td>\n      <td>0.003113</td>\n    </tr>\n    <tr>\n      <th>37</th>\n      <td>37</td>\n      <td>12732</td>\n      <td>451</td>\n      <td>433.268693</td>\n      <td>0.388796</td>\n      <td>0.003025</td>\n    </tr>\n    <tr>\n      <th>38</th>\n      <td>38</td>\n      <td>12295</td>\n      <td>437</td>\n      <td>448.668320</td>\n      <td>0.391807</td>\n      <td>0.003010</td>\n    </tr>\n    <tr>\n      <th>39</th>\n      <td>39</td>\n      <td>11833</td>\n      <td>462</td>\n      <td>466.185836</td>\n      <td>0.395073</td>\n      <td>0.003266</td>\n    </tr>\n    <tr>\n      <th>40</th>\n      <td>40</td>\n      <td>11401</td>\n      <td>432</td>\n      <td>483.850276</td>\n      <td>0.398206</td>\n      <td>0.003132</td>\n    </tr>\n    <tr>\n      <th>41</th>\n      <td>41</td>\n      <td>11020</td>\n      <td>381</td>\n      <td>500.578675</td>\n      <td>0.401037</td>\n      <td>0.002832</td>\n    </tr>\n    <tr>\n      <th>42</th>\n      <td>42</td>\n      <td>10609</td>\n      <td>411</td>\n      <td>519.971439</td>\n      <td>0.404167</td>\n      <td>0.003129</td>\n    </tr>\n    <tr>\n      <th>43</th>\n      <td>43</td>\n      <td>10241</td>\n      <td>368</td>\n      <td>538.656088</td>\n      <td>0.407035</td>\n      <td>0.002869</td>\n    </tr>\n    <tr>\n      <th>44</th>\n      <td>44</td>\n      <td>9886</td>\n      <td>355</td>\n      <td>557.998887</td>\n      <td>0.409867</td>\n      <td>0.002832</td>\n    </tr>\n    <tr>\n      <th>45</th>\n      <td>45</td>\n      <td>9539</td>\n      <td>347</td>\n      <td>578.297201</td>\n      <td>0.412697</td>\n      <td>0.002831</td>\n    </tr>\n    <tr>\n      <th>46</th>\n      <td>46</td>\n      <td>9241</td>\n      <td>298</td>\n      <td>596.945893</td>\n      <td>0.415182</td>\n      <td>0.002485</td>\n    </tr>\n    <tr>\n      <th>47</th>\n      <td>47</td>\n      <td>8936</td>\n      <td>305</td>\n      <td>617.320613</td>\n      <td>0.417781</td>\n      <td>0.002599</td>\n    </tr>\n    <tr>\n      <th>48</th>\n      <td>48</td>\n      <td>8657</td>\n      <td>279</td>\n      <td>637.215779</td>\n      <td>0.420209</td>\n      <td>0.002428</td>\n    </tr>\n    <tr>\n      <th>49</th>\n      <td>49</td>\n      <td>8398</td>\n      <td>259</td>\n      <td>656.867945</td>\n      <td>0.422509</td>\n      <td>0.002301</td>\n    </tr>\n  </tbody>\n</table>\n</div>"
     },
     "metadata": {},
     "execution_count": 17
    }
   ],
   "source": [
    "df_gpa_threshold"
   ]
  },
  {
   "source": [
    "## rip : N / P ratio"
   ],
   "cell_type": "markdown",
   "metadata": {}
  },
  {
   "cell_type": "code",
   "execution_count": 18,
   "metadata": {},
   "outputs": [],
   "source": [
    "rip_data = []\n",
    "for rip_threshold in range(50):\n",
    "    row = []\n",
    "    \n",
    "    row.append(rip_threshold)\n",
    "    if rip_threshold == 0:\n",
    "        rip_p = len(pd.Series(processed_train_val_rip).value_counts())\n",
    "        previous_rip_p = rip_p\n",
    "        previous_accuracy = 0\n",
    "    else:\n",
    "        rip_p = len(pd.Series(processed_train_val_rip).value_counts()) - sum(pd.Series(processed_train_val_rip).value_counts().value_counts().loc[list(range(1, rip_threshold+1))].values) + 1\n",
    "    row.append(rip_p)\n",
    "    row.append(previous_rip_p - rip_p)\n",
    "    previous_rip_p = rip_p\n",
    "    row.append(processed_train_val_rip.shape[0] / rip_p)\n",
    "    accuracy = sum(pd.Series(processed_train_val_rip).value_counts().value_counts().loc[list(range(1, rip_threshold+1))].values * pd.Series(processed_train_val_rip).value_counts().value_counts().loc[list(range(1, rip_threshold+1))].index) / (processed_train_val_rip.shape[0])\n",
    "    row.append(accuracy)\n",
    "    row.append(accuracy - previous_accuracy)\n",
    "    previous_accuracy = accuracy\n",
    "\n",
    "    rip_data.append(row)\n",
    "\n",
    "df_rip_threshold = pd.DataFrame(data=rip_data, columns=[\"threshold\", \"p\", \"p'\", \"n/p ratio\", \"upper limit for train/val accuracy\", \"accuracy'\"])"
   ]
  },
  {
   "cell_type": "code",
   "execution_count": 19,
   "metadata": {},
   "outputs": [
    {
     "output_type": "execute_result",
     "data": {
      "text/plain": [
       "    threshold      p     p'    n/p ratio  upper limit for train/val accuracy  \\\n",
       "0           0  67054      0    82.267680                            0.000000   \n",
       "1           1  16021  51033   344.321640                            0.009251   \n",
       "2           2   9780   6241   564.046728                            0.011514   \n",
       "3           3   7422   2358   743.246699                            0.012796   \n",
       "4           4   6033   1389   914.367147                            0.013804   \n",
       "5           5   5152    881  1070.725349                            0.014602   \n",
       "6           6   4500    652  1225.861556                            0.015311   \n",
       "7           7   3956    544  1394.433013                            0.016002   \n",
       "8           8   3515    441  1569.381792                            0.016641   \n",
       "9           9   3190    325  1729.271787                            0.017171   \n",
       "10         10   2923    267  1887.231269                            0.017655   \n",
       "11         11   2690    233  2050.697770                            0.018120   \n",
       "12         12   2489    201  2216.302531                            0.018557   \n",
       "13         13   2314    175  2383.914002                            0.018970   \n",
       "14         14   2178    136  2532.771809                            0.019315   \n",
       "15         15   2070    108  2664.916425                            0.019609   \n",
       "16         16   1971     99  2798.770675                            0.019896   \n",
       "17         17   1894     77  2912.553854                            0.020133   \n",
       "18         18   1828     66  3017.711707                            0.020348   \n",
       "19         19   1754     74  3145.026796                            0.020603   \n",
       "20         20   1685     69  3273.814243                            0.020853   \n",
       "21         21   1636     49  3371.868582                            0.021040   \n",
       "22         22   1586     50  3478.169609                            0.021239   \n",
       "23         23   1533     53  3598.419439                            0.021460   \n",
       "24         24   1492     41  3697.303619                            0.021639   \n",
       "25         25   1465     27  3765.445051                            0.021761   \n",
       "26         26   1440     25  3830.817361                            0.021879   \n",
       "27         27   1409     31  3915.100781                            0.022031   \n",
       "28         28   1373     36  4017.754552                            0.022213   \n",
       "29         29   1347     26  4095.305865                            0.022350   \n",
       "30         30   1326     21  4160.163650                            0.022464   \n",
       "31         31   1297     29  4253.181958                            0.022627   \n",
       "32         32   1277     20  4319.794049                            0.022743   \n",
       "33         33   1252     25  4406.051917                            0.022893   \n",
       "34         34   1232     20  4477.578734                            0.023016   \n",
       "35         35   1213     19  4547.713932                            0.023137   \n",
       "36         36   1193     20  4623.953898                            0.023267   \n",
       "37         37   1180     13  4674.895763                            0.023354   \n",
       "38         38   1161     19  4751.401378                            0.023485   \n",
       "39         39   1142     19  4830.452715                            0.023619   \n",
       "40         40   1127     15  4894.744454                            0.023728   \n",
       "41         41   1113     14  4956.313567                            0.023832   \n",
       "42         42   1104      9  4996.718297                            0.023901   \n",
       "43         43   1091     13  5056.257562                            0.024002   \n",
       "44         44   1083      8  5093.607572                            0.024066   \n",
       "45         45   1072     11  5145.874067                            0.024156   \n",
       "46         46   1061     11  5199.224317                            0.024247   \n",
       "47         47   1051     10  5248.693625                            0.024333   \n",
       "48         48   1045      6  5278.829665                            0.024385   \n",
       "49         49   1034     11  5334.987427                            0.024483   \n",
       "\n",
       "    accuracy'  \n",
       "0    0.000000  \n",
       "1    0.009251  \n",
       "2    0.002263  \n",
       "3    0.001282  \n",
       "4    0.001007  \n",
       "5    0.000799  \n",
       "6    0.000709  \n",
       "7    0.000690  \n",
       "8    0.000640  \n",
       "9    0.000530  \n",
       "10   0.000484  \n",
       "11   0.000465  \n",
       "12   0.000437  \n",
       "13   0.000412  \n",
       "14   0.000345  \n",
       "15   0.000294  \n",
       "16   0.000287  \n",
       "17   0.000237  \n",
       "18   0.000215  \n",
       "19   0.000255  \n",
       "20   0.000250  \n",
       "21   0.000187  \n",
       "22   0.000199  \n",
       "23   0.000221  \n",
       "24   0.000178  \n",
       "25   0.000122  \n",
       "26   0.000118  \n",
       "27   0.000152  \n",
       "28   0.000183  \n",
       "29   0.000137  \n",
       "30   0.000114  \n",
       "31   0.000163  \n",
       "32   0.000116  \n",
       "33   0.000150  \n",
       "34   0.000123  \n",
       "35   0.000121  \n",
       "36   0.000131  \n",
       "37   0.000087  \n",
       "38   0.000131  \n",
       "39   0.000134  \n",
       "40   0.000109  \n",
       "41   0.000104  \n",
       "42   0.000069  \n",
       "43   0.000101  \n",
       "44   0.000064  \n",
       "45   0.000090  \n",
       "46   0.000092  \n",
       "47   0.000085  \n",
       "48   0.000052  \n",
       "49   0.000098  "
      ],
      "text/html": "<div>\n<style scoped>\n    .dataframe tbody tr th:only-of-type {\n        vertical-align: middle;\n    }\n\n    .dataframe tbody tr th {\n        vertical-align: top;\n    }\n\n    .dataframe thead th {\n        text-align: right;\n    }\n</style>\n<table border=\"1\" class=\"dataframe\">\n  <thead>\n    <tr style=\"text-align: right;\">\n      <th></th>\n      <th>threshold</th>\n      <th>p</th>\n      <th>p'</th>\n      <th>n/p ratio</th>\n      <th>upper limit for train/val accuracy</th>\n      <th>accuracy'</th>\n    </tr>\n  </thead>\n  <tbody>\n    <tr>\n      <th>0</th>\n      <td>0</td>\n      <td>67054</td>\n      <td>0</td>\n      <td>82.267680</td>\n      <td>0.000000</td>\n      <td>0.000000</td>\n    </tr>\n    <tr>\n      <th>1</th>\n      <td>1</td>\n      <td>16021</td>\n      <td>51033</td>\n      <td>344.321640</td>\n      <td>0.009251</td>\n      <td>0.009251</td>\n    </tr>\n    <tr>\n      <th>2</th>\n      <td>2</td>\n      <td>9780</td>\n      <td>6241</td>\n      <td>564.046728</td>\n      <td>0.011514</td>\n      <td>0.002263</td>\n    </tr>\n    <tr>\n      <th>3</th>\n      <td>3</td>\n      <td>7422</td>\n      <td>2358</td>\n      <td>743.246699</td>\n      <td>0.012796</td>\n      <td>0.001282</td>\n    </tr>\n    <tr>\n      <th>4</th>\n      <td>4</td>\n      <td>6033</td>\n      <td>1389</td>\n      <td>914.367147</td>\n      <td>0.013804</td>\n      <td>0.001007</td>\n    </tr>\n    <tr>\n      <th>5</th>\n      <td>5</td>\n      <td>5152</td>\n      <td>881</td>\n      <td>1070.725349</td>\n      <td>0.014602</td>\n      <td>0.000799</td>\n    </tr>\n    <tr>\n      <th>6</th>\n      <td>6</td>\n      <td>4500</td>\n      <td>652</td>\n      <td>1225.861556</td>\n      <td>0.015311</td>\n      <td>0.000709</td>\n    </tr>\n    <tr>\n      <th>7</th>\n      <td>7</td>\n      <td>3956</td>\n      <td>544</td>\n      <td>1394.433013</td>\n      <td>0.016002</td>\n      <td>0.000690</td>\n    </tr>\n    <tr>\n      <th>8</th>\n      <td>8</td>\n      <td>3515</td>\n      <td>441</td>\n      <td>1569.381792</td>\n      <td>0.016641</td>\n      <td>0.000640</td>\n    </tr>\n    <tr>\n      <th>9</th>\n      <td>9</td>\n      <td>3190</td>\n      <td>325</td>\n      <td>1729.271787</td>\n      <td>0.017171</td>\n      <td>0.000530</td>\n    </tr>\n    <tr>\n      <th>10</th>\n      <td>10</td>\n      <td>2923</td>\n      <td>267</td>\n      <td>1887.231269</td>\n      <td>0.017655</td>\n      <td>0.000484</td>\n    </tr>\n    <tr>\n      <th>11</th>\n      <td>11</td>\n      <td>2690</td>\n      <td>233</td>\n      <td>2050.697770</td>\n      <td>0.018120</td>\n      <td>0.000465</td>\n    </tr>\n    <tr>\n      <th>12</th>\n      <td>12</td>\n      <td>2489</td>\n      <td>201</td>\n      <td>2216.302531</td>\n      <td>0.018557</td>\n      <td>0.000437</td>\n    </tr>\n    <tr>\n      <th>13</th>\n      <td>13</td>\n      <td>2314</td>\n      <td>175</td>\n      <td>2383.914002</td>\n      <td>0.018970</td>\n      <td>0.000412</td>\n    </tr>\n    <tr>\n      <th>14</th>\n      <td>14</td>\n      <td>2178</td>\n      <td>136</td>\n      <td>2532.771809</td>\n      <td>0.019315</td>\n      <td>0.000345</td>\n    </tr>\n    <tr>\n      <th>15</th>\n      <td>15</td>\n      <td>2070</td>\n      <td>108</td>\n      <td>2664.916425</td>\n      <td>0.019609</td>\n      <td>0.000294</td>\n    </tr>\n    <tr>\n      <th>16</th>\n      <td>16</td>\n      <td>1971</td>\n      <td>99</td>\n      <td>2798.770675</td>\n      <td>0.019896</td>\n      <td>0.000287</td>\n    </tr>\n    <tr>\n      <th>17</th>\n      <td>17</td>\n      <td>1894</td>\n      <td>77</td>\n      <td>2912.553854</td>\n      <td>0.020133</td>\n      <td>0.000237</td>\n    </tr>\n    <tr>\n      <th>18</th>\n      <td>18</td>\n      <td>1828</td>\n      <td>66</td>\n      <td>3017.711707</td>\n      <td>0.020348</td>\n      <td>0.000215</td>\n    </tr>\n    <tr>\n      <th>19</th>\n      <td>19</td>\n      <td>1754</td>\n      <td>74</td>\n      <td>3145.026796</td>\n      <td>0.020603</td>\n      <td>0.000255</td>\n    </tr>\n    <tr>\n      <th>20</th>\n      <td>20</td>\n      <td>1685</td>\n      <td>69</td>\n      <td>3273.814243</td>\n      <td>0.020853</td>\n      <td>0.000250</td>\n    </tr>\n    <tr>\n      <th>21</th>\n      <td>21</td>\n      <td>1636</td>\n      <td>49</td>\n      <td>3371.868582</td>\n      <td>0.021040</td>\n      <td>0.000187</td>\n    </tr>\n    <tr>\n      <th>22</th>\n      <td>22</td>\n      <td>1586</td>\n      <td>50</td>\n      <td>3478.169609</td>\n      <td>0.021239</td>\n      <td>0.000199</td>\n    </tr>\n    <tr>\n      <th>23</th>\n      <td>23</td>\n      <td>1533</td>\n      <td>53</td>\n      <td>3598.419439</td>\n      <td>0.021460</td>\n      <td>0.000221</td>\n    </tr>\n    <tr>\n      <th>24</th>\n      <td>24</td>\n      <td>1492</td>\n      <td>41</td>\n      <td>3697.303619</td>\n      <td>0.021639</td>\n      <td>0.000178</td>\n    </tr>\n    <tr>\n      <th>25</th>\n      <td>25</td>\n      <td>1465</td>\n      <td>27</td>\n      <td>3765.445051</td>\n      <td>0.021761</td>\n      <td>0.000122</td>\n    </tr>\n    <tr>\n      <th>26</th>\n      <td>26</td>\n      <td>1440</td>\n      <td>25</td>\n      <td>3830.817361</td>\n      <td>0.021879</td>\n      <td>0.000118</td>\n    </tr>\n    <tr>\n      <th>27</th>\n      <td>27</td>\n      <td>1409</td>\n      <td>31</td>\n      <td>3915.100781</td>\n      <td>0.022031</td>\n      <td>0.000152</td>\n    </tr>\n    <tr>\n      <th>28</th>\n      <td>28</td>\n      <td>1373</td>\n      <td>36</td>\n      <td>4017.754552</td>\n      <td>0.022213</td>\n      <td>0.000183</td>\n    </tr>\n    <tr>\n      <th>29</th>\n      <td>29</td>\n      <td>1347</td>\n      <td>26</td>\n      <td>4095.305865</td>\n      <td>0.022350</td>\n      <td>0.000137</td>\n    </tr>\n    <tr>\n      <th>30</th>\n      <td>30</td>\n      <td>1326</td>\n      <td>21</td>\n      <td>4160.163650</td>\n      <td>0.022464</td>\n      <td>0.000114</td>\n    </tr>\n    <tr>\n      <th>31</th>\n      <td>31</td>\n      <td>1297</td>\n      <td>29</td>\n      <td>4253.181958</td>\n      <td>0.022627</td>\n      <td>0.000163</td>\n    </tr>\n    <tr>\n      <th>32</th>\n      <td>32</td>\n      <td>1277</td>\n      <td>20</td>\n      <td>4319.794049</td>\n      <td>0.022743</td>\n      <td>0.000116</td>\n    </tr>\n    <tr>\n      <th>33</th>\n      <td>33</td>\n      <td>1252</td>\n      <td>25</td>\n      <td>4406.051917</td>\n      <td>0.022893</td>\n      <td>0.000150</td>\n    </tr>\n    <tr>\n      <th>34</th>\n      <td>34</td>\n      <td>1232</td>\n      <td>20</td>\n      <td>4477.578734</td>\n      <td>0.023016</td>\n      <td>0.000123</td>\n    </tr>\n    <tr>\n      <th>35</th>\n      <td>35</td>\n      <td>1213</td>\n      <td>19</td>\n      <td>4547.713932</td>\n      <td>0.023137</td>\n      <td>0.000121</td>\n    </tr>\n    <tr>\n      <th>36</th>\n      <td>36</td>\n      <td>1193</td>\n      <td>20</td>\n      <td>4623.953898</td>\n      <td>0.023267</td>\n      <td>0.000131</td>\n    </tr>\n    <tr>\n      <th>37</th>\n      <td>37</td>\n      <td>1180</td>\n      <td>13</td>\n      <td>4674.895763</td>\n      <td>0.023354</td>\n      <td>0.000087</td>\n    </tr>\n    <tr>\n      <th>38</th>\n      <td>38</td>\n      <td>1161</td>\n      <td>19</td>\n      <td>4751.401378</td>\n      <td>0.023485</td>\n      <td>0.000131</td>\n    </tr>\n    <tr>\n      <th>39</th>\n      <td>39</td>\n      <td>1142</td>\n      <td>19</td>\n      <td>4830.452715</td>\n      <td>0.023619</td>\n      <td>0.000134</td>\n    </tr>\n    <tr>\n      <th>40</th>\n      <td>40</td>\n      <td>1127</td>\n      <td>15</td>\n      <td>4894.744454</td>\n      <td>0.023728</td>\n      <td>0.000109</td>\n    </tr>\n    <tr>\n      <th>41</th>\n      <td>41</td>\n      <td>1113</td>\n      <td>14</td>\n      <td>4956.313567</td>\n      <td>0.023832</td>\n      <td>0.000104</td>\n    </tr>\n    <tr>\n      <th>42</th>\n      <td>42</td>\n      <td>1104</td>\n      <td>9</td>\n      <td>4996.718297</td>\n      <td>0.023901</td>\n      <td>0.000069</td>\n    </tr>\n    <tr>\n      <th>43</th>\n      <td>43</td>\n      <td>1091</td>\n      <td>13</td>\n      <td>5056.257562</td>\n      <td>0.024002</td>\n      <td>0.000101</td>\n    </tr>\n    <tr>\n      <th>44</th>\n      <td>44</td>\n      <td>1083</td>\n      <td>8</td>\n      <td>5093.607572</td>\n      <td>0.024066</td>\n      <td>0.000064</td>\n    </tr>\n    <tr>\n      <th>45</th>\n      <td>45</td>\n      <td>1072</td>\n      <td>11</td>\n      <td>5145.874067</td>\n      <td>0.024156</td>\n      <td>0.000090</td>\n    </tr>\n    <tr>\n      <th>46</th>\n      <td>46</td>\n      <td>1061</td>\n      <td>11</td>\n      <td>5199.224317</td>\n      <td>0.024247</td>\n      <td>0.000092</td>\n    </tr>\n    <tr>\n      <th>47</th>\n      <td>47</td>\n      <td>1051</td>\n      <td>10</td>\n      <td>5248.693625</td>\n      <td>0.024333</td>\n      <td>0.000085</td>\n    </tr>\n    <tr>\n      <th>48</th>\n      <td>48</td>\n      <td>1045</td>\n      <td>6</td>\n      <td>5278.829665</td>\n      <td>0.024385</td>\n      <td>0.000052</td>\n    </tr>\n    <tr>\n      <th>49</th>\n      <td>49</td>\n      <td>1034</td>\n      <td>11</td>\n      <td>5334.987427</td>\n      <td>0.024483</td>\n      <td>0.000098</td>\n    </tr>\n  </tbody>\n</table>\n</div>"
     },
     "metadata": {},
     "execution_count": 19
    }
   ],
   "source": [
    "df_rip_threshold"
   ]
  },
  {
   "source": [
    "## Save Analysis "
   ],
   "cell_type": "markdown",
   "metadata": {}
  },
  {
   "cell_type": "code",
   "execution_count": 21,
   "metadata": {},
   "outputs": [],
   "source": [
    "df_gpa_threshold.to_csv(f\"analysis/{model_name}_gpa_analysis.csv\", index=False)\n",
    "df_rip_threshold.to_csv(f\"analysis/{model_name}_rip_analysis.csv\", index=False)"
   ]
  },
  {
   "cell_type": "code",
   "execution_count": null,
   "metadata": {},
   "outputs": [],
   "source": []
  }
 ]
}