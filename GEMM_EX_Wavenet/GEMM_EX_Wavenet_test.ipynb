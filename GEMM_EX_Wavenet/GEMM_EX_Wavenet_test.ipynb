{
 "metadata": {
  "language_info": {
   "codemirror_mode": {
    "name": "ipython",
    "version": 3
   },
   "file_extension": ".py",
   "mimetype": "text/x-python",
   "name": "python",
   "nbconvert_exporter": "python",
   "pygments_lexer": "ipython3",
   "version": "3.7.6-final"
  },
  "orig_nbformat": 2,
  "kernelspec": {
   "name": "python3",
   "display_name": "Python 3"
  }
 },
 "nbformat": 4,
 "nbformat_minor": 2,
 "cells": [
  {
   "cell_type": "code",
   "execution_count": 1,
   "metadata": {},
   "outputs": [],
   "source": [
    "import tensorflow as tf\n",
    "from tensorflow import keras\n",
    "import numpy as np\n",
    "import pandas as pd\n",
    "import os\n",
    "import json\n",
    "import datetime\n",
    "from sklearn.metrics import accuracy_score, precision_score, recall_score, f1_score"
   ]
  },
  {
   "cell_type": "code",
   "execution_count": 2,
   "metadata": {},
   "outputs": [],
   "source": [
    "physical_devices = tf.config.list_physical_devices('GPU')\n",
    "tf.config.experimental.set_memory_growth(physical_devices[0], enable=True)"
   ]
  },
  {
   "cell_type": "code",
   "execution_count": 3,
   "metadata": {},
   "outputs": [],
   "source": [
    "dataset_name = \"GEMM_EX_Wavenet\""
   ]
  },
  {
   "cell_type": "code",
   "execution_count": 4,
   "metadata": {},
   "outputs": [],
   "source": [
    "timestamp = \"20201209-094522\""
   ]
  },
  {
   "cell_type": "code",
   "execution_count": 5,
   "metadata": {},
   "outputs": [],
   "source": [
    "model = keras.models.load_model(\"version/{}\".format(timestamp))"
   ]
  },
  {
   "cell_type": "code",
   "execution_count": 6,
   "metadata": {},
   "outputs": [
    {
     "output_type": "stream",
     "name": "stdout",
     "text": [
      "Model: \"wave_net\"\n_________________________________________________________________\nLayer (type)                 Output Shape              Param #   \n=================================================================\npreprocessing/conv (Conv1D)  multiple                  1536      \n_________________________________________________________________\nresidual_block (ResidualBloc multiple                  7936      \n_________________________________________________________________\nresidual_block_1 (ResidualBl multiple                  7936      \n_________________________________________________________________\nresidual_block_2 (ResidualBl multiple                  7936      \n_________________________________________________________________\nresidual_block_3 (ResidualBl multiple                  7936      \n_________________________________________________________________\nresidual_block_4 (ResidualBl multiple                  7936      \n_________________________________________________________________\nresidual_block_5 (ResidualBl multiple                  7936      \n_________________________________________________________________\nresidual_block_6 (ResidualBl multiple                  7936      \n_________________________________________________________________\nresidual_block_7 (ResidualBl multiple                  7936      \n_________________________________________________________________\nresidual_block_8 (ResidualBl multiple                  7936      \n_________________________________________________________________\nresidual_block_9 (ResidualBl multiple                  7936      \n_________________________________________________________________\npost_processing (PostProcess multiple                  4301312   \n=================================================================\nTotal params: 4,382,208\nTrainable params: 4,382,208\nNon-trainable params: 0\n_________________________________________________________________\n"
     ]
    }
   ],
   "source": [
    "model.summary()"
   ]
  },
  {
   "cell_type": "code",
   "execution_count": 7,
   "metadata": {},
   "outputs": [],
   "source": [
    "param_list = dict()\n",
    "\n",
    "with open(\"version/{}/dilations.json\".format(timestamp), \"r\") as j:\n",
    "    param_list[\"DILATIONS\"] = json.load(j)[\"DILATIONS\"]\n",
    "param_list[\"FILTER_WIDTH\"] = 2                          # == kernel_size\n",
    "param_list[\"INITIAL_FILTER_WIDTH\"] = 32\n",
    "param_list[\"RECEPTIVE_FIELD\"] = (param_list[\"FILTER_WIDTH\"] - 1) * sum(param_list[\"DILATIONS\"]) + param_list[\"INITIAL_FILTER_WIDTH\"]\n",
    "param_list[\"OUT_CHANNELS\"] = 33476    #vocab_size\n",
    "param_list[\"BATCH_SIZE\"] = 8"
   ]
  },
  {
   "cell_type": "code",
   "execution_count": 8,
   "metadata": {},
   "outputs": [],
   "source": [
    "test_set = pd.read_csv(\"data/{}_test_set.csv\".format(dataset_name), dtype=np.float32)"
   ]
  },
  {
   "cell_type": "code",
   "execution_count": 9,
   "metadata": {},
   "outputs": [],
   "source": [
    "x_test = tf.data.Dataset.from_tensor_slices(test_set[:-1]).window(param_list[\"RECEPTIVE_FIELD\"], 1, 1, True)\n",
    "x_test = x_test.flat_map(lambda x: x.batch(param_list[\"RECEPTIVE_FIELD\"])) \n",
    "x_test = x_test.batch(param_list[\"BATCH_SIZE\"])"
   ]
  },
  {
   "cell_type": "code",
   "execution_count": 10,
   "metadata": {},
   "outputs": [],
   "source": [
    "y_test = tf.data.Dataset.from_tensor_slices(test_set[param_list[\"RECEPTIVE_FIELD\"]:]['gpa'].astype(np.int32)).window(1, 1, 1, True)\n",
    "y_test_slices = y_test.flat_map(lambda y: y.batch(1))\n",
    "y_test = y_test_slices.map(lambda y: tf.one_hot(y, param_list[\"OUT_CHANNELS\"], axis=-1))\n",
    "y_test = y_test.batch(param_list[\"BATCH_SIZE\"])"
   ]
  },
  {
   "cell_type": "code",
   "execution_count": 11,
   "metadata": {},
   "outputs": [],
   "source": [
    "test_data = tf.data.Dataset.zip((x_test, y_test))"
   ]
  },
  {
   "cell_type": "code",
   "execution_count": 12,
   "metadata": {},
   "outputs": [
    {
     "output_type": "stream",
     "name": "stdout",
     "text": [
      "1119/1119 [==============================] - 13s 12ms/step - loss: 5.9861 - categorical_accuracy: 0.2133\n"
     ]
    }
   ],
   "source": [
    "loss, acc = model.evaluate(test_data)"
   ]
  },
  {
   "cell_type": "code",
   "execution_count": 13,
   "metadata": {},
   "outputs": [],
   "source": [
    "#y_pred = tf.argmax(model.predict(x_test), axis=-1).numpy()     # Unable to predict whole test_set at a time\n",
    "y_pred = []\n",
    "for x in x_test:\n",
    "    y_pred.extend(tf.argmax(model.predict(x), axis=-1).numpy())\n",
    "y_pred = np.array(y_pred)"
   ]
  },
  {
   "cell_type": "code",
   "execution_count": 14,
   "metadata": {},
   "outputs": [],
   "source": [
    "y_true = np.array([yt for yt in y_test_slices.as_numpy_iterator()])"
   ]
  },
  {
   "cell_type": "code",
   "execution_count": 15,
   "metadata": {},
   "outputs": [
    {
     "output_type": "execute_result",
     "data": {
      "text/plain": [
       "((8945, 1), (8945, 1))"
      ]
     },
     "metadata": {},
     "execution_count": 15
    }
   ],
   "source": [
    "y_pred.shape, y_true.shape"
   ]
  },
  {
   "cell_type": "code",
   "execution_count": 16,
   "metadata": {},
   "outputs": [],
   "source": [
    "p, r, f = [], [], []\n",
    "average_method = [\"micro\", \"macro\", \"weighted\"]\n",
    "\n",
    "for method in average_method:\n",
    "    precision = precision_score(np.ravel(y_true), np.ravel(y_pred), average=method)\n",
    "    recall = recall_score(np.ravel(y_true), np.ravel(y_pred), average=method)\n",
    "    f1 = f1_score(np.ravel(y_true), np.ravel(y_pred), average=method)\n",
    "     \n",
    "    p.append(precision)\n",
    "    r.append(recall)\n",
    "    f.append(f1)"
   ]
  },
  {
   "cell_type": "code",
   "execution_count": 17,
   "metadata": {},
   "outputs": [
    {
     "output_type": "execute_result",
     "data": {
      "text/plain": [
       "              micro     macro  weighted\n",
       "precision  0.213304  0.001084  0.402750\n",
       "recall     0.213304  0.000894  0.213304\n",
       "f1         0.213304  0.000315  0.075158"
      ],
      "text/html": "<div>\n<style scoped>\n    .dataframe tbody tr th:only-of-type {\n        vertical-align: middle;\n    }\n\n    .dataframe tbody tr th {\n        vertical-align: top;\n    }\n\n    .dataframe thead th {\n        text-align: right;\n    }\n</style>\n<table border=\"1\" class=\"dataframe\">\n  <thead>\n    <tr style=\"text-align: right;\">\n      <th></th>\n      <th>micro</th>\n      <th>macro</th>\n      <th>weighted</th>\n    </tr>\n  </thead>\n  <tbody>\n    <tr>\n      <th>precision</th>\n      <td>0.213304</td>\n      <td>0.001084</td>\n      <td>0.402750</td>\n    </tr>\n    <tr>\n      <th>recall</th>\n      <td>0.213304</td>\n      <td>0.000894</td>\n      <td>0.213304</td>\n    </tr>\n    <tr>\n      <th>f1</th>\n      <td>0.213304</td>\n      <td>0.000315</td>\n      <td>0.075158</td>\n    </tr>\n  </tbody>\n</table>\n</div>"
     },
     "metadata": {},
     "execution_count": 17
    }
   ],
   "source": [
    "report = pd.DataFrame(data=[p, r, f], columns=average_method, index=[\"precision\", \"recall\", \"f1\"])\n",
    "report"
   ]
  },
  {
   "cell_type": "code",
   "execution_count": 18,
   "metadata": {},
   "outputs": [
    {
     "output_type": "execute_result",
     "data": {
      "text/plain": [
       "       loss  accuracy\n",
       "0  5.986146  0.213304"
      ],
      "text/html": "<div>\n<style scoped>\n    .dataframe tbody tr th:only-of-type {\n        vertical-align: middle;\n    }\n\n    .dataframe tbody tr th {\n        vertical-align: top;\n    }\n\n    .dataframe thead th {\n        text-align: right;\n    }\n</style>\n<table border=\"1\" class=\"dataframe\">\n  <thead>\n    <tr style=\"text-align: right;\">\n      <th></th>\n      <th>loss</th>\n      <th>accuracy</th>\n    </tr>\n  </thead>\n  <tbody>\n    <tr>\n      <th>0</th>\n      <td>5.986146</td>\n      <td>0.213304</td>\n    </tr>\n  </tbody>\n</table>\n</div>"
     },
     "metadata": {},
     "execution_count": 18
    }
   ],
   "source": [
    "accuracy = pd.DataFrame(data=[[loss, acc]], columns=[\"loss\", \"accuracy\"])\n",
    "accuracy"
   ]
  },
  {
   "cell_type": "code",
   "execution_count": 19,
   "metadata": {},
   "outputs": [],
   "source": [
    "report.to_csv(\"version/{}/report.csv\".format(timestamp))\n",
    "accuracy.to_csv(\"version/{}/accuracy.csv\".format(timestamp), index=False)"
   ]
  },
  {
   "cell_type": "code",
   "execution_count": null,
   "metadata": {},
   "outputs": [],
   "source": []
  }
 ]
}