{
 "metadata": {
  "language_info": {
   "codemirror_mode": {
    "name": "ipython",
    "version": 3
   },
   "file_extension": ".py",
   "mimetype": "text/x-python",
   "name": "python",
   "nbconvert_exporter": "python",
   "pygments_lexer": "ipython3",
   "version": "3.7.6"
  },
  "orig_nbformat": 2,
  "kernelspec": {
   "name": "python376jvsc74a57bd0b3ba2566441a7c06988d0923437866b63cedc61552a5af99d1f4fb67d367b25f",
   "display_name": "Python 3.7.6 64-bit (conda)"
  }
 },
 "nbformat": 4,
 "nbformat_minor": 2,
 "cells": [
  {
   "cell_type": "code",
   "execution_count": 1,
   "metadata": {},
   "outputs": [],
   "source": [
    "import numpy as np\n",
    "import pandas as pd\n",
    "import json\n",
    "import dill"
   ]
  },
  {
   "cell_type": "code",
   "execution_count": 2,
   "metadata": {},
   "outputs": [],
   "source": [
    "model_name = \"GEMM_STREAM_VMID=4034\""
   ]
  },
  {
   "cell_type": "code",
   "execution_count": 3,
   "metadata": {},
   "outputs": [],
   "source": [
    "train_set_original = pd.read_csv(\"data/{}_train_set_original.csv\".format(model_name), dtype=np.object)\n",
    "val_set_original = pd.read_csv(\"data/{}_val_set_original.csv\".format(model_name), dtype=np.object)\n",
    "test_set_original = pd.read_csv(\"data/{}_test_set_original.csv\".format(model_name), dtype=np.object)\n",
    "\n",
    "train_set = pd.read_csv(\"data/{}_train_set.csv\".format(model_name))\n",
    "val_set = pd.read_csv(\"data/{}_val_set.csv\".format(model_name))\n",
    "test_set = pd.read_csv(\"data/{}_test_set.csv\".format(model_name))"
   ]
  },
  {
   "cell_type": "code",
   "execution_count": 4,
   "metadata": {},
   "outputs": [],
   "source": [
    "with open(\"static/pipeline_gpa.pkl\", \"rb\") as f:\n",
    "    pipeline_gpa = dill.load(f)\n",
    "\n",
    "with open(\"static/pipeline_rip.pkl\", \"rb\") as f:\n",
    "    pipeline_rip = dill.load(f)"
   ]
  },
  {
   "source": [
    "## Load Vocabulary and Instantiate as dictionary : GPA"
   ],
   "cell_type": "markdown",
   "metadata": {}
  },
  {
   "cell_type": "code",
   "execution_count": 5,
   "metadata": {},
   "outputs": [
    {
     "output_type": "execute_result",
     "data": {
      "text/plain": [
       "array([          0,          -1,       -4096,  -643931498,  -643931494,\n",
       "         643931494,   643931498,  -643931490,   643931490,         333,\n",
       "            -12288,       -8192,        -333,         -64,         -49,\n",
       "         638771200,  -638771200,      -24576,       -5029,      -16384,\n",
       "               -11,        -420,          -8,        -797,  1413845000,\n",
       "       -1413845000,      -20480,      878248,     -878248,        4096,\n",
       "        1157696672, -1157696672,      -28672,    90953880,   -90953880,\n",
       "             -1140,  -609374208,   609374208,      -36864,       -2368,\n",
       "             12288,        6370,      -49152,        2489,      -32768,\n",
       "             24576,         113,  -667418432,   667418432,        8192,\n",
       "        -188413192,   188413192,       36864,      -40960,    57545200,\n",
       "              7518,   -57545200,      -45056,       20480,      -53248,\n",
       "       -1773014335,  1773014335,        -256, -1060651320,  1060651320,\n",
       "         985245976,  -985245976,       45056,       28672,       49152,\n",
       "         583507263,  -583507263,      -61440,      -65536,   629529394,\n",
       "            -57344,      -69632,       61440,       53248,       32768,\n",
       "             77824,         256,  -162189336,   162189336,       16384,\n",
       "             40960, -1671331135,  1671331135, -1553276952,      -98304,\n",
       "        1553276952,       73728,       69632,      102400,   509939007,\n",
       "        -509939007,       98304,        5142,      159744,      192512,\n",
       "        -643946175,       57344,   643946175,       94208, -1724390719,\n",
       "        1724390719,      196608,      126976,      110592,      118784,\n",
       "            -77824,      163840,      -73728,       65536, -1668869439,\n",
       "        1668869439,   629527018, -1669942591,  1669942591,      -94208,\n",
       "            -86016,         -16,       86016,     -102400,      143360,\n",
       "         802928400,  -802928400,  -629522209,       -3872,         -48,\n",
       "         223417348,  -223417348,     -110592,     -524288,  -629527238,\n",
       "            -81920,      -90112,      135168,      131072,     -196608,\n",
       "            122880,      208896,      151552,       90112,      262144,\n",
       "            167936,      241664,     -167936,  -583527743,       81920,\n",
       "         583527743,      106496,      114688,     -139264,     -135168,\n",
       "            200704,     -114688,      229376,      184320,     -106496,\n",
       "           -331776,      176128,     -229376,      393216,      155648,\n",
       "           -118784,      389120,  1730661695,     -163840,      233472,\n",
       "       -1730661695,      458752,     -147456,     -458752,     -131072,\n",
       "           -294912,      139264,      307200,     -262144,      258048,\n",
       "           -270336,      266240,      651264,      221184,      323584,\n",
       "             -3288,      520192,      626688,      249856,      360448,\n",
       "           -393216,     -225280,      524288,       -4560,     -180224,\n",
       "           -159744,         -96,     -122880,     -327680,       -3840,\n",
       "            569344,       -7552,      290816,      147456,      421888,\n",
       "           -622592,      294912,     -425984,  -932389864,      454656,\n",
       "          -1048576,   932389864,     3078682,     -155648,  1727089983,\n",
       "           -176128,        -512,      204800,     -200704,       -4064,\n",
       "           -364544,     -143360, -1727089983,   158507713,      225280,\n",
       "        -158507713,      430080,     -557056,      217088,  -248111809,\n",
       "            180224,      315392,   248111809,      856064, -1725549887,\n",
       "            425984,      245760,     -688128,       -4800,      339968,\n",
       "               -62,      532480,  1725549887], dtype=int64)"
      ]
     },
     "metadata": {},
     "execution_count": 5
    }
   ],
   "source": [
    "vocabulary_gpa = np.genfromtxt(\"static/vocabulary_gpa.csv\", delimiter=\"\\n\", dtype=np.int64)\n",
    "vocabulary_gpa"
   ]
  },
  {
   "cell_type": "code",
   "execution_count": 6,
   "metadata": {},
   "outputs": [],
   "source": [
    "vocabulary_gpa = {v:i for i, v in enumerate(vocabulary_gpa)}"
   ]
  },
  {
   "cell_type": "code",
   "execution_count": 7,
   "metadata": {},
   "outputs": [
    {
     "output_type": "execute_result",
     "data": {
      "text/plain": [
       "{0: 0,\n",
       " -1: 1,\n",
       " -4096: 2,\n",
       " -643931498: 3,\n",
       " -643931494: 4,\n",
       " 643931494: 5,\n",
       " 643931498: 6,\n",
       " -643931490: 7,\n",
       " 643931490: 8,\n",
       " 333: 9}"
      ]
     },
     "metadata": {},
     "execution_count": 7
    }
   ],
   "source": [
    "dict(list(vocabulary_gpa.items())[:10])"
   ]
  },
  {
   "source": [
    "## Demo : GPA"
   ],
   "cell_type": "markdown",
   "metadata": {}
  },
  {
   "cell_type": "code",
   "execution_count": 8,
   "metadata": {},
   "outputs": [
    {
     "output_type": "execute_result",
     "data": {
      "text/plain": [
       "array([ 988827648,  705122304,  705122304, 1227321344, 1227321344,\n",
       "       1884864512, 1884864512,  576954368,  576954368,  714526720,\n",
       "        714526720,  110542848,  110542848, 1124007936, 1124007936,\n",
       "        337944576,  337944576,  718028800,  718028800, 1236467712,\n",
       "       1236467712, 1564139520, 1656479744, 1181954048, 1181954048,\n",
       "       1826820096, 1826820096, 1560858624, 1560858624, 1440399360],\n",
       "      dtype=int64)"
      ]
     },
     "metadata": {},
     "execution_count": 8
    }
   ],
   "source": [
    "train_original_gpa_sample = train_set_original['gpa'].values[:30].astype(np.float64).astype(np.int64)\n",
    "train_original_gpa_sample"
   ]
  },
  {
   "cell_type": "code",
   "execution_count": 9,
   "metadata": {},
   "outputs": [
    {
     "output_type": "execute_result",
     "data": {
      "text/plain": [
       "array([1, 0, 1, 0, 1, 0, 1, 0, 1, 0, 1, 0, 1, 0, 1, 0, 1, 0, 1, 0, 1, 1,\n",
       "       1, 0, 1, 0, 1, 0, 1])"
      ]
     },
     "metadata": {},
     "execution_count": 9
    }
   ],
   "source": [
    "processed_train_gpa_sample = pipeline_gpa.transform(train_original_gpa_sample)\n",
    "processed_train_gpa_sample"
   ]
  },
  {
   "cell_type": "code",
   "execution_count": 10,
   "metadata": {},
   "outputs": [
    {
     "output_type": "execute_result",
     "data": {
      "text/plain": [
       "array([  283705344,           0,  -522199040,           0,  -657543168,\n",
       "                 0,  1307910144,           0,  -137572352,           0,\n",
       "         603983872,           0, -1013465088,           0,   786063360,\n",
       "                 0,  -380084224,           0,  -518438912,           0,\n",
       "        -327671808,   -92340224,   474525696,           0,  -644866048,\n",
       "                 0,   265961472,           0,   120459264], dtype=int64)"
      ]
     },
     "metadata": {},
     "execution_count": 10
    }
   ],
   "source": [
    "# Delta\n",
    "train_gpa_sample = train_original_gpa_sample[:-1] - train_original_gpa_sample[1:]\n",
    "train_gpa_sample"
   ]
  },
  {
   "cell_type": "code",
   "execution_count": 11,
   "metadata": {},
   "outputs": [
    {
     "output_type": "execute_result",
     "data": {
      "text/plain": [
       "array([-1,  0, -1,  0, -1,  0, -1,  0, -1,  0, -1,  0, -1,  0, -1,  0, -1,\n",
       "        0, -1,  0, -1, -1, -1,  0, -1,  0, -1,  0, -1], dtype=int64)"
      ]
     },
     "metadata": {},
     "execution_count": 11
    }
   ],
   "source": [
    "# Note that Irreversible predictions are returned as -1.\n",
    "train_gpa_sample_inverse_transformed = pipeline_gpa.inverse_transform(processed_train_gpa_sample)\n",
    "train_gpa_sample_inverse_transformed"
   ]
  },
  {
   "cell_type": "code",
   "execution_count": 12,
   "metadata": {},
   "outputs": [
    {
     "output_type": "execute_result",
     "data": {
      "text/plain": [
       "(0, 0, 0)"
      ]
     },
     "metadata": {},
     "execution_count": 12
    }
   ],
   "source": [
    "# Processed / Original Delta / Inverse_transformed (= restored from prediction)\n",
    "processed_train_gpa_sample[3], train_gpa_sample[3], train_gpa_sample_inverse_transformed[3]"
   ]
  },
  {
   "cell_type": "code",
   "execution_count": 13,
   "metadata": {},
   "outputs": [
    {
     "output_type": "execute_result",
     "data": {
      "text/plain": [
       "119"
      ]
     },
     "metadata": {},
     "execution_count": 13
    }
   ],
   "source": [
    "vocabulary_gpa[-94208]"
   ]
  },
  {
   "cell_type": "code",
   "execution_count": 14,
   "metadata": {},
   "outputs": [
    {
     "output_type": "execute_result",
     "data": {
      "text/plain": [
       "(1, -92340224, -1)"
      ]
     },
     "metadata": {},
     "execution_count": 14
    }
   ],
   "source": [
    "# Processed / Original Delta / Inverse_transformed (= restored from prediction)\n",
    "processed_train_gpa_sample[21], train_gpa_sample[21], train_gpa_sample_inverse_transformed[21]"
   ]
  },
  {
   "cell_type": "code",
   "execution_count": 15,
   "metadata": {},
   "outputs": [
    {
     "output_type": "execute_result",
     "data": {
      "text/plain": [
       "1"
      ]
     },
     "metadata": {},
     "execution_count": 15
    }
   ],
   "source": [
    "vocabulary_gpa[-1]"
   ]
  },
  {
   "source": [
    "## Interpretation\n",
    "This indicates that 4712300544 is pruned and substituted to -1.  \n",
    "Also, -1 is integer-indexed by 1 and this indicates that -1 is secondly frequent vocabulary. (begin with 0)"
   ],
   "cell_type": "markdown",
   "metadata": {}
  },
  {
   "source": [
    "## Load Vocabulary and Instantiate as dictionary : RIP"
   ],
   "cell_type": "markdown",
   "metadata": {}
  },
  {
   "cell_type": "code",
   "execution_count": 16,
   "metadata": {},
   "outputs": [
    {
     "output_type": "execute_result",
     "data": {
      "text/plain": [
       "array([                   0, 18446744073709551615,       94268222548486,\n",
       "       ...,            186824560, 18446744073709479776,\n",
       "       18446604282595858170], dtype=uint64)"
      ]
     },
     "metadata": {},
     "execution_count": 16
    }
   ],
   "source": [
    "vocabulary_rip = np.genfromtxt(\"static/vocabulary_rip.csv\", delimiter=\"\\n\", dtype=np.uint64)\n",
    "vocabulary_rip"
   ]
  },
  {
   "cell_type": "code",
   "execution_count": 17,
   "metadata": {},
   "outputs": [],
   "source": [
    "vocabulary_rip = {v:i for i, v in enumerate(vocabulary_rip)}"
   ]
  },
  {
   "cell_type": "code",
   "execution_count": 18,
   "metadata": {},
   "outputs": [
    {
     "output_type": "execute_result",
     "data": {
      "text/plain": [
       "{0: 0,\n",
       " 18446744073709551615: 1,\n",
       " 94268222548486: 2,\n",
       " 18446649805487003130: 3,\n",
       " 333: 4,\n",
       " 18446744073709551579: 5,\n",
       " 37: 6,\n",
       " 18446744073709551587: 7,\n",
       " 18446649485997979380: 8,\n",
       " 94587711572236: 9}"
      ]
     },
     "metadata": {},
     "execution_count": 18
    }
   ],
   "source": [
    "dict(list(vocabulary_rip.items())[:10])"
   ]
  },
  {
   "source": [
    "## Demo : RIP"
   ],
   "cell_type": "markdown",
   "metadata": {}
  },
  {
   "cell_type": "code",
   "execution_count": 19,
   "metadata": {},
   "outputs": [
    {
     "output_type": "execute_result",
     "data": {
      "text/plain": [
       "array([18446744072452044800, 18446744072452044800, 18446744072452044800,\n",
       "       18446744072452044800, 18446744072452044800, 18446744072452044800,\n",
       "       18446744072452044800, 18446744072452044800, 18446744072452044800,\n",
       "       18446744072452044800, 18446744072452044800, 18446744072452044800,\n",
       "       18446744072452044800, 18446744072452044800, 18446744072452044800,\n",
       "       18446744072452044800, 18446744072452044800, 18446744072452044800,\n",
       "       18446744072452044800, 18446744072452044800, 18446744072452044800,\n",
       "       18446744072452044800, 18446744072452044800, 18446744072452044800,\n",
       "       18446744072452044800, 18446744072452044800, 18446744072452044800,\n",
       "       18446744072452044800, 18446744072452044800, 18446744072452044800],\n",
       "      dtype=uint64)"
      ]
     },
     "metadata": {},
     "execution_count": 19
    }
   ],
   "source": [
    "train_original_rip_sample = train_set_original['rip'].values[:30].astype(np.float64).astype(np.uint64)\n",
    "train_original_rip_sample"
   ]
  },
  {
   "cell_type": "code",
   "execution_count": 20,
   "metadata": {},
   "outputs": [
    {
     "output_type": "execute_result",
     "data": {
      "text/plain": [
       "array([0, 0, 0, 0, 0, 0, 0, 0, 0, 0, 0, 0, 0, 0, 0, 0, 0, 0, 0, 0, 0, 0,\n",
       "       0, 0, 0, 0, 0, 0, 0])"
      ]
     },
     "metadata": {},
     "execution_count": 20
    }
   ],
   "source": [
    "processed_train_rip_sample = pipeline_rip.transform(train_original_rip_sample)\n",
    "processed_train_rip_sample"
   ]
  },
  {
   "cell_type": "code",
   "execution_count": 21,
   "metadata": {},
   "outputs": [
    {
     "output_type": "execute_result",
     "data": {
      "text/plain": [
       "array([0, 0, 0, 0, 0, 0, 0, 0, 0, 0, 0, 0, 0, 0, 0, 0, 0, 0, 0, 0, 0, 0,\n",
       "       0, 0, 0, 0, 0, 0, 0], dtype=uint64)"
      ]
     },
     "metadata": {},
     "execution_count": 21
    }
   ],
   "source": [
    "# Delta\n",
    "train_rip_sample = train_original_rip_sample[:-1] - train_original_rip_sample[1:]\n",
    "train_rip_sample"
   ]
  },
  {
   "cell_type": "code",
   "execution_count": 22,
   "metadata": {},
   "outputs": [
    {
     "output_type": "execute_result",
     "data": {
      "text/plain": [
       "array([0, 0, 0, 0, 0, 0, 0, 0, 0, 0, 0, 0, 0, 0, 0, 0, 0, 0, 0, 0, 0, 0,\n",
       "       0, 0, 0, 0, 0, 0, 0], dtype=uint64)"
      ]
     },
     "metadata": {},
     "execution_count": 22
    }
   ],
   "source": [
    "# Note that Irreversible predictions are returned as -1.\n",
    "train_rip_sample_inverse_transformed = pipeline_rip.inverse_transform(processed_train_rip_sample)\n",
    "train_rip_sample_inverse_transformed = np.array([t.decode() for t in train_rip_sample_inverse_transformed]).astype(np.uint64)\n",
    "train_rip_sample_inverse_transformed"
   ]
  },
  {
   "cell_type": "code",
   "execution_count": 23,
   "metadata": {},
   "outputs": [
    {
     "output_type": "execute_result",
     "data": {
      "text/plain": [
       "(0, 0, 0)"
      ]
     },
     "metadata": {},
     "execution_count": 23
    }
   ],
   "source": [
    "# Processed / Original Delta / Inverse_transformed (= restored from prediction)\n",
    "processed_train_rip_sample[3], train_rip_sample[3], train_rip_sample_inverse_transformed[3]"
   ]
  },
  {
   "cell_type": "code",
   "execution_count": 24,
   "metadata": {},
   "outputs": [
    {
     "output_type": "execute_result",
     "data": {
      "text/plain": [
       "0"
      ]
     },
     "metadata": {},
     "execution_count": 24
    }
   ],
   "source": [
    "vocabulary_rip[0]"
   ]
  },
  {
   "cell_type": "code",
   "execution_count": 25,
   "metadata": {},
   "outputs": [
    {
     "output_type": "execute_result",
     "data": {
      "text/plain": [
       "(0, 0, 0)"
      ]
     },
     "metadata": {},
     "execution_count": 25
    }
   ],
   "source": [
    "# Processed / Original Delta / Inverse_transformed (= restored from prediction)\n",
    "processed_train_rip_sample[21], train_rip_sample[21], train_rip_sample_inverse_transformed[21]"
   ]
  },
  {
   "cell_type": "code",
   "execution_count": 26,
   "metadata": {},
   "outputs": [
    {
     "output_type": "execute_result",
     "data": {
      "text/plain": [
       "1254014"
      ]
     },
     "metadata": {},
     "execution_count": 26
    }
   ],
   "source": [
    "train_set['gpa'].value_counts().sum()"
   ]
  },
  {
   "cell_type": "code",
   "execution_count": 27,
   "metadata": {},
   "outputs": [
    {
     "output_type": "execute_result",
     "data": {
      "text/plain": [
       "243"
      ]
     },
     "metadata": {},
     "execution_count": 27
    }
   ],
   "source": [
    "train_set['gpa'].value_counts().value_counts().sum()"
   ]
  },
  {
   "cell_type": "code",
   "execution_count": null,
   "metadata": {},
   "outputs": [],
   "source": []
  }
 ]
}