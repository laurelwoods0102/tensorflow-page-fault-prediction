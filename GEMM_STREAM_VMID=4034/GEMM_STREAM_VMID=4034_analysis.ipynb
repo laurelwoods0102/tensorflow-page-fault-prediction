{
 "metadata": {
  "language_info": {
   "codemirror_mode": {
    "name": "ipython",
    "version": 3
   },
   "file_extension": ".py",
   "mimetype": "text/x-python",
   "name": "python",
   "nbconvert_exporter": "python",
   "pygments_lexer": "ipython3",
   "version": "3.7.6"
  },
  "orig_nbformat": 2,
  "kernelspec": {
   "name": "python376jvsc74a57bd0b3ba2566441a7c06988d0923437866b63cedc61552a5af99d1f4fb67d367b25f",
   "display_name": "Python 3.7.6 64-bit ('base': conda)"
  }
 },
 "nbformat": 4,
 "nbformat_minor": 2,
 "cells": [
  {
   "cell_type": "code",
   "execution_count": 1,
   "metadata": {},
   "outputs": [],
   "source": [
    "import numpy as np\n",
    "import pandas as pd\n",
    "import json\n",
    "import dill         # 0.3.2\n",
    "from sklearn.base import BaseEstimator, TransformerMixin\n",
    "from sklearn.pipeline import Pipeline\n",
    "from sklearn.model_selection import train_test_split"
   ]
  },
  {
   "cell_type": "markdown",
   "metadata": {},
   "source": [
    "## Set Global/Environment Variables"
   ]
  },
  {
   "cell_type": "code",
   "execution_count": 2,
   "metadata": {},
   "outputs": [],
   "source": [
    "model_name = \"GEMM_STREAM_VMID=4034\""
   ]
  },
  {
   "cell_type": "markdown",
   "metadata": {},
   "source": [
    "## Load Dataset/Static Param List"
   ]
  },
  {
   "cell_type": "code",
   "execution_count": 3,
   "metadata": {},
   "outputs": [
    {
     "output_type": "execute_result",
     "data": {
      "text/plain": [
       "                   extra             time address_type         gpa  \\\n",
       "0       [861367.505406]   05:46:34:647695           PF   988827648   \n",
       "1       [861367.505455]   05:46:34:647744           PF   705122304   \n",
       "2       [861367.505459]   05:46:34:647748           PF   705122304   \n",
       "3       [861367.505464]   05:46:34:647754           PF  1227321344   \n",
       "4       [861367.505468]   05:46:34:647757           PF  1227321344   \n",
       "...                  ...              ...          ...         ...   \n",
       "407190  [957446.648224]   08:27:53:789007           PF   253842912   \n",
       "407191  [957446.648252]   08:27:53:789035          GPA   878240226   \n",
       "407192  [957446.650168]   08:27:53:790949          GPA   878245255   \n",
       "407193  [957446.650178]   08:27:53:790962          GPA   878245319   \n",
       "407194  [957446.650183]   08:27:53:790967          GPA   878245368   \n",
       "\n",
       "                         rip  vmid  \n",
       "0       18446744072452043863  4034  \n",
       "1       18446744072452043863  4034  \n",
       "2       18446744072452043863  4034  \n",
       "3       18446744072452043863  4034  \n",
       "4       18446744072452043863  4034  \n",
       "...                      ...   ...  \n",
       "407190  18446744072451347936  4034  \n",
       "407191  18446744072637686242  4034  \n",
       "407192  18446744072637683079  4034  \n",
       "407193  18446744072637683143  4034  \n",
       "407194  18446744072637683192  4034  \n",
       "\n",
       "[1844140 rows x 6 columns]"
      ],
      "text/html": "<div>\n<style scoped>\n    .dataframe tbody tr th:only-of-type {\n        vertical-align: middle;\n    }\n\n    .dataframe tbody tr th {\n        vertical-align: top;\n    }\n\n    .dataframe thead th {\n        text-align: right;\n    }\n</style>\n<table border=\"1\" class=\"dataframe\">\n  <thead>\n    <tr style=\"text-align: right;\">\n      <th></th>\n      <th>extra</th>\n      <th>time</th>\n      <th>address_type</th>\n      <th>gpa</th>\n      <th>rip</th>\n      <th>vmid</th>\n    </tr>\n  </thead>\n  <tbody>\n    <tr>\n      <th>0</th>\n      <td>[861367.505406]</td>\n      <td>05:46:34:647695</td>\n      <td>PF</td>\n      <td>988827648</td>\n      <td>18446744072452043863</td>\n      <td>4034</td>\n    </tr>\n    <tr>\n      <th>1</th>\n      <td>[861367.505455]</td>\n      <td>05:46:34:647744</td>\n      <td>PF</td>\n      <td>705122304</td>\n      <td>18446744072452043863</td>\n      <td>4034</td>\n    </tr>\n    <tr>\n      <th>2</th>\n      <td>[861367.505459]</td>\n      <td>05:46:34:647748</td>\n      <td>PF</td>\n      <td>705122304</td>\n      <td>18446744072452043863</td>\n      <td>4034</td>\n    </tr>\n    <tr>\n      <th>3</th>\n      <td>[861367.505464]</td>\n      <td>05:46:34:647754</td>\n      <td>PF</td>\n      <td>1227321344</td>\n      <td>18446744072452043863</td>\n      <td>4034</td>\n    </tr>\n    <tr>\n      <th>4</th>\n      <td>[861367.505468]</td>\n      <td>05:46:34:647757</td>\n      <td>PF</td>\n      <td>1227321344</td>\n      <td>18446744072452043863</td>\n      <td>4034</td>\n    </tr>\n    <tr>\n      <th>...</th>\n      <td>...</td>\n      <td>...</td>\n      <td>...</td>\n      <td>...</td>\n      <td>...</td>\n      <td>...</td>\n    </tr>\n    <tr>\n      <th>407190</th>\n      <td>[957446.648224]</td>\n      <td>08:27:53:789007</td>\n      <td>PF</td>\n      <td>253842912</td>\n      <td>18446744072451347936</td>\n      <td>4034</td>\n    </tr>\n    <tr>\n      <th>407191</th>\n      <td>[957446.648252]</td>\n      <td>08:27:53:789035</td>\n      <td>GPA</td>\n      <td>878240226</td>\n      <td>18446744072637686242</td>\n      <td>4034</td>\n    </tr>\n    <tr>\n      <th>407192</th>\n      <td>[957446.650168]</td>\n      <td>08:27:53:790949</td>\n      <td>GPA</td>\n      <td>878245255</td>\n      <td>18446744072637683079</td>\n      <td>4034</td>\n    </tr>\n    <tr>\n      <th>407193</th>\n      <td>[957446.650178]</td>\n      <td>08:27:53:790962</td>\n      <td>GPA</td>\n      <td>878245319</td>\n      <td>18446744072637683143</td>\n      <td>4034</td>\n    </tr>\n    <tr>\n      <th>407194</th>\n      <td>[957446.650183]</td>\n      <td>08:27:53:790967</td>\n      <td>GPA</td>\n      <td>878245368</td>\n      <td>18446744072637683192</td>\n      <td>4034</td>\n    </tr>\n  </tbody>\n</table>\n<p>1844140 rows × 6 columns</p>\n</div>"
     },
     "metadata": {},
     "execution_count": 3
    }
   ],
   "source": [
    "original_dataset = pd.concat([pd.read_csv(\"../로그 데이터/GEMM_STREAM/GEMM_STREAM/gemm_stream_generic_generic2_{}.csv\".format(i), dtype=np.object) for i in range(1, 10)], axis=0)\n",
    "original_dataset = original_dataset[original_dataset[\"vmid\"] == '4034']\n",
    "original_dataset"
   ]
  },
  {
   "cell_type": "code",
   "execution_count": 4,
   "metadata": {},
   "outputs": [
    {
     "output_type": "execute_result",
     "data": {
      "text/plain": [
       "               gpa                   rip\n",
       "0        988827648  18446744072452043863\n",
       "1        705122304  18446744072452043863\n",
       "2        705122304  18446744072452043863\n",
       "3       1227321344  18446744072452043863\n",
       "4       1227321344  18446744072452043863\n",
       "...            ...                   ...\n",
       "407190   253842912  18446744072451347936\n",
       "407191   878240226  18446744072637686242\n",
       "407192   878245255  18446744072637683079\n",
       "407193   878245319  18446744072637683143\n",
       "407194   878245368  18446744072637683192\n",
       "\n",
       "[1844140 rows x 2 columns]"
      ],
      "text/html": "<div>\n<style scoped>\n    .dataframe tbody tr th:only-of-type {\n        vertical-align: middle;\n    }\n\n    .dataframe tbody tr th {\n        vertical-align: top;\n    }\n\n    .dataframe thead th {\n        text-align: right;\n    }\n</style>\n<table border=\"1\" class=\"dataframe\">\n  <thead>\n    <tr style=\"text-align: right;\">\n      <th></th>\n      <th>gpa</th>\n      <th>rip</th>\n    </tr>\n  </thead>\n  <tbody>\n    <tr>\n      <th>0</th>\n      <td>988827648</td>\n      <td>18446744072452043863</td>\n    </tr>\n    <tr>\n      <th>1</th>\n      <td>705122304</td>\n      <td>18446744072452043863</td>\n    </tr>\n    <tr>\n      <th>2</th>\n      <td>705122304</td>\n      <td>18446744072452043863</td>\n    </tr>\n    <tr>\n      <th>3</th>\n      <td>1227321344</td>\n      <td>18446744072452043863</td>\n    </tr>\n    <tr>\n      <th>4</th>\n      <td>1227321344</td>\n      <td>18446744072452043863</td>\n    </tr>\n    <tr>\n      <th>...</th>\n      <td>...</td>\n      <td>...</td>\n    </tr>\n    <tr>\n      <th>407190</th>\n      <td>253842912</td>\n      <td>18446744072451347936</td>\n    </tr>\n    <tr>\n      <th>407191</th>\n      <td>878240226</td>\n      <td>18446744072637686242</td>\n    </tr>\n    <tr>\n      <th>407192</th>\n      <td>878245255</td>\n      <td>18446744072637683079</td>\n    </tr>\n    <tr>\n      <th>407193</th>\n      <td>878245319</td>\n      <td>18446744072637683143</td>\n    </tr>\n    <tr>\n      <th>407194</th>\n      <td>878245368</td>\n      <td>18446744072637683192</td>\n    </tr>\n  </tbody>\n</table>\n<p>1844140 rows × 2 columns</p>\n</div>"
     },
     "metadata": {},
     "execution_count": 4
    }
   ],
   "source": [
    "original_dataset = original_dataset[[\"gpa\", \"rip\"]].dropna()       # rip for PCs\n",
    "original_dataset"
   ]
  },
  {
   "cell_type": "markdown",
   "metadata": {},
   "source": [
    "## Dataset Processing Functions"
   ]
  },
  {
   "cell_type": "code",
   "execution_count": 5,
   "metadata": {},
   "outputs": [],
   "source": [
    "class CalculateDelta(TransformerMixin):\n",
    "    def __init__(self):\n",
    "        pass\n",
    "\n",
    "    def fit(self, X, y=None):\n",
    "        return self\n",
    "        \n",
    "    def transform(self, X, y=None):\n",
    "        X_transformed = X[:-1] - X[1:]\n",
    "        # In case of unsigned types, change its type to string type\n",
    "        if X_transformed.dtype in [np.uint8, np.uint16, np.uint32, np.uint64]:\n",
    "            X_transformed = X_transformed.astype(np.string_)\n",
    "        return X_transformed\n",
    "\n",
    "    def inverse_transform(self, X, y=None):     # Just for test_pipeline.inverse_transform()\n",
    "        return X"
   ]
  },
  {
   "cell_type": "markdown",
   "metadata": {},
   "source": [
    "## Process Train/Validation Dataset"
   ]
  },
  {
   "cell_type": "code",
   "execution_count": 6,
   "metadata": {},
   "outputs": [],
   "source": [
    "# Train / Val / Test Ratio : 70% / 15% / 15%\n",
    "train_val_set, test_set = train_test_split(original_dataset, test_size=0.15, shuffle=False)\n",
    "#train_set, val_set = train_test_split(train_val_set, test_size=0.2, shuffle=False)"
   ]
  },
  {
   "cell_type": "code",
   "execution_count": 7,
   "metadata": {},
   "outputs": [],
   "source": [
    "train_val_gpa = train_val_set[\"gpa\"].values.astype(np.int64)\n",
    "train_val_rip = train_val_set[\"rip\"].values.astype(np.uint64)      # As uint64 not exists in pandas\n",
    "\n",
    "test_gpa = test_set[\"gpa\"].values.astype(np.int64)\n",
    "test_rip = test_set[\"rip\"].values.astype(np.uint64)      # As uint64 not exists in pandas"
   ]
  },
  {
   "cell_type": "code",
   "execution_count": 8,
   "metadata": {},
   "outputs": [],
   "source": [
    "calculate_delta = CalculateDelta()"
   ]
  },
  {
   "source": [
    "processed_train_val_gpa = calculate_delta.fit_transform(train_val_gpa.copy())\n",
    "processed_train_val_gpa"
   ],
   "cell_type": "code",
   "metadata": {},
   "execution_count": 9,
   "outputs": [
    {
     "output_type": "execute_result",
     "data": {
      "text/plain": [
       "array([ 283705344,          0, -522199040, ...,          0,  172953600,\n",
       "                0], dtype=int64)"
      ]
     },
     "metadata": {},
     "execution_count": 9
    }
   ]
  },
  {
   "cell_type": "code",
   "execution_count": 10,
   "metadata": {
    "tags": []
   },
   "outputs": [
    {
     "output_type": "execute_result",
     "data": {
      "text/plain": [
       "array([b'0', b'0', b'0', ..., b'0', b'0', b'0'], dtype='|S20')"
      ]
     },
     "metadata": {},
     "execution_count": 10
    }
   ],
   "source": [
    "processed_train_val_rip = calculate_delta.transform(train_val_rip)\n",
    "processed_train_val_rip"
   ]
  },
  {
   "cell_type": "code",
   "execution_count": 11,
   "metadata": {},
   "outputs": [
    {
     "output_type": "execute_result",
     "data": {
      "text/plain": [
       "( 0             650130\n",
       " -4096          154000\n",
       " -643931498      10662\n",
       "  643931494      10661\n",
       " -643931494      10661\n",
       "                 ...  \n",
       "  1683050496         1\n",
       " -1804783616         1\n",
       "  1266888704         1\n",
       "  162660352          1\n",
       "  675282944          1\n",
       " Length: 360547, dtype: int64,\n",
       " b'0'                       1303291\n",
       " b'94268222548486'            11004\n",
       " b'18446649805487003130'      10625\n",
       " b'333'                       10558\n",
       " b'18446744073709551579'       8329\n",
       "                             ...   \n",
       " b'479374'                        1\n",
       " b'18446698303869782508'          1\n",
       " b'18446744073706208576'          1\n",
       " b'18446604282210924666'          1\n",
       " b'720'                           1\n",
       " Length: 26252, dtype: int64)"
      ]
     },
     "metadata": {},
     "execution_count": 11
    }
   ],
   "source": [
    "pd.Series(processed_train_val_gpa).value_counts(), pd.Series(processed_train_val_rip).value_counts()"
   ]
  },
  {
   "cell_type": "code",
   "execution_count": 12,
   "metadata": {},
   "outputs": [
    {
     "output_type": "execute_result",
     "data": {
      "text/plain": [
       "(1       246302\n",
       " 2        57660\n",
       " 3        22645\n",
       " 4        12579\n",
       " 5         7615\n",
       "          ...  \n",
       " 622          1\n",
       " 110          1\n",
       " 106          1\n",
       " 104          1\n",
       " 2046         1\n",
       " Length: 153, dtype: int64,\n",
       " 1        19901\n",
       " 2         2545\n",
       " 3          982\n",
       " 4          580\n",
       " 5          332\n",
       "          ...  \n",
       " 87           1\n",
       " 71           1\n",
       " 283          1\n",
       " 10558        1\n",
       " 1263         1\n",
       " Length: 237, dtype: int64)"
      ]
     },
     "metadata": {},
     "execution_count": 12
    }
   ],
   "source": [
    "# Index = Occurence | Column = Number of included categories\n",
    "pd.Series(processed_train_val_gpa).value_counts().value_counts(), pd.Series(processed_train_val_rip).value_counts().value_counts()"
   ]
  },
  {
   "source": [
    "## gpa : N / P ratio"
   ],
   "cell_type": "markdown",
   "metadata": {}
  },
  {
   "cell_type": "code",
   "execution_count": 13,
   "metadata": {},
   "outputs": [],
   "source": [
    "gpa_data = []\n",
    "for gpa_threshold in range(50):\n",
    "    row = []\n",
    "    \n",
    "    row.append(gpa_threshold)\n",
    "    if gpa_threshold == 0:\n",
    "        gpa_p = len(pd.Series(processed_train_val_gpa).value_counts())\n",
    "        previous_gpa_p = gpa_p\n",
    "        previous_accuracy = 0\n",
    "    else:\n",
    "        gpa_p = len(pd.Series(processed_train_val_gpa).value_counts()) - sum(pd.Series(processed_train_val_gpa).value_counts().value_counts().loc[list(range(1, gpa_threshold+1))].values) + 1\n",
    "    row.append(gpa_p)\n",
    "    row.append(previous_gpa_p - gpa_p)\n",
    "    previous_gpa_p = gpa_p\n",
    "    row.append(processed_train_val_gpa.shape[0] / gpa_p)\n",
    "    accuracy = sum(pd.Series(processed_train_val_gpa).value_counts().value_counts().loc[list(range(1, gpa_threshold+1))].values * pd.Series(processed_train_val_gpa).value_counts().value_counts().loc[list(range(1, gpa_threshold+1))].index) / (processed_train_val_gpa.shape[0])\n",
    "    row.append(accuracy)\n",
    "    row.append(accuracy - previous_accuracy)\n",
    "    previous_accuracy = accuracy\n",
    "\n",
    "    gpa_data.append(row)\n",
    "\n",
    "df_gpa_threshold = pd.DataFrame(data=gpa_data, columns=[\"threshold\", \"p\", \"p'\", \"n/p ratio\", \"upper limit for train/val accuracy\", \"accuracy'\"])"
   ]
  },
  {
   "cell_type": "code",
   "execution_count": 14,
   "metadata": {},
   "outputs": [
    {
     "output_type": "execute_result",
     "data": {
      "text/plain": [
       "    threshold       p      p'    n/p ratio  \\\n",
       "0           0  360547       0     4.347611   \n",
       "1           1  114246  246301    13.720550   \n",
       "2           2   56586   57660    27.701516   \n",
       "3           3   33941   22645    46.183613   \n",
       "4           4   21362   12579    73.378803   \n",
       "5           5   13747    7615   114.026188   \n",
       "6           6    8976    4771   174.634358   \n",
       "7           7    6031    2945   259.910131   \n",
       "8           8    4135    1896   379.085369   \n",
       "9           9    3002    1133   522.157895   \n",
       "10         10    2296     706   682.716899   \n",
       "11         11    1862     434   841.846402   \n",
       "12         12    1607     255   975.431238   \n",
       "13         13    1438     169  1090.068150   \n",
       "14         14    1290     148  1215.130233   \n",
       "15         15    1170     120  1339.758974   \n",
       "16         16    1078      92  1454.098330   \n",
       "17         17     989      89  1584.952477   \n",
       "18         18     913      76  1716.887185   \n",
       "19         19     847      66  1850.670602   \n",
       "20         20     785      62  1996.838217   \n",
       "21         21     724      61  2165.080110   \n",
       "22         22     669      55  2343.076233   \n",
       "23         23     621      48  2524.183575   \n",
       "24         24     577      44  2716.668977   \n",
       "25         25     539      38  2908.196660   \n",
       "26         26     500      39  3135.036000   \n",
       "27         27     466      34  3363.772532   \n",
       "28         28     431      35  3636.932715   \n",
       "29         29     402      29  3899.298507   \n",
       "30         30     370      32  4236.535135   \n",
       "31         31     343      27  4570.023324   \n",
       "32         32     324      19  4838.018519   \n",
       "33         33     308      16  5089.344156   \n",
       "34         34     287      21  5461.735192   \n",
       "35         35     269      18  5827.204461   \n",
       "36         36     243      26  6450.691358   \n",
       "37         37     234       9  6698.794872   \n",
       "38         38     227       7  6905.365639   \n",
       "39         39     223       4  7029.228700   \n",
       "40         40     212      11  7393.952830   \n",
       "41         41     204       8  7683.911765   \n",
       "42         42     199       5  7876.974874   \n",
       "43         43     188      11  8337.861702   \n",
       "44         44     185       3  8473.070270   \n",
       "45         45     180       5  8708.433333   \n",
       "46         46     175       5  8957.245714   \n",
       "47         47     173       2  9060.797688   \n",
       "48         48     164       9  9558.036585   \n",
       "49         49     162       2  9676.037037   \n",
       "\n",
       "    upper limit for train/val accuracy  accuracy'  \n",
       "0                             0.000000   0.000000  \n",
       "1                             0.157129   0.157129  \n",
       "2                             0.230697   0.073569  \n",
       "3                             0.274036   0.043339  \n",
       "4                             0.306136   0.032099  \n",
       "5                             0.330426   0.024290  \n",
       "6                             0.348688   0.018262  \n",
       "7                             0.361839   0.013151  \n",
       "8                             0.371515   0.009676  \n",
       "9                             0.378021   0.006505  \n",
       "10                            0.382524   0.004504  \n",
       "11                            0.385570   0.003046  \n",
       "12                            0.387522   0.001952  \n",
       "13                            0.388924   0.001402  \n",
       "14                            0.390246   0.001322  \n",
       "15                            0.391394   0.001148  \n",
       "16                            0.392333   0.000939  \n",
       "17                            0.393298   0.000965  \n",
       "18                            0.394171   0.000873  \n",
       "19                            0.394971   0.000800  \n",
       "20                            0.395762   0.000791  \n",
       "21                            0.396579   0.000817  \n",
       "22                            0.397351   0.000772  \n",
       "23                            0.398055   0.000704  \n",
       "24                            0.398729   0.000674  \n",
       "25                            0.399335   0.000606  \n",
       "26                            0.399982   0.000647  \n",
       "27                            0.400568   0.000586  \n",
       "28                            0.401193   0.000625  \n",
       "29                            0.401729   0.000537  \n",
       "30                            0.402342   0.000612  \n",
       "31                            0.402876   0.000534  \n",
       "32                            0.403264   0.000388  \n",
       "33                            0.403600   0.000337  \n",
       "34                            0.404056   0.000455  \n",
       "35                            0.404458   0.000402  \n",
       "36                            0.405055   0.000597  \n",
       "37                            0.405267   0.000212  \n",
       "38                            0.405437   0.000170  \n",
       "39                            0.405537   0.000100  \n",
       "40                            0.405817   0.000281  \n",
       "41                            0.406027   0.000209  \n",
       "42                            0.406161   0.000134  \n",
       "43                            0.406462   0.000302  \n",
       "44                            0.406547   0.000084  \n",
       "45                            0.406690   0.000144  \n",
       "46                            0.406837   0.000147  \n",
       "47                            0.406897   0.000060  \n",
       "48                            0.407172   0.000276  \n",
       "49                            0.407235   0.000063  "
      ],
      "text/html": "<div>\n<style scoped>\n    .dataframe tbody tr th:only-of-type {\n        vertical-align: middle;\n    }\n\n    .dataframe tbody tr th {\n        vertical-align: top;\n    }\n\n    .dataframe thead th {\n        text-align: right;\n    }\n</style>\n<table border=\"1\" class=\"dataframe\">\n  <thead>\n    <tr style=\"text-align: right;\">\n      <th></th>\n      <th>threshold</th>\n      <th>p</th>\n      <th>p'</th>\n      <th>n/p ratio</th>\n      <th>upper limit for train/val accuracy</th>\n      <th>accuracy'</th>\n    </tr>\n  </thead>\n  <tbody>\n    <tr>\n      <th>0</th>\n      <td>0</td>\n      <td>360547</td>\n      <td>0</td>\n      <td>4.347611</td>\n      <td>0.000000</td>\n      <td>0.000000</td>\n    </tr>\n    <tr>\n      <th>1</th>\n      <td>1</td>\n      <td>114246</td>\n      <td>246301</td>\n      <td>13.720550</td>\n      <td>0.157129</td>\n      <td>0.157129</td>\n    </tr>\n    <tr>\n      <th>2</th>\n      <td>2</td>\n      <td>56586</td>\n      <td>57660</td>\n      <td>27.701516</td>\n      <td>0.230697</td>\n      <td>0.073569</td>\n    </tr>\n    <tr>\n      <th>3</th>\n      <td>3</td>\n      <td>33941</td>\n      <td>22645</td>\n      <td>46.183613</td>\n      <td>0.274036</td>\n      <td>0.043339</td>\n    </tr>\n    <tr>\n      <th>4</th>\n      <td>4</td>\n      <td>21362</td>\n      <td>12579</td>\n      <td>73.378803</td>\n      <td>0.306136</td>\n      <td>0.032099</td>\n    </tr>\n    <tr>\n      <th>5</th>\n      <td>5</td>\n      <td>13747</td>\n      <td>7615</td>\n      <td>114.026188</td>\n      <td>0.330426</td>\n      <td>0.024290</td>\n    </tr>\n    <tr>\n      <th>6</th>\n      <td>6</td>\n      <td>8976</td>\n      <td>4771</td>\n      <td>174.634358</td>\n      <td>0.348688</td>\n      <td>0.018262</td>\n    </tr>\n    <tr>\n      <th>7</th>\n      <td>7</td>\n      <td>6031</td>\n      <td>2945</td>\n      <td>259.910131</td>\n      <td>0.361839</td>\n      <td>0.013151</td>\n    </tr>\n    <tr>\n      <th>8</th>\n      <td>8</td>\n      <td>4135</td>\n      <td>1896</td>\n      <td>379.085369</td>\n      <td>0.371515</td>\n      <td>0.009676</td>\n    </tr>\n    <tr>\n      <th>9</th>\n      <td>9</td>\n      <td>3002</td>\n      <td>1133</td>\n      <td>522.157895</td>\n      <td>0.378021</td>\n      <td>0.006505</td>\n    </tr>\n    <tr>\n      <th>10</th>\n      <td>10</td>\n      <td>2296</td>\n      <td>706</td>\n      <td>682.716899</td>\n      <td>0.382524</td>\n      <td>0.004504</td>\n    </tr>\n    <tr>\n      <th>11</th>\n      <td>11</td>\n      <td>1862</td>\n      <td>434</td>\n      <td>841.846402</td>\n      <td>0.385570</td>\n      <td>0.003046</td>\n    </tr>\n    <tr>\n      <th>12</th>\n      <td>12</td>\n      <td>1607</td>\n      <td>255</td>\n      <td>975.431238</td>\n      <td>0.387522</td>\n      <td>0.001952</td>\n    </tr>\n    <tr>\n      <th>13</th>\n      <td>13</td>\n      <td>1438</td>\n      <td>169</td>\n      <td>1090.068150</td>\n      <td>0.388924</td>\n      <td>0.001402</td>\n    </tr>\n    <tr>\n      <th>14</th>\n      <td>14</td>\n      <td>1290</td>\n      <td>148</td>\n      <td>1215.130233</td>\n      <td>0.390246</td>\n      <td>0.001322</td>\n    </tr>\n    <tr>\n      <th>15</th>\n      <td>15</td>\n      <td>1170</td>\n      <td>120</td>\n      <td>1339.758974</td>\n      <td>0.391394</td>\n      <td>0.001148</td>\n    </tr>\n    <tr>\n      <th>16</th>\n      <td>16</td>\n      <td>1078</td>\n      <td>92</td>\n      <td>1454.098330</td>\n      <td>0.392333</td>\n      <td>0.000939</td>\n    </tr>\n    <tr>\n      <th>17</th>\n      <td>17</td>\n      <td>989</td>\n      <td>89</td>\n      <td>1584.952477</td>\n      <td>0.393298</td>\n      <td>0.000965</td>\n    </tr>\n    <tr>\n      <th>18</th>\n      <td>18</td>\n      <td>913</td>\n      <td>76</td>\n      <td>1716.887185</td>\n      <td>0.394171</td>\n      <td>0.000873</td>\n    </tr>\n    <tr>\n      <th>19</th>\n      <td>19</td>\n      <td>847</td>\n      <td>66</td>\n      <td>1850.670602</td>\n      <td>0.394971</td>\n      <td>0.000800</td>\n    </tr>\n    <tr>\n      <th>20</th>\n      <td>20</td>\n      <td>785</td>\n      <td>62</td>\n      <td>1996.838217</td>\n      <td>0.395762</td>\n      <td>0.000791</td>\n    </tr>\n    <tr>\n      <th>21</th>\n      <td>21</td>\n      <td>724</td>\n      <td>61</td>\n      <td>2165.080110</td>\n      <td>0.396579</td>\n      <td>0.000817</td>\n    </tr>\n    <tr>\n      <th>22</th>\n      <td>22</td>\n      <td>669</td>\n      <td>55</td>\n      <td>2343.076233</td>\n      <td>0.397351</td>\n      <td>0.000772</td>\n    </tr>\n    <tr>\n      <th>23</th>\n      <td>23</td>\n      <td>621</td>\n      <td>48</td>\n      <td>2524.183575</td>\n      <td>0.398055</td>\n      <td>0.000704</td>\n    </tr>\n    <tr>\n      <th>24</th>\n      <td>24</td>\n      <td>577</td>\n      <td>44</td>\n      <td>2716.668977</td>\n      <td>0.398729</td>\n      <td>0.000674</td>\n    </tr>\n    <tr>\n      <th>25</th>\n      <td>25</td>\n      <td>539</td>\n      <td>38</td>\n      <td>2908.196660</td>\n      <td>0.399335</td>\n      <td>0.000606</td>\n    </tr>\n    <tr>\n      <th>26</th>\n      <td>26</td>\n      <td>500</td>\n      <td>39</td>\n      <td>3135.036000</td>\n      <td>0.399982</td>\n      <td>0.000647</td>\n    </tr>\n    <tr>\n      <th>27</th>\n      <td>27</td>\n      <td>466</td>\n      <td>34</td>\n      <td>3363.772532</td>\n      <td>0.400568</td>\n      <td>0.000586</td>\n    </tr>\n    <tr>\n      <th>28</th>\n      <td>28</td>\n      <td>431</td>\n      <td>35</td>\n      <td>3636.932715</td>\n      <td>0.401193</td>\n      <td>0.000625</td>\n    </tr>\n    <tr>\n      <th>29</th>\n      <td>29</td>\n      <td>402</td>\n      <td>29</td>\n      <td>3899.298507</td>\n      <td>0.401729</td>\n      <td>0.000537</td>\n    </tr>\n    <tr>\n      <th>30</th>\n      <td>30</td>\n      <td>370</td>\n      <td>32</td>\n      <td>4236.535135</td>\n      <td>0.402342</td>\n      <td>0.000612</td>\n    </tr>\n    <tr>\n      <th>31</th>\n      <td>31</td>\n      <td>343</td>\n      <td>27</td>\n      <td>4570.023324</td>\n      <td>0.402876</td>\n      <td>0.000534</td>\n    </tr>\n    <tr>\n      <th>32</th>\n      <td>32</td>\n      <td>324</td>\n      <td>19</td>\n      <td>4838.018519</td>\n      <td>0.403264</td>\n      <td>0.000388</td>\n    </tr>\n    <tr>\n      <th>33</th>\n      <td>33</td>\n      <td>308</td>\n      <td>16</td>\n      <td>5089.344156</td>\n      <td>0.403600</td>\n      <td>0.000337</td>\n    </tr>\n    <tr>\n      <th>34</th>\n      <td>34</td>\n      <td>287</td>\n      <td>21</td>\n      <td>5461.735192</td>\n      <td>0.404056</td>\n      <td>0.000455</td>\n    </tr>\n    <tr>\n      <th>35</th>\n      <td>35</td>\n      <td>269</td>\n      <td>18</td>\n      <td>5827.204461</td>\n      <td>0.404458</td>\n      <td>0.000402</td>\n    </tr>\n    <tr>\n      <th>36</th>\n      <td>36</td>\n      <td>243</td>\n      <td>26</td>\n      <td>6450.691358</td>\n      <td>0.405055</td>\n      <td>0.000597</td>\n    </tr>\n    <tr>\n      <th>37</th>\n      <td>37</td>\n      <td>234</td>\n      <td>9</td>\n      <td>6698.794872</td>\n      <td>0.405267</td>\n      <td>0.000212</td>\n    </tr>\n    <tr>\n      <th>38</th>\n      <td>38</td>\n      <td>227</td>\n      <td>7</td>\n      <td>6905.365639</td>\n      <td>0.405437</td>\n      <td>0.000170</td>\n    </tr>\n    <tr>\n      <th>39</th>\n      <td>39</td>\n      <td>223</td>\n      <td>4</td>\n      <td>7029.228700</td>\n      <td>0.405537</td>\n      <td>0.000100</td>\n    </tr>\n    <tr>\n      <th>40</th>\n      <td>40</td>\n      <td>212</td>\n      <td>11</td>\n      <td>7393.952830</td>\n      <td>0.405817</td>\n      <td>0.000281</td>\n    </tr>\n    <tr>\n      <th>41</th>\n      <td>41</td>\n      <td>204</td>\n      <td>8</td>\n      <td>7683.911765</td>\n      <td>0.406027</td>\n      <td>0.000209</td>\n    </tr>\n    <tr>\n      <th>42</th>\n      <td>42</td>\n      <td>199</td>\n      <td>5</td>\n      <td>7876.974874</td>\n      <td>0.406161</td>\n      <td>0.000134</td>\n    </tr>\n    <tr>\n      <th>43</th>\n      <td>43</td>\n      <td>188</td>\n      <td>11</td>\n      <td>8337.861702</td>\n      <td>0.406462</td>\n      <td>0.000302</td>\n    </tr>\n    <tr>\n      <th>44</th>\n      <td>44</td>\n      <td>185</td>\n      <td>3</td>\n      <td>8473.070270</td>\n      <td>0.406547</td>\n      <td>0.000084</td>\n    </tr>\n    <tr>\n      <th>45</th>\n      <td>45</td>\n      <td>180</td>\n      <td>5</td>\n      <td>8708.433333</td>\n      <td>0.406690</td>\n      <td>0.000144</td>\n    </tr>\n    <tr>\n      <th>46</th>\n      <td>46</td>\n      <td>175</td>\n      <td>5</td>\n      <td>8957.245714</td>\n      <td>0.406837</td>\n      <td>0.000147</td>\n    </tr>\n    <tr>\n      <th>47</th>\n      <td>47</td>\n      <td>173</td>\n      <td>2</td>\n      <td>9060.797688</td>\n      <td>0.406897</td>\n      <td>0.000060</td>\n    </tr>\n    <tr>\n      <th>48</th>\n      <td>48</td>\n      <td>164</td>\n      <td>9</td>\n      <td>9558.036585</td>\n      <td>0.407172</td>\n      <td>0.000276</td>\n    </tr>\n    <tr>\n      <th>49</th>\n      <td>49</td>\n      <td>162</td>\n      <td>2</td>\n      <td>9676.037037</td>\n      <td>0.407235</td>\n      <td>0.000063</td>\n    </tr>\n  </tbody>\n</table>\n</div>"
     },
     "metadata": {},
     "execution_count": 14
    }
   ],
   "source": [
    "df_gpa_threshold"
   ]
  },
  {
   "source": [
    "## rip : N / P ratio"
   ],
   "cell_type": "markdown",
   "metadata": {}
  },
  {
   "cell_type": "code",
   "execution_count": 15,
   "metadata": {},
   "outputs": [],
   "source": [
    "rip_data = []\n",
    "for rip_threshold in range(50):\n",
    "    row = []\n",
    "    \n",
    "    row.append(rip_threshold)\n",
    "    if rip_threshold == 0:\n",
    "        rip_p = len(pd.Series(processed_train_val_rip).value_counts())\n",
    "        previous_rip_p = rip_p\n",
    "        previous_accuracy = 0\n",
    "    else:\n",
    "        rip_p = len(pd.Series(processed_train_val_rip).value_counts()) - sum(pd.Series(processed_train_val_rip).value_counts().value_counts().loc[list(range(1, rip_threshold+1))].values) + 1\n",
    "    row.append(rip_p)\n",
    "    row.append(previous_rip_p - rip_p)\n",
    "    previous_rip_p = rip_p\n",
    "    row.append(processed_train_val_rip.shape[0] / rip_p)\n",
    "    accuracy = sum(pd.Series(processed_train_val_rip).value_counts().value_counts().loc[list(range(1, rip_threshold+1))].values * pd.Series(processed_train_val_rip).value_counts().value_counts().loc[list(range(1, rip_threshold+1))].index) / (processed_train_val_rip.shape[0])\n",
    "    row.append(accuracy)\n",
    "    row.append(accuracy - previous_accuracy)\n",
    "    previous_accuracy = accuracy\n",
    "\n",
    "    rip_data.append(row)\n",
    "\n",
    "df_rip_threshold = pd.DataFrame(data=rip_data, columns=[\"threshold\", \"p\", \"p'\", \"n/p ratio\", \"upper limit for train/val accuracy\", \"accuracy'\"])"
   ]
  },
  {
   "cell_type": "code",
   "execution_count": 16,
   "metadata": {},
   "outputs": [
    {
     "output_type": "execute_result",
     "data": {
      "text/plain": [
       "    threshold      p     p'    n/p ratio  upper limit for train/val accuracy  \\\n",
       "0           0  26252      0    59.710422                            0.000000   \n",
       "1           1   6352  19900   246.775504                            0.012696   \n",
       "2           2   3807   2545   411.746257                            0.015943   \n",
       "3           3   2825    982   554.873628                            0.017822   \n",
       "4           4   2245    580   698.226281                            0.019302   \n",
       "5           5   1913    332   819.403032                            0.020361   \n",
       "6           6   1648    265   951.163835                            0.021376   \n",
       "7           7   1469    179  1067.064670                            0.022175   \n",
       "8           8   1314    155  1192.936073                            0.022966   \n",
       "9           9   1186    128  1321.684654                            0.023701   \n",
       "10         10   1070    116  1464.970093                            0.024441   \n",
       "11         11    967    103  1621.011375                            0.025164   \n",
       "12         12    908     59  1726.341410                            0.025616   \n",
       "13         13    833     75  1881.774310                            0.026238   \n",
       "14         14    783     50  2001.938697                            0.026684   \n",
       "15         15    727     56  2156.145805                            0.027220   \n",
       "16         16    690     37  2271.765217                            0.027598   \n",
       "17         17    654     36  2396.816514                            0.027988   \n",
       "18         18    609     45  2573.921182                            0.028505   \n",
       "19         19    575     34  2726.118261                            0.028917   \n",
       "20         20    550     25  2850.032727                            0.029236   \n",
       "21         21    526     24  2980.072243                            0.029558   \n",
       "22         22    494     32  3173.113360                            0.030007   \n",
       "23         23    470     24  3335.144681                            0.030359   \n",
       "24         24    446     24  3514.614350                            0.030726   \n",
       "25         25    424     22  3696.976415                            0.031077   \n",
       "26         26    411     13  3813.912409                            0.031293   \n",
       "27         27    394     17  3978.472081                            0.031586   \n",
       "28         28    378     16  4146.873016                            0.031871   \n",
       "29         29    363     15  4318.231405                            0.032149   \n",
       "30         30    352     11  4453.176136                            0.032359   \n",
       "31         31    334     18  4693.167665                            0.032715   \n",
       "32         32    329      5  4764.492401                            0.032817   \n",
       "33         33    316     13  4960.500000                            0.033091   \n",
       "34         34    314      2  4992.095541                            0.033135   \n",
       "35         35    308      6  5089.344156                            0.033269   \n",
       "36         36    298     10  5260.127517                            0.033498   \n",
       "37         37    295      3  5313.620339                            0.033569   \n",
       "38         38    292      3  5368.212329                            0.033642   \n",
       "39         39    288      4  5442.770833                            0.033741   \n",
       "40         40    286      2  5480.832168                            0.033792   \n",
       "41         41    281      5  5578.355872                            0.033923   \n",
       "42         42    273      8  5741.824176                            0.034137   \n",
       "43         43    269      4  5827.204461                            0.034247   \n",
       "44         44    263      6  5960.144487                            0.034416   \n",
       "45         45    261      2  6005.816092                            0.034473   \n",
       "46         46    260      1  6028.915385                            0.034502   \n",
       "47         47    255      5  6147.129412                            0.034652   \n",
       "48         48    253      2  6195.723320                            0.034713   \n",
       "49         49    251      2  6245.091633                            0.034776   \n",
       "\n",
       "    accuracy'  \n",
       "0    0.000000  \n",
       "1    0.012696  \n",
       "2    0.003247  \n",
       "3    0.001879  \n",
       "4    0.001480  \n",
       "5    0.001059  \n",
       "6    0.001014  \n",
       "7    0.000799  \n",
       "8    0.000791  \n",
       "9    0.000735  \n",
       "10   0.000740  \n",
       "11   0.000723  \n",
       "12   0.000452  \n",
       "13   0.000622  \n",
       "14   0.000447  \n",
       "15   0.000536  \n",
       "16   0.000378  \n",
       "17   0.000390  \n",
       "18   0.000517  \n",
       "19   0.000412  \n",
       "20   0.000319  \n",
       "21   0.000322  \n",
       "22   0.000449  \n",
       "23   0.000352  \n",
       "24   0.000367  \n",
       "25   0.000351  \n",
       "26   0.000216  \n",
       "27   0.000293  \n",
       "28   0.000286  \n",
       "29   0.000278  \n",
       "30   0.000211  \n",
       "31   0.000356  \n",
       "32   0.000102  \n",
       "33   0.000274  \n",
       "34   0.000043  \n",
       "35   0.000134  \n",
       "36   0.000230  \n",
       "37   0.000071  \n",
       "38   0.000073  \n",
       "39   0.000100  \n",
       "40   0.000051  \n",
       "41   0.000131  \n",
       "42   0.000214  \n",
       "43   0.000110  \n",
       "44   0.000168  \n",
       "45   0.000057  \n",
       "46   0.000029  \n",
       "47   0.000150  \n",
       "48   0.000061  \n",
       "49   0.000063  "
      ],
      "text/html": "<div>\n<style scoped>\n    .dataframe tbody tr th:only-of-type {\n        vertical-align: middle;\n    }\n\n    .dataframe tbody tr th {\n        vertical-align: top;\n    }\n\n    .dataframe thead th {\n        text-align: right;\n    }\n</style>\n<table border=\"1\" class=\"dataframe\">\n  <thead>\n    <tr style=\"text-align: right;\">\n      <th></th>\n      <th>threshold</th>\n      <th>p</th>\n      <th>p'</th>\n      <th>n/p ratio</th>\n      <th>upper limit for train/val accuracy</th>\n      <th>accuracy'</th>\n    </tr>\n  </thead>\n  <tbody>\n    <tr>\n      <th>0</th>\n      <td>0</td>\n      <td>26252</td>\n      <td>0</td>\n      <td>59.710422</td>\n      <td>0.000000</td>\n      <td>0.000000</td>\n    </tr>\n    <tr>\n      <th>1</th>\n      <td>1</td>\n      <td>6352</td>\n      <td>19900</td>\n      <td>246.775504</td>\n      <td>0.012696</td>\n      <td>0.012696</td>\n    </tr>\n    <tr>\n      <th>2</th>\n      <td>2</td>\n      <td>3807</td>\n      <td>2545</td>\n      <td>411.746257</td>\n      <td>0.015943</td>\n      <td>0.003247</td>\n    </tr>\n    <tr>\n      <th>3</th>\n      <td>3</td>\n      <td>2825</td>\n      <td>982</td>\n      <td>554.873628</td>\n      <td>0.017822</td>\n      <td>0.001879</td>\n    </tr>\n    <tr>\n      <th>4</th>\n      <td>4</td>\n      <td>2245</td>\n      <td>580</td>\n      <td>698.226281</td>\n      <td>0.019302</td>\n      <td>0.001480</td>\n    </tr>\n    <tr>\n      <th>5</th>\n      <td>5</td>\n      <td>1913</td>\n      <td>332</td>\n      <td>819.403032</td>\n      <td>0.020361</td>\n      <td>0.001059</td>\n    </tr>\n    <tr>\n      <th>6</th>\n      <td>6</td>\n      <td>1648</td>\n      <td>265</td>\n      <td>951.163835</td>\n      <td>0.021376</td>\n      <td>0.001014</td>\n    </tr>\n    <tr>\n      <th>7</th>\n      <td>7</td>\n      <td>1469</td>\n      <td>179</td>\n      <td>1067.064670</td>\n      <td>0.022175</td>\n      <td>0.000799</td>\n    </tr>\n    <tr>\n      <th>8</th>\n      <td>8</td>\n      <td>1314</td>\n      <td>155</td>\n      <td>1192.936073</td>\n      <td>0.022966</td>\n      <td>0.000791</td>\n    </tr>\n    <tr>\n      <th>9</th>\n      <td>9</td>\n      <td>1186</td>\n      <td>128</td>\n      <td>1321.684654</td>\n      <td>0.023701</td>\n      <td>0.000735</td>\n    </tr>\n    <tr>\n      <th>10</th>\n      <td>10</td>\n      <td>1070</td>\n      <td>116</td>\n      <td>1464.970093</td>\n      <td>0.024441</td>\n      <td>0.000740</td>\n    </tr>\n    <tr>\n      <th>11</th>\n      <td>11</td>\n      <td>967</td>\n      <td>103</td>\n      <td>1621.011375</td>\n      <td>0.025164</td>\n      <td>0.000723</td>\n    </tr>\n    <tr>\n      <th>12</th>\n      <td>12</td>\n      <td>908</td>\n      <td>59</td>\n      <td>1726.341410</td>\n      <td>0.025616</td>\n      <td>0.000452</td>\n    </tr>\n    <tr>\n      <th>13</th>\n      <td>13</td>\n      <td>833</td>\n      <td>75</td>\n      <td>1881.774310</td>\n      <td>0.026238</td>\n      <td>0.000622</td>\n    </tr>\n    <tr>\n      <th>14</th>\n      <td>14</td>\n      <td>783</td>\n      <td>50</td>\n      <td>2001.938697</td>\n      <td>0.026684</td>\n      <td>0.000447</td>\n    </tr>\n    <tr>\n      <th>15</th>\n      <td>15</td>\n      <td>727</td>\n      <td>56</td>\n      <td>2156.145805</td>\n      <td>0.027220</td>\n      <td>0.000536</td>\n    </tr>\n    <tr>\n      <th>16</th>\n      <td>16</td>\n      <td>690</td>\n      <td>37</td>\n      <td>2271.765217</td>\n      <td>0.027598</td>\n      <td>0.000378</td>\n    </tr>\n    <tr>\n      <th>17</th>\n      <td>17</td>\n      <td>654</td>\n      <td>36</td>\n      <td>2396.816514</td>\n      <td>0.027988</td>\n      <td>0.000390</td>\n    </tr>\n    <tr>\n      <th>18</th>\n      <td>18</td>\n      <td>609</td>\n      <td>45</td>\n      <td>2573.921182</td>\n      <td>0.028505</td>\n      <td>0.000517</td>\n    </tr>\n    <tr>\n      <th>19</th>\n      <td>19</td>\n      <td>575</td>\n      <td>34</td>\n      <td>2726.118261</td>\n      <td>0.028917</td>\n      <td>0.000412</td>\n    </tr>\n    <tr>\n      <th>20</th>\n      <td>20</td>\n      <td>550</td>\n      <td>25</td>\n      <td>2850.032727</td>\n      <td>0.029236</td>\n      <td>0.000319</td>\n    </tr>\n    <tr>\n      <th>21</th>\n      <td>21</td>\n      <td>526</td>\n      <td>24</td>\n      <td>2980.072243</td>\n      <td>0.029558</td>\n      <td>0.000322</td>\n    </tr>\n    <tr>\n      <th>22</th>\n      <td>22</td>\n      <td>494</td>\n      <td>32</td>\n      <td>3173.113360</td>\n      <td>0.030007</td>\n      <td>0.000449</td>\n    </tr>\n    <tr>\n      <th>23</th>\n      <td>23</td>\n      <td>470</td>\n      <td>24</td>\n      <td>3335.144681</td>\n      <td>0.030359</td>\n      <td>0.000352</td>\n    </tr>\n    <tr>\n      <th>24</th>\n      <td>24</td>\n      <td>446</td>\n      <td>24</td>\n      <td>3514.614350</td>\n      <td>0.030726</td>\n      <td>0.000367</td>\n    </tr>\n    <tr>\n      <th>25</th>\n      <td>25</td>\n      <td>424</td>\n      <td>22</td>\n      <td>3696.976415</td>\n      <td>0.031077</td>\n      <td>0.000351</td>\n    </tr>\n    <tr>\n      <th>26</th>\n      <td>26</td>\n      <td>411</td>\n      <td>13</td>\n      <td>3813.912409</td>\n      <td>0.031293</td>\n      <td>0.000216</td>\n    </tr>\n    <tr>\n      <th>27</th>\n      <td>27</td>\n      <td>394</td>\n      <td>17</td>\n      <td>3978.472081</td>\n      <td>0.031586</td>\n      <td>0.000293</td>\n    </tr>\n    <tr>\n      <th>28</th>\n      <td>28</td>\n      <td>378</td>\n      <td>16</td>\n      <td>4146.873016</td>\n      <td>0.031871</td>\n      <td>0.000286</td>\n    </tr>\n    <tr>\n      <th>29</th>\n      <td>29</td>\n      <td>363</td>\n      <td>15</td>\n      <td>4318.231405</td>\n      <td>0.032149</td>\n      <td>0.000278</td>\n    </tr>\n    <tr>\n      <th>30</th>\n      <td>30</td>\n      <td>352</td>\n      <td>11</td>\n      <td>4453.176136</td>\n      <td>0.032359</td>\n      <td>0.000211</td>\n    </tr>\n    <tr>\n      <th>31</th>\n      <td>31</td>\n      <td>334</td>\n      <td>18</td>\n      <td>4693.167665</td>\n      <td>0.032715</td>\n      <td>0.000356</td>\n    </tr>\n    <tr>\n      <th>32</th>\n      <td>32</td>\n      <td>329</td>\n      <td>5</td>\n      <td>4764.492401</td>\n      <td>0.032817</td>\n      <td>0.000102</td>\n    </tr>\n    <tr>\n      <th>33</th>\n      <td>33</td>\n      <td>316</td>\n      <td>13</td>\n      <td>4960.500000</td>\n      <td>0.033091</td>\n      <td>0.000274</td>\n    </tr>\n    <tr>\n      <th>34</th>\n      <td>34</td>\n      <td>314</td>\n      <td>2</td>\n      <td>4992.095541</td>\n      <td>0.033135</td>\n      <td>0.000043</td>\n    </tr>\n    <tr>\n      <th>35</th>\n      <td>35</td>\n      <td>308</td>\n      <td>6</td>\n      <td>5089.344156</td>\n      <td>0.033269</td>\n      <td>0.000134</td>\n    </tr>\n    <tr>\n      <th>36</th>\n      <td>36</td>\n      <td>298</td>\n      <td>10</td>\n      <td>5260.127517</td>\n      <td>0.033498</td>\n      <td>0.000230</td>\n    </tr>\n    <tr>\n      <th>37</th>\n      <td>37</td>\n      <td>295</td>\n      <td>3</td>\n      <td>5313.620339</td>\n      <td>0.033569</td>\n      <td>0.000071</td>\n    </tr>\n    <tr>\n      <th>38</th>\n      <td>38</td>\n      <td>292</td>\n      <td>3</td>\n      <td>5368.212329</td>\n      <td>0.033642</td>\n      <td>0.000073</td>\n    </tr>\n    <tr>\n      <th>39</th>\n      <td>39</td>\n      <td>288</td>\n      <td>4</td>\n      <td>5442.770833</td>\n      <td>0.033741</td>\n      <td>0.000100</td>\n    </tr>\n    <tr>\n      <th>40</th>\n      <td>40</td>\n      <td>286</td>\n      <td>2</td>\n      <td>5480.832168</td>\n      <td>0.033792</td>\n      <td>0.000051</td>\n    </tr>\n    <tr>\n      <th>41</th>\n      <td>41</td>\n      <td>281</td>\n      <td>5</td>\n      <td>5578.355872</td>\n      <td>0.033923</td>\n      <td>0.000131</td>\n    </tr>\n    <tr>\n      <th>42</th>\n      <td>42</td>\n      <td>273</td>\n      <td>8</td>\n      <td>5741.824176</td>\n      <td>0.034137</td>\n      <td>0.000214</td>\n    </tr>\n    <tr>\n      <th>43</th>\n      <td>43</td>\n      <td>269</td>\n      <td>4</td>\n      <td>5827.204461</td>\n      <td>0.034247</td>\n      <td>0.000110</td>\n    </tr>\n    <tr>\n      <th>44</th>\n      <td>44</td>\n      <td>263</td>\n      <td>6</td>\n      <td>5960.144487</td>\n      <td>0.034416</td>\n      <td>0.000168</td>\n    </tr>\n    <tr>\n      <th>45</th>\n      <td>45</td>\n      <td>261</td>\n      <td>2</td>\n      <td>6005.816092</td>\n      <td>0.034473</td>\n      <td>0.000057</td>\n    </tr>\n    <tr>\n      <th>46</th>\n      <td>46</td>\n      <td>260</td>\n      <td>1</td>\n      <td>6028.915385</td>\n      <td>0.034502</td>\n      <td>0.000029</td>\n    </tr>\n    <tr>\n      <th>47</th>\n      <td>47</td>\n      <td>255</td>\n      <td>5</td>\n      <td>6147.129412</td>\n      <td>0.034652</td>\n      <td>0.000150</td>\n    </tr>\n    <tr>\n      <th>48</th>\n      <td>48</td>\n      <td>253</td>\n      <td>2</td>\n      <td>6195.723320</td>\n      <td>0.034713</td>\n      <td>0.000061</td>\n    </tr>\n    <tr>\n      <th>49</th>\n      <td>49</td>\n      <td>251</td>\n      <td>2</td>\n      <td>6245.091633</td>\n      <td>0.034776</td>\n      <td>0.000063</td>\n    </tr>\n  </tbody>\n</table>\n</div>"
     },
     "metadata": {},
     "execution_count": 16
    }
   ],
   "source": [
    "df_rip_threshold"
   ]
  },
  {
   "source": [
    "## Save Analysis "
   ],
   "cell_type": "markdown",
   "metadata": {}
  },
  {
   "cell_type": "code",
   "execution_count": 17,
   "metadata": {},
   "outputs": [],
   "source": [
    "df_gpa_threshold.to_csv(\"analysis/{}_gpa_analysis.csv\".format(model_name), index=False)\n",
    "df_rip_threshold.to_csv(\"analysis/{}_rip_analysis.csv\".format(model_name), index=False)"
   ]
  },
  {
   "cell_type": "code",
   "execution_count": null,
   "metadata": {},
   "outputs": [],
   "source": []
  }
 ]
}