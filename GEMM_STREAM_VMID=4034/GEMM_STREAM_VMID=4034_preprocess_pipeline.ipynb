{
 "metadata": {
  "language_info": {
   "codemirror_mode": {
    "name": "ipython",
    "version": 3
   },
   "file_extension": ".py",
   "mimetype": "text/x-python",
   "name": "python",
   "nbconvert_exporter": "python",
   "pygments_lexer": "ipython3",
   "version": "3.7.6"
  },
  "orig_nbformat": 2,
  "kernelspec": {
   "name": "python376jvsc74a57bd0b3ba2566441a7c06988d0923437866b63cedc61552a5af99d1f4fb67d367b25f",
   "display_name": "Python 3.7.6 64-bit (conda)"
  }
 },
 "nbformat": 4,
 "nbformat_minor": 2,
 "cells": [
  {
   "cell_type": "code",
   "execution_count": 1,
   "metadata": {},
   "outputs": [],
   "source": [
    "import numpy as np\n",
    "import pandas as pd\n",
    "import json\n",
    "import dill         # 0.3.2\n",
    "from sklearn.base import BaseEstimator, TransformerMixin\n",
    "from sklearn.pipeline import Pipeline\n",
    "from sklearn.model_selection import train_test_split"
   ]
  },
  {
   "cell_type": "markdown",
   "metadata": {},
   "source": [
    "## Set Global/Environment Variables"
   ]
  },
  {
   "cell_type": "code",
   "execution_count": 2,
   "metadata": {},
   "outputs": [],
   "source": [
    "model_name = \"GEMM_STREAM_VMID=4034\""
   ]
  },
  {
   "source": [
    "## Set Thresholds"
   ],
   "cell_type": "markdown",
   "metadata": {}
  },
  {
   "cell_type": "code",
   "execution_count": 3,
   "metadata": {},
   "outputs": [],
   "source": [
    "gpa_threshold = 36\n",
    "rip_threshold = 3"
   ]
  },
  {
   "cell_type": "markdown",
   "metadata": {},
   "source": [
    "## Load Dataset/Static Param List"
   ]
  },
  {
   "cell_type": "code",
   "execution_count": 4,
   "metadata": {},
   "outputs": [
    {
     "output_type": "execute_result",
     "data": {
      "text/plain": [
       "                   extra             time address_type         gpa  \\\n",
       "0       [861367.505406]   05:46:34:647695           PF   988827648   \n",
       "1       [861367.505455]   05:46:34:647744           PF   705122304   \n",
       "2       [861367.505459]   05:46:34:647748           PF   705122304   \n",
       "3       [861367.505464]   05:46:34:647754           PF  1227321344   \n",
       "4       [861367.505468]   05:46:34:647757           PF  1227321344   \n",
       "...                  ...              ...          ...         ...   \n",
       "407190  [957446.648224]   08:27:53:789007           PF   253842912   \n",
       "407191  [957446.648252]   08:27:53:789035          GPA   878240226   \n",
       "407192  [957446.650168]   08:27:53:790949          GPA   878245255   \n",
       "407193  [957446.650178]   08:27:53:790962          GPA   878245319   \n",
       "407194  [957446.650183]   08:27:53:790967          GPA   878245368   \n",
       "\n",
       "                         rip  vmid  \n",
       "0       18446744072452043863  4034  \n",
       "1       18446744072452043863  4034  \n",
       "2       18446744072452043863  4034  \n",
       "3       18446744072452043863  4034  \n",
       "4       18446744072452043863  4034  \n",
       "...                      ...   ...  \n",
       "407190  18446744072451347936  4034  \n",
       "407191  18446744072637686242  4034  \n",
       "407192  18446744072637683079  4034  \n",
       "407193  18446744072637683143  4034  \n",
       "407194  18446744072637683192  4034  \n",
       "\n",
       "[1844140 rows x 6 columns]"
      ],
      "text/html": "<div>\n<style scoped>\n    .dataframe tbody tr th:only-of-type {\n        vertical-align: middle;\n    }\n\n    .dataframe tbody tr th {\n        vertical-align: top;\n    }\n\n    .dataframe thead th {\n        text-align: right;\n    }\n</style>\n<table border=\"1\" class=\"dataframe\">\n  <thead>\n    <tr style=\"text-align: right;\">\n      <th></th>\n      <th>extra</th>\n      <th>time</th>\n      <th>address_type</th>\n      <th>gpa</th>\n      <th>rip</th>\n      <th>vmid</th>\n    </tr>\n  </thead>\n  <tbody>\n    <tr>\n      <th>0</th>\n      <td>[861367.505406]</td>\n      <td>05:46:34:647695</td>\n      <td>PF</td>\n      <td>988827648</td>\n      <td>18446744072452043863</td>\n      <td>4034</td>\n    </tr>\n    <tr>\n      <th>1</th>\n      <td>[861367.505455]</td>\n      <td>05:46:34:647744</td>\n      <td>PF</td>\n      <td>705122304</td>\n      <td>18446744072452043863</td>\n      <td>4034</td>\n    </tr>\n    <tr>\n      <th>2</th>\n      <td>[861367.505459]</td>\n      <td>05:46:34:647748</td>\n      <td>PF</td>\n      <td>705122304</td>\n      <td>18446744072452043863</td>\n      <td>4034</td>\n    </tr>\n    <tr>\n      <th>3</th>\n      <td>[861367.505464]</td>\n      <td>05:46:34:647754</td>\n      <td>PF</td>\n      <td>1227321344</td>\n      <td>18446744072452043863</td>\n      <td>4034</td>\n    </tr>\n    <tr>\n      <th>4</th>\n      <td>[861367.505468]</td>\n      <td>05:46:34:647757</td>\n      <td>PF</td>\n      <td>1227321344</td>\n      <td>18446744072452043863</td>\n      <td>4034</td>\n    </tr>\n    <tr>\n      <th>...</th>\n      <td>...</td>\n      <td>...</td>\n      <td>...</td>\n      <td>...</td>\n      <td>...</td>\n      <td>...</td>\n    </tr>\n    <tr>\n      <th>407190</th>\n      <td>[957446.648224]</td>\n      <td>08:27:53:789007</td>\n      <td>PF</td>\n      <td>253842912</td>\n      <td>18446744072451347936</td>\n      <td>4034</td>\n    </tr>\n    <tr>\n      <th>407191</th>\n      <td>[957446.648252]</td>\n      <td>08:27:53:789035</td>\n      <td>GPA</td>\n      <td>878240226</td>\n      <td>18446744072637686242</td>\n      <td>4034</td>\n    </tr>\n    <tr>\n      <th>407192</th>\n      <td>[957446.650168]</td>\n      <td>08:27:53:790949</td>\n      <td>GPA</td>\n      <td>878245255</td>\n      <td>18446744072637683079</td>\n      <td>4034</td>\n    </tr>\n    <tr>\n      <th>407193</th>\n      <td>[957446.650178]</td>\n      <td>08:27:53:790962</td>\n      <td>GPA</td>\n      <td>878245319</td>\n      <td>18446744072637683143</td>\n      <td>4034</td>\n    </tr>\n    <tr>\n      <th>407194</th>\n      <td>[957446.650183]</td>\n      <td>08:27:53:790967</td>\n      <td>GPA</td>\n      <td>878245368</td>\n      <td>18446744072637683192</td>\n      <td>4034</td>\n    </tr>\n  </tbody>\n</table>\n<p>1844140 rows × 6 columns</p>\n</div>"
     },
     "metadata": {},
     "execution_count": 4
    }
   ],
   "source": [
    "original_dataset = pd.concat([pd.read_csv(\"../로그 데이터/GEMM_STREAM/GEMM_STREAM/gemm_stream_generic_generic2_{}.csv\".format(i), dtype=np.object) for i in range(1, 10)], axis=0)\n",
    "original_dataset = original_dataset[original_dataset[\"vmid\"] == '4034']\n",
    "original_dataset"
   ]
  },
  {
   "cell_type": "code",
   "execution_count": 5,
   "metadata": {},
   "outputs": [
    {
     "output_type": "execute_result",
     "data": {
      "text/plain": [
       "               gpa                   rip\n",
       "0        988827648  18446744072452043863\n",
       "1        705122304  18446744072452043863\n",
       "2        705122304  18446744072452043863\n",
       "3       1227321344  18446744072452043863\n",
       "4       1227321344  18446744072452043863\n",
       "...            ...                   ...\n",
       "407190   253842912  18446744072451347936\n",
       "407191   878240226  18446744072637686242\n",
       "407192   878245255  18446744072637683079\n",
       "407193   878245319  18446744072637683143\n",
       "407194   878245368  18446744072637683192\n",
       "\n",
       "[1844140 rows x 2 columns]"
      ],
      "text/html": "<div>\n<style scoped>\n    .dataframe tbody tr th:only-of-type {\n        vertical-align: middle;\n    }\n\n    .dataframe tbody tr th {\n        vertical-align: top;\n    }\n\n    .dataframe thead th {\n        text-align: right;\n    }\n</style>\n<table border=\"1\" class=\"dataframe\">\n  <thead>\n    <tr style=\"text-align: right;\">\n      <th></th>\n      <th>gpa</th>\n      <th>rip</th>\n    </tr>\n  </thead>\n  <tbody>\n    <tr>\n      <th>0</th>\n      <td>988827648</td>\n      <td>18446744072452043863</td>\n    </tr>\n    <tr>\n      <th>1</th>\n      <td>705122304</td>\n      <td>18446744072452043863</td>\n    </tr>\n    <tr>\n      <th>2</th>\n      <td>705122304</td>\n      <td>18446744072452043863</td>\n    </tr>\n    <tr>\n      <th>3</th>\n      <td>1227321344</td>\n      <td>18446744072452043863</td>\n    </tr>\n    <tr>\n      <th>4</th>\n      <td>1227321344</td>\n      <td>18446744072452043863</td>\n    </tr>\n    <tr>\n      <th>...</th>\n      <td>...</td>\n      <td>...</td>\n    </tr>\n    <tr>\n      <th>407190</th>\n      <td>253842912</td>\n      <td>18446744072451347936</td>\n    </tr>\n    <tr>\n      <th>407191</th>\n      <td>878240226</td>\n      <td>18446744072637686242</td>\n    </tr>\n    <tr>\n      <th>407192</th>\n      <td>878245255</td>\n      <td>18446744072637683079</td>\n    </tr>\n    <tr>\n      <th>407193</th>\n      <td>878245319</td>\n      <td>18446744072637683143</td>\n    </tr>\n    <tr>\n      <th>407194</th>\n      <td>878245368</td>\n      <td>18446744072637683192</td>\n    </tr>\n  </tbody>\n</table>\n<p>1844140 rows × 2 columns</p>\n</div>"
     },
     "metadata": {},
     "execution_count": 5
    }
   ],
   "source": [
    "original_dataset = original_dataset[[\"gpa\", \"rip\"]].dropna()       # rip for PCs\n",
    "original_dataset"
   ]
  },
  {
   "cell_type": "markdown",
   "metadata": {},
   "source": [
    "## Dataset Processing Functions"
   ]
  },
  {
   "cell_type": "code",
   "execution_count": 6,
   "metadata": {},
   "outputs": [],
   "source": [
    "class CalculateDelta(TransformerMixin):\n",
    "    def __init__(self):\n",
    "        pass\n",
    "\n",
    "    def fit(self, X, y=None):\n",
    "        return self\n",
    "        \n",
    "    def transform(self, X, y=None):\n",
    "        X_transformed = X[:-1] - X[1:]\n",
    "        # In case of unsigned types, change its type to string type\n",
    "        if X_transformed.dtype in [np.uint8, np.uint16, np.uint32, np.uint64]:\n",
    "            X_transformed = X_transformed.astype(np.string_)\n",
    "        return X_transformed\n",
    "\n",
    "    def inverse_transform(self, X, y=None):     # Just for test_pipeline.inverse_transform()\n",
    "        return X"
   ]
  },
  {
   "cell_type": "code",
   "execution_count": 7,
   "metadata": {},
   "outputs": [],
   "source": [
    "class NoiseTokenizer(TransformerMixin):\n",
    "    def __init__(self, minimum_category_occurence=2, oov_token=-1):        \n",
    "        self.minimum_category_occurence = minimum_category_occurence\n",
    "        self.oov_token = oov_token\n",
    "    \n",
    "    def fit(self, X, y=None):\n",
    "        if X.dtype == np.string_:\n",
    "            self.oov_token = str(self.oov_token)\n",
    "\n",
    "        mask = (pd.Series(X).value_counts() <= self.minimum_category_occurence)\n",
    "        noise_index = np.where(np.isin(X, mask.index[mask == True]))[0]\n",
    "    \n",
    "        X[noise_index] = self.oov_token\n",
    "        return self\n",
    "    \n",
    "    def transform(self, X, y=None):\n",
    "        return X\n",
    "\n",
    "    def inverse_transform(self, X, y=None):\n",
    "        return X"
   ]
  },
  {
   "cell_type": "code",
   "execution_count": 8,
   "metadata": {},
   "outputs": [],
   "source": [
    "class SparseCategoryEncoder(BaseEstimator, TransformerMixin):\n",
    "    def __init__(self, oov_token=-1):\n",
    "        self.oov_token = oov_token\n",
    "\n",
    "    def fit(self, X, y=None):\n",
    "        X_counts = pd.Series(X).value_counts()\n",
    "        self.vocab_size = len(X_counts)\n",
    "        self.word_index = X_counts.index\n",
    "        \n",
    "        if X.dtype in [np.dtype(\"S\" + str(i)) for i in range(24)]:  # X.dtype == |S{0~24}\n",
    "            # As np.string_ type is byte type, not str(), need to be decoded.\n",
    "            self.vocabulary = {X_counts.index[i].decode():i for i in range(self.vocab_size)}\n",
    "        else:\n",
    "            self.vocabulary = {X_counts.index[i]:i for i in range(self.vocab_size)}\n",
    "        return self\n",
    "    \n",
    "    def transform(self, X, y=None):\n",
    "        X_transformed = []\n",
    "        if X.dtype in [np.dtype(\"S\" + str(i)) for i in range(24)]:\n",
    "            self.oov_token = str(self.oov_token)\n",
    "            for i in range(len(X)):\n",
    "                if X[i] in self.word_index:\n",
    "                    X_transformed.append(self.vocabulary[X[i].decode()])\n",
    "                else:\n",
    "                    X_transformed.append(self.vocabulary[self.oov_token])\n",
    "        else:\n",
    "            for i in range(len(X)):\n",
    "                if X[i] in self.word_index:\n",
    "                    X_transformed.append(self.vocabulary[X[i]])\n",
    "                else:\n",
    "                    X_transformed.append(self.vocabulary[self.oov_token])\n",
    "\n",
    "        return np.array(X_transformed)\n",
    "\n",
    "    def inverse_transform(self, X, y=None):\n",
    "        return np.array([self.word_index[X[i]] for i in range(len(X))])"
   ]
  },
  {
   "cell_type": "markdown",
   "metadata": {},
   "source": [
    "## Process Train/Validation Dataset"
   ]
  },
  {
   "cell_type": "code",
   "execution_count": 9,
   "metadata": {},
   "outputs": [],
   "source": [
    "# Train / Val / Test Ratio : 70% / 15% / 15%\n",
    "train_val_set, test_set = train_test_split(original_dataset, test_size=0.15, shuffle=False)\n",
    "#train_set, val_set = train_test_split(train_val_set, test_size=0.2, shuffle=False)"
   ]
  },
  {
   "cell_type": "code",
   "execution_count": 10,
   "metadata": {},
   "outputs": [],
   "source": [
    "train_val_gpa = train_val_set[\"gpa\"].values.astype(np.int64)\n",
    "train_val_rip = train_val_set[\"rip\"].values.astype(np.uint64)      # As uint64 not exists in pandas\n",
    "\n",
    "test_gpa = test_set[\"gpa\"].values.astype(np.int64)\n",
    "test_rip = test_set[\"rip\"].values.astype(np.uint64)      # As uint64 not exists in pandas"
   ]
  },
  {
   "cell_type": "code",
   "execution_count": 11,
   "metadata": {},
   "outputs": [],
   "source": [
    "gpa_train_pipeline = Pipeline([\n",
    "    ('calculate_delta', CalculateDelta()),\n",
    "    ('noise_tokenizer', NoiseTokenizer(minimum_category_occurence=gpa_threshold)),\n",
    "    ('sparse_category_encoder', SparseCategoryEncoder())\n",
    "])\n",
    "\n",
    "rip_train_pipeline = Pipeline([\n",
    "    ('calculate_delta', CalculateDelta()),\n",
    "    ('noise_tokenizer', NoiseTokenizer(minimum_category_occurence=rip_threshold)),\n",
    "    ('sparse_category_encoder', SparseCategoryEncoder())\n",
    "])"
   ]
  },
  {
   "source": [
    "processed_train_val_gpa = gpa_train_pipeline.fit_transform(train_val_gpa.copy())\n",
    "processed_train_val_gpa"
   ],
   "cell_type": "code",
   "metadata": {},
   "execution_count": 12,
   "outputs": [
    {
     "output_type": "execute_result",
     "data": {
      "text/plain": [
       "array([1, 0, 1, ..., 0, 1, 0])"
      ]
     },
     "metadata": {},
     "execution_count": 12
    }
   ]
  },
  {
   "cell_type": "code",
   "execution_count": 13,
   "metadata": {
    "tags": []
   },
   "outputs": [
    {
     "output_type": "execute_result",
     "data": {
      "text/plain": [
       "array([0, 0, 0, ..., 0, 0, 0])"
      ]
     },
     "metadata": {},
     "execution_count": 13
    }
   ],
   "source": [
    "processed_train_val_rip = rip_train_pipeline.fit_transform(train_val_rip.copy())\n",
    "processed_train_val_rip"
   ]
  },
  {
   "cell_type": "code",
   "execution_count": 14,
   "metadata": {},
   "outputs": [
    {
     "output_type": "execute_result",
     "data": {
      "text/plain": [
       "(0      650130\n",
       " 1      634931\n",
       " 2      154000\n",
       " 3       10662\n",
       " 4       10661\n",
       "         ...  \n",
       " 241        37\n",
       " 236        37\n",
       " 235        37\n",
       " 234        37\n",
       " 242        37\n",
       " Length: 243, dtype: int64,\n",
       " 0       1303291\n",
       " 1         27937\n",
       " 2         11004\n",
       " 3         10625\n",
       " 4         10558\n",
       "          ...   \n",
       " 2306          4\n",
       " 2688          4\n",
       " 2689          4\n",
       " 2821          4\n",
       " 2499          4\n",
       " Length: 2825, dtype: int64)"
      ]
     },
     "metadata": {},
     "execution_count": 14
    }
   ],
   "source": [
    "pd.Series(processed_train_val_gpa).value_counts(), pd.Series(processed_train_val_rip).value_counts()"
   ]
  },
  {
   "cell_type": "code",
   "execution_count": 15,
   "metadata": {},
   "outputs": [
    {
     "output_type": "execute_result",
     "data": {
      "text/plain": [
       "(43    11\n",
       " 40    11\n",
       " 37     9\n",
       " 48     9\n",
       " 41     8\n",
       " 38     7\n",
       " 46     5\n",
       " 45     5\n",
       " 42     5\n",
       " 67     4\n",
       " dtype: int64,\n",
       " 4     580\n",
       " 5     332\n",
       " 6     265\n",
       " 7     179\n",
       " 8     155\n",
       " 9     128\n",
       " 10    116\n",
       " 11    103\n",
       " 13     75\n",
       " 12     59\n",
       " dtype: int64)"
      ]
     },
     "metadata": {},
     "execution_count": 15
    }
   ],
   "source": [
    "pd.Series(processed_train_val_gpa).value_counts().value_counts()[:10], pd.Series(processed_train_val_rip).value_counts().value_counts()[:10]"
   ]
  },
  {
   "cell_type": "code",
   "execution_count": 16,
   "metadata": {},
   "outputs": [],
   "source": [
    "processed_train_gpa, processed_val_gpa = train_test_split(processed_train_val_gpa, test_size=0.2, shuffle=False)\n",
    "processed_train_rip, processed_val_rip = train_test_split(processed_train_val_rip, test_size=0.2, shuffle=False)"
   ]
  },
  {
   "cell_type": "code",
   "execution_count": 17,
   "metadata": {},
   "outputs": [
    {
     "output_type": "execute_result",
     "data": {
      "text/plain": [
       "((1254014,), (313504,), (1254014,), (313504,))"
      ]
     },
     "metadata": {},
     "execution_count": 17
    }
   ],
   "source": [
    "processed_train_gpa.shape, processed_val_gpa.shape, processed_train_rip.shape, processed_val_rip.shape  # check "
   ]
  },
  {
   "cell_type": "code",
   "execution_count": 18,
   "metadata": {},
   "outputs": [],
   "source": [
    "train_gpa = train_val_gpa[:processed_train_gpa.shape[0]+1]\n",
    "val_gpa = train_val_gpa[processed_train_gpa.shape[0]:]\n",
    "\n",
    "train_rip = train_val_rip[:processed_train_rip.shape[0]+1]\n",
    "val_rip = train_val_rip[processed_train_rip.shape[0]:]"
   ]
  },
  {
   "cell_type": "code",
   "execution_count": 19,
   "metadata": {},
   "outputs": [
    {
     "output_type": "execute_result",
     "data": {
      "text/plain": [
       "((1254015,), (313505,), (1254015,), (313505,))"
      ]
     },
     "metadata": {},
     "execution_count": 19
    }
   ],
   "source": [
    "train_gpa.shape, val_gpa.shape, train_rip.shape, val_rip.shape"
   ]
  },
  {
   "source": [
    "## Process Test Dataset"
   ],
   "cell_type": "markdown",
   "metadata": {}
  },
  {
   "cell_type": "code",
   "execution_count": 20,
   "metadata": {},
   "outputs": [
    {
     "output_type": "execute_result",
     "data": {
      "text/plain": [
       "array([ 0,  1,  0, ..., 18, 13, 14])"
      ]
     },
     "metadata": {},
     "execution_count": 20
    }
   ],
   "source": [
    "processed_test_gpa = gpa_train_pipeline.transform(test_gpa)\n",
    "processed_test_gpa"
   ]
  },
  {
   "cell_type": "code",
   "execution_count": 21,
   "metadata": {},
   "outputs": [
    {
     "output_type": "execute_result",
     "data": {
      "text/plain": [
       "array([ 0,  0,  0, ..., 41, 34, 33])"
      ]
     },
     "metadata": {},
     "execution_count": 21
    }
   ],
   "source": [
    "processed_test_rip = rip_train_pipeline.transform(test_rip)\n",
    "processed_test_rip"
   ]
  },
  {
   "cell_type": "code",
   "execution_count": 22,
   "metadata": {},
   "outputs": [
    {
     "output_type": "execute_result",
     "data": {
      "text/plain": [
       "{'0': 0,\n",
       " '-1': 1,\n",
       " '94268222548486': 2,\n",
       " '18446649805487003130': 3,\n",
       " '333': 4,\n",
       " '18446744073709551579': 5,\n",
       " '37': 6,\n",
       " '18446744073709551587': 7,\n",
       " '18446649485997979380': 8,\n",
       " '94587711572236': 9}"
      ]
     },
     "metadata": {},
     "execution_count": 22
    }
   ],
   "source": [
    "dict(list(rip_train_pipeline[\"sparse_category_encoder\"].vocabulary.items())[:10])"
   ]
  },
  {
   "source": [
    "## Concat GPA and RIP"
   ],
   "cell_type": "markdown",
   "metadata": {}
  },
  {
   "cell_type": "code",
   "execution_count": 23,
   "metadata": {},
   "outputs": [
    {
     "output_type": "execute_result",
     "data": {
      "text/plain": [
       "(array([[9.88827648e+08, 1.84467441e+19],\n",
       "        [7.05122304e+08, 1.84467441e+19],\n",
       "        [7.05122304e+08, 1.84467441e+19],\n",
       "        ...,\n",
       "        [4.76680192e+08, 9.42669650e+13],\n",
       "        [4.42085376e+08, 9.42669650e+13],\n",
       "        [4.42085376e+08, 9.42669650e+13]]),\n",
       " array([[4.42085376e+08, 9.42669650e+13],\n",
       "        [3.78806272e+08, 9.42669650e+13],\n",
       "        [3.78806272e+08, 9.42669650e+13],\n",
       "        ...,\n",
       "        [1.60419430e+09, 1.84467441e+19],\n",
       "        [1.43124070e+09, 1.84467441e+19],\n",
       "        [1.43124070e+09, 1.84467441e+19]]),\n",
       " array([[1.40674253e+09, 1.84467441e+19],\n",
       "        [1.40674253e+09, 1.84467441e+19],\n",
       "        [1.62596864e+09, 1.84467441e+19],\n",
       "        ...,\n",
       "        [8.78245255e+08, 1.84467441e+19],\n",
       "        [8.78245319e+08, 1.84467441e+19],\n",
       "        [8.78245368e+08, 1.84467441e+19]]))"
      ]
     },
     "metadata": {},
     "execution_count": 23
    }
   ],
   "source": [
    "train_set = np.c_[train_gpa, train_rip]\n",
    "val_set = np.c_[val_gpa, val_rip]\n",
    "test_set = np.c_[test_gpa, test_rip]\n",
    "\n",
    "processed_train_set = np.c_[processed_train_gpa, processed_train_rip]\n",
    "processed_val_set = np.c_[processed_val_gpa, processed_val_rip]\n",
    "processed_test_set = np.c_[processed_test_gpa, processed_test_rip]\n",
    "train_set, val_set, test_set"
   ]
  },
  {
   "cell_type": "code",
   "execution_count": 24,
   "metadata": {},
   "outputs": [
    {
     "output_type": "execute_result",
     "data": {
      "text/plain": [
       "                  gpa           rip\n",
       "0        9.888276e+08  1.844674e+19\n",
       "1        7.051223e+08  1.844674e+19\n",
       "2        7.051223e+08  1.844674e+19\n",
       "3        1.227321e+09  1.844674e+19\n",
       "4        1.227321e+09  1.844674e+19\n",
       "...               ...           ...\n",
       "1254010  4.129546e+08  9.426697e+13\n",
       "1254011  4.766802e+08  9.426697e+13\n",
       "1254012  4.766802e+08  9.426697e+13\n",
       "1254013  4.420854e+08  9.426697e+13\n",
       "1254014  4.420854e+08  9.426697e+13\n",
       "\n",
       "[1254015 rows x 2 columns]"
      ],
      "text/html": "<div>\n<style scoped>\n    .dataframe tbody tr th:only-of-type {\n        vertical-align: middle;\n    }\n\n    .dataframe tbody tr th {\n        vertical-align: top;\n    }\n\n    .dataframe thead th {\n        text-align: right;\n    }\n</style>\n<table border=\"1\" class=\"dataframe\">\n  <thead>\n    <tr style=\"text-align: right;\">\n      <th></th>\n      <th>gpa</th>\n      <th>rip</th>\n    </tr>\n  </thead>\n  <tbody>\n    <tr>\n      <th>0</th>\n      <td>9.888276e+08</td>\n      <td>1.844674e+19</td>\n    </tr>\n    <tr>\n      <th>1</th>\n      <td>7.051223e+08</td>\n      <td>1.844674e+19</td>\n    </tr>\n    <tr>\n      <th>2</th>\n      <td>7.051223e+08</td>\n      <td>1.844674e+19</td>\n    </tr>\n    <tr>\n      <th>3</th>\n      <td>1.227321e+09</td>\n      <td>1.844674e+19</td>\n    </tr>\n    <tr>\n      <th>4</th>\n      <td>1.227321e+09</td>\n      <td>1.844674e+19</td>\n    </tr>\n    <tr>\n      <th>...</th>\n      <td>...</td>\n      <td>...</td>\n    </tr>\n    <tr>\n      <th>1254010</th>\n      <td>4.129546e+08</td>\n      <td>9.426697e+13</td>\n    </tr>\n    <tr>\n      <th>1254011</th>\n      <td>4.766802e+08</td>\n      <td>9.426697e+13</td>\n    </tr>\n    <tr>\n      <th>1254012</th>\n      <td>4.766802e+08</td>\n      <td>9.426697e+13</td>\n    </tr>\n    <tr>\n      <th>1254013</th>\n      <td>4.420854e+08</td>\n      <td>9.426697e+13</td>\n    </tr>\n    <tr>\n      <th>1254014</th>\n      <td>4.420854e+08</td>\n      <td>9.426697e+13</td>\n    </tr>\n  </tbody>\n</table>\n<p>1254015 rows × 2 columns</p>\n</div>"
     },
     "metadata": {},
     "execution_count": 24
    }
   ],
   "source": [
    "train_set = pd.DataFrame(train_set, columns=[\"gpa\", \"rip\"], index=None)\n",
    "val_set = pd.DataFrame(val_set, columns=[\"gpa\", \"rip\"], index=None)\n",
    "test_set = pd.DataFrame(test_set, columns=[\"gpa\", \"rip\"], index=None)\n",
    "\n",
    "processed_train_set = pd.DataFrame(processed_train_set, columns=[\"gpa\", \"rip\"], index=None)\n",
    "processed_val_set = pd.DataFrame(processed_val_set, columns=[\"gpa\", \"rip\"], index=None)\n",
    "processed_test_set = pd.DataFrame(processed_test_set, columns=[\"gpa\", \"rip\"], index=None)\n",
    "train_set"
   ]
  },
  {
   "cell_type": "markdown",
   "metadata": {},
   "source": [
    "## Save Processed Datasets"
   ]
  },
  {
   "cell_type": "code",
   "execution_count": 25,
   "metadata": {},
   "outputs": [],
   "source": [
    "# Original \n",
    "train_set.to_csv(\"data/{}_train_set_original.csv\".format(model_name), index=None)\n",
    "val_set.to_csv(\"data/{}_val_set_original.csv\".format(model_name), index=None)\n",
    "test_set.to_csv(\"data/{}_test_set_original.csv\".format(model_name), index=None)\n",
    "\n",
    "# Processed \n",
    "processed_train_set.to_csv(\"data/{}_train_set.csv\".format(model_name), index=None)\n",
    "processed_val_set.to_csv(\"data/{}_val_set.csv\".format(model_name), index=None)\n",
    "processed_test_set.to_csv(\"data/{}_test_set.csv\".format(model_name), index=None)"
   ]
  },
  {
   "source": [
    "## Save Pipeline/Statics"
   ],
   "cell_type": "markdown",
   "metadata": {}
  },
  {
   "source": [
    "with open(\"static/pipeline_gpa.pkl\", 'wb') as f:\n",
    "    dill.dump(gpa_train_pipeline, f)\n",
    "\n",
    "with open(\"static/pipeline_rip.pkl\", 'wb') as f:\n",
    "    dill.dump(rip_train_pipeline, f)"
   ],
   "cell_type": "code",
   "metadata": {},
   "execution_count": 26,
   "outputs": []
  },
  {
   "source": [
    "np.savetxt(\"static/vocabulary_gpa.csv\", np.array(list(gpa_train_pipeline[\"sparse_category_encoder\"].vocabulary.keys())), fmt=\"%d\", delimiter=\"\\n\")\n",
    "\n",
    "np.savetxt(\"static/vocabulary_rip.csv\", np.array(list(rip_train_pipeline[\"sparse_category_encoder\"].vocabulary.keys())), fmt=\"%s\", delimiter=\"\\n\")"
   ],
   "cell_type": "code",
   "metadata": {},
   "execution_count": 27,
   "outputs": []
  },
  {
   "cell_type": "code",
   "execution_count": 28,
   "metadata": {},
   "outputs": [
    {
     "output_type": "execute_result",
     "data": {
      "text/plain": [
       "{0: 0,\n",
       " -1: 1,\n",
       " -4096: 2,\n",
       " -643931498: 3,\n",
       " -643931494: 4,\n",
       " 643931494: 5,\n",
       " 643931498: 6,\n",
       " -643931490: 7,\n",
       " 643931490: 8,\n",
       " 333: 9,\n",
       " -12288: 10,\n",
       " -8192: 11,\n",
       " -333: 12,\n",
       " -64: 13,\n",
       " -49: 14,\n",
       " 638771200: 15,\n",
       " -638771200: 16,\n",
       " -24576: 17,\n",
       " -5029: 18,\n",
       " -16384: 19}"
      ]
     },
     "metadata": {},
     "execution_count": 28
    }
   ],
   "source": [
    "dict(list(gpa_train_pipeline[\"sparse_category_encoder\"].vocabulary.items())[:20])"
   ]
  },
  {
   "cell_type": "code",
   "execution_count": 29,
   "metadata": {},
   "outputs": [
    {
     "output_type": "execute_result",
     "data": {
      "text/plain": [
       "{'0': 0,\n",
       " '-1': 1,\n",
       " '94268222548486': 2,\n",
       " '18446649805487003130': 3,\n",
       " '333': 4,\n",
       " '18446744073709551579': 5,\n",
       " '37': 6,\n",
       " '18446744073709551587': 7,\n",
       " '18446649485997979380': 8,\n",
       " '94587711572236': 9,\n",
       " '29': 10,\n",
       " '18446649485997979597': 11,\n",
       " '94587711572019': 12,\n",
       " '94268222548265': 13,\n",
       " '18446744073709551612': 14,\n",
       " '18446649805487003351': 15,\n",
       " '4': 16,\n",
       " '18446744073703730794': 17,\n",
       " '5820489': 18,\n",
       " '94587711572486': 19}"
      ]
     },
     "metadata": {},
     "execution_count": 29
    }
   ],
   "source": [
    "dict(list(rip_train_pipeline[\"sparse_category_encoder\"].vocabulary.items())[:20])"
   ]
  },
  {
   "cell_type": "code",
   "execution_count": 30,
   "metadata": {},
   "outputs": [
    {
     "output_type": "execute_result",
     "data": {
      "text/plain": [
       "(243, 2825)"
      ]
     },
     "metadata": {},
     "execution_count": 30
    }
   ],
   "source": [
    "gpa_train_pipeline[\"sparse_category_encoder\"].vocab_size, rip_train_pipeline[\"sparse_category_encoder\"].vocab_size"
   ]
  },
  {
   "cell_type": "code",
   "execution_count": 30,
   "metadata": {},
   "outputs": [],
   "source": [
    "\n"
   ]
  }
 ]
}