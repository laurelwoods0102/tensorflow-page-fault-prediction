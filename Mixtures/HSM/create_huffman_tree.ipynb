{
 "metadata": {
  "language_info": {
   "codemirror_mode": {
    "name": "ipython",
    "version": 3
   },
   "file_extension": ".py",
   "mimetype": "text/x-python",
   "name": "python",
   "nbconvert_exporter": "python",
   "pygments_lexer": "ipython3",
   "version": "3.7.6-final"
  },
  "orig_nbformat": 2,
  "kernelspec": {
   "name": "python3",
   "display_name": "Python 3"
  }
 },
 "nbformat": 4,
 "nbformat_minor": 2,
 "cells": [
  {
   "cell_type": "code",
   "execution_count": 1,
   "metadata": {},
   "outputs": [],
   "source": [
    "import numpy as np\n",
    "import pandas as pd\n",
    "import json\n",
    "import tqdm\n",
    "from queue import PriorityQueue"
   ]
  },
  {
   "cell_type": "code",
   "execution_count": 2,
   "metadata": {},
   "outputs": [],
   "source": [
    "#from copy import copy\n",
    "\n",
    "class TreeTools:\n",
    "    def __init__(self):\n",
    "        pass\n",
    "                \n",
    "    def _get_subtrees(self, tree):\n",
    "        yield tree\n",
    "        for subtree in tree:\n",
    "            if type(subtree) == list:\n",
    "                for x in self._get_subtrees(subtree):\n",
    "                    yield x\n",
    "\n",
    "    # Returns pairs of paths and leaves of a tree\n",
    "    def _get_leaves_paths(self, tree):\n",
    "        for i, subtree in enumerate(tree):\n",
    "            if type(subtree) == list:\n",
    "                for path, value in self._get_leaves_paths(subtree):\n",
    "                    yield [i] + path, value\n",
    "            else:\n",
    "                yield [i], subtree\n",
    "    \n",
    "    # Returns the number of nodes in a tree (not including root)\n",
    "    def _count_nodes(self, tree):\n",
    "        size = 0\n",
    "        for node in tree:\n",
    "            if type(node) == list:\n",
    "                size += 1 + self._count_nodes(node)\n",
    "        return size\n",
    "\n",
    "\n",
    "    # Returns all the nodes in a path\n",
    "    def _get_nodes(self, tree, path):\n",
    "        next_node = 0\n",
    "        nodes = []\n",
    "        for decision in path:\n",
    "            nodes.append(next_node)\n",
    "            next_node += 1 + self._count_nodes(tree[:decision])\n",
    "            tree = tree[decision]\n",
    "        return nodes\n",
    "\n",
    "    def _value_to_path_nodes_dict(self, tree):\n",
    "        value_to_path_nodes_dict = {}\n",
    "        for path, value in tqdm.tqdm(self._get_leaves_paths(tree)):\n",
    "            nodes = self._get_nodes(tree, path)\n",
    "            #value_to_path_nodes_dict[value] = path, nodes\n",
    "            value_to_path_nodes_dict[int(value)] = path, nodes\n",
    "        return value_to_path_nodes_dict"
   ]
  },
  {
   "cell_type": "code",
   "execution_count": 3,
   "metadata": {},
   "outputs": [],
   "source": [
    "class Node(object):\n",
    "    '''\n",
    "    Wrapping List with Node class Since pythn PriorityQueue cannot recognize nested items in its input tuple.\n",
    "    '''\n",
    "    def __init__(self, symbol, freq, symbol_2=None):\n",
    "        if symbol_2:\n",
    "            self.symbol = [symbol, symbol_2]\n",
    "        else:\n",
    "            self.symbol = symbol\n",
    "        self.freq = freq\n",
    "\n",
    "    def __lt__(self, target):\n",
    "        if type(target) == Node:\n",
    "            return self.freq < target.freq\n",
    "        else:\n",
    "            return self.freq < target\n",
    "    \n",
    "    def __gt__(self, target):\n",
    "        return not self.__lt__(target)"
   ]
  },
  {
   "cell_type": "code",
   "execution_count": 4,
   "metadata": {},
   "outputs": [],
   "source": [
    "def create_huffman_tree(input_dict):\n",
    "    '''\n",
    "    input : dictionary with {category:freq} pairs\n",
    "    NOTE : input dict must be ASCENDING order\n",
    "    '''\n",
    "    q = PriorityQueue()\n",
    "    nodes = list(input_dict.items())\n",
    "\n",
    "    for node in nodes:\n",
    "        q.put(Node(node[0], node[1]))\n",
    "\n",
    "    while q.qsize() > 1:\n",
    "        node_1 = q.get()\n",
    "        node_2 = q.get()\n",
    "        #print(node_1.symbol, node_1.freq)\n",
    "        #print(node_2.symbol, node_2.freq)\n",
    "        node = Node(node_1.symbol, node_1.freq + node_2.freq, node_2.symbol)\n",
    "        q.put(node)\n",
    "    return q.get().symbol"
   ]
  },
  {
   "cell_type": "code",
   "execution_count": 5,
   "metadata": {},
   "outputs": [],
   "source": [
    "train_set = np.genfromtxt(\"data/{}_train_set.csv\".format(\"SEG_Wavenet\"), delimiter=\"\\n\", dtype=np.int64)\n",
    "val_set = np.genfromtxt(\"data/{}_val_set.csv\".format(\"SEG_Wavenet\"), delimiter=\"\\n\", dtype=np.int64)"
   ]
  },
  {
   "cell_type": "code",
   "execution_count": 6,
   "metadata": {},
   "outputs": [
    {
     "output_type": "execute_result",
     "data": {
      "text/plain": [
       "array([  0,   0,   0, ..., 897, 242, 961], dtype=int64)"
      ]
     },
     "metadata": {},
     "execution_count": 6
    }
   ],
   "source": [
    "dataset = np.r_[train_set, val_set]\n",
    "dataset"
   ]
  },
  {
   "cell_type": "code",
   "execution_count": 7,
   "metadata": {},
   "outputs": [],
   "source": [
    "dataset_freq = pd.Series(dataset).value_counts(ascending=True).to_dict()"
   ]
  },
  {
   "cell_type": "code",
   "execution_count": 8,
   "metadata": {},
   "outputs": [
    {
     "output_type": "execute_result",
     "data": {
      "text/plain": [
       "0        45798\n",
       "1        26424\n",
       "2         6295\n",
       "3         1849\n",
       "4         1848\n",
       "         ...  \n",
       "15519        3\n",
       "13470        3\n",
       "15986        3\n",
       "14042        3\n",
       "15212        3\n",
       "Length: 16293, dtype: int64"
      ]
     },
     "metadata": {},
     "execution_count": 8
    }
   ],
   "source": [
    "pd.Series(dataset).value_counts()"
   ]
  },
  {
   "cell_type": "code",
   "execution_count": 9,
   "metadata": {},
   "outputs": [],
   "source": [
    "## Due to unknown Bug, change category type from int to str, and revert to int when saving\n",
    "## Bug : Category 0 is removed during tree construction. (Priority is not the cause)\n",
    "\n",
    "dataset_freq = {str(i):j for i, j in dataset_freq.items()}"
   ]
  },
  {
   "cell_type": "code",
   "execution_count": 10,
   "metadata": {},
   "outputs": [],
   "source": [
    "tree = create_huffman_tree(dataset_freq)"
   ]
  },
  {
   "cell_type": "code",
   "execution_count": 11,
   "metadata": {},
   "outputs": [
    {
     "output_type": "stream",
     "name": "stdout",
     "text": [
      "Number of nodes in the tree: 16291\nall nodes in path [0, 0, 0, 0]:\n\t 0\n\t 5436\n\t 8746\n\t 8747\nall nodes in path [1, 0]:\n\t 0\n\t 5436\n"
     ]
    }
   ],
   "source": [
    "tree_tools = TreeTools()    \n",
    "'''\n",
    "print('All subtrees:')      # Num of All subtrees : 55276\n",
    "for subtree in tree_tools._get_subtrees(tree):\n",
    "    print('\\t {} (Len : {})'.format(subtree, len(subtree)))\n",
    "\n",
    "print('All paths and leaves:')\n",
    "for subtree in tree_tools._get_leaves_paths(tree):\n",
    "    print('\\t',subtree)\n",
    "'''\n",
    "num_nodes = tree_tools._count_nodes(tree)\n",
    "print('Number of nodes in the tree:', num_nodes) # except root\n",
    "\n",
    "print('all nodes in path [0, 0, 0, 0]:')\n",
    "for nodes in tree_tools._get_nodes(tree, [1, 1, 0, 0]):\n",
    "    print('\\t',nodes)\n",
    "\n",
    "print('all nodes in path [1, 0]:')\n",
    "for nodes in tree_tools._get_nodes(tree, [1, 0]):\n",
    "    print('\\t',nodes)"
   ]
  },
  {
   "cell_type": "code",
   "execution_count": 12,
   "metadata": {},
   "outputs": [
    {
     "output_type": "stream",
     "name": "stderr",
     "text": [
      "16293it [00:44, 362.54it/s]\n"
     ]
    }
   ],
   "source": [
    "# mapping_dict structure : \n",
    "# category : [path, nodes]\n",
    "tree_mapping = tree_tools._value_to_path_nodes_dict(tree)"
   ]
  },
  {
   "cell_type": "code",
   "execution_count": 13,
   "metadata": {},
   "outputs": [
    {
     "output_type": "execute_result",
     "data": {
      "text/plain": [
       "{2192: ([0, 0, 0, 0, 0, 0, 0, 0, 0, 0, 0, 0, 0, 0],\n",
       "  [0, 1, 2, 3, 4, 5, 6, 7, 8, 9, 10, 11, 12, 13]),\n",
       " 2396: ([0, 0, 0, 0, 0, 0, 0, 0, 0, 0, 0, 0, 0, 1],\n",
       "  [0, 1, 2, 3, 4, 5, 6, 7, 8, 9, 10, 11, 12, 13]),\n",
       " 2647: ([0, 0, 0, 0, 0, 0, 0, 0, 0, 0, 0, 0, 1, 0],\n",
       "  [0, 1, 2, 3, 4, 5, 6, 7, 8, 9, 10, 11, 12, 14]),\n",
       " 1579: ([0, 0, 0, 0, 0, 0, 0, 0, 0, 0, 0, 0, 1, 1],\n",
       "  [0, 1, 2, 3, 4, 5, 6, 7, 8, 9, 10, 11, 12, 14]),\n",
       " 2247: ([0, 0, 0, 0, 0, 0, 0, 0, 0, 0, 0, 1, 0, 0],\n",
       "  [0, 1, 2, 3, 4, 5, 6, 7, 8, 9, 10, 11, 15, 16])}"
      ]
     },
     "metadata": {},
     "execution_count": 13
    }
   ],
   "source": [
    "dict(list(tree_mapping.items())[:5])"
   ]
  },
  {
   "cell_type": "code",
   "execution_count": 14,
   "metadata": {},
   "outputs": [
    {
     "output_type": "execute_result",
     "data": {
      "text/plain": [
       "16293"
      ]
     },
     "metadata": {},
     "execution_count": 14
    }
   ],
   "source": [
    "len(tree_mapping)"
   ]
  },
  {
   "cell_type": "code",
   "execution_count": 15,
   "metadata": {},
   "outputs": [
    {
     "output_type": "execute_result",
     "data": {
      "text/plain": [
       "([0, 1], [0, 1])"
      ]
     },
     "metadata": {},
     "execution_count": 15
    }
   ],
   "source": [
    "tree_mapping[0]"
   ]
  },
  {
   "source": [
    "## NOTE \n",
    "\n",
    "Number of all intermediate nodes = {num of leaves (=num of categories)} - 1  \n",
    "intermediate nodes index = \\[0 : {num of leaves (=num of categories)} - 1] (0 for root)"
   ],
   "cell_type": "markdown",
   "metadata": {}
  },
  {
   "source": [
    "## NOTICE\n",
    "\n",
    "JSON and Python Dictionary are different:\n",
    "    JSON saves key values as string, whereas Python Dictionary can save key values as int.  \n",
    "Thus, when load tree_mapping.json, need to convert its key to int."
   ],
   "cell_type": "markdown",
   "metadata": {}
  },
  {
   "source": [
    "import json\n",
    "\n",
    "with open(\"outputs/tree_mapping.json\", \"w\") as j:\n",
    "    json.dump(tree_mapping, j)"
   ],
   "cell_type": "markdown",
   "metadata": {}
  }
 ]
}