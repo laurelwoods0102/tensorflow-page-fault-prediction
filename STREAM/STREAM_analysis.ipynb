{
 "metadata": {
  "language_info": {
   "codemirror_mode": {
    "name": "ipython",
    "version": 3
   },
   "file_extension": ".py",
   "mimetype": "text/x-python",
   "name": "python",
   "nbconvert_exporter": "python",
   "pygments_lexer": "ipython3",
   "version": "3.7.6"
  },
  "orig_nbformat": 2,
  "kernelspec": {
   "name": "python376jvsc74a57bd0b3ba2566441a7c06988d0923437866b63cedc61552a5af99d1f4fb67d367b25f",
   "display_name": "Python 3.7.6 64-bit (conda)"
  }
 },
 "nbformat": 4,
 "nbformat_minor": 2,
 "cells": [
  {
   "cell_type": "code",
   "execution_count": 1,
   "metadata": {},
   "outputs": [],
   "source": [
    "import numpy as np\n",
    "import pandas as pd\n",
    "import json\n",
    "import dill         # 0.3.2\n",
    "from sklearn.base import BaseEstimator, TransformerMixin\n",
    "from sklearn.pipeline import Pipeline\n",
    "from sklearn.model_selection import train_test_split"
   ]
  },
  {
   "cell_type": "markdown",
   "metadata": {},
   "source": [
    "## Set Global/Environment Variables"
   ]
  },
  {
   "cell_type": "code",
   "execution_count": 2,
   "metadata": {},
   "outputs": [],
   "source": [
    "model_name = \"STREAM\""
   ]
  },
  {
   "cell_type": "markdown",
   "metadata": {},
   "source": [
    "## Load Dataset/Static Param List"
   ]
  },
  {
   "cell_type": "code",
   "execution_count": 3,
   "metadata": {},
   "outputs": [
    {
     "output_type": "execute_result",
     "data": {
      "text/plain": [
       "                   extra             time address_type         gpa  \\\n",
       "0       [336633.698810]   04:01:00:854206           PF   251797631   \n",
       "1       [336633.739463]   04:01:00:894857           PF  1007005696   \n",
       "2       [336633.867033]   04:01:01:022428           PF   906555392   \n",
       "3       [336633.901503]   04:01:01:056898           PF  1914261504   \n",
       "4       [336633.904886]   04:01:01:060282           PF   259330048   \n",
       "...                  ...              ...          ...         ...   \n",
       "180309   [ 1806.225725]   07:00:33:381360           PF   602140104   \n",
       "180310   [ 1806.225827]   07:00:33:381465           PF   597469140   \n",
       "180311   [ 1806.240176]   07:00:33:395810           PF   596315344   \n",
       "180312   [ 1806.240198]   07:00:33:395836           PF   597544452   \n",
       "180313   [ 1806.401068]   07:00:33:556702           PF   603197568   \n",
       "\n",
       "                         rip  vmid  \n",
       "0       18446744072449302655  4034  \n",
       "1       18446744072452043863  4034  \n",
       "2       18446744072452043863  4034  \n",
       "3       18446744072452043863  4034  \n",
       "4       18446744072452043863  4034  \n",
       "...                      ...   ...  \n",
       "180309       139790387006578  4034  \n",
       "180310  18446744072443263295  4034  \n",
       "180311  18446744072442219334  4034  \n",
       "180312  18446744072441579461  4034  \n",
       "180313       139675253067982  4034  \n",
       "\n",
       "[4157042 rows x 6 columns]"
      ],
      "text/html": "<div>\n<style scoped>\n    .dataframe tbody tr th:only-of-type {\n        vertical-align: middle;\n    }\n\n    .dataframe tbody tr th {\n        vertical-align: top;\n    }\n\n    .dataframe thead th {\n        text-align: right;\n    }\n</style>\n<table border=\"1\" class=\"dataframe\">\n  <thead>\n    <tr style=\"text-align: right;\">\n      <th></th>\n      <th>extra</th>\n      <th>time</th>\n      <th>address_type</th>\n      <th>gpa</th>\n      <th>rip</th>\n      <th>vmid</th>\n    </tr>\n  </thead>\n  <tbody>\n    <tr>\n      <th>0</th>\n      <td>[336633.698810]</td>\n      <td>04:01:00:854206</td>\n      <td>PF</td>\n      <td>251797631</td>\n      <td>18446744072449302655</td>\n      <td>4034</td>\n    </tr>\n    <tr>\n      <th>1</th>\n      <td>[336633.739463]</td>\n      <td>04:01:00:894857</td>\n      <td>PF</td>\n      <td>1007005696</td>\n      <td>18446744072452043863</td>\n      <td>4034</td>\n    </tr>\n    <tr>\n      <th>2</th>\n      <td>[336633.867033]</td>\n      <td>04:01:01:022428</td>\n      <td>PF</td>\n      <td>906555392</td>\n      <td>18446744072452043863</td>\n      <td>4034</td>\n    </tr>\n    <tr>\n      <th>3</th>\n      <td>[336633.901503]</td>\n      <td>04:01:01:056898</td>\n      <td>PF</td>\n      <td>1914261504</td>\n      <td>18446744072452043863</td>\n      <td>4034</td>\n    </tr>\n    <tr>\n      <th>4</th>\n      <td>[336633.904886]</td>\n      <td>04:01:01:060282</td>\n      <td>PF</td>\n      <td>259330048</td>\n      <td>18446744072452043863</td>\n      <td>4034</td>\n    </tr>\n    <tr>\n      <th>...</th>\n      <td>...</td>\n      <td>...</td>\n      <td>...</td>\n      <td>...</td>\n      <td>...</td>\n      <td>...</td>\n    </tr>\n    <tr>\n      <th>180309</th>\n      <td>[ 1806.225725]</td>\n      <td>07:00:33:381360</td>\n      <td>PF</td>\n      <td>602140104</td>\n      <td>139790387006578</td>\n      <td>4034</td>\n    </tr>\n    <tr>\n      <th>180310</th>\n      <td>[ 1806.225827]</td>\n      <td>07:00:33:381465</td>\n      <td>PF</td>\n      <td>597469140</td>\n      <td>18446744072443263295</td>\n      <td>4034</td>\n    </tr>\n    <tr>\n      <th>180311</th>\n      <td>[ 1806.240176]</td>\n      <td>07:00:33:395810</td>\n      <td>PF</td>\n      <td>596315344</td>\n      <td>18446744072442219334</td>\n      <td>4034</td>\n    </tr>\n    <tr>\n      <th>180312</th>\n      <td>[ 1806.240198]</td>\n      <td>07:00:33:395836</td>\n      <td>PF</td>\n      <td>597544452</td>\n      <td>18446744072441579461</td>\n      <td>4034</td>\n    </tr>\n    <tr>\n      <th>180313</th>\n      <td>[ 1806.401068]</td>\n      <td>07:00:33:556702</td>\n      <td>PF</td>\n      <td>603197568</td>\n      <td>139675253067982</td>\n      <td>4034</td>\n    </tr>\n  </tbody>\n</table>\n<p>4157042 rows × 6 columns</p>\n</div>"
     },
     "metadata": {},
     "execution_count": 3
    }
   ],
   "source": [
    "original_dataset = pd.concat([pd.read_csv(\"../로그 데이터/STREAM/STREAM/stream_4034_generic2_{}.csv\".format(i), dtype=np.object) for i in reversed(range(1, 11))], axis=0)\n",
    "original_dataset"
   ]
  },
  {
   "cell_type": "code",
   "execution_count": 4,
   "metadata": {},
   "outputs": [
    {
     "output_type": "execute_result",
     "data": {
      "text/plain": [
       "               gpa                   rip\n",
       "0        251797631  18446744072449302655\n",
       "1       1007005696  18446744072452043863\n",
       "2        906555392  18446744072452043863\n",
       "3       1914261504  18446744072452043863\n",
       "4        259330048  18446744072452043863\n",
       "...            ...                   ...\n",
       "180309   602140104       139790387006578\n",
       "180310   597469140  18446744072443263295\n",
       "180311   596315344  18446744072442219334\n",
       "180312   597544452  18446744072441579461\n",
       "180313   603197568       139675253067982\n",
       "\n",
       "[4156988 rows x 2 columns]"
      ],
      "text/html": "<div>\n<style scoped>\n    .dataframe tbody tr th:only-of-type {\n        vertical-align: middle;\n    }\n\n    .dataframe tbody tr th {\n        vertical-align: top;\n    }\n\n    .dataframe thead th {\n        text-align: right;\n    }\n</style>\n<table border=\"1\" class=\"dataframe\">\n  <thead>\n    <tr style=\"text-align: right;\">\n      <th></th>\n      <th>gpa</th>\n      <th>rip</th>\n    </tr>\n  </thead>\n  <tbody>\n    <tr>\n      <th>0</th>\n      <td>251797631</td>\n      <td>18446744072449302655</td>\n    </tr>\n    <tr>\n      <th>1</th>\n      <td>1007005696</td>\n      <td>18446744072452043863</td>\n    </tr>\n    <tr>\n      <th>2</th>\n      <td>906555392</td>\n      <td>18446744072452043863</td>\n    </tr>\n    <tr>\n      <th>3</th>\n      <td>1914261504</td>\n      <td>18446744072452043863</td>\n    </tr>\n    <tr>\n      <th>4</th>\n      <td>259330048</td>\n      <td>18446744072452043863</td>\n    </tr>\n    <tr>\n      <th>...</th>\n      <td>...</td>\n      <td>...</td>\n    </tr>\n    <tr>\n      <th>180309</th>\n      <td>602140104</td>\n      <td>139790387006578</td>\n    </tr>\n    <tr>\n      <th>180310</th>\n      <td>597469140</td>\n      <td>18446744072443263295</td>\n    </tr>\n    <tr>\n      <th>180311</th>\n      <td>596315344</td>\n      <td>18446744072442219334</td>\n    </tr>\n    <tr>\n      <th>180312</th>\n      <td>597544452</td>\n      <td>18446744072441579461</td>\n    </tr>\n    <tr>\n      <th>180313</th>\n      <td>603197568</td>\n      <td>139675253067982</td>\n    </tr>\n  </tbody>\n</table>\n<p>4156988 rows × 2 columns</p>\n</div>"
     },
     "metadata": {},
     "execution_count": 4
    }
   ],
   "source": [
    "original_dataset = original_dataset[[\"gpa\", \"rip\"]].dropna()       # rip for PCs\n",
    "original_dataset"
   ]
  },
  {
   "cell_type": "markdown",
   "metadata": {},
   "source": [
    "## Dataset Processing Functions"
   ]
  },
  {
   "cell_type": "code",
   "execution_count": 5,
   "metadata": {},
   "outputs": [],
   "source": [
    "class CalculateDelta(TransformerMixin):\n",
    "    def __init__(self):\n",
    "        pass\n",
    "\n",
    "    def fit(self, X, y=None):\n",
    "        return self\n",
    "        \n",
    "    def transform(self, X, y=None):\n",
    "        X_transformed = X[:-1] - X[1:]\n",
    "        # In case of unsigned types, change its type to string type\n",
    "        if X_transformed.dtype in [np.uint8, np.uint16, np.uint32, np.uint64]:\n",
    "            X_transformed = X_transformed.astype(np.string_)\n",
    "        return X_transformed\n",
    "\n",
    "    def inverse_transform(self, X, y=None):     # Just for test_pipeline.inverse_transform()\n",
    "        return X"
   ]
  },
  {
   "cell_type": "markdown",
   "metadata": {},
   "source": [
    "## Process Train/Validation Dataset"
   ]
  },
  {
   "cell_type": "code",
   "execution_count": 6,
   "metadata": {},
   "outputs": [],
   "source": [
    "# Train / Val / Test Ratio : 70% / 15% / 15%\n",
    "train_val_set, test_set = train_test_split(original_dataset, test_size=0.15, shuffle=False)\n",
    "#train_set, val_set = train_test_split(train_val_set, test_size=0.2, shuffle=False)"
   ]
  },
  {
   "cell_type": "code",
   "execution_count": 7,
   "metadata": {},
   "outputs": [],
   "source": [
    "train_val_gpa = train_val_set[\"gpa\"].values.astype(np.int64)\n",
    "train_val_rip = train_val_set[\"rip\"].values.astype(np.uint64)      # As uint64 not exists in pandas\n",
    "\n",
    "test_gpa = test_set[\"gpa\"].values.astype(np.int64)\n",
    "test_rip = test_set[\"rip\"].values.astype(np.uint64)      # As uint64 not exists in pandas"
   ]
  },
  {
   "cell_type": "code",
   "execution_count": 8,
   "metadata": {},
   "outputs": [],
   "source": [
    "calculate_delta = CalculateDelta()"
   ]
  },
  {
   "source": [
    "processed_train_val_gpa = calculate_delta.fit_transform(train_val_gpa.copy())\n",
    "processed_train_val_gpa"
   ],
   "cell_type": "code",
   "metadata": {},
   "execution_count": 9,
   "outputs": [
    {
     "output_type": "execute_result",
     "data": {
      "text/plain": [
       "array([ -755208065,   100450304, -1007706112, ...,   -31219712,\n",
       "          -8601600,   507019264], dtype=int64)"
      ]
     },
     "metadata": {},
     "execution_count": 9
    }
   ]
  },
  {
   "cell_type": "code",
   "execution_count": 10,
   "metadata": {
    "tags": []
   },
   "outputs": [
    {
     "output_type": "execute_result",
     "data": {
      "text/plain": [
       "array([b'18446744073706810408', b'0', b'0', ..., b'0', b'0', b'0'],\n",
       "      dtype='|S20')"
      ]
     },
     "metadata": {},
     "execution_count": 10
    }
   ],
   "source": [
    "processed_train_val_rip = calculate_delta.transform(train_val_rip)\n",
    "processed_train_val_rip"
   ]
  },
  {
   "cell_type": "code",
   "execution_count": 11,
   "metadata": {},
   "outputs": [
    {
     "output_type": "execute_result",
     "data": {
      "text/plain": [
       "(-4096          713760\n",
       "  0             405516\n",
       " -12288          36270\n",
       " -8192           21875\n",
       " -643931498       9063\n",
       "                 ...  \n",
       "  860061696          1\n",
       "  742146048          1\n",
       " -425086271          1\n",
       " -1042427904         1\n",
       "  3033688            1\n",
       " Length: 674207, dtype: int64,\n",
       " b'0'                       2591789\n",
       " b'18446744073709551579'      34063\n",
       " b'37'                        32504\n",
       " b'18446744073709551612'      28812\n",
       " b'4'                         28736\n",
       "                             ...   \n",
       " b'139723050761760'               1\n",
       " b'18446744073708997824'          1\n",
       " b'18446744073709547792'          1\n",
       " b'282921'                        1\n",
       " b'6484272'                       1\n",
       " Length: 49547, dtype: int64)"
      ]
     },
     "metadata": {},
     "execution_count": 11
    }
   ],
   "source": [
    "pd.Series(processed_train_val_gpa).value_counts(), pd.Series(processed_train_val_rip).value_counts()"
   ]
  },
  {
   "cell_type": "code",
   "execution_count": 12,
   "metadata": {},
   "outputs": [
    {
     "output_type": "execute_result",
     "data": {
      "text/plain": [
       "(1      385925\n",
       " 2      129019\n",
       " 3       58791\n",
       " 4       27044\n",
       " 5       13694\n",
       "         ...  \n",
       " 735         1\n",
       " 223         1\n",
       " 204         1\n",
       " 203         1\n",
       " 995         1\n",
       " Length: 264, dtype: int64,\n",
       " 1        37698\n",
       " 2         4610\n",
       " 3         1890\n",
       " 4         1120\n",
       " 5          703\n",
       "          ...  \n",
       " 5485         1\n",
       " 207          1\n",
       " 251          1\n",
       " 4377         1\n",
       " 34063        1\n",
       " Length: 375, dtype: int64)"
      ]
     },
     "metadata": {},
     "execution_count": 12
    }
   ],
   "source": [
    "# Index = Occurence | Column = Number of included categories\n",
    "pd.Series(processed_train_val_gpa).value_counts().value_counts(), pd.Series(processed_train_val_rip).value_counts().value_counts()"
   ]
  },
  {
   "source": [
    "## gpa : N / P ratio"
   ],
   "cell_type": "markdown",
   "metadata": {}
  },
  {
   "cell_type": "code",
   "execution_count": 13,
   "metadata": {},
   "outputs": [],
   "source": [
    "gpa_data = []\n",
    "for gpa_threshold in range(50):\n",
    "    row = []\n",
    "    \n",
    "    row.append(gpa_threshold)\n",
    "    if gpa_threshold == 0:\n",
    "        gpa_p = len(pd.Series(processed_train_val_gpa).value_counts())\n",
    "        previous_gpa_p = gpa_p\n",
    "        previous_accuracy = 0\n",
    "        previous_ratio = 0\n",
    "    else:\n",
    "        gpa_p = len(pd.Series(processed_train_val_gpa).value_counts()) - sum(pd.Series(processed_train_val_gpa).value_counts().value_counts().loc[list(range(1, gpa_threshold+1))].values) + 1\n",
    "    row.append(gpa_p)\n",
    "    row.append(previous_gpa_p - gpa_p)\n",
    "    previous_gpa_p = gpa_p\n",
    "    ratio = processed_train_val_gpa.shape[0] / gpa_p\n",
    "    row.append(ratio)\n",
    "    row.append(ratio - previous_ratio)\n",
    "    previous_ratio = ratio\n",
    "    accuracy = sum(pd.Series(processed_train_val_gpa).value_counts().value_counts().loc[list(range(1, gpa_threshold+1))].values * pd.Series(processed_train_val_gpa).value_counts().value_counts().loc[list(range(1, gpa_threshold+1))].index) / (processed_train_val_gpa.shape[0])\n",
    "    row.append(accuracy)\n",
    "    row.append(accuracy - previous_accuracy)\n",
    "    previous_accuracy = accuracy\n",
    "\n",
    "    gpa_data.append(row)\n",
    "\n",
    "df_gpa_threshold = pd.DataFrame(data=gpa_data, columns=[\"threshold\", \"p\", \"p'\", \"n/p ratio\", \"ratio'\", \"upper limit for train/val accuracy\", \"accuracy'\"])"
   ]
  },
  {
   "cell_type": "code",
   "execution_count": 14,
   "metadata": {},
   "outputs": [
    {
     "output_type": "execute_result",
     "data": {
      "text/plain": [
       "    threshold       p      p'   n/p ratio     ratio'  \\\n",
       "0           0  674207       0    5.240880   5.240880   \n",
       "1           1  288283  385924   12.256838   7.015958   \n",
       "2           2  159264  129019   22.186043   9.929205   \n",
       "3           3  100473   58791   35.168035  12.981992   \n",
       "4           4   73429   27044   48.120470  12.952435   \n",
       "5           5   59735   13694   59.151888  11.031417   \n",
       "6           6   51757    7978   68.269761   9.117873   \n",
       "7           7   46554    5203   75.899772   7.630012   \n",
       "8           8   42579    3975   82.985462   7.085690   \n",
       "9           9   39380    3199   89.726714   6.741252   \n",
       "10         10   36530    2850   96.727019   7.000305   \n",
       "11         11   34127    2403  103.537903   6.810884   \n",
       "12         12   31928    2199  110.668943   7.131040   \n",
       "13         13   29956    1972  117.954266   7.285324   \n",
       "14         14   28227    1729  125.179367   7.225101   \n",
       "15         15   26588    1639  132.895968   7.716601   \n",
       "16         16   25033    1555  141.151200   8.255232   \n",
       "17         17   23596    1437  149.747330   8.596130   \n",
       "18         18   22332    1264  158.223088   8.475758   \n",
       "19         19   21166    1166  166.939337   8.716249   \n",
       "20         20   20033    1133  176.380872   9.441535   \n",
       "21         21   19031    1002  185.667490   9.286618   \n",
       "22         22   18077     954  195.465951   9.798461   \n",
       "23         23   17198     879  205.456332   9.990381   \n",
       "24         24   16374     824  215.795652  10.339320   \n",
       "25         25   15578     796  226.822314  11.026662   \n",
       "26         26   14835     743  238.182541  11.360228   \n",
       "27         27   14135     700  249.977927  11.795386   \n",
       "28         28   13510     625  261.542413  11.564486   \n",
       "29         29   12933     577  273.211011  11.668598   \n",
       "30         30   12361     572  285.853734  12.642723   \n",
       "31         31   11771     590  300.181633  14.327899   \n",
       "32         32   11225     546  314.782895  14.601262   \n",
       "33         33   10719     506  329.642504  14.859609   \n",
       "34         34   10243     476  344.961242  15.318738   \n",
       "35         35    9770     473  361.662027  16.700785   \n",
       "36         36    9328     442  378.799099  17.137073   \n",
       "37         37    8927     401  395.814719  17.015620   \n",
       "38         38    8496     431  415.894303  20.079584   \n",
       "39         39    8141     355  434.029972  18.135669   \n",
       "40         40    7781     360  454.111040  20.081068   \n",
       "41         41    7486     295  472.006145  17.895105   \n",
       "42         42    7159     327  493.565861  21.559716   \n",
       "43         43    6848     311  515.981016  22.415155   \n",
       "44         44    6541     307  540.198441  24.217424   \n",
       "45         45    6283     258  562.380710  22.182269   \n",
       "46         46    5986     297  590.283662  27.902952   \n",
       "47         47    5711     275  618.707407  28.423745   \n",
       "48         48    5469     242  646.084842  27.377435   \n",
       "49         49    5206     263  678.724164  32.639323   \n",
       "\n",
       "    upper limit for train/val accuracy  accuracy'  \n",
       "0                             0.000000   0.000000  \n",
       "1                             0.109221   0.109221  \n",
       "2                             0.182248   0.073027  \n",
       "3                             0.232164   0.049915  \n",
       "4                             0.262779   0.030615  \n",
       "5                             0.282156   0.019378  \n",
       "6                             0.295704   0.013547  \n",
       "7                             0.306011   0.010308  \n",
       "8                             0.315011   0.009000  \n",
       "9                             0.323159   0.008148  \n",
       "10                            0.331225   0.008066  \n",
       "11                            0.338706   0.007481  \n",
       "12                            0.346174   0.007468  \n",
       "13                            0.353429   0.007255  \n",
       "14                            0.360279   0.006851  \n",
       "15                            0.367237   0.006958  \n",
       "16                            0.374279   0.007041  \n",
       "17                            0.381192   0.006914  \n",
       "18                            0.387631   0.006439  \n",
       "19                            0.393901   0.006270  \n",
       "20                            0.400314   0.006413  \n",
       "21                            0.406269   0.005955  \n",
       "22                            0.412209   0.005940  \n",
       "23                            0.417931   0.005722  \n",
       "24                            0.423527   0.005597  \n",
       "25                            0.429159   0.005632  \n",
       "26                            0.434627   0.005467  \n",
       "27                            0.439975   0.005349  \n",
       "28                            0.444928   0.004953  \n",
       "29                            0.449664   0.004736  \n",
       "30                            0.454520   0.004856  \n",
       "31                            0.459696   0.005176  \n",
       "32                            0.464641   0.004945  \n",
       "33                            0.469367   0.004726  \n",
       "34                            0.473947   0.004580  \n",
       "35                            0.478632   0.004685  \n",
       "36                            0.483136   0.004503  \n",
       "37                            0.487335   0.004199  \n",
       "38                            0.491970   0.004635  \n",
       "39                            0.495888   0.003918  \n",
       "40                            0.499963   0.004075  \n",
       "41                            0.503387   0.003423  \n",
       "42                            0.507273   0.003887  \n",
       "43                            0.511058   0.003785  \n",
       "44                            0.514881   0.003823  \n",
       "45                            0.518167   0.003286  \n",
       "46                            0.522033   0.003866  \n",
       "47                            0.525691   0.003658  \n",
       "48                            0.528979   0.003287  \n",
       "49                            0.532626   0.003647  "
      ],
      "text/html": "<div>\n<style scoped>\n    .dataframe tbody tr th:only-of-type {\n        vertical-align: middle;\n    }\n\n    .dataframe tbody tr th {\n        vertical-align: top;\n    }\n\n    .dataframe thead th {\n        text-align: right;\n    }\n</style>\n<table border=\"1\" class=\"dataframe\">\n  <thead>\n    <tr style=\"text-align: right;\">\n      <th></th>\n      <th>threshold</th>\n      <th>p</th>\n      <th>p'</th>\n      <th>n/p ratio</th>\n      <th>ratio'</th>\n      <th>upper limit for train/val accuracy</th>\n      <th>accuracy'</th>\n    </tr>\n  </thead>\n  <tbody>\n    <tr>\n      <th>0</th>\n      <td>0</td>\n      <td>674207</td>\n      <td>0</td>\n      <td>5.240880</td>\n      <td>5.240880</td>\n      <td>0.000000</td>\n      <td>0.000000</td>\n    </tr>\n    <tr>\n      <th>1</th>\n      <td>1</td>\n      <td>288283</td>\n      <td>385924</td>\n      <td>12.256838</td>\n      <td>7.015958</td>\n      <td>0.109221</td>\n      <td>0.109221</td>\n    </tr>\n    <tr>\n      <th>2</th>\n      <td>2</td>\n      <td>159264</td>\n      <td>129019</td>\n      <td>22.186043</td>\n      <td>9.929205</td>\n      <td>0.182248</td>\n      <td>0.073027</td>\n    </tr>\n    <tr>\n      <th>3</th>\n      <td>3</td>\n      <td>100473</td>\n      <td>58791</td>\n      <td>35.168035</td>\n      <td>12.981992</td>\n      <td>0.232164</td>\n      <td>0.049915</td>\n    </tr>\n    <tr>\n      <th>4</th>\n      <td>4</td>\n      <td>73429</td>\n      <td>27044</td>\n      <td>48.120470</td>\n      <td>12.952435</td>\n      <td>0.262779</td>\n      <td>0.030615</td>\n    </tr>\n    <tr>\n      <th>5</th>\n      <td>5</td>\n      <td>59735</td>\n      <td>13694</td>\n      <td>59.151888</td>\n      <td>11.031417</td>\n      <td>0.282156</td>\n      <td>0.019378</td>\n    </tr>\n    <tr>\n      <th>6</th>\n      <td>6</td>\n      <td>51757</td>\n      <td>7978</td>\n      <td>68.269761</td>\n      <td>9.117873</td>\n      <td>0.295704</td>\n      <td>0.013547</td>\n    </tr>\n    <tr>\n      <th>7</th>\n      <td>7</td>\n      <td>46554</td>\n      <td>5203</td>\n      <td>75.899772</td>\n      <td>7.630012</td>\n      <td>0.306011</td>\n      <td>0.010308</td>\n    </tr>\n    <tr>\n      <th>8</th>\n      <td>8</td>\n      <td>42579</td>\n      <td>3975</td>\n      <td>82.985462</td>\n      <td>7.085690</td>\n      <td>0.315011</td>\n      <td>0.009000</td>\n    </tr>\n    <tr>\n      <th>9</th>\n      <td>9</td>\n      <td>39380</td>\n      <td>3199</td>\n      <td>89.726714</td>\n      <td>6.741252</td>\n      <td>0.323159</td>\n      <td>0.008148</td>\n    </tr>\n    <tr>\n      <th>10</th>\n      <td>10</td>\n      <td>36530</td>\n      <td>2850</td>\n      <td>96.727019</td>\n      <td>7.000305</td>\n      <td>0.331225</td>\n      <td>0.008066</td>\n    </tr>\n    <tr>\n      <th>11</th>\n      <td>11</td>\n      <td>34127</td>\n      <td>2403</td>\n      <td>103.537903</td>\n      <td>6.810884</td>\n      <td>0.338706</td>\n      <td>0.007481</td>\n    </tr>\n    <tr>\n      <th>12</th>\n      <td>12</td>\n      <td>31928</td>\n      <td>2199</td>\n      <td>110.668943</td>\n      <td>7.131040</td>\n      <td>0.346174</td>\n      <td>0.007468</td>\n    </tr>\n    <tr>\n      <th>13</th>\n      <td>13</td>\n      <td>29956</td>\n      <td>1972</td>\n      <td>117.954266</td>\n      <td>7.285324</td>\n      <td>0.353429</td>\n      <td>0.007255</td>\n    </tr>\n    <tr>\n      <th>14</th>\n      <td>14</td>\n      <td>28227</td>\n      <td>1729</td>\n      <td>125.179367</td>\n      <td>7.225101</td>\n      <td>0.360279</td>\n      <td>0.006851</td>\n    </tr>\n    <tr>\n      <th>15</th>\n      <td>15</td>\n      <td>26588</td>\n      <td>1639</td>\n      <td>132.895968</td>\n      <td>7.716601</td>\n      <td>0.367237</td>\n      <td>0.006958</td>\n    </tr>\n    <tr>\n      <th>16</th>\n      <td>16</td>\n      <td>25033</td>\n      <td>1555</td>\n      <td>141.151200</td>\n      <td>8.255232</td>\n      <td>0.374279</td>\n      <td>0.007041</td>\n    </tr>\n    <tr>\n      <th>17</th>\n      <td>17</td>\n      <td>23596</td>\n      <td>1437</td>\n      <td>149.747330</td>\n      <td>8.596130</td>\n      <td>0.381192</td>\n      <td>0.006914</td>\n    </tr>\n    <tr>\n      <th>18</th>\n      <td>18</td>\n      <td>22332</td>\n      <td>1264</td>\n      <td>158.223088</td>\n      <td>8.475758</td>\n      <td>0.387631</td>\n      <td>0.006439</td>\n    </tr>\n    <tr>\n      <th>19</th>\n      <td>19</td>\n      <td>21166</td>\n      <td>1166</td>\n      <td>166.939337</td>\n      <td>8.716249</td>\n      <td>0.393901</td>\n      <td>0.006270</td>\n    </tr>\n    <tr>\n      <th>20</th>\n      <td>20</td>\n      <td>20033</td>\n      <td>1133</td>\n      <td>176.380872</td>\n      <td>9.441535</td>\n      <td>0.400314</td>\n      <td>0.006413</td>\n    </tr>\n    <tr>\n      <th>21</th>\n      <td>21</td>\n      <td>19031</td>\n      <td>1002</td>\n      <td>185.667490</td>\n      <td>9.286618</td>\n      <td>0.406269</td>\n      <td>0.005955</td>\n    </tr>\n    <tr>\n      <th>22</th>\n      <td>22</td>\n      <td>18077</td>\n      <td>954</td>\n      <td>195.465951</td>\n      <td>9.798461</td>\n      <td>0.412209</td>\n      <td>0.005940</td>\n    </tr>\n    <tr>\n      <th>23</th>\n      <td>23</td>\n      <td>17198</td>\n      <td>879</td>\n      <td>205.456332</td>\n      <td>9.990381</td>\n      <td>0.417931</td>\n      <td>0.005722</td>\n    </tr>\n    <tr>\n      <th>24</th>\n      <td>24</td>\n      <td>16374</td>\n      <td>824</td>\n      <td>215.795652</td>\n      <td>10.339320</td>\n      <td>0.423527</td>\n      <td>0.005597</td>\n    </tr>\n    <tr>\n      <th>25</th>\n      <td>25</td>\n      <td>15578</td>\n      <td>796</td>\n      <td>226.822314</td>\n      <td>11.026662</td>\n      <td>0.429159</td>\n      <td>0.005632</td>\n    </tr>\n    <tr>\n      <th>26</th>\n      <td>26</td>\n      <td>14835</td>\n      <td>743</td>\n      <td>238.182541</td>\n      <td>11.360228</td>\n      <td>0.434627</td>\n      <td>0.005467</td>\n    </tr>\n    <tr>\n      <th>27</th>\n      <td>27</td>\n      <td>14135</td>\n      <td>700</td>\n      <td>249.977927</td>\n      <td>11.795386</td>\n      <td>0.439975</td>\n      <td>0.005349</td>\n    </tr>\n    <tr>\n      <th>28</th>\n      <td>28</td>\n      <td>13510</td>\n      <td>625</td>\n      <td>261.542413</td>\n      <td>11.564486</td>\n      <td>0.444928</td>\n      <td>0.004953</td>\n    </tr>\n    <tr>\n      <th>29</th>\n      <td>29</td>\n      <td>12933</td>\n      <td>577</td>\n      <td>273.211011</td>\n      <td>11.668598</td>\n      <td>0.449664</td>\n      <td>0.004736</td>\n    </tr>\n    <tr>\n      <th>30</th>\n      <td>30</td>\n      <td>12361</td>\n      <td>572</td>\n      <td>285.853734</td>\n      <td>12.642723</td>\n      <td>0.454520</td>\n      <td>0.004856</td>\n    </tr>\n    <tr>\n      <th>31</th>\n      <td>31</td>\n      <td>11771</td>\n      <td>590</td>\n      <td>300.181633</td>\n      <td>14.327899</td>\n      <td>0.459696</td>\n      <td>0.005176</td>\n    </tr>\n    <tr>\n      <th>32</th>\n      <td>32</td>\n      <td>11225</td>\n      <td>546</td>\n      <td>314.782895</td>\n      <td>14.601262</td>\n      <td>0.464641</td>\n      <td>0.004945</td>\n    </tr>\n    <tr>\n      <th>33</th>\n      <td>33</td>\n      <td>10719</td>\n      <td>506</td>\n      <td>329.642504</td>\n      <td>14.859609</td>\n      <td>0.469367</td>\n      <td>0.004726</td>\n    </tr>\n    <tr>\n      <th>34</th>\n      <td>34</td>\n      <td>10243</td>\n      <td>476</td>\n      <td>344.961242</td>\n      <td>15.318738</td>\n      <td>0.473947</td>\n      <td>0.004580</td>\n    </tr>\n    <tr>\n      <th>35</th>\n      <td>35</td>\n      <td>9770</td>\n      <td>473</td>\n      <td>361.662027</td>\n      <td>16.700785</td>\n      <td>0.478632</td>\n      <td>0.004685</td>\n    </tr>\n    <tr>\n      <th>36</th>\n      <td>36</td>\n      <td>9328</td>\n      <td>442</td>\n      <td>378.799099</td>\n      <td>17.137073</td>\n      <td>0.483136</td>\n      <td>0.004503</td>\n    </tr>\n    <tr>\n      <th>37</th>\n      <td>37</td>\n      <td>8927</td>\n      <td>401</td>\n      <td>395.814719</td>\n      <td>17.015620</td>\n      <td>0.487335</td>\n      <td>0.004199</td>\n    </tr>\n    <tr>\n      <th>38</th>\n      <td>38</td>\n      <td>8496</td>\n      <td>431</td>\n      <td>415.894303</td>\n      <td>20.079584</td>\n      <td>0.491970</td>\n      <td>0.004635</td>\n    </tr>\n    <tr>\n      <th>39</th>\n      <td>39</td>\n      <td>8141</td>\n      <td>355</td>\n      <td>434.029972</td>\n      <td>18.135669</td>\n      <td>0.495888</td>\n      <td>0.003918</td>\n    </tr>\n    <tr>\n      <th>40</th>\n      <td>40</td>\n      <td>7781</td>\n      <td>360</td>\n      <td>454.111040</td>\n      <td>20.081068</td>\n      <td>0.499963</td>\n      <td>0.004075</td>\n    </tr>\n    <tr>\n      <th>41</th>\n      <td>41</td>\n      <td>7486</td>\n      <td>295</td>\n      <td>472.006145</td>\n      <td>17.895105</td>\n      <td>0.503387</td>\n      <td>0.003423</td>\n    </tr>\n    <tr>\n      <th>42</th>\n      <td>42</td>\n      <td>7159</td>\n      <td>327</td>\n      <td>493.565861</td>\n      <td>21.559716</td>\n      <td>0.507273</td>\n      <td>0.003887</td>\n    </tr>\n    <tr>\n      <th>43</th>\n      <td>43</td>\n      <td>6848</td>\n      <td>311</td>\n      <td>515.981016</td>\n      <td>22.415155</td>\n      <td>0.511058</td>\n      <td>0.003785</td>\n    </tr>\n    <tr>\n      <th>44</th>\n      <td>44</td>\n      <td>6541</td>\n      <td>307</td>\n      <td>540.198441</td>\n      <td>24.217424</td>\n      <td>0.514881</td>\n      <td>0.003823</td>\n    </tr>\n    <tr>\n      <th>45</th>\n      <td>45</td>\n      <td>6283</td>\n      <td>258</td>\n      <td>562.380710</td>\n      <td>22.182269</td>\n      <td>0.518167</td>\n      <td>0.003286</td>\n    </tr>\n    <tr>\n      <th>46</th>\n      <td>46</td>\n      <td>5986</td>\n      <td>297</td>\n      <td>590.283662</td>\n      <td>27.902952</td>\n      <td>0.522033</td>\n      <td>0.003866</td>\n    </tr>\n    <tr>\n      <th>47</th>\n      <td>47</td>\n      <td>5711</td>\n      <td>275</td>\n      <td>618.707407</td>\n      <td>28.423745</td>\n      <td>0.525691</td>\n      <td>0.003658</td>\n    </tr>\n    <tr>\n      <th>48</th>\n      <td>48</td>\n      <td>5469</td>\n      <td>242</td>\n      <td>646.084842</td>\n      <td>27.377435</td>\n      <td>0.528979</td>\n      <td>0.003287</td>\n    </tr>\n    <tr>\n      <th>49</th>\n      <td>49</td>\n      <td>5206</td>\n      <td>263</td>\n      <td>678.724164</td>\n      <td>32.639323</td>\n      <td>0.532626</td>\n      <td>0.003647</td>\n    </tr>\n  </tbody>\n</table>\n</div>"
     },
     "metadata": {},
     "execution_count": 14
    }
   ],
   "source": [
    "df_gpa_threshold"
   ]
  },
  {
   "source": [
    "## rip : N / P ratio"
   ],
   "cell_type": "markdown",
   "metadata": {}
  },
  {
   "cell_type": "code",
   "execution_count": 15,
   "metadata": {},
   "outputs": [],
   "source": [
    "rip_data = []\n",
    "for rip_threshold in range(50):\n",
    "    row = []\n",
    "    \n",
    "    row.append(rip_threshold)\n",
    "    if rip_threshold == 0:\n",
    "        rip_p = len(pd.Series(processed_train_val_rip).value_counts())\n",
    "        previous_rip_p = rip_p\n",
    "        previous_accuracy = 0\n",
    "        previous_ratio = 0\n",
    "    else:\n",
    "        rip_p = len(pd.Series(processed_train_val_rip).value_counts()) - sum(pd.Series(processed_train_val_rip).value_counts().value_counts().loc[list(range(1, rip_threshold+1))].values) + 1\n",
    "    row.append(rip_p)\n",
    "    row.append(previous_rip_p - rip_p)\n",
    "    previous_rip_p = rip_p\n",
    "    ratio = processed_train_val_rip.shape[0] / rip_p\n",
    "    row.append(ratio)\n",
    "    row.append(ratio - previous_ratio)\n",
    "    previous_ratio = ratio\n",
    "    accuracy = sum(pd.Series(processed_train_val_rip).value_counts().value_counts().loc[list(range(1, rip_threshold+1))].values * pd.Series(processed_train_val_rip).value_counts().value_counts().loc[list(range(1, rip_threshold+1))].index) / (processed_train_val_rip.shape[0])\n",
    "    row.append(accuracy)\n",
    "    row.append(accuracy - previous_accuracy)\n",
    "    previous_accuracy = accuracy\n",
    "\n",
    "    rip_data.append(row)\n",
    "\n",
    "df_rip_threshold = pd.DataFrame(data=rip_data, columns=[\"threshold\", \"p\", \"p'\", \"n/p ratio\", \"ratio'\", \"upper limit for train/val accuracy\", \"accuracy'\"])"
   ]
  },
  {
   "cell_type": "code",
   "execution_count": 16,
   "metadata": {},
   "outputs": [
    {
     "output_type": "execute_result",
     "data": {
      "text/plain": [
       "    threshold      p     p'    n/p ratio      ratio'  \\\n",
       "0           0  49547      0    71.314873   71.314873   \n",
       "1           1  11850  37697   298.180422  226.865549   \n",
       "2           2   7240   4610   488.043923  189.863501   \n",
       "3           3   5350   1890   660.455701  172.411778   \n",
       "4           4   4230   1120   835.328132  174.872431   \n",
       "5           5   3527    703  1001.825347  166.497215   \n",
       "6           6   2977    550  1186.912328  185.086981   \n",
       "7           7   2538    439  1392.213554  205.301226   \n",
       "8           8   2215    323  1595.231603  203.018049   \n",
       "9           9   1959    256  1803.694742  208.463140   \n",
       "10         10   1751    208  2017.954312  214.259570   \n",
       "11         11   1590    161  2222.288050  204.333738   \n",
       "12         12   1438    152  2457.189152  234.901101   \n",
       "13         13   1317    121  2682.944571  225.755419   \n",
       "14         14   1227     90  2879.737571  196.793000   \n",
       "15         15   1152     75  3067.220486  187.482915   \n",
       "16         16   1099     53  3215.139217  147.918731   \n",
       "17         17   1036     63  3410.654440  195.515223   \n",
       "18         18    989     47  3572.738119  162.083679   \n",
       "19         19    937     52  3771.011740  198.273620   \n",
       "20         20    898     39  3934.786192  163.774452   \n",
       "21         21    854     44  4137.515222  202.729031   \n",
       "22         22    822     32  4298.586375  161.071152   \n",
       "23         23    783     39  4512.692209  214.105835   \n",
       "24         24    764     19  4624.918848  112.226639   \n",
       "25         25    735     29  4807.398639  182.479791   \n",
       "26         26    705     30  5011.968794  204.570155   \n",
       "27         27    682     23  5180.994135  169.025341   \n",
       "28         28    662     20  5337.519637  156.525503   \n",
       "29         29    649     13  5444.434515  106.914877   \n",
       "30         30    638     11  5538.304075   93.869561   \n",
       "31         31    631      7  5599.743265   61.439189   \n",
       "32         32    612     19  5773.591503  173.848239   \n",
       "33         33    593     19  5958.580101  184.988598   \n",
       "34         34    589      4  5999.045840   40.465739   \n",
       "35         35    581      8  6081.648881   82.603041   \n",
       "36         36    569     12  6209.908612  128.259730   \n",
       "37         37    559     10  6320.998211  111.089599   \n",
       "38         38    553      6  6389.580470   68.582259   \n",
       "39         39    541     12  6531.308688  141.728217   \n",
       "40         40    533      8  6629.339587   98.030900   \n",
       "41         41    526      7  6717.562738   88.223150   \n",
       "42         42    516     10  6847.748062  130.185324   \n",
       "43         43    508      8  6955.586614  107.838552   \n",
       "44         44    501      7  7052.770459   97.183845   \n",
       "45         45    497      4  7109.533199   56.762740   \n",
       "46         46    490      7  7211.097959  101.564760   \n",
       "47         47    481      9  7346.024948  134.926989   \n",
       "48         48    475      6  7438.816842   92.791894   \n",
       "49         49    469      6  7533.982942   95.166100   \n",
       "\n",
       "    upper limit for train/val accuracy  accuracy'  \n",
       "0                             0.000000   0.000000  \n",
       "1                             0.010669   0.010669  \n",
       "2                             0.013278   0.002609  \n",
       "3                             0.014883   0.001605  \n",
       "4                             0.016151   0.001268  \n",
       "5                             0.017146   0.000995  \n",
       "6                             0.018080   0.000934  \n",
       "7                             0.018949   0.000870  \n",
       "8                             0.019681   0.000731  \n",
       "9                             0.020333   0.000652  \n",
       "10                            0.020921   0.000589  \n",
       "11                            0.021422   0.000501  \n",
       "12                            0.021939   0.000516  \n",
       "13                            0.022384   0.000445  \n",
       "14                            0.022740   0.000357  \n",
       "15                            0.023059   0.000318  \n",
       "16                            0.023299   0.000240  \n",
       "17                            0.023602   0.000303  \n",
       "18                            0.023841   0.000239  \n",
       "19                            0.024121   0.000280  \n",
       "20                            0.024342   0.000221  \n",
       "21                            0.024603   0.000262  \n",
       "22                            0.024802   0.000199  \n",
       "23                            0.025056   0.000254  \n",
       "24                            0.025185   0.000129  \n",
       "25                            0.025391   0.000205  \n",
       "26                            0.025611   0.000221  \n",
       "27                            0.025787   0.000176  \n",
       "28                            0.025946   0.000158  \n",
       "29                            0.026052   0.000107  \n",
       "30                            0.026146   0.000093  \n",
       "31                            0.026207   0.000061  \n",
       "32                            0.026379   0.000172  \n",
       "33                            0.026557   0.000177  \n",
       "34                            0.026595   0.000038  \n",
       "35                            0.026674   0.000079  \n",
       "36                            0.026797   0.000122  \n",
       "37                            0.026901   0.000105  \n",
       "38                            0.026966   0.000065  \n",
       "39                            0.027098   0.000132  \n",
       "40                            0.027189   0.000091  \n",
       "41                            0.027270   0.000081  \n",
       "42                            0.027389   0.000119  \n",
       "43                            0.027486   0.000097  \n",
       "44                            0.027573   0.000087  \n",
       "45                            0.027624   0.000051  \n",
       "46                            0.027715   0.000091  \n",
       "47                            0.027835   0.000120  \n",
       "48                            0.027917   0.000082  \n",
       "49                            0.028000   0.000083  "
      ],
      "text/html": "<div>\n<style scoped>\n    .dataframe tbody tr th:only-of-type {\n        vertical-align: middle;\n    }\n\n    .dataframe tbody tr th {\n        vertical-align: top;\n    }\n\n    .dataframe thead th {\n        text-align: right;\n    }\n</style>\n<table border=\"1\" class=\"dataframe\">\n  <thead>\n    <tr style=\"text-align: right;\">\n      <th></th>\n      <th>threshold</th>\n      <th>p</th>\n      <th>p'</th>\n      <th>n/p ratio</th>\n      <th>ratio'</th>\n      <th>upper limit for train/val accuracy</th>\n      <th>accuracy'</th>\n    </tr>\n  </thead>\n  <tbody>\n    <tr>\n      <th>0</th>\n      <td>0</td>\n      <td>49547</td>\n      <td>0</td>\n      <td>71.314873</td>\n      <td>71.314873</td>\n      <td>0.000000</td>\n      <td>0.000000</td>\n    </tr>\n    <tr>\n      <th>1</th>\n      <td>1</td>\n      <td>11850</td>\n      <td>37697</td>\n      <td>298.180422</td>\n      <td>226.865549</td>\n      <td>0.010669</td>\n      <td>0.010669</td>\n    </tr>\n    <tr>\n      <th>2</th>\n      <td>2</td>\n      <td>7240</td>\n      <td>4610</td>\n      <td>488.043923</td>\n      <td>189.863501</td>\n      <td>0.013278</td>\n      <td>0.002609</td>\n    </tr>\n    <tr>\n      <th>3</th>\n      <td>3</td>\n      <td>5350</td>\n      <td>1890</td>\n      <td>660.455701</td>\n      <td>172.411778</td>\n      <td>0.014883</td>\n      <td>0.001605</td>\n    </tr>\n    <tr>\n      <th>4</th>\n      <td>4</td>\n      <td>4230</td>\n      <td>1120</td>\n      <td>835.328132</td>\n      <td>174.872431</td>\n      <td>0.016151</td>\n      <td>0.001268</td>\n    </tr>\n    <tr>\n      <th>5</th>\n      <td>5</td>\n      <td>3527</td>\n      <td>703</td>\n      <td>1001.825347</td>\n      <td>166.497215</td>\n      <td>0.017146</td>\n      <td>0.000995</td>\n    </tr>\n    <tr>\n      <th>6</th>\n      <td>6</td>\n      <td>2977</td>\n      <td>550</td>\n      <td>1186.912328</td>\n      <td>185.086981</td>\n      <td>0.018080</td>\n      <td>0.000934</td>\n    </tr>\n    <tr>\n      <th>7</th>\n      <td>7</td>\n      <td>2538</td>\n      <td>439</td>\n      <td>1392.213554</td>\n      <td>205.301226</td>\n      <td>0.018949</td>\n      <td>0.000870</td>\n    </tr>\n    <tr>\n      <th>8</th>\n      <td>8</td>\n      <td>2215</td>\n      <td>323</td>\n      <td>1595.231603</td>\n      <td>203.018049</td>\n      <td>0.019681</td>\n      <td>0.000731</td>\n    </tr>\n    <tr>\n      <th>9</th>\n      <td>9</td>\n      <td>1959</td>\n      <td>256</td>\n      <td>1803.694742</td>\n      <td>208.463140</td>\n      <td>0.020333</td>\n      <td>0.000652</td>\n    </tr>\n    <tr>\n      <th>10</th>\n      <td>10</td>\n      <td>1751</td>\n      <td>208</td>\n      <td>2017.954312</td>\n      <td>214.259570</td>\n      <td>0.020921</td>\n      <td>0.000589</td>\n    </tr>\n    <tr>\n      <th>11</th>\n      <td>11</td>\n      <td>1590</td>\n      <td>161</td>\n      <td>2222.288050</td>\n      <td>204.333738</td>\n      <td>0.021422</td>\n      <td>0.000501</td>\n    </tr>\n    <tr>\n      <th>12</th>\n      <td>12</td>\n      <td>1438</td>\n      <td>152</td>\n      <td>2457.189152</td>\n      <td>234.901101</td>\n      <td>0.021939</td>\n      <td>0.000516</td>\n    </tr>\n    <tr>\n      <th>13</th>\n      <td>13</td>\n      <td>1317</td>\n      <td>121</td>\n      <td>2682.944571</td>\n      <td>225.755419</td>\n      <td>0.022384</td>\n      <td>0.000445</td>\n    </tr>\n    <tr>\n      <th>14</th>\n      <td>14</td>\n      <td>1227</td>\n      <td>90</td>\n      <td>2879.737571</td>\n      <td>196.793000</td>\n      <td>0.022740</td>\n      <td>0.000357</td>\n    </tr>\n    <tr>\n      <th>15</th>\n      <td>15</td>\n      <td>1152</td>\n      <td>75</td>\n      <td>3067.220486</td>\n      <td>187.482915</td>\n      <td>0.023059</td>\n      <td>0.000318</td>\n    </tr>\n    <tr>\n      <th>16</th>\n      <td>16</td>\n      <td>1099</td>\n      <td>53</td>\n      <td>3215.139217</td>\n      <td>147.918731</td>\n      <td>0.023299</td>\n      <td>0.000240</td>\n    </tr>\n    <tr>\n      <th>17</th>\n      <td>17</td>\n      <td>1036</td>\n      <td>63</td>\n      <td>3410.654440</td>\n      <td>195.515223</td>\n      <td>0.023602</td>\n      <td>0.000303</td>\n    </tr>\n    <tr>\n      <th>18</th>\n      <td>18</td>\n      <td>989</td>\n      <td>47</td>\n      <td>3572.738119</td>\n      <td>162.083679</td>\n      <td>0.023841</td>\n      <td>0.000239</td>\n    </tr>\n    <tr>\n      <th>19</th>\n      <td>19</td>\n      <td>937</td>\n      <td>52</td>\n      <td>3771.011740</td>\n      <td>198.273620</td>\n      <td>0.024121</td>\n      <td>0.000280</td>\n    </tr>\n    <tr>\n      <th>20</th>\n      <td>20</td>\n      <td>898</td>\n      <td>39</td>\n      <td>3934.786192</td>\n      <td>163.774452</td>\n      <td>0.024342</td>\n      <td>0.000221</td>\n    </tr>\n    <tr>\n      <th>21</th>\n      <td>21</td>\n      <td>854</td>\n      <td>44</td>\n      <td>4137.515222</td>\n      <td>202.729031</td>\n      <td>0.024603</td>\n      <td>0.000262</td>\n    </tr>\n    <tr>\n      <th>22</th>\n      <td>22</td>\n      <td>822</td>\n      <td>32</td>\n      <td>4298.586375</td>\n      <td>161.071152</td>\n      <td>0.024802</td>\n      <td>0.000199</td>\n    </tr>\n    <tr>\n      <th>23</th>\n      <td>23</td>\n      <td>783</td>\n      <td>39</td>\n      <td>4512.692209</td>\n      <td>214.105835</td>\n      <td>0.025056</td>\n      <td>0.000254</td>\n    </tr>\n    <tr>\n      <th>24</th>\n      <td>24</td>\n      <td>764</td>\n      <td>19</td>\n      <td>4624.918848</td>\n      <td>112.226639</td>\n      <td>0.025185</td>\n      <td>0.000129</td>\n    </tr>\n    <tr>\n      <th>25</th>\n      <td>25</td>\n      <td>735</td>\n      <td>29</td>\n      <td>4807.398639</td>\n      <td>182.479791</td>\n      <td>0.025391</td>\n      <td>0.000205</td>\n    </tr>\n    <tr>\n      <th>26</th>\n      <td>26</td>\n      <td>705</td>\n      <td>30</td>\n      <td>5011.968794</td>\n      <td>204.570155</td>\n      <td>0.025611</td>\n      <td>0.000221</td>\n    </tr>\n    <tr>\n      <th>27</th>\n      <td>27</td>\n      <td>682</td>\n      <td>23</td>\n      <td>5180.994135</td>\n      <td>169.025341</td>\n      <td>0.025787</td>\n      <td>0.000176</td>\n    </tr>\n    <tr>\n      <th>28</th>\n      <td>28</td>\n      <td>662</td>\n      <td>20</td>\n      <td>5337.519637</td>\n      <td>156.525503</td>\n      <td>0.025946</td>\n      <td>0.000158</td>\n    </tr>\n    <tr>\n      <th>29</th>\n      <td>29</td>\n      <td>649</td>\n      <td>13</td>\n      <td>5444.434515</td>\n      <td>106.914877</td>\n      <td>0.026052</td>\n      <td>0.000107</td>\n    </tr>\n    <tr>\n      <th>30</th>\n      <td>30</td>\n      <td>638</td>\n      <td>11</td>\n      <td>5538.304075</td>\n      <td>93.869561</td>\n      <td>0.026146</td>\n      <td>0.000093</td>\n    </tr>\n    <tr>\n      <th>31</th>\n      <td>31</td>\n      <td>631</td>\n      <td>7</td>\n      <td>5599.743265</td>\n      <td>61.439189</td>\n      <td>0.026207</td>\n      <td>0.000061</td>\n    </tr>\n    <tr>\n      <th>32</th>\n      <td>32</td>\n      <td>612</td>\n      <td>19</td>\n      <td>5773.591503</td>\n      <td>173.848239</td>\n      <td>0.026379</td>\n      <td>0.000172</td>\n    </tr>\n    <tr>\n      <th>33</th>\n      <td>33</td>\n      <td>593</td>\n      <td>19</td>\n      <td>5958.580101</td>\n      <td>184.988598</td>\n      <td>0.026557</td>\n      <td>0.000177</td>\n    </tr>\n    <tr>\n      <th>34</th>\n      <td>34</td>\n      <td>589</td>\n      <td>4</td>\n      <td>5999.045840</td>\n      <td>40.465739</td>\n      <td>0.026595</td>\n      <td>0.000038</td>\n    </tr>\n    <tr>\n      <th>35</th>\n      <td>35</td>\n      <td>581</td>\n      <td>8</td>\n      <td>6081.648881</td>\n      <td>82.603041</td>\n      <td>0.026674</td>\n      <td>0.000079</td>\n    </tr>\n    <tr>\n      <th>36</th>\n      <td>36</td>\n      <td>569</td>\n      <td>12</td>\n      <td>6209.908612</td>\n      <td>128.259730</td>\n      <td>0.026797</td>\n      <td>0.000122</td>\n    </tr>\n    <tr>\n      <th>37</th>\n      <td>37</td>\n      <td>559</td>\n      <td>10</td>\n      <td>6320.998211</td>\n      <td>111.089599</td>\n      <td>0.026901</td>\n      <td>0.000105</td>\n    </tr>\n    <tr>\n      <th>38</th>\n      <td>38</td>\n      <td>553</td>\n      <td>6</td>\n      <td>6389.580470</td>\n      <td>68.582259</td>\n      <td>0.026966</td>\n      <td>0.000065</td>\n    </tr>\n    <tr>\n      <th>39</th>\n      <td>39</td>\n      <td>541</td>\n      <td>12</td>\n      <td>6531.308688</td>\n      <td>141.728217</td>\n      <td>0.027098</td>\n      <td>0.000132</td>\n    </tr>\n    <tr>\n      <th>40</th>\n      <td>40</td>\n      <td>533</td>\n      <td>8</td>\n      <td>6629.339587</td>\n      <td>98.030900</td>\n      <td>0.027189</td>\n      <td>0.000091</td>\n    </tr>\n    <tr>\n      <th>41</th>\n      <td>41</td>\n      <td>526</td>\n      <td>7</td>\n      <td>6717.562738</td>\n      <td>88.223150</td>\n      <td>0.027270</td>\n      <td>0.000081</td>\n    </tr>\n    <tr>\n      <th>42</th>\n      <td>42</td>\n      <td>516</td>\n      <td>10</td>\n      <td>6847.748062</td>\n      <td>130.185324</td>\n      <td>0.027389</td>\n      <td>0.000119</td>\n    </tr>\n    <tr>\n      <th>43</th>\n      <td>43</td>\n      <td>508</td>\n      <td>8</td>\n      <td>6955.586614</td>\n      <td>107.838552</td>\n      <td>0.027486</td>\n      <td>0.000097</td>\n    </tr>\n    <tr>\n      <th>44</th>\n      <td>44</td>\n      <td>501</td>\n      <td>7</td>\n      <td>7052.770459</td>\n      <td>97.183845</td>\n      <td>0.027573</td>\n      <td>0.000087</td>\n    </tr>\n    <tr>\n      <th>45</th>\n      <td>45</td>\n      <td>497</td>\n      <td>4</td>\n      <td>7109.533199</td>\n      <td>56.762740</td>\n      <td>0.027624</td>\n      <td>0.000051</td>\n    </tr>\n    <tr>\n      <th>46</th>\n      <td>46</td>\n      <td>490</td>\n      <td>7</td>\n      <td>7211.097959</td>\n      <td>101.564760</td>\n      <td>0.027715</td>\n      <td>0.000091</td>\n    </tr>\n    <tr>\n      <th>47</th>\n      <td>47</td>\n      <td>481</td>\n      <td>9</td>\n      <td>7346.024948</td>\n      <td>134.926989</td>\n      <td>0.027835</td>\n      <td>0.000120</td>\n    </tr>\n    <tr>\n      <th>48</th>\n      <td>48</td>\n      <td>475</td>\n      <td>6</td>\n      <td>7438.816842</td>\n      <td>92.791894</td>\n      <td>0.027917</td>\n      <td>0.000082</td>\n    </tr>\n    <tr>\n      <th>49</th>\n      <td>49</td>\n      <td>469</td>\n      <td>6</td>\n      <td>7533.982942</td>\n      <td>95.166100</td>\n      <td>0.028000</td>\n      <td>0.000083</td>\n    </tr>\n  </tbody>\n</table>\n</div>"
     },
     "metadata": {},
     "execution_count": 16
    }
   ],
   "source": [
    "df_rip_threshold"
   ]
  },
  {
   "source": [
    "## Save Analysis "
   ],
   "cell_type": "markdown",
   "metadata": {}
  },
  {
   "cell_type": "code",
   "execution_count": 17,
   "metadata": {},
   "outputs": [],
   "source": [
    "df_gpa_threshold.to_csv(\"analysis/{}_gpa_analysis.csv\".format(model_name), index=False)\n",
    "df_rip_threshold.to_csv(\"analysis/{}_rip_analysis.csv\".format(model_name), index=False)"
   ]
  },
  {
   "cell_type": "code",
   "execution_count": null,
   "metadata": {},
   "outputs": [],
   "source": []
  }
 ]
}