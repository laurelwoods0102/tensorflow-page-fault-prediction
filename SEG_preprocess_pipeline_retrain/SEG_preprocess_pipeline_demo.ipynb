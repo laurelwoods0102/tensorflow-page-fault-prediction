{
 "metadata": {
  "language_info": {
   "codemirror_mode": {
    "name": "ipython",
    "version": 3
   },
   "file_extension": ".py",
   "mimetype": "text/x-python",
   "name": "python",
   "nbconvert_exporter": "python",
   "pygments_lexer": "ipython3",
   "version": "3.7.6-final"
  },
  "orig_nbformat": 2,
  "kernelspec": {
   "name": "python3",
   "display_name": "Python 3"
  }
 },
 "nbformat": 4,
 "nbformat_minor": 2,
 "cells": [
  {
   "cell_type": "code",
   "execution_count": 1,
   "metadata": {},
   "outputs": [],
   "source": [
    "import numpy as np\n",
    "import pandas as pd\n",
    "import json\n",
    "import dill"
   ]
  },
  {
   "cell_type": "code",
   "execution_count": 2,
   "metadata": {},
   "outputs": [],
   "source": [
    "model_name = \"SEG_retrain\""
   ]
  },
  {
   "cell_type": "code",
   "execution_count": 3,
   "metadata": {},
   "outputs": [],
   "source": [
    "train_set_original = np.genfromtxt(\"data/{}_train_set_original.csv\".format(model_name), delimiter=\"\\n\", dtype=np.int64)\n",
    "val_set_original = np.genfromtxt(\"data/{}_val_set_original.csv\".format(model_name), delimiter=\"\\n\", dtype=np.int64)\n",
    "test_set_original = np.genfromtxt(\"data/{}_test_set_original.csv\".format(model_name), delimiter=\"\\n\", dtype=np.int64)\n",
    "\n",
    "train_set = np.genfromtxt(\"data/{}_train_set.csv\".format(model_name), delimiter=\"\\n\", dtype=np.int64)\n",
    "val_set = np.genfromtxt(\"data/{}_val_set.csv\".format(model_name), delimiter=\"\\n\", dtype=np.int64)\n",
    "test_set = np.genfromtxt(\"data/{}_test_set.csv\".format(model_name), delimiter=\"\\n\", dtype=np.int64)"
   ]
  },
  {
   "cell_type": "code",
   "execution_count": 5,
   "metadata": {},
   "outputs": [],
   "source": [
    "with open(\"static/pipeline.pkl\", \"rb\") as f:\n",
    "    pipeline = dill.load(f)"
   ]
  },
  {
   "source": [
    "## Load Vocabulary and Instantiate as dictionary"
   ],
   "cell_type": "markdown",
   "metadata": {}
  },
  {
   "cell_type": "code",
   "execution_count": 8,
   "metadata": {},
   "outputs": [
    {
     "output_type": "execute_result",
     "data": {
      "text/plain": [
       "array([       -1,         0,     -4096, ..., 166841048,   -393216,\n",
       "       -40550688], dtype=int64)"
      ]
     },
     "metadata": {},
     "execution_count": 8
    }
   ],
   "source": [
    "vocabulary = np.genfromtxt(\"static/vocabulary.csv\", delimiter=\"\\n\", dtype=np.int64)\n",
    "vocabulary"
   ]
  },
  {
   "cell_type": "code",
   "execution_count": 9,
   "metadata": {},
   "outputs": [],
   "source": [
    "vocabulary = {v:i for i, v in enumerate(vocabulary)}"
   ]
  },
  {
   "cell_type": "code",
   "execution_count": 12,
   "metadata": {},
   "outputs": [
    {
     "output_type": "execute_result",
     "data": {
      "text/plain": [
       "{-1: 0,\n",
       " 0: 1,\n",
       " -4096: 2,\n",
       " -909517620: 3,\n",
       " 909517620: 4,\n",
       " -8192: 5,\n",
       " 8: 6,\n",
       " 4096: 7,\n",
       " -8: 8,\n",
       " -12288: 9}"
      ]
     },
     "metadata": {},
     "execution_count": 12
    }
   ],
   "source": [
    "dict(list(vocabulary.items())[:10])"
   ]
  },
  {
   "source": [
    "## Demo"
   ],
   "cell_type": "markdown",
   "metadata": {}
  },
  {
   "cell_type": "code",
   "execution_count": 18,
   "metadata": {},
   "outputs": [],
   "source": [
    "train_original_sample = train_set_original[:30]"
   ]
  },
  {
   "cell_type": "code",
   "execution_count": 15,
   "metadata": {},
   "outputs": [
    {
     "output_type": "execute_result",
     "data": {
      "text/plain": [
       "array([  0,   0,   0,   0,   0,   0,   0,   0,   0,   0,   0,   0,   0,\n",
       "         0,   0,   0,   0,   0,   0,   0,   0, 888,   0,   0,   0,   0,\n",
       "         0,   0,  48])"
      ]
     },
     "metadata": {},
     "execution_count": 15
    }
   ],
   "source": [
    "processed_train_sample = pipeline.transform(train_original_sample)\n",
    "processed_train_sample"
   ]
  },
  {
   "cell_type": "code",
   "execution_count": 16,
   "metadata": {},
   "outputs": [
    {
     "output_type": "execute_result",
     "data": {
      "text/plain": [
       "array([-90096539952,      -528712,       -73032,      1315952,\n",
       "            -160160,      -549096,       817016,      -248576,\n",
       "           -1115480,      1044376,     -1382144,      -146992,\n",
       "            1547488,      -558368,    -54420112,     54975104,\n",
       "           -1362752,       433536,       516512,      -131600,\n",
       "             433668,         6120,      -389321,      -901523,\n",
       "              12160,    -19974760,     21278728,      -640432,\n",
       "                -48], dtype=int64)"
      ]
     },
     "metadata": {},
     "execution_count": 16
    }
   ],
   "source": [
    "# Delta\n",
    "train_sample = train_original_sample[:-1] - train_original_sample[1:]\n",
    "train_sample"
   ]
  },
  {
   "cell_type": "code",
   "execution_count": 19,
   "metadata": {},
   "outputs": [
    {
     "output_type": "execute_result",
     "data": {
      "text/plain": [
       "array([  -1,   -1,   -1,   -1,   -1,   -1,   -1,   -1,   -1,   -1,   -1,\n",
       "         -1,   -1,   -1,   -1,   -1,   -1,   -1,   -1,   -1,   -1, 6120,\n",
       "         -1,   -1,   -1,   -1,   -1,   -1,  -48], dtype=int64)"
      ]
     },
     "metadata": {},
     "execution_count": 19
    }
   ],
   "source": [
    "# Note that Irreversible predictions are returned as -1.\n",
    "train_sample_inverse_transformed = pipeline.inverse_transform(processed_train_sample)\n",
    "train_sample_inverse_transformed"
   ]
  },
  {
   "cell_type": "code",
   "execution_count": 24,
   "metadata": {},
   "outputs": [
    {
     "output_type": "execute_result",
     "data": {
      "text/plain": [
       "(888, 6120, 6120)"
      ]
     },
     "metadata": {},
     "execution_count": 24
    }
   ],
   "source": [
    "# Processed / Original Delta / Inverse_transformed (= restored from prediction)\n",
    "processed_train_sample[21], train_sample[21], train_sample_inverse_transformed[21]"
   ]
  },
  {
   "cell_type": "code",
   "execution_count": 28,
   "metadata": {},
   "outputs": [
    {
     "output_type": "execute_result",
     "data": {
      "text/plain": [
       "888"
      ]
     },
     "metadata": {},
     "execution_count": 28
    }
   ],
   "source": [
    "vocabulary[6120]"
   ]
  },
  {
   "source": [],
   "cell_type": "markdown",
   "metadata": {}
  }
 ]
}