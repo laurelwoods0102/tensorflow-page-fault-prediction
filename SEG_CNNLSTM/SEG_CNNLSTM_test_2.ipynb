{
 "metadata": {
  "language_info": {
   "codemirror_mode": {
    "name": "ipython",
    "version": 3
   },
   "file_extension": ".py",
   "mimetype": "text/x-python",
   "name": "python",
   "nbconvert_exporter": "python",
   "pygments_lexer": "ipython3",
   "version": "3.7.6-final"
  },
  "orig_nbformat": 2,
  "kernelspec": {
   "name": "python3",
   "display_name": "Python 3.7.6 64-bit (conda)",
   "metadata": {
    "interpreter": {
     "hash": "b3ba2566441a7c06988d0923437866b63cedc61552a5af99d1f4fb67d367b25f"
    }
   }
  }
 },
 "nbformat": 4,
 "nbformat_minor": 2,
 "cells": [
  {
   "cell_type": "code",
   "execution_count": 1,
   "metadata": {},
   "outputs": [],
   "source": [
    "import tensorflow as tf\n",
    "from tensorflow import keras\n",
    "import numpy as np\n",
    "import pandas as pd\n",
    "import matplotlib\n",
    "import matplotlib.pyplot as plt\n",
    "import os\n",
    "import json\n",
    "import datetime\n",
    "from sklearn.metrics import accuracy_score, precision_score, recall_score, f1_score\n",
    "\n",
    "plt.rcParams[\"figure.figsize\"] = (20, 5)\n",
    "\n",
    "physical_devices = tf.config.list_physical_devices('GPU')\n",
    "tf.config.experimental.set_memory_growth(physical_devices[0], enable=True)"
   ]
  },
  {
   "cell_type": "code",
   "execution_count": 2,
   "metadata": {},
   "outputs": [],
   "source": [
    "#PAST_HISTORY = 16  # LSTM\n",
    "PAST_HISTORY = 64   # Bidirectional(LSTM)\n",
    "FUTURE_TARGET = 8"
   ]
  },
  {
   "cell_type": "code",
   "execution_count": 3,
   "metadata": {},
   "outputs": [
    {
     "output_type": "execute_result",
     "data": {
      "text/plain": [
       "'20200909-143624'"
      ]
     },
     "metadata": {},
     "execution_count": 3
    }
   ],
   "source": [
    "#timestamp = \"20200909-155423\"  # LSTM\n",
    "timestamp = \"20200909-143624\"   # Bidirectional(LSTM)\n",
    "timestamp"
   ]
  },
  {
   "cell_type": "code",
   "execution_count": 4,
   "metadata": {},
   "outputs": [],
   "source": [
    "dataset_name = \"SEG_CNNLSTM\""
   ]
  },
  {
   "cell_type": "code",
   "execution_count": 5,
   "metadata": {},
   "outputs": [
    {
     "output_type": "execute_result",
     "data": {
      "text/plain": [
       "array([93617988376, 93536062752, 93747035368, ..., 92658792872,\n",
       "       92658792864, 92654987192], dtype=int64)"
      ]
     },
     "metadata": {},
     "execution_count": 5
    }
   ],
   "source": [
    "data = np.genfromtxt(\"data/{}_test_set.csv\".format(dataset_name), delimiter=\"\\n\", dtype=np.int64)\n",
    "data"
   ]
  },
  {
   "cell_type": "code",
   "execution_count": 6,
   "metadata": {},
   "outputs": [
    {
     "output_type": "execute_result",
     "data": {
      "text/plain": [
       "(array([  81925624, -210972616,  189258952, ...,  -36097352,          8,\n",
       "           3805672], dtype=int64),\n",
       " 59298)"
      ]
     },
     "metadata": {},
     "execution_count": 6
    }
   ],
   "source": [
    "dataset = np.array([data[i] - data[i+1] for i in range(int(len(data))-1)])\n",
    "dataset, len(dataset)"
   ]
  },
  {
   "cell_type": "code",
   "execution_count": 7,
   "metadata": {},
   "outputs": [
    {
     "output_type": "execute_result",
     "data": {
      "text/plain": [
       "14882"
      ]
     },
     "metadata": {},
     "execution_count": 7
    }
   ],
   "source": [
    "word_index = np.genfromtxt(\"data/word_index.csv\", delimiter=\"\\n\", dtype=np.int64)\n",
    "vocab_size = len(word_index)\n",
    "vocab_size"
   ]
  },
  {
   "cell_type": "code",
   "execution_count": 8,
   "metadata": {},
   "outputs": [
    {
     "output_type": "execute_result",
     "data": {
      "text/plain": [
       "{-1: 0,\n",
       " 0: 1,\n",
       " 4096: 2,\n",
       " 909517620: 3,\n",
       " -909517620: 4,\n",
       " 8192: 5,\n",
       " -8: 6,\n",
       " -4096: 7,\n",
       " 8: 8,\n",
       " 12288: 9}"
      ]
     },
     "metadata": {},
     "execution_count": 8
    }
   ],
   "source": [
    "vocabulary = {word_index[i]:i for i in range(vocab_size)}\n",
    "dict(list(vocabulary.items())[0:10])"
   ]
  },
  {
   "cell_type": "code",
   "execution_count": 9,
   "metadata": {},
   "outputs": [
    {
     "output_type": "execute_result",
     "data": {
      "text/plain": [
       "array([       -1,         0,      4096, ...,  -7445040,  12889736,\n",
       "       619958144], dtype=int64)"
      ]
     },
     "metadata": {},
     "execution_count": 9
    }
   ],
   "source": [
    "word_index"
   ]
  },
  {
   "cell_type": "code",
   "execution_count": 10,
   "metadata": {},
   "outputs": [],
   "source": [
    "unseen_category = []\n",
    "in_word_index = np.where(np.isin(dataset, word_index))[0]\n",
    "for i in range(len(dataset)):\n",
    "    if i in in_word_index:\n",
    "        continue\n",
    "    unseen_category.append(i)"
   ]
  },
  {
   "cell_type": "code",
   "execution_count": 11,
   "metadata": {},
   "outputs": [],
   "source": [
    "dataset[unseen_category] = -1"
   ]
  },
  {
   "cell_type": "code",
   "execution_count": 12,
   "metadata": {},
   "outputs": [
    {
     "output_type": "execute_result",
     "data": {
      "text/plain": [
       "array([-1, -1, -1, ..., -1,  8, -1], dtype=int64)"
      ]
     },
     "metadata": {},
     "execution_count": 12
    }
   ],
   "source": [
    "dataset"
   ]
  },
  {
   "cell_type": "code",
   "execution_count": 13,
   "metadata": {},
   "outputs": [
    {
     "output_type": "execute_result",
     "data": {
      "text/plain": [
       "array([0, 0, 0, 0, 0, 0, 0, 0, 0, 0])"
      ]
     },
     "metadata": {},
     "execution_count": 13
    }
   ],
   "source": [
    "test_set = np.array([vocabulary[dataset[i]] for i in range(len(dataset))])\n",
    "#test_set = np.array(test_set).astype(np.float32)\n",
    "test_set[:10]"
   ]
  },
  {
   "cell_type": "code",
   "execution_count": 14,
   "metadata": {},
   "outputs": [
    {
     "output_type": "execute_result",
     "data": {
      "text/plain": [
       "59264"
      ]
     },
     "metadata": {},
     "execution_count": 14
    }
   ],
   "source": [
    "total_dataset_size = (test_set.shape[0] - FUTURE_TARGET)//PAST_HISTORY * PAST_HISTORY\n",
    "test_set = test_set[:total_dataset_size]\n",
    "total_dataset_size"
   ]
  },
  {
   "cell_type": "code",
   "execution_count": 15,
   "metadata": {},
   "outputs": [],
   "source": [
    "batch_size = 128\n",
    "batch_chunk_size = test_set.shape[0]//(batch_size * PAST_HISTORY) * (batch_size * PAST_HISTORY)"
   ]
  },
  {
   "cell_type": "code",
   "execution_count": 16,
   "metadata": {},
   "outputs": [
    {
     "output_type": "execute_result",
     "data": {
      "text/plain": [
       "(7, 128, 64, 1)"
      ]
     },
     "metadata": {},
     "execution_count": 16
    }
   ],
   "source": [
    "x_test_batch = test_set[:batch_chunk_size].reshape(-1, batch_size, PAST_HISTORY, 1)\n",
    "x_test_batch.shape"
   ]
  },
  {
   "cell_type": "code",
   "execution_count": 17,
   "metadata": {},
   "outputs": [
    {
     "output_type": "execute_result",
     "data": {
      "text/plain": [
       "(29, 64, 1)"
      ]
     },
     "metadata": {},
     "execution_count": 17
    }
   ],
   "source": [
    "x_test_remainder = test_set[batch_chunk_size:].reshape(-1, PAST_HISTORY, 1)\n",
    "x_test_remainder = x_test_remainder[:-1]    # remove last to match with y\n",
    "x_test_remainder.shape"
   ]
  },
  {
   "cell_type": "code",
   "execution_count": 18,
   "metadata": {},
   "outputs": [],
   "source": [
    "y_test = []\n",
    "for i in range(total_dataset_size // PAST_HISTORY):\n",
    "    y_test.extend(test_set[PAST_HISTORY*(i+1):PAST_HISTORY*(i+1) + FUTURE_TARGET])\n",
    "y_test = np.array(y_test)"
   ]
  },
  {
   "cell_type": "code",
   "execution_count": 19,
   "metadata": {},
   "outputs": [
    {
     "output_type": "execute_result",
     "data": {
      "text/plain": [
       "(7400,)"
      ]
     },
     "metadata": {},
     "execution_count": 19
    }
   ],
   "source": [
    "y_test.shape"
   ]
  },
  {
   "cell_type": "code",
   "execution_count": 20,
   "metadata": {},
   "outputs": [],
   "source": [
    "y_test = np.ravel(y_test)"
   ]
  },
  {
   "cell_type": "code",
   "execution_count": 21,
   "metadata": {},
   "outputs": [
    {
     "output_type": "execute_result",
     "data": {
      "text/plain": [
       "(7400,)"
      ]
     },
     "metadata": {},
     "execution_count": 21
    }
   ],
   "source": [
    "y_test.shape"
   ]
  },
  {
   "cell_type": "code",
   "execution_count": 22,
   "metadata": {
    "tags": []
   },
   "outputs": [
    {
     "output_type": "stream",
     "name": "stdout",
     "text": [
      "Model: \"sequential_135\"\n_________________________________________________________________\nLayer (type)                 Output Shape              Param #   \n=================================================================\nconv1d_168 (Conv1D)          (None, 64, 32)            128       \n_________________________________________________________________\nmax_pooling1d_112 (MaxPoolin (None, 32, 32)            0         \n_________________________________________________________________\nbidirectional_16 (Bidirectio (None, 354)               297360    \n_________________________________________________________________\ndropout_23 (Dropout)         (None, 354)               0         \n_________________________________________________________________\nrepeat_vector_8 (RepeatVecto (None, 8, 354)            0         \n_________________________________________________________________\nbidirectional_17 (Bidirectio (None, 8, 354)            753312    \n_________________________________________________________________\ndropout_24 (Dropout)         (None, 8, 354)            0         \n_________________________________________________________________\ntime_distributed_139 (TimeDi (None, 8, 14882)          5283110   \n=================================================================\nTotal params: 6,333,910\nTrainable params: 6,333,910\nNon-trainable params: 0\n_________________________________________________________________\n"
     ]
    }
   ],
   "source": [
    "model = keras.models.load_model(\"version/{}/model.h5\".format(timestamp))\n",
    "model.summary()"
   ]
  },
  {
   "cell_type": "code",
   "execution_count": 23,
   "metadata": {
    "tags": []
   },
   "outputs": [],
   "source": [
    "y_pred = []\n",
    "\n",
    "for x in x_test_batch:\n",
    "    y_pred.append(tf.argmax(model.predict(x.reshape(batch_size, PAST_HISTORY, 1), batch_size=batch_size), axis=-1))"
   ]
  },
  {
   "cell_type": "code",
   "execution_count": 24,
   "metadata": {},
   "outputs": [
    {
     "output_type": "execute_result",
     "data": {
      "text/plain": [
       "(7168,)"
      ]
     },
     "metadata": {},
     "execution_count": 24
    }
   ],
   "source": [
    "y_pred = np.ravel(np.array(y_pred))\n",
    "y_pred.shape"
   ]
  },
  {
   "cell_type": "code",
   "execution_count": 25,
   "metadata": {},
   "outputs": [
    {
     "output_type": "execute_result",
     "data": {
      "text/plain": [
       "(232,)"
      ]
     },
     "metadata": {},
     "execution_count": 25
    }
   ],
   "source": [
    "y_pred_remainder = []\n",
    "for x in x_test_remainder:\n",
    "    y_pred_remainder.append(tf.argmax(model.predict(x.reshape(1, PAST_HISTORY, 1)), axis=-1))\n",
    "\n",
    "y_pred_remainder = np.ravel(y_pred_remainder)\n",
    "y_pred_remainder.shape"
   ]
  },
  {
   "cell_type": "code",
   "execution_count": 26,
   "metadata": {},
   "outputs": [
    {
     "output_type": "execute_result",
     "data": {
      "text/plain": [
       "(7400,)"
      ]
     },
     "metadata": {},
     "execution_count": 26
    }
   ],
   "source": [
    "y_pred = np.r_[y_pred, y_pred_remainder]\n",
    "y_pred.shape"
   ]
  },
  {
   "cell_type": "code",
   "execution_count": 27,
   "metadata": {},
   "outputs": [],
   "source": [
    "with open(\"accuracy.csv\", \"w\") as c:\n",
    "    c.write(str(accuracy_score(y_test, y_pred)))"
   ]
  },
  {
   "cell_type": "code",
   "execution_count": 28,
   "metadata": {},
   "outputs": [],
   "source": [
    "p, r, f = [], [], []\n",
    "average_method = [\"micro\", \"macro\", \"weighted\"]\n",
    "\n",
    "for method in average_method:\n",
    "    precision = precision_score(y_test, y_pred, average=method)\n",
    "    recall = recall_score(y_test, y_pred, average=method)\n",
    "    f1 = f1_score(y_test, y_pred, average=method)\n",
    "     \n",
    "    p.append(precision)\n",
    "    r.append(recall)\n",
    "    f.append(f1)"
   ]
  },
  {
   "cell_type": "code",
   "execution_count": 29,
   "metadata": {},
   "outputs": [],
   "source": [
    "with open(\"precision.csv\", \"w\") as c:\n",
    "    c.write(\", \".join(average_method))\n",
    "    c.write(\"\\n\")\n",
    "    for score in p:\n",
    "        c.write(str(score))\n",
    "        c.write(\",\")"
   ]
  },
  {
   "cell_type": "code",
   "execution_count": 30,
   "metadata": {},
   "outputs": [],
   "source": [
    "with open(\"recall.csv\", \"w\") as c:\n",
    "    c.write(\", \".join(average_method))\n",
    "    c.write(\"\\n\")\n",
    "    for score in r:\n",
    "        c.write(str(score))\n",
    "        c.write(\",\")"
   ]
  },
  {
   "cell_type": "code",
   "execution_count": 31,
   "metadata": {},
   "outputs": [],
   "source": [
    "with open(\"f1.csv\", \"w\") as c:\n",
    "    c.write(\", \".join(average_method))\n",
    "    c.write(\"\\n\")\n",
    "    for score in f:\n",
    "        c.write(str(score))\n",
    "        c.write(\",\")"
   ]
  },
  {
   "cell_type": "code",
   "execution_count": null,
   "metadata": {},
   "outputs": [],
   "source": []
  }
 ]
}