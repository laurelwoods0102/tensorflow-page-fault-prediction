{
 "metadata": {
  "language_info": {
   "codemirror_mode": {
    "name": "ipython",
    "version": 3
   },
   "file_extension": ".py",
   "mimetype": "text/x-python",
   "name": "python",
   "nbconvert_exporter": "python",
   "pygments_lexer": "ipython3",
   "version": "3.7.6-final"
  },
  "orig_nbformat": 2,
  "kernelspec": {
   "name": "python3",
   "display_name": "Python 3.7.6 64-bit (conda)",
   "metadata": {
    "interpreter": {
     "hash": "b3ba2566441a7c06988d0923437866b63cedc61552a5af99d1f4fb67d367b25f"
    }
   }
  }
 },
 "nbformat": 4,
 "nbformat_minor": 2,
 "cells": [
  {
   "cell_type": "code",
   "execution_count": 1,
   "metadata": {},
   "outputs": [],
   "source": [
    "import tensorflow as tf\n",
    "from tensorflow import keras\n",
    "import numpy as np\n",
    "import pandas as pd\n",
    "import matplotlib\n",
    "import matplotlib.pyplot as plt\n",
    "import os\n",
    "import json\n",
    "import datetime\n",
    "\n",
    "plt.rcParams[\"figure.figsize\"] = (20, 5)\n",
    "\n",
    "physical_devices = tf.config.list_physical_devices('GPU')\n",
    "tf.config.experimental.set_memory_growth(physical_devices[0], enable=True)"
   ]
  },
  {
   "cell_type": "code",
   "execution_count": 2,
   "metadata": {},
   "outputs": [],
   "source": [
    "dataset_name = \"SEG_CNNLSTM\""
   ]
  },
  {
   "cell_type": "code",
   "execution_count": 3,
   "metadata": {},
   "outputs": [
    {
     "output_type": "execute_result",
     "data": {
      "text/plain": [
       "array([93617988376, 93536062752, 93747035368, ..., 92658792872,\n",
       "       92658792864, 92654987192], dtype=int64)"
      ]
     },
     "metadata": {},
     "execution_count": 3
    }
   ],
   "source": [
    "data = np.genfromtxt(\"data/{}_test_set.csv\".format(dataset_name), delimiter=\"\\n\", dtype=np.int64)\n",
    "data"
   ]
  },
  {
   "cell_type": "code",
   "execution_count": 4,
   "metadata": {},
   "outputs": [
    {
     "output_type": "execute_result",
     "data": {
      "text/plain": [
       "(array([ -81925624,  210972616, -189258952, ...,   36097352,         -8,\n",
       "          -3805672], dtype=int64),\n",
       " 59298)"
      ]
     },
     "metadata": {},
     "execution_count": 4
    }
   ],
   "source": [
    "dataset = np.array([data[i+1] - data[i] for i in range(int(len(data))-1)])\n",
    "dataset, len(dataset)"
   ]
  },
  {
   "cell_type": "code",
   "execution_count": 5,
   "metadata": {},
   "outputs": [
    {
     "output_type": "execute_result",
     "data": {
      "text/plain": [
       "14882"
      ]
     },
     "metadata": {},
     "execution_count": 5
    }
   ],
   "source": [
    "word_index = np.genfromtxt(\"data/word_index.csv\", delimiter=\"\\n\", dtype=np.int64)\n",
    "vocab_size = len(word_index)\n",
    "vocab_size"
   ]
  },
  {
   "cell_type": "code",
   "execution_count": 6,
   "metadata": {},
   "outputs": [
    {
     "output_type": "execute_result",
     "data": {
      "text/plain": [
       "{-1: 0,\n",
       " 0: 1,\n",
       " 4096: 2,\n",
       " 909517620: 3,\n",
       " -909517620: 4,\n",
       " 8192: 5,\n",
       " -8: 6,\n",
       " -4096: 7,\n",
       " 8: 8,\n",
       " 12288: 9}"
      ]
     },
     "metadata": {},
     "execution_count": 6
    }
   ],
   "source": [
    "vocabulary = {word_index[i]:i for i in range(vocab_size)}\n",
    "dict(list(vocabulary.items())[0:10])"
   ]
  },
  {
   "cell_type": "code",
   "execution_count": 7,
   "metadata": {},
   "outputs": [
    {
     "output_type": "execute_result",
     "data": {
      "text/plain": [
       "array([       -1,         0,      4096, ...,  -7445040,  12889736,\n",
       "       619958144], dtype=int64)"
      ]
     },
     "metadata": {},
     "execution_count": 7
    }
   ],
   "source": [
    "word_index"
   ]
  },
  {
   "cell_type": "code",
   "execution_count": 8,
   "metadata": {},
   "outputs": [],
   "source": [
    "unseen_category = []\n",
    "in_word_index = np.where(np.isin(dataset, word_index))[0]\n",
    "for i in range(len(dataset)):\n",
    "    if i in in_word_index:\n",
    "        continue\n",
    "    unseen_category.append(i)"
   ]
  },
  {
   "cell_type": "code",
   "execution_count": 9,
   "metadata": {},
   "outputs": [],
   "source": [
    "dataset[unseen_category] = -1"
   ]
  },
  {
   "cell_type": "code",
   "execution_count": 10,
   "metadata": {},
   "outputs": [
    {
     "output_type": "execute_result",
     "data": {
      "text/plain": [
       "array([ -81925624,  210972616, -189258952, ...,         -1,         -8,\n",
       "               -1], dtype=int64)"
      ]
     },
     "metadata": {},
     "execution_count": 10
    }
   ],
   "source": [
    "dataset"
   ]
  },
  {
   "cell_type": "code",
   "execution_count": 11,
   "metadata": {},
   "outputs": [
    {
     "output_type": "execute_result",
     "data": {
      "text/plain": [
       "array([ 3281., 10140., 10181.,  8177.,  9834., 14409.,  8531.,  8166.,\n",
       "        6807.,  4700.], dtype=float32)"
      ]
     },
     "metadata": {},
     "execution_count": 11
    }
   ],
   "source": [
    "test_set = [vocabulary[dataset[i]] for i in range(len(dataset))]\n",
    "test_set = np.array(test_set).astype(np.float32)\n",
    "test_set[:10]"
   ]
  },
  {
   "cell_type": "code",
   "execution_count": 12,
   "metadata": {},
   "outputs": [],
   "source": [
    "def generate_timeseries(dataset, start_index, end_index, history_size, target_size):\n",
    "    data = []\n",
    "    labels = []\n",
    "\n",
    "    start_index = start_index + history_size\n",
    "    if end_index is None:\n",
    "        end_index = len(dataset) - target_size\n",
    "\n",
    "    for i in range(start_index, end_index):\n",
    "        indices = range(i-history_size, i)\n",
    "        # Reshape data from (history_size,) to (history_size, n_feature)\n",
    "        data.append(np.reshape(dataset[indices], (history_size, 1)))\n",
    "        #data.append(dataset[indices])\n",
    "        labels.append(np.reshape(dataset[i:i+target_size], (target_size, 1)))\n",
    "        #labels.append(dataset[i:i+target_size])\n",
    "    return np.array(data), np.array(labels)"
   ]
  },
  {
   "cell_type": "code",
   "execution_count": 13,
   "metadata": {},
   "outputs": [
    {
     "output_type": "execute_result",
     "data": {
      "text/plain": [
       "((59274, 16, 1), (59274, 8, 1))"
      ]
     },
     "metadata": {},
     "execution_count": 13
    }
   ],
   "source": [
    "x_test, y_test = generate_timeseries(test_set, 0, None, 16, 8)\n",
    "x_test.shape, y_test.shape"
   ]
  },
  {
   "cell_type": "code",
   "execution_count": 14,
   "metadata": {},
   "outputs": [
    {
     "output_type": "execute_result",
     "data": {
      "text/plain": [
       "(array([[ 3281.],\n",
       "        [10140.],\n",
       "        [10181.],\n",
       "        [ 8177.],\n",
       "        [ 9834.],\n",
       "        [14409.],\n",
       "        [ 8531.],\n",
       "        [ 8166.],\n",
       "        [ 6807.],\n",
       "        [ 4700.],\n",
       "        [ 4453.],\n",
       "        [ 3203.],\n",
       "        [ 5888.],\n",
       "        [11018.],\n",
       "        [11563.],\n",
       "        [    0.]], dtype=float32),\n",
       " array([[1.000e+00],\n",
       "        [0.000e+00],\n",
       "        [1.291e+04],\n",
       "        [0.000e+00],\n",
       "        [6.358e+03],\n",
       "        [2.888e+03],\n",
       "        [1.700e+02],\n",
       "        [6.866e+03]], dtype=float32))"
      ]
     },
     "metadata": {},
     "execution_count": 14
    }
   ],
   "source": [
    "x_test[0], y_test[0]"
   ]
  },
  {
   "cell_type": "code",
   "execution_count": 15,
   "metadata": {},
   "outputs": [
    {
     "output_type": "execute_result",
     "data": {
      "text/plain": [
       "'20200909-155423'"
      ]
     },
     "metadata": {},
     "execution_count": 15
    }
   ],
   "source": [
    "timestamp = \"20200909-155423\"\n",
    "timestamp"
   ]
  },
  {
   "cell_type": "code",
   "execution_count": 16,
   "metadata": {
    "tags": []
   },
   "outputs": [
    {
     "output_type": "stream",
     "name": "stdout",
     "text": [
      "Model: \"sequential_24\"\n_________________________________________________________________\nLayer (type)                 Output Shape              Param #   \n=================================================================\nconv1d_45 (Conv1D)           (None, 16, 64)            640       \n_________________________________________________________________\nmax_pooling1d_29 (MaxPooling (None, 8, 64)             0         \n_________________________________________________________________\nlstm_25 (LSTM)               (None, 8, 64)             33024     \n_________________________________________________________________\nlstm_26 (LSTM)               (None, 8, 64)             33024     \n_________________________________________________________________\ntime_distributed_11 (TimeDis (None, 8, 14882)          967330    \n=================================================================\nTotal params: 1,034,018\nTrainable params: 1,034,018\nNon-trainable params: 0\n_________________________________________________________________\n"
     ]
    }
   ],
   "source": [
    "model = keras.models.load_model(\"version/{}/model.h5\".format(timestamp))\n",
    "model.summary()"
   ]
  },
  {
   "cell_type": "code",
   "execution_count": 17,
   "metadata": {
    "tags": []
   },
   "outputs": [
    {
     "output_type": "stream",
     "name": "stdout",
     "text": [
      "1853/1853 [==============================] - 9s 5ms/step - loss: 11.1615 - accuracy: 0.5641\n"
     ]
    },
    {
     "output_type": "execute_result",
     "data": {
      "text/plain": [
       "[11.161510467529297, 0.5640732049942017]"
      ]
     },
     "metadata": {},
     "execution_count": 17
    }
   ],
   "source": [
    "result = model.evaluate(x_test, y_test)\n",
    "result"
   ]
  },
  {
   "cell_type": "code",
   "execution_count": 18,
   "metadata": {},
   "outputs": [],
   "source": [
    "with open(\"version/{}/evaluate.txt\".format(timestamp), 'w') as e:\n",
    "    e.write(\"loss, accuracy\\n\")\n",
    "    e.write(\"{}, {}\".format(result[0], result[1]))"
   ]
  },
  {
   "cell_type": "code",
   "execution_count": null,
   "metadata": {},
   "outputs": [],
   "source": []
  }
 ]
}