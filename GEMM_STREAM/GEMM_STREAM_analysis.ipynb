{
 "metadata": {
  "language_info": {
   "codemirror_mode": {
    "name": "ipython",
    "version": 3
   },
   "file_extension": ".py",
   "mimetype": "text/x-python",
   "name": "python",
   "nbconvert_exporter": "python",
   "pygments_lexer": "ipython3",
   "version": "3.7.6"
  },
  "orig_nbformat": 2,
  "kernelspec": {
   "name": "python376jvsc74a57bd0b3ba2566441a7c06988d0923437866b63cedc61552a5af99d1f4fb67d367b25f",
   "display_name": "Python 3.7.6 64-bit (conda)"
  }
 },
 "nbformat": 4,
 "nbformat_minor": 2,
 "cells": [
  {
   "cell_type": "code",
   "execution_count": 1,
   "metadata": {},
   "outputs": [],
   "source": [
    "import numpy as np\n",
    "import pandas as pd\n",
    "import json\n",
    "import dill         # 0.3.2\n",
    "from sklearn.base import BaseEstimator, TransformerMixin\n",
    "from sklearn.pipeline import Pipeline\n",
    "from sklearn.model_selection import train_test_split"
   ]
  },
  {
   "cell_type": "markdown",
   "metadata": {},
   "source": [
    "## Set Global/Environment Variables"
   ]
  },
  {
   "cell_type": "code",
   "execution_count": 2,
   "metadata": {},
   "outputs": [],
   "source": [
    "model_name = \"GEMM_STREAM\""
   ]
  },
  {
   "cell_type": "markdown",
   "metadata": {},
   "source": [
    "## Load Dataset/Static Param List"
   ]
  },
  {
   "cell_type": "code",
   "execution_count": 3,
   "metadata": {},
   "outputs": [
    {
     "output_type": "execute_result",
     "data": {
      "text/plain": [
       "                   extra             time address_type          gpa  \\\n",
       "0       [861367.505406]   05:46:34:647695           PF    988827648   \n",
       "1       [861367.505455]   05:46:34:647744           PF    705122304   \n",
       "2       [861367.505459]   05:46:34:647748           PF    705122304   \n",
       "3       [861367.505464]   05:46:34:647754           PF   1227321344   \n",
       "4       [861367.505468]   05:46:34:647757           PF   1227321344   \n",
       "...                  ...              ...          ...          ...   \n",
       "407242  [957446.819051]   08:27:53:959834           PF  20453990400   \n",
       "407243  [957446.865342]   08:27:54:006124           PF  20453994496   \n",
       "407244  [957446.865354]   08:27:54:006138           PF  20453998592   \n",
       "407245  [957446.865359]   08:27:54:006143           PF  20454002688   \n",
       "407246  [957446.865362]   08:27:54:006146           PF  20454006784   \n",
       "\n",
       "                         rip   vmid  \n",
       "0       18446744072452043863   4034  \n",
       "1       18446744072452043863   4034  \n",
       "2       18446744072452043863   4034  \n",
       "3       18446744072452043863   4034  \n",
       "4       18446744072452043863   4034  \n",
       "...                      ...    ...  \n",
       "407242  18446744072506569815  17926  \n",
       "407243  18446744072506569815  17926  \n",
       "407244  18446744072506569815  17926  \n",
       "407245  18446744072506569815  17926  \n",
       "407246  18446744072506569815  17926  \n",
       "\n",
       "[9131832 rows x 6 columns]"
      ],
      "text/html": "<div>\n<style scoped>\n    .dataframe tbody tr th:only-of-type {\n        vertical-align: middle;\n    }\n\n    .dataframe tbody tr th {\n        vertical-align: top;\n    }\n\n    .dataframe thead th {\n        text-align: right;\n    }\n</style>\n<table border=\"1\" class=\"dataframe\">\n  <thead>\n    <tr style=\"text-align: right;\">\n      <th></th>\n      <th>extra</th>\n      <th>time</th>\n      <th>address_type</th>\n      <th>gpa</th>\n      <th>rip</th>\n      <th>vmid</th>\n    </tr>\n  </thead>\n  <tbody>\n    <tr>\n      <th>0</th>\n      <td>[861367.505406]</td>\n      <td>05:46:34:647695</td>\n      <td>PF</td>\n      <td>988827648</td>\n      <td>18446744072452043863</td>\n      <td>4034</td>\n    </tr>\n    <tr>\n      <th>1</th>\n      <td>[861367.505455]</td>\n      <td>05:46:34:647744</td>\n      <td>PF</td>\n      <td>705122304</td>\n      <td>18446744072452043863</td>\n      <td>4034</td>\n    </tr>\n    <tr>\n      <th>2</th>\n      <td>[861367.505459]</td>\n      <td>05:46:34:647748</td>\n      <td>PF</td>\n      <td>705122304</td>\n      <td>18446744072452043863</td>\n      <td>4034</td>\n    </tr>\n    <tr>\n      <th>3</th>\n      <td>[861367.505464]</td>\n      <td>05:46:34:647754</td>\n      <td>PF</td>\n      <td>1227321344</td>\n      <td>18446744072452043863</td>\n      <td>4034</td>\n    </tr>\n    <tr>\n      <th>4</th>\n      <td>[861367.505468]</td>\n      <td>05:46:34:647757</td>\n      <td>PF</td>\n      <td>1227321344</td>\n      <td>18446744072452043863</td>\n      <td>4034</td>\n    </tr>\n    <tr>\n      <th>...</th>\n      <td>...</td>\n      <td>...</td>\n      <td>...</td>\n      <td>...</td>\n      <td>...</td>\n      <td>...</td>\n    </tr>\n    <tr>\n      <th>407242</th>\n      <td>[957446.819051]</td>\n      <td>08:27:53:959834</td>\n      <td>PF</td>\n      <td>20453990400</td>\n      <td>18446744072506569815</td>\n      <td>17926</td>\n    </tr>\n    <tr>\n      <th>407243</th>\n      <td>[957446.865342]</td>\n      <td>08:27:54:006124</td>\n      <td>PF</td>\n      <td>20453994496</td>\n      <td>18446744072506569815</td>\n      <td>17926</td>\n    </tr>\n    <tr>\n      <th>407244</th>\n      <td>[957446.865354]</td>\n      <td>08:27:54:006138</td>\n      <td>PF</td>\n      <td>20453998592</td>\n      <td>18446744072506569815</td>\n      <td>17926</td>\n    </tr>\n    <tr>\n      <th>407245</th>\n      <td>[957446.865359]</td>\n      <td>08:27:54:006143</td>\n      <td>PF</td>\n      <td>20454002688</td>\n      <td>18446744072506569815</td>\n      <td>17926</td>\n    </tr>\n    <tr>\n      <th>407246</th>\n      <td>[957446.865362]</td>\n      <td>08:27:54:006146</td>\n      <td>PF</td>\n      <td>20454006784</td>\n      <td>18446744072506569815</td>\n      <td>17926</td>\n    </tr>\n  </tbody>\n</table>\n<p>9131832 rows × 6 columns</p>\n</div>"
     },
     "metadata": {},
     "execution_count": 3
    }
   ],
   "source": [
    "original_dataset = pd.concat([pd.read_csv(\"../로그 데이터/GEMM_STREAM/GEMM_STREAM/gemm_stream_generic_generic2_{}.csv\".format(i),\n",
    "dtype=np.object) for i in range(1, 10)], axis=0)\n",
    "original_dataset"
   ]
  },
  {
   "cell_type": "code",
   "execution_count": 4,
   "metadata": {},
   "outputs": [
    {
     "output_type": "execute_result",
     "data": {
      "text/plain": [
       "                gpa                   rip\n",
       "0         988827648  18446744072452043863\n",
       "1         705122304  18446744072452043863\n",
       "2         705122304  18446744072452043863\n",
       "3        1227321344  18446744072452043863\n",
       "4        1227321344  18446744072452043863\n",
       "...             ...                   ...\n",
       "407242  20453990400  18446744072506569815\n",
       "407243  20453994496  18446744072506569815\n",
       "407244  20453998592  18446744072506569815\n",
       "407245  20454002688  18446744072506569815\n",
       "407246  20454006784  18446744072506569815\n",
       "\n",
       "[9131603 rows x 2 columns]"
      ],
      "text/html": "<div>\n<style scoped>\n    .dataframe tbody tr th:only-of-type {\n        vertical-align: middle;\n    }\n\n    .dataframe tbody tr th {\n        vertical-align: top;\n    }\n\n    .dataframe thead th {\n        text-align: right;\n    }\n</style>\n<table border=\"1\" class=\"dataframe\">\n  <thead>\n    <tr style=\"text-align: right;\">\n      <th></th>\n      <th>gpa</th>\n      <th>rip</th>\n    </tr>\n  </thead>\n  <tbody>\n    <tr>\n      <th>0</th>\n      <td>988827648</td>\n      <td>18446744072452043863</td>\n    </tr>\n    <tr>\n      <th>1</th>\n      <td>705122304</td>\n      <td>18446744072452043863</td>\n    </tr>\n    <tr>\n      <th>2</th>\n      <td>705122304</td>\n      <td>18446744072452043863</td>\n    </tr>\n    <tr>\n      <th>3</th>\n      <td>1227321344</td>\n      <td>18446744072452043863</td>\n    </tr>\n    <tr>\n      <th>4</th>\n      <td>1227321344</td>\n      <td>18446744072452043863</td>\n    </tr>\n    <tr>\n      <th>...</th>\n      <td>...</td>\n      <td>...</td>\n    </tr>\n    <tr>\n      <th>407242</th>\n      <td>20453990400</td>\n      <td>18446744072506569815</td>\n    </tr>\n    <tr>\n      <th>407243</th>\n      <td>20453994496</td>\n      <td>18446744072506569815</td>\n    </tr>\n    <tr>\n      <th>407244</th>\n      <td>20453998592</td>\n      <td>18446744072506569815</td>\n    </tr>\n    <tr>\n      <th>407245</th>\n      <td>20454002688</td>\n      <td>18446744072506569815</td>\n    </tr>\n    <tr>\n      <th>407246</th>\n      <td>20454006784</td>\n      <td>18446744072506569815</td>\n    </tr>\n  </tbody>\n</table>\n<p>9131603 rows × 2 columns</p>\n</div>"
     },
     "metadata": {},
     "execution_count": 4
    }
   ],
   "source": [
    "original_dataset = original_dataset[[\"gpa\", \"rip\"]].dropna()       # rip for PCs\n",
    "original_dataset"
   ]
  },
  {
   "cell_type": "markdown",
   "metadata": {},
   "source": [
    "## Dataset Processing Functions"
   ]
  },
  {
   "cell_type": "code",
   "execution_count": 5,
   "metadata": {},
   "outputs": [],
   "source": [
    "class CalculateDelta(TransformerMixin):\n",
    "    def __init__(self):\n",
    "        pass\n",
    "\n",
    "    def fit(self, X, y=None):\n",
    "        return self\n",
    "        \n",
    "    def transform(self, X, y=None):\n",
    "        X_transformed = X[:-1] - X[1:]\n",
    "        # In case of unsigned types, change its type to string type\n",
    "        if X_transformed.dtype in [np.uint8, np.uint16, np.uint32, np.uint64]:\n",
    "            X_transformed = X_transformed.astype(np.string_)\n",
    "        return X_transformed\n",
    "\n",
    "    def inverse_transform(self, X, y=None):     # Just for test_pipeline.inverse_transform()\n",
    "        return X"
   ]
  },
  {
   "cell_type": "markdown",
   "metadata": {},
   "source": [
    "## Process Train/Validation Dataset"
   ]
  },
  {
   "cell_type": "code",
   "execution_count": 6,
   "metadata": {},
   "outputs": [],
   "source": [
    "# Train / Val / Test Ratio : 70% / 15% / 15%\n",
    "train_val_set, test_set = train_test_split(original_dataset, test_size=0.15, shuffle=False)\n",
    "#train_set, val_set = train_test_split(train_val_set, test_size=0.2, shuffle=False)"
   ]
  },
  {
   "cell_type": "code",
   "execution_count": 7,
   "metadata": {},
   "outputs": [],
   "source": [
    "train_val_gpa = train_val_set[\"gpa\"].values.astype(np.int64)\n",
    "train_val_rip = train_val_set[\"rip\"].values.astype(np.uint64)      # As uint64 not exists in pandas\n",
    "\n",
    "test_gpa = test_set[\"gpa\"].values.astype(np.int64)\n",
    "test_rip = test_set[\"rip\"].values.astype(np.uint64)      # As uint64 not exists in pandas"
   ]
  },
  {
   "cell_type": "code",
   "execution_count": 8,
   "metadata": {},
   "outputs": [],
   "source": [
    "calculate_delta = CalculateDelta()"
   ]
  },
  {
   "source": [
    "processed_train_val_gpa = calculate_delta.fit_transform(train_val_gpa.copy())\n",
    "processed_train_val_gpa"
   ],
   "cell_type": "code",
   "metadata": {},
   "execution_count": 9,
   "outputs": [
    {
     "output_type": "execute_result",
     "data": {
      "text/plain": [
       "array([ 283705344,          0, -522199040, ...,  202375168,          0,\n",
       "       -143433728], dtype=int64)"
      ]
     },
     "metadata": {},
     "execution_count": 9
    }
   ]
  },
  {
   "cell_type": "code",
   "execution_count": 10,
   "metadata": {
    "tags": []
   },
   "outputs": [
    {
     "output_type": "execute_result",
     "data": {
      "text/plain": [
       "array([b'0', b'0', b'0', ..., b'0', b'0', b'0'], dtype='|S20')"
      ]
     },
     "metadata": {},
     "execution_count": 10
    }
   ],
   "source": [
    "processed_train_val_rip = calculate_delta.transform(train_val_rip)\n",
    "processed_train_val_rip"
   ]
  },
  {
   "cell_type": "code",
   "execution_count": 11,
   "metadata": {},
   "outputs": [
    {
     "output_type": "execute_result",
     "data": {
      "text/plain": [
       "(-4096          2279684\n",
       "  0             1414252\n",
       " -1638400        169636\n",
       " -1896448         72617\n",
       " -8192            41617\n",
       "                 ...   \n",
       " -3494043644          1\n",
       " -490897392           1\n",
       " -7745351680          1\n",
       "  4063200             1\n",
       "  1425715200          1\n",
       " Length: 1124931, dtype: int64,\n",
       " b'0'                       5424746\n",
       " b'18446744073709551604'     241034\n",
       " b'18446744073709551605'     131801\n",
       " b'35'                       114156\n",
       " b'12'                        85491\n",
       "                             ...   \n",
       " b'18446744073567718722'          1\n",
       " b'70599133192'                   1\n",
       " b'18446743958634482790'          1\n",
       " b'18446698753035359606'          1\n",
       " b'139955177894880'               1\n",
       " Length: 63512, dtype: int64)"
      ]
     },
     "metadata": {},
     "execution_count": 11
    }
   ],
   "source": [
    "pd.Series(processed_train_val_gpa).value_counts(), pd.Series(processed_train_val_rip).value_counts()"
   ]
  },
  {
   "cell_type": "code",
   "execution_count": 12,
   "metadata": {},
   "outputs": [
    {
     "output_type": "execute_result",
     "data": {
      "text/plain": [
       "(1        865165\n",
       " 2        114501\n",
       " 3         44038\n",
       " 4         23992\n",
       " 5         15488\n",
       "           ...  \n",
       " 310           1\n",
       " 13616         1\n",
       " 6452          1\n",
       " 311           1\n",
       " 1019          1\n",
       " Length: 869, dtype: int64,\n",
       " 1          46006\n",
       " 2           6986\n",
       " 3           2698\n",
       " 4           1480\n",
       " 5            983\n",
       "            ...  \n",
       " 1074           1\n",
       " 5424746        1\n",
       " 1650           1\n",
       " 2002           1\n",
       " 303            1\n",
       " Length: 608, dtype: int64)"
      ]
     },
     "metadata": {},
     "execution_count": 12
    }
   ],
   "source": [
    "# Index = Occurence | Column = Number of included categories\n",
    "pd.Series(processed_train_val_gpa).value_counts().value_counts(), pd.Series(processed_train_val_rip).value_counts().value_counts()"
   ]
  },
  {
   "source": [
    "## gpa : N / P ratio"
   ],
   "cell_type": "markdown",
   "metadata": {}
  },
  {
   "cell_type": "code",
   "execution_count": 13,
   "metadata": {},
   "outputs": [],
   "source": [
    "gpa_data = []\n",
    "for gpa_threshold in range(50):\n",
    "    row = []\n",
    "    \n",
    "    row.append(gpa_threshold)\n",
    "    if gpa_threshold == 0:\n",
    "        gpa_p = len(pd.Series(processed_train_val_gpa).value_counts())\n",
    "        previous_gpa_p = gpa_p\n",
    "        previous_accuracy = 0\n",
    "        previous_ratio = 0\n",
    "    else:\n",
    "        gpa_p = len(pd.Series(processed_train_val_gpa).value_counts()) - sum(pd.Series(processed_train_val_gpa).value_counts().value_counts().loc[list(range(1, gpa_threshold+1))].values) + 1\n",
    "    row.append(gpa_p)\n",
    "    row.append(previous_gpa_p - gpa_p)\n",
    "    previous_gpa_p = gpa_p\n",
    "    ratio = processed_train_val_gpa.shape[0] / gpa_p\n",
    "    row.append(ratio)\n",
    "    row.append(ratio - previous_ratio)\n",
    "    previous_ratio = ratio\n",
    "    accuracy = sum(pd.Series(processed_train_val_gpa).value_counts().value_counts().loc[list(range(1, gpa_threshold+1))].values * pd.Series(processed_train_val_gpa).value_counts().value_counts().loc[list(range(1, gpa_threshold+1))].index) / (processed_train_val_gpa.shape[0])\n",
    "    row.append(accuracy)\n",
    "    row.append(accuracy - previous_accuracy)\n",
    "    previous_accuracy = accuracy\n",
    "\n",
    "    gpa_data.append(row)\n",
    "\n",
    "df_gpa_threshold = pd.DataFrame(data=gpa_data, columns=[\"threshold\", \"p\", \"p'\", \"n/p ratio\", \"ratio'\", \"upper limit for train/val accuracy\", \"accuracy'\"])"
   ]
  },
  {
   "cell_type": "code",
   "execution_count": 14,
   "metadata": {},
   "outputs": [
    {
     "output_type": "execute_result",
     "data": {
      "text/plain": [
       "    threshold        p      p'    n/p ratio     ratio'  \\\n",
       "0           0  1124931       0     6.899855   6.899855   \n",
       "1           1   259767  865164    29.880089  22.980234   \n",
       "2           2   145266  114501    53.432056  23.551967   \n",
       "3           3   101228   44038    76.677016  23.244961   \n",
       "4           4    77236   23992   100.495378  23.818362   \n",
       "5           5    61748   15488   125.702225  25.206847   \n",
       "6           6    50455   11293   153.837301  28.135075   \n",
       "7           7    41906    8549   185.220756  31.383455   \n",
       "8           8    35364    6542   219.484815  34.264059   \n",
       "9           9    30289    5075   256.260061  36.775246   \n",
       "10         10    26346    3943   294.612503  38.352441   \n",
       "11         11    23123    3223   335.677075  41.064572   \n",
       "12         12    20592    2531   376.935752  41.258677   \n",
       "13         13    18327    2265   423.520543  46.584792   \n",
       "14         14    16597    1730   467.666506  44.145963   \n",
       "15         15    15051    1546   515.704006  48.037500   \n",
       "16         16    13764    1287   563.924804  48.220797   \n",
       "17         17    12738    1026   609.346915  45.422111   \n",
       "18         18    11811     927   657.172212  47.825298   \n",
       "19         19    10975     836   707.231071  50.058858   \n",
       "20         20    10269     706   755.853637  48.622567   \n",
       "21         21     9649     620   804.421287  48.567650   \n",
       "22         22     9065     584   856.245008  51.823721   \n",
       "23         23     8528     537   910.161937  53.916929   \n",
       "24         24     8069     459   961.935928  51.773990   \n",
       "25         25     7661     408  1013.165514  51.229586   \n",
       "26         26     7305     356  1062.540862  49.375349   \n",
       "27         27     6966     339  1114.249354  51.708492   \n",
       "28         28     6647     319  1167.723936  53.474582   \n",
       "29         29     6345     302  1223.303546  55.579610   \n",
       "30         30     6069     276  1278.935739  55.632193   \n",
       "31         31     5819     250  1333.882282  54.946543   \n",
       "32         32     5582     237  1390.516123  56.633841   \n",
       "33         33     5363     219  1447.298340  56.782217   \n",
       "34         34     5154     209  1505.987776  58.689436   \n",
       "35         35     4966     188  1563.000604  57.012828   \n",
       "36         36     4790     176  1620.430271  57.429667   \n",
       "37         37     4613     177  1682.605896  62.175625   \n",
       "38         38     4466     147  1737.989476  55.383580   \n",
       "39         39     4343     123  1787.211835  49.222359   \n",
       "40         40     4193     150  1851.147389  63.935553   \n",
       "41         41     4074     119  1905.218704  54.071315   \n",
       "42         42     3947     127  1966.521662  61.302958   \n",
       "43         43     3818     129  2032.965165  66.443503   \n",
       "44         44     3706     112  2094.403940  61.438775   \n",
       "45         45     3618      88  2145.345771  50.941832   \n",
       "46         46     3512     106  2210.097096  64.751325   \n",
       "47         47     3409     103  2276.873277  66.776181   \n",
       "48         48     3325      84  2334.394286  57.521009   \n",
       "49         49     3241      84  2394.896945  60.502660   \n",
       "\n",
       "    upper limit for train/val accuracy  accuracy'  \n",
       "0                             0.000000   0.000000  \n",
       "1                             0.111464   0.111464  \n",
       "2                             0.140967   0.029503  \n",
       "3                             0.157988   0.017021  \n",
       "4                             0.170352   0.012364  \n",
       "5                             0.180329   0.009977  \n",
       "6                             0.189059   0.008730  \n",
       "7                             0.196769   0.007710  \n",
       "8                             0.203511   0.006743  \n",
       "9                             0.209396   0.005885  \n",
       "10                            0.214476   0.005080  \n",
       "11                            0.219043   0.004568  \n",
       "12                            0.222956   0.003913  \n",
       "13                            0.226750   0.003794  \n",
       "14                            0.229870   0.003120  \n",
       "15                            0.232858   0.002988  \n",
       "16                            0.235511   0.002653  \n",
       "17                            0.237758   0.002247  \n",
       "18                            0.239908   0.002150  \n",
       "19                            0.241954   0.002046  \n",
       "20                            0.243773   0.001819  \n",
       "21                            0.245451   0.001677  \n",
       "22                            0.247106   0.001655  \n",
       "23                            0.248697   0.001591  \n",
       "24                            0.250117   0.001419  \n",
       "25                            0.251431   0.001314  \n",
       "26                            0.252623   0.001192  \n",
       "27                            0.253802   0.001179  \n",
       "28                            0.254953   0.001151  \n",
       "29                            0.256081   0.001128  \n",
       "30                            0.257148   0.001067  \n",
       "31                            0.258147   0.000998  \n",
       "32                            0.259124   0.000977  \n",
       "33                            0.260055   0.000931  \n",
       "34                            0.260970   0.000916  \n",
       "35                            0.261818   0.000848  \n",
       "36                            0.262634   0.000816  \n",
       "37                            0.263478   0.000844  \n",
       "38                            0.264198   0.000720  \n",
       "39                            0.264816   0.000618  \n",
       "40                            0.265589   0.000773  \n",
       "41                            0.266217   0.000629  \n",
       "42                            0.266905   0.000687  \n",
       "43                            0.267619   0.000715  \n",
       "44                            0.268254   0.000635  \n",
       "45                            0.268764   0.000510  \n",
       "46                            0.269393   0.000628  \n",
       "47                            0.270016   0.000624  \n",
       "48                            0.270536   0.000519  \n",
       "49                            0.271066   0.000530  "
      ],
      "text/html": "<div>\n<style scoped>\n    .dataframe tbody tr th:only-of-type {\n        vertical-align: middle;\n    }\n\n    .dataframe tbody tr th {\n        vertical-align: top;\n    }\n\n    .dataframe thead th {\n        text-align: right;\n    }\n</style>\n<table border=\"1\" class=\"dataframe\">\n  <thead>\n    <tr style=\"text-align: right;\">\n      <th></th>\n      <th>threshold</th>\n      <th>p</th>\n      <th>p'</th>\n      <th>n/p ratio</th>\n      <th>ratio'</th>\n      <th>upper limit for train/val accuracy</th>\n      <th>accuracy'</th>\n    </tr>\n  </thead>\n  <tbody>\n    <tr>\n      <th>0</th>\n      <td>0</td>\n      <td>1124931</td>\n      <td>0</td>\n      <td>6.899855</td>\n      <td>6.899855</td>\n      <td>0.000000</td>\n      <td>0.000000</td>\n    </tr>\n    <tr>\n      <th>1</th>\n      <td>1</td>\n      <td>259767</td>\n      <td>865164</td>\n      <td>29.880089</td>\n      <td>22.980234</td>\n      <td>0.111464</td>\n      <td>0.111464</td>\n    </tr>\n    <tr>\n      <th>2</th>\n      <td>2</td>\n      <td>145266</td>\n      <td>114501</td>\n      <td>53.432056</td>\n      <td>23.551967</td>\n      <td>0.140967</td>\n      <td>0.029503</td>\n    </tr>\n    <tr>\n      <th>3</th>\n      <td>3</td>\n      <td>101228</td>\n      <td>44038</td>\n      <td>76.677016</td>\n      <td>23.244961</td>\n      <td>0.157988</td>\n      <td>0.017021</td>\n    </tr>\n    <tr>\n      <th>4</th>\n      <td>4</td>\n      <td>77236</td>\n      <td>23992</td>\n      <td>100.495378</td>\n      <td>23.818362</td>\n      <td>0.170352</td>\n      <td>0.012364</td>\n    </tr>\n    <tr>\n      <th>5</th>\n      <td>5</td>\n      <td>61748</td>\n      <td>15488</td>\n      <td>125.702225</td>\n      <td>25.206847</td>\n      <td>0.180329</td>\n      <td>0.009977</td>\n    </tr>\n    <tr>\n      <th>6</th>\n      <td>6</td>\n      <td>50455</td>\n      <td>11293</td>\n      <td>153.837301</td>\n      <td>28.135075</td>\n      <td>0.189059</td>\n      <td>0.008730</td>\n    </tr>\n    <tr>\n      <th>7</th>\n      <td>7</td>\n      <td>41906</td>\n      <td>8549</td>\n      <td>185.220756</td>\n      <td>31.383455</td>\n      <td>0.196769</td>\n      <td>0.007710</td>\n    </tr>\n    <tr>\n      <th>8</th>\n      <td>8</td>\n      <td>35364</td>\n      <td>6542</td>\n      <td>219.484815</td>\n      <td>34.264059</td>\n      <td>0.203511</td>\n      <td>0.006743</td>\n    </tr>\n    <tr>\n      <th>9</th>\n      <td>9</td>\n      <td>30289</td>\n      <td>5075</td>\n      <td>256.260061</td>\n      <td>36.775246</td>\n      <td>0.209396</td>\n      <td>0.005885</td>\n    </tr>\n    <tr>\n      <th>10</th>\n      <td>10</td>\n      <td>26346</td>\n      <td>3943</td>\n      <td>294.612503</td>\n      <td>38.352441</td>\n      <td>0.214476</td>\n      <td>0.005080</td>\n    </tr>\n    <tr>\n      <th>11</th>\n      <td>11</td>\n      <td>23123</td>\n      <td>3223</td>\n      <td>335.677075</td>\n      <td>41.064572</td>\n      <td>0.219043</td>\n      <td>0.004568</td>\n    </tr>\n    <tr>\n      <th>12</th>\n      <td>12</td>\n      <td>20592</td>\n      <td>2531</td>\n      <td>376.935752</td>\n      <td>41.258677</td>\n      <td>0.222956</td>\n      <td>0.003913</td>\n    </tr>\n    <tr>\n      <th>13</th>\n      <td>13</td>\n      <td>18327</td>\n      <td>2265</td>\n      <td>423.520543</td>\n      <td>46.584792</td>\n      <td>0.226750</td>\n      <td>0.003794</td>\n    </tr>\n    <tr>\n      <th>14</th>\n      <td>14</td>\n      <td>16597</td>\n      <td>1730</td>\n      <td>467.666506</td>\n      <td>44.145963</td>\n      <td>0.229870</td>\n      <td>0.003120</td>\n    </tr>\n    <tr>\n      <th>15</th>\n      <td>15</td>\n      <td>15051</td>\n      <td>1546</td>\n      <td>515.704006</td>\n      <td>48.037500</td>\n      <td>0.232858</td>\n      <td>0.002988</td>\n    </tr>\n    <tr>\n      <th>16</th>\n      <td>16</td>\n      <td>13764</td>\n      <td>1287</td>\n      <td>563.924804</td>\n      <td>48.220797</td>\n      <td>0.235511</td>\n      <td>0.002653</td>\n    </tr>\n    <tr>\n      <th>17</th>\n      <td>17</td>\n      <td>12738</td>\n      <td>1026</td>\n      <td>609.346915</td>\n      <td>45.422111</td>\n      <td>0.237758</td>\n      <td>0.002247</td>\n    </tr>\n    <tr>\n      <th>18</th>\n      <td>18</td>\n      <td>11811</td>\n      <td>927</td>\n      <td>657.172212</td>\n      <td>47.825298</td>\n      <td>0.239908</td>\n      <td>0.002150</td>\n    </tr>\n    <tr>\n      <th>19</th>\n      <td>19</td>\n      <td>10975</td>\n      <td>836</td>\n      <td>707.231071</td>\n      <td>50.058858</td>\n      <td>0.241954</td>\n      <td>0.002046</td>\n    </tr>\n    <tr>\n      <th>20</th>\n      <td>20</td>\n      <td>10269</td>\n      <td>706</td>\n      <td>755.853637</td>\n      <td>48.622567</td>\n      <td>0.243773</td>\n      <td>0.001819</td>\n    </tr>\n    <tr>\n      <th>21</th>\n      <td>21</td>\n      <td>9649</td>\n      <td>620</td>\n      <td>804.421287</td>\n      <td>48.567650</td>\n      <td>0.245451</td>\n      <td>0.001677</td>\n    </tr>\n    <tr>\n      <th>22</th>\n      <td>22</td>\n      <td>9065</td>\n      <td>584</td>\n      <td>856.245008</td>\n      <td>51.823721</td>\n      <td>0.247106</td>\n      <td>0.001655</td>\n    </tr>\n    <tr>\n      <th>23</th>\n      <td>23</td>\n      <td>8528</td>\n      <td>537</td>\n      <td>910.161937</td>\n      <td>53.916929</td>\n      <td>0.248697</td>\n      <td>0.001591</td>\n    </tr>\n    <tr>\n      <th>24</th>\n      <td>24</td>\n      <td>8069</td>\n      <td>459</td>\n      <td>961.935928</td>\n      <td>51.773990</td>\n      <td>0.250117</td>\n      <td>0.001419</td>\n    </tr>\n    <tr>\n      <th>25</th>\n      <td>25</td>\n      <td>7661</td>\n      <td>408</td>\n      <td>1013.165514</td>\n      <td>51.229586</td>\n      <td>0.251431</td>\n      <td>0.001314</td>\n    </tr>\n    <tr>\n      <th>26</th>\n      <td>26</td>\n      <td>7305</td>\n      <td>356</td>\n      <td>1062.540862</td>\n      <td>49.375349</td>\n      <td>0.252623</td>\n      <td>0.001192</td>\n    </tr>\n    <tr>\n      <th>27</th>\n      <td>27</td>\n      <td>6966</td>\n      <td>339</td>\n      <td>1114.249354</td>\n      <td>51.708492</td>\n      <td>0.253802</td>\n      <td>0.001179</td>\n    </tr>\n    <tr>\n      <th>28</th>\n      <td>28</td>\n      <td>6647</td>\n      <td>319</td>\n      <td>1167.723936</td>\n      <td>53.474582</td>\n      <td>0.254953</td>\n      <td>0.001151</td>\n    </tr>\n    <tr>\n      <th>29</th>\n      <td>29</td>\n      <td>6345</td>\n      <td>302</td>\n      <td>1223.303546</td>\n      <td>55.579610</td>\n      <td>0.256081</td>\n      <td>0.001128</td>\n    </tr>\n    <tr>\n      <th>30</th>\n      <td>30</td>\n      <td>6069</td>\n      <td>276</td>\n      <td>1278.935739</td>\n      <td>55.632193</td>\n      <td>0.257148</td>\n      <td>0.001067</td>\n    </tr>\n    <tr>\n      <th>31</th>\n      <td>31</td>\n      <td>5819</td>\n      <td>250</td>\n      <td>1333.882282</td>\n      <td>54.946543</td>\n      <td>0.258147</td>\n      <td>0.000998</td>\n    </tr>\n    <tr>\n      <th>32</th>\n      <td>32</td>\n      <td>5582</td>\n      <td>237</td>\n      <td>1390.516123</td>\n      <td>56.633841</td>\n      <td>0.259124</td>\n      <td>0.000977</td>\n    </tr>\n    <tr>\n      <th>33</th>\n      <td>33</td>\n      <td>5363</td>\n      <td>219</td>\n      <td>1447.298340</td>\n      <td>56.782217</td>\n      <td>0.260055</td>\n      <td>0.000931</td>\n    </tr>\n    <tr>\n      <th>34</th>\n      <td>34</td>\n      <td>5154</td>\n      <td>209</td>\n      <td>1505.987776</td>\n      <td>58.689436</td>\n      <td>0.260970</td>\n      <td>0.000916</td>\n    </tr>\n    <tr>\n      <th>35</th>\n      <td>35</td>\n      <td>4966</td>\n      <td>188</td>\n      <td>1563.000604</td>\n      <td>57.012828</td>\n      <td>0.261818</td>\n      <td>0.000848</td>\n    </tr>\n    <tr>\n      <th>36</th>\n      <td>36</td>\n      <td>4790</td>\n      <td>176</td>\n      <td>1620.430271</td>\n      <td>57.429667</td>\n      <td>0.262634</td>\n      <td>0.000816</td>\n    </tr>\n    <tr>\n      <th>37</th>\n      <td>37</td>\n      <td>4613</td>\n      <td>177</td>\n      <td>1682.605896</td>\n      <td>62.175625</td>\n      <td>0.263478</td>\n      <td>0.000844</td>\n    </tr>\n    <tr>\n      <th>38</th>\n      <td>38</td>\n      <td>4466</td>\n      <td>147</td>\n      <td>1737.989476</td>\n      <td>55.383580</td>\n      <td>0.264198</td>\n      <td>0.000720</td>\n    </tr>\n    <tr>\n      <th>39</th>\n      <td>39</td>\n      <td>4343</td>\n      <td>123</td>\n      <td>1787.211835</td>\n      <td>49.222359</td>\n      <td>0.264816</td>\n      <td>0.000618</td>\n    </tr>\n    <tr>\n      <th>40</th>\n      <td>40</td>\n      <td>4193</td>\n      <td>150</td>\n      <td>1851.147389</td>\n      <td>63.935553</td>\n      <td>0.265589</td>\n      <td>0.000773</td>\n    </tr>\n    <tr>\n      <th>41</th>\n      <td>41</td>\n      <td>4074</td>\n      <td>119</td>\n      <td>1905.218704</td>\n      <td>54.071315</td>\n      <td>0.266217</td>\n      <td>0.000629</td>\n    </tr>\n    <tr>\n      <th>42</th>\n      <td>42</td>\n      <td>3947</td>\n      <td>127</td>\n      <td>1966.521662</td>\n      <td>61.302958</td>\n      <td>0.266905</td>\n      <td>0.000687</td>\n    </tr>\n    <tr>\n      <th>43</th>\n      <td>43</td>\n      <td>3818</td>\n      <td>129</td>\n      <td>2032.965165</td>\n      <td>66.443503</td>\n      <td>0.267619</td>\n      <td>0.000715</td>\n    </tr>\n    <tr>\n      <th>44</th>\n      <td>44</td>\n      <td>3706</td>\n      <td>112</td>\n      <td>2094.403940</td>\n      <td>61.438775</td>\n      <td>0.268254</td>\n      <td>0.000635</td>\n    </tr>\n    <tr>\n      <th>45</th>\n      <td>45</td>\n      <td>3618</td>\n      <td>88</td>\n      <td>2145.345771</td>\n      <td>50.941832</td>\n      <td>0.268764</td>\n      <td>0.000510</td>\n    </tr>\n    <tr>\n      <th>46</th>\n      <td>46</td>\n      <td>3512</td>\n      <td>106</td>\n      <td>2210.097096</td>\n      <td>64.751325</td>\n      <td>0.269393</td>\n      <td>0.000628</td>\n    </tr>\n    <tr>\n      <th>47</th>\n      <td>47</td>\n      <td>3409</td>\n      <td>103</td>\n      <td>2276.873277</td>\n      <td>66.776181</td>\n      <td>0.270016</td>\n      <td>0.000624</td>\n    </tr>\n    <tr>\n      <th>48</th>\n      <td>48</td>\n      <td>3325</td>\n      <td>84</td>\n      <td>2334.394286</td>\n      <td>57.521009</td>\n      <td>0.270536</td>\n      <td>0.000519</td>\n    </tr>\n    <tr>\n      <th>49</th>\n      <td>49</td>\n      <td>3241</td>\n      <td>84</td>\n      <td>2394.896945</td>\n      <td>60.502660</td>\n      <td>0.271066</td>\n      <td>0.000530</td>\n    </tr>\n  </tbody>\n</table>\n</div>"
     },
     "metadata": {},
     "execution_count": 14
    }
   ],
   "source": [
    "df_gpa_threshold"
   ]
  },
  {
   "source": [
    "## rip : N / P ratio"
   ],
   "cell_type": "markdown",
   "metadata": {}
  },
  {
   "cell_type": "code",
   "execution_count": 15,
   "metadata": {},
   "outputs": [],
   "source": [
    "rip_data = []\n",
    "for rip_threshold in range(50):\n",
    "    row = []\n",
    "    \n",
    "    row.append(rip_threshold)\n",
    "    if rip_threshold == 0:\n",
    "        rip_p = len(pd.Series(processed_train_val_rip).value_counts())\n",
    "        previous_rip_p = rip_p\n",
    "        previous_accuracy = 0\n",
    "        previous_ratio = 0\n",
    "    else:\n",
    "        rip_p = len(pd.Series(processed_train_val_rip).value_counts()) - sum(pd.Series(processed_train_val_rip).value_counts().value_counts().loc[list(range(1, rip_threshold+1))].values) + 1\n",
    "    row.append(rip_p)\n",
    "    row.append(previous_rip_p - rip_p)\n",
    "    previous_rip_p = rip_p\n",
    "    ratio = processed_train_val_rip.shape[0] / rip_p\n",
    "    row.append(ratio)\n",
    "    row.append(ratio - previous_ratio)\n",
    "    previous_ratio = ratio\n",
    "    accuracy = sum(pd.Series(processed_train_val_rip).value_counts().value_counts().loc[list(range(1, rip_threshold+1))].values * pd.Series(processed_train_val_rip).value_counts().value_counts().loc[list(range(1, rip_threshold+1))].index) / (processed_train_val_rip.shape[0])\n",
    "    row.append(accuracy)\n",
    "    row.append(accuracy - previous_accuracy)\n",
    "    previous_accuracy = accuracy\n",
    "\n",
    "    rip_data.append(row)\n",
    "\n",
    "df_rip_threshold = pd.DataFrame(data=rip_data, columns=[\"threshold\", \"p\", \"p'\", \"n/p ratio\", \"ratio'\", \"upper limit for train/val accuracy\", \"accuracy'\"])"
   ]
  },
  {
   "cell_type": "code",
   "execution_count": 16,
   "metadata": {},
   "outputs": [
    {
     "output_type": "execute_result",
     "data": {
      "text/plain": [
       "    threshold      p     p'    n/p ratio      ratio'  \\\n",
       "0           0  63512      0   122.210937  122.210937   \n",
       "1           1  17507  46005   443.357571  321.146635   \n",
       "2           2  10521   6986   737.749358  294.391787   \n",
       "3           3   7823   2698   992.184712  254.435353   \n",
       "4           4   6343   1480  1223.689264  231.504552   \n",
       "5           5   5360    983  1448.108396  224.419132   \n",
       "6           6   4661    699  1665.278052  217.169656   \n",
       "7           7   4174    487  1859.573790  194.295738   \n",
       "8           8   3800    374  2042.595000  183.021210   \n",
       "9           9   3490    310  2224.028940  181.433940   \n",
       "10         10   3237    253  2397.856348  173.827409   \n",
       "11         11   3043    194  2550.726586  152.870237   \n",
       "12         12   2863    180  2711.093608  160.367022   \n",
       "13         13   2690    173  2885.450186  174.356578   \n",
       "14         14   2544    146  3051.045991  165.595805   \n",
       "15         15   2432    112  3191.554688  140.508697   \n",
       "16         16   2333     99  3326.987141  135.432454   \n",
       "17         17   2236     97  3471.315295  144.328154   \n",
       "18         18   2139     97  3628.733520  157.418225   \n",
       "19         19   2069     70  3751.503625  122.770105   \n",
       "20         20   2006     63  3869.322532  117.818907   \n",
       "21         21   1947     59  3986.574730  117.252198   \n",
       "22         22   1885     62  4117.698143  131.123413   \n",
       "23         23   1826     59  4250.745345  133.047202   \n",
       "24         24   1765     61  4397.654958  146.909612   \n",
       "25         25   1723     42  4504.852583  107.197625   \n",
       "26         26   1654     69  4692.781741  187.929159   \n",
       "27         27   1609     45  4824.027968  131.246226   \n",
       "28         28   1563     46  4966.001919  141.973952   \n",
       "29         29   1512     51  5133.505952  167.504033   \n",
       "30         30   1481     31  5240.959487  107.453534   \n",
       "31         31   1438     43  5397.678025  156.718538   \n",
       "32         32   1404     34  5528.391026  130.713001   \n",
       "33         33   1366     38  5682.182284  153.791258   \n",
       "34         34   1332     34  5827.222973  145.040689   \n",
       "35         35   1308     24  5934.144495  106.921522   \n",
       "36         36   1277     31  6078.199687  144.055191   \n",
       "37         37   1264     13  6140.712816   62.513130   \n",
       "38         38   1251     13  6204.525180   63.812363   \n",
       "39         39   1236     15  6279.822816   75.297636   \n",
       "40         40   1213     23  6398.896125  119.073310   \n",
       "41         41   1195     18  6495.281172   96.385046   \n",
       "42         42   1173     22  6617.102302  121.821130   \n",
       "43         43   1157     16  6708.609334   91.507033   \n",
       "44         44   1140     17  6808.650000  100.040666   \n",
       "45         45   1127     13  6887.188110   78.538110   \n",
       "46         46   1115     12  6961.310314   74.122204   \n",
       "47         47   1100     15  7056.237273   94.926959   \n",
       "48         48   1092      8  7107.931319   51.694046   \n",
       "49         49   1076     16  7213.625465  105.694146   \n",
       "\n",
       "    upper limit for train/val accuracy  accuracy'  \n",
       "0                             0.000000   0.000000  \n",
       "1                             0.005927   0.005927  \n",
       "2                             0.007727   0.001800  \n",
       "3                             0.008770   0.001043  \n",
       "4                             0.009533   0.000763  \n",
       "5                             0.010166   0.000633  \n",
       "6                             0.010706   0.000540  \n",
       "7                             0.011146   0.000439  \n",
       "8                             0.011531   0.000385  \n",
       "9                             0.011890   0.000359  \n",
       "10                            0.012216   0.000326  \n",
       "11                            0.012491   0.000275  \n",
       "12                            0.012770   0.000278  \n",
       "13                            0.013059   0.000290  \n",
       "14                            0.013323   0.000263  \n",
       "15                            0.013539   0.000216  \n",
       "16                            0.013743   0.000204  \n",
       "17                            0.013956   0.000212  \n",
       "18                            0.014181   0.000225  \n",
       "19                            0.014352   0.000171  \n",
       "20                            0.014514   0.000162  \n",
       "21                            0.014674   0.000160  \n",
       "22                            0.014850   0.000176  \n",
       "23                            0.015024   0.000175  \n",
       "24                            0.015213   0.000189  \n",
       "25                            0.015348   0.000135  \n",
       "26                            0.015580   0.000231  \n",
       "27                            0.015736   0.000157  \n",
       "28                            0.015902   0.000166  \n",
       "29                            0.016093   0.000191  \n",
       "30                            0.016212   0.000120  \n",
       "31                            0.016384   0.000172  \n",
       "32                            0.016524   0.000140  \n",
       "33                            0.016686   0.000162  \n",
       "34                            0.016835   0.000149  \n",
       "35                            0.016943   0.000108  \n",
       "36                            0.017087   0.000144  \n",
       "37                            0.017149   0.000062  \n",
       "38                            0.017212   0.000064  \n",
       "39                            0.017288   0.000075  \n",
       "40                            0.017406   0.000119  \n",
       "41                            0.017501   0.000095  \n",
       "42                            0.017620   0.000119  \n",
       "43                            0.017709   0.000089  \n",
       "44                            0.017805   0.000096  \n",
       "45                            0.017881   0.000075  \n",
       "46                            0.017952   0.000071  \n",
       "47                            0.018043   0.000091  \n",
       "48                            0.018092   0.000049  \n",
       "49                            0.018193   0.000101  "
      ],
      "text/html": "<div>\n<style scoped>\n    .dataframe tbody tr th:only-of-type {\n        vertical-align: middle;\n    }\n\n    .dataframe tbody tr th {\n        vertical-align: top;\n    }\n\n    .dataframe thead th {\n        text-align: right;\n    }\n</style>\n<table border=\"1\" class=\"dataframe\">\n  <thead>\n    <tr style=\"text-align: right;\">\n      <th></th>\n      <th>threshold</th>\n      <th>p</th>\n      <th>p'</th>\n      <th>n/p ratio</th>\n      <th>ratio'</th>\n      <th>upper limit for train/val accuracy</th>\n      <th>accuracy'</th>\n    </tr>\n  </thead>\n  <tbody>\n    <tr>\n      <th>0</th>\n      <td>0</td>\n      <td>63512</td>\n      <td>0</td>\n      <td>122.210937</td>\n      <td>122.210937</td>\n      <td>0.000000</td>\n      <td>0.000000</td>\n    </tr>\n    <tr>\n      <th>1</th>\n      <td>1</td>\n      <td>17507</td>\n      <td>46005</td>\n      <td>443.357571</td>\n      <td>321.146635</td>\n      <td>0.005927</td>\n      <td>0.005927</td>\n    </tr>\n    <tr>\n      <th>2</th>\n      <td>2</td>\n      <td>10521</td>\n      <td>6986</td>\n      <td>737.749358</td>\n      <td>294.391787</td>\n      <td>0.007727</td>\n      <td>0.001800</td>\n    </tr>\n    <tr>\n      <th>3</th>\n      <td>3</td>\n      <td>7823</td>\n      <td>2698</td>\n      <td>992.184712</td>\n      <td>254.435353</td>\n      <td>0.008770</td>\n      <td>0.001043</td>\n    </tr>\n    <tr>\n      <th>4</th>\n      <td>4</td>\n      <td>6343</td>\n      <td>1480</td>\n      <td>1223.689264</td>\n      <td>231.504552</td>\n      <td>0.009533</td>\n      <td>0.000763</td>\n    </tr>\n    <tr>\n      <th>5</th>\n      <td>5</td>\n      <td>5360</td>\n      <td>983</td>\n      <td>1448.108396</td>\n      <td>224.419132</td>\n      <td>0.010166</td>\n      <td>0.000633</td>\n    </tr>\n    <tr>\n      <th>6</th>\n      <td>6</td>\n      <td>4661</td>\n      <td>699</td>\n      <td>1665.278052</td>\n      <td>217.169656</td>\n      <td>0.010706</td>\n      <td>0.000540</td>\n    </tr>\n    <tr>\n      <th>7</th>\n      <td>7</td>\n      <td>4174</td>\n      <td>487</td>\n      <td>1859.573790</td>\n      <td>194.295738</td>\n      <td>0.011146</td>\n      <td>0.000439</td>\n    </tr>\n    <tr>\n      <th>8</th>\n      <td>8</td>\n      <td>3800</td>\n      <td>374</td>\n      <td>2042.595000</td>\n      <td>183.021210</td>\n      <td>0.011531</td>\n      <td>0.000385</td>\n    </tr>\n    <tr>\n      <th>9</th>\n      <td>9</td>\n      <td>3490</td>\n      <td>310</td>\n      <td>2224.028940</td>\n      <td>181.433940</td>\n      <td>0.011890</td>\n      <td>0.000359</td>\n    </tr>\n    <tr>\n      <th>10</th>\n      <td>10</td>\n      <td>3237</td>\n      <td>253</td>\n      <td>2397.856348</td>\n      <td>173.827409</td>\n      <td>0.012216</td>\n      <td>0.000326</td>\n    </tr>\n    <tr>\n      <th>11</th>\n      <td>11</td>\n      <td>3043</td>\n      <td>194</td>\n      <td>2550.726586</td>\n      <td>152.870237</td>\n      <td>0.012491</td>\n      <td>0.000275</td>\n    </tr>\n    <tr>\n      <th>12</th>\n      <td>12</td>\n      <td>2863</td>\n      <td>180</td>\n      <td>2711.093608</td>\n      <td>160.367022</td>\n      <td>0.012770</td>\n      <td>0.000278</td>\n    </tr>\n    <tr>\n      <th>13</th>\n      <td>13</td>\n      <td>2690</td>\n      <td>173</td>\n      <td>2885.450186</td>\n      <td>174.356578</td>\n      <td>0.013059</td>\n      <td>0.000290</td>\n    </tr>\n    <tr>\n      <th>14</th>\n      <td>14</td>\n      <td>2544</td>\n      <td>146</td>\n      <td>3051.045991</td>\n      <td>165.595805</td>\n      <td>0.013323</td>\n      <td>0.000263</td>\n    </tr>\n    <tr>\n      <th>15</th>\n      <td>15</td>\n      <td>2432</td>\n      <td>112</td>\n      <td>3191.554688</td>\n      <td>140.508697</td>\n      <td>0.013539</td>\n      <td>0.000216</td>\n    </tr>\n    <tr>\n      <th>16</th>\n      <td>16</td>\n      <td>2333</td>\n      <td>99</td>\n      <td>3326.987141</td>\n      <td>135.432454</td>\n      <td>0.013743</td>\n      <td>0.000204</td>\n    </tr>\n    <tr>\n      <th>17</th>\n      <td>17</td>\n      <td>2236</td>\n      <td>97</td>\n      <td>3471.315295</td>\n      <td>144.328154</td>\n      <td>0.013956</td>\n      <td>0.000212</td>\n    </tr>\n    <tr>\n      <th>18</th>\n      <td>18</td>\n      <td>2139</td>\n      <td>97</td>\n      <td>3628.733520</td>\n      <td>157.418225</td>\n      <td>0.014181</td>\n      <td>0.000225</td>\n    </tr>\n    <tr>\n      <th>19</th>\n      <td>19</td>\n      <td>2069</td>\n      <td>70</td>\n      <td>3751.503625</td>\n      <td>122.770105</td>\n      <td>0.014352</td>\n      <td>0.000171</td>\n    </tr>\n    <tr>\n      <th>20</th>\n      <td>20</td>\n      <td>2006</td>\n      <td>63</td>\n      <td>3869.322532</td>\n      <td>117.818907</td>\n      <td>0.014514</td>\n      <td>0.000162</td>\n    </tr>\n    <tr>\n      <th>21</th>\n      <td>21</td>\n      <td>1947</td>\n      <td>59</td>\n      <td>3986.574730</td>\n      <td>117.252198</td>\n      <td>0.014674</td>\n      <td>0.000160</td>\n    </tr>\n    <tr>\n      <th>22</th>\n      <td>22</td>\n      <td>1885</td>\n      <td>62</td>\n      <td>4117.698143</td>\n      <td>131.123413</td>\n      <td>0.014850</td>\n      <td>0.000176</td>\n    </tr>\n    <tr>\n      <th>23</th>\n      <td>23</td>\n      <td>1826</td>\n      <td>59</td>\n      <td>4250.745345</td>\n      <td>133.047202</td>\n      <td>0.015024</td>\n      <td>0.000175</td>\n    </tr>\n    <tr>\n      <th>24</th>\n      <td>24</td>\n      <td>1765</td>\n      <td>61</td>\n      <td>4397.654958</td>\n      <td>146.909612</td>\n      <td>0.015213</td>\n      <td>0.000189</td>\n    </tr>\n    <tr>\n      <th>25</th>\n      <td>25</td>\n      <td>1723</td>\n      <td>42</td>\n      <td>4504.852583</td>\n      <td>107.197625</td>\n      <td>0.015348</td>\n      <td>0.000135</td>\n    </tr>\n    <tr>\n      <th>26</th>\n      <td>26</td>\n      <td>1654</td>\n      <td>69</td>\n      <td>4692.781741</td>\n      <td>187.929159</td>\n      <td>0.015580</td>\n      <td>0.000231</td>\n    </tr>\n    <tr>\n      <th>27</th>\n      <td>27</td>\n      <td>1609</td>\n      <td>45</td>\n      <td>4824.027968</td>\n      <td>131.246226</td>\n      <td>0.015736</td>\n      <td>0.000157</td>\n    </tr>\n    <tr>\n      <th>28</th>\n      <td>28</td>\n      <td>1563</td>\n      <td>46</td>\n      <td>4966.001919</td>\n      <td>141.973952</td>\n      <td>0.015902</td>\n      <td>0.000166</td>\n    </tr>\n    <tr>\n      <th>29</th>\n      <td>29</td>\n      <td>1512</td>\n      <td>51</td>\n      <td>5133.505952</td>\n      <td>167.504033</td>\n      <td>0.016093</td>\n      <td>0.000191</td>\n    </tr>\n    <tr>\n      <th>30</th>\n      <td>30</td>\n      <td>1481</td>\n      <td>31</td>\n      <td>5240.959487</td>\n      <td>107.453534</td>\n      <td>0.016212</td>\n      <td>0.000120</td>\n    </tr>\n    <tr>\n      <th>31</th>\n      <td>31</td>\n      <td>1438</td>\n      <td>43</td>\n      <td>5397.678025</td>\n      <td>156.718538</td>\n      <td>0.016384</td>\n      <td>0.000172</td>\n    </tr>\n    <tr>\n      <th>32</th>\n      <td>32</td>\n      <td>1404</td>\n      <td>34</td>\n      <td>5528.391026</td>\n      <td>130.713001</td>\n      <td>0.016524</td>\n      <td>0.000140</td>\n    </tr>\n    <tr>\n      <th>33</th>\n      <td>33</td>\n      <td>1366</td>\n      <td>38</td>\n      <td>5682.182284</td>\n      <td>153.791258</td>\n      <td>0.016686</td>\n      <td>0.000162</td>\n    </tr>\n    <tr>\n      <th>34</th>\n      <td>34</td>\n      <td>1332</td>\n      <td>34</td>\n      <td>5827.222973</td>\n      <td>145.040689</td>\n      <td>0.016835</td>\n      <td>0.000149</td>\n    </tr>\n    <tr>\n      <th>35</th>\n      <td>35</td>\n      <td>1308</td>\n      <td>24</td>\n      <td>5934.144495</td>\n      <td>106.921522</td>\n      <td>0.016943</td>\n      <td>0.000108</td>\n    </tr>\n    <tr>\n      <th>36</th>\n      <td>36</td>\n      <td>1277</td>\n      <td>31</td>\n      <td>6078.199687</td>\n      <td>144.055191</td>\n      <td>0.017087</td>\n      <td>0.000144</td>\n    </tr>\n    <tr>\n      <th>37</th>\n      <td>37</td>\n      <td>1264</td>\n      <td>13</td>\n      <td>6140.712816</td>\n      <td>62.513130</td>\n      <td>0.017149</td>\n      <td>0.000062</td>\n    </tr>\n    <tr>\n      <th>38</th>\n      <td>38</td>\n      <td>1251</td>\n      <td>13</td>\n      <td>6204.525180</td>\n      <td>63.812363</td>\n      <td>0.017212</td>\n      <td>0.000064</td>\n    </tr>\n    <tr>\n      <th>39</th>\n      <td>39</td>\n      <td>1236</td>\n      <td>15</td>\n      <td>6279.822816</td>\n      <td>75.297636</td>\n      <td>0.017288</td>\n      <td>0.000075</td>\n    </tr>\n    <tr>\n      <th>40</th>\n      <td>40</td>\n      <td>1213</td>\n      <td>23</td>\n      <td>6398.896125</td>\n      <td>119.073310</td>\n      <td>0.017406</td>\n      <td>0.000119</td>\n    </tr>\n    <tr>\n      <th>41</th>\n      <td>41</td>\n      <td>1195</td>\n      <td>18</td>\n      <td>6495.281172</td>\n      <td>96.385046</td>\n      <td>0.017501</td>\n      <td>0.000095</td>\n    </tr>\n    <tr>\n      <th>42</th>\n      <td>42</td>\n      <td>1173</td>\n      <td>22</td>\n      <td>6617.102302</td>\n      <td>121.821130</td>\n      <td>0.017620</td>\n      <td>0.000119</td>\n    </tr>\n    <tr>\n      <th>43</th>\n      <td>43</td>\n      <td>1157</td>\n      <td>16</td>\n      <td>6708.609334</td>\n      <td>91.507033</td>\n      <td>0.017709</td>\n      <td>0.000089</td>\n    </tr>\n    <tr>\n      <th>44</th>\n      <td>44</td>\n      <td>1140</td>\n      <td>17</td>\n      <td>6808.650000</td>\n      <td>100.040666</td>\n      <td>0.017805</td>\n      <td>0.000096</td>\n    </tr>\n    <tr>\n      <th>45</th>\n      <td>45</td>\n      <td>1127</td>\n      <td>13</td>\n      <td>6887.188110</td>\n      <td>78.538110</td>\n      <td>0.017881</td>\n      <td>0.000075</td>\n    </tr>\n    <tr>\n      <th>46</th>\n      <td>46</td>\n      <td>1115</td>\n      <td>12</td>\n      <td>6961.310314</td>\n      <td>74.122204</td>\n      <td>0.017952</td>\n      <td>0.000071</td>\n    </tr>\n    <tr>\n      <th>47</th>\n      <td>47</td>\n      <td>1100</td>\n      <td>15</td>\n      <td>7056.237273</td>\n      <td>94.926959</td>\n      <td>0.018043</td>\n      <td>0.000091</td>\n    </tr>\n    <tr>\n      <th>48</th>\n      <td>48</td>\n      <td>1092</td>\n      <td>8</td>\n      <td>7107.931319</td>\n      <td>51.694046</td>\n      <td>0.018092</td>\n      <td>0.000049</td>\n    </tr>\n    <tr>\n      <th>49</th>\n      <td>49</td>\n      <td>1076</td>\n      <td>16</td>\n      <td>7213.625465</td>\n      <td>105.694146</td>\n      <td>0.018193</td>\n      <td>0.000101</td>\n    </tr>\n  </tbody>\n</table>\n</div>"
     },
     "metadata": {},
     "execution_count": 16
    }
   ],
   "source": [
    "df_rip_threshold"
   ]
  },
  {
   "source": [
    "## Save Analysis "
   ],
   "cell_type": "markdown",
   "metadata": {}
  },
  {
   "cell_type": "code",
   "execution_count": 17,
   "metadata": {},
   "outputs": [],
   "source": [
    "df_gpa_threshold.to_csv(\"analysis/{}_gpa_analysis.csv\".format(model_name), index=False)\n",
    "df_rip_threshold.to_csv(\"analysis/{}_rip_analysis.csv\".format(model_name), index=False)"
   ]
  },
  {
   "cell_type": "code",
   "execution_count": null,
   "metadata": {},
   "outputs": [],
   "source": []
  }
 ]
}