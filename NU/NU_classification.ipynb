{
 "metadata": {
  "language_info": {
   "codemirror_mode": {
    "name": "ipython",
    "version": 3
   },
   "file_extension": ".py",
   "mimetype": "text/x-python",
   "name": "python",
   "nbconvert_exporter": "python",
   "pygments_lexer": "ipython3",
   "version": 3
  },
  "orig_nbformat": 2,
  "kernelspec": {
   "name": "python_defaultSpec_1597228674851",
   "display_name": "Python 3.7.6 64-bit ('base': conda)"
  }
 },
 "nbformat": 4,
 "nbformat_minor": 2,
 "cells": [
  {
   "cell_type": "code",
   "execution_count": 2,
   "metadata": {},
   "outputs": [],
   "source": [
    "import tensorflow as tf\n",
    "from tensorflow import keras\n",
    "import numpy as np\n",
    "import pandas as pd\n",
    "import matplotlib\n",
    "import matplotlib.pyplot as plt\n",
    "import os\n",
    "import json\n",
    "import datetime\n",
    "\n",
    "plt.rcParams[\"figure.figsize\"] = (20, 5)\n",
    "\n",
    "physical_devices = tf.config.list_physical_devices('GPU')\n",
    "tf.config.experimental.set_memory_growth(physical_devices[0], enable=True)"
   ]
  },
  {
   "cell_type": "code",
   "execution_count": 3,
   "metadata": {},
   "outputs": [],
   "source": [
    "timestamp = datetime.datetime.now().strftime(\"%Y%m%d-%H%M%S\")\n",
    "log_dir = \"logs/fit/\" + timestamp\n",
    "tensorboard_callback = tf.keras.callbacks.TensorBoard(log_dir=log_dir, histogram_freq=1)\n",
    "version_dir = \"version/\" + timestamp \n",
    "\n",
    "os.makedirs(version_dir)"
   ]
  },
  {
   "cell_type": "code",
   "execution_count": 4,
   "metadata": {},
   "outputs": [
    {
     "output_type": "execute_result",
     "data": {
      "text/plain": "              t           t+1    delta  tokenized_data\n0  105950216192  105943924736 -6291456        -6291456\n1  105943924736  105946021888  2097152         2097152\n2  105946021888  105939873792 -6148096              -1\n3  105939873792  105941845296  1971504              -1\n4  105941845296  105935536128 -6309168              -1",
      "text/html": "<div>\n<style scoped>\n    .dataframe tbody tr th:only-of-type {\n        vertical-align: middle;\n    }\n\n    .dataframe tbody tr th {\n        vertical-align: top;\n    }\n\n    .dataframe thead th {\n        text-align: right;\n    }\n</style>\n<table border=\"1\" class=\"dataframe\">\n  <thead>\n    <tr style=\"text-align: right;\">\n      <th></th>\n      <th>t</th>\n      <th>t+1</th>\n      <th>delta</th>\n      <th>tokenized_data</th>\n    </tr>\n  </thead>\n  <tbody>\n    <tr>\n      <th>0</th>\n      <td>105950216192</td>\n      <td>105943924736</td>\n      <td>-6291456</td>\n      <td>-6291456</td>\n    </tr>\n    <tr>\n      <th>1</th>\n      <td>105943924736</td>\n      <td>105946021888</td>\n      <td>2097152</td>\n      <td>2097152</td>\n    </tr>\n    <tr>\n      <th>2</th>\n      <td>105946021888</td>\n      <td>105939873792</td>\n      <td>-6148096</td>\n      <td>-1</td>\n    </tr>\n    <tr>\n      <th>3</th>\n      <td>105939873792</td>\n      <td>105941845296</td>\n      <td>1971504</td>\n      <td>-1</td>\n    </tr>\n    <tr>\n      <th>4</th>\n      <td>105941845296</td>\n      <td>105935536128</td>\n      <td>-6309168</td>\n      <td>-1</td>\n    </tr>\n  </tbody>\n</table>\n</div>"
     },
     "metadata": {},
     "execution_count": 4
    }
   ],
   "source": [
    "dataset = pd.read_csv(\"data/NU_train_set.csv\")\n",
    "dataset.head()"
   ]
  },
  {
   "cell_type": "code",
   "execution_count": 5,
   "metadata": {},
   "outputs": [],
   "source": [
    "param_list = dict()\n",
    "\n",
    "param_list[\"PAST_HISTORY\"] = 16\n",
    "param_list[\"FUTURE_TARGET\"] = 8\n",
    "param_list[\"TRAIN_SPLIT\"] = 40000\n",
    "param_list[\"BATCH_SIZE\"] = 256\n",
    "param_list[\"EPOCHS\"] = 100\n",
    "param_list[\"BUFFER_SIZE\"] = 200000\n",
    "param_list[\"EVALUATION_INTERVAL\"] = 300\n",
    "param_list[\"VAL_STEPS\"] = 50"
   ]
  },
  {
   "cell_type": "code",
   "execution_count": 86,
   "metadata": {},
   "outputs": [],
   "source": [
    "def generate_timeseries(dataset, start_index, end_index, history_size, target_size):\n",
    "    data = []\n",
    "    labels = []\n",
    "\n",
    "    start_index = start_index + history_size\n",
    "    if end_index is None:\n",
    "        end_index = len(dataset) - target_size\n",
    "\n",
    "    for i in range(start_index, end_index):\n",
    "        indices = range(i-history_size, i)\n",
    "        # Reshape data from (history_size,) to (history_size, n_feature)\n",
    "        data.append(np.reshape(dataset[indices], (history_size, 5)))\n",
    "        labels.append(dataset[i:i+target_size])\n",
    "    return np.array(data), np.array(labels)"
   ]
  },
  {
   "cell_type": "code",
   "execution_count": 108,
   "metadata": {},
   "outputs": [
    {
     "output_type": "execute_result",
     "data": {
      "text/plain": "(<1x5 sparse matrix of type '<class 'numpy.float64'>'\n \twith 1 stored elements in Compressed Sparse Row format>,\n [array([-6291456,       -1,        0,     4096,  2097152], dtype=int64)])"
     },
     "metadata": {},
     "execution_count": 108
    }
   ],
   "source": [
    "from sklearn.preprocessing import OneHotEncoder\n",
    "\n",
    "encoder = OneHotEncoder()   #dtype=np.int64\n",
    "encoded_data = encoder.fit_transform(dataset[\"tokenized_data\"].values.reshape(-1, 1))\n",
    "encoded_data[0], encoder.categories_"
   ]
  },
  {
   "cell_type": "code",
   "execution_count": 48,
   "metadata": {},
   "outputs": [
    {
     "output_type": "execute_result",
     "data": {
      "text/plain": "['data/encoder.pkl']"
     },
     "metadata": {},
     "execution_count": 48
    }
   ],
   "source": [
    "import joblib\n",
    "\n",
    "joblib.dump(encoder, \"data/encoder.pkl\")"
   ]
  },
  {
   "cell_type": "code",
   "execution_count": 109,
   "metadata": {},
   "outputs": [],
   "source": [
    "x_train, y_train = generate_timeseries(encoded_data.toarray(), 0, param_list[\"TRAIN_SPLIT\"], param_list[\"PAST_HISTORY\"], param_list[\"FUTURE_TARGET\"])\n",
    "\n",
    "train_data = tf.data.Dataset.from_tensor_slices((x_train, y_train))\n",
    "train_data = train_data.cache().shuffle(param_list[\"BUFFER_SIZE\"]).batch(param_list[\"BATCH_SIZE\"])"
   ]
  },
  {
   "cell_type": "markdown",
   "metadata": {},
   "source": [
    "x_train, y_train = generate_timeseries(dataset[\"tokenized_data\"].values, 0, param_list[\"TRAIN_SPLIT\"], param_list[\"PAST_HISTORY\"], param_list[\"FUTURE_TARGET\"])\n",
    "\n",
    "train_data = tf.data.Dataset.from_tensor_slices((x_train, y_train))\n",
    "train_data = train_data.cache().shuffle(param_list[\"BUFFER_SIZE\"]).batch(param_list[\"BATCH_SIZE\"])"
   ]
  },
  {
   "cell_type": "code",
   "execution_count": 88,
   "metadata": {},
   "outputs": [
    {
     "output_type": "execute_result",
     "data": {
      "text/plain": "(39984, 16, 5)"
     },
     "metadata": {},
     "execution_count": 88
    }
   ],
   "source": [
    "x_train.shape"
   ]
  },
  {
   "cell_type": "code",
   "execution_count": 89,
   "metadata": {},
   "outputs": [
    {
     "output_type": "execute_result",
     "data": {
      "text/plain": "(39984, 8, 5)"
     },
     "metadata": {},
     "execution_count": 89
    }
   ],
   "source": [
    "y_train.shape"
   ]
  },
  {
   "cell_type": "code",
   "execution_count": 154,
   "metadata": {},
   "outputs": [
    {
     "output_type": "execute_result",
     "data": {
      "text/plain": "(array([[1., 0., 0., 0., 0.],\n        [0., 0., 0., 0., 1.],\n        [0., 1., 0., 0., 0.],\n        [0., 1., 0., 0., 0.],\n        [0., 1., 0., 0., 0.],\n        [0., 0., 0., 0., 1.],\n        [1., 0., 0., 0., 0.],\n        [0., 0., 0., 0., 1.],\n        [1., 0., 0., 0., 0.],\n        [0., 0., 0., 0., 1.],\n        [1., 0., 0., 0., 0.],\n        [0., 0., 0., 0., 1.],\n        [1., 0., 0., 0., 0.],\n        [0., 0., 0., 0., 1.],\n        [1., 0., 0., 0., 0.],\n        [0., 0., 0., 0., 1.]]),\n (16, 5),\n array([[1., 0., 0., 0., 0.],\n        [0., 0., 0., 0., 1.],\n        [1., 0., 0., 0., 0.],\n        [0., 0., 0., 0., 1.],\n        [1., 0., 0., 0., 0.],\n        [0., 0., 0., 0., 1.],\n        [1., 0., 0., 0., 0.],\n        [0., 0., 0., 0., 1.]]))"
     },
     "metadata": {},
     "execution_count": 154
    }
   ],
   "source": [
    "x_train[0], x_train[0].shape, y_train[0]"
   ]
  },
  {
   "cell_type": "code",
   "execution_count": 169,
   "metadata": {},
   "outputs": [],
   "source": [
    "model = tf.keras.models.Sequential()\n",
    "model.add(tf.keras.layers.LSTM(5))  #x_train.shape[-2:] , input_shape=[16, 5] , return_sequences=True\n",
    "#model.add(tf.keras.layers.Dropout(0.2))\n",
    "model.add(tf.keras.layers.RepeatVector(8))\n",
    "model.add(keras.layers.TimeDistributed(tf.keras.layers.Dense(5, activation=\"softmax\")))\n",
    "#model.add(tf.keras.layers.Flatten())\n",
    "#model.add(tf.keras.layers.Dense(5, activation=\"softmax\"))\n",
    "model.compile(optimizer='adam', loss='categorical_crossentropy', metrics=['accuracy'])"
   ]
  },
  {
   "cell_type": "code",
   "execution_count": 171,
   "metadata": {},
   "outputs": [],
   "source": [
    "model = tf.keras.models.Sequential()\n",
    "model.add(tf.keras.layers.LSTM(5))  #x_train.shape[-2:] , input_shape=[16, 5] , return_sequences=True\n",
    "model.add(tf.keras.layers.RepeatVector(8))\n",
    "model.add(tf.keras.layers.LSTM(5, return_sequences=True))\n",
    "model.add(keras.layers.TimeDistributed(tf.keras.layers.Dense(5, activation=\"softmax\")))\n",
    "model.compile(optimizer='adam', loss='categorical_crossentropy', metrics=['accuracy'])"
   ]
  },
  {
   "cell_type": "code",
   "execution_count": 172,
   "metadata": {},
   "outputs": [
    {
     "output_type": "execute_result",
     "data": {
      "text/plain": "array([[[0.22238833, 0.19106907, 0.19172554, 0.19223823, 0.20257884],\n        [0.24101113, 0.18313375, 0.18547711, 0.18602203, 0.20435604],\n        [0.25601158, 0.17647327, 0.18081243, 0.18121079, 0.20549195],\n        [0.2678933 , 0.1710138 , 0.17734246, 0.17753445, 0.20621604],\n        [0.27723068, 0.16658232, 0.17475441, 0.17473131, 0.20670128],\n        [0.28454748, 0.16299984, 0.17281125, 0.17258793, 0.20705351],\n        [0.2902807 , 0.16010882, 0.1713391 , 0.17094089, 0.2073305 ],\n        [0.2947797 , 0.15777797, 0.17021255, 0.16966821, 0.2075616 ]]],\n      dtype=float32)"
     },
     "metadata": {},
     "execution_count": 172
    }
   ],
   "source": [
    "model.predict(x_train[0].reshape(1, 16, 5))"
   ]
  },
  {
   "cell_type": "code",
   "execution_count": 194,
   "metadata": {
    "tags": [
     "outputPrepend"
    ]
   },
   "outputs": [
    {
     "output_type": "stream",
     "name": "stdout",
     "text": "===] - 1s 6ms/step - loss: 0.0340 - accuracy: 0.9926\nEpoch 810/1000\n157/157 [==============================] - 1s 5ms/step - loss: 0.0340 - accuracy: 0.9926\nEpoch 811/1000\n157/157 [==============================] - 1s 5ms/step - loss: 0.0341 - accuracy: 0.9925\nEpoch 812/1000\n157/157 [==============================] - 1s 5ms/step - loss: 0.0340 - accuracy: 0.9925\nEpoch 813/1000\n157/157 [==============================] - 1s 5ms/step - loss: 0.0340 - accuracy: 0.9926\nEpoch 814/1000\n157/157 [==============================] - 1s 5ms/step - loss: 0.0340 - accuracy: 0.9926\nEpoch 815/1000\n157/157 [==============================] - 1s 6ms/step - loss: 0.0340 - accuracy: 0.9925\nEpoch 816/1000\n157/157 [==============================] - 1s 6ms/step - loss: 0.0339 - accuracy: 0.9926\nEpoch 817/1000\n157/157 [==============================] - 1s 6ms/step - loss: 0.0340 - accuracy: 0.9925\nEpoch 818/1000\n157/157 [==============================] - 1s 6ms/step - loss: 0.0339 - accuracy: 0.9925\nEpoch 819/1000\n157/157 [==============================] - 1s 6ms/step - loss: 0.0340 - accuracy: 0.9926\nEpoch 820/1000\n157/157 [==============================] - 1s 5ms/step - loss: 0.0340 - accuracy: 0.9925\nEpoch 821/1000\n157/157 [==============================] - 1s 6ms/step - loss: 0.0340 - accuracy: 0.9926\nEpoch 822/1000\n157/157 [==============================] - 1s 5ms/step - loss: 0.0340 - accuracy: 0.9925\nEpoch 823/1000\n157/157 [==============================] - 1s 5ms/step - loss: 0.0339 - accuracy: 0.9926\nEpoch 824/1000\n157/157 [==============================] - 1s 5ms/step - loss: 0.0340 - accuracy: 0.9925\nEpoch 825/1000\n157/157 [==============================] - 1s 6ms/step - loss: 0.0340 - accuracy: 0.9925\nEpoch 826/1000\n157/157 [==============================] - 1s 5ms/step - loss: 0.0340 - accuracy: 0.9925\nEpoch 827/1000\n157/157 [==============================] - 1s 6ms/step - loss: 0.0340 - accuracy: 0.9926\nEpoch 828/1000\n157/157 [==============================] - 1s 5ms/step - loss: 0.0340 - accuracy: 0.9926\nEpoch 829/1000\n157/157 [==============================] - 1s 5ms/step - loss: 0.0340 - accuracy: 0.9926\nEpoch 830/1000\n157/157 [==============================] - 1s 5ms/step - loss: 0.0340 - accuracy: 0.9926\nEpoch 831/1000\n157/157 [==============================] - 1s 5ms/step - loss: 0.0340 - accuracy: 0.9925\nEpoch 832/1000\n157/157 [==============================] - 1s 5ms/step - loss: 0.0340 - accuracy: 0.9926\nEpoch 833/1000\n157/157 [==============================] - 1s 6ms/step - loss: 0.0339 - accuracy: 0.9926\nEpoch 834/1000\n157/157 [==============================] - 1s 5ms/step - loss: 0.0339 - accuracy: 0.9926\nEpoch 835/1000\n157/157 [==============================] - 1s 6ms/step - loss: 0.0339 - accuracy: 0.9926\nEpoch 836/1000\n157/157 [==============================] - 1s 5ms/step - loss: 0.0340 - accuracy: 0.9925\nEpoch 837/1000\n157/157 [==============================] - 1s 5ms/step - loss: 0.0340 - accuracy: 0.9925\nEpoch 838/1000\n157/157 [==============================] - 1s 5ms/step - loss: 0.0340 - accuracy: 0.9926\nEpoch 839/1000\n157/157 [==============================] - 1s 6ms/step - loss: 0.0339 - accuracy: 0.9926\nEpoch 840/1000\n157/157 [==============================] - 1s 5ms/step - loss: 0.0340 - accuracy: 0.9926\nEpoch 841/1000\n157/157 [==============================] - 1s 5ms/step - loss: 0.0340 - accuracy: 0.9925\nEpoch 842/1000\n157/157 [==============================] - 1s 5ms/step - loss: 0.0340 - accuracy: 0.9926\nEpoch 843/1000\n157/157 [==============================] - 1s 6ms/step - loss: 0.0339 - accuracy: 0.9926\nEpoch 844/1000\n157/157 [==============================] - 1s 6ms/step - loss: 0.0339 - accuracy: 0.9925\nEpoch 845/1000\n157/157 [==============================] - 1s 5ms/step - loss: 0.0339 - accuracy: 0.9926\nEpoch 846/1000\n157/157 [==============================] - 1s 5ms/step - loss: 0.0340 - accuracy: 0.9925\nEpoch 847/1000\n157/157 [==============================] - 1s 6ms/step - loss: 0.0340 - accuracy: 0.9925\nEpoch 848/1000\n157/157 [==============================] - 1s 6ms/step - loss: 0.0340 - accuracy: 0.9926\nEpoch 849/1000\n157/157 [==============================] - 1s 6ms/step - loss: 0.0339 - accuracy: 0.9926\nEpoch 850/1000\n157/157 [==============================] - 1s 6ms/step - loss: 0.0339 - accuracy: 0.9925\nEpoch 851/1000\n157/157 [==============================] - 1s 6ms/step - loss: 0.0340 - accuracy: 0.9925\nEpoch 852/1000\n157/157 [==============================] - 1s 6ms/step - loss: 0.0339 - accuracy: 0.9926\nEpoch 853/1000\n157/157 [==============================] - 1s 5ms/step - loss: 0.0339 - accuracy: 0.9926\nEpoch 854/1000\n157/157 [==============================] - 1s 5ms/step - loss: 0.0339 - accuracy: 0.9926\nEpoch 855/1000\n157/157 [==============================] - 1s 5ms/step - loss: 0.0339 - accuracy: 0.9926\nEpoch 856/1000\n157/157 [==============================] - 1s 5ms/step - loss: 0.0339 - accuracy: 0.9926\nEpoch 857/1000\n157/157 [==============================] - 1s 6ms/step - loss: 0.0339 - accuracy: 0.9926\nEpoch 858/1000\n157/157 [==============================] - 1s 5ms/step - loss: 0.0339 - accuracy: 0.9925\nEpoch 859/1000\n157/157 [==============================] - 1s 5ms/step - loss: 0.0339 - accuracy: 0.9926\nEpoch 860/1000\n157/157 [==============================] - 1s 5ms/step - loss: 0.0339 - accuracy: 0.9925\nEpoch 861/1000\n157/157 [==============================] - 1s 6ms/step - loss: 0.0339 - accuracy: 0.9926\nEpoch 862/1000\n157/157 [==============================] - 1s 6ms/step - loss: 0.0339 - accuracy: 0.9926\nEpoch 863/1000\n157/157 [==============================] - 1s 6ms/step - loss: 0.0339 - accuracy: 0.9926\nEpoch 864/1000\n157/157 [==============================] - 1s 5ms/step - loss: 0.0340 - accuracy: 0.9926\nEpoch 865/1000\n157/157 [==============================] - 1s 5ms/step - loss: 0.0339 - accuracy: 0.9926\nEpoch 866/1000\n157/157 [==============================] - 1s 5ms/step - loss: 0.0339 - accuracy: 0.9926\nEpoch 867/1000\n157/157 [==============================] - 1s 5ms/step - loss: 0.0339 - accuracy: 0.9926\nEpoch 868/1000\n157/157 [==============================] - 1s 5ms/step - loss: 0.0339 - accuracy: 0.9926\nEpoch 869/1000\n157/157 [==============================] - 1s 5ms/step - loss: 0.0339 - accuracy: 0.9926\nEpoch 870/1000\n157/157 [==============================] - 1s 6ms/step - loss: 0.0339 - accuracy: 0.9926\nEpoch 871/1000\n157/157 [==============================] - 1s 5ms/step - loss: 0.0340 - accuracy: 0.9926\nEpoch 872/1000\n157/157 [==============================] - 1s 5ms/step - loss: 0.0339 - accuracy: 0.9926\nEpoch 873/1000\n157/157 [==============================] - 1s 5ms/step - loss: 0.0339 - accuracy: 0.9926\nEpoch 874/1000\n157/157 [==============================] - 1s 5ms/step - loss: 0.0339 - accuracy: 0.9926\nEpoch 875/1000\n157/157 [==============================] - 1s 5ms/step - loss: 0.0339 - accuracy: 0.9926\nEpoch 876/1000\n157/157 [==============================] - 1s 5ms/step - loss: 0.0340 - accuracy: 0.9926\nEpoch 877/1000\n157/157 [==============================] - 1s 5ms/step - loss: 0.0340 - accuracy: 0.9926\nEpoch 878/1000\n157/157 [==============================] - 1s 5ms/step - loss: 0.0339 - accuracy: 0.9926\nEpoch 879/1000\n157/157 [==============================] - 1s 5ms/step - loss: 0.0340 - accuracy: 0.9925\nEpoch 880/1000\n157/157 [==============================] - 1s 6ms/step - loss: 0.0339 - accuracy: 0.9926\nEpoch 881/1000\n157/157 [==============================] - 1s 6ms/step - loss: 0.0339 - accuracy: 0.9926\nEpoch 882/1000\n157/157 [==============================] - 1s 6ms/step - loss: 0.0339 - accuracy: 0.9926\nEpoch 883/1000\n157/157 [==============================] - 1s 6ms/step - loss: 0.0339 - accuracy: 0.9926\nEpoch 884/1000\n157/157 [==============================] - 1s 6ms/step - loss: 0.0339 - accuracy: 0.9926\nEpoch 885/1000\n157/157 [==============================] - 1s 6ms/step - loss: 0.0339 - accuracy: 0.9927\nEpoch 886/1000\n157/157 [==============================] - 1s 6ms/step - loss: 0.0339 - accuracy: 0.9926\nEpoch 887/1000\n157/157 [==============================] - 1s 6ms/step - loss: 0.0339 - accuracy: 0.9926\nEpoch 888/1000\n157/157 [==============================] - 1s 5ms/step - loss: 0.0339 - accuracy: 0.9926\nEpoch 889/1000\n157/157 [==============================] - 1s 5ms/step - loss: 0.0339 - accuracy: 0.9926\nEpoch 890/1000\n157/157 [==============================] - 1s 5ms/step - loss: 0.0339 - accuracy: 0.9926\nEpoch 891/1000\n157/157 [==============================] - 1s 5ms/step - loss: 0.0339 - accuracy: 0.9926\nEpoch 892/1000\n157/157 [==============================] - 1s 6ms/step - loss: 0.0339 - accuracy: 0.9926\nEpoch 893/1000\n157/157 [==============================] - 1s 5ms/step - loss: 0.0339 - accuracy: 0.9926\nEpoch 894/1000\n157/157 [==============================] - 1s 6ms/step - loss: 0.0339 - accuracy: 0.9925\nEpoch 895/1000\n157/157 [==============================] - 1s 6ms/step - loss: 0.0338 - accuracy: 0.9926\nEpoch 896/1000\n157/157 [==============================] - 1s 6ms/step - loss: 0.0339 - accuracy: 0.9926\nEpoch 897/1000\n157/157 [==============================] - 1s 6ms/step - loss: 0.0339 - accuracy: 0.9927\nEpoch 898/1000\n157/157 [==============================] - 1s 6ms/step - loss: 0.0338 - accuracy: 0.9926\nEpoch 899/1000\n157/157 [==============================] - 1s 6ms/step - loss: 0.0339 - accuracy: 0.9926\nEpoch 900/1000\n157/157 [==============================] - 1s 6ms/step - loss: 0.0339 - accuracy: 0.9927\nEpoch 901/1000\n157/157 [==============================] - 1s 6ms/step - loss: 0.0339 - accuracy: 0.9926\nEpoch 902/1000\n157/157 [==============================] - 1s 5ms/step - loss: 0.0340 - accuracy: 0.9926\nEpoch 903/1000\n157/157 [==============================] - 1s 5ms/step - loss: 0.0339 - accuracy: 0.9926\nEpoch 904/1000\n157/157 [==============================] - 1s 5ms/step - loss: 0.0339 - accuracy: 0.9926\nEpoch 905/1000\n157/157 [==============================] - 1s 6ms/step - loss: 0.0338 - accuracy: 0.9926\nEpoch 906/1000\n157/157 [==============================] - 1s 5ms/step - loss: 0.0339 - accuracy: 0.9926\nEpoch 907/1000\n157/157 [==============================] - 1s 5ms/step - loss: 0.0339 - accuracy: 0.9926\nEpoch 908/1000\n157/157 [==============================] - 1s 5ms/step - loss: 0.0339 - accuracy: 0.9926\nEpoch 909/1000\n157/157 [==============================] - 1s 6ms/step - loss: 0.0339 - accuracy: 0.9925\nEpoch 910/1000\n157/157 [==============================] - 1s 6ms/step - loss: 0.0338 - accuracy: 0.9926\nEpoch 911/1000\n157/157 [==============================] - 1s 6ms/step - loss: 0.0339 - accuracy: 0.9926\nEpoch 912/1000\n157/157 [==============================] - 1s 6ms/step - loss: 0.0339 - accuracy: 0.9926\nEpoch 913/1000\n157/157 [==============================] - 1s 6ms/step - loss: 0.0338 - accuracy: 0.9927\nEpoch 914/1000\n157/157 [==============================] - 1s 6ms/step - loss: 0.0338 - accuracy: 0.9926\nEpoch 915/1000\n157/157 [==============================] - 1s 6ms/step - loss: 0.0338 - accuracy: 0.9926\nEpoch 916/1000\n157/157 [==============================] - 1s 6ms/step - loss: 0.0339 - accuracy: 0.9926\nEpoch 917/1000\n157/157 [==============================] - 1s 6ms/step - loss: 0.0338 - accuracy: 0.9926\nEpoch 918/1000\n157/157 [==============================] - 1s 5ms/step - loss: 0.0339 - accuracy: 0.9925\nEpoch 919/1000\n157/157 [==============================] - 1s 6ms/step - loss: 0.0339 - accuracy: 0.9926\nEpoch 920/1000\n157/157 [==============================] - 1s 5ms/step - loss: 0.0339 - accuracy: 0.9926\nEpoch 921/1000\n157/157 [==============================] - 1s 5ms/step - loss: 0.0339 - accuracy: 0.9926\nEpoch 922/1000\n157/157 [==============================] - 1s 6ms/step - loss: 0.0339 - accuracy: 0.9926\nEpoch 923/1000\n157/157 [==============================] - 1s 5ms/step - loss: 0.0338 - accuracy: 0.9927\nEpoch 924/1000\n157/157 [==============================] - 1s 5ms/step - loss: 0.0338 - accuracy: 0.9926\nEpoch 925/1000\n157/157 [==============================] - 1s 5ms/step - loss: 0.0338 - accuracy: 0.9927\nEpoch 926/1000\n157/157 [==============================] - 1s 6ms/step - loss: 0.0338 - accuracy: 0.9926\nEpoch 927/1000\n157/157 [==============================] - 1s 5ms/step - loss: 0.0338 - accuracy: 0.9926\nEpoch 928/1000\n157/157 [==============================] - 1s 5ms/step - loss: 0.0339 - accuracy: 0.9926\nEpoch 929/1000\n157/157 [==============================] - 1s 5ms/step - loss: 0.0339 - accuracy: 0.9926\nEpoch 930/1000\n157/157 [==============================] - 1s 5ms/step - loss: 0.0339 - accuracy: 0.9926\nEpoch 931/1000\n157/157 [==============================] - 1s 5ms/step - loss: 0.0338 - accuracy: 0.9926\nEpoch 932/1000\n157/157 [==============================] - 1s 5ms/step - loss: 0.0339 - accuracy: 0.9926\nEpoch 933/1000\n157/157 [==============================] - 1s 5ms/step - loss: 0.0338 - accuracy: 0.9926\nEpoch 934/1000\n157/157 [==============================] - 1s 5ms/step - loss: 0.0339 - accuracy: 0.9926\nEpoch 935/1000\n157/157 [==============================] - 1s 5ms/step - loss: 0.0338 - accuracy: 0.9926\nEpoch 936/1000\n157/157 [==============================] - 1s 6ms/step - loss: 0.0339 - accuracy: 0.9926\nEpoch 937/1000\n157/157 [==============================] - 1s 5ms/step - loss: 0.0338 - accuracy: 0.9927\nEpoch 938/1000\n157/157 [==============================] - 1s 5ms/step - loss: 0.0339 - accuracy: 0.9926\nEpoch 939/1000\n157/157 [==============================] - 1s 6ms/step - loss: 0.0338 - accuracy: 0.9926\nEpoch 940/1000\n157/157 [==============================] - 1s 6ms/step - loss: 0.0338 - accuracy: 0.9926\nEpoch 941/1000\n157/157 [==============================] - 1s 5ms/step - loss: 0.0338 - accuracy: 0.9927\nEpoch 942/1000\n157/157 [==============================] - 1s 5ms/step - loss: 0.0338 - accuracy: 0.9926\nEpoch 943/1000\n157/157 [==============================] - 1s 5ms/step - loss: 0.0338 - accuracy: 0.9927\nEpoch 944/1000\n157/157 [==============================] - 1s 5ms/step - loss: 0.0338 - accuracy: 0.9926\nEpoch 945/1000\n157/157 [==============================] - 1s 6ms/step - loss: 0.0339 - accuracy: 0.9925\nEpoch 946/1000\n157/157 [==============================] - 1s 5ms/step - loss: 0.0338 - accuracy: 0.9925\nEpoch 947/1000\n157/157 [==============================] - 1s 6ms/step - loss: 0.0338 - accuracy: 0.9927\nEpoch 948/1000\n157/157 [==============================] - 1s 6ms/step - loss: 0.0338 - accuracy: 0.9926\nEpoch 949/1000\n157/157 [==============================] - 1s 6ms/step - loss: 0.0338 - accuracy: 0.9926\nEpoch 950/1000\n157/157 [==============================] - 1s 6ms/step - loss: 0.0338 - accuracy: 0.9926\nEpoch 951/1000\n157/157 [==============================] - 1s 6ms/step - loss: 0.0338 - accuracy: 0.9926\nEpoch 952/1000\n157/157 [==============================] - 1s 5ms/step - loss: 0.0338 - accuracy: 0.9926\nEpoch 953/1000\n157/157 [==============================] - 1s 6ms/step - loss: 0.0338 - accuracy: 0.9926\nEpoch 954/1000\n157/157 [==============================] - 1s 6ms/step - loss: 0.0338 - accuracy: 0.9926\nEpoch 955/1000\n157/157 [==============================] - 1s 5ms/step - loss: 0.0338 - accuracy: 0.9926\nEpoch 956/1000\n157/157 [==============================] - 1s 5ms/step - loss: 0.0338 - accuracy: 0.9926\nEpoch 957/1000\n157/157 [==============================] - 1s 5ms/step - loss: 0.0338 - accuracy: 0.9926\nEpoch 958/1000\n157/157 [==============================] - 1s 6ms/step - loss: 0.0338 - accuracy: 0.9926\nEpoch 959/1000\n157/157 [==============================] - 1s 5ms/step - loss: 0.0338 - accuracy: 0.9926\nEpoch 960/1000\n157/157 [==============================] - 1s 5ms/step - loss: 0.0339 - accuracy: 0.9926\nEpoch 961/1000\n157/157 [==============================] - 1s 5ms/step - loss: 0.0338 - accuracy: 0.9926\nEpoch 962/1000\n157/157 [==============================] - 1s 5ms/step - loss: 0.0338 - accuracy: 0.9926\nEpoch 963/1000\n157/157 [==============================] - 1s 6ms/step - loss: 0.0338 - accuracy: 0.9925\nEpoch 964/1000\n157/157 [==============================] - 1s 5ms/step - loss: 0.0338 - accuracy: 0.9926\nEpoch 965/1000\n157/157 [==============================] - 1s 5ms/step - loss: 0.0339 - accuracy: 0.9926\nEpoch 966/1000\n157/157 [==============================] - 1s 5ms/step - loss: 0.0338 - accuracy: 0.9927\nEpoch 967/1000\n157/157 [==============================] - 1s 5ms/step - loss: 0.0338 - accuracy: 0.9926\nEpoch 968/1000\n157/157 [==============================] - 1s 5ms/step - loss: 0.0337 - accuracy: 0.9927\nEpoch 969/1000\n157/157 [==============================] - 1s 5ms/step - loss: 0.0337 - accuracy: 0.9927\nEpoch 970/1000\n157/157 [==============================] - 1s 5ms/step - loss: 0.0339 - accuracy: 0.9926\nEpoch 971/1000\n157/157 [==============================] - 1s 5ms/step - loss: 0.0338 - accuracy: 0.9926\nEpoch 972/1000\n157/157 [==============================] - 1s 5ms/step - loss: 0.0338 - accuracy: 0.9926\nEpoch 973/1000\n157/157 [==============================] - 1s 5ms/step - loss: 0.0338 - accuracy: 0.9926\nEpoch 974/1000\n157/157 [==============================] - 1s 5ms/step - loss: 0.0337 - accuracy: 0.9927\nEpoch 975/1000\n157/157 [==============================] - 1s 5ms/step - loss: 0.0338 - accuracy: 0.9926\nEpoch 976/1000\n157/157 [==============================] - 1s 5ms/step - loss: 0.0337 - accuracy: 0.9927\nEpoch 977/1000\n154/157 [============================>.] - ETA: 0s - loss: 0.0339 - accuracy: 0.99157/157 [==============================] - 1s 6ms/step - loss: 0.0337 - accuracy: 0.9926\nEpoch 978/1000\n157/157 [==============================] - 1s 5ms/step - loss: 0.0337 - accuracy: 0.9926\nEpoch 979/1000\n157/157 [==============================] - 1s 5ms/step - loss: 0.0338 - accuracy: 0.9927\nEpoch 980/1000\n157/157 [==============================] - 1s 6ms/step - loss: 0.0339 - accuracy: 0.9926\nEpoch 981/1000\n157/157 [==============================] - 1s 6ms/step - loss: 0.0339 - accuracy: 0.9925\nEpoch 982/1000\n157/157 [==============================] - 1s 6ms/step - loss: 0.0338 - accuracy: 0.9926\nEpoch 983/1000\n157/157 [==============================] - 1s 6ms/step - loss: 0.0338 - accuracy: 0.9926\nEpoch 984/1000\n157/157 [==============================] - 1s 6ms/step - loss: 0.0337 - accuracy: 0.9926\nEpoch 985/1000\n157/157 [==============================] - 1s 6ms/step - loss: 0.0337 - accuracy: 0.9927\nEpoch 986/1000\n157/157 [==============================] - 1s 5ms/step - loss: 0.0338 - accuracy: 0.9926\nEpoch 987/1000\n157/157 [==============================] - 1s 5ms/step - loss: 0.0337 - accuracy: 0.9927\nEpoch 988/1000\n157/157 [==============================] - 1s 5ms/step - loss: 0.0337 - accuracy: 0.9927\nEpoch 989/1000\n157/157 [==============================] - 1s 6ms/step - loss: 0.0337 - accuracy: 0.9927\nEpoch 990/1000\n157/157 [==============================] - 1s 5ms/step - loss: 0.0337 - accuracy: 0.9927\nEpoch 991/1000\n157/157 [==============================] - 1s 5ms/step - loss: 0.0337 - accuracy: 0.9927\nEpoch 992/1000\n157/157 [==============================] - 1s 5ms/step - loss: 0.0338 - accuracy: 0.9926\nEpoch 993/1000\n157/157 [==============================] - 1s 5ms/step - loss: 0.0337 - accuracy: 0.9926\nEpoch 994/1000\n157/157 [==============================] - 1s 6ms/step - loss: 0.0337 - accuracy: 0.9926\nEpoch 995/1000\n157/157 [==============================] - 1s 5ms/step - loss: 0.0338 - accuracy: 0.9926\nEpoch 996/1000\n157/157 [==============================] - 1s 5ms/step - loss: 0.0337 - accuracy: 0.9926\nEpoch 997/1000\n157/157 [==============================] - 1s 5ms/step - loss: 0.0337 - accuracy: 0.9926\nEpoch 998/1000\n157/157 [==============================] - 1s 5ms/step - loss: 0.0337 - accuracy: 0.9927\nEpoch 999/1000\n157/157 [==============================] - 1s 5ms/step - loss: 0.0337 - accuracy: 0.9926\nEpoch 1000/1000\n157/157 [==============================] - 1s 5ms/step - loss: 0.0337 - accuracy: 0.9927\n"
    }
   ],
   "source": [
    "model_history = model.fit(train_data, epochs=1000)"
   ]
  },
  {
   "cell_type": "code",
   "execution_count": 195,
   "metadata": {},
   "outputs": [],
   "source": [
    "model.save(\"version/{}/model.h5\".format(timestamp))"
   ]
  },
  {
   "cell_type": "code",
   "execution_count": 177,
   "metadata": {},
   "outputs": [
    {
     "output_type": "execute_result",
     "data": {
      "text/plain": "array([[[9.4397795e-01, 1.0718737e-03, 3.8029414e-03, 3.7143909e-04,\n         5.0775904e-02],\n        [4.4536553e-02, 4.5961610e-04, 2.4975899e-03, 7.9860707e-04,\n         9.5170760e-01],\n        [9.5983911e-01, 9.6130832e-05, 5.5822893e-04, 2.7524511e-05,\n         3.9479043e-02],\n        [2.8245650e-02, 2.2623039e-04, 1.1987765e-03, 5.6314887e-04,\n         9.6976626e-01],\n        [9.7081548e-01, 6.9745853e-05, 3.7502675e-04, 1.9664711e-05,\n         2.8720098e-02],\n        [2.7528344e-02, 2.1486718e-04, 1.1259078e-03, 5.5788038e-04,\n         9.7057301e-01],\n        [9.7169387e-01, 6.7843052e-05, 3.6082236e-04, 1.9129735e-05,\n         2.7858259e-02],\n        [2.7486285e-02, 2.1387670e-04, 1.1190403e-03, 5.5771106e-04,\n         9.7062308e-01]]], dtype=float32)"
     },
     "metadata": {},
     "execution_count": 177
    }
   ],
   "source": [
    "result = model.predict(x_train[0].reshape(1, 16, 5))\n",
    "result"
   ]
  },
  {
   "cell_type": "code",
   "execution_count": 178,
   "metadata": {},
   "outputs": [
    {
     "output_type": "execute_result",
     "data": {
      "text/plain": "array([[1., 0., 0., 0., 0.],\n       [0., 0., 0., 0., 1.],\n       [1., 0., 0., 0., 0.],\n       [0., 0., 0., 0., 1.],\n       [1., 0., 0., 0., 0.],\n       [0., 0., 0., 0., 1.],\n       [1., 0., 0., 0., 0.],\n       [0., 0., 0., 0., 1.]])"
     },
     "metadata": {},
     "execution_count": 178
    }
   ],
   "source": [
    "y_train[0]"
   ]
  },
  {
   "cell_type": "code",
   "execution_count": 192,
   "metadata": {
    "tags": []
   },
   "outputs": [
    {
     "output_type": "stream",
     "name": "stdout",
     "text": "0\n4\n0\n4\n0\n4\n0\n4\n"
    }
   ],
   "source": [
    "for i in range(8):\n",
    "    print(np.argmax(result[0][i]))"
   ]
  },
  {
   "cell_type": "code",
   "execution_count": 193,
   "metadata": {
    "tags": []
   },
   "outputs": [
    {
     "output_type": "stream",
     "name": "stdout",
     "text": "0\n4\n0\n4\n0\n4\n0\n4\n"
    }
   ],
   "source": [
    "for i in range(8):\n",
    "    print(np.argmax(y_train[0][i]))"
   ]
  },
  {
   "cell_type": "code",
   "execution_count": null,
   "metadata": {},
   "outputs": [],
   "source": []
  }
 ]
}