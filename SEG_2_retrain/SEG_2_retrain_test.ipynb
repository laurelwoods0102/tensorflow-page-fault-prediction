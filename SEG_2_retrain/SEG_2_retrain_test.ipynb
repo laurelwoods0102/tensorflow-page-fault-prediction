{
 "metadata": {
  "language_info": {
   "codemirror_mode": {
    "name": "ipython",
    "version": 3
   },
   "file_extension": ".py",
   "mimetype": "text/x-python",
   "name": "python",
   "nbconvert_exporter": "python",
   "pygments_lexer": "ipython3",
   "version": "3.7.6-final"
  },
  "orig_nbformat": 2,
  "kernelspec": {
   "name": "python3",
   "display_name": "Python 3",
   "language": "python"
  }
 },
 "nbformat": 4,
 "nbformat_minor": 2,
 "cells": [
  {
   "cell_type": "code",
   "execution_count": 10,
   "metadata": {},
   "outputs": [],
   "source": [
    "import tensorflow as tf\n",
    "from tensorflow import keras\n",
    "import numpy as np\n",
    "import pandas as pd\n",
    "import os\n",
    "import json\n",
    "import datetime\n",
    "from sklearn.metrics import accuracy_score, precision_score, recall_score, f1_score\n",
    "from tensorflow.keras.utils import plot_model"
   ]
  },
  {
   "cell_type": "code",
   "execution_count": 2,
   "metadata": {},
   "outputs": [],
   "source": [
    "physical_devices = tf.config.list_physical_devices('GPU')\n",
    "tf.config.experimental.set_memory_growth(physical_devices[0], enable=True)"
   ]
  },
  {
   "cell_type": "code",
   "execution_count": 3,
   "metadata": {},
   "outputs": [],
   "source": [
    "dataset_name = \"SEG_2_retrain\""
   ]
  },
  {
   "cell_type": "code",
   "execution_count": 12,
   "metadata": {},
   "outputs": [],
   "source": [
    "hyper_tuning_version = \"ht_1\""
   ]
  },
  {
   "cell_type": "code",
   "execution_count": 13,
   "metadata": {},
   "outputs": [],
   "source": [
    "timestamp = \"20201126-234209\""
   ]
  },
  {
   "cell_type": "code",
   "execution_count": 14,
   "metadata": {},
   "outputs": [],
   "source": [
    "# Version Compatibility issue : AWS TF != Current Machine TF\n",
    "# AWS tf version : 2.1.0\n",
    "# Current Machine tf version : 2.3.1\n",
    "#model = keras.models.load_model(\"version/{}\".format(timestamp))"
   ]
  },
  {
   "cell_type": "code",
   "execution_count": 15,
   "metadata": {},
   "outputs": [],
   "source": [
    "# h5 format doesn't suffer version compatibility issue\n",
    "model = keras.models.load_model(\"version/{}/{}/model.h5\".format(hyper_tuning_version, timestamp))"
   ]
  },
  {
   "cell_type": "code",
   "execution_count": 16,
   "metadata": {},
   "outputs": [
    {
     "output_type": "stream",
     "name": "stdout",
     "text": [
      "Model: \"sequential_2\"\n_________________________________________________________________\nLayer (type)                 Output Shape              Param #   \n=================================================================\nbidirectional_4 (Bidirection (None, 128)               8375296   \n_________________________________________________________________\ndropout_4 (Dropout)          (None, 128)               0         \n_________________________________________________________________\nrepeat_vector_2 (RepeatVecto (None, 8, 128)            0         \n_________________________________________________________________\nbidirectional_5 (Bidirection (None, 8, 464)            670016    \n_________________________________________________________________\ndropout_5 (Dropout)          (None, 8, 464)            0         \n_________________________________________________________________\ntime_distributed_2 (TimeDist (None, 8, 16293)          7576245   \n=================================================================\nTotal params: 16,621,557\nTrainable params: 16,621,557\nNon-trainable params: 0\n_________________________________________________________________\n"
     ]
    }
   ],
   "source": [
    "model.summary()"
   ]
  },
  {
   "cell_type": "code",
   "execution_count": 17,
   "metadata": {},
   "outputs": [
    {
     "output_type": "execute_result",
     "data": {
      "image/png": "[encoded data removed]",
      "text/plain": [
       "<IPython.core.display.Image object>"
      ]
     },
     "metadata": {},
     "execution_count": 17
    }
   ],
   "source": [
    "plot_model(model, to_file=\"version/{}/{}/figure.png\".format(hyper_tuning_version, timestamp))"
   ]
  },
  {
   "cell_type": "code",
   "execution_count": 24,
   "metadata": {},
   "outputs": [
    {
     "output_type": "execute_result",
     "data": {
      "text/plain": [
       "16293"
      ]
     },
     "metadata": {},
     "execution_count": 24
    }
   ],
   "source": [
    "vocabulary = np.genfromtxt(\"static/vocabulary.csv\", delimiter=\"\\n\", dtype=np.int64)\n",
    "vocab_size = vocabulary.shape[0]\n",
    "vocab_size"
   ]
  },
  {
   "cell_type": "code",
   "execution_count": 25,
   "metadata": {},
   "outputs": [],
   "source": [
    "param_list = dict()\n",
    "\n",
    "param_list[\"PAST_HISTORY\"] = 16\n",
    "param_list[\"FUTURE_TARGET\"] = 8\n",
    "param_list[\"BATCH_SIZE\"] = 32\n",
    "param_list[\"VOCAB_SIZE\"] = vocab_size"
   ]
  },
  {
   "cell_type": "code",
   "execution_count": 26,
   "metadata": {},
   "outputs": [
    {
     "output_type": "execute_result",
     "data": {
      "text/plain": [
       "array([ 172, 2711,  326, ...,    0,    6,    0], dtype=int64)"
      ]
     },
     "metadata": {},
     "execution_count": 26
    }
   ],
   "source": [
    "test_set = np.genfromtxt(\"data/{}_test_set.csv\".format(dataset_name), delimiter=\"\\n\", dtype=np.int64)\n",
    "test_set"
   ]
  },
  {
   "cell_type": "code",
   "execution_count": 27,
   "metadata": {},
   "outputs": [],
   "source": [
    "x_test = tf.data.Dataset.from_tensor_slices(test_set[:-param_list[\"FUTURE_TARGET\"]]).window(param_list[\"PAST_HISTORY\"], 1, 1, True)\n",
    "x_test = x_test.flat_map(lambda x: x.batch(param_list[\"PAST_HISTORY\"])) \n",
    "x_test = x_test.map(lambda x: tf.one_hot(x, param_list[\"VOCAB_SIZE\"], axis=-1))\n",
    "x_test = x_test.batch(param_list[\"BATCH_SIZE\"])"
   ]
  },
  {
   "cell_type": "code",
   "execution_count": 28,
   "metadata": {},
   "outputs": [],
   "source": [
    "y_test = tf.data.Dataset.from_tensor_slices(test_set[param_list[\"PAST_HISTORY\"]:]).window(param_list[\"FUTURE_TARGET\"], 1, 1, True)\n",
    "y_test_slices = y_test.flat_map(lambda y: y.batch(param_list[\"FUTURE_TARGET\"]))\n",
    "y_test = y_test_slices.map(lambda y: tf.one_hot(y, param_list[\"VOCAB_SIZE\"], axis=-1))\n",
    "y_test = y_test.batch(param_list[\"BATCH_SIZE\"])"
   ]
  },
  {
   "cell_type": "code",
   "execution_count": 29,
   "metadata": {},
   "outputs": [],
   "source": [
    "test_data = tf.data.Dataset.zip((x_test, y_test))"
   ]
  },
  {
   "cell_type": "code",
   "execution_count": 30,
   "metadata": {},
   "outputs": [
    {
     "output_type": "stream",
     "name": "stdout",
     "text": [
      "1112/1112 [==============================] - 23s 21ms/step - loss: 1.9974 - accuracy: 0.5741\n"
     ]
    }
   ],
   "source": [
    "loss, acc = model.evaluate(test_data)"
   ]
  },
  {
   "cell_type": "code",
   "execution_count": 31,
   "metadata": {},
   "outputs": [],
   "source": [
    "#y_pred = tf.argmax(model.predict(x_test), axis=-1).numpy()     # Unable to predict whole test_set at a time\n",
    "y_pred = []\n",
    "for x in x_test:\n",
    "    y_pred.extend(tf.argmax(model.predict(x), axis=-1).numpy())\n",
    "y_pred = np.array(y_pred)"
   ]
  },
  {
   "cell_type": "code",
   "execution_count": 32,
   "metadata": {},
   "outputs": [],
   "source": [
    "y_true = np.array([yt for yt in y_test_slices.as_numpy_iterator()])"
   ]
  },
  {
   "cell_type": "code",
   "execution_count": 33,
   "metadata": {},
   "outputs": [
    {
     "output_type": "execute_result",
     "data": {
      "text/plain": [
       "((35556, 8), (35556, 8))"
      ]
     },
     "metadata": {},
     "execution_count": 33
    }
   ],
   "source": [
    "y_pred.shape, y_true.shape"
   ]
  },
  {
   "cell_type": "code",
   "execution_count": 34,
   "metadata": {},
   "outputs": [],
   "source": [
    "p, r, f = [], [], []\n",
    "average_method = [\"micro\", \"macro\", \"weighted\"]\n",
    "\n",
    "for method in average_method:\n",
    "    precision = precision_score(np.ravel(y_true), np.ravel(y_pred), average=method)\n",
    "    recall = recall_score(np.ravel(y_true), np.ravel(y_pred), average=method)\n",
    "    f1 = f1_score(np.ravel(y_true), np.ravel(y_pred), average=method)\n",
    "     \n",
    "    p.append(precision)\n",
    "    r.append(recall)\n",
    "    f.append(f1)"
   ]
  },
  {
   "cell_type": "code",
   "execution_count": 35,
   "metadata": {},
   "outputs": [
    {
     "output_type": "execute_result",
     "data": {
      "text/plain": [
       "              micro     macro  weighted\n",
       "precision  0.574094  0.517704  0.572331\n",
       "recall     0.574094  0.495924  0.574094\n",
       "f1         0.574094  0.486263  0.551933"
      ],
      "text/html": "<div>\n<style scoped>\n    .dataframe tbody tr th:only-of-type {\n        vertical-align: middle;\n    }\n\n    .dataframe tbody tr th {\n        vertical-align: top;\n    }\n\n    .dataframe thead th {\n        text-align: right;\n    }\n</style>\n<table border=\"1\" class=\"dataframe\">\n  <thead>\n    <tr style=\"text-align: right;\">\n      <th></th>\n      <th>micro</th>\n      <th>macro</th>\n      <th>weighted</th>\n    </tr>\n  </thead>\n  <tbody>\n    <tr>\n      <th>precision</th>\n      <td>0.574094</td>\n      <td>0.517704</td>\n      <td>0.572331</td>\n    </tr>\n    <tr>\n      <th>recall</th>\n      <td>0.574094</td>\n      <td>0.495924</td>\n      <td>0.574094</td>\n    </tr>\n    <tr>\n      <th>f1</th>\n      <td>0.574094</td>\n      <td>0.486263</td>\n      <td>0.551933</td>\n    </tr>\n  </tbody>\n</table>\n</div>"
     },
     "metadata": {},
     "execution_count": 35
    }
   ],
   "source": [
    "report = pd.DataFrame(data=[p, r, f], columns=average_method, index=[\"precision\", \"recall\", \"f1\"])\n",
    "report"
   ]
  },
  {
   "cell_type": "code",
   "execution_count": 36,
   "metadata": {},
   "outputs": [
    {
     "output_type": "execute_result",
     "data": {
      "text/plain": [
       "       loss  accuracy\n",
       "0  1.997373  0.574094"
      ],
      "text/html": "<div>\n<style scoped>\n    .dataframe tbody tr th:only-of-type {\n        vertical-align: middle;\n    }\n\n    .dataframe tbody tr th {\n        vertical-align: top;\n    }\n\n    .dataframe thead th {\n        text-align: right;\n    }\n</style>\n<table border=\"1\" class=\"dataframe\">\n  <thead>\n    <tr style=\"text-align: right;\">\n      <th></th>\n      <th>loss</th>\n      <th>accuracy</th>\n    </tr>\n  </thead>\n  <tbody>\n    <tr>\n      <th>0</th>\n      <td>1.997373</td>\n      <td>0.574094</td>\n    </tr>\n  </tbody>\n</table>\n</div>"
     },
     "metadata": {},
     "execution_count": 36
    }
   ],
   "source": [
    "accuracy = pd.DataFrame(data=[[loss, acc]], columns=[\"loss\", \"accuracy\"])\n",
    "accuracy"
   ]
  },
  {
   "cell_type": "code",
   "execution_count": 37,
   "metadata": {},
   "outputs": [],
   "source": [
    "report.to_csv(\"version/{}/{}/report.csv\".format(hyper_tuning_version, timestamp))\n",
    "accuracy.to_csv(\"version/{}/{}/accuracy.csv\".format(hyper_tuning_version, timestamp), index=False)"
   ]
  },
  {
   "cell_type": "code",
   "execution_count": null,
   "metadata": {},
   "outputs": [],
   "source": []
  }
 ]
}