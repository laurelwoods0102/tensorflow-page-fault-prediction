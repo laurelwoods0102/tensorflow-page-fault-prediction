{
 "metadata": {
  "language_info": {
   "codemirror_mode": {
    "name": "ipython",
    "version": 3
   },
   "file_extension": ".py",
   "mimetype": "text/x-python",
   "name": "python",
   "nbconvert_exporter": "python",
   "pygments_lexer": "ipython3",
   "version": "3.7.6"
  },
  "orig_nbformat": 2,
  "kernelspec": {
   "name": "python376jvsc74a57bd0b3ba2566441a7c06988d0923437866b63cedc61552a5af99d1f4fb67d367b25f",
   "display_name": "Python 3.7.6 64-bit (conda)"
  }
 },
 "nbformat": 4,
 "nbformat_minor": 2,
 "cells": [
  {
   "cell_type": "code",
   "execution_count": 1,
   "metadata": {},
   "outputs": [],
   "source": [
    "import numpy as np\n",
    "import pandas as pd\n",
    "import json\n",
    "import dill"
   ]
  },
  {
   "cell_type": "code",
   "execution_count": 2,
   "metadata": {},
   "outputs": [],
   "source": [
    "model_name = \"GEMM_STREAM_VMID=17926\""
   ]
  },
  {
   "cell_type": "code",
   "execution_count": 3,
   "metadata": {},
   "outputs": [],
   "source": [
    "train_set_original = pd.read_csv(\"data/{}_train_set_original.csv\".format(model_name), dtype=np.object)\n",
    "val_set_original = pd.read_csv(\"data/{}_val_set_original.csv\".format(model_name), dtype=np.object)\n",
    "test_set_original = pd.read_csv(\"data/{}_test_set_original.csv\".format(model_name), dtype=np.object)\n",
    "\n",
    "train_set = pd.read_csv(\"data/{}_train_set.csv\".format(model_name))\n",
    "val_set = pd.read_csv(\"data/{}_val_set.csv\".format(model_name))\n",
    "test_set = pd.read_csv(\"data/{}_test_set.csv\".format(model_name))"
   ]
  },
  {
   "cell_type": "code",
   "execution_count": 4,
   "metadata": {},
   "outputs": [],
   "source": [
    "with open(\"static/pipeline_gpa.pkl\", \"rb\") as f:\n",
    "    pipeline_gpa = dill.load(f)\n",
    "\n",
    "with open(\"static/pipeline_rip.pkl\", \"rb\") as f:\n",
    "    pipeline_rip = dill.load(f)"
   ]
  },
  {
   "source": [
    "## Load Vocabulary and Instantiate as dictionary : GPA"
   ],
   "cell_type": "markdown",
   "metadata": {}
  },
  {
   "cell_type": "code",
   "execution_count": 5,
   "metadata": {},
   "outputs": [
    {
     "output_type": "execute_result",
     "data": {
      "text/plain": [
       "array([   -4096,       -1,        0, ...,  6201344, -6291456,  3141632],\n",
       "      dtype=int64)"
      ]
     },
     "metadata": {},
     "execution_count": 5
    }
   ],
   "source": [
    "vocabulary_gpa = np.genfromtxt(\"static/vocabulary_gpa.csv\", delimiter=\"\\n\", dtype=np.int64)\n",
    "vocabulary_gpa"
   ]
  },
  {
   "cell_type": "code",
   "execution_count": 6,
   "metadata": {},
   "outputs": [],
   "source": [
    "vocabulary_gpa = {v:i for i, v in enumerate(vocabulary_gpa)}"
   ]
  },
  {
   "cell_type": "code",
   "execution_count": 7,
   "metadata": {},
   "outputs": [
    {
     "output_type": "execute_result",
     "data": {
      "text/plain": [
       "{-4096: 0,\n",
       " -1: 1,\n",
       " 0: 2,\n",
       " -1638400: 3,\n",
       " -1896448: 4,\n",
       " -8192: 5,\n",
       " -4060: 6,\n",
       " 6750208: 7,\n",
       " -864256: 8,\n",
       " -430892: 9}"
      ]
     },
     "metadata": {},
     "execution_count": 7
    }
   ],
   "source": [
    "dict(list(vocabulary_gpa.items())[:10])"
   ]
  },
  {
   "source": [
    "## Demo : GPA"
   ],
   "cell_type": "markdown",
   "metadata": {}
  },
  {
   "cell_type": "code",
   "execution_count": 8,
   "metadata": {},
   "outputs": [
    {
     "output_type": "execute_result",
     "data": {
      "text/plain": [
       "array([17569096718, 22541336944, 17569096718, 22541336948, 17569096718,\n",
       "       22541336952, 17569096718, 17569096385, 21576007680, 17569096385,\n",
       "       17569096718, 22541336944, 17569096718, 22541336948, 17569096718,\n",
       "       22541336952, 17569096718, 17569096385, 21576007680, 17569096385,\n",
       "       17569096718, 22541336944, 17569096718, 22541336948, 17569096718,\n",
       "       22541336952, 17569096718, 17569096385, 21576007680, 17569096385],\n",
       "      dtype=int64)"
      ]
     },
     "metadata": {},
     "execution_count": 8
    }
   ],
   "source": [
    "train_original_gpa_sample = train_set_original['gpa'].values[:30].astype(np.float64).astype(np.int64)\n",
    "train_original_gpa_sample"
   ]
  },
  {
   "cell_type": "code",
   "execution_count": 9,
   "metadata": {},
   "outputs": [
    {
     "output_type": "execute_result",
     "data": {
      "text/plain": [
       "array([ 19,  18,  16,  17,  15,  20,  21,   1,   1, 177,  19,  18,  16,\n",
       "        17,  15,  20,  21,   1,   1, 177,  19,  18,  16,  17,  15,  20,\n",
       "        21,   1,   1])"
      ]
     },
     "metadata": {},
     "execution_count": 9
    }
   ],
   "source": [
    "processed_train_gpa_sample = pipeline_gpa.transform(train_original_gpa_sample)\n",
    "processed_train_gpa_sample"
   ]
  },
  {
   "cell_type": "code",
   "execution_count": 10,
   "metadata": {},
   "outputs": [
    {
     "output_type": "execute_result",
     "data": {
      "text/plain": [
       "array([-4972240226,  4972240226, -4972240230,  4972240230, -4972240234,\n",
       "        4972240234,         333, -4006911295,  4006911295,        -333,\n",
       "       -4972240226,  4972240226, -4972240230,  4972240230, -4972240234,\n",
       "        4972240234,         333, -4006911295,  4006911295,        -333,\n",
       "       -4972240226,  4972240226, -4972240230,  4972240230, -4972240234,\n",
       "        4972240234,         333, -4006911295,  4006911295], dtype=int64)"
      ]
     },
     "metadata": {},
     "execution_count": 10
    }
   ],
   "source": [
    "# Delta\n",
    "train_gpa_sample = train_original_gpa_sample[:-1] - train_original_gpa_sample[1:]\n",
    "train_gpa_sample"
   ]
  },
  {
   "cell_type": "code",
   "execution_count": 11,
   "metadata": {},
   "outputs": [
    {
     "output_type": "execute_result",
     "data": {
      "text/plain": [
       "array([-4972240226,  4972240226, -4972240230,  4972240230, -4972240234,\n",
       "        4972240234,         333,          -1,          -1,        -333,\n",
       "       -4972240226,  4972240226, -4972240230,  4972240230, -4972240234,\n",
       "        4972240234,         333,          -1,          -1,        -333,\n",
       "       -4972240226,  4972240226, -4972240230,  4972240230, -4972240234,\n",
       "        4972240234,         333,          -1,          -1], dtype=int64)"
      ]
     },
     "metadata": {},
     "execution_count": 11
    }
   ],
   "source": [
    "# Note that Irreversible predictions are returned as -1.\n",
    "train_gpa_sample_inverse_transformed = pipeline_gpa.inverse_transform(processed_train_gpa_sample)\n",
    "train_gpa_sample_inverse_transformed"
   ]
  },
  {
   "cell_type": "code",
   "execution_count": 12,
   "metadata": {},
   "outputs": [
    {
     "output_type": "execute_result",
     "data": {
      "text/plain": [
       "(17, 4972240230, 4972240230)"
      ]
     },
     "metadata": {},
     "execution_count": 12
    }
   ],
   "source": [
    "# Processed / Original Delta / Inverse_transformed (= restored from prediction)\n",
    "processed_train_gpa_sample[3], train_gpa_sample[3], train_gpa_sample_inverse_transformed[3]"
   ]
  },
  {
   "cell_type": "code",
   "execution_count": 13,
   "metadata": {},
   "outputs": [
    {
     "output_type": "execute_result",
     "data": {
      "text/plain": [
       "122"
      ]
     },
     "metadata": {},
     "execution_count": 13
    }
   ],
   "source": [
    "vocabulary_gpa[-94208]"
   ]
  },
  {
   "cell_type": "code",
   "execution_count": 14,
   "metadata": {},
   "outputs": [
    {
     "output_type": "execute_result",
     "data": {
      "text/plain": [
       "(18, 4972240226, 4972240226)"
      ]
     },
     "metadata": {},
     "execution_count": 14
    }
   ],
   "source": [
    "# Processed / Original Delta / Inverse_transformed (= restored from prediction)\n",
    "processed_train_gpa_sample[21], train_gpa_sample[21], train_gpa_sample_inverse_transformed[21]"
   ]
  },
  {
   "cell_type": "code",
   "execution_count": 15,
   "metadata": {},
   "outputs": [
    {
     "output_type": "execute_result",
     "data": {
      "text/plain": [
       "1"
      ]
     },
     "metadata": {},
     "execution_count": 15
    }
   ],
   "source": [
    "vocabulary_gpa[-1]"
   ]
  },
  {
   "source": [
    "## Interpretation\n",
    "This indicates that 4712300544 is pruned and substituted to -1.  \n",
    "Also, -1 is integer-indexed by 1 and this indicates that -1 is secondly frequent vocabulary. (begin with 0)"
   ],
   "cell_type": "markdown",
   "metadata": {}
  },
  {
   "source": [
    "## Load Vocabulary and Instantiate as dictionary : RIP"
   ],
   "cell_type": "markdown",
   "metadata": {}
  },
  {
   "cell_type": "code",
   "execution_count": 16,
   "metadata": {},
   "outputs": [
    {
     "output_type": "execute_result",
     "data": {
      "text/plain": [
       "array([                   0, 18446744073709551604, 18446744073709551605,\n",
       "       ...,      140237724969129,               292896,\n",
       "                     524368], dtype=uint64)"
      ]
     },
     "metadata": {},
     "execution_count": 16
    }
   ],
   "source": [
    "vocabulary_rip = np.genfromtxt(\"static/vocabulary_rip.csv\", delimiter=\"\\n\", dtype=np.uint64)\n",
    "vocabulary_rip"
   ]
  },
  {
   "cell_type": "code",
   "execution_count": 17,
   "metadata": {},
   "outputs": [],
   "source": [
    "vocabulary_rip = {v:i for i, v in enumerate(vocabulary_rip)}"
   ]
  },
  {
   "cell_type": "code",
   "execution_count": 18,
   "metadata": {},
   "outputs": [
    {
     "output_type": "execute_result",
     "data": {
      "text/plain": [
       "{0: 0,\n",
       " 18446744073709551604: 1,\n",
       " 18446744073709551605: 2,\n",
       " 35: 3,\n",
       " 12: 4,\n",
       " 18446744073709551581: 5,\n",
       " 11: 6,\n",
       " 23: 7,\n",
       " 18446744073709551593: 8,\n",
       " 18446744073709551592: 9}"
      ]
     },
     "metadata": {},
     "execution_count": 18
    }
   ],
   "source": [
    "dict(list(vocabulary_rip.items())[:10])"
   ]
  },
  {
   "source": [
    "## Demo : RIP"
   ],
   "cell_type": "markdown",
   "metadata": {}
  },
  {
   "cell_type": "code",
   "execution_count": 19,
   "metadata": {},
   "outputs": [
    {
     "output_type": "execute_result",
     "data": {
      "text/plain": [
       "array([18446744072500750336, 18446744072500750336, 18446744072500750336,\n",
       "       18446744072500750336, 18446744072500750336, 18446744072500750336,\n",
       "       18446744072500750336, 18446744072500748288, 18446744072500748288,\n",
       "       18446744072500748288, 18446744072500750336, 18446744072500750336,\n",
       "       18446744072500750336, 18446744072500750336, 18446744072500750336,\n",
       "       18446744072500750336, 18446744072500750336, 18446744072500748288,\n",
       "       18446744072500748288, 18446744072500748288, 18446744072500750336,\n",
       "       18446744072500750336, 18446744072500750336, 18446744072500750336,\n",
       "       18446744072500750336, 18446744072500750336, 18446744072500750336,\n",
       "       18446744072500748288, 18446744072500748288, 18446744072500748288],\n",
       "      dtype=uint64)"
      ]
     },
     "metadata": {},
     "execution_count": 19
    }
   ],
   "source": [
    "train_original_rip_sample = train_set_original['rip'].values[:30].astype(np.float64).astype(np.uint64)\n",
    "train_original_rip_sample"
   ]
  },
  {
   "cell_type": "code",
   "execution_count": 20,
   "metadata": {},
   "outputs": [
    {
     "output_type": "execute_result",
     "data": {
      "text/plain": [
       "array([   0,    0,    0,    0,    0,    0,   11,    0,    0, 1325,    0,\n",
       "          0,    0,    0,    0,    0,   11,    0,    0, 1325,    0,    0,\n",
       "          0,    0,    0,    0,   11,    0,    0])"
      ]
     },
     "metadata": {},
     "execution_count": 20
    }
   ],
   "source": [
    "processed_train_rip_sample = pipeline_rip.transform(train_original_rip_sample)\n",
    "processed_train_rip_sample"
   ]
  },
  {
   "cell_type": "code",
   "execution_count": 21,
   "metadata": {},
   "outputs": [
    {
     "output_type": "execute_result",
     "data": {
      "text/plain": [
       "array([                   0,                    0,                    0,\n",
       "                          0,                    0,                    0,\n",
       "                       2048,                    0,                    0,\n",
       "       18446744073709549568,                    0,                    0,\n",
       "                          0,                    0,                    0,\n",
       "                          0,                 2048,                    0,\n",
       "                          0, 18446744073709549568,                    0,\n",
       "                          0,                    0,                    0,\n",
       "                          0,                    0,                 2048,\n",
       "                          0,                    0], dtype=uint64)"
      ]
     },
     "metadata": {},
     "execution_count": 21
    }
   ],
   "source": [
    "# Delta\n",
    "train_rip_sample = train_original_rip_sample[:-1] - train_original_rip_sample[1:]\n",
    "train_rip_sample"
   ]
  },
  {
   "cell_type": "code",
   "execution_count": 22,
   "metadata": {},
   "outputs": [
    {
     "output_type": "execute_result",
     "data": {
      "text/plain": [
       "array([                   0,                    0,                    0,\n",
       "                          0,                    0,                    0,\n",
       "       18446744073709551615,                    0,                    0,\n",
       "       18446744073709549568,                    0,                    0,\n",
       "                          0,                    0,                    0,\n",
       "                          0, 18446744073709551615,                    0,\n",
       "                          0, 18446744073709549568,                    0,\n",
       "                          0,                    0,                    0,\n",
       "                          0,                    0, 18446744073709551615,\n",
       "                          0,                    0], dtype=uint64)"
      ]
     },
     "metadata": {},
     "execution_count": 22
    }
   ],
   "source": [
    "# Note that Irreversible predictions are returned as -1.\n",
    "train_rip_sample_inverse_transformed = pipeline_rip.inverse_transform(processed_train_rip_sample)\n",
    "train_rip_sample_inverse_transformed = np.array([t.decode() for t in train_rip_sample_inverse_transformed]).astype(np.uint64)\n",
    "train_rip_sample_inverse_transformed"
   ]
  },
  {
   "cell_type": "code",
   "execution_count": 23,
   "metadata": {},
   "outputs": [
    {
     "output_type": "execute_result",
     "data": {
      "text/plain": [
       "(0, 0, 0)"
      ]
     },
     "metadata": {},
     "execution_count": 23
    }
   ],
   "source": [
    "# Processed / Original Delta / Inverse_transformed (= restored from prediction)\n",
    "processed_train_rip_sample[3], train_rip_sample[3], train_rip_sample_inverse_transformed[3]"
   ]
  },
  {
   "cell_type": "code",
   "execution_count": 24,
   "metadata": {},
   "outputs": [
    {
     "output_type": "execute_result",
     "data": {
      "text/plain": [
       "0"
      ]
     },
     "metadata": {},
     "execution_count": 24
    }
   ],
   "source": [
    "vocabulary_rip[0]"
   ]
  },
  {
   "cell_type": "code",
   "execution_count": 25,
   "metadata": {},
   "outputs": [
    {
     "output_type": "execute_result",
     "data": {
      "text/plain": [
       "(0, 0, 0)"
      ]
     },
     "metadata": {},
     "execution_count": 25
    }
   ],
   "source": [
    "# Processed / Original Delta / Inverse_transformed (= restored from prediction)\n",
    "processed_train_rip_sample[21], train_rip_sample[21], train_rip_sample_inverse_transformed[21]"
   ]
  },
  {
   "cell_type": "code",
   "execution_count": 26,
   "metadata": {},
   "outputs": [
    {
     "output_type": "execute_result",
     "data": {
      "text/plain": [
       "4955473"
      ]
     },
     "metadata": {},
     "execution_count": 26
    }
   ],
   "source": [
    "train_set['gpa'].value_counts().sum()"
   ]
  },
  {
   "cell_type": "code",
   "execution_count": 27,
   "metadata": {},
   "outputs": [
    {
     "output_type": "execute_result",
     "data": {
      "text/plain": [
       "3586"
      ]
     },
     "metadata": {},
     "execution_count": 27
    }
   ],
   "source": [
    "train_set['gpa'].value_counts().value_counts().sum()"
   ]
  },
  {
   "cell_type": "code",
   "execution_count": null,
   "metadata": {},
   "outputs": [],
   "source": []
  }
 ]
}