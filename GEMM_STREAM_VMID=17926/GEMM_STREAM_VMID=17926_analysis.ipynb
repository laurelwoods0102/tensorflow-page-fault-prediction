{
 "metadata": {
  "language_info": {
   "codemirror_mode": {
    "name": "ipython",
    "version": 3
   },
   "file_extension": ".py",
   "mimetype": "text/x-python",
   "name": "python",
   "nbconvert_exporter": "python",
   "pygments_lexer": "ipython3",
   "version": "3.7.6"
  },
  "orig_nbformat": 2,
  "kernelspec": {
   "name": "python376jvsc74a57bd0b3ba2566441a7c06988d0923437866b63cedc61552a5af99d1f4fb67d367b25f",
   "display_name": "Python 3.7.6 64-bit (conda)"
  }
 },
 "nbformat": 4,
 "nbformat_minor": 2,
 "cells": [
  {
   "cell_type": "code",
   "execution_count": 1,
   "metadata": {},
   "outputs": [],
   "source": [
    "import numpy as np\n",
    "import pandas as pd\n",
    "import json\n",
    "import dill         # 0.3.2\n",
    "from sklearn.base import BaseEstimator, TransformerMixin\n",
    "from sklearn.pipeline import Pipeline\n",
    "from sklearn.model_selection import train_test_split"
   ]
  },
  {
   "cell_type": "markdown",
   "metadata": {},
   "source": [
    "## Set Global/Environment Variables"
   ]
  },
  {
   "cell_type": "code",
   "execution_count": 2,
   "metadata": {},
   "outputs": [],
   "source": [
    "model_name = \"GEMM_STREAM_VMID=17926\""
   ]
  },
  {
   "cell_type": "markdown",
   "metadata": {},
   "source": [
    "## Load Dataset/Static Param List"
   ]
  },
  {
   "cell_type": "code",
   "execution_count": 3,
   "metadata": {},
   "outputs": [
    {
     "output_type": "execute_result",
     "data": {
      "text/plain": [
       "                   extra             time address_type          gpa  \\\n",
       "2149    [861368.920026]   05:46:36:062305          GPA  17569096718   \n",
       "2150    [861368.920040]   05:46:36:062325          GPA  22541336944   \n",
       "2151    [861368.920062]   05:46:36:062348          GPA  17569096718   \n",
       "2152    [861368.920068]   05:46:36:062354          GPA  22541336948   \n",
       "2153    [861368.920086]   05:46:36:062372          GPA  17569096718   \n",
       "...                  ...              ...          ...          ...   \n",
       "407242  [957446.819051]   08:27:53:959834           PF  20453990400   \n",
       "407243  [957446.865342]   08:27:54:006124           PF  20453994496   \n",
       "407244  [957446.865354]   08:27:54:006138           PF  20453998592   \n",
       "407245  [957446.865359]   08:27:54:006143           PF  20454002688   \n",
       "407246  [957446.865362]   08:27:54:006146           PF  20454006784   \n",
       "\n",
       "                         rip   vmid  \n",
       "2149    18446744072500749326  17926  \n",
       "2150    18446744072500749326  17926  \n",
       "2151    18446744072500749326  17926  \n",
       "2152    18446744072500749326  17926  \n",
       "2153    18446744072500749326  17926  \n",
       "...                      ...    ...  \n",
       "407242  18446744072506569815  17926  \n",
       "407243  18446744072506569815  17926  \n",
       "407244  18446744072506569815  17926  \n",
       "407245  18446744072506569815  17926  \n",
       "407246  18446744072506569815  17926  \n",
       "\n",
       "[7287463 rows x 6 columns]"
      ],
      "text/html": "<div>\n<style scoped>\n    .dataframe tbody tr th:only-of-type {\n        vertical-align: middle;\n    }\n\n    .dataframe tbody tr th {\n        vertical-align: top;\n    }\n\n    .dataframe thead th {\n        text-align: right;\n    }\n</style>\n<table border=\"1\" class=\"dataframe\">\n  <thead>\n    <tr style=\"text-align: right;\">\n      <th></th>\n      <th>extra</th>\n      <th>time</th>\n      <th>address_type</th>\n      <th>gpa</th>\n      <th>rip</th>\n      <th>vmid</th>\n    </tr>\n  </thead>\n  <tbody>\n    <tr>\n      <th>2149</th>\n      <td>[861368.920026]</td>\n      <td>05:46:36:062305</td>\n      <td>GPA</td>\n      <td>17569096718</td>\n      <td>18446744072500749326</td>\n      <td>17926</td>\n    </tr>\n    <tr>\n      <th>2150</th>\n      <td>[861368.920040]</td>\n      <td>05:46:36:062325</td>\n      <td>GPA</td>\n      <td>22541336944</td>\n      <td>18446744072500749326</td>\n      <td>17926</td>\n    </tr>\n    <tr>\n      <th>2151</th>\n      <td>[861368.920062]</td>\n      <td>05:46:36:062348</td>\n      <td>GPA</td>\n      <td>17569096718</td>\n      <td>18446744072500749326</td>\n      <td>17926</td>\n    </tr>\n    <tr>\n      <th>2152</th>\n      <td>[861368.920068]</td>\n      <td>05:46:36:062354</td>\n      <td>GPA</td>\n      <td>22541336948</td>\n      <td>18446744072500749326</td>\n      <td>17926</td>\n    </tr>\n    <tr>\n      <th>2153</th>\n      <td>[861368.920086]</td>\n      <td>05:46:36:062372</td>\n      <td>GPA</td>\n      <td>17569096718</td>\n      <td>18446744072500749326</td>\n      <td>17926</td>\n    </tr>\n    <tr>\n      <th>...</th>\n      <td>...</td>\n      <td>...</td>\n      <td>...</td>\n      <td>...</td>\n      <td>...</td>\n      <td>...</td>\n    </tr>\n    <tr>\n      <th>407242</th>\n      <td>[957446.819051]</td>\n      <td>08:27:53:959834</td>\n      <td>PF</td>\n      <td>20453990400</td>\n      <td>18446744072506569815</td>\n      <td>17926</td>\n    </tr>\n    <tr>\n      <th>407243</th>\n      <td>[957446.865342]</td>\n      <td>08:27:54:006124</td>\n      <td>PF</td>\n      <td>20453994496</td>\n      <td>18446744072506569815</td>\n      <td>17926</td>\n    </tr>\n    <tr>\n      <th>407244</th>\n      <td>[957446.865354]</td>\n      <td>08:27:54:006138</td>\n      <td>PF</td>\n      <td>20453998592</td>\n      <td>18446744072506569815</td>\n      <td>17926</td>\n    </tr>\n    <tr>\n      <th>407245</th>\n      <td>[957446.865359]</td>\n      <td>08:27:54:006143</td>\n      <td>PF</td>\n      <td>20454002688</td>\n      <td>18446744072506569815</td>\n      <td>17926</td>\n    </tr>\n    <tr>\n      <th>407246</th>\n      <td>[957446.865362]</td>\n      <td>08:27:54:006146</td>\n      <td>PF</td>\n      <td>20454006784</td>\n      <td>18446744072506569815</td>\n      <td>17926</td>\n    </tr>\n  </tbody>\n</table>\n<p>7287463 rows × 6 columns</p>\n</div>"
     },
     "metadata": {},
     "execution_count": 3
    }
   ],
   "source": [
    "original_dataset = pd.concat([pd.read_csv(\"../로그 데이터/GEMM_STREAM/GEMM_STREAM/gemm_stream_generic_generic2_{}.csv\".format(i), dtype=np.object) for i in range(1, 10)], axis=0)\n",
    "original_dataset = original_dataset[original_dataset[\"vmid\"] == '17926']\n",
    "original_dataset"
   ]
  },
  {
   "cell_type": "code",
   "execution_count": 4,
   "metadata": {},
   "outputs": [
    {
     "output_type": "execute_result",
     "data": {
      "text/plain": [
       "                gpa                   rip\n",
       "2149    17569096718  18446744072500749326\n",
       "2150    22541336944  18446744072500749326\n",
       "2151    17569096718  18446744072500749326\n",
       "2152    22541336948  18446744072500749326\n",
       "2153    17569096718  18446744072500749326\n",
       "...             ...                   ...\n",
       "407242  20453990400  18446744072506569815\n",
       "407243  20453994496  18446744072506569815\n",
       "407244  20453998592  18446744072506569815\n",
       "407245  20454002688  18446744072506569815\n",
       "407246  20454006784  18446744072506569815\n",
       "\n",
       "[7287463 rows x 2 columns]"
      ],
      "text/html": "<div>\n<style scoped>\n    .dataframe tbody tr th:only-of-type {\n        vertical-align: middle;\n    }\n\n    .dataframe tbody tr th {\n        vertical-align: top;\n    }\n\n    .dataframe thead th {\n        text-align: right;\n    }\n</style>\n<table border=\"1\" class=\"dataframe\">\n  <thead>\n    <tr style=\"text-align: right;\">\n      <th></th>\n      <th>gpa</th>\n      <th>rip</th>\n    </tr>\n  </thead>\n  <tbody>\n    <tr>\n      <th>2149</th>\n      <td>17569096718</td>\n      <td>18446744072500749326</td>\n    </tr>\n    <tr>\n      <th>2150</th>\n      <td>22541336944</td>\n      <td>18446744072500749326</td>\n    </tr>\n    <tr>\n      <th>2151</th>\n      <td>17569096718</td>\n      <td>18446744072500749326</td>\n    </tr>\n    <tr>\n      <th>2152</th>\n      <td>22541336948</td>\n      <td>18446744072500749326</td>\n    </tr>\n    <tr>\n      <th>2153</th>\n      <td>17569096718</td>\n      <td>18446744072500749326</td>\n    </tr>\n    <tr>\n      <th>...</th>\n      <td>...</td>\n      <td>...</td>\n    </tr>\n    <tr>\n      <th>407242</th>\n      <td>20453990400</td>\n      <td>18446744072506569815</td>\n    </tr>\n    <tr>\n      <th>407243</th>\n      <td>20453994496</td>\n      <td>18446744072506569815</td>\n    </tr>\n    <tr>\n      <th>407244</th>\n      <td>20453998592</td>\n      <td>18446744072506569815</td>\n    </tr>\n    <tr>\n      <th>407245</th>\n      <td>20454002688</td>\n      <td>18446744072506569815</td>\n    </tr>\n    <tr>\n      <th>407246</th>\n      <td>20454006784</td>\n      <td>18446744072506569815</td>\n    </tr>\n  </tbody>\n</table>\n<p>7287463 rows × 2 columns</p>\n</div>"
     },
     "metadata": {},
     "execution_count": 4
    }
   ],
   "source": [
    "original_dataset = original_dataset[[\"gpa\", \"rip\"]].dropna()       # rip for PCs\n",
    "original_dataset"
   ]
  },
  {
   "cell_type": "markdown",
   "metadata": {},
   "source": [
    "## Dataset Processing Functions"
   ]
  },
  {
   "cell_type": "code",
   "execution_count": 5,
   "metadata": {},
   "outputs": [],
   "source": [
    "class CalculateDelta(TransformerMixin):\n",
    "    def __init__(self):\n",
    "        pass\n",
    "\n",
    "    def fit(self, X, y=None):\n",
    "        return self\n",
    "        \n",
    "    def transform(self, X, y=None):\n",
    "        X_transformed = X[:-1] - X[1:]\n",
    "        # In case of unsigned types, change its type to string type\n",
    "        if X_transformed.dtype in [np.uint8, np.uint16, np.uint32, np.uint64]:\n",
    "            X_transformed = X_transformed.astype(np.string_)\n",
    "        return X_transformed\n",
    "\n",
    "    def inverse_transform(self, X, y=None):     # Just for test_pipeline.inverse_transform()\n",
    "        return X"
   ]
  },
  {
   "cell_type": "markdown",
   "metadata": {},
   "source": [
    "## Process Train/Validation Dataset"
   ]
  },
  {
   "cell_type": "code",
   "execution_count": 6,
   "metadata": {},
   "outputs": [],
   "source": [
    "# Train / Val / Test Ratio : 70% / 15% / 15%\n",
    "train_val_set, test_set = train_test_split(original_dataset, test_size=0.15, shuffle=False)\n",
    "#train_set, val_set = train_test_split(train_val_set, test_size=0.2, shuffle=False)"
   ]
  },
  {
   "cell_type": "code",
   "execution_count": 7,
   "metadata": {},
   "outputs": [],
   "source": [
    "train_val_gpa = train_val_set[\"gpa\"].values.astype(np.int64)\n",
    "train_val_rip = train_val_set[\"rip\"].values.astype(np.uint64)      # As uint64 not exists in pandas\n",
    "\n",
    "test_gpa = test_set[\"gpa\"].values.astype(np.int64)\n",
    "test_rip = test_set[\"rip\"].values.astype(np.uint64)      # As uint64 not exists in pandas"
   ]
  },
  {
   "cell_type": "code",
   "execution_count": 8,
   "metadata": {},
   "outputs": [],
   "source": [
    "calculate_delta = CalculateDelta()"
   ]
  },
  {
   "source": [
    "processed_train_val_gpa = calculate_delta.fit_transform(train_val_gpa.copy())\n",
    "processed_train_val_gpa"
   ],
   "cell_type": "code",
   "metadata": {},
   "execution_count": 9,
   "outputs": [
    {
     "output_type": "execute_result",
     "data": {
      "text/plain": [
       "array([-4972240226,  4972240226, -4972240230, ...,           0,\n",
       "                 0,           0], dtype=int64)"
      ]
     },
     "metadata": {},
     "execution_count": 9
    }
   ]
  },
  {
   "cell_type": "code",
   "execution_count": 10,
   "metadata": {
    "tags": []
   },
   "outputs": [
    {
     "output_type": "execute_result",
     "data": {
      "text/plain": [
       "array([b'0', b'0', b'0', ..., b'0', b'0', b'0'], dtype='|S20')"
      ]
     },
     "metadata": {},
     "execution_count": 10
    }
   ],
   "source": [
    "processed_train_val_rip = calculate_delta.transform(train_val_rip)\n",
    "processed_train_val_rip"
   ]
  },
  {
   "cell_type": "code",
   "execution_count": 11,
   "metadata": {},
   "outputs": [
    {
     "output_type": "execute_result",
     "data": {
      "text/plain": [
       "(-4096          2166072\n",
       "  0              770606\n",
       " -1638400        175768\n",
       " -1896448         75392\n",
       " -8192            38496\n",
       "                 ...   \n",
       " -591212544           1\n",
       " -6531026944          1\n",
       "  4322430976          1\n",
       "  3642871336          1\n",
       " -2543742976          1\n",
       " Length: 762652, dtype: int64,\n",
       " b'0'                       4209818\n",
       " b'18446744073709551604'     247275\n",
       " b'18446744073709551605'     134216\n",
       " b'35'                       117557\n",
       " b'12'                        90448\n",
       "                             ...   \n",
       " b'1227167289'                    1\n",
       " b'18446603835989313538'          1\n",
       " b'18446744073702595384'          1\n",
       " b'18446604049009101086'          1\n",
       " b'18446603644298361661'          1\n",
       " Length: 32600, dtype: int64)"
      ]
     },
     "metadata": {},
     "execution_count": 11
    }
   ],
   "source": [
    "pd.Series(processed_train_val_gpa).value_counts(), pd.Series(processed_train_val_rip).value_counts()"
   ]
  },
  {
   "cell_type": "code",
   "execution_count": 12,
   "metadata": {},
   "outputs": [
    {
     "output_type": "execute_result",
     "data": {
      "text/plain": [
       "(1       601911\n",
       " 2        69302\n",
       " 3        27680\n",
       " 4        15491\n",
       " 5         9773\n",
       "          ...  \n",
       " 849          1\n",
       " 2896         1\n",
       " 695          1\n",
       " 4435         1\n",
       " 646          1\n",
       " Length: 863, dtype: int64,\n",
       " 1       23330\n",
       " 2        3748\n",
       " 3        1428\n",
       " 4         846\n",
       " 5         548\n",
       "         ...  \n",
       " 313         1\n",
       " 425         1\n",
       " 457         1\n",
       " 6698        1\n",
       " 423         1\n",
       " Length: 478, dtype: int64)"
      ]
     },
     "metadata": {},
     "execution_count": 12
    }
   ],
   "source": [
    "# Index = Occurence | Column = Number of included categories\n",
    "pd.Series(processed_train_val_gpa).value_counts().value_counts(), pd.Series(processed_train_val_rip).value_counts().value_counts()"
   ]
  },
  {
   "source": [
    "## gpa : N / P ratio"
   ],
   "cell_type": "markdown",
   "metadata": {}
  },
  {
   "cell_type": "code",
   "execution_count": 13,
   "metadata": {},
   "outputs": [],
   "source": [
    "gpa_data = []\n",
    "for gpa_threshold in range(50):\n",
    "    row = []\n",
    "    \n",
    "    row.append(gpa_threshold)\n",
    "    if gpa_threshold == 0:\n",
    "        gpa_p = len(pd.Series(processed_train_val_gpa).value_counts())\n",
    "        previous_gpa_p = gpa_p\n",
    "        previous_accuracy = 0\n",
    "        previous_ratio = 0\n",
    "    else:\n",
    "        gpa_p = len(pd.Series(processed_train_val_gpa).value_counts()) - sum(pd.Series(processed_train_val_gpa).value_counts().value_counts().loc[list(range(1, gpa_threshold+1))].values) + 1\n",
    "    row.append(gpa_p)\n",
    "    row.append(previous_gpa_p - gpa_p)\n",
    "    previous_gpa_p = gpa_p\n",
    "    ratio = processed_train_val_gpa.shape[0] / gpa_p\n",
    "    row.append(ratio)\n",
    "    row.append(ratio - previous_ratio)\n",
    "    previous_ratio = ratio\n",
    "    accuracy = sum(pd.Series(processed_train_val_gpa).value_counts().value_counts().loc[list(range(1, gpa_threshold+1))].values * pd.Series(processed_train_val_gpa).value_counts().value_counts().loc[list(range(1, gpa_threshold+1))].index) / (processed_train_val_gpa.shape[0])\n",
    "    row.append(accuracy)\n",
    "    row.append(accuracy - previous_accuracy)\n",
    "    previous_accuracy = accuracy\n",
    "\n",
    "    gpa_data.append(row)\n",
    "\n",
    "df_gpa_threshold = pd.DataFrame(data=gpa_data, columns=[\"threshold\", \"p\", \"p'\", \"n/p ratio\", \"ratio'\", \"upper limit for train/val accuracy\", \"accuracy'\"])"
   ]
  },
  {
   "cell_type": "code",
   "execution_count": 14,
   "metadata": {},
   "outputs": [
    {
     "output_type": "execute_result",
     "data": {
      "text/plain": [
       "    threshold       p      p'    n/p ratio     ratio'  \\\n",
       "0           0  762652       0     8.122108   8.122108   \n",
       "1           1  160742  601910    38.535927  30.413819   \n",
       "2           2   91440   69302    67.742148  29.206221   \n",
       "3           3   63760   27680    97.150910  29.408762   \n",
       "4           4   48269   15491   128.329611  31.178701   \n",
       "5           5   38496    9773   160.908718  32.579107   \n",
       "6           6   31609    6887   195.967667  35.058950   \n",
       "7           7   26752    4857   231.546875  35.579208   \n",
       "8           8   23047    3705   268.769992  37.223117   \n",
       "9           9   20213    2834   306.453372  37.683380   \n",
       "10         10   18020    2193   343.748169  37.294797   \n",
       "11         11   16233    1787   381.589478  37.841310   \n",
       "12         12   14760    1473   419.670867  38.081389   \n",
       "13         13   13469    1291   459.896206  40.225339   \n",
       "14         14   12380    1089   500.350727  40.454521   \n",
       "15         15   11442     938   541.368817  41.018090   \n",
       "16         16   10619     823   583.326302  41.957485   \n",
       "17         17    9903     716   625.501565  42.175263   \n",
       "18         18    9306     597   665.628842  40.127276   \n",
       "19         19    8736     570   709.059295  43.430453   \n",
       "20         20    8257     479   750.192806  41.133511   \n",
       "21         21    7828     429   791.305825  41.113019   \n",
       "22         22    7398     430   837.299540  45.993715   \n",
       "23         23    6992     406   885.918478  48.618938   \n",
       "24         24    6642     350   932.601927  46.683449   \n",
       "25         25    6331     311   978.414468  45.812541   \n",
       "26         26    6062     269  1021.831409  43.416940   \n",
       "27         27    5816     246  1065.051926  43.220517   \n",
       "28         28    5578     238  1110.495160  45.443234   \n",
       "29         29    5346     232  1158.687243  48.192083   \n",
       "30         30    5131     215  1207.238745  48.551502   \n",
       "31         31    4934     197  1255.440211  48.201466   \n",
       "32         32    4758     176  1301.879361  46.439150   \n",
       "33         33    4597     161  1347.474875  45.595514   \n",
       "34         34    4439     158  1395.436360  47.961485   \n",
       "35         35    4306     133  1438.537390  43.101030   \n",
       "36         36    4165     141  1487.236975  48.699585   \n",
       "37         37    4014     151  1543.184355  55.947380   \n",
       "38         38    3897     117  1589.515525  46.331170   \n",
       "39         39    3801      96  1629.661142  40.145617   \n",
       "40         40    3670     131  1687.831608  58.170466   \n",
       "41         41    3588      82  1726.405240  38.573632   \n",
       "42         42    3483     105  1778.450187  52.044947   \n",
       "43         43    3394      89  1825.086034  46.635848   \n",
       "44         44    3308      86  1872.533857  47.447823   \n",
       "45         45    3234      74  1915.380952  42.847095   \n",
       "46         46    3162      72  1958.994940  43.613988   \n",
       "47         47    3090      72  2004.641424  45.646484   \n",
       "48         48    3030      60  2044.337294  39.695870   \n",
       "49         49    2966      64  2088.449764  44.112470   \n",
       "\n",
       "    upper limit for train/val accuracy  accuracy'  \n",
       "0                             0.000000   0.000000  \n",
       "1                             0.097171   0.097171  \n",
       "2                             0.119547   0.022376  \n",
       "3                             0.132953   0.013406  \n",
       "4                             0.142956   0.010003  \n",
       "5                             0.150845   0.007889  \n",
       "6                             0.157516   0.006671  \n",
       "7                             0.163004   0.005489  \n",
       "8                             0.167789   0.004785  \n",
       "9                             0.171907   0.004118  \n",
       "10                            0.175447   0.003540  \n",
       "11                            0.178621   0.003173  \n",
       "12                            0.181474   0.002854  \n",
       "13                            0.184184   0.002709  \n",
       "14                            0.186645   0.002461  \n",
       "15                            0.188916   0.002271  \n",
       "16                            0.191042   0.002126  \n",
       "17                            0.193007   0.001965  \n",
       "18                            0.194742   0.001735  \n",
       "19                            0.196490   0.001748  \n",
       "20                            0.198037   0.001547  \n",
       "21                            0.199491   0.001454  \n",
       "22                            0.201019   0.001527  \n",
       "23                            0.202526   0.001508  \n",
       "24                            0.203882   0.001356  \n",
       "25                            0.205137   0.001255  \n",
       "26                            0.206266   0.001129  \n",
       "27                            0.207339   0.001072  \n",
       "28                            0.208415   0.001076  \n",
       "29                            0.209501   0.001086  \n",
       "30                            0.210542   0.001041  \n",
       "31                            0.211528   0.000986  \n",
       "32                            0.212437   0.000909  \n",
       "33                            0.213295   0.000858  \n",
       "34                            0.214162   0.000867  \n",
       "35                            0.214914   0.000751  \n",
       "36                            0.215733   0.000819  \n",
       "37                            0.216635   0.000902  \n",
       "38                            0.217353   0.000718  \n",
       "39                            0.217957   0.000604  \n",
       "40                            0.218803   0.000846  \n",
       "41                            0.219346   0.000543  \n",
       "42                            0.220058   0.000712  \n",
       "43                            0.220676   0.000618  \n",
       "44                            0.221286   0.000611  \n",
       "45                            0.221824   0.000538  \n",
       "46                            0.222359   0.000535  \n",
       "47                            0.222905   0.000546  \n",
       "48                            0.223370   0.000465  \n",
       "49                            0.223876   0.000506  "
      ],
      "text/html": "<div>\n<style scoped>\n    .dataframe tbody tr th:only-of-type {\n        vertical-align: middle;\n    }\n\n    .dataframe tbody tr th {\n        vertical-align: top;\n    }\n\n    .dataframe thead th {\n        text-align: right;\n    }\n</style>\n<table border=\"1\" class=\"dataframe\">\n  <thead>\n    <tr style=\"text-align: right;\">\n      <th></th>\n      <th>threshold</th>\n      <th>p</th>\n      <th>p'</th>\n      <th>n/p ratio</th>\n      <th>ratio'</th>\n      <th>upper limit for train/val accuracy</th>\n      <th>accuracy'</th>\n    </tr>\n  </thead>\n  <tbody>\n    <tr>\n      <th>0</th>\n      <td>0</td>\n      <td>762652</td>\n      <td>0</td>\n      <td>8.122108</td>\n      <td>8.122108</td>\n      <td>0.000000</td>\n      <td>0.000000</td>\n    </tr>\n    <tr>\n      <th>1</th>\n      <td>1</td>\n      <td>160742</td>\n      <td>601910</td>\n      <td>38.535927</td>\n      <td>30.413819</td>\n      <td>0.097171</td>\n      <td>0.097171</td>\n    </tr>\n    <tr>\n      <th>2</th>\n      <td>2</td>\n      <td>91440</td>\n      <td>69302</td>\n      <td>67.742148</td>\n      <td>29.206221</td>\n      <td>0.119547</td>\n      <td>0.022376</td>\n    </tr>\n    <tr>\n      <th>3</th>\n      <td>3</td>\n      <td>63760</td>\n      <td>27680</td>\n      <td>97.150910</td>\n      <td>29.408762</td>\n      <td>0.132953</td>\n      <td>0.013406</td>\n    </tr>\n    <tr>\n      <th>4</th>\n      <td>4</td>\n      <td>48269</td>\n      <td>15491</td>\n      <td>128.329611</td>\n      <td>31.178701</td>\n      <td>0.142956</td>\n      <td>0.010003</td>\n    </tr>\n    <tr>\n      <th>5</th>\n      <td>5</td>\n      <td>38496</td>\n      <td>9773</td>\n      <td>160.908718</td>\n      <td>32.579107</td>\n      <td>0.150845</td>\n      <td>0.007889</td>\n    </tr>\n    <tr>\n      <th>6</th>\n      <td>6</td>\n      <td>31609</td>\n      <td>6887</td>\n      <td>195.967667</td>\n      <td>35.058950</td>\n      <td>0.157516</td>\n      <td>0.006671</td>\n    </tr>\n    <tr>\n      <th>7</th>\n      <td>7</td>\n      <td>26752</td>\n      <td>4857</td>\n      <td>231.546875</td>\n      <td>35.579208</td>\n      <td>0.163004</td>\n      <td>0.005489</td>\n    </tr>\n    <tr>\n      <th>8</th>\n      <td>8</td>\n      <td>23047</td>\n      <td>3705</td>\n      <td>268.769992</td>\n      <td>37.223117</td>\n      <td>0.167789</td>\n      <td>0.004785</td>\n    </tr>\n    <tr>\n      <th>9</th>\n      <td>9</td>\n      <td>20213</td>\n      <td>2834</td>\n      <td>306.453372</td>\n      <td>37.683380</td>\n      <td>0.171907</td>\n      <td>0.004118</td>\n    </tr>\n    <tr>\n      <th>10</th>\n      <td>10</td>\n      <td>18020</td>\n      <td>2193</td>\n      <td>343.748169</td>\n      <td>37.294797</td>\n      <td>0.175447</td>\n      <td>0.003540</td>\n    </tr>\n    <tr>\n      <th>11</th>\n      <td>11</td>\n      <td>16233</td>\n      <td>1787</td>\n      <td>381.589478</td>\n      <td>37.841310</td>\n      <td>0.178621</td>\n      <td>0.003173</td>\n    </tr>\n    <tr>\n      <th>12</th>\n      <td>12</td>\n      <td>14760</td>\n      <td>1473</td>\n      <td>419.670867</td>\n      <td>38.081389</td>\n      <td>0.181474</td>\n      <td>0.002854</td>\n    </tr>\n    <tr>\n      <th>13</th>\n      <td>13</td>\n      <td>13469</td>\n      <td>1291</td>\n      <td>459.896206</td>\n      <td>40.225339</td>\n      <td>0.184184</td>\n      <td>0.002709</td>\n    </tr>\n    <tr>\n      <th>14</th>\n      <td>14</td>\n      <td>12380</td>\n      <td>1089</td>\n      <td>500.350727</td>\n      <td>40.454521</td>\n      <td>0.186645</td>\n      <td>0.002461</td>\n    </tr>\n    <tr>\n      <th>15</th>\n      <td>15</td>\n      <td>11442</td>\n      <td>938</td>\n      <td>541.368817</td>\n      <td>41.018090</td>\n      <td>0.188916</td>\n      <td>0.002271</td>\n    </tr>\n    <tr>\n      <th>16</th>\n      <td>16</td>\n      <td>10619</td>\n      <td>823</td>\n      <td>583.326302</td>\n      <td>41.957485</td>\n      <td>0.191042</td>\n      <td>0.002126</td>\n    </tr>\n    <tr>\n      <th>17</th>\n      <td>17</td>\n      <td>9903</td>\n      <td>716</td>\n      <td>625.501565</td>\n      <td>42.175263</td>\n      <td>0.193007</td>\n      <td>0.001965</td>\n    </tr>\n    <tr>\n      <th>18</th>\n      <td>18</td>\n      <td>9306</td>\n      <td>597</td>\n      <td>665.628842</td>\n      <td>40.127276</td>\n      <td>0.194742</td>\n      <td>0.001735</td>\n    </tr>\n    <tr>\n      <th>19</th>\n      <td>19</td>\n      <td>8736</td>\n      <td>570</td>\n      <td>709.059295</td>\n      <td>43.430453</td>\n      <td>0.196490</td>\n      <td>0.001748</td>\n    </tr>\n    <tr>\n      <th>20</th>\n      <td>20</td>\n      <td>8257</td>\n      <td>479</td>\n      <td>750.192806</td>\n      <td>41.133511</td>\n      <td>0.198037</td>\n      <td>0.001547</td>\n    </tr>\n    <tr>\n      <th>21</th>\n      <td>21</td>\n      <td>7828</td>\n      <td>429</td>\n      <td>791.305825</td>\n      <td>41.113019</td>\n      <td>0.199491</td>\n      <td>0.001454</td>\n    </tr>\n    <tr>\n      <th>22</th>\n      <td>22</td>\n      <td>7398</td>\n      <td>430</td>\n      <td>837.299540</td>\n      <td>45.993715</td>\n      <td>0.201019</td>\n      <td>0.001527</td>\n    </tr>\n    <tr>\n      <th>23</th>\n      <td>23</td>\n      <td>6992</td>\n      <td>406</td>\n      <td>885.918478</td>\n      <td>48.618938</td>\n      <td>0.202526</td>\n      <td>0.001508</td>\n    </tr>\n    <tr>\n      <th>24</th>\n      <td>24</td>\n      <td>6642</td>\n      <td>350</td>\n      <td>932.601927</td>\n      <td>46.683449</td>\n      <td>0.203882</td>\n      <td>0.001356</td>\n    </tr>\n    <tr>\n      <th>25</th>\n      <td>25</td>\n      <td>6331</td>\n      <td>311</td>\n      <td>978.414468</td>\n      <td>45.812541</td>\n      <td>0.205137</td>\n      <td>0.001255</td>\n    </tr>\n    <tr>\n      <th>26</th>\n      <td>26</td>\n      <td>6062</td>\n      <td>269</td>\n      <td>1021.831409</td>\n      <td>43.416940</td>\n      <td>0.206266</td>\n      <td>0.001129</td>\n    </tr>\n    <tr>\n      <th>27</th>\n      <td>27</td>\n      <td>5816</td>\n      <td>246</td>\n      <td>1065.051926</td>\n      <td>43.220517</td>\n      <td>0.207339</td>\n      <td>0.001072</td>\n    </tr>\n    <tr>\n      <th>28</th>\n      <td>28</td>\n      <td>5578</td>\n      <td>238</td>\n      <td>1110.495160</td>\n      <td>45.443234</td>\n      <td>0.208415</td>\n      <td>0.001076</td>\n    </tr>\n    <tr>\n      <th>29</th>\n      <td>29</td>\n      <td>5346</td>\n      <td>232</td>\n      <td>1158.687243</td>\n      <td>48.192083</td>\n      <td>0.209501</td>\n      <td>0.001086</td>\n    </tr>\n    <tr>\n      <th>30</th>\n      <td>30</td>\n      <td>5131</td>\n      <td>215</td>\n      <td>1207.238745</td>\n      <td>48.551502</td>\n      <td>0.210542</td>\n      <td>0.001041</td>\n    </tr>\n    <tr>\n      <th>31</th>\n      <td>31</td>\n      <td>4934</td>\n      <td>197</td>\n      <td>1255.440211</td>\n      <td>48.201466</td>\n      <td>0.211528</td>\n      <td>0.000986</td>\n    </tr>\n    <tr>\n      <th>32</th>\n      <td>32</td>\n      <td>4758</td>\n      <td>176</td>\n      <td>1301.879361</td>\n      <td>46.439150</td>\n      <td>0.212437</td>\n      <td>0.000909</td>\n    </tr>\n    <tr>\n      <th>33</th>\n      <td>33</td>\n      <td>4597</td>\n      <td>161</td>\n      <td>1347.474875</td>\n      <td>45.595514</td>\n      <td>0.213295</td>\n      <td>0.000858</td>\n    </tr>\n    <tr>\n      <th>34</th>\n      <td>34</td>\n      <td>4439</td>\n      <td>158</td>\n      <td>1395.436360</td>\n      <td>47.961485</td>\n      <td>0.214162</td>\n      <td>0.000867</td>\n    </tr>\n    <tr>\n      <th>35</th>\n      <td>35</td>\n      <td>4306</td>\n      <td>133</td>\n      <td>1438.537390</td>\n      <td>43.101030</td>\n      <td>0.214914</td>\n      <td>0.000751</td>\n    </tr>\n    <tr>\n      <th>36</th>\n      <td>36</td>\n      <td>4165</td>\n      <td>141</td>\n      <td>1487.236975</td>\n      <td>48.699585</td>\n      <td>0.215733</td>\n      <td>0.000819</td>\n    </tr>\n    <tr>\n      <th>37</th>\n      <td>37</td>\n      <td>4014</td>\n      <td>151</td>\n      <td>1543.184355</td>\n      <td>55.947380</td>\n      <td>0.216635</td>\n      <td>0.000902</td>\n    </tr>\n    <tr>\n      <th>38</th>\n      <td>38</td>\n      <td>3897</td>\n      <td>117</td>\n      <td>1589.515525</td>\n      <td>46.331170</td>\n      <td>0.217353</td>\n      <td>0.000718</td>\n    </tr>\n    <tr>\n      <th>39</th>\n      <td>39</td>\n      <td>3801</td>\n      <td>96</td>\n      <td>1629.661142</td>\n      <td>40.145617</td>\n      <td>0.217957</td>\n      <td>0.000604</td>\n    </tr>\n    <tr>\n      <th>40</th>\n      <td>40</td>\n      <td>3670</td>\n      <td>131</td>\n      <td>1687.831608</td>\n      <td>58.170466</td>\n      <td>0.218803</td>\n      <td>0.000846</td>\n    </tr>\n    <tr>\n      <th>41</th>\n      <td>41</td>\n      <td>3588</td>\n      <td>82</td>\n      <td>1726.405240</td>\n      <td>38.573632</td>\n      <td>0.219346</td>\n      <td>0.000543</td>\n    </tr>\n    <tr>\n      <th>42</th>\n      <td>42</td>\n      <td>3483</td>\n      <td>105</td>\n      <td>1778.450187</td>\n      <td>52.044947</td>\n      <td>0.220058</td>\n      <td>0.000712</td>\n    </tr>\n    <tr>\n      <th>43</th>\n      <td>43</td>\n      <td>3394</td>\n      <td>89</td>\n      <td>1825.086034</td>\n      <td>46.635848</td>\n      <td>0.220676</td>\n      <td>0.000618</td>\n    </tr>\n    <tr>\n      <th>44</th>\n      <td>44</td>\n      <td>3308</td>\n      <td>86</td>\n      <td>1872.533857</td>\n      <td>47.447823</td>\n      <td>0.221286</td>\n      <td>0.000611</td>\n    </tr>\n    <tr>\n      <th>45</th>\n      <td>45</td>\n      <td>3234</td>\n      <td>74</td>\n      <td>1915.380952</td>\n      <td>42.847095</td>\n      <td>0.221824</td>\n      <td>0.000538</td>\n    </tr>\n    <tr>\n      <th>46</th>\n      <td>46</td>\n      <td>3162</td>\n      <td>72</td>\n      <td>1958.994940</td>\n      <td>43.613988</td>\n      <td>0.222359</td>\n      <td>0.000535</td>\n    </tr>\n    <tr>\n      <th>47</th>\n      <td>47</td>\n      <td>3090</td>\n      <td>72</td>\n      <td>2004.641424</td>\n      <td>45.646484</td>\n      <td>0.222905</td>\n      <td>0.000546</td>\n    </tr>\n    <tr>\n      <th>48</th>\n      <td>48</td>\n      <td>3030</td>\n      <td>60</td>\n      <td>2044.337294</td>\n      <td>39.695870</td>\n      <td>0.223370</td>\n      <td>0.000465</td>\n    </tr>\n    <tr>\n      <th>49</th>\n      <td>49</td>\n      <td>2966</td>\n      <td>64</td>\n      <td>2088.449764</td>\n      <td>44.112470</td>\n      <td>0.223876</td>\n      <td>0.000506</td>\n    </tr>\n  </tbody>\n</table>\n</div>"
     },
     "metadata": {},
     "execution_count": 14
    }
   ],
   "source": [
    "df_gpa_threshold"
   ]
  },
  {
   "source": [
    "## rip : N / P ratio"
   ],
   "cell_type": "markdown",
   "metadata": {}
  },
  {
   "cell_type": "code",
   "execution_count": 15,
   "metadata": {},
   "outputs": [],
   "source": [
    "rip_data = []\n",
    "for rip_threshold in range(50):\n",
    "    row = []\n",
    "    \n",
    "    row.append(rip_threshold)\n",
    "    if rip_threshold == 0:\n",
    "        rip_p = len(pd.Series(processed_train_val_rip).value_counts())\n",
    "        previous_rip_p = rip_p\n",
    "        previous_accuracy = 0\n",
    "        previous_ratio = 0\n",
    "    else:\n",
    "        rip_p = len(pd.Series(processed_train_val_rip).value_counts()) - sum(pd.Series(processed_train_val_rip).value_counts().value_counts().loc[list(range(1, rip_threshold+1))].values) + 1\n",
    "    row.append(rip_p)\n",
    "    row.append(previous_rip_p - rip_p)\n",
    "    previous_rip_p = rip_p\n",
    "    ratio = processed_train_val_rip.shape[0] / rip_p\n",
    "    row.append(ratio)\n",
    "    row.append(ratio - previous_ratio)\n",
    "    previous_ratio = ratio\n",
    "    accuracy = sum(pd.Series(processed_train_val_rip).value_counts().value_counts().loc[list(range(1, rip_threshold+1))].values * pd.Series(processed_train_val_rip).value_counts().value_counts().loc[list(range(1, rip_threshold+1))].index) / (processed_train_val_rip.shape[0])\n",
    "    row.append(accuracy)\n",
    "    row.append(accuracy - previous_accuracy)\n",
    "    previous_accuracy = accuracy\n",
    "\n",
    "    rip_data.append(row)\n",
    "\n",
    "df_rip_threshold = pd.DataFrame(data=rip_data, columns=[\"threshold\", \"p\", \"p'\", \"n/p ratio\", \"ratio'\", \"upper limit for train/val accuracy\", \"accuracy'\"])"
   ]
  },
  {
   "cell_type": "code",
   "execution_count": 16,
   "metadata": {},
   "outputs": [
    {
     "output_type": "execute_result",
     "data": {
      "text/plain": [
       "    threshold      p     p'    n/p ratio      ratio'  \\\n",
       "0           0  32600      0   190.010491  190.010491   \n",
       "1           1   9271  23329   668.141732  478.131241   \n",
       "2           2   5523   3748  1121.553866  453.412133   \n",
       "3           3   4095   1428  1512.659829  391.105963   \n",
       "4           4   3249    846  1906.538012  393.878183   \n",
       "5           5   2701    548  2293.351351  386.813340   \n",
       "6           6   2317    384  2673.432024  380.080673   \n",
       "7           7   2065    252  2999.681356  326.249332   \n",
       "8           8   1840    225  3366.490217  366.808861   \n",
       "9           9   1684    156  3678.350356  311.860139   \n",
       "10         10   1569    115  3947.955386  269.605029   \n",
       "11         11   1479     90  4188.196078  240.240693   \n",
       "12         12   1395     84  4440.388530  252.192452   \n",
       "13         13   1323     72  4682.042328  241.653798   \n",
       "14         14   1270     53  4877.434646  195.392318   \n",
       "15         15   1221     49  5073.171171  195.736526   \n",
       "16         16   1174     47  5276.270869  203.099698   \n",
       "17         17   1146     28  5405.184991  128.914122   \n",
       "18         18   1113     33  5565.446541  160.261550   \n",
       "19         19   1082     31  5724.900185  159.453644   \n",
       "20         20   1062     20  5832.713748  107.813563   \n",
       "21         21   1046     16  5921.933078   89.219331   \n",
       "22         22   1027     19  6031.491723  109.558645   \n",
       "23         23   1007     20  6151.283019  119.791295   \n",
       "24         24    993     14  6238.008056   86.725038   \n",
       "25         25    975     18  6353.171282  115.163226   \n",
       "26         26    959     16  6459.167883  105.996601   \n",
       "27         27    939     20  6596.743344  137.575461   \n",
       "28         28    922     17  6718.375271  121.631927   \n",
       "29         29    912     10  6792.041667   73.666396   \n",
       "30         30    897     15  6905.620959  113.579292   \n",
       "31         31    885     12  6999.256497   93.635538   \n",
       "32         32    871     14  7111.758898  112.502401   \n",
       "33         33    861     10  7194.357724   82.598826   \n",
       "34         34    844     17  7339.267773  144.910049   \n",
       "35         35    835      9  7418.373653   79.105880   \n",
       "36         36    820     15  7554.075610  135.701957   \n",
       "37         37    813      7  7619.116851   65.041241   \n",
       "38         38    802     11  7723.618454  104.501603   \n",
       "39         39    786     16  7880.842239  157.223785   \n",
       "40         40    772     14  8023.759067  142.916828   \n",
       "41         41    766      6  8086.608355   62.849288   \n",
       "42         42    753     13  8226.217795  139.609440   \n",
       "43         43    742     11  8348.169811  121.952016   \n",
       "44         44    728     14  8508.711538  160.541727   \n",
       "45         45    717     11  8639.249651  130.538113   \n",
       "46         46    705     12  8786.300709  147.051058   \n",
       "47         47    692     13  8951.361272  165.060562   \n",
       "48         48    688      4  9003.404070   52.042798   \n",
       "49         49    679      9  9122.742268  119.338198   \n",
       "\n",
       "    upper limit for train/val accuracy  accuracy'  \n",
       "0                             0.000000   0.000000  \n",
       "1                             0.003766   0.003766  \n",
       "2                             0.004976   0.001210  \n",
       "3                             0.005668   0.000692  \n",
       "4                             0.006214   0.000546  \n",
       "5                             0.006657   0.000442  \n",
       "6                             0.007029   0.000372  \n",
       "7                             0.007313   0.000285  \n",
       "8                             0.007604   0.000291  \n",
       "9                             0.007831   0.000227  \n",
       "10                            0.008016   0.000186  \n",
       "11                            0.008176   0.000160  \n",
       "12                            0.008339   0.000163  \n",
       "13                            0.008490   0.000151  \n",
       "14                            0.008610   0.000120  \n",
       "15                            0.008728   0.000119  \n",
       "16                            0.008850   0.000121  \n",
       "17                            0.008927   0.000077  \n",
       "18                            0.009023   0.000096  \n",
       "19                            0.009118   0.000095  \n",
       "20                            0.009182   0.000065  \n",
       "21                            0.009236   0.000054  \n",
       "22                            0.009304   0.000067  \n",
       "23                            0.009378   0.000074  \n",
       "24                            0.009432   0.000054  \n",
       "25                            0.009505   0.000073  \n",
       "26                            0.009572   0.000067  \n",
       "27                            0.009659   0.000087  \n",
       "28                            0.009736   0.000077  \n",
       "29                            0.009783   0.000047  \n",
       "30                            0.009856   0.000073  \n",
       "31                            0.009916   0.000060  \n",
       "32                            0.009988   0.000072  \n",
       "33                            0.010041   0.000053  \n",
       "34                            0.010135   0.000093  \n",
       "35                            0.010186   0.000051  \n",
       "36                            0.010273   0.000087  \n",
       "37                            0.010315   0.000042  \n",
       "38                            0.010382   0.000067  \n",
       "39                            0.010483   0.000101  \n",
       "40                            0.010573   0.000090  \n",
       "41                            0.010613   0.000040  \n",
       "42                            0.010701   0.000088  \n",
       "43                            0.010777   0.000076  \n",
       "44                            0.010877   0.000099  \n",
       "45                            0.010957   0.000080  \n",
       "46                            0.011046   0.000089  \n",
       "47                            0.011145   0.000099  \n",
       "48                            0.011176   0.000031  \n",
       "49                            0.011247   0.000071  "
      ],
      "text/html": "<div>\n<style scoped>\n    .dataframe tbody tr th:only-of-type {\n        vertical-align: middle;\n    }\n\n    .dataframe tbody tr th {\n        vertical-align: top;\n    }\n\n    .dataframe thead th {\n        text-align: right;\n    }\n</style>\n<table border=\"1\" class=\"dataframe\">\n  <thead>\n    <tr style=\"text-align: right;\">\n      <th></th>\n      <th>threshold</th>\n      <th>p</th>\n      <th>p'</th>\n      <th>n/p ratio</th>\n      <th>ratio'</th>\n      <th>upper limit for train/val accuracy</th>\n      <th>accuracy'</th>\n    </tr>\n  </thead>\n  <tbody>\n    <tr>\n      <th>0</th>\n      <td>0</td>\n      <td>32600</td>\n      <td>0</td>\n      <td>190.010491</td>\n      <td>190.010491</td>\n      <td>0.000000</td>\n      <td>0.000000</td>\n    </tr>\n    <tr>\n      <th>1</th>\n      <td>1</td>\n      <td>9271</td>\n      <td>23329</td>\n      <td>668.141732</td>\n      <td>478.131241</td>\n      <td>0.003766</td>\n      <td>0.003766</td>\n    </tr>\n    <tr>\n      <th>2</th>\n      <td>2</td>\n      <td>5523</td>\n      <td>3748</td>\n      <td>1121.553866</td>\n      <td>453.412133</td>\n      <td>0.004976</td>\n      <td>0.001210</td>\n    </tr>\n    <tr>\n      <th>3</th>\n      <td>3</td>\n      <td>4095</td>\n      <td>1428</td>\n      <td>1512.659829</td>\n      <td>391.105963</td>\n      <td>0.005668</td>\n      <td>0.000692</td>\n    </tr>\n    <tr>\n      <th>4</th>\n      <td>4</td>\n      <td>3249</td>\n      <td>846</td>\n      <td>1906.538012</td>\n      <td>393.878183</td>\n      <td>0.006214</td>\n      <td>0.000546</td>\n    </tr>\n    <tr>\n      <th>5</th>\n      <td>5</td>\n      <td>2701</td>\n      <td>548</td>\n      <td>2293.351351</td>\n      <td>386.813340</td>\n      <td>0.006657</td>\n      <td>0.000442</td>\n    </tr>\n    <tr>\n      <th>6</th>\n      <td>6</td>\n      <td>2317</td>\n      <td>384</td>\n      <td>2673.432024</td>\n      <td>380.080673</td>\n      <td>0.007029</td>\n      <td>0.000372</td>\n    </tr>\n    <tr>\n      <th>7</th>\n      <td>7</td>\n      <td>2065</td>\n      <td>252</td>\n      <td>2999.681356</td>\n      <td>326.249332</td>\n      <td>0.007313</td>\n      <td>0.000285</td>\n    </tr>\n    <tr>\n      <th>8</th>\n      <td>8</td>\n      <td>1840</td>\n      <td>225</td>\n      <td>3366.490217</td>\n      <td>366.808861</td>\n      <td>0.007604</td>\n      <td>0.000291</td>\n    </tr>\n    <tr>\n      <th>9</th>\n      <td>9</td>\n      <td>1684</td>\n      <td>156</td>\n      <td>3678.350356</td>\n      <td>311.860139</td>\n      <td>0.007831</td>\n      <td>0.000227</td>\n    </tr>\n    <tr>\n      <th>10</th>\n      <td>10</td>\n      <td>1569</td>\n      <td>115</td>\n      <td>3947.955386</td>\n      <td>269.605029</td>\n      <td>0.008016</td>\n      <td>0.000186</td>\n    </tr>\n    <tr>\n      <th>11</th>\n      <td>11</td>\n      <td>1479</td>\n      <td>90</td>\n      <td>4188.196078</td>\n      <td>240.240693</td>\n      <td>0.008176</td>\n      <td>0.000160</td>\n    </tr>\n    <tr>\n      <th>12</th>\n      <td>12</td>\n      <td>1395</td>\n      <td>84</td>\n      <td>4440.388530</td>\n      <td>252.192452</td>\n      <td>0.008339</td>\n      <td>0.000163</td>\n    </tr>\n    <tr>\n      <th>13</th>\n      <td>13</td>\n      <td>1323</td>\n      <td>72</td>\n      <td>4682.042328</td>\n      <td>241.653798</td>\n      <td>0.008490</td>\n      <td>0.000151</td>\n    </tr>\n    <tr>\n      <th>14</th>\n      <td>14</td>\n      <td>1270</td>\n      <td>53</td>\n      <td>4877.434646</td>\n      <td>195.392318</td>\n      <td>0.008610</td>\n      <td>0.000120</td>\n    </tr>\n    <tr>\n      <th>15</th>\n      <td>15</td>\n      <td>1221</td>\n      <td>49</td>\n      <td>5073.171171</td>\n      <td>195.736526</td>\n      <td>0.008728</td>\n      <td>0.000119</td>\n    </tr>\n    <tr>\n      <th>16</th>\n      <td>16</td>\n      <td>1174</td>\n      <td>47</td>\n      <td>5276.270869</td>\n      <td>203.099698</td>\n      <td>0.008850</td>\n      <td>0.000121</td>\n    </tr>\n    <tr>\n      <th>17</th>\n      <td>17</td>\n      <td>1146</td>\n      <td>28</td>\n      <td>5405.184991</td>\n      <td>128.914122</td>\n      <td>0.008927</td>\n      <td>0.000077</td>\n    </tr>\n    <tr>\n      <th>18</th>\n      <td>18</td>\n      <td>1113</td>\n      <td>33</td>\n      <td>5565.446541</td>\n      <td>160.261550</td>\n      <td>0.009023</td>\n      <td>0.000096</td>\n    </tr>\n    <tr>\n      <th>19</th>\n      <td>19</td>\n      <td>1082</td>\n      <td>31</td>\n      <td>5724.900185</td>\n      <td>159.453644</td>\n      <td>0.009118</td>\n      <td>0.000095</td>\n    </tr>\n    <tr>\n      <th>20</th>\n      <td>20</td>\n      <td>1062</td>\n      <td>20</td>\n      <td>5832.713748</td>\n      <td>107.813563</td>\n      <td>0.009182</td>\n      <td>0.000065</td>\n    </tr>\n    <tr>\n      <th>21</th>\n      <td>21</td>\n      <td>1046</td>\n      <td>16</td>\n      <td>5921.933078</td>\n      <td>89.219331</td>\n      <td>0.009236</td>\n      <td>0.000054</td>\n    </tr>\n    <tr>\n      <th>22</th>\n      <td>22</td>\n      <td>1027</td>\n      <td>19</td>\n      <td>6031.491723</td>\n      <td>109.558645</td>\n      <td>0.009304</td>\n      <td>0.000067</td>\n    </tr>\n    <tr>\n      <th>23</th>\n      <td>23</td>\n      <td>1007</td>\n      <td>20</td>\n      <td>6151.283019</td>\n      <td>119.791295</td>\n      <td>0.009378</td>\n      <td>0.000074</td>\n    </tr>\n    <tr>\n      <th>24</th>\n      <td>24</td>\n      <td>993</td>\n      <td>14</td>\n      <td>6238.008056</td>\n      <td>86.725038</td>\n      <td>0.009432</td>\n      <td>0.000054</td>\n    </tr>\n    <tr>\n      <th>25</th>\n      <td>25</td>\n      <td>975</td>\n      <td>18</td>\n      <td>6353.171282</td>\n      <td>115.163226</td>\n      <td>0.009505</td>\n      <td>0.000073</td>\n    </tr>\n    <tr>\n      <th>26</th>\n      <td>26</td>\n      <td>959</td>\n      <td>16</td>\n      <td>6459.167883</td>\n      <td>105.996601</td>\n      <td>0.009572</td>\n      <td>0.000067</td>\n    </tr>\n    <tr>\n      <th>27</th>\n      <td>27</td>\n      <td>939</td>\n      <td>20</td>\n      <td>6596.743344</td>\n      <td>137.575461</td>\n      <td>0.009659</td>\n      <td>0.000087</td>\n    </tr>\n    <tr>\n      <th>28</th>\n      <td>28</td>\n      <td>922</td>\n      <td>17</td>\n      <td>6718.375271</td>\n      <td>121.631927</td>\n      <td>0.009736</td>\n      <td>0.000077</td>\n    </tr>\n    <tr>\n      <th>29</th>\n      <td>29</td>\n      <td>912</td>\n      <td>10</td>\n      <td>6792.041667</td>\n      <td>73.666396</td>\n      <td>0.009783</td>\n      <td>0.000047</td>\n    </tr>\n    <tr>\n      <th>30</th>\n      <td>30</td>\n      <td>897</td>\n      <td>15</td>\n      <td>6905.620959</td>\n      <td>113.579292</td>\n      <td>0.009856</td>\n      <td>0.000073</td>\n    </tr>\n    <tr>\n      <th>31</th>\n      <td>31</td>\n      <td>885</td>\n      <td>12</td>\n      <td>6999.256497</td>\n      <td>93.635538</td>\n      <td>0.009916</td>\n      <td>0.000060</td>\n    </tr>\n    <tr>\n      <th>32</th>\n      <td>32</td>\n      <td>871</td>\n      <td>14</td>\n      <td>7111.758898</td>\n      <td>112.502401</td>\n      <td>0.009988</td>\n      <td>0.000072</td>\n    </tr>\n    <tr>\n      <th>33</th>\n      <td>33</td>\n      <td>861</td>\n      <td>10</td>\n      <td>7194.357724</td>\n      <td>82.598826</td>\n      <td>0.010041</td>\n      <td>0.000053</td>\n    </tr>\n    <tr>\n      <th>34</th>\n      <td>34</td>\n      <td>844</td>\n      <td>17</td>\n      <td>7339.267773</td>\n      <td>144.910049</td>\n      <td>0.010135</td>\n      <td>0.000093</td>\n    </tr>\n    <tr>\n      <th>35</th>\n      <td>35</td>\n      <td>835</td>\n      <td>9</td>\n      <td>7418.373653</td>\n      <td>79.105880</td>\n      <td>0.010186</td>\n      <td>0.000051</td>\n    </tr>\n    <tr>\n      <th>36</th>\n      <td>36</td>\n      <td>820</td>\n      <td>15</td>\n      <td>7554.075610</td>\n      <td>135.701957</td>\n      <td>0.010273</td>\n      <td>0.000087</td>\n    </tr>\n    <tr>\n      <th>37</th>\n      <td>37</td>\n      <td>813</td>\n      <td>7</td>\n      <td>7619.116851</td>\n      <td>65.041241</td>\n      <td>0.010315</td>\n      <td>0.000042</td>\n    </tr>\n    <tr>\n      <th>38</th>\n      <td>38</td>\n      <td>802</td>\n      <td>11</td>\n      <td>7723.618454</td>\n      <td>104.501603</td>\n      <td>0.010382</td>\n      <td>0.000067</td>\n    </tr>\n    <tr>\n      <th>39</th>\n      <td>39</td>\n      <td>786</td>\n      <td>16</td>\n      <td>7880.842239</td>\n      <td>157.223785</td>\n      <td>0.010483</td>\n      <td>0.000101</td>\n    </tr>\n    <tr>\n      <th>40</th>\n      <td>40</td>\n      <td>772</td>\n      <td>14</td>\n      <td>8023.759067</td>\n      <td>142.916828</td>\n      <td>0.010573</td>\n      <td>0.000090</td>\n    </tr>\n    <tr>\n      <th>41</th>\n      <td>41</td>\n      <td>766</td>\n      <td>6</td>\n      <td>8086.608355</td>\n      <td>62.849288</td>\n      <td>0.010613</td>\n      <td>0.000040</td>\n    </tr>\n    <tr>\n      <th>42</th>\n      <td>42</td>\n      <td>753</td>\n      <td>13</td>\n      <td>8226.217795</td>\n      <td>139.609440</td>\n      <td>0.010701</td>\n      <td>0.000088</td>\n    </tr>\n    <tr>\n      <th>43</th>\n      <td>43</td>\n      <td>742</td>\n      <td>11</td>\n      <td>8348.169811</td>\n      <td>121.952016</td>\n      <td>0.010777</td>\n      <td>0.000076</td>\n    </tr>\n    <tr>\n      <th>44</th>\n      <td>44</td>\n      <td>728</td>\n      <td>14</td>\n      <td>8508.711538</td>\n      <td>160.541727</td>\n      <td>0.010877</td>\n      <td>0.000099</td>\n    </tr>\n    <tr>\n      <th>45</th>\n      <td>45</td>\n      <td>717</td>\n      <td>11</td>\n      <td>8639.249651</td>\n      <td>130.538113</td>\n      <td>0.010957</td>\n      <td>0.000080</td>\n    </tr>\n    <tr>\n      <th>46</th>\n      <td>46</td>\n      <td>705</td>\n      <td>12</td>\n      <td>8786.300709</td>\n      <td>147.051058</td>\n      <td>0.011046</td>\n      <td>0.000089</td>\n    </tr>\n    <tr>\n      <th>47</th>\n      <td>47</td>\n      <td>692</td>\n      <td>13</td>\n      <td>8951.361272</td>\n      <td>165.060562</td>\n      <td>0.011145</td>\n      <td>0.000099</td>\n    </tr>\n    <tr>\n      <th>48</th>\n      <td>48</td>\n      <td>688</td>\n      <td>4</td>\n      <td>9003.404070</td>\n      <td>52.042798</td>\n      <td>0.011176</td>\n      <td>0.000031</td>\n    </tr>\n    <tr>\n      <th>49</th>\n      <td>49</td>\n      <td>679</td>\n      <td>9</td>\n      <td>9122.742268</td>\n      <td>119.338198</td>\n      <td>0.011247</td>\n      <td>0.000071</td>\n    </tr>\n  </tbody>\n</table>\n</div>"
     },
     "metadata": {},
     "execution_count": 16
    }
   ],
   "source": [
    "df_rip_threshold"
   ]
  },
  {
   "source": [
    "## Save Analysis "
   ],
   "cell_type": "markdown",
   "metadata": {}
  },
  {
   "cell_type": "code",
   "execution_count": 17,
   "metadata": {},
   "outputs": [],
   "source": [
    "df_gpa_threshold.to_csv(\"analysis/{}_gpa_analysis.csv\".format(model_name), index=False)\n",
    "df_rip_threshold.to_csv(\"analysis/{}_rip_analysis.csv\".format(model_name), index=False)"
   ]
  },
  {
   "cell_type": "code",
   "execution_count": null,
   "metadata": {},
   "outputs": [],
   "source": []
  }
 ]
}