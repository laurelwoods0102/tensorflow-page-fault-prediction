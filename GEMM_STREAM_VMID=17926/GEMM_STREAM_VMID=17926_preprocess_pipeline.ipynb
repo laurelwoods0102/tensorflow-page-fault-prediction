{
 "metadata": {
  "language_info": {
   "codemirror_mode": {
    "name": "ipython",
    "version": 3
   },
   "file_extension": ".py",
   "mimetype": "text/x-python",
   "name": "python",
   "nbconvert_exporter": "python",
   "pygments_lexer": "ipython3",
   "version": "3.7.6"
  },
  "orig_nbformat": 2,
  "kernelspec": {
   "name": "python376jvsc74a57bd0b3ba2566441a7c06988d0923437866b63cedc61552a5af99d1f4fb67d367b25f",
   "display_name": "Python 3.7.6 64-bit (conda)"
  }
 },
 "nbformat": 4,
 "nbformat_minor": 2,
 "cells": [
  {
   "cell_type": "code",
   "execution_count": 1,
   "metadata": {},
   "outputs": [],
   "source": [
    "import numpy as np\n",
    "import pandas as pd\n",
    "import json\n",
    "import dill         # 0.3.2\n",
    "from sklearn.base import BaseEstimator, TransformerMixin\n",
    "from sklearn.pipeline import Pipeline\n",
    "from sklearn.model_selection import train_test_split"
   ]
  },
  {
   "cell_type": "markdown",
   "metadata": {},
   "source": [
    "## Set Global/Environment Variables"
   ]
  },
  {
   "cell_type": "code",
   "execution_count": 2,
   "metadata": {},
   "outputs": [],
   "source": [
    "model_name = \"GEMM_STREAM_VMID=17926\""
   ]
  },
  {
   "source": [
    "## Set Thresholds"
   ],
   "cell_type": "markdown",
   "metadata": {}
  },
  {
   "cell_type": "code",
   "execution_count": 3,
   "metadata": {},
   "outputs": [],
   "source": [
    "gpa_threshold = 40\n",
    "rip_threshold = 3"
   ]
  },
  {
   "cell_type": "markdown",
   "metadata": {},
   "source": [
    "## Load Dataset/Static Param List"
   ]
  },
  {
   "cell_type": "code",
   "execution_count": 4,
   "metadata": {},
   "outputs": [
    {
     "output_type": "execute_result",
     "data": {
      "text/plain": [
       "                   extra             time address_type          gpa  \\\n",
       "2149    [861368.920026]   05:46:36:062305          GPA  17569096718   \n",
       "2150    [861368.920040]   05:46:36:062325          GPA  22541336944   \n",
       "2151    [861368.920062]   05:46:36:062348          GPA  17569096718   \n",
       "2152    [861368.920068]   05:46:36:062354          GPA  22541336948   \n",
       "2153    [861368.920086]   05:46:36:062372          GPA  17569096718   \n",
       "...                  ...              ...          ...          ...   \n",
       "407242  [957446.819051]   08:27:53:959834           PF  20453990400   \n",
       "407243  [957446.865342]   08:27:54:006124           PF  20453994496   \n",
       "407244  [957446.865354]   08:27:54:006138           PF  20453998592   \n",
       "407245  [957446.865359]   08:27:54:006143           PF  20454002688   \n",
       "407246  [957446.865362]   08:27:54:006146           PF  20454006784   \n",
       "\n",
       "                         rip   vmid  \n",
       "2149    18446744072500749326  17926  \n",
       "2150    18446744072500749326  17926  \n",
       "2151    18446744072500749326  17926  \n",
       "2152    18446744072500749326  17926  \n",
       "2153    18446744072500749326  17926  \n",
       "...                      ...    ...  \n",
       "407242  18446744072506569815  17926  \n",
       "407243  18446744072506569815  17926  \n",
       "407244  18446744072506569815  17926  \n",
       "407245  18446744072506569815  17926  \n",
       "407246  18446744072506569815  17926  \n",
       "\n",
       "[7287463 rows x 6 columns]"
      ],
      "text/html": "<div>\n<style scoped>\n    .dataframe tbody tr th:only-of-type {\n        vertical-align: middle;\n    }\n\n    .dataframe tbody tr th {\n        vertical-align: top;\n    }\n\n    .dataframe thead th {\n        text-align: right;\n    }\n</style>\n<table border=\"1\" class=\"dataframe\">\n  <thead>\n    <tr style=\"text-align: right;\">\n      <th></th>\n      <th>extra</th>\n      <th>time</th>\n      <th>address_type</th>\n      <th>gpa</th>\n      <th>rip</th>\n      <th>vmid</th>\n    </tr>\n  </thead>\n  <tbody>\n    <tr>\n      <th>2149</th>\n      <td>[861368.920026]</td>\n      <td>05:46:36:062305</td>\n      <td>GPA</td>\n      <td>17569096718</td>\n      <td>18446744072500749326</td>\n      <td>17926</td>\n    </tr>\n    <tr>\n      <th>2150</th>\n      <td>[861368.920040]</td>\n      <td>05:46:36:062325</td>\n      <td>GPA</td>\n      <td>22541336944</td>\n      <td>18446744072500749326</td>\n      <td>17926</td>\n    </tr>\n    <tr>\n      <th>2151</th>\n      <td>[861368.920062]</td>\n      <td>05:46:36:062348</td>\n      <td>GPA</td>\n      <td>17569096718</td>\n      <td>18446744072500749326</td>\n      <td>17926</td>\n    </tr>\n    <tr>\n      <th>2152</th>\n      <td>[861368.920068]</td>\n      <td>05:46:36:062354</td>\n      <td>GPA</td>\n      <td>22541336948</td>\n      <td>18446744072500749326</td>\n      <td>17926</td>\n    </tr>\n    <tr>\n      <th>2153</th>\n      <td>[861368.920086]</td>\n      <td>05:46:36:062372</td>\n      <td>GPA</td>\n      <td>17569096718</td>\n      <td>18446744072500749326</td>\n      <td>17926</td>\n    </tr>\n    <tr>\n      <th>...</th>\n      <td>...</td>\n      <td>...</td>\n      <td>...</td>\n      <td>...</td>\n      <td>...</td>\n      <td>...</td>\n    </tr>\n    <tr>\n      <th>407242</th>\n      <td>[957446.819051]</td>\n      <td>08:27:53:959834</td>\n      <td>PF</td>\n      <td>20453990400</td>\n      <td>18446744072506569815</td>\n      <td>17926</td>\n    </tr>\n    <tr>\n      <th>407243</th>\n      <td>[957446.865342]</td>\n      <td>08:27:54:006124</td>\n      <td>PF</td>\n      <td>20453994496</td>\n      <td>18446744072506569815</td>\n      <td>17926</td>\n    </tr>\n    <tr>\n      <th>407244</th>\n      <td>[957446.865354]</td>\n      <td>08:27:54:006138</td>\n      <td>PF</td>\n      <td>20453998592</td>\n      <td>18446744072506569815</td>\n      <td>17926</td>\n    </tr>\n    <tr>\n      <th>407245</th>\n      <td>[957446.865359]</td>\n      <td>08:27:54:006143</td>\n      <td>PF</td>\n      <td>20454002688</td>\n      <td>18446744072506569815</td>\n      <td>17926</td>\n    </tr>\n    <tr>\n      <th>407246</th>\n      <td>[957446.865362]</td>\n      <td>08:27:54:006146</td>\n      <td>PF</td>\n      <td>20454006784</td>\n      <td>18446744072506569815</td>\n      <td>17926</td>\n    </tr>\n  </tbody>\n</table>\n<p>7287463 rows × 6 columns</p>\n</div>"
     },
     "metadata": {},
     "execution_count": 4
    }
   ],
   "source": [
    "original_dataset = pd.concat([pd.read_csv(\"../로그 데이터/GEMM_STREAM/GEMM_STREAM/gemm_stream_generic_generic2_{}.csv\".format(i), dtype=np.object) for i in range(1, 10)], axis=0)\n",
    "original_dataset = original_dataset[original_dataset[\"vmid\"] == '17926']\n",
    "original_dataset"
   ]
  },
  {
   "cell_type": "code",
   "execution_count": 5,
   "metadata": {},
   "outputs": [
    {
     "output_type": "execute_result",
     "data": {
      "text/plain": [
       "                gpa                   rip\n",
       "2149    17569096718  18446744072500749326\n",
       "2150    22541336944  18446744072500749326\n",
       "2151    17569096718  18446744072500749326\n",
       "2152    22541336948  18446744072500749326\n",
       "2153    17569096718  18446744072500749326\n",
       "...             ...                   ...\n",
       "407242  20453990400  18446744072506569815\n",
       "407243  20453994496  18446744072506569815\n",
       "407244  20453998592  18446744072506569815\n",
       "407245  20454002688  18446744072506569815\n",
       "407246  20454006784  18446744072506569815\n",
       "\n",
       "[7287463 rows x 2 columns]"
      ],
      "text/html": "<div>\n<style scoped>\n    .dataframe tbody tr th:only-of-type {\n        vertical-align: middle;\n    }\n\n    .dataframe tbody tr th {\n        vertical-align: top;\n    }\n\n    .dataframe thead th {\n        text-align: right;\n    }\n</style>\n<table border=\"1\" class=\"dataframe\">\n  <thead>\n    <tr style=\"text-align: right;\">\n      <th></th>\n      <th>gpa</th>\n      <th>rip</th>\n    </tr>\n  </thead>\n  <tbody>\n    <tr>\n      <th>2149</th>\n      <td>17569096718</td>\n      <td>18446744072500749326</td>\n    </tr>\n    <tr>\n      <th>2150</th>\n      <td>22541336944</td>\n      <td>18446744072500749326</td>\n    </tr>\n    <tr>\n      <th>2151</th>\n      <td>17569096718</td>\n      <td>18446744072500749326</td>\n    </tr>\n    <tr>\n      <th>2152</th>\n      <td>22541336948</td>\n      <td>18446744072500749326</td>\n    </tr>\n    <tr>\n      <th>2153</th>\n      <td>17569096718</td>\n      <td>18446744072500749326</td>\n    </tr>\n    <tr>\n      <th>...</th>\n      <td>...</td>\n      <td>...</td>\n    </tr>\n    <tr>\n      <th>407242</th>\n      <td>20453990400</td>\n      <td>18446744072506569815</td>\n    </tr>\n    <tr>\n      <th>407243</th>\n      <td>20453994496</td>\n      <td>18446744072506569815</td>\n    </tr>\n    <tr>\n      <th>407244</th>\n      <td>20453998592</td>\n      <td>18446744072506569815</td>\n    </tr>\n    <tr>\n      <th>407245</th>\n      <td>20454002688</td>\n      <td>18446744072506569815</td>\n    </tr>\n    <tr>\n      <th>407246</th>\n      <td>20454006784</td>\n      <td>18446744072506569815</td>\n    </tr>\n  </tbody>\n</table>\n<p>7287463 rows × 2 columns</p>\n</div>"
     },
     "metadata": {},
     "execution_count": 5
    }
   ],
   "source": [
    "original_dataset = original_dataset[[\"gpa\", \"rip\"]].dropna()       # rip for PCs\n",
    "original_dataset"
   ]
  },
  {
   "cell_type": "markdown",
   "metadata": {},
   "source": [
    "## Dataset Processing Functions"
   ]
  },
  {
   "cell_type": "code",
   "execution_count": 6,
   "metadata": {},
   "outputs": [],
   "source": [
    "class CalculateDelta(TransformerMixin):\n",
    "    def __init__(self):\n",
    "        pass\n",
    "\n",
    "    def fit(self, X, y=None):\n",
    "        return self\n",
    "        \n",
    "    def transform(self, X, y=None):\n",
    "        X_transformed = X[:-1] - X[1:]\n",
    "        # In case of unsigned types, change its type to string type\n",
    "        if X_transformed.dtype in [np.uint8, np.uint16, np.uint32, np.uint64]:\n",
    "            X_transformed = X_transformed.astype(np.string_)\n",
    "        return X_transformed\n",
    "\n",
    "    def inverse_transform(self, X, y=None):     # Just for test_pipeline.inverse_transform()\n",
    "        return X"
   ]
  },
  {
   "cell_type": "code",
   "execution_count": 7,
   "metadata": {},
   "outputs": [],
   "source": [
    "class NoiseTokenizer(TransformerMixin):\n",
    "    def __init__(self, minimum_category_occurence=2, oov_token=-1):        \n",
    "        self.minimum_category_occurence = minimum_category_occurence\n",
    "        self.oov_token = oov_token\n",
    "    \n",
    "    def fit(self, X, y=None):\n",
    "        if X.dtype == np.string_:\n",
    "            self.oov_token = str(self.oov_token)\n",
    "\n",
    "        mask = (pd.Series(X).value_counts() <= self.minimum_category_occurence)\n",
    "        noise_index = np.where(np.isin(X, mask.index[mask == True]))[0]\n",
    "    \n",
    "        X[noise_index] = self.oov_token\n",
    "        return self\n",
    "    \n",
    "    def transform(self, X, y=None):\n",
    "        return X\n",
    "\n",
    "    def inverse_transform(self, X, y=None):\n",
    "        return X"
   ]
  },
  {
   "cell_type": "code",
   "execution_count": 8,
   "metadata": {},
   "outputs": [],
   "source": [
    "class SparseCategoryEncoder(BaseEstimator, TransformerMixin):\n",
    "    def __init__(self, oov_token=-1):\n",
    "        self.oov_token = oov_token\n",
    "\n",
    "    def fit(self, X, y=None):\n",
    "        X_counts = pd.Series(X).value_counts()\n",
    "        self.vocab_size = len(X_counts)\n",
    "        self.word_index = X_counts.index\n",
    "        \n",
    "        if X.dtype in [np.dtype(\"S\" + str(i)) for i in range(24)]:  # X.dtype == |S{0~24}\n",
    "            # As np.string_ type is byte type, not str(), need to be decoded.\n",
    "            self.vocabulary = {X_counts.index[i].decode():i for i in range(self.vocab_size)}\n",
    "        else:\n",
    "            self.vocabulary = {X_counts.index[i]:i for i in range(self.vocab_size)}\n",
    "        return self\n",
    "    \n",
    "    def transform(self, X, y=None):\n",
    "        X_transformed = []\n",
    "        if X.dtype in [np.dtype(\"S\" + str(i)) for i in range(24)]:\n",
    "            self.oov_token = str(self.oov_token)\n",
    "            for i in range(len(X)):\n",
    "                if X[i] in self.word_index:\n",
    "                    X_transformed.append(self.vocabulary[X[i].decode()])\n",
    "                else:\n",
    "                    X_transformed.append(self.vocabulary[self.oov_token])\n",
    "        else:\n",
    "            for i in range(len(X)):\n",
    "                if X[i] in self.word_index:\n",
    "                    X_transformed.append(self.vocabulary[X[i]])\n",
    "                else:\n",
    "                    X_transformed.append(self.vocabulary[self.oov_token])\n",
    "\n",
    "        return np.array(X_transformed)\n",
    "\n",
    "    def inverse_transform(self, X, y=None):\n",
    "        return np.array([self.word_index[X[i]] for i in range(len(X))])"
   ]
  },
  {
   "cell_type": "markdown",
   "metadata": {},
   "source": [
    "## Process Train/Validation Dataset"
   ]
  },
  {
   "cell_type": "code",
   "execution_count": 9,
   "metadata": {},
   "outputs": [],
   "source": [
    "# Train / Val / Test Ratio : 70% / 15% / 15%\n",
    "train_val_set, test_set = train_test_split(original_dataset, test_size=0.15, shuffle=False)\n",
    "#train_set, val_set = train_test_split(train_val_set, test_size=0.2, shuffle=False)"
   ]
  },
  {
   "cell_type": "code",
   "execution_count": 10,
   "metadata": {},
   "outputs": [],
   "source": [
    "train_val_gpa = train_val_set[\"gpa\"].values.astype(np.int64)\n",
    "train_val_rip = train_val_set[\"rip\"].values.astype(np.uint64)      # As uint64 not exists in pandas\n",
    "\n",
    "test_gpa = test_set[\"gpa\"].values.astype(np.int64)\n",
    "test_rip = test_set[\"rip\"].values.astype(np.uint64)      # As uint64 not exists in pandas"
   ]
  },
  {
   "cell_type": "code",
   "execution_count": 11,
   "metadata": {},
   "outputs": [],
   "source": [
    "gpa_train_pipeline = Pipeline([\n",
    "    ('calculate_delta', CalculateDelta()),\n",
    "    ('noise_tokenizer', NoiseTokenizer(minimum_category_occurence=gpa_threshold)),\n",
    "    ('sparse_category_encoder', SparseCategoryEncoder())\n",
    "])\n",
    "\n",
    "rip_train_pipeline = Pipeline([\n",
    "    ('calculate_delta', CalculateDelta()),\n",
    "    ('noise_tokenizer', NoiseTokenizer(minimum_category_occurence=rip_threshold)),\n",
    "    ('sparse_category_encoder', SparseCategoryEncoder())\n",
    "])"
   ]
  },
  {
   "source": [
    "processed_train_val_gpa = gpa_train_pipeline.fit_transform(train_val_gpa.copy())\n",
    "processed_train_val_gpa"
   ],
   "cell_type": "code",
   "metadata": {},
   "execution_count": 12,
   "outputs": [
    {
     "output_type": "execute_result",
     "data": {
      "text/plain": [
       "array([19, 18, 16, ...,  2,  2,  2])"
      ]
     },
     "metadata": {},
     "execution_count": 12
    }
   ]
  },
  {
   "cell_type": "code",
   "execution_count": 13,
   "metadata": {
    "tags": []
   },
   "outputs": [
    {
     "output_type": "execute_result",
     "data": {
      "text/plain": [
       "array([0, 0, 0, ..., 0, 0, 0])"
      ]
     },
     "metadata": {},
     "execution_count": 13
    }
   ],
   "source": [
    "processed_train_val_rip = rip_train_pipeline.fit_transform(train_val_rip.copy())\n",
    "processed_train_val_rip"
   ]
  },
  {
   "cell_type": "code",
   "execution_count": 14,
   "metadata": {},
   "outputs": [
    {
     "output_type": "execute_result",
     "data": {
      "text/plain": [
       "(0       2166072\n",
       " 1       1355341\n",
       " 2        770606\n",
       " 3        175768\n",
       " 4         75392\n",
       "          ...   \n",
       " 3613         41\n",
       " 3610         41\n",
       " 3611         41\n",
       " 3608         41\n",
       " 3668         41\n",
       " Length: 3670, dtype: int64,\n",
       " 0       4209818\n",
       " 1        247275\n",
       " 2        134216\n",
       " 3        117557\n",
       " 4         90448\n",
       "          ...   \n",
       " 3533          4\n",
       " 3532          4\n",
       " 3535          4\n",
       " 3534          4\n",
       " 4094          4\n",
       " Length: 4095, dtype: int64)"
      ]
     },
     "metadata": {},
     "execution_count": 14
    }
   ],
   "source": [
    "pd.Series(processed_train_val_gpa).value_counts(), pd.Series(processed_train_val_rip).value_counts()"
   ]
  },
  {
   "cell_type": "code",
   "execution_count": 15,
   "metadata": {},
   "outputs": [
    {
     "output_type": "execute_result",
     "data": {
      "text/plain": [
       "(42    105\n",
       " 43     89\n",
       " 44     86\n",
       " 41     82\n",
       " 45     74\n",
       " 47     72\n",
       " 46     72\n",
       " 49     64\n",
       " 50     62\n",
       " 48     60\n",
       " dtype: int64,\n",
       " 4     846\n",
       " 5     548\n",
       " 6     384\n",
       " 7     252\n",
       " 8     225\n",
       " 9     156\n",
       " 10    115\n",
       " 11     90\n",
       " 12     84\n",
       " 13     72\n",
       " dtype: int64)"
      ]
     },
     "metadata": {},
     "execution_count": 15
    }
   ],
   "source": [
    "pd.Series(processed_train_val_gpa).value_counts().value_counts()[:10], pd.Series(processed_train_val_rip).value_counts().value_counts()[:10]"
   ]
  },
  {
   "cell_type": "code",
   "execution_count": 16,
   "metadata": {},
   "outputs": [],
   "source": [
    "processed_train_gpa, processed_val_gpa = train_test_split(processed_train_val_gpa, test_size=0.2, shuffle=False)\n",
    "processed_train_rip, processed_val_rip = train_test_split(processed_train_val_rip, test_size=0.2, shuffle=False)"
   ]
  },
  {
   "cell_type": "code",
   "execution_count": 17,
   "metadata": {},
   "outputs": [
    {
     "output_type": "execute_result",
     "data": {
      "text/plain": [
       "((4955473,), (1238869,), (4955473,), (1238869,))"
      ]
     },
     "metadata": {},
     "execution_count": 17
    }
   ],
   "source": [
    "processed_train_gpa.shape, processed_val_gpa.shape, processed_train_rip.shape, processed_val_rip.shape  # check "
   ]
  },
  {
   "cell_type": "code",
   "execution_count": 18,
   "metadata": {},
   "outputs": [],
   "source": [
    "train_gpa = train_val_gpa[:processed_train_gpa.shape[0]+1]\n",
    "val_gpa = train_val_gpa[processed_train_gpa.shape[0]:]\n",
    "\n",
    "train_rip = train_val_rip[:processed_train_rip.shape[0]+1]\n",
    "val_rip = train_val_rip[processed_train_rip.shape[0]:]"
   ]
  },
  {
   "cell_type": "code",
   "execution_count": 19,
   "metadata": {},
   "outputs": [
    {
     "output_type": "execute_result",
     "data": {
      "text/plain": [
       "((4955474,), (1238870,), (4955474,), (1238870,))"
      ]
     },
     "metadata": {},
     "execution_count": 19
    }
   ],
   "source": [
    "train_gpa.shape, val_gpa.shape, train_rip.shape, val_rip.shape"
   ]
  },
  {
   "source": [
    "## Process Test Dataset"
   ],
   "cell_type": "markdown",
   "metadata": {}
  },
  {
   "cell_type": "code",
   "execution_count": 20,
   "metadata": {},
   "outputs": [
    {
     "output_type": "execute_result",
     "data": {
      "text/plain": [
       "array([2, 2, 2, ..., 0, 0, 0])"
      ]
     },
     "metadata": {},
     "execution_count": 20
    }
   ],
   "source": [
    "processed_test_gpa = gpa_train_pipeline.transform(test_gpa)\n",
    "processed_test_gpa"
   ]
  },
  {
   "cell_type": "code",
   "execution_count": 21,
   "metadata": {},
   "outputs": [
    {
     "output_type": "execute_result",
     "data": {
      "text/plain": [
       "array([0, 0, 0, ..., 0, 0, 0])"
      ]
     },
     "metadata": {},
     "execution_count": 21
    }
   ],
   "source": [
    "processed_test_rip = rip_train_pipeline.transform(test_rip)\n",
    "processed_test_rip"
   ]
  },
  {
   "cell_type": "code",
   "execution_count": 22,
   "metadata": {},
   "outputs": [
    {
     "output_type": "execute_result",
     "data": {
      "text/plain": [
       "{'0': 0,\n",
       " '18446744073709551604': 1,\n",
       " '18446744073709551605': 2,\n",
       " '35': 3,\n",
       " '12': 4,\n",
       " '18446744073709551581': 5,\n",
       " '11': 6,\n",
       " '23': 7,\n",
       " '18446744073709551593': 8,\n",
       " '18446744073709551592': 9}"
      ]
     },
     "metadata": {},
     "execution_count": 22
    }
   ],
   "source": [
    "dict(list(rip_train_pipeline[\"sparse_category_encoder\"].vocabulary.items())[:10])"
   ]
  },
  {
   "source": [
    "## Concat GPA and RIP"
   ],
   "cell_type": "markdown",
   "metadata": {}
  },
  {
   "cell_type": "code",
   "execution_count": 23,
   "metadata": {},
   "outputs": [
    {
     "output_type": "execute_result",
     "data": {
      "text/plain": [
       "(array([[1.75690967e+10, 1.84467441e+19],\n",
       "        [2.25413369e+10, 1.84467441e+19],\n",
       "        [1.75690967e+10, 1.84467441e+19],\n",
       "        ...,\n",
       "        [1.20142848e+10, 1.84467441e+19],\n",
       "        [1.20142848e+10, 1.84467441e+19],\n",
       "        [1.20142889e+10, 1.84467441e+19]]),\n",
       " array([[1.20142889e+10, 1.84467441e+19],\n",
       "        [1.20142889e+10, 1.84467441e+19],\n",
       "        [1.20142930e+10, 1.84467441e+19],\n",
       "        ...,\n",
       "        [1.96416307e+09, 2.04718470e+07],\n",
       "        [1.96416307e+09, 2.04718470e+07],\n",
       "        [1.96416307e+09, 2.04718470e+07]]),\n",
       " array([[1.96416307e+09, 2.04718470e+07],\n",
       "        [1.96416307e+09, 2.04718470e+07],\n",
       "        [1.96416307e+09, 2.04718470e+07],\n",
       "        ...,\n",
       "        [2.04539986e+10, 1.84467441e+19],\n",
       "        [2.04540027e+10, 1.84467441e+19],\n",
       "        [2.04540068e+10, 1.84467441e+19]]))"
      ]
     },
     "metadata": {},
     "execution_count": 23
    }
   ],
   "source": [
    "train_set = np.c_[train_gpa, train_rip]\n",
    "val_set = np.c_[val_gpa, val_rip]\n",
    "test_set = np.c_[test_gpa, test_rip]\n",
    "\n",
    "processed_train_set = np.c_[processed_train_gpa, processed_train_rip]\n",
    "processed_val_set = np.c_[processed_val_gpa, processed_val_rip]\n",
    "processed_test_set = np.c_[processed_test_gpa, processed_test_rip]\n",
    "train_set, val_set, test_set"
   ]
  },
  {
   "cell_type": "code",
   "execution_count": 24,
   "metadata": {},
   "outputs": [
    {
     "output_type": "execute_result",
     "data": {
      "text/plain": [
       "                  gpa           rip\n",
       "0        1.756910e+10  1.844674e+19\n",
       "1        2.254134e+10  1.844674e+19\n",
       "2        1.756910e+10  1.844674e+19\n",
       "3        2.254134e+10  1.844674e+19\n",
       "4        1.756910e+10  1.844674e+19\n",
       "...               ...           ...\n",
       "4955469  1.201428e+10  1.844674e+19\n",
       "4955470  1.201428e+10  1.844674e+19\n",
       "4955471  1.201428e+10  1.844674e+19\n",
       "4955472  1.201428e+10  1.844674e+19\n",
       "4955473  1.201429e+10  1.844674e+19\n",
       "\n",
       "[4955474 rows x 2 columns]"
      ],
      "text/html": "<div>\n<style scoped>\n    .dataframe tbody tr th:only-of-type {\n        vertical-align: middle;\n    }\n\n    .dataframe tbody tr th {\n        vertical-align: top;\n    }\n\n    .dataframe thead th {\n        text-align: right;\n    }\n</style>\n<table border=\"1\" class=\"dataframe\">\n  <thead>\n    <tr style=\"text-align: right;\">\n      <th></th>\n      <th>gpa</th>\n      <th>rip</th>\n    </tr>\n  </thead>\n  <tbody>\n    <tr>\n      <th>0</th>\n      <td>1.756910e+10</td>\n      <td>1.844674e+19</td>\n    </tr>\n    <tr>\n      <th>1</th>\n      <td>2.254134e+10</td>\n      <td>1.844674e+19</td>\n    </tr>\n    <tr>\n      <th>2</th>\n      <td>1.756910e+10</td>\n      <td>1.844674e+19</td>\n    </tr>\n    <tr>\n      <th>3</th>\n      <td>2.254134e+10</td>\n      <td>1.844674e+19</td>\n    </tr>\n    <tr>\n      <th>4</th>\n      <td>1.756910e+10</td>\n      <td>1.844674e+19</td>\n    </tr>\n    <tr>\n      <th>...</th>\n      <td>...</td>\n      <td>...</td>\n    </tr>\n    <tr>\n      <th>4955469</th>\n      <td>1.201428e+10</td>\n      <td>1.844674e+19</td>\n    </tr>\n    <tr>\n      <th>4955470</th>\n      <td>1.201428e+10</td>\n      <td>1.844674e+19</td>\n    </tr>\n    <tr>\n      <th>4955471</th>\n      <td>1.201428e+10</td>\n      <td>1.844674e+19</td>\n    </tr>\n    <tr>\n      <th>4955472</th>\n      <td>1.201428e+10</td>\n      <td>1.844674e+19</td>\n    </tr>\n    <tr>\n      <th>4955473</th>\n      <td>1.201429e+10</td>\n      <td>1.844674e+19</td>\n    </tr>\n  </tbody>\n</table>\n<p>4955474 rows × 2 columns</p>\n</div>"
     },
     "metadata": {},
     "execution_count": 24
    }
   ],
   "source": [
    "train_set = pd.DataFrame(train_set, columns=[\"gpa\", \"rip\"], index=None)\n",
    "val_set = pd.DataFrame(val_set, columns=[\"gpa\", \"rip\"], index=None)\n",
    "test_set = pd.DataFrame(test_set, columns=[\"gpa\", \"rip\"], index=None)\n",
    "\n",
    "processed_train_set = pd.DataFrame(processed_train_set, columns=[\"gpa\", \"rip\"], index=None)\n",
    "processed_val_set = pd.DataFrame(processed_val_set, columns=[\"gpa\", \"rip\"], index=None)\n",
    "processed_test_set = pd.DataFrame(processed_test_set, columns=[\"gpa\", \"rip\"], index=None)\n",
    "train_set"
   ]
  },
  {
   "cell_type": "markdown",
   "metadata": {},
   "source": [
    "## Save Processed Datasets"
   ]
  },
  {
   "cell_type": "code",
   "execution_count": 25,
   "metadata": {},
   "outputs": [],
   "source": [
    "# Original \n",
    "train_set.to_csv(\"data/{}_train_set_original.csv\".format(model_name), index=None)\n",
    "val_set.to_csv(\"data/{}_val_set_original.csv\".format(model_name), index=None)\n",
    "test_set.to_csv(\"data/{}_test_set_original.csv\".format(model_name), index=None)\n",
    "\n",
    "# Processed \n",
    "processed_train_set.to_csv(\"data/{}_train_set.csv\".format(model_name), index=None)\n",
    "processed_val_set.to_csv(\"data/{}_val_set.csv\".format(model_name), index=None)\n",
    "processed_test_set.to_csv(\"data/{}_test_set.csv\".format(model_name), index=None)"
   ]
  },
  {
   "source": [
    "## Save Pipeline/Statics"
   ],
   "cell_type": "markdown",
   "metadata": {}
  },
  {
   "source": [
    "with open(\"static/pipeline_gpa.pkl\", 'wb') as f:\n",
    "    dill.dump(gpa_train_pipeline, f)\n",
    "\n",
    "with open(\"static/pipeline_rip.pkl\", 'wb') as f:\n",
    "    dill.dump(rip_train_pipeline, f)"
   ],
   "cell_type": "code",
   "metadata": {},
   "execution_count": 26,
   "outputs": []
  },
  {
   "source": [
    "np.savetxt(\"static/vocabulary_gpa.csv\", np.array(list(gpa_train_pipeline[\"sparse_category_encoder\"].vocabulary.keys())), fmt=\"%d\", delimiter=\"\\n\")\n",
    "\n",
    "np.savetxt(\"static/vocabulary_rip.csv\", np.array(list(rip_train_pipeline[\"sparse_category_encoder\"].vocabulary.keys())), fmt=\"%s\", delimiter=\"\\n\")"
   ],
   "cell_type": "code",
   "metadata": {},
   "execution_count": 27,
   "outputs": []
  },
  {
   "cell_type": "code",
   "execution_count": 28,
   "metadata": {},
   "outputs": [
    {
     "output_type": "execute_result",
     "data": {
      "text/plain": [
       "{-4096: 0,\n",
       " -1: 1,\n",
       " 0: 2,\n",
       " -1638400: 3,\n",
       " -1896448: 4,\n",
       " -8192: 5,\n",
       " -4060: 6,\n",
       " 6750208: 7,\n",
       " -864256: 8,\n",
       " -430892: 9,\n",
       " -16384: 10,\n",
       " -12288: 11,\n",
       " -172844: 12,\n",
       " 6492160: 13,\n",
       " -1380352: 14,\n",
       " -4972240234: 15,\n",
       " -4972240230: 16,\n",
       " 4972240230: 17,\n",
       " 4972240226: 18,\n",
       " -4972240226: 19}"
      ]
     },
     "metadata": {},
     "execution_count": 28
    }
   ],
   "source": [
    "dict(list(gpa_train_pipeline[\"sparse_category_encoder\"].vocabulary.items())[:20])"
   ]
  },
  {
   "cell_type": "code",
   "execution_count": 29,
   "metadata": {},
   "outputs": [
    {
     "output_type": "execute_result",
     "data": {
      "text/plain": [
       "{'0': 0,\n",
       " '18446744073709551604': 1,\n",
       " '18446744073709551605': 2,\n",
       " '35': 3,\n",
       " '12': 4,\n",
       " '18446744073709551581': 5,\n",
       " '11': 6,\n",
       " '23': 7,\n",
       " '18446744073709551593': 8,\n",
       " '18446744073709551592': 9,\n",
       " '24': 10,\n",
       " '-1': 11,\n",
       " '18446744073709551555': 12,\n",
       " '18446744073709551551': 13,\n",
       " '18446744073709551545': 14,\n",
       " '18446744073709551548': 15,\n",
       " '18446744073709551558': 16,\n",
       " '18446744073709551544': 17,\n",
       " '18446744073709551506': 18,\n",
       " '18446744073709551561': 19}"
      ]
     },
     "metadata": {},
     "execution_count": 29
    }
   ],
   "source": [
    "dict(list(rip_train_pipeline[\"sparse_category_encoder\"].vocabulary.items())[:20])"
   ]
  },
  {
   "cell_type": "code",
   "execution_count": 30,
   "metadata": {},
   "outputs": [
    {
     "output_type": "execute_result",
     "data": {
      "text/plain": [
       "(3670, 4095)"
      ]
     },
     "metadata": {},
     "execution_count": 30
    }
   ],
   "source": [
    "gpa_train_pipeline[\"sparse_category_encoder\"].vocab_size, rip_train_pipeline[\"sparse_category_encoder\"].vocab_size"
   ]
  },
  {
   "cell_type": "code",
   "execution_count": 30,
   "metadata": {},
   "outputs": [],
   "source": [
    "\n"
   ]
  }
 ]
}