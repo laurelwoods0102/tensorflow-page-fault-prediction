{
 "metadata": {
  "language_info": {
   "codemirror_mode": {
    "name": "ipython",
    "version": 3
   },
   "file_extension": ".py",
   "mimetype": "text/x-python",
   "name": "python",
   "nbconvert_exporter": "python",
   "pygments_lexer": "ipython3",
   "version": 3
  },
  "orig_nbformat": 2,
  "kernelspec": {
   "name": "python_defaultSpec_1596518718951",
   "display_name": "Python 3.7.6 64-bit ('base': conda)"
  }
 },
 "nbformat": 4,
 "nbformat_minor": 2,
 "cells": [
  {
   "cell_type": "code",
   "execution_count": 2,
   "metadata": {},
   "outputs": [],
   "source": [
    "import tensorflow as tf\n",
    "from tensorflow import keras\n",
    "import numpy as np\n",
    "import pandas as pd\n",
    "import matplotlib.pyplot as plt\n",
    "import os\n",
    "import json\n",
    "import datetime\n",
    "\n",
    "plt.rcParams[\"figure.figsize\"] = (20, 5)\n",
    "\n",
    "physical_devices = tf.config.list_physical_devices('GPU')\n",
    "tf.config.experimental.set_memory_growth(physical_devices[0], enable=True)"
   ]
  },
  {
   "cell_type": "code",
   "execution_count": 3,
   "metadata": {},
   "outputs": [],
   "source": [
    "timestamp = datetime.datetime.now().strftime(\"%Y%m%d-%H%M%S\")\n",
    "log_dir = \"logs/fit/\" + timestamp\n",
    "tensorboard_callback = tf.keras.callbacks.TensorBoard(log_dir=log_dir, histogram_freq=1)\n",
    "version_dir = \"version/\" + timestamp \n",
    "\n",
    "os.makedirs(version_dir)"
   ]
  },
  {
   "cell_type": "code",
   "execution_count": 13,
   "metadata": {},
   "outputs": [],
   "source": [
    "param_list = dict()\n",
    "\n",
    "param_list[\"PAST_HISTORY\"] = 16\n",
    "param_list[\"FUTURE_TARGET\"] = 8\n",
    "param_list[\"TRAIN_SPLIT\"] = 100000\n",
    "param_list[\"BATCH_SIZE\"] = 256\n",
    "param_list[\"EPOCHS\"] = 100\n",
    "param_list[\"BUFFER_SIZE\"] = 200000\n",
    "param_list[\"EVALUATION_INTERVAL\"] = 300\n",
    "param_list[\"VAL_STEPS\"] = 50\n",
    "\n",
    "with open(\"version/{0}/param_list.json\".format(timestamp), 'w') as j:\n",
    "    json.dump(param_list, j, indent=4)"
   ]
  },
  {
   "cell_type": "code",
   "execution_count": 5,
   "metadata": {
    "tags": []
   },
   "outputs": [
    {
     "output_type": "execute_result",
     "data": {
      "text/plain": "     scaled       delta            t          t+1\n0  0.398202 -1587653544  95444983808  93857330264\n1  0.895775  6172925864  87674650304  93847576168\n2  0.103254 -6187909720  93857313352  87669403632\n3  0.103253 -6187918552  93857325056  87669406504\n4  0.102577 -6198466584  93857330264  87658863680",
      "text/html": "<div>\n<style scoped>\n    .dataframe tbody tr th:only-of-type {\n        vertical-align: middle;\n    }\n\n    .dataframe tbody tr th {\n        vertical-align: top;\n    }\n\n    .dataframe thead th {\n        text-align: right;\n    }\n</style>\n<table border=\"1\" class=\"dataframe\">\n  <thead>\n    <tr style=\"text-align: right;\">\n      <th></th>\n      <th>scaled</th>\n      <th>delta</th>\n      <th>t</th>\n      <th>t+1</th>\n    </tr>\n  </thead>\n  <tbody>\n    <tr>\n      <th>0</th>\n      <td>0.398202</td>\n      <td>-1587653544</td>\n      <td>95444983808</td>\n      <td>93857330264</td>\n    </tr>\n    <tr>\n      <th>1</th>\n      <td>0.895775</td>\n      <td>6172925864</td>\n      <td>87674650304</td>\n      <td>93847576168</td>\n    </tr>\n    <tr>\n      <th>2</th>\n      <td>0.103254</td>\n      <td>-6187909720</td>\n      <td>93857313352</td>\n      <td>87669403632</td>\n    </tr>\n    <tr>\n      <th>3</th>\n      <td>0.103253</td>\n      <td>-6187918552</td>\n      <td>93857325056</td>\n      <td>87669406504</td>\n    </tr>\n    <tr>\n      <th>4</th>\n      <td>0.102577</td>\n      <td>-6198466584</td>\n      <td>93857330264</td>\n      <td>87658863680</td>\n    </tr>\n  </tbody>\n</table>\n</div>"
     },
     "metadata": {},
     "execution_count": 5
    }
   ],
   "source": [
    "pattern_length = 4\n",
    "\n",
    "dataset = pd.read_csv(\"data/SEG_train_dataset_{}.csv\".format(pattern_length))\n",
    "dataset.head()"
   ]
  },
  {
   "cell_type": "code",
   "execution_count": 6,
   "metadata": {},
   "outputs": [],
   "source": [
    "def generate_timeseries(dataset, start_index, end_index, history_size, target_size):\n",
    "    data = []\n",
    "    labels = []\n",
    "\n",
    "    start_index = start_index + history_size\n",
    "    if end_index is None:\n",
    "        end_index = len(dataset) - target_size\n",
    "\n",
    "    for i in range(start_index, end_index):\n",
    "        indices = range(i-history_size, i)\n",
    "        # Reshape data from (history_size,) to (history_size, 1)\n",
    "        data.append(np.reshape(dataset[indices], (history_size, 1)))\n",
    "        labels.append(dataset[i:i+target_size])\n",
    "    return np.array(data), np.array(labels)"
   ]
  },
  {
   "cell_type": "code",
   "execution_count": 8,
   "metadata": {},
   "outputs": [],
   "source": [
    "x_train, y_train = generate_timeseries(dataset[\"scaled\"].values, 0, param_list[\"TRAIN_SPLIT\"], param_list[\"PAST_HISTORY\"], param_list[\"FUTURE_TARGET\"])\n",
    "x_val, y_val = generate_timeseries(dataset[\"scaled\"].values, param_list[\"TRAIN_SPLIT\"], None, param_list[\"PAST_HISTORY\"], param_list[\"FUTURE_TARGET\"])\n",
    "\n",
    "train_data = tf.data.Dataset.from_tensor_slices((x_train, y_train)).repeat()\n",
    "train_data = train_data.cache().shuffle(param_list[\"BUFFER_SIZE\"]).batch(param_list[\"BATCH_SIZE\"])\n",
    "val_data = tf.data.Dataset.from_tensor_slices((x_val, y_val)).repeat()\n",
    "val_data = val_data.cache().batch(param_list[\"BATCH_SIZE\"])"
   ]
  },
  {
   "cell_type": "code",
   "execution_count": 9,
   "metadata": {},
   "outputs": [],
   "source": [
    "model = tf.keras.models.Sequential()\n",
    "model.add(tf.keras.layers.LSTM(128, return_sequences=True, input_shape=x_train.shape[-2:]))\n",
    "model.add(tf.keras.layers.LSTM(128))\n",
    "model.add(tf.keras.layers.Dropout(0.2))\n",
    "model.add(tf.keras.layers.Dense(8))\n",
    "model.add(tf.keras.layers.Activation(\"relu\"))\n",
    "\n",
    "model.compile(optimizer='adam', loss='mse', metrics=['mse', 'mae'])"
   ]
  },
  {
   "cell_type": "code",
   "execution_count": 10,
   "metadata": {
    "tags": []
   },
   "outputs": [
    {
     "output_type": "stream",
     "name": "stdout",
     "text": "Epoch 1/100\n300/300 [==============================] - 3s 9ms/step - loss: 0.0169 - mse: 0.0169 - mae: 0.0752 - val_loss: 0.0094 - val_mse: 0.0094 - val_mae: 0.0337\nEpoch 2/100\n300/300 [==============================] - 2s 7ms/step - loss: 0.0103 - mse: 0.0103 - mae: 0.0530 - val_loss: 0.0092 - val_mse: 0.0092 - val_mae: 0.0352\nEpoch 3/100\n300/300 [==============================] - 2s 7ms/step - loss: 0.0094 - mse: 0.0094 - mae: 0.0481 - val_loss: 0.0089 - val_mse: 0.0089 - val_mae: 0.0334\nEpoch 4/100\n300/300 [==============================] - 2s 7ms/step - loss: 0.0090 - mse: 0.0090 - mae: 0.0460 - val_loss: 0.0088 - val_mse: 0.0088 - val_mae: 0.0334\nEpoch 5/100\n300/300 [==============================] - 2s 7ms/step - loss: 0.0090 - mse: 0.0090 - mae: 0.0450 - val_loss: 0.0088 - val_mse: 0.0088 - val_mae: 0.0350\nEpoch 6/100\n300/300 [==============================] - 2s 7ms/step - loss: 0.0089 - mse: 0.0089 - mae: 0.0435 - val_loss: 0.0087 - val_mse: 0.0087 - val_mae: 0.0346\nEpoch 7/100\n300/300 [==============================] - 2s 7ms/step - loss: 0.0086 - mse: 0.0086 - mae: 0.0420 - val_loss: 0.0087 - val_mse: 0.0087 - val_mae: 0.0343\nEpoch 8/100\n300/300 [==============================] - 2s 7ms/step - loss: 0.0084 - mse: 0.0084 - mae: 0.0411 - val_loss: 0.0086 - val_mse: 0.0086 - val_mae: 0.0355\nEpoch 9/100\n300/300 [==============================] - 2s 8ms/step - loss: 0.0082 - mse: 0.0082 - mae: 0.0401 - val_loss: 0.0083 - val_mse: 0.0083 - val_mae: 0.0335\nEpoch 10/100\n300/300 [==============================] - 2s 8ms/step - loss: 0.0082 - mse: 0.0082 - mae: 0.0397 - val_loss: 0.0080 - val_mse: 0.0080 - val_mae: 0.0348\nEpoch 11/100\n300/300 [==============================] - 2s 8ms/step - loss: 0.0078 - mse: 0.0078 - mae: 0.0384 - val_loss: 0.0079 - val_mse: 0.0079 - val_mae: 0.0328\nEpoch 12/100\n300/300 [==============================] - 2s 8ms/step - loss: 0.0075 - mse: 0.0075 - mae: 0.0370 - val_loss: 0.0079 - val_mse: 0.0079 - val_mae: 0.0342\nEpoch 13/100\n300/300 [==============================] - 3s 9ms/step - loss: 0.0074 - mse: 0.0074 - mae: 0.0361 - val_loss: 0.0078 - val_mse: 0.0078 - val_mae: 0.0330\nEpoch 14/100\n300/300 [==============================] - 2s 7ms/step - loss: 0.0075 - mse: 0.0075 - mae: 0.0364 - val_loss: 0.0077 - val_mse: 0.0077 - val_mae: 0.0333\nEpoch 15/100\n300/300 [==============================] - 2s 7ms/step - loss: 0.0073 - mse: 0.0073 - mae: 0.0353 - val_loss: 0.0075 - val_mse: 0.0075 - val_mae: 0.0315\nEpoch 16/100\n300/300 [==============================] - 2s 7ms/step - loss: 0.0072 - mse: 0.0072 - mae: 0.0346 - val_loss: 0.0075 - val_mse: 0.0075 - val_mae: 0.0334\nEpoch 17/100\n300/300 [==============================] - 2s 7ms/step - loss: 0.0070 - mse: 0.0070 - mae: 0.0338 - val_loss: 0.0076 - val_mse: 0.0076 - val_mae: 0.0355\nEpoch 18/100\n300/300 [==============================] - 2s 7ms/step - loss: 0.0071 - mse: 0.0071 - mae: 0.0337 - val_loss: 0.0076 - val_mse: 0.0076 - val_mae: 0.0335\nEpoch 19/100\n300/300 [==============================] - 2s 7ms/step - loss: 0.0072 - mse: 0.0072 - mae: 0.0339 - val_loss: 0.0075 - val_mse: 0.0075 - val_mae: 0.0323\nEpoch 20/100\n300/300 [==============================] - 2s 7ms/step - loss: 0.0070 - mse: 0.0070 - mae: 0.0329 - val_loss: 0.0075 - val_mse: 0.0075 - val_mae: 0.0329\nEpoch 21/100\n300/300 [==============================] - 2s 7ms/step - loss: 0.0070 - mse: 0.0070 - mae: 0.0327 - val_loss: 0.0075 - val_mse: 0.0075 - val_mae: 0.0317\nEpoch 22/100\n300/300 [==============================] - 2s 8ms/step - loss: 0.0071 - mse: 0.0071 - mae: 0.0329 - val_loss: 0.0075 - val_mse: 0.0075 - val_mae: 0.0315\nEpoch 23/100\n300/300 [==============================] - 2s 7ms/step - loss: 0.0071 - mse: 0.0071 - mae: 0.0328 - val_loss: 0.0075 - val_mse: 0.0075 - val_mae: 0.0323\nEpoch 24/100\n300/300 [==============================] - 2s 7ms/step - loss: 0.0071 - mse: 0.0071 - mae: 0.0325 - val_loss: 0.0075 - val_mse: 0.0075 - val_mae: 0.0333\nEpoch 25/100\n300/300 [==============================] - 2s 8ms/step - loss: 0.0069 - mse: 0.0069 - mae: 0.0316 - val_loss: 0.0075 - val_mse: 0.0075 - val_mae: 0.0321\nEpoch 26/100\n300/300 [==============================] - 2s 8ms/step - loss: 0.0068 - mse: 0.0068 - mae: 0.0315 - val_loss: 0.0075 - val_mse: 0.0075 - val_mae: 0.0344\nEpoch 27/100\n300/300 [==============================] - 2s 8ms/step - loss: 0.0071 - mse: 0.0071 - mae: 0.0323 - val_loss: 0.0075 - val_mse: 0.0075 - val_mae: 0.0331\nEpoch 28/100\n300/300 [==============================] - 2s 7ms/step - loss: 0.0070 - mse: 0.0070 - mae: 0.0319 - val_loss: 0.0075 - val_mse: 0.0075 - val_mae: 0.0321\nEpoch 29/100\n300/300 [==============================] - 2s 7ms/step - loss: 0.0070 - mse: 0.0070 - mae: 0.0318 - val_loss: 0.0075 - val_mse: 0.0075 - val_mae: 0.0318\nEpoch 30/100\n300/300 [==============================] - 2s 8ms/step - loss: 0.0068 - mse: 0.0068 - mae: 0.0313 - val_loss: 0.0075 - val_mse: 0.0075 - val_mae: 0.0315\nEpoch 31/100\n300/300 [==============================] - 2s 8ms/step - loss: 0.0071 - mse: 0.0071 - mae: 0.0322 - val_loss: 0.0075 - val_mse: 0.0075 - val_mae: 0.0316\nEpoch 32/100\n300/300 [==============================] - 2s 8ms/step - loss: 0.0071 - mse: 0.0071 - mae: 0.0320 - val_loss: 0.0075 - val_mse: 0.0075 - val_mae: 0.0313\nEpoch 33/100\n300/300 [==============================] - 2s 7ms/step - loss: 0.0069 - mse: 0.0069 - mae: 0.0312 - val_loss: 0.0075 - val_mse: 0.0075 - val_mae: 0.0316\nEpoch 34/100\n300/300 [==============================] - 2s 7ms/step - loss: 0.0069 - mse: 0.0069 - mae: 0.0313 - val_loss: 0.0075 - val_mse: 0.0075 - val_mae: 0.0334\nEpoch 35/100\n300/300 [==============================] - 2s 7ms/step - loss: 0.0069 - mse: 0.0069 - mae: 0.0315 - val_loss: 0.0075 - val_mse: 0.0075 - val_mae: 0.0317\nEpoch 36/100\n300/300 [==============================] - 2s 7ms/step - loss: 0.0070 - mse: 0.0070 - mae: 0.0320 - val_loss: 0.0075 - val_mse: 0.0075 - val_mae: 0.0320\nEpoch 37/100\n300/300 [==============================] - 2s 7ms/step - loss: 0.0069 - mse: 0.0069 - mae: 0.0315 - val_loss: 0.0075 - val_mse: 0.0075 - val_mae: 0.0320\nEpoch 38/100\n300/300 [==============================] - 2s 7ms/step - loss: 0.0069 - mse: 0.0069 - mae: 0.0313 - val_loss: 0.0075 - val_mse: 0.0075 - val_mae: 0.0325\nEpoch 39/100\n300/300 [==============================] - 2s 8ms/step - loss: 0.0069 - mse: 0.0069 - mae: 0.0314 - val_loss: 0.0075 - val_mse: 0.0075 - val_mae: 0.0318\nEpoch 40/100\n300/300 [==============================] - 2s 8ms/step - loss: 0.0071 - mse: 0.0071 - mae: 0.0321 - val_loss: 0.0075 - val_mse: 0.0075 - val_mae: 0.0321\nEpoch 41/100\n300/300 [==============================] - 2s 7ms/step - loss: 0.0069 - mse: 0.0069 - mae: 0.0316 - val_loss: 0.0075 - val_mse: 0.0075 - val_mae: 0.0320\nEpoch 42/100\n300/300 [==============================] - 2s 7ms/step - loss: 0.0070 - mse: 0.0070 - mae: 0.0317 - val_loss: 0.0075 - val_mse: 0.0075 - val_mae: 0.0317\nEpoch 43/100\n300/300 [==============================] - 2s 7ms/step - loss: 0.0068 - mse: 0.0068 - mae: 0.0310 - val_loss: 0.0075 - val_mse: 0.0075 - val_mae: 0.0332\nEpoch 44/100\n300/300 [==============================] - 2s 8ms/step - loss: 0.0070 - mse: 0.0070 - mae: 0.0319 - val_loss: 0.0076 - val_mse: 0.0076 - val_mae: 0.0329\nEpoch 45/100\n300/300 [==============================] - 2s 7ms/step - loss: 0.0071 - mse: 0.0071 - mae: 0.0319 - val_loss: 0.0075 - val_mse: 0.0075 - val_mae: 0.0316\nEpoch 46/100\n300/300 [==============================] - 2s 8ms/step - loss: 0.0068 - mse: 0.0068 - mae: 0.0313 - val_loss: 0.0075 - val_mse: 0.0075 - val_mae: 0.0329\nEpoch 47/100\n300/300 [==============================] - 2s 7ms/step - loss: 0.0067 - mse: 0.0067 - mae: 0.0307 - val_loss: 0.0075 - val_mse: 0.0075 - val_mae: 0.0327\nEpoch 48/100\n300/300 [==============================] - 2s 7ms/step - loss: 0.0070 - mse: 0.0070 - mae: 0.0320 - val_loss: 0.0075 - val_mse: 0.0075 - val_mae: 0.0322\nEpoch 49/100\n300/300 [==============================] - 2s 7ms/step - loss: 0.0070 - mse: 0.0070 - mae: 0.0321 - val_loss: 0.0075 - val_mse: 0.0075 - val_mae: 0.0321\nEpoch 50/100\n300/300 [==============================] - 2s 7ms/step - loss: 0.0069 - mse: 0.0069 - mae: 0.0315 - val_loss: 0.0075 - val_mse: 0.0075 - val_mae: 0.0340\nEpoch 51/100\n300/300 [==============================] - 2s 7ms/step - loss: 0.0068 - mse: 0.0068 - mae: 0.0311 - val_loss: 0.0075 - val_mse: 0.0075 - val_mae: 0.0319\nEpoch 52/100\n300/300 [==============================] - 2s 8ms/step - loss: 0.0068 - mse: 0.0068 - mae: 0.0312 - val_loss: 0.0075 - val_mse: 0.0075 - val_mae: 0.0322\nEpoch 53/100\n300/300 [==============================] - 2s 8ms/step - loss: 0.0070 - mse: 0.0070 - mae: 0.0320 - val_loss: 0.0075 - val_mse: 0.0075 - val_mae: 0.0325\nEpoch 54/100\n300/300 [==============================] - 2s 7ms/step - loss: 0.0069 - mse: 0.0069 - mae: 0.0318 - val_loss: 0.0076 - val_mse: 0.0076 - val_mae: 0.0320\nEpoch 55/100\n300/300 [==============================] - 2s 7ms/step - loss: 0.0067 - mse: 0.0067 - mae: 0.0310 - val_loss: 0.0075 - val_mse: 0.0075 - val_mae: 0.0319\nEpoch 56/100\n300/300 [==============================] - 2s 7ms/step - loss: 0.0067 - mse: 0.0067 - mae: 0.0312 - val_loss: 0.0075 - val_mse: 0.0075 - val_mae: 0.0321\nEpoch 57/100\n300/300 [==============================] - 2s 7ms/step - loss: 0.0069 - mse: 0.0069 - mae: 0.0318 - val_loss: 0.0076 - val_mse: 0.0076 - val_mae: 0.0321\nEpoch 58/100\n300/300 [==============================] - 2s 7ms/step - loss: 0.0069 - mse: 0.0069 - mae: 0.0317 - val_loss: 0.0076 - val_mse: 0.0076 - val_mae: 0.0325\nEpoch 59/100\n300/300 [==============================] - 2s 7ms/step - loss: 0.0068 - mse: 0.0068 - mae: 0.0314 - val_loss: 0.0076 - val_mse: 0.0076 - val_mae: 0.0330\nEpoch 60/100\n300/300 [==============================] - 2s 7ms/step - loss: 0.0067 - mse: 0.0067 - mae: 0.0312 - val_loss: 0.0077 - val_mse: 0.0077 - val_mae: 0.0324\nEpoch 61/100\n300/300 [==============================] - 2s 7ms/step - loss: 0.0068 - mse: 0.0068 - mae: 0.0317 - val_loss: 0.0076 - val_mse: 0.0076 - val_mae: 0.0326\nEpoch 62/100\n300/300 [==============================] - 2s 7ms/step - loss: 0.0068 - mse: 0.0068 - mae: 0.0316 - val_loss: 0.0076 - val_mse: 0.0076 - val_mae: 0.0319\nEpoch 63/100\n300/300 [==============================] - 2s 7ms/step - loss: 0.0068 - mse: 0.0068 - mae: 0.0316 - val_loss: 0.0076 - val_mse: 0.0076 - val_mae: 0.0324\nEpoch 64/100\n300/300 [==============================] - 2s 7ms/step - loss: 0.0066 - mse: 0.0066 - mae: 0.0309 - val_loss: 0.0076 - val_mse: 0.0076 - val_mae: 0.0327\nEpoch 65/100\n300/300 [==============================] - 2s 8ms/step - loss: 0.0066 - mse: 0.0066 - mae: 0.0312 - val_loss: 0.0076 - val_mse: 0.0076 - val_mae: 0.0324\nEpoch 66/100\n300/300 [==============================] - 2s 8ms/step - loss: 0.0068 - mse: 0.0068 - mae: 0.0318 - val_loss: 0.0077 - val_mse: 0.0077 - val_mae: 0.0328\nEpoch 67/100\n300/300 [==============================] - 2s 8ms/step - loss: 0.0068 - mse: 0.0068 - mae: 0.0318 - val_loss: 0.0076 - val_mse: 0.0076 - val_mae: 0.0321\nEpoch 68/100\n300/300 [==============================] - 2s 7ms/step - loss: 0.0066 - mse: 0.0066 - mae: 0.0312 - val_loss: 0.0076 - val_mse: 0.0076 - val_mae: 0.0327\nEpoch 69/100\n300/300 [==============================] - 2s 8ms/step - loss: 0.0065 - mse: 0.0065 - mae: 0.0308 - val_loss: 0.0077 - val_mse: 0.0077 - val_mae: 0.0324\nEpoch 70/100\n300/300 [==============================] - 2s 7ms/step - loss: 0.0067 - mse: 0.0067 - mae: 0.0315 - val_loss: 0.0079 - val_mse: 0.0079 - val_mae: 0.0326\nEpoch 71/100\n300/300 [==============================] - 2s 7ms/step - loss: 0.0066 - mse: 0.0066 - mae: 0.0313 - val_loss: 0.0078 - val_mse: 0.0078 - val_mae: 0.0330\nEpoch 72/100\n300/300 [==============================] - 2s 7ms/step - loss: 0.0065 - mse: 0.0065 - mae: 0.0312 - val_loss: 0.0077 - val_mse: 0.0077 - val_mae: 0.0344\nEpoch 73/100\n300/300 [==============================] - 2s 7ms/step - loss: 0.0064 - mse: 0.0064 - mae: 0.0308 - val_loss: 0.0078 - val_mse: 0.0078 - val_mae: 0.0327\nEpoch 74/100\n300/300 [==============================] - 2s 7ms/step - loss: 0.0065 - mse: 0.0065 - mae: 0.0313 - val_loss: 0.0079 - val_mse: 0.0079 - val_mae: 0.0345\nEpoch 75/100\n300/300 [==============================] - 2s 7ms/step - loss: 0.0064 - mse: 0.0064 - mae: 0.0313 - val_loss: 0.0081 - val_mse: 0.0081 - val_mae: 0.0335\nEpoch 76/100\n300/300 [==============================] - 2s 7ms/step - loss: 0.0064 - mse: 0.0064 - mae: 0.0309 - val_loss: 0.0080 - val_mse: 0.0080 - val_mae: 0.0333\nEpoch 77/100\n300/300 [==============================] - 2s 7ms/step - loss: 0.0063 - mse: 0.0063 - mae: 0.0306 - val_loss: 0.0080 - val_mse: 0.0080 - val_mae: 0.0338\nEpoch 78/100\n300/300 [==============================] - 2s 7ms/step - loss: 0.0063 - mse: 0.0063 - mae: 0.0310 - val_loss: 0.0080 - val_mse: 0.0080 - val_mae: 0.0359\nEpoch 79/100\n300/300 [==============================] - 2s 8ms/step - loss: 0.0064 - mse: 0.0064 - mae: 0.0313 - val_loss: 0.0080 - val_mse: 0.0080 - val_mae: 0.0331\nEpoch 80/100\n300/300 [==============================] - 2s 8ms/step - loss: 0.0062 - mse: 0.0062 - mae: 0.0308 - val_loss: 0.0081 - val_mse: 0.0081 - val_mae: 0.0338\nEpoch 81/100\n300/300 [==============================] - 2s 7ms/step - loss: 0.0061 - mse: 0.0061 - mae: 0.0306 - val_loss: 0.0083 - val_mse: 0.0083 - val_mae: 0.0339\nEpoch 82/100\n300/300 [==============================] - 2s 7ms/step - loss: 0.0061 - mse: 0.0061 - mae: 0.0305 - val_loss: 0.0082 - val_mse: 0.0082 - val_mae: 0.0340\nEpoch 83/100\n300/300 [==============================] - 2s 8ms/step - loss: 0.0062 - mse: 0.0062 - mae: 0.0310 - val_loss: 0.0082 - val_mse: 0.0082 - val_mae: 0.0336\nEpoch 84/100\n300/300 [==============================] - 2s 7ms/step - loss: 0.0059 - mse: 0.0059 - mae: 0.0303 - val_loss: 0.0082 - val_mse: 0.0082 - val_mae: 0.0341\nEpoch 85/100\n300/300 [==============================] - 2s 7ms/step - loss: 0.0059 - mse: 0.0059 - mae: 0.0301 - val_loss: 0.0085 - val_mse: 0.0085 - val_mae: 0.0344\nEpoch 86/100\n300/300 [==============================] - 2s 7ms/step - loss: 0.0058 - mse: 0.0058 - mae: 0.0299 - val_loss: 0.0084 - val_mse: 0.0084 - val_mae: 0.0354\nEpoch 87/100\n300/300 [==============================] - 2s 7ms/step - loss: 0.0058 - mse: 0.0058 - mae: 0.0303 - val_loss: 0.0085 - val_mse: 0.0085 - val_mae: 0.0345\nEpoch 88/100\n300/300 [==============================] - 2s 7ms/step - loss: 0.0059 - mse: 0.0059 - mae: 0.0304 - val_loss: 0.0086 - val_mse: 0.0086 - val_mae: 0.0347\nEpoch 89/100\n300/300 [==============================] - 2s 7ms/step - loss: 0.0056 - mse: 0.0056 - mae: 0.0296 - val_loss: 0.0084 - val_mse: 0.0084 - val_mae: 0.0349\nEpoch 90/100\n300/300 [==============================] - 2s 7ms/step - loss: 0.0055 - mse: 0.0055 - mae: 0.0292 - val_loss: 0.0086 - val_mse: 0.0086 - val_mae: 0.0348\nEpoch 91/100\n300/300 [==============================] - 2s 7ms/step - loss: 0.0055 - mse: 0.0055 - mae: 0.0294 - val_loss: 0.0088 - val_mse: 0.0088 - val_mae: 0.0355\nEpoch 92/100\n300/300 [==============================] - 2s 7ms/step - loss: 0.0056 - mse: 0.0056 - mae: 0.0295 - val_loss: 0.0087 - val_mse: 0.0087 - val_mae: 0.0349\nEpoch 93/100\n300/300 [==============================] - 2s 8ms/step - loss: 0.0054 - mse: 0.0054 - mae: 0.0291 - val_loss: 0.0085 - val_mse: 0.0085 - val_mae: 0.0348\nEpoch 94/100\n300/300 [==============================] - 2s 8ms/step - loss: 0.0053 - mse: 0.0053 - mae: 0.0289 - val_loss: 0.0088 - val_mse: 0.0088 - val_mae: 0.0351\nEpoch 95/100\n300/300 [==============================] - 2s 7ms/step - loss: 0.0052 - mse: 0.0052 - mae: 0.0287 - val_loss: 0.0089 - val_mse: 0.0089 - val_mae: 0.0362\nEpoch 96/100\n300/300 [==============================] - 2s 7ms/step - loss: 0.0053 - mse: 0.0053 - mae: 0.0290 - val_loss: 0.0089 - val_mse: 0.0089 - val_mae: 0.0354\nEpoch 97/100\n300/300 [==============================] - 2s 8ms/step - loss: 0.0053 - mse: 0.0053 - mae: 0.0290 - val_loss: 0.0088 - val_mse: 0.0088 - val_mae: 0.0348\nEpoch 98/100\n300/300 [==============================] - 2s 7ms/step - loss: 0.0051 - mse: 0.0051 - mae: 0.0285 - val_loss: 0.0089 - val_mse: 0.0089 - val_mae: 0.0352\nEpoch 99/100\n300/300 [==============================] - 2s 7ms/step - loss: 0.0050 - mse: 0.0050 - mae: 0.0282 - val_loss: 0.0087 - val_mse: 0.0087 - val_mae: 0.0349\nEpoch 100/100\n300/300 [==============================] - 2s 7ms/step - loss: 0.0050 - mse: 0.0050 - mae: 0.0283 - val_loss: 0.0091 - val_mse: 0.0091 - val_mae: 0.0357\n"
    }
   ],
   "source": [
    "model_history = model.fit(train_data, epochs=param_list[\"EPOCHS\"], steps_per_epoch=param_list[\"EVALUATION_INTERVAL\"], validation_data=val_data, validation_steps=param_list[\"VAL_STEPS\"], callbacks=[tensorboard_callback])\n",
    "model.save(\"version/{0}/model.h5\".format(timestamp))"
   ]
  },
  {
   "cell_type": "code",
   "execution_count": 14,
   "metadata": {},
   "outputs": [],
   "source": []
  }
 ]
}