{
 "metadata": {
  "language_info": {
   "codemirror_mode": {
    "name": "ipython",
    "version": 3
   },
   "file_extension": ".py",
   "mimetype": "text/x-python",
   "name": "python",
   "nbconvert_exporter": "python",
   "pygments_lexer": "ipython3",
   "version": "3.7.6"
  },
  "orig_nbformat": 2,
  "kernelspec": {
   "name": "python376jvsc74a57bd0b3ba2566441a7c06988d0923437866b63cedc61552a5af99d1f4fb67d367b25f",
   "display_name": "Python 3.7.6 64-bit ('base': conda)"
  }
 },
 "nbformat": 4,
 "nbformat_minor": 2,
 "cells": [
  {
   "cell_type": "code",
   "execution_count": 1,
   "metadata": {},
   "outputs": [],
   "source": [
    "import numpy as np\n",
    "import pandas as pd\n",
    "import json\n",
    "import dill         # 0.3.2\n",
    "from sklearn.base import BaseEstimator, TransformerMixin\n",
    "from sklearn.pipeline import Pipeline\n",
    "from sklearn.model_selection import train_test_split"
   ]
  },
  {
   "cell_type": "markdown",
   "metadata": {},
   "source": [
    "## Set Global/Environment Variables"
   ]
  },
  {
   "cell_type": "code",
   "execution_count": 2,
   "metadata": {},
   "outputs": [],
   "source": [
    "model_name = \"GEMM_STREAM\""
   ]
  },
  {
   "cell_type": "markdown",
   "metadata": {},
   "source": [
    "## Load Dataset/Static Param List"
   ]
  },
  {
   "cell_type": "code",
   "execution_count": 3,
   "metadata": {},
   "outputs": [
    {
     "output_type": "execute_result",
     "data": {
      "text/plain": [
       "                   extra             time address_type          gpa  \\\n",
       "0       [861367.505406]   05:46:34:647695           PF    988827648   \n",
       "1       [861367.505455]   05:46:34:647744           PF    705122304   \n",
       "2       [861367.505459]   05:46:34:647748           PF    705122304   \n",
       "3       [861367.505464]   05:46:34:647754           PF   1227321344   \n",
       "4       [861367.505468]   05:46:34:647757           PF   1227321344   \n",
       "...                  ...              ...          ...          ...   \n",
       "407242  [957446.819051]   08:27:53:959834           PF  20453990400   \n",
       "407243  [957446.865342]   08:27:54:006124           PF  20453994496   \n",
       "407244  [957446.865354]   08:27:54:006138           PF  20453998592   \n",
       "407245  [957446.865359]   08:27:54:006143           PF  20454002688   \n",
       "407246  [957446.865362]   08:27:54:006146           PF  20454006784   \n",
       "\n",
       "                         rip   vmid  \n",
       "0       18446744072452043863   4034  \n",
       "1       18446744072452043863   4034  \n",
       "2       18446744072452043863   4034  \n",
       "3       18446744072452043863   4034  \n",
       "4       18446744072452043863   4034  \n",
       "...                      ...    ...  \n",
       "407242  18446744072506569815  17926  \n",
       "407243  18446744072506569815  17926  \n",
       "407244  18446744072506569815  17926  \n",
       "407245  18446744072506569815  17926  \n",
       "407246  18446744072506569815  17926  \n",
       "\n",
       "[9131832 rows x 6 columns]"
      ],
      "text/html": "<div>\n<style scoped>\n    .dataframe tbody tr th:only-of-type {\n        vertical-align: middle;\n    }\n\n    .dataframe tbody tr th {\n        vertical-align: top;\n    }\n\n    .dataframe thead th {\n        text-align: right;\n    }\n</style>\n<table border=\"1\" class=\"dataframe\">\n  <thead>\n    <tr style=\"text-align: right;\">\n      <th></th>\n      <th>extra</th>\n      <th>time</th>\n      <th>address_type</th>\n      <th>gpa</th>\n      <th>rip</th>\n      <th>vmid</th>\n    </tr>\n  </thead>\n  <tbody>\n    <tr>\n      <th>0</th>\n      <td>[861367.505406]</td>\n      <td>05:46:34:647695</td>\n      <td>PF</td>\n      <td>988827648</td>\n      <td>18446744072452043863</td>\n      <td>4034</td>\n    </tr>\n    <tr>\n      <th>1</th>\n      <td>[861367.505455]</td>\n      <td>05:46:34:647744</td>\n      <td>PF</td>\n      <td>705122304</td>\n      <td>18446744072452043863</td>\n      <td>4034</td>\n    </tr>\n    <tr>\n      <th>2</th>\n      <td>[861367.505459]</td>\n      <td>05:46:34:647748</td>\n      <td>PF</td>\n      <td>705122304</td>\n      <td>18446744072452043863</td>\n      <td>4034</td>\n    </tr>\n    <tr>\n      <th>3</th>\n      <td>[861367.505464]</td>\n      <td>05:46:34:647754</td>\n      <td>PF</td>\n      <td>1227321344</td>\n      <td>18446744072452043863</td>\n      <td>4034</td>\n    </tr>\n    <tr>\n      <th>4</th>\n      <td>[861367.505468]</td>\n      <td>05:46:34:647757</td>\n      <td>PF</td>\n      <td>1227321344</td>\n      <td>18446744072452043863</td>\n      <td>4034</td>\n    </tr>\n    <tr>\n      <th>...</th>\n      <td>...</td>\n      <td>...</td>\n      <td>...</td>\n      <td>...</td>\n      <td>...</td>\n      <td>...</td>\n    </tr>\n    <tr>\n      <th>407242</th>\n      <td>[957446.819051]</td>\n      <td>08:27:53:959834</td>\n      <td>PF</td>\n      <td>20453990400</td>\n      <td>18446744072506569815</td>\n      <td>17926</td>\n    </tr>\n    <tr>\n      <th>407243</th>\n      <td>[957446.865342]</td>\n      <td>08:27:54:006124</td>\n      <td>PF</td>\n      <td>20453994496</td>\n      <td>18446744072506569815</td>\n      <td>17926</td>\n    </tr>\n    <tr>\n      <th>407244</th>\n      <td>[957446.865354]</td>\n      <td>08:27:54:006138</td>\n      <td>PF</td>\n      <td>20453998592</td>\n      <td>18446744072506569815</td>\n      <td>17926</td>\n    </tr>\n    <tr>\n      <th>407245</th>\n      <td>[957446.865359]</td>\n      <td>08:27:54:006143</td>\n      <td>PF</td>\n      <td>20454002688</td>\n      <td>18446744072506569815</td>\n      <td>17926</td>\n    </tr>\n    <tr>\n      <th>407246</th>\n      <td>[957446.865362]</td>\n      <td>08:27:54:006146</td>\n      <td>PF</td>\n      <td>20454006784</td>\n      <td>18446744072506569815</td>\n      <td>17926</td>\n    </tr>\n  </tbody>\n</table>\n<p>9131832 rows × 6 columns</p>\n</div>"
     },
     "metadata": {},
     "execution_count": 3
    }
   ],
   "source": [
    "original_dataset = pd.concat([pd.read_csv(\"../로그 데이터/GEMM_STREAM/GEMM_STREAM/gemm_stream_generic_generic2_{}.csv\".format(i), dtype=np.object) for i in range(1, 10)], axis=0)\n",
    "original_dataset"
   ]
  },
  {
   "cell_type": "code",
   "execution_count": 4,
   "metadata": {},
   "outputs": [
    {
     "output_type": "execute_result",
     "data": {
      "text/plain": [
       "                gpa                   rip\n",
       "0         988827648  18446744072452043863\n",
       "1         705122304  18446744072452043863\n",
       "2         705122304  18446744072452043863\n",
       "3        1227321344  18446744072452043863\n",
       "4        1227321344  18446744072452043863\n",
       "...             ...                   ...\n",
       "407242  20453990400  18446744072506569815\n",
       "407243  20453994496  18446744072506569815\n",
       "407244  20453998592  18446744072506569815\n",
       "407245  20454002688  18446744072506569815\n",
       "407246  20454006784  18446744072506569815\n",
       "\n",
       "[9131603 rows x 2 columns]"
      ],
      "text/html": "<div>\n<style scoped>\n    .dataframe tbody tr th:only-of-type {\n        vertical-align: middle;\n    }\n\n    .dataframe tbody tr th {\n        vertical-align: top;\n    }\n\n    .dataframe thead th {\n        text-align: right;\n    }\n</style>\n<table border=\"1\" class=\"dataframe\">\n  <thead>\n    <tr style=\"text-align: right;\">\n      <th></th>\n      <th>gpa</th>\n      <th>rip</th>\n    </tr>\n  </thead>\n  <tbody>\n    <tr>\n      <th>0</th>\n      <td>988827648</td>\n      <td>18446744072452043863</td>\n    </tr>\n    <tr>\n      <th>1</th>\n      <td>705122304</td>\n      <td>18446744072452043863</td>\n    </tr>\n    <tr>\n      <th>2</th>\n      <td>705122304</td>\n      <td>18446744072452043863</td>\n    </tr>\n    <tr>\n      <th>3</th>\n      <td>1227321344</td>\n      <td>18446744072452043863</td>\n    </tr>\n    <tr>\n      <th>4</th>\n      <td>1227321344</td>\n      <td>18446744072452043863</td>\n    </tr>\n    <tr>\n      <th>...</th>\n      <td>...</td>\n      <td>...</td>\n    </tr>\n    <tr>\n      <th>407242</th>\n      <td>20453990400</td>\n      <td>18446744072506569815</td>\n    </tr>\n    <tr>\n      <th>407243</th>\n      <td>20453994496</td>\n      <td>18446744072506569815</td>\n    </tr>\n    <tr>\n      <th>407244</th>\n      <td>20453998592</td>\n      <td>18446744072506569815</td>\n    </tr>\n    <tr>\n      <th>407245</th>\n      <td>20454002688</td>\n      <td>18446744072506569815</td>\n    </tr>\n    <tr>\n      <th>407246</th>\n      <td>20454006784</td>\n      <td>18446744072506569815</td>\n    </tr>\n  </tbody>\n</table>\n<p>9131603 rows × 2 columns</p>\n</div>"
     },
     "metadata": {},
     "execution_count": 4
    }
   ],
   "source": [
    "original_dataset = original_dataset[[\"gpa\", \"rip\"]].dropna()       # rip for PCs\n",
    "original_dataset"
   ]
  },
  {
   "cell_type": "markdown",
   "metadata": {},
   "source": [
    "## Dataset Processing Functions"
   ]
  },
  {
   "cell_type": "code",
   "execution_count": 5,
   "metadata": {},
   "outputs": [],
   "source": [
    "class CalculateDelta(TransformerMixin):\n",
    "    def __init__(self):\n",
    "        pass\n",
    "\n",
    "    def fit(self, X, y=None):\n",
    "        return self\n",
    "        \n",
    "    def transform(self, X, y=None):\n",
    "        X_transformed = X[:-1] - X[1:]\n",
    "        # In case of unsigned types, change its type to string type\n",
    "        if X_transformed.dtype in [np.uint8, np.uint16, np.uint32, np.uint64]:\n",
    "            X_transformed = X_transformed.astype(np.string_)\n",
    "        return X_transformed\n",
    "\n",
    "    def inverse_transform(self, X, y=None):     # Just for test_pipeline.inverse_transform()\n",
    "        return X"
   ]
  },
  {
   "cell_type": "markdown",
   "metadata": {},
   "source": [
    "## Process Train/Validation Dataset"
   ]
  },
  {
   "cell_type": "code",
   "execution_count": 6,
   "metadata": {},
   "outputs": [],
   "source": [
    "# Train / Val / Test Ratio : 70% / 15% / 15%\n",
    "train_val_set, test_set = train_test_split(original_dataset, test_size=0.15, shuffle=False)\n",
    "#train_set, val_set = train_test_split(train_val_set, test_size=0.2, shuffle=False)"
   ]
  },
  {
   "cell_type": "code",
   "execution_count": 7,
   "metadata": {},
   "outputs": [],
   "source": [
    "train_val_gpa = train_val_set[\"gpa\"].values.astype(np.int64)\n",
    "train_val_rip = train_val_set[\"rip\"].values.astype(np.uint64)      # As uint64 not exists in pandas\n",
    "\n",
    "test_gpa = test_set[\"gpa\"].values.astype(np.int64)\n",
    "test_rip = test_set[\"rip\"].values.astype(np.uint64)      # As uint64 not exists in pandas"
   ]
  },
  {
   "cell_type": "code",
   "execution_count": 8,
   "metadata": {},
   "outputs": [],
   "source": [
    "calculate_delta = CalculateDelta()"
   ]
  },
  {
   "source": [
    "processed_train_val_gpa = calculate_delta.fit_transform(train_val_gpa.copy())\n",
    "processed_train_val_gpa"
   ],
   "cell_type": "code",
   "metadata": {},
   "execution_count": 9,
   "outputs": [
    {
     "output_type": "execute_result",
     "data": {
      "text/plain": [
       "array([ 283705344,          0, -522199040, ...,  202375168,          0,\n",
       "       -143433728], dtype=int64)"
      ]
     },
     "metadata": {},
     "execution_count": 9
    }
   ]
  },
  {
   "cell_type": "code",
   "execution_count": 10,
   "metadata": {
    "tags": []
   },
   "outputs": [
    {
     "output_type": "execute_result",
     "data": {
      "text/plain": [
       "array([b'0', b'0', b'0', ..., b'0', b'0', b'0'], dtype='|S20')"
      ]
     },
     "metadata": {},
     "execution_count": 10
    }
   ],
   "source": [
    "processed_train_val_rip = calculate_delta.transform(train_val_rip)\n",
    "processed_train_val_rip"
   ]
  },
  {
   "cell_type": "code",
   "execution_count": 11,
   "metadata": {},
   "outputs": [
    {
     "output_type": "execute_result",
     "data": {
      "text/plain": [
       "(-4096          2279684\n",
       "  0             1414252\n",
       " -1638400        169636\n",
       " -1896448         72617\n",
       " -8192            41617\n",
       "                 ...   \n",
       " -3494043644          1\n",
       " -490897392           1\n",
       " -7745351680          1\n",
       "  4063200             1\n",
       "  1425715200          1\n",
       " Length: 1124931, dtype: int64,\n",
       " b'0'                       5424746\n",
       " b'18446744073709551604'     241034\n",
       " b'18446744073709551605'     131801\n",
       " b'35'                       114156\n",
       " b'12'                        85491\n",
       "                             ...   \n",
       " b'18446744073574749381'          1\n",
       " b'45586976695614'                1\n",
       " b'18446744073709196551'          1\n",
       " b'18446744073709542812'          1\n",
       " b'865040'                        1\n",
       " Length: 63512, dtype: int64)"
      ]
     },
     "metadata": {},
     "execution_count": 11
    }
   ],
   "source": [
    "pd.Series(processed_train_val_gpa).value_counts(), pd.Series(processed_train_val_rip).value_counts()"
   ]
  },
  {
   "cell_type": "code",
   "execution_count": 12,
   "metadata": {},
   "outputs": [
    {
     "output_type": "execute_result",
     "data": {
      "text/plain": [
       "(1        865165\n",
       " 2        114501\n",
       " 3         44038\n",
       " 4         23992\n",
       " 5         15488\n",
       "           ...  \n",
       " 310           1\n",
       " 13616         1\n",
       " 6452          1\n",
       " 311           1\n",
       " 1019          1\n",
       " Length: 869, dtype: int64,\n",
       " 1          46006\n",
       " 2           6986\n",
       " 3           2698\n",
       " 4           1480\n",
       " 5            983\n",
       "            ...  \n",
       " 1074           1\n",
       " 5424746        1\n",
       " 1650           1\n",
       " 2002           1\n",
       " 303            1\n",
       " Length: 608, dtype: int64)"
      ]
     },
     "metadata": {},
     "execution_count": 12
    }
   ],
   "source": [
    "# Index = Occurence | Column = Number of included categories\n",
    "pd.Series(processed_train_val_gpa).value_counts().value_counts(), pd.Series(processed_train_val_rip).value_counts().value_counts()"
   ]
  },
  {
   "source": [
    "## gpa : N / P ratio"
   ],
   "cell_type": "markdown",
   "metadata": {}
  },
  {
   "cell_type": "code",
   "execution_count": 13,
   "metadata": {},
   "outputs": [],
   "source": [
    "gpa_data = []\n",
    "for gpa_threshold in range(30):\n",
    "    row = []\n",
    "    \n",
    "    row.append(gpa_threshold)\n",
    "    if gpa_threshold == 0:\n",
    "        gpa_p = len(pd.Series(processed_train_val_gpa).value_counts())\n",
    "        previous_gpa_p = gpa_p\n",
    "        previous_accuracy = 0\n",
    "    else:\n",
    "        gpa_p = len(pd.Series(processed_train_val_gpa).value_counts()) - sum(pd.Series(processed_train_val_gpa).value_counts().value_counts().loc[list(range(1, gpa_threshold+1))].values) + 1\n",
    "    row.append(gpa_p)\n",
    "    row.append(previous_gpa_p - gpa_p)\n",
    "    previous_gpa_p = gpa_p\n",
    "    row.append(processed_train_val_gpa.shape[0] / gpa_p)\n",
    "    accuracy = sum(pd.Series(processed_train_val_gpa).value_counts().value_counts().loc[list(range(1, gpa_threshold+1))].values * pd.Series(processed_train_val_gpa).value_counts().value_counts().loc[list(range(1, gpa_threshold+1))].index) / (processed_train_val_gpa.shape[0])\n",
    "    row.append(accuracy)\n",
    "    row.append(accuracy - previous_accuracy)\n",
    "    previous_accuracy = accuracy\n",
    "\n",
    "    gpa_data.append(row)\n",
    "\n",
    "df_gpa_threshold = pd.DataFrame(data=gpa_data, columns=[\"threshold\", \"p\", \"p'\", \"n/p ratio\", \"upper limit for train/val accuracy\", \"accuracy'\"])"
   ]
  },
  {
   "cell_type": "code",
   "execution_count": 14,
   "metadata": {},
   "outputs": [
    {
     "output_type": "execute_result",
     "data": {
      "text/plain": [
       "    threshold        p      p'    n/p ratio  \\\n",
       "0           0  1124931       0     6.899855   \n",
       "1           1   259767  865164    29.880089   \n",
       "2           2   145266  114501    53.432056   \n",
       "3           3   101228   44038    76.677016   \n",
       "4           4    77236   23992   100.495378   \n",
       "5           5    61748   15488   125.702225   \n",
       "6           6    50455   11293   153.837301   \n",
       "7           7    41906    8549   185.220756   \n",
       "8           8    35364    6542   219.484815   \n",
       "9           9    30289    5075   256.260061   \n",
       "10         10    26346    3943   294.612503   \n",
       "11         11    23123    3223   335.677075   \n",
       "12         12    20592    2531   376.935752   \n",
       "13         13    18327    2265   423.520543   \n",
       "14         14    16597    1730   467.666506   \n",
       "15         15    15051    1546   515.704006   \n",
       "16         16    13764    1287   563.924804   \n",
       "17         17    12738    1026   609.346915   \n",
       "18         18    11811     927   657.172212   \n",
       "19         19    10975     836   707.231071   \n",
       "20         20    10269     706   755.853637   \n",
       "21         21     9649     620   804.421287   \n",
       "22         22     9065     584   856.245008   \n",
       "23         23     8528     537   910.161937   \n",
       "24         24     8069     459   961.935928   \n",
       "25         25     7661     408  1013.165514   \n",
       "26         26     7305     356  1062.540862   \n",
       "27         27     6966     339  1114.249354   \n",
       "28         28     6647     319  1167.723936   \n",
       "29         29     6345     302  1223.303546   \n",
       "\n",
       "    upper limit for train/val accuracy  accuracy'  \n",
       "0                             0.000000   0.000000  \n",
       "1                             0.111464   0.111464  \n",
       "2                             0.140967   0.029503  \n",
       "3                             0.157988   0.017021  \n",
       "4                             0.170352   0.012364  \n",
       "5                             0.180329   0.009977  \n",
       "6                             0.189059   0.008730  \n",
       "7                             0.196769   0.007710  \n",
       "8                             0.203511   0.006743  \n",
       "9                             0.209396   0.005885  \n",
       "10                            0.214476   0.005080  \n",
       "11                            0.219043   0.004568  \n",
       "12                            0.222956   0.003913  \n",
       "13                            0.226750   0.003794  \n",
       "14                            0.229870   0.003120  \n",
       "15                            0.232858   0.002988  \n",
       "16                            0.235511   0.002653  \n",
       "17                            0.237758   0.002247  \n",
       "18                            0.239908   0.002150  \n",
       "19                            0.241954   0.002046  \n",
       "20                            0.243773   0.001819  \n",
       "21                            0.245451   0.001677  \n",
       "22                            0.247106   0.001655  \n",
       "23                            0.248697   0.001591  \n",
       "24                            0.250117   0.001419  \n",
       "25                            0.251431   0.001314  \n",
       "26                            0.252623   0.001192  \n",
       "27                            0.253802   0.001179  \n",
       "28                            0.254953   0.001151  \n",
       "29                            0.256081   0.001128  "
      ],
      "text/html": "<div>\n<style scoped>\n    .dataframe tbody tr th:only-of-type {\n        vertical-align: middle;\n    }\n\n    .dataframe tbody tr th {\n        vertical-align: top;\n    }\n\n    .dataframe thead th {\n        text-align: right;\n    }\n</style>\n<table border=\"1\" class=\"dataframe\">\n  <thead>\n    <tr style=\"text-align: right;\">\n      <th></th>\n      <th>threshold</th>\n      <th>p</th>\n      <th>p'</th>\n      <th>n/p ratio</th>\n      <th>upper limit for train/val accuracy</th>\n      <th>accuracy'</th>\n    </tr>\n  </thead>\n  <tbody>\n    <tr>\n      <th>0</th>\n      <td>0</td>\n      <td>1124931</td>\n      <td>0</td>\n      <td>6.899855</td>\n      <td>0.000000</td>\n      <td>0.000000</td>\n    </tr>\n    <tr>\n      <th>1</th>\n      <td>1</td>\n      <td>259767</td>\n      <td>865164</td>\n      <td>29.880089</td>\n      <td>0.111464</td>\n      <td>0.111464</td>\n    </tr>\n    <tr>\n      <th>2</th>\n      <td>2</td>\n      <td>145266</td>\n      <td>114501</td>\n      <td>53.432056</td>\n      <td>0.140967</td>\n      <td>0.029503</td>\n    </tr>\n    <tr>\n      <th>3</th>\n      <td>3</td>\n      <td>101228</td>\n      <td>44038</td>\n      <td>76.677016</td>\n      <td>0.157988</td>\n      <td>0.017021</td>\n    </tr>\n    <tr>\n      <th>4</th>\n      <td>4</td>\n      <td>77236</td>\n      <td>23992</td>\n      <td>100.495378</td>\n      <td>0.170352</td>\n      <td>0.012364</td>\n    </tr>\n    <tr>\n      <th>5</th>\n      <td>5</td>\n      <td>61748</td>\n      <td>15488</td>\n      <td>125.702225</td>\n      <td>0.180329</td>\n      <td>0.009977</td>\n    </tr>\n    <tr>\n      <th>6</th>\n      <td>6</td>\n      <td>50455</td>\n      <td>11293</td>\n      <td>153.837301</td>\n      <td>0.189059</td>\n      <td>0.008730</td>\n    </tr>\n    <tr>\n      <th>7</th>\n      <td>7</td>\n      <td>41906</td>\n      <td>8549</td>\n      <td>185.220756</td>\n      <td>0.196769</td>\n      <td>0.007710</td>\n    </tr>\n    <tr>\n      <th>8</th>\n      <td>8</td>\n      <td>35364</td>\n      <td>6542</td>\n      <td>219.484815</td>\n      <td>0.203511</td>\n      <td>0.006743</td>\n    </tr>\n    <tr>\n      <th>9</th>\n      <td>9</td>\n      <td>30289</td>\n      <td>5075</td>\n      <td>256.260061</td>\n      <td>0.209396</td>\n      <td>0.005885</td>\n    </tr>\n    <tr>\n      <th>10</th>\n      <td>10</td>\n      <td>26346</td>\n      <td>3943</td>\n      <td>294.612503</td>\n      <td>0.214476</td>\n      <td>0.005080</td>\n    </tr>\n    <tr>\n      <th>11</th>\n      <td>11</td>\n      <td>23123</td>\n      <td>3223</td>\n      <td>335.677075</td>\n      <td>0.219043</td>\n      <td>0.004568</td>\n    </tr>\n    <tr>\n      <th>12</th>\n      <td>12</td>\n      <td>20592</td>\n      <td>2531</td>\n      <td>376.935752</td>\n      <td>0.222956</td>\n      <td>0.003913</td>\n    </tr>\n    <tr>\n      <th>13</th>\n      <td>13</td>\n      <td>18327</td>\n      <td>2265</td>\n      <td>423.520543</td>\n      <td>0.226750</td>\n      <td>0.003794</td>\n    </tr>\n    <tr>\n      <th>14</th>\n      <td>14</td>\n      <td>16597</td>\n      <td>1730</td>\n      <td>467.666506</td>\n      <td>0.229870</td>\n      <td>0.003120</td>\n    </tr>\n    <tr>\n      <th>15</th>\n      <td>15</td>\n      <td>15051</td>\n      <td>1546</td>\n      <td>515.704006</td>\n      <td>0.232858</td>\n      <td>0.002988</td>\n    </tr>\n    <tr>\n      <th>16</th>\n      <td>16</td>\n      <td>13764</td>\n      <td>1287</td>\n      <td>563.924804</td>\n      <td>0.235511</td>\n      <td>0.002653</td>\n    </tr>\n    <tr>\n      <th>17</th>\n      <td>17</td>\n      <td>12738</td>\n      <td>1026</td>\n      <td>609.346915</td>\n      <td>0.237758</td>\n      <td>0.002247</td>\n    </tr>\n    <tr>\n      <th>18</th>\n      <td>18</td>\n      <td>11811</td>\n      <td>927</td>\n      <td>657.172212</td>\n      <td>0.239908</td>\n      <td>0.002150</td>\n    </tr>\n    <tr>\n      <th>19</th>\n      <td>19</td>\n      <td>10975</td>\n      <td>836</td>\n      <td>707.231071</td>\n      <td>0.241954</td>\n      <td>0.002046</td>\n    </tr>\n    <tr>\n      <th>20</th>\n      <td>20</td>\n      <td>10269</td>\n      <td>706</td>\n      <td>755.853637</td>\n      <td>0.243773</td>\n      <td>0.001819</td>\n    </tr>\n    <tr>\n      <th>21</th>\n      <td>21</td>\n      <td>9649</td>\n      <td>620</td>\n      <td>804.421287</td>\n      <td>0.245451</td>\n      <td>0.001677</td>\n    </tr>\n    <tr>\n      <th>22</th>\n      <td>22</td>\n      <td>9065</td>\n      <td>584</td>\n      <td>856.245008</td>\n      <td>0.247106</td>\n      <td>0.001655</td>\n    </tr>\n    <tr>\n      <th>23</th>\n      <td>23</td>\n      <td>8528</td>\n      <td>537</td>\n      <td>910.161937</td>\n      <td>0.248697</td>\n      <td>0.001591</td>\n    </tr>\n    <tr>\n      <th>24</th>\n      <td>24</td>\n      <td>8069</td>\n      <td>459</td>\n      <td>961.935928</td>\n      <td>0.250117</td>\n      <td>0.001419</td>\n    </tr>\n    <tr>\n      <th>25</th>\n      <td>25</td>\n      <td>7661</td>\n      <td>408</td>\n      <td>1013.165514</td>\n      <td>0.251431</td>\n      <td>0.001314</td>\n    </tr>\n    <tr>\n      <th>26</th>\n      <td>26</td>\n      <td>7305</td>\n      <td>356</td>\n      <td>1062.540862</td>\n      <td>0.252623</td>\n      <td>0.001192</td>\n    </tr>\n    <tr>\n      <th>27</th>\n      <td>27</td>\n      <td>6966</td>\n      <td>339</td>\n      <td>1114.249354</td>\n      <td>0.253802</td>\n      <td>0.001179</td>\n    </tr>\n    <tr>\n      <th>28</th>\n      <td>28</td>\n      <td>6647</td>\n      <td>319</td>\n      <td>1167.723936</td>\n      <td>0.254953</td>\n      <td>0.001151</td>\n    </tr>\n    <tr>\n      <th>29</th>\n      <td>29</td>\n      <td>6345</td>\n      <td>302</td>\n      <td>1223.303546</td>\n      <td>0.256081</td>\n      <td>0.001128</td>\n    </tr>\n  </tbody>\n</table>\n</div>"
     },
     "metadata": {},
     "execution_count": 14
    }
   ],
   "source": [
    "df_gpa_threshold"
   ]
  },
  {
   "source": [
    "## rip : N / P ratio"
   ],
   "cell_type": "markdown",
   "metadata": {}
  },
  {
   "cell_type": "code",
   "execution_count": 15,
   "metadata": {},
   "outputs": [],
   "source": [
    "rip_data = []\n",
    "for rip_threshold in range(30):\n",
    "    row = []\n",
    "    \n",
    "    row.append(rip_threshold)\n",
    "    if rip_threshold == 0:\n",
    "        rip_p = len(pd.Series(processed_train_val_rip).value_counts())\n",
    "        previous_rip_p = rip_p\n",
    "        previous_accuracy = 0\n",
    "    else:\n",
    "        rip_p = len(pd.Series(processed_train_val_rip).value_counts()) - sum(pd.Series(processed_train_val_rip).value_counts().value_counts().loc[list(range(1, rip_threshold+1))].values) + 1\n",
    "    row.append(rip_p)\n",
    "    row.append(previous_rip_p - rip_p)\n",
    "    previous_rip_p = rip_p\n",
    "    row.append(processed_train_val_rip.shape[0] / rip_p)\n",
    "    accuracy = sum(pd.Series(processed_train_val_rip).value_counts().value_counts().loc[list(range(1, rip_threshold+1))].values * pd.Series(processed_train_val_rip).value_counts().value_counts().loc[list(range(1, rip_threshold+1))].index) / (processed_train_val_rip.shape[0])\n",
    "    row.append(accuracy)\n",
    "    row.append(accuracy - previous_accuracy)\n",
    "    previous_accuracy = accuracy\n",
    "\n",
    "    rip_data.append(row)\n",
    "\n",
    "df_rip_threshold = pd.DataFrame(data=rip_data, columns=[\"threshold\", \"p\", \"p'\", \"n/p ratio\", \"upper limit for train/val accuracy\", \"accuracy'\"])"
   ]
  },
  {
   "cell_type": "code",
   "execution_count": 16,
   "metadata": {},
   "outputs": [
    {
     "output_type": "execute_result",
     "data": {
      "text/plain": [
       "    threshold      p     p'    n/p ratio  upper limit for train/val accuracy  \\\n",
       "0           0  63512      0   122.210937                            0.000000   \n",
       "1           1  17507  46005   443.357571                            0.005927   \n",
       "2           2  10521   6986   737.749358                            0.007727   \n",
       "3           3   7823   2698   992.184712                            0.008770   \n",
       "4           4   6343   1480  1223.689264                            0.009533   \n",
       "5           5   5360    983  1448.108396                            0.010166   \n",
       "6           6   4661    699  1665.278052                            0.010706   \n",
       "7           7   4174    487  1859.573790                            0.011146   \n",
       "8           8   3800    374  2042.595000                            0.011531   \n",
       "9           9   3490    310  2224.028940                            0.011890   \n",
       "10         10   3237    253  2397.856348                            0.012216   \n",
       "11         11   3043    194  2550.726586                            0.012491   \n",
       "12         12   2863    180  2711.093608                            0.012770   \n",
       "13         13   2690    173  2885.450186                            0.013059   \n",
       "14         14   2544    146  3051.045991                            0.013323   \n",
       "15         15   2432    112  3191.554688                            0.013539   \n",
       "16         16   2333     99  3326.987141                            0.013743   \n",
       "17         17   2236     97  3471.315295                            0.013956   \n",
       "18         18   2139     97  3628.733520                            0.014181   \n",
       "19         19   2069     70  3751.503625                            0.014352   \n",
       "20         20   2006     63  3869.322532                            0.014514   \n",
       "21         21   1947     59  3986.574730                            0.014674   \n",
       "22         22   1885     62  4117.698143                            0.014850   \n",
       "23         23   1826     59  4250.745345                            0.015024   \n",
       "24         24   1765     61  4397.654958                            0.015213   \n",
       "25         25   1723     42  4504.852583                            0.015348   \n",
       "26         26   1654     69  4692.781741                            0.015580   \n",
       "27         27   1609     45  4824.027968                            0.015736   \n",
       "28         28   1563     46  4966.001919                            0.015902   \n",
       "29         29   1512     51  5133.505952                            0.016093   \n",
       "\n",
       "    accuracy'  \n",
       "0    0.000000  \n",
       "1    0.005927  \n",
       "2    0.001800  \n",
       "3    0.001043  \n",
       "4    0.000763  \n",
       "5    0.000633  \n",
       "6    0.000540  \n",
       "7    0.000439  \n",
       "8    0.000385  \n",
       "9    0.000359  \n",
       "10   0.000326  \n",
       "11   0.000275  \n",
       "12   0.000278  \n",
       "13   0.000290  \n",
       "14   0.000263  \n",
       "15   0.000216  \n",
       "16   0.000204  \n",
       "17   0.000212  \n",
       "18   0.000225  \n",
       "19   0.000171  \n",
       "20   0.000162  \n",
       "21   0.000160  \n",
       "22   0.000176  \n",
       "23   0.000175  \n",
       "24   0.000189  \n",
       "25   0.000135  \n",
       "26   0.000231  \n",
       "27   0.000157  \n",
       "28   0.000166  \n",
       "29   0.000191  "
      ],
      "text/html": "<div>\n<style scoped>\n    .dataframe tbody tr th:only-of-type {\n        vertical-align: middle;\n    }\n\n    .dataframe tbody tr th {\n        vertical-align: top;\n    }\n\n    .dataframe thead th {\n        text-align: right;\n    }\n</style>\n<table border=\"1\" class=\"dataframe\">\n  <thead>\n    <tr style=\"text-align: right;\">\n      <th></th>\n      <th>threshold</th>\n      <th>p</th>\n      <th>p'</th>\n      <th>n/p ratio</th>\n      <th>upper limit for train/val accuracy</th>\n      <th>accuracy'</th>\n    </tr>\n  </thead>\n  <tbody>\n    <tr>\n      <th>0</th>\n      <td>0</td>\n      <td>63512</td>\n      <td>0</td>\n      <td>122.210937</td>\n      <td>0.000000</td>\n      <td>0.000000</td>\n    </tr>\n    <tr>\n      <th>1</th>\n      <td>1</td>\n      <td>17507</td>\n      <td>46005</td>\n      <td>443.357571</td>\n      <td>0.005927</td>\n      <td>0.005927</td>\n    </tr>\n    <tr>\n      <th>2</th>\n      <td>2</td>\n      <td>10521</td>\n      <td>6986</td>\n      <td>737.749358</td>\n      <td>0.007727</td>\n      <td>0.001800</td>\n    </tr>\n    <tr>\n      <th>3</th>\n      <td>3</td>\n      <td>7823</td>\n      <td>2698</td>\n      <td>992.184712</td>\n      <td>0.008770</td>\n      <td>0.001043</td>\n    </tr>\n    <tr>\n      <th>4</th>\n      <td>4</td>\n      <td>6343</td>\n      <td>1480</td>\n      <td>1223.689264</td>\n      <td>0.009533</td>\n      <td>0.000763</td>\n    </tr>\n    <tr>\n      <th>5</th>\n      <td>5</td>\n      <td>5360</td>\n      <td>983</td>\n      <td>1448.108396</td>\n      <td>0.010166</td>\n      <td>0.000633</td>\n    </tr>\n    <tr>\n      <th>6</th>\n      <td>6</td>\n      <td>4661</td>\n      <td>699</td>\n      <td>1665.278052</td>\n      <td>0.010706</td>\n      <td>0.000540</td>\n    </tr>\n    <tr>\n      <th>7</th>\n      <td>7</td>\n      <td>4174</td>\n      <td>487</td>\n      <td>1859.573790</td>\n      <td>0.011146</td>\n      <td>0.000439</td>\n    </tr>\n    <tr>\n      <th>8</th>\n      <td>8</td>\n      <td>3800</td>\n      <td>374</td>\n      <td>2042.595000</td>\n      <td>0.011531</td>\n      <td>0.000385</td>\n    </tr>\n    <tr>\n      <th>9</th>\n      <td>9</td>\n      <td>3490</td>\n      <td>310</td>\n      <td>2224.028940</td>\n      <td>0.011890</td>\n      <td>0.000359</td>\n    </tr>\n    <tr>\n      <th>10</th>\n      <td>10</td>\n      <td>3237</td>\n      <td>253</td>\n      <td>2397.856348</td>\n      <td>0.012216</td>\n      <td>0.000326</td>\n    </tr>\n    <tr>\n      <th>11</th>\n      <td>11</td>\n      <td>3043</td>\n      <td>194</td>\n      <td>2550.726586</td>\n      <td>0.012491</td>\n      <td>0.000275</td>\n    </tr>\n    <tr>\n      <th>12</th>\n      <td>12</td>\n      <td>2863</td>\n      <td>180</td>\n      <td>2711.093608</td>\n      <td>0.012770</td>\n      <td>0.000278</td>\n    </tr>\n    <tr>\n      <th>13</th>\n      <td>13</td>\n      <td>2690</td>\n      <td>173</td>\n      <td>2885.450186</td>\n      <td>0.013059</td>\n      <td>0.000290</td>\n    </tr>\n    <tr>\n      <th>14</th>\n      <td>14</td>\n      <td>2544</td>\n      <td>146</td>\n      <td>3051.045991</td>\n      <td>0.013323</td>\n      <td>0.000263</td>\n    </tr>\n    <tr>\n      <th>15</th>\n      <td>15</td>\n      <td>2432</td>\n      <td>112</td>\n      <td>3191.554688</td>\n      <td>0.013539</td>\n      <td>0.000216</td>\n    </tr>\n    <tr>\n      <th>16</th>\n      <td>16</td>\n      <td>2333</td>\n      <td>99</td>\n      <td>3326.987141</td>\n      <td>0.013743</td>\n      <td>0.000204</td>\n    </tr>\n    <tr>\n      <th>17</th>\n      <td>17</td>\n      <td>2236</td>\n      <td>97</td>\n      <td>3471.315295</td>\n      <td>0.013956</td>\n      <td>0.000212</td>\n    </tr>\n    <tr>\n      <th>18</th>\n      <td>18</td>\n      <td>2139</td>\n      <td>97</td>\n      <td>3628.733520</td>\n      <td>0.014181</td>\n      <td>0.000225</td>\n    </tr>\n    <tr>\n      <th>19</th>\n      <td>19</td>\n      <td>2069</td>\n      <td>70</td>\n      <td>3751.503625</td>\n      <td>0.014352</td>\n      <td>0.000171</td>\n    </tr>\n    <tr>\n      <th>20</th>\n      <td>20</td>\n      <td>2006</td>\n      <td>63</td>\n      <td>3869.322532</td>\n      <td>0.014514</td>\n      <td>0.000162</td>\n    </tr>\n    <tr>\n      <th>21</th>\n      <td>21</td>\n      <td>1947</td>\n      <td>59</td>\n      <td>3986.574730</td>\n      <td>0.014674</td>\n      <td>0.000160</td>\n    </tr>\n    <tr>\n      <th>22</th>\n      <td>22</td>\n      <td>1885</td>\n      <td>62</td>\n      <td>4117.698143</td>\n      <td>0.014850</td>\n      <td>0.000176</td>\n    </tr>\n    <tr>\n      <th>23</th>\n      <td>23</td>\n      <td>1826</td>\n      <td>59</td>\n      <td>4250.745345</td>\n      <td>0.015024</td>\n      <td>0.000175</td>\n    </tr>\n    <tr>\n      <th>24</th>\n      <td>24</td>\n      <td>1765</td>\n      <td>61</td>\n      <td>4397.654958</td>\n      <td>0.015213</td>\n      <td>0.000189</td>\n    </tr>\n    <tr>\n      <th>25</th>\n      <td>25</td>\n      <td>1723</td>\n      <td>42</td>\n      <td>4504.852583</td>\n      <td>0.015348</td>\n      <td>0.000135</td>\n    </tr>\n    <tr>\n      <th>26</th>\n      <td>26</td>\n      <td>1654</td>\n      <td>69</td>\n      <td>4692.781741</td>\n      <td>0.015580</td>\n      <td>0.000231</td>\n    </tr>\n    <tr>\n      <th>27</th>\n      <td>27</td>\n      <td>1609</td>\n      <td>45</td>\n      <td>4824.027968</td>\n      <td>0.015736</td>\n      <td>0.000157</td>\n    </tr>\n    <tr>\n      <th>28</th>\n      <td>28</td>\n      <td>1563</td>\n      <td>46</td>\n      <td>4966.001919</td>\n      <td>0.015902</td>\n      <td>0.000166</td>\n    </tr>\n    <tr>\n      <th>29</th>\n      <td>29</td>\n      <td>1512</td>\n      <td>51</td>\n      <td>5133.505952</td>\n      <td>0.016093</td>\n      <td>0.000191</td>\n    </tr>\n  </tbody>\n</table>\n</div>"
     },
     "metadata": {},
     "execution_count": 16
    }
   ],
   "source": [
    "df_rip_threshold"
   ]
  },
  {
   "source": [
    "## Save Analysis "
   ],
   "cell_type": "markdown",
   "metadata": {}
  },
  {
   "cell_type": "code",
   "execution_count": 17,
   "metadata": {},
   "outputs": [],
   "source": [
    "df_gpa_threshold.to_csv(\"analysis/{}_gpa_analysis.csv\".format(model_name), index=False)\n",
    "df_rip_threshold.to_csv(\"analysis/{}_rip_analysis.csv\".format(model_name), index=False)"
   ]
  },
  {
   "cell_type": "code",
   "execution_count": null,
   "metadata": {},
   "outputs": [],
   "source": []
  }
 ]
}