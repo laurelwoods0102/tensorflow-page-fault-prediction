{
 "metadata": {
  "language_info": {
   "codemirror_mode": {
    "name": "ipython",
    "version": 3
   },
   "file_extension": ".py",
   "mimetype": "text/x-python",
   "name": "python",
   "nbconvert_exporter": "python",
   "pygments_lexer": "ipython3",
   "version": "3.7.6"
  },
  "orig_nbformat": 2,
  "kernelspec": {
   "name": "python376jvsc74a57bd0b3ba2566441a7c06988d0923437866b63cedc61552a5af99d1f4fb67d367b25f",
   "display_name": "Python 3.7.6 64-bit ('base': conda)"
  }
 },
 "nbformat": 4,
 "nbformat_minor": 2,
 "cells": [
  {
   "cell_type": "code",
   "execution_count": 1,
   "metadata": {},
   "outputs": [],
   "source": [
    "import numpy as np\n",
    "import pandas as pd\n",
    "import json\n",
    "import dill"
   ]
  },
  {
   "cell_type": "code",
   "execution_count": 2,
   "metadata": {},
   "outputs": [],
   "source": [
    "model_name = \"GEMM_STREAM\""
   ]
  },
  {
   "cell_type": "code",
   "execution_count": 3,
   "metadata": {},
   "outputs": [],
   "source": [
    "train_set_original = pd.read_csv(\"data/{}_train_set_original.csv\".format(model_name), dtype=np.object)\n",
    "val_set_original = pd.read_csv(\"data/{}_val_set_original.csv\".format(model_name), dtype=np.object)\n",
    "test_set_original = pd.read_csv(\"data/{}_test_set_original.csv\".format(model_name), dtype=np.object)\n",
    "\n",
    "train_set = pd.read_csv(\"data/{}_train_set.csv\".format(model_name))\n",
    "val_set = pd.read_csv(\"data/{}_val_set.csv\".format(model_name))\n",
    "test_set = pd.read_csv(\"data/{}_test_set.csv\".format(model_name))"
   ]
  },
  {
   "cell_type": "code",
   "execution_count": 4,
   "metadata": {},
   "outputs": [],
   "source": [
    "with open(\"static/pipeline_gpa.pkl\", \"rb\") as f:\n",
    "    pipeline_gpa = dill.load(f)\n",
    "\n",
    "with open(\"static/pipeline_rip.pkl\", \"rb\") as f:\n",
    "    pipeline_rip = dill.load(f)"
   ]
  },
  {
   "source": [
    "## Load Vocabulary and Instantiate as dictionary : GPA"
   ],
   "cell_type": "markdown",
   "metadata": {}
  },
  {
   "cell_type": "code",
   "execution_count": 5,
   "metadata": {},
   "outputs": [
    {
     "output_type": "execute_result",
     "data": {
      "text/plain": [
       "array([     -4096,          0,         -1, ...,  157474816, 1917661184,\n",
       "       -726827008], dtype=int64)"
      ]
     },
     "metadata": {},
     "execution_count": 5
    }
   ],
   "source": [
    "vocabulary_gpa = np.genfromtxt(\"static/vocabulary_gpa.csv\", delimiter=\"\\n\", dtype=np.int64)\n",
    "vocabulary_gpa"
   ]
  },
  {
   "cell_type": "code",
   "execution_count": 6,
   "metadata": {},
   "outputs": [],
   "source": [
    "vocabulary_gpa = {v:i for i, v in enumerate(vocabulary_gpa)}"
   ]
  },
  {
   "cell_type": "code",
   "execution_count": 7,
   "metadata": {},
   "outputs": [
    {
     "output_type": "execute_result",
     "data": {
      "text/plain": [
       "{-4096: 0,\n",
       " 0: 1,\n",
       " -1: 2,\n",
       " -1638400: 3,\n",
       " -1896448: 4,\n",
       " -8192: 5,\n",
       " -4060: 6,\n",
       " 6750208: 7,\n",
       " -12288: 8,\n",
       " 333: 9}"
      ]
     },
     "metadata": {},
     "execution_count": 7
    }
   ],
   "source": [
    "dict(list(vocabulary_gpa.items())[:10])"
   ]
  },
  {
   "source": [
    "## Demo : GPA"
   ],
   "cell_type": "markdown",
   "metadata": {}
  },
  {
   "cell_type": "code",
   "execution_count": 8,
   "metadata": {},
   "outputs": [
    {
     "output_type": "execute_result",
     "data": {
      "text/plain": [
       "array([ 988827648,  705122304,  705122304, 1227321344, 1227321344,\n",
       "       1884864512, 1884864512,  576954368,  576954368,  714526720,\n",
       "        714526720,  110542848,  110542848, 1124007936, 1124007936,\n",
       "        337944576,  337944576,  718028800,  718028800, 1236467712,\n",
       "       1236467712, 1564139520, 1656479744, 1181954048, 1181954048,\n",
       "       1826820096, 1826820096, 1560858624, 1560858624, 1440399360],\n",
       "      dtype=int64)"
      ]
     },
     "metadata": {},
     "execution_count": 8
    }
   ],
   "source": [
    "train_original_gpa_sample = train_set_original['gpa'].values[:30].astype(np.float64).astype(np.int64)\n",
    "train_original_gpa_sample"
   ]
  },
  {
   "cell_type": "code",
   "execution_count": 9,
   "metadata": {},
   "outputs": [
    {
     "output_type": "execute_result",
     "data": {
      "text/plain": [
       "array([     2,      1,      2,      1,      2,      1, 121120,      1,\n",
       "       130903,      1,      2,      1,      2,      1,      2,      1,\n",
       "            2,      1,      2,      1,      2,  68102,  18498,      1,\n",
       "            2,      1,      2,      1,  69035])"
      ]
     },
     "metadata": {},
     "execution_count": 9
    }
   ],
   "source": [
    "processed_train_gpa_sample = pipeline_gpa.transform(train_original_gpa_sample)\n",
    "processed_train_gpa_sample"
   ]
  },
  {
   "cell_type": "code",
   "execution_count": 10,
   "metadata": {},
   "outputs": [
    {
     "output_type": "execute_result",
     "data": {
      "text/plain": [
       "array([  283705344,           0,  -522199040,           0,  -657543168,\n",
       "                 0,  1307910144,           0,  -137572352,           0,\n",
       "         603983872,           0, -1013465088,           0,   786063360,\n",
       "                 0,  -380084224,           0,  -518438912,           0,\n",
       "        -327671808,   -92340224,   474525696,           0,  -644866048,\n",
       "                 0,   265961472,           0,   120459264], dtype=int64)"
      ]
     },
     "metadata": {},
     "execution_count": 10
    }
   ],
   "source": [
    "# Delta\n",
    "train_gpa_sample = train_original_gpa_sample[:-1] - train_original_gpa_sample[1:]\n",
    "train_gpa_sample"
   ]
  },
  {
   "cell_type": "code",
   "execution_count": 11,
   "metadata": {},
   "outputs": [
    {
     "output_type": "execute_result",
     "data": {
      "text/plain": [
       "array([        -1,          0,         -1,          0,         -1,\n",
       "                0, 1307910144,          0, -137572352,          0,\n",
       "               -1,          0,         -1,          0,         -1,\n",
       "                0,         -1,          0,         -1,          0,\n",
       "               -1,  -92340224,  474525696,          0,         -1,\n",
       "                0,         -1,          0,  120459264], dtype=int64)"
      ]
     },
     "metadata": {},
     "execution_count": 11
    }
   ],
   "source": [
    "# Note that Irreversible predictions are returned as -1.\n",
    "train_gpa_sample_inverse_transformed = pipeline_gpa.inverse_transform(processed_train_gpa_sample)\n",
    "train_gpa_sample_inverse_transformed"
   ]
  },
  {
   "cell_type": "code",
   "execution_count": 12,
   "metadata": {},
   "outputs": [
    {
     "output_type": "execute_result",
     "data": {
      "text/plain": [
       "(1, 0, 0)"
      ]
     },
     "metadata": {},
     "execution_count": 12
    }
   ],
   "source": [
    "# Processed / Original Delta / Inverse_transformed (= restored from prediction)\n",
    "processed_train_gpa_sample[3], train_gpa_sample[3], train_gpa_sample_inverse_transformed[3]"
   ]
  },
  {
   "cell_type": "code",
   "execution_count": 13,
   "metadata": {},
   "outputs": [
    {
     "output_type": "execute_result",
     "data": {
      "text/plain": [
       "128"
      ]
     },
     "metadata": {},
     "execution_count": 13
    }
   ],
   "source": [
    "vocabulary_gpa[-94208]"
   ]
  },
  {
   "cell_type": "code",
   "execution_count": 14,
   "metadata": {},
   "outputs": [
    {
     "output_type": "execute_result",
     "data": {
      "text/plain": [
       "(68102, -92340224, -92340224)"
      ]
     },
     "metadata": {},
     "execution_count": 14
    }
   ],
   "source": [
    "# Processed / Original Delta / Inverse_transformed (= restored from prediction)\n",
    "processed_train_gpa_sample[21], train_gpa_sample[21], train_gpa_sample_inverse_transformed[21]"
   ]
  },
  {
   "cell_type": "code",
   "execution_count": 15,
   "metadata": {},
   "outputs": [
    {
     "output_type": "execute_result",
     "data": {
      "text/plain": [
       "2"
      ]
     },
     "metadata": {},
     "execution_count": 15
    }
   ],
   "source": [
    "vocabulary_gpa[-1]"
   ]
  },
  {
   "source": [
    "## Interpretation\n",
    "This indicates that 4712300544 is pruned and substituted to -1.  \n",
    "Also, -1 is integer-indexed by 1 and this indicates that -1 is secondly frequent vocabulary. (begin with 0)"
   ],
   "cell_type": "markdown",
   "metadata": {}
  },
  {
   "source": [
    "## Load Vocabulary and Instantiate as dictionary : RIP"
   ],
   "cell_type": "markdown",
   "metadata": {}
  },
  {
   "cell_type": "code",
   "execution_count": 16,
   "metadata": {},
   "outputs": [
    {
     "output_type": "execute_result",
     "data": {
      "text/plain": [
       "array([                   0, 18446744073709551604, 18446744073709551605,\n",
       "       ..., 18446649486043795977,              6396599,\n",
       "            140024691984546], dtype=uint64)"
      ]
     },
     "metadata": {},
     "execution_count": 16
    }
   ],
   "source": [
    "vocabulary_rip = np.genfromtxt(\"static/vocabulary_rip.csv\", delimiter=\"\\n\", dtype=np.uint64)\n",
    "vocabulary_rip"
   ]
  },
  {
   "cell_type": "code",
   "execution_count": 17,
   "metadata": {},
   "outputs": [],
   "source": [
    "vocabulary_rip = {v:i for i, v in enumerate(vocabulary_rip)}"
   ]
  },
  {
   "cell_type": "code",
   "execution_count": 18,
   "metadata": {},
   "outputs": [
    {
     "output_type": "execute_result",
     "data": {
      "text/plain": [
       "{0: 0,\n",
       " 18446744073709551604: 1,\n",
       " 18446744073709551605: 2,\n",
       " 35: 3,\n",
       " 12: 4,\n",
       " 18446744073709551615: 5,\n",
       " 18446744073709551581: 6,\n",
       " 11: 7,\n",
       " 23: 8,\n",
       " 18446744073709551593: 9}"
      ]
     },
     "metadata": {},
     "execution_count": 18
    }
   ],
   "source": [
    "dict(list(vocabulary_rip.items())[:10])"
   ]
  },
  {
   "source": [
    "## Demo : RIP"
   ],
   "cell_type": "markdown",
   "metadata": {}
  },
  {
   "cell_type": "code",
   "execution_count": 19,
   "metadata": {},
   "outputs": [
    {
     "output_type": "execute_result",
     "data": {
      "text/plain": [
       "array([18446744072452044800, 18446744072452044800, 18446744072452044800,\n",
       "       18446744072452044800, 18446744072452044800, 18446744072452044800,\n",
       "       18446744072452044800, 18446744072452044800, 18446744072452044800,\n",
       "       18446744072452044800, 18446744072452044800, 18446744072452044800,\n",
       "       18446744072452044800, 18446744072452044800, 18446744072452044800,\n",
       "       18446744072452044800, 18446744072452044800, 18446744072452044800,\n",
       "       18446744072452044800, 18446744072452044800, 18446744072452044800,\n",
       "       18446744072452044800, 18446744072452044800, 18446744072452044800,\n",
       "       18446744072452044800, 18446744072452044800, 18446744072452044800,\n",
       "       18446744072452044800, 18446744072452044800, 18446744072452044800],\n",
       "      dtype=uint64)"
      ]
     },
     "metadata": {},
     "execution_count": 19
    }
   ],
   "source": [
    "train_original_rip_sample = train_set_original['rip'].values[:30].astype(np.float64).astype(np.uint64)\n",
    "train_original_rip_sample"
   ]
  },
  {
   "cell_type": "code",
   "execution_count": 20,
   "metadata": {},
   "outputs": [
    {
     "output_type": "execute_result",
     "data": {
      "text/plain": [
       "array([0, 0, 0, 0, 0, 0, 0, 0, 0, 0, 0, 0, 0, 0, 0, 0, 0, 0, 0, 0, 0, 0,\n",
       "       0, 0, 0, 0, 0, 0, 0])"
      ]
     },
     "metadata": {},
     "execution_count": 20
    }
   ],
   "source": [
    "processed_train_rip_sample = pipeline_rip.transform(train_original_rip_sample)\n",
    "processed_train_rip_sample"
   ]
  },
  {
   "cell_type": "code",
   "execution_count": 21,
   "metadata": {},
   "outputs": [
    {
     "output_type": "execute_result",
     "data": {
      "text/plain": [
       "array([0, 0, 0, 0, 0, 0, 0, 0, 0, 0, 0, 0, 0, 0, 0, 0, 0, 0, 0, 0, 0, 0,\n",
       "       0, 0, 0, 0, 0, 0, 0], dtype=uint64)"
      ]
     },
     "metadata": {},
     "execution_count": 21
    }
   ],
   "source": [
    "# Delta\n",
    "train_rip_sample = train_original_rip_sample[:-1] - train_original_rip_sample[1:]\n",
    "train_rip_sample"
   ]
  },
  {
   "cell_type": "code",
   "execution_count": 22,
   "metadata": {},
   "outputs": [
    {
     "output_type": "execute_result",
     "data": {
      "text/plain": [
       "array([0, 0, 0, 0, 0, 0, 0, 0, 0, 0, 0, 0, 0, 0, 0, 0, 0, 0, 0, 0, 0, 0,\n",
       "       0, 0, 0, 0, 0, 0, 0], dtype=uint64)"
      ]
     },
     "metadata": {},
     "execution_count": 22
    }
   ],
   "source": [
    "# Note that Irreversible predictions are returned as -1.\n",
    "train_rip_sample_inverse_transformed = pipeline_rip.inverse_transform(processed_train_rip_sample)\n",
    "train_rip_sample_inverse_transformed = np.array([t.decode() for t in train_rip_sample_inverse_transformed]).astype(np.uint64)\n",
    "train_rip_sample_inverse_transformed"
   ]
  },
  {
   "cell_type": "code",
   "execution_count": 23,
   "metadata": {},
   "outputs": [
    {
     "output_type": "execute_result",
     "data": {
      "text/plain": [
       "(0, 0, 0)"
      ]
     },
     "metadata": {},
     "execution_count": 23
    }
   ],
   "source": [
    "# Processed / Original Delta / Inverse_transformed (= restored from prediction)\n",
    "processed_train_rip_sample[3], train_rip_sample[3], train_rip_sample_inverse_transformed[3]"
   ]
  },
  {
   "cell_type": "code",
   "execution_count": 24,
   "metadata": {},
   "outputs": [
    {
     "output_type": "execute_result",
     "data": {
      "text/plain": [
       "0"
      ]
     },
     "metadata": {},
     "execution_count": 24
    }
   ],
   "source": [
    "vocabulary_rip[0]"
   ]
  },
  {
   "cell_type": "code",
   "execution_count": 25,
   "metadata": {},
   "outputs": [
    {
     "output_type": "execute_result",
     "data": {
      "text/plain": [
       "(0, 0, 0)"
      ]
     },
     "metadata": {},
     "execution_count": 25
    }
   ],
   "source": [
    "# Processed / Original Delta / Inverse_transformed (= restored from prediction)\n",
    "processed_train_rip_sample[21], train_rip_sample[21], train_rip_sample_inverse_transformed[21]"
   ]
  },
  {
   "cell_type": "code",
   "execution_count": 26,
   "metadata": {},
   "outputs": [
    {
     "output_type": "execute_result",
     "data": {
      "text/plain": [
       "6"
      ]
     },
     "metadata": {},
     "execution_count": 26
    }
   ],
   "source": [
    "vocabulary_rip[18446744073709551581]"
   ]
  },
  {
   "source": [
    "## Minimum Category Occurence (=Threshold)"
   ],
   "cell_type": "markdown",
   "metadata": {}
  },
  {
   "cell_type": "code",
   "execution_count": 33,
   "metadata": {},
   "outputs": [
    {
     "output_type": "execute_result",
     "data": {
      "text/plain": [
       "2"
      ]
     },
     "metadata": {},
     "execution_count": 33
    }
   ],
   "source": [
    "pipeline_gpa[\"noise_tokenizer\"].minimum_category_occurence, pipeline_rip[\"noise_tokenizer\"].minimum_category_occurence"
   ]
  },
  {
   "cell_type": "code",
   "execution_count": null,
   "metadata": {},
   "outputs": [],
   "source": []
  }
 ]
}