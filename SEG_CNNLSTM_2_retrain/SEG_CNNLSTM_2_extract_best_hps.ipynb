{
 "metadata": {
  "language_info": {
   "codemirror_mode": {
    "name": "ipython",
    "version": 3
   },
   "file_extension": ".py",
   "mimetype": "text/x-python",
   "name": "python",
   "nbconvert_exporter": "python",
   "pygments_lexer": "ipython3",
   "version": "3.7.6-final"
  },
  "orig_nbformat": 2,
  "kernelspec": {
   "name": "python3",
   "display_name": "Python 3"
  }
 },
 "nbformat": 4,
 "nbformat_minor": 2,
 "cells": [
  {
   "cell_type": "code",
   "execution_count": 1,
   "metadata": {},
   "outputs": [],
   "source": [
    "import json\n",
    "import glob"
   ]
  },
  {
   "cell_type": "code",
   "execution_count": 2,
   "metadata": {},
   "outputs": [],
   "source": [
    "hyper_tuning_version = \"ht_1\""
   ]
  },
  {
   "cell_type": "code",
   "execution_count": 3,
   "metadata": {},
   "outputs": [],
   "source": [
    "hp_scores = dict()\n",
    "hp_values = dict()\n",
    "\n",
    "for hp_path in glob.glob(\"hps/{}/*.json\".format(hyper_tuning_version)):\n",
    "    with open(hp_path, \"r\") as j:\n",
    "        hp = json.load(j)\n",
    "        if hp[\"score\"] != None:\n",
    "            hp_scores.update({hp[\"score\"]: hp_path})\n",
    "            hp_values.update({hp_path: hp[\"hyperparameters\"][\"values\"]})"
   ]
  },
  {
   "cell_type": "code",
   "execution_count": 4,
   "metadata": {},
   "outputs": [],
   "source": [
    "hp_scores = sorted(hp_scores.items())\n",
    "\n",
    "for i in range(10):\n",
    "    with open(\"best_hps/{}/best_hp_{}.json\".format(hyper_tuning_version, i), \"w\") as j:\n",
    "        json.dump(hp_values[hp_scores[i][1]], j, indent=4)"
   ]
  },
  {
   "cell_type": "code",
   "execution_count": 8,
   "metadata": {},
   "outputs": [
    {
     "output_type": "execute_result",
     "data": {
      "text/plain": [
       "{'FILTERS': 208,\n",
       " 'KERNEL_SIZE': 8,\n",
       " 'NUM_1_NEURONS': 112,\n",
       " 'DROPOUT_1': 0.3500000000000001,\n",
       " 'NUM_2_NEURONS': 112,\n",
       " 'DROPOUT_2': 0.3500000000000001,\n",
       " 'LEARNING_RATE': 0.001,\n",
       " 'tuner/epochs': 10,\n",
       " 'tuner/initial_epoch': 0,\n",
       " 'tuner/bracket': 0,\n",
       " 'tuner/round': 0}"
      ]
     },
     "metadata": {},
     "execution_count": 8
    }
   ],
   "source": [
    "hp_values[hp_scores[0][1]]"
   ]
  },
  {
   "cell_type": "code",
   "execution_count": null,
   "metadata": {},
   "outputs": [],
   "source": []
  }
 ]
}