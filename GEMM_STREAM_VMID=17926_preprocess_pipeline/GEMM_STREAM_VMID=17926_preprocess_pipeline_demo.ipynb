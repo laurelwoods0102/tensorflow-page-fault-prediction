{
 "metadata": {
  "language_info": {
   "codemirror_mode": {
    "name": "ipython",
    "version": 3
   },
   "file_extension": ".py",
   "mimetype": "text/x-python",
   "name": "python",
   "nbconvert_exporter": "python",
   "pygments_lexer": "ipython3",
   "version": "3.7.6"
  },
  "orig_nbformat": 2,
  "kernelspec": {
   "name": "python376jvsc74a57bd0b3ba2566441a7c06988d0923437866b63cedc61552a5af99d1f4fb67d367b25f",
   "display_name": "Python 3.7.6 64-bit ('base': conda)"
  }
 },
 "nbformat": 4,
 "nbformat_minor": 2,
 "cells": [
  {
   "cell_type": "code",
   "execution_count": 1,
   "metadata": {},
   "outputs": [],
   "source": [
    "import numpy as np\n",
    "import pandas as pd\n",
    "import json\n",
    "import dill"
   ]
  },
  {
   "cell_type": "code",
   "execution_count": 2,
   "metadata": {},
   "outputs": [],
   "source": [
    "model_name = \"STREAM\""
   ]
  },
  {
   "cell_type": "code",
   "execution_count": 3,
   "metadata": {},
   "outputs": [],
   "source": [
    "train_set_original = pd.read_csv(\"data/{}_train_set_original.csv\".format(model_name), dtype=np.object)\n",
    "val_set_original = pd.read_csv(\"data/{}_val_set_original.csv\".format(model_name), dtype=np.object)\n",
    "test_set_original = pd.read_csv(\"data/{}_test_set_original.csv\".format(model_name), dtype=np.object)\n",
    "\n",
    "train_set = pd.read_csv(\"data/{}_train_set.csv\".format(model_name))\n",
    "val_set = pd.read_csv(\"data/{}_val_set.csv\".format(model_name))\n",
    "test_set = pd.read_csv(\"data/{}_test_set.csv\".format(model_name))"
   ]
  },
  {
   "cell_type": "code",
   "execution_count": 4,
   "metadata": {},
   "outputs": [],
   "source": [
    "with open(\"static/pipeline_gpa.pkl\", \"rb\") as f:\n",
    "    pipeline_gpa = dill.load(f)\n",
    "\n",
    "with open(\"static/pipeline_rip.pkl\", \"rb\") as f:\n",
    "    pipeline_rip = dill.load(f)"
   ]
  },
  {
   "source": [
    "## Load Vocabulary and Instantiate as dictionary : GPA"
   ],
   "cell_type": "markdown",
   "metadata": {}
  },
  {
   "cell_type": "code",
   "execution_count": 5,
   "metadata": {},
   "outputs": [
    {
     "output_type": "execute_result",
     "data": {
      "text/plain": [
       "array([        -1,      -4096,          0, ...,  133824512, -189952000,\n",
       "       -114376704], dtype=int64)"
      ]
     },
     "metadata": {},
     "execution_count": 5
    }
   ],
   "source": [
    "vocabulary_gpa = np.genfromtxt(\"static/vocabulary_gpa.csv\", delimiter=\"\\n\", dtype=np.int64)\n",
    "vocabulary_gpa"
   ]
  },
  {
   "cell_type": "code",
   "execution_count": 6,
   "metadata": {},
   "outputs": [],
   "source": [
    "vocabulary_gpa = {v:i for i, v in enumerate(vocabulary_gpa)}"
   ]
  },
  {
   "cell_type": "code",
   "execution_count": 7,
   "metadata": {},
   "outputs": [
    {
     "output_type": "execute_result",
     "data": {
      "text/plain": [
       "{-1: 0,\n",
       " -4096: 1,\n",
       " 0: 2,\n",
       " -12288: 3,\n",
       " -8192: 4,\n",
       " -643931498: 5,\n",
       " 643931490: 6,\n",
       " -643931494: 7,\n",
       " 643931494: 8,\n",
       " -643931490: 9}"
      ]
     },
     "metadata": {},
     "execution_count": 7
    }
   ],
   "source": [
    "dict(list(vocabulary_gpa.items())[:10])"
   ]
  },
  {
   "source": [
    "## Demo : GPA"
   ],
   "cell_type": "markdown",
   "metadata": {}
  },
  {
   "cell_type": "code",
   "execution_count": 8,
   "metadata": {},
   "outputs": [
    {
     "output_type": "execute_result",
     "data": {
      "text/plain": [
       "array([ 251797631, 1007005696,  906555392, 1914261504,  259330048,\n",
       "        971534336, 1067118592,  914223104, 1067278336, 1055367168,\n",
       "       1055371264, 1066016768, 1066020864,  970022912,  970027008,\n",
       "        900882432,  900886528,  248718350,  892649840,  248718350,\n",
       "        892649844,  248718350,  892649848,  248718350,  248718017,\n",
       "       1928314880,  248718017,  954650624, 1067204608, 1067130880],\n",
       "      dtype=int64)"
      ]
     },
     "metadata": {},
     "execution_count": 8
    }
   ],
   "source": [
    "train_original_gpa_sample = train_set_original['gpa'].values[:30].astype(np.float64).astype(np.int64)\n",
    "train_original_gpa_sample"
   ]
  },
  {
   "cell_type": "code",
   "execution_count": 9,
   "metadata": {},
   "outputs": [
    {
     "output_type": "execute_result",
     "data": {
      "text/plain": [
       "array([    0, 55123,     0,     0,     0, 31648, 51125,     0,  5858,\n",
       "           1,  6541,     1,     0,     1, 27651,     1,     0,     9,\n",
       "           6,     7,     8,     5,    10,    11,     0,     0,     0,\n",
       "       30284,    58])"
      ]
     },
     "metadata": {},
     "execution_count": 9
    }
   ],
   "source": [
    "processed_train_gpa_sample = pipeline_gpa.transform(train_original_gpa_sample)\n",
    "processed_train_gpa_sample"
   ]
  },
  {
   "cell_type": "code",
   "execution_count": 10,
   "metadata": {},
   "outputs": [
    {
     "output_type": "execute_result",
     "data": {
      "text/plain": [
       "array([ -755208065,   100450304, -1007706112,  1654931456,  -712204288,\n",
       "         -95584256,   152895488,  -153055232,    11911168,       -4096,\n",
       "         -10645504,       -4096,    95997952,       -4096,    69144576,\n",
       "             -4096,   652168178,  -643931490,   643931490,  -643931494,\n",
       "         643931494,  -643931498,   643931498,         333, -1679596863,\n",
       "        1679596863,  -705932607,  -112553984,       73728], dtype=int64)"
      ]
     },
     "metadata": {},
     "execution_count": 10
    }
   ],
   "source": [
    "# Delta\n",
    "train_gpa_sample = train_original_gpa_sample[:-1] - train_original_gpa_sample[1:]\n",
    "train_gpa_sample"
   ]
  },
  {
   "cell_type": "code",
   "execution_count": 11,
   "metadata": {},
   "outputs": [
    {
     "output_type": "execute_result",
     "data": {
      "text/plain": [
       "array([        -1,  100450304,         -1,         -1,         -1,\n",
       "        -95584256,  152895488,         -1,   11911168,      -4096,\n",
       "        -10645504,      -4096,         -1,      -4096,   69144576,\n",
       "            -4096,         -1, -643931490,  643931490, -643931494,\n",
       "        643931494, -643931498,  643931498,        333,         -1,\n",
       "               -1,         -1, -112553984,      73728], dtype=int64)"
      ]
     },
     "metadata": {},
     "execution_count": 11
    }
   ],
   "source": [
    "# Note that Irreversible predictions are returned as -1.\n",
    "train_gpa_sample_inverse_transformed = pipeline_gpa.inverse_transform(processed_train_gpa_sample)\n",
    "train_gpa_sample_inverse_transformed"
   ]
  },
  {
   "cell_type": "code",
   "execution_count": 12,
   "metadata": {},
   "outputs": [
    {
     "output_type": "execute_result",
     "data": {
      "text/plain": [
       "(0, 1654931456, -1)"
      ]
     },
     "metadata": {},
     "execution_count": 12
    }
   ],
   "source": [
    "# Processed / Original Delta / Inverse_transformed (= restored from prediction)\n",
    "processed_train_gpa_sample[3], train_gpa_sample[3], train_gpa_sample_inverse_transformed[3]"
   ]
  },
  {
   "cell_type": "code",
   "execution_count": 13,
   "metadata": {},
   "outputs": [
    {
     "output_type": "execute_result",
     "data": {
      "text/plain": [
       "55"
      ]
     },
     "metadata": {},
     "execution_count": 13
    }
   ],
   "source": [
    "vocabulary_gpa[-94208]"
   ]
  },
  {
   "cell_type": "code",
   "execution_count": 14,
   "metadata": {},
   "outputs": [
    {
     "output_type": "execute_result",
     "data": {
      "text/plain": [
       "(5, -643931498, -643931498)"
      ]
     },
     "metadata": {},
     "execution_count": 14
    }
   ],
   "source": [
    "# Processed / Original Delta / Inverse_transformed (= restored from prediction)\n",
    "processed_train_gpa_sample[21], train_gpa_sample[21], train_gpa_sample_inverse_transformed[21]"
   ]
  },
  {
   "cell_type": "code",
   "execution_count": 15,
   "metadata": {},
   "outputs": [
    {
     "output_type": "execute_result",
     "data": {
      "text/plain": [
       "0"
      ]
     },
     "metadata": {},
     "execution_count": 15
    }
   ],
   "source": [
    "vocabulary_gpa[-1]"
   ]
  },
  {
   "source": [
    "## Interpretation\n",
    "This indicates that 4712300544 is pruned and substituted to -1.  \n",
    "Also, -1 is integer-indexed by 1 and this indicates that -1 is secondly frequent vocabulary. (begin with 0)"
   ],
   "cell_type": "markdown",
   "metadata": {}
  },
  {
   "source": [
    "## Load Vocabulary and Instantiate as dictionary : RIP"
   ],
   "cell_type": "markdown",
   "metadata": {}
  },
  {
   "cell_type": "code",
   "execution_count": 16,
   "metadata": {},
   "outputs": [
    {
     "output_type": "execute_result",
     "data": {
      "text/plain": [
       "array([                   0, 18446744073709551615, 18446744073709551579,\n",
       "       ...,      140268567846048, 18446744073703864254,\n",
       "             94783653750601], dtype=uint64)"
      ]
     },
     "metadata": {},
     "execution_count": 16
    }
   ],
   "source": [
    "vocabulary_rip = np.genfromtxt(\"static/vocabulary_rip.csv\", delimiter=\"\\n\", dtype=np.uint64)\n",
    "vocabulary_rip"
   ]
  },
  {
   "cell_type": "code",
   "execution_count": 17,
   "metadata": {},
   "outputs": [],
   "source": [
    "vocabulary_rip = {v:i for i, v in enumerate(vocabulary_rip)}"
   ]
  },
  {
   "cell_type": "code",
   "execution_count": 18,
   "metadata": {},
   "outputs": [
    {
     "output_type": "execute_result",
     "data": {
      "text/plain": [
       "{0: 0,\n",
       " 18446744073709551615: 1,\n",
       " 18446744073709551579: 2,\n",
       " 37: 3,\n",
       " 18446744073709551612: 4,\n",
       " 4: 5,\n",
       " 18446744073709551587: 6,\n",
       " 29: 7,\n",
       " 18446650193870300916: 8,\n",
       " 93879839250700: 9}"
      ]
     },
     "metadata": {},
     "execution_count": 18
    }
   ],
   "source": [
    "dict(list(vocabulary_rip.items())[:10])"
   ]
  },
  {
   "source": [
    "## Demo : RIP"
   ],
   "cell_type": "markdown",
   "metadata": {}
  },
  {
   "cell_type": "code",
   "execution_count": 19,
   "metadata": {},
   "outputs": [
    {
     "output_type": "execute_result",
     "data": {
      "text/plain": [
       "array([18446744072449302528, 18446744072452044800, 18446744072452044800,\n",
       "       18446744072452044800, 18446744072452044800, 18446744072452044800,\n",
       "       18446744072452044800, 18446744072452044800, 18446744072452044800,\n",
       "       18446744072452044800, 18446744072452044800, 18446744072452044800,\n",
       "       18446744072452044800, 18446744072452044800, 18446744072452044800,\n",
       "       18446744072452044800, 18446744072452044800, 18446744072446224384,\n",
       "       18446744072446224384, 18446744072446224384, 18446744072446224384,\n",
       "       18446744072446224384, 18446744072446224384, 18446744072446224384,\n",
       "       18446744072446222336, 18446744072446222336, 18446744072446222336,\n",
       "       18446744072452044800, 18446744072452044800,       94142993216960],\n",
       "      dtype=uint64)"
      ]
     },
     "metadata": {},
     "execution_count": 19
    }
   ],
   "source": [
    "train_original_rip_sample = train_set_original['rip'].values[:30].astype(np.float64).astype(np.uint64)\n",
    "train_original_rip_sample"
   ]
  },
  {
   "cell_type": "code",
   "execution_count": 20,
   "metadata": {},
   "outputs": [
    {
     "output_type": "execute_result",
     "data": {
      "text/plain": [
       "array([1, 0, 0, 0, 0, 0, 0, 0, 0, 0, 0, 0, 0, 0, 0, 0, 1, 0, 0, 0, 0, 0,\n",
       "       0, 1, 0, 0, 1, 0, 1])"
      ]
     },
     "metadata": {},
     "execution_count": 20
    }
   ],
   "source": [
    "processed_train_rip_sample = pipeline_rip.transform(train_original_rip_sample)\n",
    "processed_train_rip_sample"
   ]
  },
  {
   "cell_type": "code",
   "execution_count": 21,
   "metadata": {},
   "outputs": [
    {
     "output_type": "execute_result",
     "data": {
      "text/plain": [
       "array([18446744073706809344,                    0,                    0,\n",
       "                          0,                    0,                    0,\n",
       "                          0,                    0,                    0,\n",
       "                          0,                    0,                    0,\n",
       "                          0,                    0,                    0,\n",
       "                          0,              5820416,                    0,\n",
       "                          0,                    0,                    0,\n",
       "                          0,                    0,                 2048,\n",
       "                          0,                    0, 18446744073703729152,\n",
       "                          0, 18446649929458827840], dtype=uint64)"
      ]
     },
     "metadata": {},
     "execution_count": 21
    }
   ],
   "source": [
    "# Delta\n",
    "train_rip_sample = train_original_rip_sample[:-1] - train_original_rip_sample[1:]\n",
    "train_rip_sample"
   ]
  },
  {
   "cell_type": "code",
   "execution_count": 22,
   "metadata": {},
   "outputs": [
    {
     "output_type": "execute_result",
     "data": {
      "text/plain": [
       "array([18446744073709551615,                    0,                    0,\n",
       "                          0,                    0,                    0,\n",
       "                          0,                    0,                    0,\n",
       "                          0,                    0,                    0,\n",
       "                          0,                    0,                    0,\n",
       "                          0, 18446744073709551615,                    0,\n",
       "                          0,                    0,                    0,\n",
       "                          0,                    0, 18446744073709551615,\n",
       "                          0,                    0, 18446744073709551615,\n",
       "                          0, 18446744073709551615], dtype=uint64)"
      ]
     },
     "metadata": {},
     "execution_count": 22
    }
   ],
   "source": [
    "# Note that Irreversible predictions are returned as -1.\n",
    "train_rip_sample_inverse_transformed = pipeline_rip.inverse_transform(processed_train_rip_sample)\n",
    "train_rip_sample_inverse_transformed = np.array([t.decode() for t in train_rip_sample_inverse_transformed]).astype(np.uint64)\n",
    "train_rip_sample_inverse_transformed"
   ]
  },
  {
   "cell_type": "code",
   "execution_count": 23,
   "metadata": {},
   "outputs": [
    {
     "output_type": "execute_result",
     "data": {
      "text/plain": [
       "(0, 0, 0)"
      ]
     },
     "metadata": {},
     "execution_count": 23
    }
   ],
   "source": [
    "# Processed / Original Delta / Inverse_transformed (= restored from prediction)\n",
    "processed_train_rip_sample[3], train_rip_sample[3], train_rip_sample_inverse_transformed[3]"
   ]
  },
  {
   "cell_type": "code",
   "execution_count": 24,
   "metadata": {},
   "outputs": [
    {
     "output_type": "execute_result",
     "data": {
      "text/plain": [
       "0"
      ]
     },
     "metadata": {},
     "execution_count": 24
    }
   ],
   "source": [
    "vocabulary_rip[0]"
   ]
  },
  {
   "cell_type": "code",
   "execution_count": 25,
   "metadata": {},
   "outputs": [
    {
     "output_type": "execute_result",
     "data": {
      "text/plain": [
       "(0, 0, 0)"
      ]
     },
     "metadata": {},
     "execution_count": 25
    }
   ],
   "source": [
    "# Processed / Original Delta / Inverse_transformed (= restored from prediction)\n",
    "processed_train_rip_sample[21], train_rip_sample[21], train_rip_sample_inverse_transformed[21]"
   ]
  },
  {
   "cell_type": "code",
   "execution_count": 26,
   "metadata": {},
   "outputs": [
    {
     "output_type": "error",
     "ename": "KeyError",
     "evalue": "18446744073709551581",
     "traceback": [
      "\u001b[1;31m---------------------------------------------------------------------------\u001b[0m",
      "\u001b[1;31mKeyError\u001b[0m                                  Traceback (most recent call last)",
      "\u001b[1;32m<ipython-input-26-943eee1b6499>\u001b[0m in \u001b[0;36m<module>\u001b[1;34m\u001b[0m\n\u001b[1;32m----> 1\u001b[1;33m \u001b[0mvocabulary_rip\u001b[0m\u001b[1;33m[\u001b[0m\u001b[1;36m18446744073709551581\u001b[0m\u001b[1;33m]\u001b[0m\u001b[1;33m\u001b[0m\u001b[1;33m\u001b[0m\u001b[0m\n\u001b[0m",
      "\u001b[1;31mKeyError\u001b[0m: 18446744073709551581"
     ]
    }
   ],
   "source": [
    "vocabulary_rip[18446744073709551581]"
   ]
  },
  {
   "cell_type": "code",
   "execution_count": null,
   "metadata": {},
   "outputs": [],
   "source": []
  }
 ]
}