{
 "metadata": {
  "language_info": {
   "codemirror_mode": {
    "name": "ipython",
    "version": 3
   },
   "file_extension": ".py",
   "mimetype": "text/x-python",
   "name": "python",
   "nbconvert_exporter": "python",
   "pygments_lexer": "ipython3",
   "version": "3.7.6"
  },
  "orig_nbformat": 2,
  "kernelspec": {
   "name": "python376jvsc74a57bd0b3ba2566441a7c06988d0923437866b63cedc61552a5af99d1f4fb67d367b25f",
   "display_name": "Python 3.7.6 64-bit ('base': conda)"
  }
 },
 "nbformat": 4,
 "nbformat_minor": 2,
 "cells": [
  {
   "cell_type": "code",
   "execution_count": 1,
   "metadata": {},
   "outputs": [],
   "source": [
    "import numpy as np\n",
    "import pandas as pd\n",
    "import json\n",
    "import dill         # 0.3.2\n",
    "from sklearn.base import BaseEstimator, TransformerMixin\n",
    "from sklearn.pipeline import Pipeline\n",
    "from sklearn.model_selection import train_test_split"
   ]
  },
  {
   "cell_type": "markdown",
   "metadata": {},
   "source": [
    "## Set Global/Environment Variables"
   ]
  },
  {
   "cell_type": "code",
   "execution_count": 2,
   "metadata": {},
   "outputs": [],
   "source": [
    "model_name = \"STREAM\""
   ]
  },
  {
   "cell_type": "markdown",
   "metadata": {},
   "source": [
    "## Load Dataset/Static Param List"
   ]
  },
  {
   "cell_type": "code",
   "execution_count": 3,
   "metadata": {},
   "outputs": [
    {
     "output_type": "execute_result",
     "data": {
      "text/plain": [
       "                   extra             time address_type         gpa  \\\n",
       "0       [336633.698810]   04:01:00:854206           PF   251797631   \n",
       "1       [336633.739463]   04:01:00:894857           PF  1007005696   \n",
       "2       [336633.867033]   04:01:01:022428           PF   906555392   \n",
       "3       [336633.901503]   04:01:01:056898           PF  1914261504   \n",
       "4       [336633.904886]   04:01:01:060282           PF   259330048   \n",
       "...                  ...              ...          ...         ...   \n",
       "180309   [ 1806.225725]   07:00:33:381360           PF   602140104   \n",
       "180310   [ 1806.225827]   07:00:33:381465           PF   597469140   \n",
       "180311   [ 1806.240176]   07:00:33:395810           PF   596315344   \n",
       "180312   [ 1806.240198]   07:00:33:395836           PF   597544452   \n",
       "180313   [ 1806.401068]   07:00:33:556702           PF   603197568   \n",
       "\n",
       "                         rip  vmid  \n",
       "0       18446744072449302655  4034  \n",
       "1       18446744072452043863  4034  \n",
       "2       18446744072452043863  4034  \n",
       "3       18446744072452043863  4034  \n",
       "4       18446744072452043863  4034  \n",
       "...                      ...   ...  \n",
       "180309       139790387006578  4034  \n",
       "180310  18446744072443263295  4034  \n",
       "180311  18446744072442219334  4034  \n",
       "180312  18446744072441579461  4034  \n",
       "180313       139675253067982  4034  \n",
       "\n",
       "[4157042 rows x 6 columns]"
      ],
      "text/html": "<div>\n<style scoped>\n    .dataframe tbody tr th:only-of-type {\n        vertical-align: middle;\n    }\n\n    .dataframe tbody tr th {\n        vertical-align: top;\n    }\n\n    .dataframe thead th {\n        text-align: right;\n    }\n</style>\n<table border=\"1\" class=\"dataframe\">\n  <thead>\n    <tr style=\"text-align: right;\">\n      <th></th>\n      <th>extra</th>\n      <th>time</th>\n      <th>address_type</th>\n      <th>gpa</th>\n      <th>rip</th>\n      <th>vmid</th>\n    </tr>\n  </thead>\n  <tbody>\n    <tr>\n      <th>0</th>\n      <td>[336633.698810]</td>\n      <td>04:01:00:854206</td>\n      <td>PF</td>\n      <td>251797631</td>\n      <td>18446744072449302655</td>\n      <td>4034</td>\n    </tr>\n    <tr>\n      <th>1</th>\n      <td>[336633.739463]</td>\n      <td>04:01:00:894857</td>\n      <td>PF</td>\n      <td>1007005696</td>\n      <td>18446744072452043863</td>\n      <td>4034</td>\n    </tr>\n    <tr>\n      <th>2</th>\n      <td>[336633.867033]</td>\n      <td>04:01:01:022428</td>\n      <td>PF</td>\n      <td>906555392</td>\n      <td>18446744072452043863</td>\n      <td>4034</td>\n    </tr>\n    <tr>\n      <th>3</th>\n      <td>[336633.901503]</td>\n      <td>04:01:01:056898</td>\n      <td>PF</td>\n      <td>1914261504</td>\n      <td>18446744072452043863</td>\n      <td>4034</td>\n    </tr>\n    <tr>\n      <th>4</th>\n      <td>[336633.904886]</td>\n      <td>04:01:01:060282</td>\n      <td>PF</td>\n      <td>259330048</td>\n      <td>18446744072452043863</td>\n      <td>4034</td>\n    </tr>\n    <tr>\n      <th>...</th>\n      <td>...</td>\n      <td>...</td>\n      <td>...</td>\n      <td>...</td>\n      <td>...</td>\n      <td>...</td>\n    </tr>\n    <tr>\n      <th>180309</th>\n      <td>[ 1806.225725]</td>\n      <td>07:00:33:381360</td>\n      <td>PF</td>\n      <td>602140104</td>\n      <td>139790387006578</td>\n      <td>4034</td>\n    </tr>\n    <tr>\n      <th>180310</th>\n      <td>[ 1806.225827]</td>\n      <td>07:00:33:381465</td>\n      <td>PF</td>\n      <td>597469140</td>\n      <td>18446744072443263295</td>\n      <td>4034</td>\n    </tr>\n    <tr>\n      <th>180311</th>\n      <td>[ 1806.240176]</td>\n      <td>07:00:33:395810</td>\n      <td>PF</td>\n      <td>596315344</td>\n      <td>18446744072442219334</td>\n      <td>4034</td>\n    </tr>\n    <tr>\n      <th>180312</th>\n      <td>[ 1806.240198]</td>\n      <td>07:00:33:395836</td>\n      <td>PF</td>\n      <td>597544452</td>\n      <td>18446744072441579461</td>\n      <td>4034</td>\n    </tr>\n    <tr>\n      <th>180313</th>\n      <td>[ 1806.401068]</td>\n      <td>07:00:33:556702</td>\n      <td>PF</td>\n      <td>603197568</td>\n      <td>139675253067982</td>\n      <td>4034</td>\n    </tr>\n  </tbody>\n</table>\n<p>4157042 rows × 6 columns</p>\n</div>"
     },
     "metadata": {},
     "execution_count": 3
    }
   ],
   "source": [
    "original_dataset = pd.concat([pd.read_csv(\"../로그 데이터/STREAM/STREAM/stream_4034_generic2_{}.csv\".format(i), dtype=np.object) for i in reversed(range(1, 11))], axis=0)\n",
    "original_dataset"
   ]
  },
  {
   "cell_type": "code",
   "execution_count": 4,
   "metadata": {},
   "outputs": [
    {
     "output_type": "execute_result",
     "data": {
      "text/plain": [
       "               gpa                   rip\n",
       "0        251797631  18446744072449302655\n",
       "1       1007005696  18446744072452043863\n",
       "2        906555392  18446744072452043863\n",
       "3       1914261504  18446744072452043863\n",
       "4        259330048  18446744072452043863\n",
       "...            ...                   ...\n",
       "180309   602140104       139790387006578\n",
       "180310   597469140  18446744072443263295\n",
       "180311   596315344  18446744072442219334\n",
       "180312   597544452  18446744072441579461\n",
       "180313   603197568       139675253067982\n",
       "\n",
       "[4156988 rows x 2 columns]"
      ],
      "text/html": "<div>\n<style scoped>\n    .dataframe tbody tr th:only-of-type {\n        vertical-align: middle;\n    }\n\n    .dataframe tbody tr th {\n        vertical-align: top;\n    }\n\n    .dataframe thead th {\n        text-align: right;\n    }\n</style>\n<table border=\"1\" class=\"dataframe\">\n  <thead>\n    <tr style=\"text-align: right;\">\n      <th></th>\n      <th>gpa</th>\n      <th>rip</th>\n    </tr>\n  </thead>\n  <tbody>\n    <tr>\n      <th>0</th>\n      <td>251797631</td>\n      <td>18446744072449302655</td>\n    </tr>\n    <tr>\n      <th>1</th>\n      <td>1007005696</td>\n      <td>18446744072452043863</td>\n    </tr>\n    <tr>\n      <th>2</th>\n      <td>906555392</td>\n      <td>18446744072452043863</td>\n    </tr>\n    <tr>\n      <th>3</th>\n      <td>1914261504</td>\n      <td>18446744072452043863</td>\n    </tr>\n    <tr>\n      <th>4</th>\n      <td>259330048</td>\n      <td>18446744072452043863</td>\n    </tr>\n    <tr>\n      <th>...</th>\n      <td>...</td>\n      <td>...</td>\n    </tr>\n    <tr>\n      <th>180309</th>\n      <td>602140104</td>\n      <td>139790387006578</td>\n    </tr>\n    <tr>\n      <th>180310</th>\n      <td>597469140</td>\n      <td>18446744072443263295</td>\n    </tr>\n    <tr>\n      <th>180311</th>\n      <td>596315344</td>\n      <td>18446744072442219334</td>\n    </tr>\n    <tr>\n      <th>180312</th>\n      <td>597544452</td>\n      <td>18446744072441579461</td>\n    </tr>\n    <tr>\n      <th>180313</th>\n      <td>603197568</td>\n      <td>139675253067982</td>\n    </tr>\n  </tbody>\n</table>\n<p>4156988 rows × 2 columns</p>\n</div>"
     },
     "metadata": {},
     "execution_count": 4
    }
   ],
   "source": [
    "original_dataset = original_dataset[[\"gpa\", \"rip\"]].dropna()       # rip for PCs\n",
    "original_dataset"
   ]
  },
  {
   "cell_type": "markdown",
   "metadata": {},
   "source": [
    "## Dataset Processing Functions"
   ]
  },
  {
   "cell_type": "code",
   "execution_count": 5,
   "metadata": {},
   "outputs": [],
   "source": [
    "class CalculateDelta(TransformerMixin):\n",
    "    def __init__(self):\n",
    "        pass\n",
    "\n",
    "    def fit(self, X, y=None):\n",
    "        return self\n",
    "        \n",
    "    def transform(self, X, y=None):\n",
    "        X_transformed = X[:-1] - X[1:]\n",
    "        # In case of unsigned types, change its type to string type\n",
    "        if X_transformed.dtype in [np.uint8, np.uint16, np.uint32, np.uint64]:\n",
    "            X_transformed = X_transformed.astype(np.string_)\n",
    "        return X_transformed\n",
    "\n",
    "    def inverse_transform(self, X, y=None):     # Just for test_pipeline.inverse_transform()\n",
    "        return X"
   ]
  },
  {
   "cell_type": "markdown",
   "metadata": {},
   "source": [
    "## Process Train/Validation Dataset"
   ]
  },
  {
   "cell_type": "code",
   "execution_count": 6,
   "metadata": {},
   "outputs": [],
   "source": [
    "# Train / Val / Test Ratio : 70% / 15% / 15%\n",
    "train_val_set, test_set = train_test_split(original_dataset, test_size=0.15, shuffle=False)\n",
    "#train_set, val_set = train_test_split(train_val_set, test_size=0.2, shuffle=False)"
   ]
  },
  {
   "cell_type": "code",
   "execution_count": 7,
   "metadata": {},
   "outputs": [],
   "source": [
    "train_val_gpa = train_val_set[\"gpa\"].values.astype(np.int64)\n",
    "train_val_rip = train_val_set[\"rip\"].values.astype(np.uint64)      # As uint64 not exists in pandas\n",
    "\n",
    "test_gpa = test_set[\"gpa\"].values.astype(np.int64)\n",
    "test_rip = test_set[\"rip\"].values.astype(np.uint64)      # As uint64 not exists in pandas"
   ]
  },
  {
   "cell_type": "code",
   "execution_count": 8,
   "metadata": {},
   "outputs": [],
   "source": [
    "calculate_delta = CalculateDelta()"
   ]
  },
  {
   "source": [
    "processed_train_val_gpa = calculate_delta.fit_transform(train_val_gpa.copy())\n",
    "processed_train_val_gpa"
   ],
   "cell_type": "code",
   "metadata": {},
   "execution_count": 9,
   "outputs": [
    {
     "output_type": "execute_result",
     "data": {
      "text/plain": [
       "array([ -755208065,   100450304, -1007706112, ...,   -31219712,\n",
       "          -8601600,   507019264], dtype=int64)"
      ]
     },
     "metadata": {},
     "execution_count": 9
    }
   ]
  },
  {
   "cell_type": "code",
   "execution_count": 10,
   "metadata": {
    "tags": []
   },
   "outputs": [
    {
     "output_type": "execute_result",
     "data": {
      "text/plain": [
       "array([b'18446744073706810408', b'0', b'0', ..., b'0', b'0', b'0'],\n",
       "      dtype='|S20')"
      ]
     },
     "metadata": {},
     "execution_count": 10
    }
   ],
   "source": [
    "processed_train_val_rip = calculate_delta.transform(train_val_rip)\n",
    "processed_train_val_rip"
   ]
  },
  {
   "cell_type": "code",
   "execution_count": 11,
   "metadata": {},
   "outputs": [
    {
     "output_type": "execute_result",
     "data": {
      "text/plain": [
       "(-4096          713760\n",
       "  0             405516\n",
       " -12288          36270\n",
       " -8192           21875\n",
       " -643931498       9063\n",
       "                 ...  \n",
       "  860061696          1\n",
       "  742146048          1\n",
       " -425086271          1\n",
       " -1042427904         1\n",
       "  3033688            1\n",
       " Length: 674207, dtype: int64,\n",
       " b'0'                       2591789\n",
       " b'18446744073709551579'      34063\n",
       " b'37'                        32504\n",
       " b'18446744073709551612'      28812\n",
       " b'4'                         28736\n",
       "                             ...   \n",
       " b'37519933'                      1\n",
       " b'534309'                        1\n",
       " b'18446744073709550998'          1\n",
       " b'3532'                          1\n",
       " b'18446604262792759402'          1\n",
       " Length: 49547, dtype: int64)"
      ]
     },
     "metadata": {},
     "execution_count": 11
    }
   ],
   "source": [
    "pd.Series(processed_train_val_gpa).value_counts(), pd.Series(processed_train_val_rip).value_counts()"
   ]
  },
  {
   "cell_type": "code",
   "execution_count": 12,
   "metadata": {},
   "outputs": [
    {
     "output_type": "execute_result",
     "data": {
      "text/plain": [
       "(1      385925\n",
       " 2      129019\n",
       " 3       58791\n",
       " 4       27044\n",
       " 5       13694\n",
       "         ...  \n",
       " 735         1\n",
       " 223         1\n",
       " 204         1\n",
       " 203         1\n",
       " 995         1\n",
       " Length: 264, dtype: int64,\n",
       " 1        37698\n",
       " 2         4610\n",
       " 3         1890\n",
       " 4         1120\n",
       " 5          703\n",
       "          ...  \n",
       " 5485         1\n",
       " 207          1\n",
       " 251          1\n",
       " 4377         1\n",
       " 34063        1\n",
       " Length: 375, dtype: int64)"
      ]
     },
     "metadata": {},
     "execution_count": 12
    }
   ],
   "source": [
    "# Index = Occurence | Column = Number of included categories\n",
    "pd.Series(processed_train_val_gpa).value_counts().value_counts(), pd.Series(processed_train_val_rip).value_counts().value_counts()"
   ]
  },
  {
   "source": [
    "## gpa : N / P ratio"
   ],
   "cell_type": "markdown",
   "metadata": {}
  },
  {
   "cell_type": "code",
   "execution_count": 13,
   "metadata": {},
   "outputs": [],
   "source": [
    "gpa_data = []\n",
    "for gpa_threshold in range(30):\n",
    "    row = []\n",
    "    \n",
    "    row.append(gpa_threshold)\n",
    "    if gpa_threshold == 0:\n",
    "        gpa_p = len(pd.Series(processed_train_val_gpa).value_counts())\n",
    "        previous_gpa_p = gpa_p\n",
    "        previous_accuracy = 0\n",
    "    else:\n",
    "        gpa_p = len(pd.Series(processed_train_val_gpa).value_counts()) - sum(pd.Series(processed_train_val_gpa).value_counts().value_counts().loc[list(range(1, gpa_threshold+1))].values) + 1\n",
    "    row.append(gpa_p)\n",
    "    row.append(previous_gpa_p - gpa_p)\n",
    "    previous_gpa_p = gpa_p\n",
    "    row.append(processed_train_val_gpa.shape[0] / gpa_p)\n",
    "    accuracy = sum(pd.Series(processed_train_val_gpa).value_counts().value_counts().loc[list(range(1, gpa_threshold+1))].values * pd.Series(processed_train_val_gpa).value_counts().value_counts().loc[list(range(1, gpa_threshold+1))].index) / (processed_train_val_gpa.shape[0])\n",
    "    row.append(accuracy)\n",
    "    row.append(accuracy - previous_accuracy)\n",
    "    previous_accuracy = accuracy\n",
    "\n",
    "    gpa_data.append(row)\n",
    "\n",
    "df_gpa_threshold = pd.DataFrame(data=gpa_data, columns=[\"threshold\", \"p\", \"p'\", \"n/p ratio\", \"upper limit for train/val accuracy\", \"accuracy'\"])"
   ]
  },
  {
   "cell_type": "code",
   "execution_count": 14,
   "metadata": {},
   "outputs": [
    {
     "output_type": "execute_result",
     "data": {
      "text/plain": [
       "    threshold       p      p'   n/p ratio  upper limit for train/val accuracy  \\\n",
       "0           0  674207       0    5.240880                            0.000000   \n",
       "1           1  288283  385924   12.256838                            0.109221   \n",
       "2           2  159264  129019   22.186043                            0.182248   \n",
       "3           3  100473   58791   35.168035                            0.232164   \n",
       "4           4   73429   27044   48.120470                            0.262779   \n",
       "5           5   59735   13694   59.151888                            0.282156   \n",
       "6           6   51757    7978   68.269761                            0.295704   \n",
       "7           7   46554    5203   75.899772                            0.306011   \n",
       "8           8   42579    3975   82.985462                            0.315011   \n",
       "9           9   39380    3199   89.726714                            0.323159   \n",
       "10         10   36530    2850   96.727019                            0.331225   \n",
       "11         11   34127    2403  103.537903                            0.338706   \n",
       "12         12   31928    2199  110.668943                            0.346174   \n",
       "13         13   29956    1972  117.954266                            0.353429   \n",
       "14         14   28227    1729  125.179367                            0.360279   \n",
       "15         15   26588    1639  132.895968                            0.367237   \n",
       "16         16   25033    1555  141.151200                            0.374279   \n",
       "17         17   23596    1437  149.747330                            0.381192   \n",
       "18         18   22332    1264  158.223088                            0.387631   \n",
       "19         19   21166    1166  166.939337                            0.393901   \n",
       "20         20   20033    1133  176.380872                            0.400314   \n",
       "21         21   19031    1002  185.667490                            0.406269   \n",
       "22         22   18077     954  195.465951                            0.412209   \n",
       "23         23   17198     879  205.456332                            0.417931   \n",
       "24         24   16374     824  215.795652                            0.423527   \n",
       "25         25   15578     796  226.822314                            0.429159   \n",
       "26         26   14835     743  238.182541                            0.434627   \n",
       "27         27   14135     700  249.977927                            0.439975   \n",
       "28         28   13510     625  261.542413                            0.444928   \n",
       "29         29   12933     577  273.211011                            0.449664   \n",
       "\n",
       "    accuracy'  \n",
       "0    0.000000  \n",
       "1    0.109221  \n",
       "2    0.073027  \n",
       "3    0.049915  \n",
       "4    0.030615  \n",
       "5    0.019378  \n",
       "6    0.013547  \n",
       "7    0.010308  \n",
       "8    0.009000  \n",
       "9    0.008148  \n",
       "10   0.008066  \n",
       "11   0.007481  \n",
       "12   0.007468  \n",
       "13   0.007255  \n",
       "14   0.006851  \n",
       "15   0.006958  \n",
       "16   0.007041  \n",
       "17   0.006914  \n",
       "18   0.006439  \n",
       "19   0.006270  \n",
       "20   0.006413  \n",
       "21   0.005955  \n",
       "22   0.005940  \n",
       "23   0.005722  \n",
       "24   0.005597  \n",
       "25   0.005632  \n",
       "26   0.005467  \n",
       "27   0.005349  \n",
       "28   0.004953  \n",
       "29   0.004736  "
      ],
      "text/html": "<div>\n<style scoped>\n    .dataframe tbody tr th:only-of-type {\n        vertical-align: middle;\n    }\n\n    .dataframe tbody tr th {\n        vertical-align: top;\n    }\n\n    .dataframe thead th {\n        text-align: right;\n    }\n</style>\n<table border=\"1\" class=\"dataframe\">\n  <thead>\n    <tr style=\"text-align: right;\">\n      <th></th>\n      <th>threshold</th>\n      <th>p</th>\n      <th>p'</th>\n      <th>n/p ratio</th>\n      <th>upper limit for train/val accuracy</th>\n      <th>accuracy'</th>\n    </tr>\n  </thead>\n  <tbody>\n    <tr>\n      <th>0</th>\n      <td>0</td>\n      <td>674207</td>\n      <td>0</td>\n      <td>5.240880</td>\n      <td>0.000000</td>\n      <td>0.000000</td>\n    </tr>\n    <tr>\n      <th>1</th>\n      <td>1</td>\n      <td>288283</td>\n      <td>385924</td>\n      <td>12.256838</td>\n      <td>0.109221</td>\n      <td>0.109221</td>\n    </tr>\n    <tr>\n      <th>2</th>\n      <td>2</td>\n      <td>159264</td>\n      <td>129019</td>\n      <td>22.186043</td>\n      <td>0.182248</td>\n      <td>0.073027</td>\n    </tr>\n    <tr>\n      <th>3</th>\n      <td>3</td>\n      <td>100473</td>\n      <td>58791</td>\n      <td>35.168035</td>\n      <td>0.232164</td>\n      <td>0.049915</td>\n    </tr>\n    <tr>\n      <th>4</th>\n      <td>4</td>\n      <td>73429</td>\n      <td>27044</td>\n      <td>48.120470</td>\n      <td>0.262779</td>\n      <td>0.030615</td>\n    </tr>\n    <tr>\n      <th>5</th>\n      <td>5</td>\n      <td>59735</td>\n      <td>13694</td>\n      <td>59.151888</td>\n      <td>0.282156</td>\n      <td>0.019378</td>\n    </tr>\n    <tr>\n      <th>6</th>\n      <td>6</td>\n      <td>51757</td>\n      <td>7978</td>\n      <td>68.269761</td>\n      <td>0.295704</td>\n      <td>0.013547</td>\n    </tr>\n    <tr>\n      <th>7</th>\n      <td>7</td>\n      <td>46554</td>\n      <td>5203</td>\n      <td>75.899772</td>\n      <td>0.306011</td>\n      <td>0.010308</td>\n    </tr>\n    <tr>\n      <th>8</th>\n      <td>8</td>\n      <td>42579</td>\n      <td>3975</td>\n      <td>82.985462</td>\n      <td>0.315011</td>\n      <td>0.009000</td>\n    </tr>\n    <tr>\n      <th>9</th>\n      <td>9</td>\n      <td>39380</td>\n      <td>3199</td>\n      <td>89.726714</td>\n      <td>0.323159</td>\n      <td>0.008148</td>\n    </tr>\n    <tr>\n      <th>10</th>\n      <td>10</td>\n      <td>36530</td>\n      <td>2850</td>\n      <td>96.727019</td>\n      <td>0.331225</td>\n      <td>0.008066</td>\n    </tr>\n    <tr>\n      <th>11</th>\n      <td>11</td>\n      <td>34127</td>\n      <td>2403</td>\n      <td>103.537903</td>\n      <td>0.338706</td>\n      <td>0.007481</td>\n    </tr>\n    <tr>\n      <th>12</th>\n      <td>12</td>\n      <td>31928</td>\n      <td>2199</td>\n      <td>110.668943</td>\n      <td>0.346174</td>\n      <td>0.007468</td>\n    </tr>\n    <tr>\n      <th>13</th>\n      <td>13</td>\n      <td>29956</td>\n      <td>1972</td>\n      <td>117.954266</td>\n      <td>0.353429</td>\n      <td>0.007255</td>\n    </tr>\n    <tr>\n      <th>14</th>\n      <td>14</td>\n      <td>28227</td>\n      <td>1729</td>\n      <td>125.179367</td>\n      <td>0.360279</td>\n      <td>0.006851</td>\n    </tr>\n    <tr>\n      <th>15</th>\n      <td>15</td>\n      <td>26588</td>\n      <td>1639</td>\n      <td>132.895968</td>\n      <td>0.367237</td>\n      <td>0.006958</td>\n    </tr>\n    <tr>\n      <th>16</th>\n      <td>16</td>\n      <td>25033</td>\n      <td>1555</td>\n      <td>141.151200</td>\n      <td>0.374279</td>\n      <td>0.007041</td>\n    </tr>\n    <tr>\n      <th>17</th>\n      <td>17</td>\n      <td>23596</td>\n      <td>1437</td>\n      <td>149.747330</td>\n      <td>0.381192</td>\n      <td>0.006914</td>\n    </tr>\n    <tr>\n      <th>18</th>\n      <td>18</td>\n      <td>22332</td>\n      <td>1264</td>\n      <td>158.223088</td>\n      <td>0.387631</td>\n      <td>0.006439</td>\n    </tr>\n    <tr>\n      <th>19</th>\n      <td>19</td>\n      <td>21166</td>\n      <td>1166</td>\n      <td>166.939337</td>\n      <td>0.393901</td>\n      <td>0.006270</td>\n    </tr>\n    <tr>\n      <th>20</th>\n      <td>20</td>\n      <td>20033</td>\n      <td>1133</td>\n      <td>176.380872</td>\n      <td>0.400314</td>\n      <td>0.006413</td>\n    </tr>\n    <tr>\n      <th>21</th>\n      <td>21</td>\n      <td>19031</td>\n      <td>1002</td>\n      <td>185.667490</td>\n      <td>0.406269</td>\n      <td>0.005955</td>\n    </tr>\n    <tr>\n      <th>22</th>\n      <td>22</td>\n      <td>18077</td>\n      <td>954</td>\n      <td>195.465951</td>\n      <td>0.412209</td>\n      <td>0.005940</td>\n    </tr>\n    <tr>\n      <th>23</th>\n      <td>23</td>\n      <td>17198</td>\n      <td>879</td>\n      <td>205.456332</td>\n      <td>0.417931</td>\n      <td>0.005722</td>\n    </tr>\n    <tr>\n      <th>24</th>\n      <td>24</td>\n      <td>16374</td>\n      <td>824</td>\n      <td>215.795652</td>\n      <td>0.423527</td>\n      <td>0.005597</td>\n    </tr>\n    <tr>\n      <th>25</th>\n      <td>25</td>\n      <td>15578</td>\n      <td>796</td>\n      <td>226.822314</td>\n      <td>0.429159</td>\n      <td>0.005632</td>\n    </tr>\n    <tr>\n      <th>26</th>\n      <td>26</td>\n      <td>14835</td>\n      <td>743</td>\n      <td>238.182541</td>\n      <td>0.434627</td>\n      <td>0.005467</td>\n    </tr>\n    <tr>\n      <th>27</th>\n      <td>27</td>\n      <td>14135</td>\n      <td>700</td>\n      <td>249.977927</td>\n      <td>0.439975</td>\n      <td>0.005349</td>\n    </tr>\n    <tr>\n      <th>28</th>\n      <td>28</td>\n      <td>13510</td>\n      <td>625</td>\n      <td>261.542413</td>\n      <td>0.444928</td>\n      <td>0.004953</td>\n    </tr>\n    <tr>\n      <th>29</th>\n      <td>29</td>\n      <td>12933</td>\n      <td>577</td>\n      <td>273.211011</td>\n      <td>0.449664</td>\n      <td>0.004736</td>\n    </tr>\n  </tbody>\n</table>\n</div>"
     },
     "metadata": {},
     "execution_count": 14
    }
   ],
   "source": [
    "df_gpa_threshold"
   ]
  },
  {
   "source": [
    "## rip : N / P ratio"
   ],
   "cell_type": "markdown",
   "metadata": {}
  },
  {
   "cell_type": "code",
   "execution_count": 15,
   "metadata": {},
   "outputs": [],
   "source": [
    "rip_data = []\n",
    "for rip_threshold in range(30):\n",
    "    row = []\n",
    "    \n",
    "    row.append(rip_threshold)\n",
    "    if rip_threshold == 0:\n",
    "        rip_p = len(pd.Series(processed_train_val_rip).value_counts())\n",
    "        previous_rip_p = rip_p\n",
    "        previous_accuracy = 0\n",
    "    else:\n",
    "        rip_p = len(pd.Series(processed_train_val_rip).value_counts()) - sum(pd.Series(processed_train_val_rip).value_counts().value_counts().loc[list(range(1, rip_threshold+1))].values) + 1\n",
    "    row.append(rip_p)\n",
    "    row.append(previous_rip_p - rip_p)\n",
    "    previous_rip_p = rip_p\n",
    "    row.append(processed_train_val_rip.shape[0] / rip_p)\n",
    "    accuracy = sum(pd.Series(processed_train_val_rip).value_counts().value_counts().loc[list(range(1, rip_threshold+1))].values * pd.Series(processed_train_val_rip).value_counts().value_counts().loc[list(range(1, rip_threshold+1))].index) / (processed_train_val_rip.shape[0])\n",
    "    row.append(accuracy)\n",
    "    row.append(accuracy - previous_accuracy)\n",
    "    previous_accuracy = accuracy\n",
    "\n",
    "    rip_data.append(row)\n",
    "\n",
    "df_rip_threshold = pd.DataFrame(data=rip_data, columns=[\"threshold\", \"p\", \"p'\", \"n/p ratio\", \"upper limit for train/val accuracy\", \"accuracy'\"])"
   ]
  },
  {
   "cell_type": "code",
   "execution_count": 16,
   "metadata": {},
   "outputs": [
    {
     "output_type": "execute_result",
     "data": {
      "text/plain": [
       "    threshold      p     p'    n/p ratio  upper limit for train/val accuracy  \\\n",
       "0           0  49547      0    71.314873                            0.000000   \n",
       "1           1  11850  37697   298.180422                            0.010669   \n",
       "2           2   7240   4610   488.043923                            0.013278   \n",
       "3           3   5350   1890   660.455701                            0.014883   \n",
       "4           4   4230   1120   835.328132                            0.016151   \n",
       "5           5   3527    703  1001.825347                            0.017146   \n",
       "6           6   2977    550  1186.912328                            0.018080   \n",
       "7           7   2538    439  1392.213554                            0.018949   \n",
       "8           8   2215    323  1595.231603                            0.019681   \n",
       "9           9   1959    256  1803.694742                            0.020333   \n",
       "10         10   1751    208  2017.954312                            0.020921   \n",
       "11         11   1590    161  2222.288050                            0.021422   \n",
       "12         12   1438    152  2457.189152                            0.021939   \n",
       "13         13   1317    121  2682.944571                            0.022384   \n",
       "14         14   1227     90  2879.737571                            0.022740   \n",
       "15         15   1152     75  3067.220486                            0.023059   \n",
       "16         16   1099     53  3215.139217                            0.023299   \n",
       "17         17   1036     63  3410.654440                            0.023602   \n",
       "18         18    989     47  3572.738119                            0.023841   \n",
       "19         19    937     52  3771.011740                            0.024121   \n",
       "20         20    898     39  3934.786192                            0.024342   \n",
       "21         21    854     44  4137.515222                            0.024603   \n",
       "22         22    822     32  4298.586375                            0.024802   \n",
       "23         23    783     39  4512.692209                            0.025056   \n",
       "24         24    764     19  4624.918848                            0.025185   \n",
       "25         25    735     29  4807.398639                            0.025391   \n",
       "26         26    705     30  5011.968794                            0.025611   \n",
       "27         27    682     23  5180.994135                            0.025787   \n",
       "28         28    662     20  5337.519637                            0.025946   \n",
       "29         29    649     13  5444.434515                            0.026052   \n",
       "\n",
       "    accuracy'  \n",
       "0    0.000000  \n",
       "1    0.010669  \n",
       "2    0.002609  \n",
       "3    0.001605  \n",
       "4    0.001268  \n",
       "5    0.000995  \n",
       "6    0.000934  \n",
       "7    0.000870  \n",
       "8    0.000731  \n",
       "9    0.000652  \n",
       "10   0.000589  \n",
       "11   0.000501  \n",
       "12   0.000516  \n",
       "13   0.000445  \n",
       "14   0.000357  \n",
       "15   0.000318  \n",
       "16   0.000240  \n",
       "17   0.000303  \n",
       "18   0.000239  \n",
       "19   0.000280  \n",
       "20   0.000221  \n",
       "21   0.000262  \n",
       "22   0.000199  \n",
       "23   0.000254  \n",
       "24   0.000129  \n",
       "25   0.000205  \n",
       "26   0.000221  \n",
       "27   0.000176  \n",
       "28   0.000158  \n",
       "29   0.000107  "
      ],
      "text/html": "<div>\n<style scoped>\n    .dataframe tbody tr th:only-of-type {\n        vertical-align: middle;\n    }\n\n    .dataframe tbody tr th {\n        vertical-align: top;\n    }\n\n    .dataframe thead th {\n        text-align: right;\n    }\n</style>\n<table border=\"1\" class=\"dataframe\">\n  <thead>\n    <tr style=\"text-align: right;\">\n      <th></th>\n      <th>threshold</th>\n      <th>p</th>\n      <th>p'</th>\n      <th>n/p ratio</th>\n      <th>upper limit for train/val accuracy</th>\n      <th>accuracy'</th>\n    </tr>\n  </thead>\n  <tbody>\n    <tr>\n      <th>0</th>\n      <td>0</td>\n      <td>49547</td>\n      <td>0</td>\n      <td>71.314873</td>\n      <td>0.000000</td>\n      <td>0.000000</td>\n    </tr>\n    <tr>\n      <th>1</th>\n      <td>1</td>\n      <td>11850</td>\n      <td>37697</td>\n      <td>298.180422</td>\n      <td>0.010669</td>\n      <td>0.010669</td>\n    </tr>\n    <tr>\n      <th>2</th>\n      <td>2</td>\n      <td>7240</td>\n      <td>4610</td>\n      <td>488.043923</td>\n      <td>0.013278</td>\n      <td>0.002609</td>\n    </tr>\n    <tr>\n      <th>3</th>\n      <td>3</td>\n      <td>5350</td>\n      <td>1890</td>\n      <td>660.455701</td>\n      <td>0.014883</td>\n      <td>0.001605</td>\n    </tr>\n    <tr>\n      <th>4</th>\n      <td>4</td>\n      <td>4230</td>\n      <td>1120</td>\n      <td>835.328132</td>\n      <td>0.016151</td>\n      <td>0.001268</td>\n    </tr>\n    <tr>\n      <th>5</th>\n      <td>5</td>\n      <td>3527</td>\n      <td>703</td>\n      <td>1001.825347</td>\n      <td>0.017146</td>\n      <td>0.000995</td>\n    </tr>\n    <tr>\n      <th>6</th>\n      <td>6</td>\n      <td>2977</td>\n      <td>550</td>\n      <td>1186.912328</td>\n      <td>0.018080</td>\n      <td>0.000934</td>\n    </tr>\n    <tr>\n      <th>7</th>\n      <td>7</td>\n      <td>2538</td>\n      <td>439</td>\n      <td>1392.213554</td>\n      <td>0.018949</td>\n      <td>0.000870</td>\n    </tr>\n    <tr>\n      <th>8</th>\n      <td>8</td>\n      <td>2215</td>\n      <td>323</td>\n      <td>1595.231603</td>\n      <td>0.019681</td>\n      <td>0.000731</td>\n    </tr>\n    <tr>\n      <th>9</th>\n      <td>9</td>\n      <td>1959</td>\n      <td>256</td>\n      <td>1803.694742</td>\n      <td>0.020333</td>\n      <td>0.000652</td>\n    </tr>\n    <tr>\n      <th>10</th>\n      <td>10</td>\n      <td>1751</td>\n      <td>208</td>\n      <td>2017.954312</td>\n      <td>0.020921</td>\n      <td>0.000589</td>\n    </tr>\n    <tr>\n      <th>11</th>\n      <td>11</td>\n      <td>1590</td>\n      <td>161</td>\n      <td>2222.288050</td>\n      <td>0.021422</td>\n      <td>0.000501</td>\n    </tr>\n    <tr>\n      <th>12</th>\n      <td>12</td>\n      <td>1438</td>\n      <td>152</td>\n      <td>2457.189152</td>\n      <td>0.021939</td>\n      <td>0.000516</td>\n    </tr>\n    <tr>\n      <th>13</th>\n      <td>13</td>\n      <td>1317</td>\n      <td>121</td>\n      <td>2682.944571</td>\n      <td>0.022384</td>\n      <td>0.000445</td>\n    </tr>\n    <tr>\n      <th>14</th>\n      <td>14</td>\n      <td>1227</td>\n      <td>90</td>\n      <td>2879.737571</td>\n      <td>0.022740</td>\n      <td>0.000357</td>\n    </tr>\n    <tr>\n      <th>15</th>\n      <td>15</td>\n      <td>1152</td>\n      <td>75</td>\n      <td>3067.220486</td>\n      <td>0.023059</td>\n      <td>0.000318</td>\n    </tr>\n    <tr>\n      <th>16</th>\n      <td>16</td>\n      <td>1099</td>\n      <td>53</td>\n      <td>3215.139217</td>\n      <td>0.023299</td>\n      <td>0.000240</td>\n    </tr>\n    <tr>\n      <th>17</th>\n      <td>17</td>\n      <td>1036</td>\n      <td>63</td>\n      <td>3410.654440</td>\n      <td>0.023602</td>\n      <td>0.000303</td>\n    </tr>\n    <tr>\n      <th>18</th>\n      <td>18</td>\n      <td>989</td>\n      <td>47</td>\n      <td>3572.738119</td>\n      <td>0.023841</td>\n      <td>0.000239</td>\n    </tr>\n    <tr>\n      <th>19</th>\n      <td>19</td>\n      <td>937</td>\n      <td>52</td>\n      <td>3771.011740</td>\n      <td>0.024121</td>\n      <td>0.000280</td>\n    </tr>\n    <tr>\n      <th>20</th>\n      <td>20</td>\n      <td>898</td>\n      <td>39</td>\n      <td>3934.786192</td>\n      <td>0.024342</td>\n      <td>0.000221</td>\n    </tr>\n    <tr>\n      <th>21</th>\n      <td>21</td>\n      <td>854</td>\n      <td>44</td>\n      <td>4137.515222</td>\n      <td>0.024603</td>\n      <td>0.000262</td>\n    </tr>\n    <tr>\n      <th>22</th>\n      <td>22</td>\n      <td>822</td>\n      <td>32</td>\n      <td>4298.586375</td>\n      <td>0.024802</td>\n      <td>0.000199</td>\n    </tr>\n    <tr>\n      <th>23</th>\n      <td>23</td>\n      <td>783</td>\n      <td>39</td>\n      <td>4512.692209</td>\n      <td>0.025056</td>\n      <td>0.000254</td>\n    </tr>\n    <tr>\n      <th>24</th>\n      <td>24</td>\n      <td>764</td>\n      <td>19</td>\n      <td>4624.918848</td>\n      <td>0.025185</td>\n      <td>0.000129</td>\n    </tr>\n    <tr>\n      <th>25</th>\n      <td>25</td>\n      <td>735</td>\n      <td>29</td>\n      <td>4807.398639</td>\n      <td>0.025391</td>\n      <td>0.000205</td>\n    </tr>\n    <tr>\n      <th>26</th>\n      <td>26</td>\n      <td>705</td>\n      <td>30</td>\n      <td>5011.968794</td>\n      <td>0.025611</td>\n      <td>0.000221</td>\n    </tr>\n    <tr>\n      <th>27</th>\n      <td>27</td>\n      <td>682</td>\n      <td>23</td>\n      <td>5180.994135</td>\n      <td>0.025787</td>\n      <td>0.000176</td>\n    </tr>\n    <tr>\n      <th>28</th>\n      <td>28</td>\n      <td>662</td>\n      <td>20</td>\n      <td>5337.519637</td>\n      <td>0.025946</td>\n      <td>0.000158</td>\n    </tr>\n    <tr>\n      <th>29</th>\n      <td>29</td>\n      <td>649</td>\n      <td>13</td>\n      <td>5444.434515</td>\n      <td>0.026052</td>\n      <td>0.000107</td>\n    </tr>\n  </tbody>\n</table>\n</div>"
     },
     "metadata": {},
     "execution_count": 16
    }
   ],
   "source": [
    "df_rip_threshold"
   ]
  },
  {
   "source": [
    "## Save Analysis "
   ],
   "cell_type": "markdown",
   "metadata": {}
  },
  {
   "cell_type": "code",
   "execution_count": 18,
   "metadata": {},
   "outputs": [],
   "source": [
    "df_gpa_threshold.to_csv(\"analysis/{}_gpa_analysis.csv\".format(model_name), index=False)\n",
    "df_rip_threshold.to_csv(\"analysis/{}_rip_analysis.csv\".format(model_name), index=False)"
   ]
  },
  {
   "cell_type": "code",
   "execution_count": null,
   "metadata": {},
   "outputs": [],
   "source": []
  }
 ]
}