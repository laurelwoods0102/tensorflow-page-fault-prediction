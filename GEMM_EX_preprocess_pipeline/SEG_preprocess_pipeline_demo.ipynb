{
 "metadata": {
  "language_info": {
   "codemirror_mode": {
    "name": "ipython",
    "version": 3
   },
   "file_extension": ".py",
   "mimetype": "text/x-python",
   "name": "python",
   "nbconvert_exporter": "python",
   "pygments_lexer": "ipython3",
   "version": "3.7.6-final"
  },
  "orig_nbformat": 2,
  "kernelspec": {
   "name": "python3",
   "display_name": "Python 3"
  }
 },
 "nbformat": 4,
 "nbformat_minor": 2,
 "cells": [
  {
   "cell_type": "code",
   "execution_count": 1,
   "metadata": {},
   "outputs": [],
   "source": [
    "import numpy as np\n",
    "import pandas as pd\n",
    "import json\n",
    "import dill"
   ]
  },
  {
   "cell_type": "code",
   "execution_count": 2,
   "metadata": {},
   "outputs": [],
   "source": [
    "model_name = \"GEMM_EX\""
   ]
  },
  {
   "cell_type": "code",
   "execution_count": 23,
   "metadata": {},
   "outputs": [],
   "source": [
    "train_set_original = pd.read_csv(\"data/{}_train_set_original.csv\".format(model_name), dtype=np.object)\n",
    "val_set_original = pd.read_csv(\"data/{}_val_set_original.csv\".format(model_name), dtype=np.object)\n",
    "test_set_original = pd.read_csv(\"data/{}_test_set_original.csv\".format(model_name), dtype=np.object)\n",
    "\n",
    "train_set = pd.read_csv(\"data/{}_train_set.csv\".format(model_name))\n",
    "val_set = pd.read_csv(\"data/{}_val_set.csv\".format(model_name))\n",
    "test_set = pd.read_csv(\"data/{}_test_set.csv\".format(model_name))"
   ]
  },
  {
   "cell_type": "code",
   "execution_count": 5,
   "metadata": {},
   "outputs": [],
   "source": [
    "with open(\"static/pipeline_gpa.pkl\", \"rb\") as f:\n",
    "    pipeline_gpa = dill.load(f)\n",
    "\n",
    "with open(\"static/pipeline_rip.pkl\", \"rb\") as f:\n",
    "    pipeline_rip = dill.load(f)"
   ]
  },
  {
   "source": [
    "## Load Vocabulary and Instantiate as dictionary : GPA"
   ],
   "cell_type": "markdown",
   "metadata": {}
  },
  {
   "cell_type": "code",
   "execution_count": 6,
   "metadata": {},
   "outputs": [
    {
     "output_type": "execute_result",
     "data": {
      "text/plain": [
       "array([      -4096,          -1,           0, ...,    13058048,\n",
       "       -1012228096,     -569308], dtype=int64)"
      ]
     },
     "metadata": {},
     "execution_count": 6
    }
   ],
   "source": [
    "vocabulary_gpa = np.genfromtxt(\"static/vocabulary_gpa.csv\", delimiter=\"\\n\", dtype=np.int64)\n",
    "vocabulary_gpa"
   ]
  },
  {
   "cell_type": "code",
   "execution_count": 7,
   "metadata": {},
   "outputs": [],
   "source": [
    "vocabulary_gpa = {v:i for i, v in enumerate(vocabulary_gpa)}"
   ]
  },
  {
   "cell_type": "code",
   "execution_count": 8,
   "metadata": {},
   "outputs": [
    {
     "output_type": "execute_result",
     "data": {
      "text/plain": [
       "{-4096: 0,\n",
       " -1: 1,\n",
       " 0: 2,\n",
       " -1638400: 3,\n",
       " -1896448: 4,\n",
       " -864256: 5,\n",
       " -8192: 6,\n",
       " -4060: 7,\n",
       " 13920476518: 8,\n",
       " -13920476522: 9}"
      ]
     },
     "metadata": {},
     "execution_count": 8
    }
   ],
   "source": [
    "dict(list(vocabulary_gpa.items())[:10])"
   ]
  },
  {
   "source": [
    "## Demo : GPA"
   ],
   "cell_type": "markdown",
   "metadata": {}
  },
  {
   "cell_type": "code",
   "execution_count": 24,
   "metadata": {},
   "outputs": [],
   "source": [
    "train_original_gpa_sample = train_set_original['gpa'].values[:30].astype(np.int64)"
   ]
  },
  {
   "cell_type": "code",
   "execution_count": 25,
   "metadata": {},
   "outputs": [
    {
     "output_type": "execute_result",
     "data": {
      "text/plain": [
       "array(['14190604288.0', '14352732392.0', '14121463808.0', '14120734720.0',\n",
       "       '14120828928.0', '19471331328.0', '14177644544.0', '14179282944.0',\n",
       "       '17110061056.0', '17111699456.0', '14228705280.0', '14239969280.0',\n",
       "       '14241607680.0', '14243504128.0', '19440017408.0', '18927992832.0',\n",
       "       '18927996928.0', '18928001024.0', '18928005120.0', '18928009216.0',\n",
       "       '18928029696.0', '18928037888.0', '14215737344.0', '18962931712.0',\n",
       "       '14169337856.0', '14170099712.0', '14171131904.0', '14170525696.0',\n",
       "       '14172348416.0', '14171140096.0'], dtype=object)"
      ]
     },
     "metadata": {},
     "execution_count": 25
    }
   ],
   "source": [
    "train_original_gpa_sample.astype"
   ]
  },
  {
   "cell_type": "code",
   "execution_count": 15,
   "metadata": {},
   "outputs": [
    {
     "output_type": "execute_result",
     "data": {
      "text/plain": [
       "array([  0,   0,   0,   0,   0,   0,   0,   0,   0,   0,   0,   0,   0,\n",
       "         0,   0,   0,   0,   0,   0,   0,   0, 888,   0,   0,   0,   0,\n",
       "         0,   0,  48])"
      ]
     },
     "metadata": {},
     "execution_count": 15
    }
   ],
   "source": [
    "processed_train_sample = pipeline.transform(train_original_sample)\n",
    "processed_train_sample"
   ]
  },
  {
   "cell_type": "code",
   "execution_count": 16,
   "metadata": {},
   "outputs": [
    {
     "output_type": "execute_result",
     "data": {
      "text/plain": [
       "array([-90096539952,      -528712,       -73032,      1315952,\n",
       "            -160160,      -549096,       817016,      -248576,\n",
       "           -1115480,      1044376,     -1382144,      -146992,\n",
       "            1547488,      -558368,    -54420112,     54975104,\n",
       "           -1362752,       433536,       516512,      -131600,\n",
       "             433668,         6120,      -389321,      -901523,\n",
       "              12160,    -19974760,     21278728,      -640432,\n",
       "                -48], dtype=int64)"
      ]
     },
     "metadata": {},
     "execution_count": 16
    }
   ],
   "source": [
    "# Delta\n",
    "train_sample = train_original_sample[:-1] - train_original_sample[1:]\n",
    "train_sample"
   ]
  },
  {
   "cell_type": "code",
   "execution_count": 19,
   "metadata": {},
   "outputs": [
    {
     "output_type": "execute_result",
     "data": {
      "text/plain": [
       "array([  -1,   -1,   -1,   -1,   -1,   -1,   -1,   -1,   -1,   -1,   -1,\n",
       "         -1,   -1,   -1,   -1,   -1,   -1,   -1,   -1,   -1,   -1, 6120,\n",
       "         -1,   -1,   -1,   -1,   -1,   -1,  -48], dtype=int64)"
      ]
     },
     "metadata": {},
     "execution_count": 19
    }
   ],
   "source": [
    "# Note that Irreversible predictions are returned as -1.\n",
    "train_sample_inverse_transformed = pipeline.inverse_transform(processed_train_sample)\n",
    "train_sample_inverse_transformed"
   ]
  },
  {
   "cell_type": "code",
   "execution_count": 24,
   "metadata": {},
   "outputs": [
    {
     "output_type": "execute_result",
     "data": {
      "text/plain": [
       "(888, 6120, 6120)"
      ]
     },
     "metadata": {},
     "execution_count": 24
    }
   ],
   "source": [
    "# Processed / Original Delta / Inverse_transformed (= restored from prediction)\n",
    "processed_train_sample[21], train_sample[21], train_sample_inverse_transformed[21]"
   ]
  },
  {
   "cell_type": "code",
   "execution_count": 28,
   "metadata": {},
   "outputs": [
    {
     "output_type": "execute_result",
     "data": {
      "text/plain": [
       "888"
      ]
     },
     "metadata": {},
     "execution_count": 28
    }
   ],
   "source": [
    "vocabulary[6120]"
   ]
  },
  {
   "source": [
    "asd"
   ],
   "cell_type": "markdown",
   "metadata": {}
  }
 ]
}