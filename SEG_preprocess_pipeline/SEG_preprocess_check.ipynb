{
 "metadata": {
  "language_info": {
   "codemirror_mode": {
    "name": "ipython",
    "version": 3
   },
   "file_extension": ".py",
   "mimetype": "text/x-python",
   "name": "python",
   "nbconvert_exporter": "python",
   "pygments_lexer": "ipython3",
   "version": "3.7.6-final"
  },
  "orig_nbformat": 2,
  "kernelspec": {
   "name": "python3",
   "display_name": "Python 3"
  }
 },
 "nbformat": 4,
 "nbformat_minor": 2,
 "cells": [
  {
   "cell_type": "code",
   "execution_count": 1,
   "metadata": {},
   "outputs": [],
   "source": [
    "import numpy as np\n",
    "import pandas as pd\n",
    "import matplotlib\n",
    "import matplotlib.pyplot as plt\n",
    "import os\n",
    "import json\n",
    "import datetime"
   ]
  },
  {
   "cell_type": "code",
   "execution_count": 2,
   "metadata": {},
   "outputs": [],
   "source": [
    "train_set = np.genfromtxt(\"data/SEG_train_set.csv\", delimiter=\"\\n\", dtype=np.int64)\n",
    "val_set = np.genfromtxt(\"data/SEG_val_set.csv\", delimiter=\"\\n\", dtype=np.int64)\n",
    "test_set = np.genfromtxt(\"data/SEG_test_set.csv\", delimiter=\"\\n\", dtype=np.int64)"
   ]
  },
  {
   "cell_type": "code",
   "execution_count": 3,
   "metadata": {},
   "outputs": [
    {
     "output_type": "execute_result",
     "data": {
      "text/plain": [
       "((161291,), (40323,), (35579,))"
      ]
     },
     "metadata": {},
     "execution_count": 3
    }
   ],
   "source": [
    "train_set.shape, val_set.shape, test_set.shape"
   ]
  },
  {
   "source": [
    "## NOTE\n",
    "Reason why freq(delta) <= 2 occurred in train_set and val_set is because **dataset is pruned based on train_set + val_set**.  \n",
    "Thus, deltas whose freq(delta) > 2 in train_val_set can be splitted and thus their freq becomes < 2 in either train_set or val_set."
   ],
   "cell_type": "markdown",
   "metadata": {}
  },
  {
   "cell_type": "code",
   "execution_count": 14,
   "metadata": {},
   "outputs": [
    {
     "output_type": "execute_result",
     "data": {
      "text/plain": [
       "0        37947\n",
       "1        25455\n",
       "2         4855\n",
       "3         1849\n",
       "4         1848\n",
       "         ...  \n",
       "15907        1\n",
       "15621        1\n",
       "16060        1\n",
       "14013        1\n",
       "13692        1\n",
       "Length: 16284, dtype: int64"
      ]
     },
     "metadata": {},
     "execution_count": 14
    }
   ],
   "source": [
    "pd.Series(train_set).value_counts()"
   ]
  },
  {
   "cell_type": "code",
   "execution_count": 5,
   "metadata": {},
   "outputs": [
    {
     "output_type": "execute_result",
     "data": {
      "text/plain": [
       "0        7819\n",
       "2        1440\n",
       "1         969\n",
       "5         267\n",
       "6         248\n",
       "         ... \n",
       "11644       1\n",
       "9597        1\n",
       "13323       1\n",
       "14547       1\n",
       "10228       1\n",
       "Length: 14016, dtype: int64"
      ]
     },
     "metadata": {},
     "execution_count": 5
    }
   ],
   "source": [
    "pd.Series(val_set).value_counts()"
   ]
  },
  {
   "cell_type": "code",
   "execution_count": 6,
   "metadata": {},
   "outputs": [
    {
     "output_type": "execute_result",
     "data": {
      "text/plain": [
       "0        26228\n",
       "2         1556\n",
       "1         1036\n",
       "5          274\n",
       "7          266\n",
       "         ...  \n",
       "782          3\n",
       "13096        3\n",
       "1198         3\n",
       "7501         3\n",
       "8188         3\n",
       "Length: 1046, dtype: int64"
      ]
     },
     "metadata": {},
     "execution_count": 6
    }
   ],
   "source": [
    "pd.Series(test_set).value_counts()"
   ]
  },
  {
   "cell_type": "code",
   "execution_count": null,
   "metadata": {},
   "outputs": [],
   "source": []
  }
 ]
}