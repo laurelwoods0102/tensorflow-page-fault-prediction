{
 "metadata": {
  "language_info": {
   "codemirror_mode": {
    "name": "ipython",
    "version": 3
   },
   "file_extension": ".py",
   "mimetype": "text/x-python",
   "name": "python",
   "nbconvert_exporter": "python",
   "pygments_lexer": "ipython3",
   "version": 3
  },
  "orig_nbformat": 2,
  "kernelspec": {
   "name": "python_defaultSpec_1596516221445",
   "display_name": "Python 3.7.6 64-bit ('base': conda)"
  }
 },
 "nbformat": 4,
 "nbformat_minor": 2,
 "cells": [
  {
   "cell_type": "code",
   "execution_count": 1,
   "metadata": {},
   "outputs": [],
   "source": [
    "import tensorflow as tf\n",
    "from tensorflow import keras\n",
    "import numpy as np\n",
    "import pandas as pd\n",
    "import matplotlib.pyplot as plt\n",
    "import os\n",
    "import json\n",
    "import datetime\n",
    "\n",
    "plt.rcParams[\"figure.figsize\"] = (20, 5)\n",
    "\n",
    "physical_devices = tf.config.list_physical_devices('GPU')\n",
    "tf.config.experimental.set_memory_growth(physical_devices[0], enable=True)"
   ]
  },
  {
   "cell_type": "code",
   "execution_count": 21,
   "metadata": {},
   "outputs": [],
   "source": [
    "timestamp = \"20200804-143723\""
   ]
  },
  {
   "cell_type": "code",
   "execution_count": 22,
   "metadata": {
    "tags": []
   },
   "outputs": [
    {
     "output_type": "stream",
     "name": "stdout",
     "text": "Model: \"sequential\"\n_________________________________________________________________\nLayer (type)                 Output Shape              Param #   \n=================================================================\nlstm (LSTM)                  (None, 16, 128)           66560     \n_________________________________________________________________\nlstm_1 (LSTM)                (None, 128)               131584    \n_________________________________________________________________\ndropout (Dropout)            (None, 128)               0         \n_________________________________________________________________\ndense (Dense)                (None, 8)                 1032      \n_________________________________________________________________\nactivation (Activation)      (None, 8)                 0         \n=================================================================\nTotal params: 199,176\nTrainable params: 199,176\nNon-trainable params: 0\n_________________________________________________________________\n"
    }
   ],
   "source": [
    "new_model = keras.models.load_model(\"version/{0}/model.h5\".format(timestamp))\n",
    "new_model.summary()"
   ]
  },
  {
   "cell_type": "code",
   "execution_count": 23,
   "metadata": {},
   "outputs": [
    {
     "output_type": "execute_result",
     "data": {
      "text/plain": "     scaled     delta            t          t+1\n0  0.500051    878848  93730561040  93731439888\n1  0.499278 -11182192  93730563456  93719381264\n2  0.499281 -11128760  93730492360  93719363600\n3  0.503443  53784064  93730537488  93784321552\n4  0.503386  52884080  93731439888  93784323968",
      "text/html": "<div>\n<style scoped>\n    .dataframe tbody tr th:only-of-type {\n        vertical-align: middle;\n    }\n\n    .dataframe tbody tr th {\n        vertical-align: top;\n    }\n\n    .dataframe thead th {\n        text-align: right;\n    }\n</style>\n<table border=\"1\" class=\"dataframe\">\n  <thead>\n    <tr style=\"text-align: right;\">\n      <th></th>\n      <th>scaled</th>\n      <th>delta</th>\n      <th>t</th>\n      <th>t+1</th>\n    </tr>\n  </thead>\n  <tbody>\n    <tr>\n      <th>0</th>\n      <td>0.500051</td>\n      <td>878848</td>\n      <td>93730561040</td>\n      <td>93731439888</td>\n    </tr>\n    <tr>\n      <th>1</th>\n      <td>0.499278</td>\n      <td>-11182192</td>\n      <td>93730563456</td>\n      <td>93719381264</td>\n    </tr>\n    <tr>\n      <th>2</th>\n      <td>0.499281</td>\n      <td>-11128760</td>\n      <td>93730492360</td>\n      <td>93719363600</td>\n    </tr>\n    <tr>\n      <th>3</th>\n      <td>0.503443</td>\n      <td>53784064</td>\n      <td>93730537488</td>\n      <td>93784321552</td>\n    </tr>\n    <tr>\n      <th>4</th>\n      <td>0.503386</td>\n      <td>52884080</td>\n      <td>93731439888</td>\n      <td>93784323968</td>\n    </tr>\n  </tbody>\n</table>\n</div>"
     },
     "metadata": {},
     "execution_count": 23
    }
   ],
   "source": [
    "test_set = pd.read_csv(\"data/SEG_test_dataset_4.csv\")\n",
    "test_set.head()"
   ]
  },
  {
   "cell_type": "code",
   "execution_count": 24,
   "metadata": {},
   "outputs": [
    {
     "output_type": "execute_result",
     "data": {
      "text/plain": "array([[[0.50005119],\n        [0.49927789],\n        [0.49928132],\n        [0.50344324],\n        [0.50338553],\n        [0.50076703],\n        [0.50225755],\n        [0.49599084],\n        [0.49598955],\n        [0.4999956 ],\n        [0.49797315],\n        [0.50007521],\n        [0.50007468],\n        [0.49944095],\n        [0.50315846],\n        [0.49997368]]])"
     },
     "metadata": {},
     "execution_count": 24
    }
   ],
   "source": [
    "sample = test_set[\"scaled\"].values[:16].reshape(1, -1, 1)\n",
    "sample"
   ]
  },
  {
   "cell_type": "code",
   "execution_count": 25,
   "metadata": {},
   "outputs": [
    {
     "output_type": "execute_result",
     "data": {
      "text/plain": "array([[0.4961526 , 0.4967316 , 0.493147  , 0.49728626, 0.50014895,\n        0.4993288 , 0.50074106, 0.5005227 ]], dtype=float32)"
     },
     "metadata": {},
     "execution_count": 25
    }
   ],
   "source": [
    "result = new_model.predict(sample)\n",
    "result"
   ]
  },
  {
   "cell_type": "code",
   "execution_count": 27,
   "metadata": {},
   "outputs": [
    {
     "output_type": "execute_result",
     "data": {
      "text/plain": "array([[ -59926780,  -50896208, -106805048,  -42245400,    2403582,\n         -10388331,   11638674,    8232455]], dtype=int64)"
     },
     "metadata": {},
     "execution_count": 27
    }
   ],
   "source": [
    "import joblib\n",
    "\n",
    "scaler = joblib.load(\"data/scaler.pkl\")\n",
    "scaled_result = scaler.inverse_transform(result).astype(np.int64)\n",
    "scaled_result"
   ]
  },
  {
   "cell_type": "code",
   "execution_count": 30,
   "metadata": {},
   "outputs": [
    {
     "output_type": "execute_result",
     "data": {
      "text/plain": "      scaled      delta            t          t+1\n16  0.499996      11776  93723099152  93723110928\n17  0.500015     315576  93722797768  93723113344\n18  0.496830  -49360128  93772465168  93723105040\n19  0.499995      -3144  93722795024  93722791880\n20  0.507981  124559856  93723110928  93847670784\n21  0.499973    -341872  93723113344  93722771472\n22  0.499974    -321792  93723105040  93722783248\n23  0.499994      -6216  93722791880  93722785664",
      "text/html": "<div>\n<style scoped>\n    .dataframe tbody tr th:only-of-type {\n        vertical-align: middle;\n    }\n\n    .dataframe tbody tr th {\n        vertical-align: top;\n    }\n\n    .dataframe thead th {\n        text-align: right;\n    }\n</style>\n<table border=\"1\" class=\"dataframe\">\n  <thead>\n    <tr style=\"text-align: right;\">\n      <th></th>\n      <th>scaled</th>\n      <th>delta</th>\n      <th>t</th>\n      <th>t+1</th>\n    </tr>\n  </thead>\n  <tbody>\n    <tr>\n      <th>16</th>\n      <td>0.499996</td>\n      <td>11776</td>\n      <td>93723099152</td>\n      <td>93723110928</td>\n    </tr>\n    <tr>\n      <th>17</th>\n      <td>0.500015</td>\n      <td>315576</td>\n      <td>93722797768</td>\n      <td>93723113344</td>\n    </tr>\n    <tr>\n      <th>18</th>\n      <td>0.496830</td>\n      <td>-49360128</td>\n      <td>93772465168</td>\n      <td>93723105040</td>\n    </tr>\n    <tr>\n      <th>19</th>\n      <td>0.499995</td>\n      <td>-3144</td>\n      <td>93722795024</td>\n      <td>93722791880</td>\n    </tr>\n    <tr>\n      <th>20</th>\n      <td>0.507981</td>\n      <td>124559856</td>\n      <td>93723110928</td>\n      <td>93847670784</td>\n    </tr>\n    <tr>\n      <th>21</th>\n      <td>0.499973</td>\n      <td>-341872</td>\n      <td>93723113344</td>\n      <td>93722771472</td>\n    </tr>\n    <tr>\n      <th>22</th>\n      <td>0.499974</td>\n      <td>-321792</td>\n      <td>93723105040</td>\n      <td>93722783248</td>\n    </tr>\n    <tr>\n      <th>23</th>\n      <td>0.499994</td>\n      <td>-6216</td>\n      <td>93722791880</td>\n      <td>93722785664</td>\n    </tr>\n  </tbody>\n</table>\n</div>"
     },
     "metadata": {},
     "execution_count": 30
    }
   ],
   "source": [
    "test_set[16:24]"
   ]
  },
  {
   "cell_type": "code",
   "execution_count": 15,
   "metadata": {},
   "outputs": [
    {
     "output_type": "execute_result",
     "data": {
      "text/plain": "     scaled       delta            t          t+1\n0  0.398202 -1587653544  95444983808  93857330264\n1  0.895775  6172925864  87674650304  93847576168\n2  0.103254 -6187909720  93857313352  87669403632\n3  0.103253 -6187918552  93857325056  87669406504\n4  0.102577 -6198466584  93857330264  87658863680",
      "text/html": "<div>\n<style scoped>\n    .dataframe tbody tr th:only-of-type {\n        vertical-align: middle;\n    }\n\n    .dataframe tbody tr th {\n        vertical-align: top;\n    }\n\n    .dataframe thead th {\n        text-align: right;\n    }\n</style>\n<table border=\"1\" class=\"dataframe\">\n  <thead>\n    <tr style=\"text-align: right;\">\n      <th></th>\n      <th>scaled</th>\n      <th>delta</th>\n      <th>t</th>\n      <th>t+1</th>\n    </tr>\n  </thead>\n  <tbody>\n    <tr>\n      <th>0</th>\n      <td>0.398202</td>\n      <td>-1587653544</td>\n      <td>95444983808</td>\n      <td>93857330264</td>\n    </tr>\n    <tr>\n      <th>1</th>\n      <td>0.895775</td>\n      <td>6172925864</td>\n      <td>87674650304</td>\n      <td>93847576168</td>\n    </tr>\n    <tr>\n      <th>2</th>\n      <td>0.103254</td>\n      <td>-6187909720</td>\n      <td>93857313352</td>\n      <td>87669403632</td>\n    </tr>\n    <tr>\n      <th>3</th>\n      <td>0.103253</td>\n      <td>-6187918552</td>\n      <td>93857325056</td>\n      <td>87669406504</td>\n    </tr>\n    <tr>\n      <th>4</th>\n      <td>0.102577</td>\n      <td>-6198466584</td>\n      <td>93857330264</td>\n      <td>87658863680</td>\n    </tr>\n  </tbody>\n</table>\n</div>"
     },
     "metadata": {},
     "execution_count": 15
    }
   ],
   "source": [
    "train_set = pd.read_csv(\"data/SEG_train_dataset_4.csv\")\n",
    "train_set.head()"
   ]
  },
  {
   "cell_type": "code",
   "execution_count": 20,
   "metadata": {},
   "outputs": [
    {
     "output_type": "execute_result",
     "data": {
      "text/plain": "array([-7798345664, -7798172656, -7798052752, ...,  7798468256,\n        7798506272,  7798506464], dtype=int64)"
     },
     "metadata": {},
     "execution_count": 20
    }
   ],
   "source": [
    "categories = np.sort(train_set[\"delta\"].value_counts().index)\n",
    "categories"
   ]
  },
  {
   "cell_type": "code",
   "execution_count": 29,
   "metadata": {},
   "outputs": [
    {
     "output_type": "execute_result",
     "data": {
      "text/plain": "array([-59928368, -59924968, -59933976, -59913552, -59897856, -59878084,\n       -59875048, -59858944, -59851512, -60006528], dtype=int64)"
     },
     "metadata": {},
     "execution_count": 29
    }
   ],
   "source": [
    "closest_point = categories[np.argsort(np.abs(scaled_result[0][0]-categories))][:10]\n",
    "closest_point"
   ]
  },
  {
   "cell_type": "code",
   "execution_count": 32,
   "metadata": {},
   "outputs": [
    {
     "output_type": "execute_result",
     "data": {
      "text/plain": "(-59926780, 11776)"
     },
     "metadata": {},
     "execution_count": 32
    }
   ],
   "source": [
    "scaled_result[0][0], test_set[\"delta\"][16]"
   ]
  },
  {
   "cell_type": "code",
   "execution_count": null,
   "metadata": {},
   "outputs": [],
   "source": []
  }
 ]
}