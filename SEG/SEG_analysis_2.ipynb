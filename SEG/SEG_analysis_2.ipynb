{
 "metadata": {
  "language_info": {
   "codemirror_mode": {
    "name": "ipython",
    "version": 3
   },
   "file_extension": ".py",
   "mimetype": "text/x-python",
   "name": "python",
   "nbconvert_exporter": "python",
   "pygments_lexer": "ipython3",
   "version": "3.7.6-final"
  },
  "orig_nbformat": 2,
  "kernelspec": {
   "name": "python_defaultSpec_1598232422635",
   "display_name": "Python 3.7.6 64-bit ('base': conda)"
  }
 },
 "nbformat": 4,
 "nbformat_minor": 2,
 "cells": [
  {
   "cell_type": "code",
   "execution_count": 1,
   "metadata": {},
   "outputs": [],
   "source": [
    "import numpy as np\n",
    "import pandas as pd\n",
    "import matplotlib\n",
    "import matplotlib.pyplot as plt\n",
    "import os\n",
    "import json\n",
    "import datetime\n",
    "\n",
    "plt.rcParams[\"figure.figsize\"] = (20, 5)"
   ]
  },
  {
   "cell_type": "code",
   "execution_count": 2,
   "metadata": {},
   "outputs": [
    {
     "output_type": "execute_result",
     "data": {
      "text/plain": "array([ 3196231680, 93292771632, 93293300344, ..., 92658792872,\n       92658792864, 92654987192], dtype=int64)"
     },
     "metadata": {},
     "execution_count": 2
    }
   ],
   "source": [
    "data = np.genfromtxt(\"../로그 데이터/SEG_SGEMM_result.txt\", delimiter=\"\\n\", dtype=np.int64)\n",
    "data"
   ]
  },
  {
   "cell_type": "code",
   "execution_count": 3,
   "metadata": {},
   "outputs": [
    {
     "output_type": "execute_result",
     "data": {
      "text/plain": "(array([90096539952,      528712,       73032, ...,    36097352,\n                 -8,    -3805672], dtype=int64),\n 237194)"
     },
     "metadata": {},
     "execution_count": 3
    }
   ],
   "source": [
    "delta = np.array([data[i+1] - data[i] for i in range(int(len(data))-1)])\n",
    "delta, len(delta)"
   ]
  },
  {
   "cell_type": "code",
   "execution_count": 41,
   "metadata": {},
   "outputs": [
    {
     "output_type": "execute_result",
     "data": {
      "text/plain": " 0             27460\n 4096           7851\n 909517620      1849\n-909517620      1848\n 8192           1481\n               ...  \n-3833072           1\n 349797616         1\n-5403768464        1\n-568288            1\n 7770728296        1\nLength: 60247, dtype: int64"
     },
     "metadata": {},
     "execution_count": 41
    }
   ],
   "source": [
    "data_counts = pd.Series(data=delta.T).value_counts()\n",
    "data_counts"
   ]
  },
  {
   "cell_type": "code",
   "execution_count": 5,
   "metadata": {},
   "outputs": [],
   "source": [
    "def category_by_threshold(data_counts, threshold, sign=\"over\"):\n",
    "    if sign == \"under\":\n",
    "        category = (data_counts < threshold)\n",
    "    else:\n",
    "        category = (data_counts > threshold)\n",
    "    return category.index[category == True]"
   ]
  },
  {
   "cell_type": "code",
   "execution_count": 15,
   "metadata": {},
   "outputs": [
    {
     "output_type": "execute_result",
     "data": {
      "text/plain": "array([         0,       4096,  909517620, -909517620,       8192,\n               -8,      -4096,          8,      12288,       2416,\n            16384,         24,       3520,      -2744,        -12,\n           -12288,      20480,         32,         64,          6,\n             4104,        -16,      24576,         28,       5280,\n            -2884,      28672,         56,      -8192,        240,\n             3904,       4092,      32768,       4128, -515913384,\n            40960,  515913384,       4080,       -240,     172032,\n            -8304,      90112,       3072,         16,      53248,\n               -4,         44,          2,        432,      81920,\n               48,     118784,       3936,     126976,       4112,\n                4,       3856,     -16384,      11776,      61440,\n             -432,        256,        -24,        -48,     -32768,\n           131072,      69632,     135168,      94208,     -20480,\n            -4040,     241664,      -5888,     106496,      98304,\n               76,         36,     274432,    -192512,      17664,\n           376832,       6144,     -61440,     184320,      77824,\n            36864], dtype=int64)"
     },
     "metadata": {},
     "execution_count": 15
    }
   ],
   "source": [
    "threshold = 50\n",
    "category_over_threshold = category_by_threshold(data_counts, threshold).to_numpy()\n",
    "category_over_threshold"
   ]
  },
  {
   "cell_type": "code",
   "execution_count": 26,
   "metadata": {},
   "outputs": [
    {
     "output_type": "execute_result",
     "data": {
      "text/plain": "(86,)"
     },
     "metadata": {},
     "execution_count": 26
    }
   ],
   "source": [
    "category_over_threshold.shape"
   ]
  },
  {
   "cell_type": "code",
   "execution_count": 76,
   "metadata": {},
   "outputs": [
    {
     "output_type": "execute_result",
     "data": {
      "text/plain": "array([ True,  True,  True, ..., False, False, False])"
     },
     "metadata": {},
     "execution_count": 76
    }
   ],
   "source": [
    "minimum = 10\n",
    "category_over_minimum_total = category_by_threshold(data_counts, minimum).to_numpy()\n",
    "mask = np.isin(category_over_minimum_total, category_over_threshold)\n",
    "mask"
   ]
  },
  {
   "cell_type": "code",
   "execution_count": 77,
   "metadata": {},
   "outputs": [
    {
     "output_type": "execute_result",
     "data": {
      "text/plain": "array([   159744,      -256,      3872, ..., 117054760, 388317184,\n        -5073968], dtype=int64)"
     },
     "metadata": {},
     "execution_count": 77
    }
   ],
   "source": [
    "category_over_minimum = category_over_minimum_total[np.where(mask == False)[0]]\n",
    "category_over_minimum"
   ]
  },
  {
   "cell_type": "code",
   "execution_count": 92,
   "metadata": {},
   "outputs": [],
   "source": [
    "closest_category = []\n",
    "for category in category_over_minimum[:50]:\n",
    "    closest_category.append(category_over_threshold[np.argmin(np.abs(category_over_threshold - category))])"
   ]
  },
  {
   "cell_type": "code",
   "execution_count": 93,
   "metadata": {},
   "outputs": [
    {
     "output_type": "execute_result",
     "data": {
      "text/plain": "([172032, -240, 3856, 184320, 44, -48, -192512, -8192, 184320, 256],\n array([   159744,      -256,      3872,    200704,        40,       -56,\n        -22654976,     -8216,    180224,       320], dtype=int64))"
     },
     "metadata": {},
     "execution_count": 93
    }
   ],
   "source": [
    "closest_category[:10], category_over_minimum[:10]"
   ]
  },
  {
   "cell_type": "code",
   "execution_count": 94,
   "metadata": {},
   "outputs": [],
   "source": [
    "closest_category_index = [np.where(delta == clst_ctg)[0][:10] for clst_ctg in closest_category]\n",
    "sample_category_index = [np.where(delta == smpl_ctg)[0][:10] for smpl_ctg in sample_category]"
   ]
  },
  {
   "cell_type": "code",
   "execution_count": 60,
   "metadata": {},
   "outputs": [],
   "source": [
    "def search_slice(category_index, range_value=8):\n",
    "    result_slice = []\n",
    "    for ctg_index in category_index:\n",
    "        tmp = []\n",
    "        for idx in ctg_index:\n",
    "            tmp.append(np.r_[delta[idx-range_value:idx], delta[idx+1:idx+range_value+1]])\n",
    "        result_slice.append(np.array(tmp))\n",
    "    return result_slice"
   ]
  },
  {
   "cell_type": "code",
   "execution_count": 74,
   "metadata": {},
   "outputs": [],
   "source": [
    "category_over_threshold_slice = search_slice(category_over_threshold_index)\n",
    "sample_category_slice = search_slice(sample_category_index)"
   ]
  },
  {
   "cell_type": "code",
   "execution_count": null,
   "metadata": {},
   "outputs": [],
   "source": [
    "from sklearn.metrics import mean_squared_error\n",
    "\n",
    "result_mse = []\n",
    "for i in range(len(category_over_threshold_slice)):\n",
    "    tmp = 0\n",
    "    for co in category_over_threshold_slice[i]:\n",
    "        for sc in sample_category_slice[i]:\n",
    "            tmp =+ mean_squared_error(co, sc)\n",
    "    result.append(tmp/(category_over_threshold_range[i].shape[0] * category_under_threshold_range[i].shape[0]))"
   ]
  },
  {
   "cell_type": "code",
   "execution_count": 17,
   "metadata": {
    "tags": []
   },
   "outputs": [],
   "source": [
    "from sklearn.metrics import mean_squared_error\n",
    "\n",
    "result = []\n",
    "for i in range(len(category_over_threshold_range)):\n",
    "    tmp = 0\n",
    "    for co in category_over_threshold_range[i]:\n",
    "        for cu in category_under_threshold_range[i]:\n",
    "            tmp =+ mean_squared_error(co, cu)\n",
    "    result.append(tmp/(category_over_threshold_range[i].shape[0] * category_under_threshold_range[i].shape[0]))"
   ]
  },
  {
   "cell_type": "code",
   "execution_count": 21,
   "metadata": {},
   "outputs": [
    {
     "output_type": "execute_result",
     "data": {
      "text/plain": "[308675193173.7431,\n 612357242143363.1,\n -11036130921574.953,\n 23095138175830.156,\n -155679915491370.25,\n 324963002223.6062,\n -89016380415882.12,\n 458418993673.54034,\n 744343300062.7511,\n 455279863322720.0]"
     },
     "metadata": {},
     "execution_count": 21
    }
   ],
   "source": [
    "result[:10]"
   ]
  },
  {
   "cell_type": "code",
   "execution_count": 22,
   "metadata": {},
   "outputs": [],
   "source": [
    "np.savetxt(\"analysis_result.csv\", np.array(result))"
   ]
  },
  {
   "cell_type": "code",
   "execution_count": null,
   "metadata": {},
   "outputs": [],
   "source": []
  }
 ]
}