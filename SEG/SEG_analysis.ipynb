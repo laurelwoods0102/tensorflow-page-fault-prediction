{
 "metadata": {
  "language_info": {
   "codemirror_mode": {
    "name": "ipython",
    "version": 3
   },
   "file_extension": ".py",
   "mimetype": "text/x-python",
   "name": "python",
   "nbconvert_exporter": "python",
   "pygments_lexer": "ipython3",
   "version": "3.7.6-final"
  },
  "orig_nbformat": 2,
  "kernelspec": {
   "name": "python_defaultSpec_1598154316261",
   "display_name": "Python 3.7.6 64-bit ('base': conda)"
  }
 },
 "nbformat": 4,
 "nbformat_minor": 2,
 "cells": [
  {
   "cell_type": "code",
   "execution_count": 1,
   "metadata": {},
   "outputs": [],
   "source": [
    "import numpy as np\n",
    "import pandas as pd\n",
    "import matplotlib\n",
    "import matplotlib.pyplot as plt\n",
    "import os\n",
    "import json\n",
    "import datetime\n",
    "\n",
    "plt.rcParams[\"figure.figsize\"] = (20, 5)"
   ]
  },
  {
   "cell_type": "code",
   "execution_count": 2,
   "metadata": {},
   "outputs": [
    {
     "output_type": "execute_result",
     "data": {
      "text/plain": "array([ 3196231680, 93292771632, 93293300344, ..., 92658792872,\n       92658792864, 92654987192], dtype=int64)"
     },
     "metadata": {},
     "execution_count": 2
    }
   ],
   "source": [
    "data = np.genfromtxt(\"../로그 데이터/SEG_SGEMM_result.txt\", delimiter=\"\\n\", dtype=np.int64)\n",
    "data"
   ]
  },
  {
   "cell_type": "code",
   "execution_count": 3,
   "metadata": {},
   "outputs": [
    {
     "output_type": "execute_result",
     "data": {
      "text/plain": "(array([90096539952,      528712,       73032, ...,    36097352,\n                 -8,    -3805672], dtype=int64),\n 237194)"
     },
     "metadata": {},
     "execution_count": 3
    }
   ],
   "source": [
    "delta = np.array([data[i+1] - data[i] for i in range(int(len(data))-1)])\n",
    "delta, len(delta)"
   ]
  },
  {
   "cell_type": "code",
   "execution_count": 4,
   "metadata": {},
   "outputs": [
    {
     "output_type": "execute_result",
     "data": {
      "text/plain": " 0             27460\n 4096           7851\n 909517620      1849\n-909517620      1848\n 8192           1481\n               ...  \n-3833072           1\n 349797616         1\n-5403768464        1\n-568288            1\n 7770728296        1\nLength: 60247, dtype: int64"
     },
     "metadata": {},
     "execution_count": 4
    }
   ],
   "source": [
    "data_counts = pd.Series(data=delta.T).value_counts()\n",
    "data_counts"
   ]
  },
  {
   "cell_type": "code",
   "execution_count": 5,
   "metadata": {},
   "outputs": [],
   "source": [
    "def category_by_threshold(data_counts, threshold, sign=\"over\"):\n",
    "    if sign == \"under\":\n",
    "        category = (data_counts < threshold)\n",
    "    else:\n",
    "        category = (data_counts > threshold)\n",
    "    return category.index[category == True]"
   ]
  },
  {
   "cell_type": "code",
   "execution_count": 6,
   "metadata": {},
   "outputs": [],
   "source": [
    "def tokenizer(data, category, oov=-1):\n",
    "    data = data.copy()\n",
    "    mask = np.isin(data, category)\n",
    "    data[mask == False] = oov\n",
    "    return data"
   ]
  },
  {
   "cell_type": "code",
   "execution_count": 7,
   "metadata": {},
   "outputs": [
    {
     "output_type": "execute_result",
     "data": {
      "text/plain": "Int64Index([         0,       4096,  909517620, -909517620,       8192,\n                    -8,      -4096,          8,      12288,       2416,\n                 16384,         24,       3520,      -2744,        -12,\n                -12288,      20480,         32,         64,          6,\n                  4104,        -16,      24576,         28,       5280,\n                 -2884,      28672,         56,      -8192,        240,\n                  3904,       4092,      32768,       4128, -515913384,\n                 40960,  515913384,       4080,       -240,     172032,\n                 -8304,      90112,       3072,         16,      53248,\n                    -4,         44,          2,        432,      81920,\n                    48,     118784,       3936,     126976,       4112,\n                     4,       3856,     -16384,      11776,      61440,\n                  -432,        256,        -24,        -48,     -32768,\n                131072,      69632,     135168,      94208,     -20480,\n                 -4040,     241664,      -5888,     106496,      98304,\n                    76,         36,     274432,    -192512,      17664,\n                376832,       6144,     -61440,     184320,      77824,\n                 36864],\n           dtype='int64')"
     },
     "metadata": {},
     "execution_count": 7
    }
   ],
   "source": [
    "threshold = 50\n",
    "category_over_threshold = category_by_threshold(data_counts, threshold)\n",
    "category_over_threshold"
   ]
  },
  {
   "cell_type": "code",
   "execution_count": 8,
   "metadata": {},
   "outputs": [
    {
     "output_type": "execute_result",
     "data": {
      "text/plain": "Int64Index([     200704,          40,         -56,   -22654976,       -8216,\n                 180224,         320,      253952,        3664,         128,\n            ...\n            23798772186,    -5226320,    53839952,    87047968,    64855276,\n               -3833072,   349797616, -5403768464,     -568288,  7770728296],\n           dtype='int64', length=60158)"
     },
     "metadata": {},
     "execution_count": 8
    }
   ],
   "source": [
    "category_under_threshold = category_by_threshold(data_counts, threshold, sign='under')\n",
    "category_under_threshold"
   ]
  },
  {
   "cell_type": "code",
   "execution_count": 9,
   "metadata": {},
   "outputs": [
    {
     "output_type": "execute_result",
     "data": {
      "text/plain": "array([-93818644456, -93721537088, -93721111249, ...,  93757187984,\n        93794971648,  93848074068], dtype=int64)"
     },
     "metadata": {},
     "execution_count": 9
    }
   ],
   "source": [
    "np.sort(data_counts.index.to_numpy())"
   ]
  },
  {
   "cell_type": "code",
   "execution_count": 23,
   "metadata": {
    "tags": []
   },
   "outputs": [],
   "source": [
    "closest_category = []\n",
    "limit = 500     # Too many category under threshold\n",
    "for category in category_under_threshold[:limit].to_numpy():\n",
    "    closest_category.append(category_over_threshold[np.argmin(np.abs(category_over_threshold - category))])"
   ]
  },
  {
   "cell_type": "code",
   "execution_count": 20,
   "metadata": {},
   "outputs": [
    {
     "output_type": "execute_result",
     "data": {
      "text/plain": "(array([ 37849,  38072,  38234,  44832,  45450,  55025,  55207,  55354,\n         60981,  75330,  75517,  75664,  80809,  81335,  93987,  94175,\n         94321,  99561, 100174, 110783, 110970, 111116, 116343, 116923,\n        132392, 132609, 132769, 139183, 139755, 148301, 148481, 148626,\n        149816, 150340, 168045, 168231, 168376, 174194, 185031, 185218,\n        185365, 206024, 206211, 206356, 211615, 212219, 224501, 224686,\n        224832, 230070, 230658], dtype=int64),)"
     },
     "metadata": {},
     "execution_count": 20
    }
   ],
   "source": [
    "category_over_threshold_index_range = [np.where(delta == clst_ctg) for clst_ctg in closest_category]\n",
    "category_over_threshold_index_range[0]"
   ]
  },
  {
   "cell_type": "code",
   "execution_count": 22,
   "metadata": {
    "tags": []
   },
   "outputs": [],
   "source": [
    "category_over_threshold_range = []\n",
    "range_value = 8\n",
    "for category_over_threshold_index in category_over_threshold_index_range:\n",
    "    tmp = []\n",
    "    for idx in category_over_threshold_index[0]:\n",
    "        tmp.append(np.r_[delta[idx-range_value:idx], delta[idx:idx+range_value]])\n",
    "    category_over_threshold_range.append(np.array(tmp))"
   ]
  },
  {
   "cell_type": "code",
   "execution_count": 24,
   "metadata": {},
   "outputs": [
    {
     "output_type": "execute_result",
     "data": {
      "text/plain": "(array([ 37937,  39562,  39640,  39724,  45503,  55095,  56496,  56542,\n         56621,  61039,  75405,  76797,  76857,  76937,  81397,  94063,\n         95454,  95513,  95593, 110859, 112250, 112309, 112389, 116987,\n        132478, 134086, 134163, 134247, 139814, 148370, 150397, 168120,\n        169509, 169569, 169649, 185106, 186498, 186558, 186638, 206099,\n        207541, 207600, 207680, 212284, 224575, 225965, 226025, 226105,\n        230719], dtype=int64),)"
     },
     "metadata": {},
     "execution_count": 24
    }
   ],
   "source": [
    "category_under_threshold_index_range = [np.where(delta == ctg_udr) for ctg_udr in category_under_threshold[:limit]]\n",
    "category_under_threshold_index_range[0]"
   ]
  },
  {
   "cell_type": "code",
   "execution_count": 25,
   "metadata": {},
   "outputs": [],
   "source": [
    "category_under_threshold_range = []\n",
    "for category_under_threshold_index in category_under_threshold_index_range:\n",
    "    tmp = []\n",
    "    for idx in category_under_threshold_index[0]:\n",
    "        tmp.append(np.r_[delta[idx-range_value:idx], delta[idx:idx+range_value]])\n",
    "    category_under_threshold_range.append(np.array(tmp))"
   ]
  },
  {
   "cell_type": "code",
   "execution_count": 27,
   "metadata": {},
   "outputs": [
    {
     "output_type": "execute_result",
     "data": {
      "text/plain": "((51, 16), (49, 16))"
     },
     "metadata": {},
     "execution_count": 27
    }
   ],
   "source": [
    "category_over_threshold_range[0].shape, category_under_threshold_range[0].shape"
   ]
  },
  {
   "cell_type": "code",
   "execution_count": 28,
   "metadata": {},
   "outputs": [
    {
     "output_type": "execute_result",
     "data": {
      "text/plain": "(500, 500)"
     },
     "metadata": {},
     "execution_count": 28
    }
   ],
   "source": [
    "len(category_over_threshold_range), len(category_under_threshold_range)"
   ]
  },
  {
   "cell_type": "code",
   "execution_count": 29,
   "metadata": {
    "tags": []
   },
   "outputs": [],
   "source": [
    "from sklearn.metrics import mean_squared_error\n",
    "\n",
    "result = []\n",
    "for i in range(len(category_over_threshold_range)):\n",
    "    tmp = 0\n",
    "    for co in category_over_threshold_range[i]:\n",
    "        for cu in category_under_threshold_range[i]:\n",
    "            tmp =+ mean_squared_error(co, cu)\n",
    "    result.append(tmp/(category_over_threshold_range[i].shape[0] * category_under_threshold_range[i].shape[0]))"
   ]
  },
  {
   "cell_type": "code",
   "execution_count": 30,
   "metadata": {},
   "outputs": [
    {
     "output_type": "execute_result",
     "data": {
      "text/plain": "43555948543989.0"
     },
     "metadata": {},
     "execution_count": 30
    }
   ],
   "source": [
    "sum(result) // 500"
   ]
  },
  {
   "cell_type": "code",
   "execution_count": 35,
   "metadata": {},
   "outputs": [
    {
     "output_type": "execute_result",
     "data": {
      "text/plain": "(93848074068, -93818644456)"
     },
     "metadata": {},
     "execution_count": 35
    }
   ],
   "source": [
    "np.max(delta), np.min(delta)"
   ]
  },
  {
   "cell_type": "code",
   "execution_count": 46,
   "metadata": {},
   "outputs": [],
   "source": [
    "std_category_over_threshold_range = [(ctg_over_range - np.min(delta)) / (np.max(delta) - np.min(delta)) for ctg_over_range in category_over_threshold_range]\n",
    "std_category_under_threshold_range = [(ctg_under_range - np.min(delta)) / (np.max(delta) - np.min(delta)) for ctg_under_range in category_under_threshold_range]"
   ]
  },
  {
   "cell_type": "code",
   "execution_count": 48,
   "metadata": {},
   "outputs": [
    {
     "output_type": "execute_result",
     "data": {
      "text/plain": "(51, 16)"
     },
     "metadata": {},
     "execution_count": 48
    }
   ],
   "source": [
    "std_category_over_threshold_range[0].shape"
   ]
  },
  {
   "cell_type": "code",
   "execution_count": 51,
   "metadata": {},
   "outputs": [],
   "source": [
    "std_result = []\n",
    "for i in range(len(category_over_threshold_range)):\n",
    "    tmp = 0\n",
    "    for co in std_category_over_threshold_range[i]:\n",
    "        for cu in std_category_under_threshold_range[i]:\n",
    "            tmp =+ mean_squared_error(co, cu)\n",
    "    std_result.append(tmp/(category_over_threshold_range[i].shape[0] * category_under_threshold_range[i].shape[0]))"
   ]
  },
  {
   "cell_type": "code",
   "execution_count": 53,
   "metadata": {},
   "outputs": [
    {
     "output_type": "execute_result",
     "data": {
      "text/plain": "[8.76450127062856e-12,\n 1.738722756325822e-08,\n 1.3095584730352837e-06,\n 6.557616950238369e-10,\n 2.8356577251650906e-08,\n 9.226976151248326e-12,\n 4.3532589486238195e-06,\n 1.301631598970437e-11,\n 2.1134830214594638e-11,\n 7.762277745654994e-08]"
     },
     "metadata": {},
     "execution_count": 53
    }
   ],
   "source": [
    "std_result[:10]"
   ]
  },
  {
   "cell_type": "code",
   "execution_count": 55,
   "metadata": {},
   "outputs": [
    {
     "output_type": "execute_result",
     "data": {
      "text/plain": "3.85236965803474e-07"
     },
     "metadata": {},
     "execution_count": 55
    }
   ],
   "source": [
    "sum(std_result)/500"
   ]
  },
  {
   "cell_type": "code",
   "execution_count": null,
   "metadata": {},
   "outputs": [],
   "source": []
  }
 ]
}